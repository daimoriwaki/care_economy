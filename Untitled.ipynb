{
 "cells": [
  {
   "cell_type": "code",
   "execution_count": 3,
   "metadata": {},
   "outputs": [
    {
     "data": {
      "text/plain": [
       "2×8 Array{Int64,2}:\n",
       "  1   2   3   4   5   6   7   8\n",
       " 11  12  13  14  15  16  17  18"
      ]
     },
     "execution_count": 3,
     "metadata": {},
     "output_type": "execute_result"
    }
   ],
   "source": [
    "a = [1 2 3 4 5 6 7 8;\n",
    "11 12 13 14 15 16 17 18]"
   ]
  },
  {
   "cell_type": "code",
   "execution_count": 4,
   "metadata": {},
   "outputs": [
    {
     "data": {
      "text/plain": [
       "8×2 Array{Int64,2}:\n",
       " 1  11\n",
       " 2  12\n",
       " 3  13\n",
       " 4  14\n",
       " 5  15\n",
       " 6  16\n",
       " 7  17\n",
       " 8  18"
      ]
     },
     "execution_count": 4,
     "metadata": {},
     "output_type": "execute_result"
    }
   ],
   "source": [
    "transpose(a)"
   ]
  },
  {
   "cell_type": "code",
   "execution_count": 6,
   "metadata": {},
   "outputs": [
    {
     "data": {
      "text/plain": [
       "2×2×2×2 Array{Int64,4}:\n",
       "[:, :, 1, 1] =\n",
       "  1   2\n",
       " 11  12\n",
       "\n",
       "[:, :, 2, 1] =\n",
       "  3   4\n",
       " 13  14\n",
       "\n",
       "[:, :, 1, 2] =\n",
       "  5   6\n",
       " 15  16\n",
       "\n",
       "[:, :, 2, 2] =\n",
       "  7   8\n",
       " 17  18"
      ]
     },
     "execution_count": 6,
     "metadata": {},
     "output_type": "execute_result"
    }
   ],
   "source": [
    "reshape(a, 2, 2, 2, 2)"
   ]
  },
  {
   "cell_type": "code",
   "execution_count": null,
   "metadata": {
    "collapsed": true
   },
   "outputs": [],
   "source": []
  }
 ],
 "metadata": {
  "kernelspec": {
   "display_name": "Julia 0.5.2",
   "language": "julia",
   "name": "julia-0.5"
  },
  "language_info": {
   "file_extension": ".jl",
   "mimetype": "application/julia",
   "name": "julia",
   "version": "0.5.2"
  }
 },
 "nbformat": 4,
 "nbformat_minor": 2
}
