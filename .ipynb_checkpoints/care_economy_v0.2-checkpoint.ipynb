{
 "cells": [
  {
   "cell_type": "markdown",
   "metadata": {
    "slideshow": {
     "slide_type": "slide"
    }
   },
   "source": [
    "# Effect of Informal Care on Labor Supply: A Macroeconomic Perspective\n",
    "\n",
    "## 2018.3.12 ICES, Hosei University\n",
    "\n",
    "### Daisuke Moriwaki\n",
    "\n",
    "Cyberagent, Inc., AI Lab        \n",
    "Keio University, School of Medicine\n",
    "\n",
    "<daisuke.moriwaki@gmail.com>"
   ]
  },
  {
   "cell_type": "code",
   "execution_count": 33,
   "metadata": {},
   "outputs": [
    {
     "ename": "LoadError",
     "evalue": "\u001b[91mArgumentError: Module QuantEcon not found in current path.\nRun `Pkg.add(\"QuantEcon\")` to install the QuantEcon package.\u001b[39m",
     "output_type": "error",
     "traceback": [
      "\u001b[91mArgumentError: Module QuantEcon not found in current path.\nRun `Pkg.add(\"QuantEcon\")` to install the QuantEcon package.\u001b[39m",
      "",
      "Stacktrace:",
      " [1] \u001b[1m_require\u001b[22m\u001b[22m\u001b[1m(\u001b[22m\u001b[22m::Symbol\u001b[1m)\u001b[22m\u001b[22m at \u001b[1m./loading.jl:428\u001b[22m\u001b[22m",
      " [2] \u001b[1mrequire\u001b[22m\u001b[22m\u001b[1m(\u001b[22m\u001b[22m::Symbol\u001b[1m)\u001b[22m\u001b[22m at \u001b[1m./loading.jl:398\u001b[22m\u001b[22m",
      " [3] \u001b[1minclude_string\u001b[22m\u001b[22m\u001b[1m(\u001b[22m\u001b[22m::String, ::String\u001b[1m)\u001b[22m\u001b[22m at \u001b[1m./loading.jl:515\u001b[22m\u001b[22m"
     ]
    }
   ],
   "source": [
    "using QuantEcon\n",
    "using Plots\n",
    "using Interpolations\n",
    "using Distributions"
   ]
  },
  {
   "cell_type": "markdown",
   "metadata": {
    "slideshow": {
     "slide_type": "slide"
    }
   },
   "source": [
    "# Motivation\n",
    "* Increase in the number of care recievers in Japan is inevitable. On the other hand, the human and financial resource that we can spend on care givers is getting scarse.\n",
    "* It is easy to predict that \"caregiver ratio\" (the number of caregivers per one care receiver) explodes in the near future."
   ]
  },
  {
   "cell_type": "markdown",
   "metadata": {
    "slideshow": {
     "slide_type": "slide"
    }
   },
   "source": [
    "* The explosion of caregiver ratio cause several problems\n",
    "    * insufficient care for elderly (insufficient availability of cheap nursing home, tokuyo)\n",
    "    * Poverty due to care-leave for frail older family\n",
    "    * Financial Problem for both national government and local administration\n",
    "    * *Economy itself* due to less labor supply\n",
    "* Such a wide range of problem should be tackled by macroeconomic model rather than causality studies."
   ]
  },
  {
   "cell_type": "markdown",
   "metadata": {
    "slideshow": {
     "slide_type": "slide"
    }
   },
   "source": [
    "# Literature\n",
    "\n",
    "## labor supply and informal care\n",
    "\n",
    "* moriwaki (2015, mimeo) finds negative effect from informal care only for male."
   ]
  },
  {
   "cell_type": "markdown",
   "metadata": {},
   "source": [
    "## care and macro economy\n",
    "\n",
    "\n",
    "## heterogeneous agent and social security programs\n",
    "* Li (EER, 2018)\n",
    "* Kitao"
   ]
  },
  {
   "cell_type": "markdown",
   "metadata": {
    "slideshow": {
     "slide_type": "slide"
    }
   },
   "source": [
    "# Setting"
   ]
  },
  {
   "cell_type": "markdown",
   "metadata": {
    "slideshow": {
     "slide_type": "slide"
    }
   },
   "source": [
    "## Household\n",
    "\n",
    "* you may consider either single households without gender and unknown re-production technique or many households with couples and kids where income, assets, health, and time endowment is shared. More realistic modelling is listed as future study\n",
    "* 5 status space\n",
    "    * age from 20 to 99 (5 year interval)\n",
    "    * health status from 0 to 1. health with 0.1 or below becomes a care receiver.\n",
    "    * wage rate is exogenous. Given wage rate, labor supply is endogeneous.\n",
    "    * asset\n",
    "    * *care* status; how many hours the household must spend for caring older frail family"
   ]
  },
  {
   "cell_type": "markdown",
   "metadata": {
    "slideshow": {
     "slide_type": "slide"
    }
   },
   "source": [
    "## Preference\n",
    "* simple utility function. setting is same as Yue (2018, EER)"
   ]
  },
  {
   "cell_type": "code",
   "execution_count": 34,
   "metadata": {},
   "outputs": [
    {
     "data": {
      "text/plain": [
       "util (generic function with 3 methods)"
      ]
     },
     "execution_count": 34,
     "metadata": {},
     "output_type": "execute_result"
    }
   ],
   "source": [
    "function util(c::Real, l::Real,chi::Real = 0.4, sigma::Real = 0.28) # chi = 0.4\n",
    "    ((c^(1-chi)*(l^chi))^(1-sigma))/(1 - sigma)\n",
    "end"
   ]
  },
  {
   "cell_type": "markdown",
   "metadata": {
    "slideshow": {
     "slide_type": "slide"
    }
   },
   "source": [
    "## consumption\n",
    "* consumption is deterimined by assets, income and saving\n",
    "* there is a social assistence for the poor"
   ]
  },
  {
   "cell_type": "markdown",
   "metadata": {
    "slideshow": {
     "slide_type": "subslide"
    }
   },
   "source": [
    "## income\n",
    "* income is determined by hourking hour in market and tax\n"
   ]
  },
  {
   "cell_type": "markdown",
   "metadata": {
    "slideshow": {
     "slide_type": "slide"
    }
   },
   "source": [
    "## labor supply\n",
    "* labor supply is endogeneous\n",
    "* healthy household optimizes labor supply as well as consumption (saving) for given time endowment\n",
    "* time endowment is varying across agent due to informal care\n",
    "* From the first order condition $l = c(1 - \\tau)w \\frac{\\chi}{1 - \\chi}$"
   ]
  },
  {
   "cell_type": "markdown",
   "metadata": {
    "slideshow": {
     "slide_type": "slide"
    }
   },
   "source": [
    "## Informal care\n",
    "* Population is devided by health status. One is (potential) caregivers who are healthy enough to provide care to family, the other is care receivers who needs care from either/both formal or/and informal caregivers.\n",
    "* Suppose most of the households prefer formal care, e.g. nursing home, to informal care at home. Then informal care occurs only when formal care provision is insufficient and this is exactly the case in Japan.\n",
    "* Informal care is defined as unmet care demand from carereceivers. Informal care is distributed romdomly to caregivers according to caregivers' age."
   ]
  },
  {
   "cell_type": "markdown",
   "metadata": {
    "slideshow": {
     "slide_type": "slide"
    }
   },
   "source": [
    "## Government\n",
    "* government provide insufficient formal care funded by social security premium contributed by working age, which is resemble to Japanese LTCI\n",
    "* cost of formal care is determined by personal expenses of informal care worker"
   ]
  },
  {
   "cell_type": "markdown",
   "metadata": {},
   "source": [
    "# Others\n",
    "* wage ($w$) and capital cost $r$ is arbitrary determined by the nature (me).\n",
    "* thus no equillibrium condition holds so far.\n",
    "* $r = 0.01$, $\\mathbb{E}(w) = 1$"
   ]
  },
  {
   "cell_type": "markdown",
   "metadata": {},
   "source": [
    "## Quantitative Excercise\n",
    "* The model is simulated with parameters set to values taken from existing literature.\n",
    "* Unfortunately, I can only show the result of toy model so far."
   ]
  },
  {
   "cell_type": "markdown",
   "metadata": {},
   "source": [
    "## The toy model\n",
    "* Households have only three period: young, middle, and old\n",
    "* Young work only in the market and not give care.\n",
    "* Middle work both in home and the market, but does not receive care.\n",
    "* Old does not work.\n",
    "* Wage is stochastic without persistent shocks.\n",
    "* "
   ]
  },
  {
   "cell_type": "code",
   "execution_count": 35,
   "metadata": {},
   "outputs": [
    {
     "data": {
      "text/plain": [
       "0.7"
      ]
     },
     "execution_count": 35,
     "metadata": {},
     "output_type": "execute_result"
    }
   ],
   "source": [
    "r = 0.0\n",
    "tau = 0.1 # income tax\n",
    "beta = 0.9 # discount rate\n",
    "rep_rate = 0.5 # replacement rate\n",
    "NH_rate = 0.9 # government formal care provision rate. ratio to needed care\n",
    "wage_care = 0.7 # care workers' wage rate. ratio to all industry"
   ]
  },
  {
   "cell_type": "code",
   "execution_count": 36,
   "metadata": {},
   "outputs": [
    {
     "data": {
      "text/plain": [
       "value_for_old (generic function with 1 method)"
      ]
     },
     "execution_count": 36,
     "metadata": {},
     "output_type": "execute_result"
    }
   ],
   "source": [
    "# calculating utility for old given asset and benefit\n",
    "# need calculation for average_wage\n",
    "function value_for_old(a::Real, average_wage::Real, health::Real)\n",
    "    if health <= 0\n",
    "        return 0\n",
    "    else\n",
    "        b = rep_rate*average_wage # pension benefit\n",
    "        return util((a*(1 + r) + b), 1)\n",
    "    end\n",
    "end"
   ]
  },
  {
   "cell_type": "code",
   "execution_count": null,
   "metadata": {
    "collapsed": true
   },
   "outputs": [],
   "source": []
  },
  {
   "cell_type": "code",
   "execution_count": 37,
   "metadata": {},
   "outputs": [
    {
     "data": {
      "text/plain": [
       "value_for_middle (generic function with 3 methods)"
      ]
     },
     "execution_count": 37,
     "metadata": {},
     "output_type": "execute_result"
    }
   ],
   "source": [
    "# caluculating value for middle\n",
    "# need calculaation for average wage\n",
    "function value_for_middle(a_new::Real, l::Real, a::Real, w::Real, h_H::Real, v_new::Real, tau::Real = tau, beta::Real = beta)\n",
    "    y = w*(1 - tau)*(1 - h_H - l)\n",
    "    #c = -100\n",
    "    c = (1 + r)*a + y - a_new\n",
    "    if c <= 0  || l <= 0 || 1 - h_H - l < 0\n",
    "        v = -100\n",
    "    else\n",
    "        v = util(c, l) + beta*v_new\n",
    "    end\n",
    "    return v, a_new, l, a, w, h_H, y, c\n",
    "end"
   ]
  },
  {
   "cell_type": "code",
   "execution_count": 38,
   "metadata": {
    "collapsed": true
   },
   "outputs": [],
   "source": [
    "# maximize value for middle given asset, wage and informal care\n",
    "# row is new_asset x leisure\n",
    "# column is wage x h_H x asset\n",
    "\n",
    "min_asset = 0;\n",
    "max_asset = 10;\n",
    "min_wage = 0;\n",
    "max_wage = 10;\n",
    "min_h_H =0;\n",
    "max_h_H = 1;\n",
    "num_grid = 9; #9\n",
    "min_l = 0;\n",
    "max_l = 1;\n",
    "asset_grid = linspace(min_asset, max_asset, num_grid);\n",
    "wage_grid = linspace(min_wage, max_wage, num_grid);\n",
    "h_H_grid = linspace(min_h_H, max_h_H, num_grid);\n",
    "l_grid = linspace(min_l, max_l, num_grid);"
   ]
  },
  {
   "cell_type": "code",
   "execution_count": 39,
   "metadata": {},
   "outputs": [
    {
     "data": {
      "text/plain": [
       "generate_max_values_matrix (generic function with 6 methods)"
      ]
     },
     "execution_count": 39,
     "metadata": {},
     "output_type": "execute_result"
    }
   ],
   "source": [
    "# calculate value for each input and return maximum value for each\n",
    "# warinig: no interpolation embeded!\n",
    "function generate_max_values_matrix(value_function::Function, asset_grid::LinSpace = asset_grid, l_grid::LinSpace = l_grid, wage_grid::LinSpace = wage_grid, \n",
    "        h_H_grid::LinSpace = h_H_grid, num_grid::Int = num_grid)\n",
    "    # initializing matrices\n",
    "    value_matrix = zeros(num_grid^2, num_grid^3);\n",
    "    c_mat = zeros(num_grid^2, num_grid^3);\n",
    "    l_mat = zeros(num_grid^2, num_grid^3);\n",
    "    y_mat = zeros(num_grid^2, num_grid^3);\n",
    "    a_new_mat = ones(num_grid^2, num_grid^3);\n",
    "    w_mat = zeros(num_grid^2, num_grid^3);\n",
    "    a_mat = zeros(num_grid^2, num_grid^3);\n",
    "    h_H_mat = zeros(num_grid^2, num_grid^3);\n",
    "    for i = 1:num_grid\n",
    "        for j = 1:num_grid\n",
    "            for k = 1:num_grid\n",
    "                for m = 1:num_grid\n",
    "                    for n = 1:num_grid\n",
    "                        result = value_function(asset_grid[i], l_grid[j], asset_grid[k], wage_grid[m], h_H_grid[n])\n",
    "                        value_matrix[i + (j - 1)num_grid, k + (m - 1)num_grid + (n - 1)num_grid^2] = result[1]\n",
    "                        a_new_mat[i + (j - 1)num_grid, k + (m - 1)num_grid + (n - 1)num_grid^2] = result[2]\n",
    "                        l_mat[i + (j - 1)num_grid, k + (m - 1)num_grid + (n - 1)num_grid^2] = result[3]\n",
    "                        a_mat[i + (j - 1)num_grid, k + (m - 1)num_grid + (n - 1)num_grid^2] = result[4]\n",
    "                        w_mat[i + (j - 1)num_grid, k + (m - 1)num_grid + (n - 1)num_grid^2] = result[5]\n",
    "                        h_H_mat[i + (j - 1)num_grid, k + (m - 1)num_grid + (n - 1)num_grid^2] = result[6]\n",
    "                        y_mat[i + (j - 1)num_grid, k + (m - 1)num_grid + (n - 1)num_grid^2] = result[7]\n",
    "                        c_mat[i + (j - 1)num_grid, k + (m - 1)num_grid + (n - 1)num_grid^2]  = result[8]\n",
    "                    end\n",
    "                end\n",
    "            end\n",
    "        end\n",
    "    end\n",
    "    # get max value for each asset, wage, h_H. maximizing with respect to new asset and leisure\n",
    "    #max_value = maximum(value_matrix, 1)\n",
    "    max_value, max_ind = findmax(value_matrix, 1)\n",
    "    # reshape value matrix to asset_grid x (w x h_H)\n",
    "    # this should be fix throughout the imulation\n",
    "    max_values_reshaped = reshape(max_value, num_grid, num_grid^2);\n",
    "    return max_values_reshaped, max_ind, a_new_mat, l_mat, a_mat, w_mat, h_H_mat, y_mat, c_mat\n",
    "end\n"
   ]
  },
  {
   "cell_type": "code",
   "execution_count": 40,
   "metadata": {},
   "outputs": [
    {
     "ename": "LoadError",
     "evalue": "\u001b[91mMethodError: no method matching generate_max_values_matrix(::#value_for_middle, ::StepRangeLen{Float64,Base.TwicePrecision{Float64},Base.TwicePrecision{Float64}})\u001b[0m\nClosest candidates are:\n  generate_max_values_matrix(::Function) at In[39]:6\n  generate_max_values_matrix(::Function, \u001b[91m::LinSpace\u001b[39m) at In[39]:6\n  generate_max_values_matrix(::Function, \u001b[91m::LinSpace\u001b[39m, \u001b[91m::LinSpace\u001b[39m) at In[39]:6\n  ...\u001b[39m",
     "output_type": "error",
     "traceback": [
      "\u001b[91mMethodError: no method matching generate_max_values_matrix(::#value_for_middle, ::StepRangeLen{Float64,Base.TwicePrecision{Float64},Base.TwicePrecision{Float64}})\u001b[0m\nClosest candidates are:\n  generate_max_values_matrix(::Function) at In[39]:6\n  generate_max_values_matrix(::Function, \u001b[91m::LinSpace\u001b[39m) at In[39]:6\n  generate_max_values_matrix(::Function, \u001b[91m::LinSpace\u001b[39m, \u001b[91m::LinSpace\u001b[39m) at In[39]:6\n  ...\u001b[39m",
      "",
      "Stacktrace:",
      " [1] \u001b[1mgenerate_max_values_matrix\u001b[22m\u001b[22m\u001b[1m(\u001b[22m\u001b[22m::Function\u001b[1m)\u001b[22m\u001b[22m at \u001b[1m./In[39]:6\u001b[22m\u001b[22m",
      " [2] \u001b[1minclude_string\u001b[22m\u001b[22m\u001b[1m(\u001b[22m\u001b[22m::String, ::String\u001b[1m)\u001b[22m\u001b[22m at \u001b[1m./loading.jl:515\u001b[22m\u001b[22m"
     ]
    }
   ],
   "source": [
    "# get policy function for a_new, h_M (Labor supply), c, \n",
    "max_values_reshaped, max_ind, a_new_mat, l_mat, a_mat, w_mat, h_H_mat, y_mat, c_mat = generate_max_values_matrix(value_for_middle);\n",
    "# policy function for new asset\n",
    "a_new_pol_middle = a_new_mat[max_ind]\n",
    "# policy function for labor supply\n",
    "l_pol_middle = l_mat[max_ind]\n",
    "h_M_pol_middle = 1 - l_pol_middle - reshape(h_H_mat[1, :], 1, num_grid^3)\n",
    "c_pol_middle = c_mat[max_ind]\n",
    "# policy function for new asset\n",
    "#a_new_pol = a_new_mat[max_ind]\n",
    "# policy function for new asset\n",
    "#a_new_pol = a_new_mat[max_ind]\n"
   ]
  },
  {
   "cell_type": "code",
   "execution_count": 41,
   "metadata": {},
   "outputs": [
    {
     "ename": "LoadError",
     "evalue": "\u001b[91mUndefVarError: plot not defined\u001b[39m",
     "output_type": "error",
     "traceback": [
      "\u001b[91mUndefVarError: plot not defined\u001b[39m",
      "",
      "Stacktrace:",
      " [1] \u001b[1minclude_string\u001b[22m\u001b[22m\u001b[1m(\u001b[22m\u001b[22m::String, ::String\u001b[1m)\u001b[22m\u001b[22m at \u001b[1m./loading.jl:515\u001b[22m\u001b[22m"
     ]
    }
   ],
   "source": [
    "plot(reshape(c_pol_middle, 729, 1))\n",
    "#plot(hcat(reshape(w_mat[1,:], 729,1), reshape(l_pol_middle, 729, 1)))"
   ]
  },
  {
   "cell_type": "code",
   "execution_count": 42,
   "metadata": {},
   "outputs": [
    {
     "name": "stderr",
     "output_type": "stream",
     "text": [
      "\u001b[1m\u001b[33mWARNING: \u001b[39m\u001b[22m\u001b[33mreplacing docs for 'get_float_index :: Union{Tuple{Real,LinSpace,Int64}, Tuple{Real,LinSpace}}' in module 'Main'.\u001b[39m\n"
     ]
    },
    {
     "data": {
      "text/plain": [
       "get_float_index"
      ]
     },
     "execution_count": 42,
     "metadata": {},
     "output_type": "execute_result"
    }
   ],
   "source": [
    "# need to be removed after get_value_for_middle_with_uncertainty is modified.\n",
    "\n",
    "\"get index for a value between grid point\"\n",
    "function get_float_index(x::Real, grid::LinSpace, num_grid::Int = num_grid)\n",
    "# get floating index from asset grid for given scalar asset level\n",
    "    if x < grid[1]\n",
    "        return 1\n",
    "    end\n",
    "    if x> grid[num_grid]       \n",
    "        return num_grid\n",
    "    end\n",
    "    for i = 1:num_grid\n",
    "        if x >= grid[i]\n",
    "            return i + (x - grid[i])/(grid[i+1] - grid[i])\n",
    "        end\n",
    "    end\n",
    "end"
   ]
  },
  {
   "cell_type": "code",
   "execution_count": 43,
   "metadata": {},
   "outputs": [
    {
     "ename": "LoadError",
     "evalue": "\u001b[91mMethodError: no method matching generate_max_values_matrix(::#value_for_middle, ::StepRangeLen{Float64,Base.TwicePrecision{Float64},Base.TwicePrecision{Float64}})\u001b[0m\nClosest candidates are:\n  generate_max_values_matrix(::Function) at In[39]:6\n  generate_max_values_matrix(::Function, \u001b[91m::LinSpace\u001b[39m) at In[39]:6\n  generate_max_values_matrix(::Function, \u001b[91m::LinSpace\u001b[39m, \u001b[91m::LinSpace\u001b[39m) at In[39]:6\n  ...\u001b[39m",
     "output_type": "error",
     "traceback": [
      "\u001b[91mMethodError: no method matching generate_max_values_matrix(::#value_for_middle, ::StepRangeLen{Float64,Base.TwicePrecision{Float64},Base.TwicePrecision{Float64}})\u001b[0m\nClosest candidates are:\n  generate_max_values_matrix(::Function) at In[39]:6\n  generate_max_values_matrix(::Function, \u001b[91m::LinSpace\u001b[39m) at In[39]:6\n  generate_max_values_matrix(::Function, \u001b[91m::LinSpace\u001b[39m, \u001b[91m::LinSpace\u001b[39m) at In[39]:6\n  ...\u001b[39m",
      "",
      "Stacktrace:",
      " [1] \u001b[1mgenerate_max_values_matrix\u001b[22m\u001b[22m\u001b[1m(\u001b[22m\u001b[22m::Function\u001b[1m)\u001b[22m\u001b[22m at \u001b[1m./In[39]:6\u001b[22m\u001b[22m",
      " [2] \u001b[1minclude_string\u001b[22m\u001b[22m\u001b[1m(\u001b[22m\u001b[22m::String, ::String\u001b[1m)\u001b[22m\u001b[22m at \u001b[1m./loading.jl:515\u001b[22m\u001b[22m"
     ]
    }
   ],
   "source": [
    "max_values_matrix = generate_max_values_matrix(value_for_middle)[1]"
   ]
  },
  {
   "cell_type": "code",
   "execution_count": 44,
   "metadata": {},
   "outputs": [
    {
     "data": {
      "text/plain": [
       "get_value_for_middle_with_uncertainty (generic function with 3 methods)"
      ]
     },
     "execution_count": 44,
     "metadata": {},
     "output_type": "execute_result"
    }
   ],
   "source": [
    "############ need refactoring. interpolate accept \"gridded\" interpolation that replace get_float_index function!!!!!!!!!!!!!!!!!\n",
    "\n",
    "# interpolation for a (new asset for young, asset in the last period for middle)\n",
    "# get a = a_new and return value for middle with uncertainty\n",
    "function get_value_for_middle_with_uncertainty(a_new::Real, asset_grid::LinSpace = asset_grid, max_values_matrix = max_values_matrix)\n",
    "    v = zeros(num_grid^2, 1)\n",
    "    a_new_ind = get_float_index(a_new, asset_grid) # get index of asset level in asset grid\n",
    "    for i = 1:size(max_values_matrix, 2)\n",
    "        itp = interpolate(max_values_matrix[:,i],BSpline(Linear()), OnGrid())\n",
    "        v[i] = itp[a_new_ind]\n",
    "    end\n",
    "    return v\n",
    "end"
   ]
  },
  {
   "cell_type": "code",
   "execution_count": 45,
   "metadata": {
    "collapsed": true
   },
   "outputs": [],
   "source": [
    "#plotly()\n",
    "#plot(value_for_middle_mat[:, 30])\n",
    "#plot(reshape(max_values, num_grid^3, 1))\n",
    "#plot(max_values_reshaped)\n"
   ]
  },
  {
   "cell_type": "markdown",
   "metadata": {},
   "source": [
    "## Distribution \n",
    "* assign probability distributions for wage and care need to each bin arbitrary\n",
    "* wage follows lognormal, care need follow gamma distribution"
   ]
  },
  {
   "cell_type": "code",
   "execution_count": 46,
   "metadata": {},
   "outputs": [
    {
     "data": {
      "text/plain": [
       "get_Q (generic function with 2 methods)"
      ]
     },
     "execution_count": 46,
     "metadata": {},
     "output_type": "execute_result"
    }
   ],
   "source": [
    "# generate probability distribution for w and h_H\n",
    "# wage is distributed according to Gauss\n",
    "\n",
    "\n",
    "# calcurate probability at midpoint between each grid \n",
    "function get_Q(dist, grid::LinSpace, num_grid::Int=num_grid)\n",
    "    Q = zeros(num_grid, 1)\n",
    "    for i in 1:num_grid\n",
    "        if i == 1\n",
    "            Q[i] = cdf(dist, (grid[i] + grid[i + 1])/2)\n",
    "        end\n",
    "        if i == num_grid\n",
    "            Q[i] = 1 - cdf(dist, (grid[i - 1] + grid[i])/2) \n",
    "        end\n",
    "        if i > 1 && i < num_grid\n",
    "            Q[i] = cdf(dist, (grid[i] + grid[i + 1])/2) - cdf(dist, (grid[i - 1] + grid[i])/2)\n",
    "        end\n",
    "    end\n",
    "    return Q\n",
    "end\n",
    "\n"
   ]
  },
  {
   "cell_type": "code",
   "execution_count": 47,
   "metadata": {},
   "outputs": [
    {
     "ename": "LoadError",
     "evalue": "\u001b[91mUndefVarError: LogNormal not defined\u001b[39m",
     "output_type": "error",
     "traceback": [
      "\u001b[91mUndefVarError: LogNormal not defined\u001b[39m",
      "",
      "Stacktrace:",
      " [1] \u001b[1minclude_string\u001b[22m\u001b[22m\u001b[1m(\u001b[22m\u001b[22m::String, ::String\u001b[1m)\u001b[22m\u001b[22m at \u001b[1m./loading.jl:515\u001b[22m\u001b[22m"
     ]
    }
   ],
   "source": [
    "w_dist = LogNormal(0.5, 0.5)\n",
    "h_H_dist = Gamma(0.6, 0.1) # Gamma(0.5, 0.1)\n",
    "\n",
    "# generate Q\n",
    "Q_h_H = get_Q(h_H_dist, h_H_grid);\n",
    "Q_w = get_Q(w_dist, wage_grid);\n",
    "Q = kron(Q_w, Q_h_H);"
   ]
  },
  {
   "cell_type": "code",
   "execution_count": 48,
   "metadata": {},
   "outputs": [
    {
     "data": {
      "text/plain": [
       "value_for_young (generic function with 13 methods)"
      ]
     },
     "execution_count": 48,
     "metadata": {},
     "output_type": "execute_result"
    }
   ],
   "source": [
    "# calculating value for young\n",
    "function value_for_young(a_new::Real, l::Real, w::Real, Q::Array{Float64, 2}=Q, max_values_matrix::Array{Real, 2}=max_values_matrix, a::Real = 0, h_H::Real = 0, asset_grid::LinSpace = asset_grid, tau::Real = tau, beta::Real = beta)\n",
    "    y = w*(1 - tau)*(1 - h_H - l)\n",
    "    #c = -100\n",
    "    c = (1 + r)*a + y - a_new\n",
    "    if l < 0 || c < 0 || h_H + l > 1 || h_H + l < 0\n",
    "        v = -10000\n",
    "    else\n",
    "        v = util(c, l) + beta*dot(Q, get_value_for_middle_with_uncertainty(a_new, asset_grid, max_values_matrix))\n",
    "    end\n",
    "return v, a_new, l, a, w, h_H, y, c\n",
    "end"
   ]
  },
  {
   "cell_type": "code",
   "execution_count": 49,
   "metadata": {},
   "outputs": [
    {
     "data": {
      "text/plain": [
       "value_for_young (generic function with 13 methods)"
      ]
     },
     "execution_count": 49,
     "metadata": {},
     "output_type": "execute_result"
    }
   ],
   "source": [
    "# calculating value for young\n",
    "function value_for_young(a_new::Real, l::Real,  a::Real, w::Real, h_H::Real, v_new, Q = Q, asset_grid::LinSpace = asset_grid, tau::Real = tau, beta::Real = beta)\n",
    "    y = w*(1 - tau)*(1 - h_H - l)\n",
    "    #c = -100\n",
    "    c = (1 + r)*a + y - a_new\n",
    "    if l < 0 || c < 0 || h_H + l > 1 || h_H + l < 0\n",
    "        v = -100\n",
    "    else\n",
    "        v = util(c, l) + beta*dot(v_new, Q)\n",
    "    end\n",
    "return  v, a_new, l, a, w, h_H, y, c\n",
    "end"
   ]
  },
  {
   "cell_type": "code",
   "execution_count": 50,
   "metadata": {},
   "outputs": [
    {
     "ename": "LoadError",
     "evalue": "\u001b[91mMethodError: no method matching get_value_for_middle_with_uncertainty(::Float64, ::StepRangeLen{Float64,Base.TwicePrecision{Float64},Base.TwicePrecision{Float64}})\u001b[0m\nClosest candidates are:\n  get_value_for_middle_with_uncertainty(::Real) at In[44]:6\n  get_value_for_middle_with_uncertainty(::Real, \u001b[91m::LinSpace\u001b[39m) at In[44]:6\n  get_value_for_middle_with_uncertainty(::Real, \u001b[91m::LinSpace\u001b[39m, \u001b[91m::Any\u001b[39m) at In[44]:6\u001b[39m",
     "output_type": "error",
     "traceback": [
      "\u001b[91mMethodError: no method matching get_value_for_middle_with_uncertainty(::Float64, ::StepRangeLen{Float64,Base.TwicePrecision{Float64},Base.TwicePrecision{Float64}})\u001b[0m\nClosest candidates are:\n  get_value_for_middle_with_uncertainty(::Real) at In[44]:6\n  get_value_for_middle_with_uncertainty(::Real, \u001b[91m::LinSpace\u001b[39m) at In[44]:6\n  get_value_for_middle_with_uncertainty(::Real, \u001b[91m::LinSpace\u001b[39m, \u001b[91m::Any\u001b[39m) at In[44]:6\u001b[39m",
      "",
      "Stacktrace:",
      " [1] \u001b[1mget_value_for_middle_with_uncertainty\u001b[22m\u001b[22m\u001b[1m(\u001b[22m\u001b[22m::Float64\u001b[1m)\u001b[22m\u001b[22m at \u001b[1m./In[44]:6\u001b[22m\u001b[22m",
      " [2] \u001b[1mmacro expansion\u001b[22m\u001b[22m at \u001b[1m./In[50]:17\u001b[22m\u001b[22m [inlined]",
      " [3] \u001b[1manonymous\u001b[22m\u001b[22m at \u001b[1m./<missing>:?\u001b[22m\u001b[22m",
      " [4] \u001b[1minclude_string\u001b[22m\u001b[22m\u001b[1m(\u001b[22m\u001b[22m::String, ::String\u001b[1m)\u001b[22m\u001b[22m at \u001b[1m./loading.jl:515\u001b[22m\u001b[22m"
     ]
    }
   ],
   "source": [
    "# caluculate value for young \n",
    "\n",
    "\n",
    "value_matrix = zeros(num_grid^2, num_grid^3);\n",
    "c_mat = zeros(num_grid^2, num_grid^3);\n",
    "l_mat = zeros(num_grid^2, num_grid^3);\n",
    "y_mat = zeros(num_grid^2, num_grid^3);\n",
    "a_new_mat = ones(num_grid^2, num_grid^3);\n",
    "w_mat = zeros(num_grid^2, num_grid^3);\n",
    "a_mat = zeros(num_grid^2, num_grid^3);\n",
    "h_H_mat = zeros(num_grid^2, num_grid^3);\n",
    "for i = 1:num_grid\n",
    "    for j = 1:num_grid\n",
    "        for k = 1:num_grid\n",
    "            for m = 1:num_grid\n",
    "                for n = 1:num_grid\n",
    "                    v_new = get_value_for_middle_with_uncertainty(asset_grid[i])# value for middle with uncertainty\n",
    "                    result = value_for_young(0, l_grid[j], 0, wage_grid[m], 0, v_new)\n",
    "                    value_matrix[i + (j - 1)num_grid, k + (m - 1)num_grid + (n - 1)num_grid^2] = result[1]\n",
    "                    a_new_mat[i + (j - 1)num_grid, k + (m - 1)num_grid + (n - 1)num_grid^2] = result[2]\n",
    "                    l_mat[i + (j - 1)num_grid, k + (m - 1)num_grid + (n - 1)num_grid^2] = result[3]\n",
    "                    a_mat[i + (j - 1)num_grid, k + (m - 1)num_grid + (n - 1)num_grid^2] = result[4]\n",
    "                    w_mat[i + (j - 1)num_grid, k + (m - 1)num_grid + (n - 1)num_grid^2] = result[5]\n",
    "                    h_H_mat[i + (j - 1)num_grid, k + (m - 1)num_grid + (n - 1)num_grid^2] = result[6]\n",
    "                    y_mat[i + (j - 1)num_grid, k + (m - 1)num_grid + (n - 1)num_grid^2] = result[7]\n",
    "                    c_mat[i + (j - 1)num_grid, k + (m - 1)num_grid + (n - 1)num_grid^2]  = result[8]\n",
    "                end\n",
    "            end\n",
    "        end\n",
    "    end\n",
    "end\n",
    "# get max value for each asset, wage, h_H. maximizing with respect to new asset and leisure\n",
    "max_value, max_ind = findmax(value_matrix, 1)\n",
    "# reshape value matrix to asset_grid x (w x h_H)\n",
    "# this should be fix throughout the imulation\n",
    "max_values_reshaped = reshape(max_value, num_grid, num_grid^2);"
   ]
  },
  {
   "cell_type": "code",
   "execution_count": 51,
   "metadata": {},
   "outputs": [
    {
     "ename": "LoadError",
     "evalue": "\u001b[91mUndefVarError: max_ind not defined\u001b[39m",
     "output_type": "error",
     "traceback": [
      "\u001b[91mUndefVarError: max_ind not defined\u001b[39m",
      "",
      "Stacktrace:",
      " [1] \u001b[1minclude_string\u001b[22m\u001b[22m\u001b[1m(\u001b[22m\u001b[22m::String, ::String\u001b[1m)\u001b[22m\u001b[22m at \u001b[1m./loading.jl:515\u001b[22m\u001b[22m"
     ]
    }
   ],
   "source": [
    "# get policy function for a_new, h_M (Labor supply), c, \n",
    "# policy function for new asset\n",
    "a_new_pol_young = a_new_mat[max_ind]\n",
    "# policy function for labor supply\n",
    "l_pol_young = l_mat[max_ind]\n",
    "h_M_pol_young = 1 - l_pol_young - reshape(h_H_mat[1, :], 1, num_grid^3)\n",
    "c_pol_young = c_mat[max_ind]\n",
    "# policy function for new asset\n",
    "#a_new_pol = a_new_mat[max_ind]\n",
    "# policy function for new asset\n",
    "#a_new_pol = a_new_mat[max_ind]"
   ]
  },
  {
   "cell_type": "code",
   "execution_count": 52,
   "metadata": {},
   "outputs": [
    {
     "ename": "LoadError",
     "evalue": "\u001b[91mUndefVarError: h_M_pol_young not defined\u001b[39m",
     "output_type": "error",
     "traceback": [
      "\u001b[91mUndefVarError: h_M_pol_young not defined\u001b[39m",
      "",
      "Stacktrace:",
      " [1] \u001b[1minclude_string\u001b[22m\u001b[22m\u001b[1m(\u001b[22m\u001b[22m::String, ::String\u001b[1m)\u001b[22m\u001b[22m at \u001b[1m./loading.jl:515\u001b[22m\u001b[22m"
     ]
    }
   ],
   "source": [
    "h_M_pol_young"
   ]
  },
  {
   "cell_type": "code",
   "execution_count": 53,
   "metadata": {},
   "outputs": [
    {
     "ename": "LoadError",
     "evalue": "\u001b[91mUndefVarError: max_values_reshaped not defined\u001b[39m",
     "output_type": "error",
     "traceback": [
      "\u001b[91mUndefVarError: max_values_reshaped not defined\u001b[39m",
      "",
      "Stacktrace:",
      " [1] \u001b[1minclude_string\u001b[22m\u001b[22m\u001b[1m(\u001b[22m\u001b[22m::String, ::String\u001b[1m)\u001b[22m\u001b[22m at \u001b[1m./loading.jl:515\u001b[22m\u001b[22m"
     ]
    }
   ],
   "source": [
    "max_values_reshaped"
   ]
  },
  {
   "cell_type": "code",
   "execution_count": 54,
   "metadata": {},
   "outputs": [
    {
     "name": "stdout",
     "output_type": "stream",
     "text": [
      "search: \u001b[1mf\u001b[22m\u001b[1mi\u001b[22m\u001b[1mn\u001b[22m\u001b[1md\u001b[22m\u001b[1mm\u001b[22m\u001b[1ma\u001b[22m\u001b[1mx\u001b[22m \u001b[1mf\u001b[22m\u001b[1mi\u001b[22m\u001b[1mn\u001b[22m\u001b[1md\u001b[22m\u001b[1mm\u001b[22m\u001b[1ma\u001b[22m\u001b[1mx\u001b[22m! \u001b[1mf\u001b[22m\u001b[1mi\u001b[22m\u001b[1mn\u001b[22m\u001b[1md\u001b[22m\u001b[1mm\u001b[22min \u001b[1mf\u001b[22m\u001b[1mi\u001b[22m\u001b[1mn\u001b[22m\u001b[1md\u001b[22m\u001b[1mm\u001b[22min!\n",
      "\n"
     ]
    },
    {
     "data": {
      "text/markdown": [
       "```\n",
       "findmax(itr) -> (x, index)\n",
       "```\n",
       "\n",
       "Returns the maximum element of the collection `itr` and its index. If there are multiple maximal elements, then the first one will be returned. `NaN` values are ignored, unless all elements are `NaN`.\n",
       "\n",
       "The collection must not be empty.\n",
       "\n",
       "```jldoctest\n",
       "julia> findmax([8,0.1,-9,pi])\n",
       "(8.0, 1)\n",
       "\n",
       "julia> findmax([1,7,7,6])\n",
       "(7, 2)\n",
       "\n",
       "julia> findmax([1,7,7,NaN])\n",
       "(7.0, 2)\n",
       "```\n",
       "\n",
       "```\n",
       "findmax(A, region) -> (maxval, index)\n",
       "```\n",
       "\n",
       "For an array input, returns the value and index of the maximum over the given region.\n",
       "\n",
       "```jldoctest\n",
       "julia> A = [1 2; 3 4]\n",
       "2×2 Array{Int64,2}:\n",
       " 1  2\n",
       " 3  4\n",
       "\n",
       "julia> findmax(A,1)\n",
       "([3 4], [2 4])\n",
       "\n",
       "julia> findmax(A,2)\n",
       "([2; 4], [3; 4])\n",
       "```\n"
      ],
      "text/plain": [
       "```\n",
       "findmax(itr) -> (x, index)\n",
       "```\n",
       "\n",
       "Returns the maximum element of the collection `itr` and its index. If there are multiple maximal elements, then the first one will be returned. `NaN` values are ignored, unless all elements are `NaN`.\n",
       "\n",
       "The collection must not be empty.\n",
       "\n",
       "```jldoctest\n",
       "julia> findmax([8,0.1,-9,pi])\n",
       "(8.0, 1)\n",
       "\n",
       "julia> findmax([1,7,7,6])\n",
       "(7, 2)\n",
       "\n",
       "julia> findmax([1,7,7,NaN])\n",
       "(7.0, 2)\n",
       "```\n",
       "\n",
       "```\n",
       "findmax(A, region) -> (maxval, index)\n",
       "```\n",
       "\n",
       "For an array input, returns the value and index of the maximum over the given region.\n",
       "\n",
       "```jldoctest\n",
       "julia> A = [1 2; 3 4]\n",
       "2×2 Array{Int64,2}:\n",
       " 1  2\n",
       " 3  4\n",
       "\n",
       "julia> findmax(A,1)\n",
       "([3 4], [2 4])\n",
       "\n",
       "julia> findmax(A,2)\n",
       "([2; 4], [3; 4])\n",
       "```\n"
      ]
     },
     "execution_count": 54,
     "metadata": {},
     "output_type": "execute_result"
    }
   ],
   "source": [
    "?findmax\n"
   ]
  },
  {
   "cell_type": "code",
   "execution_count": 55,
   "metadata": {
    "collapsed": true
   },
   "outputs": [],
   "source": [
    "# simulation 100 thousand H/H\n",
    "# initializing matrices\n",
    "num_period = 3;\n",
    "num_hh = 100 # 100000\n",
    "c_record = zeros(num_hh, num_period);\n",
    "a_record = zeros(num_hh, num_period);\n",
    "w_record = zeros(num_hh, num_period);\n",
    "h_H_record = zeros(num_hh, num_period);\n",
    "h_M_record = zeros(num_hh, num_period);\n",
    "\n"
   ]
  },
  {
   "cell_type": "code",
   "execution_count": 56,
   "metadata": {},
   "outputs": [
    {
     "ename": "LoadError",
     "evalue": "\u001b[91mUndefVarError: w_dist not defined\u001b[39m",
     "output_type": "error",
     "traceback": [
      "\u001b[91mUndefVarError: w_dist not defined\u001b[39m",
      "",
      "Stacktrace:",
      " [1] \u001b[1minclude_string\u001b[22m\u001b[22m\u001b[1m(\u001b[22m\u001b[22m::String, ::String\u001b[1m)\u001b[22m\u001b[22m at \u001b[1m./loading.jl:515\u001b[22m\u001b[22m"
     ]
    }
   ],
   "source": [
    "# generate wage, care needs streams for each household\n",
    "\n",
    "w_record = rand(w_dist, num_hh, num_period);\n",
    "w_record[:,3] = 0;\n",
    "h_H_record = rand(h_H_dist, num_hh, num_period);\n",
    "h_H_record[:, 1] = 0;\n",
    "h_H_record[:, 3] = 0;\n"
   ]
  },
  {
   "cell_type": "code",
   "execution_count": 57,
   "metadata": {},
   "outputs": [
    {
     "ename": "LoadError",
     "evalue": "\u001b[91mUndefVarError: c_pol_young not defined\u001b[39m",
     "output_type": "error",
     "traceback": [
      "\u001b[91mUndefVarError: c_pol_young not defined\u001b[39m",
      "",
      "Stacktrace:",
      " [1] \u001b[1minclude_string\u001b[22m\u001b[22m\u001b[1m(\u001b[22m\u001b[22m::String, ::String\u001b[1m)\u001b[22m\u001b[22m at \u001b[1m./loading.jl:515\u001b[22m\u001b[22m"
     ]
    }
   ],
   "source": [
    "# return (c, a_new, h_M) for young hh\n",
    "# prepare for interpolation\n",
    "c_pol_young_reshape = reshape(c_pol_young, num_grid, num_grid, num_grid) # reshape for interpolate    \n",
    "a_new_pol_young_reshape = reshape(a_new_pol_young, num_grid, num_grid, num_grid) # reshape for interpolate    \n",
    "h_M_pol_young_reshape = reshape(h_M_pol_young, num_grid, num_grid, num_grid) # reshape for interpolate    \n",
    "c_itp = interpolate((asset_grid, wage_grid, h_H_grid), c_pol_young_reshape, Gridded(Linear()));\n",
    "a_itp = interpolate((asset_grid, wage_grid, h_H_grid), a_new_pol_young_reshape, Gridded(Linear()));\n",
    "h_M_itp = interpolate((asset_grid, wage_grid, h_H_grid), h_M_pol_young_reshape, Gridded(Linear()));\n",
    "\n",
    "for n = 1:num_hh\n",
    "    c_record[n,1] = c_itp[a_record[n,1], w_record[n,1], h_H_record[n,1]]\n",
    "    a_record[n,2] = a_itp[a_record[n,1], w_record[n,1], h_H_record[n,1]]\n",
    "    h_M_record[n,1] = h_M_itp[a_record[n,1], w_record[n,1], h_H_record[n,1]]\n",
    "end\n",
    "\n",
    "\n"
   ]
  },
  {
   "cell_type": "code",
   "execution_count": 58,
   "metadata": {},
   "outputs": [
    {
     "ename": "LoadError",
     "evalue": "\u001b[91mUndefVarError: c_pol_middle not defined\u001b[39m",
     "output_type": "error",
     "traceback": [
      "\u001b[91mUndefVarError: c_pol_middle not defined\u001b[39m",
      "",
      "Stacktrace:",
      " [1] \u001b[1minclude_string\u001b[22m\u001b[22m\u001b[1m(\u001b[22m\u001b[22m::String, ::String\u001b[1m)\u001b[22m\u001b[22m at \u001b[1m./loading.jl:515\u001b[22m\u001b[22m"
     ]
    }
   ],
   "source": [
    "# return (c, a_new, h_M) for middle\n",
    "\n",
    "c_pol_middle_reshape = reshape(c_pol_middle, num_grid, num_grid, num_grid);\n",
    "a_new_pol_middle_reshape = reshape(a_new_pol_middle, num_grid, num_grid, num_grid);\n",
    "h_M_pol_middle_reshape = reshape(h_M_pol_middle, num_grid, num_grid, num_grid);\n",
    "c_itp = interpolate((asset_grid, wage_grid, h_H_grid), c_pol_middle_reshape, Gridded(Linear()));\n",
    "a_itp = interpolate((asset_grid, wage_grid, h_H_grid), a_new_pol_middle_reshape, Gridded(Linear()));\n",
    "h_M_itp = interpolate((asset_grid, wage_grid, h_H_grid), h_M_pol_middle_reshape, Gridded(Linear()));\n",
    "\n",
    "\n",
    "for n = 1:num_hh\n",
    "    c_record[n,2] = c_itp[a_record[n,2], w_record[n,2], h_H_record[n,2]]\n",
    "    a_record[n,3] = a_itp[a_record[n,2], w_record[n,2], h_H_record[n,2]]\n",
    "    h_M_record[n,2] = h_M_itp[a_record[n,2], w_record[n,2], h_H_record[n,2]]\n",
    "end\n",
    "\n",
    "for n = 1:num_hh\n",
    "    c_record[n,3] = (1+r)*a_record[n, 3] + (w_record[n,1] + w_record[n, 2])*0.5*0.5 # replacement rate for pension is 0.5 \n",
    "end"
   ]
  },
  {
   "cell_type": "code",
   "execution_count": 59,
   "metadata": {},
   "outputs": [
    {
     "data": {
      "text/plain": [
       "100×3 Array{Float64,2}:\n",
       " 0.0  0.0  0.0\n",
       " 0.0  0.0  0.0\n",
       " 0.0  0.0  0.0\n",
       " 0.0  0.0  0.0\n",
       " 0.0  0.0  0.0\n",
       " 0.0  0.0  0.0\n",
       " 0.0  0.0  0.0\n",
       " 0.0  0.0  0.0\n",
       " 0.0  0.0  0.0\n",
       " 0.0  0.0  0.0\n",
       " 0.0  0.0  0.0\n",
       " 0.0  0.0  0.0\n",
       " 0.0  0.0  0.0\n",
       " ⋮            \n",
       " 0.0  0.0  0.0\n",
       " 0.0  0.0  0.0\n",
       " 0.0  0.0  0.0\n",
       " 0.0  0.0  0.0\n",
       " 0.0  0.0  0.0\n",
       " 0.0  0.0  0.0\n",
       " 0.0  0.0  0.0\n",
       " 0.0  0.0  0.0\n",
       " 0.0  0.0  0.0\n",
       " 0.0  0.0  0.0\n",
       " 0.0  0.0  0.0\n",
       " 0.0  0.0  0.0"
      ]
     },
     "execution_count": 59,
     "metadata": {},
     "output_type": "execute_result"
    }
   ],
   "source": [
    "c_record"
   ]
  },
  {
   "cell_type": "code",
   "execution_count": 60,
   "metadata": {},
   "outputs": [
    {
     "data": {
      "text/plain": [
       "100×3 Array{Float64,2}:\n",
       " 0.0  0.0  0.0\n",
       " 0.0  0.0  0.0\n",
       " 0.0  0.0  0.0\n",
       " 0.0  0.0  0.0\n",
       " 0.0  0.0  0.0\n",
       " 0.0  0.0  0.0\n",
       " 0.0  0.0  0.0\n",
       " 0.0  0.0  0.0\n",
       " 0.0  0.0  0.0\n",
       " 0.0  0.0  0.0\n",
       " 0.0  0.0  0.0\n",
       " 0.0  0.0  0.0\n",
       " 0.0  0.0  0.0\n",
       " ⋮            \n",
       " 0.0  0.0  0.0\n",
       " 0.0  0.0  0.0\n",
       " 0.0  0.0  0.0\n",
       " 0.0  0.0  0.0\n",
       " 0.0  0.0  0.0\n",
       " 0.0  0.0  0.0\n",
       " 0.0  0.0  0.0\n",
       " 0.0  0.0  0.0\n",
       " 0.0  0.0  0.0\n",
       " 0.0  0.0  0.0\n",
       " 0.0  0.0  0.0\n",
       " 0.0  0.0  0.0"
      ]
     },
     "execution_count": 60,
     "metadata": {},
     "output_type": "execute_result"
    }
   ],
   "source": [
    "w_record"
   ]
  },
  {
   "cell_type": "code",
   "execution_count": 61,
   "metadata": {},
   "outputs": [
    {
     "data": {
      "text/plain": [
       "100×3 Array{Float64,2}:\n",
       " 0.0  0.0  0.0\n",
       " 0.0  0.0  0.0\n",
       " 0.0  0.0  0.0\n",
       " 0.0  0.0  0.0\n",
       " 0.0  0.0  0.0\n",
       " 0.0  0.0  0.0\n",
       " 0.0  0.0  0.0\n",
       " 0.0  0.0  0.0\n",
       " 0.0  0.0  0.0\n",
       " 0.0  0.0  0.0\n",
       " 0.0  0.0  0.0\n",
       " 0.0  0.0  0.0\n",
       " 0.0  0.0  0.0\n",
       " ⋮            \n",
       " 0.0  0.0  0.0\n",
       " 0.0  0.0  0.0\n",
       " 0.0  0.0  0.0\n",
       " 0.0  0.0  0.0\n",
       " 0.0  0.0  0.0\n",
       " 0.0  0.0  0.0\n",
       " 0.0  0.0  0.0\n",
       " 0.0  0.0  0.0\n",
       " 0.0  0.0  0.0\n",
       " 0.0  0.0  0.0\n",
       " 0.0  0.0  0.0\n",
       " 0.0  0.0  0.0"
      ]
     },
     "execution_count": 61,
     "metadata": {},
     "output_type": "execute_result"
    }
   ],
   "source": [
    "h_M_record"
   ]
  },
  {
   "cell_type": "code",
   "execution_count": 62,
   "metadata": {},
   "outputs": [
    {
     "data": {
      "text/plain": [
       "100×3 Array{Float64,2}:\n",
       " 0.0  0.0  0.0\n",
       " 0.0  0.0  0.0\n",
       " 0.0  0.0  0.0\n",
       " 0.0  0.0  0.0\n",
       " 0.0  0.0  0.0\n",
       " 0.0  0.0  0.0\n",
       " 0.0  0.0  0.0\n",
       " 0.0  0.0  0.0\n",
       " 0.0  0.0  0.0\n",
       " 0.0  0.0  0.0\n",
       " 0.0  0.0  0.0\n",
       " 0.0  0.0  0.0\n",
       " 0.0  0.0  0.0\n",
       " ⋮            \n",
       " 0.0  0.0  0.0\n",
       " 0.0  0.0  0.0\n",
       " 0.0  0.0  0.0\n",
       " 0.0  0.0  0.0\n",
       " 0.0  0.0  0.0\n",
       " 0.0  0.0  0.0\n",
       " 0.0  0.0  0.0\n",
       " 0.0  0.0  0.0\n",
       " 0.0  0.0  0.0\n",
       " 0.0  0.0  0.0\n",
       " 0.0  0.0  0.0\n",
       " 0.0  0.0  0.0"
      ]
     },
     "execution_count": 62,
     "metadata": {},
     "output_type": "execute_result"
    }
   ],
   "source": [
    "h_H_record"
   ]
  },
  {
   "cell_type": "code",
   "execution_count": 63,
   "metadata": {},
   "outputs": [
    {
     "data": {
      "text/plain": [
       "0.0"
      ]
     },
     "execution_count": 63,
     "metadata": {},
     "output_type": "execute_result"
    }
   ],
   "source": [
    "sum(h_M_record)"
   ]
  },
  {
   "cell_type": "code",
   "execution_count": 64,
   "metadata": {},
   "outputs": [
    {
     "data": {
      "text/plain": [
       "0.0"
      ]
     },
     "execution_count": 64,
     "metadata": {},
     "output_type": "execute_result"
    }
   ],
   "source": [
    "sum(c_record)"
   ]
  },
  {
   "cell_type": "code",
   "execution_count": null,
   "metadata": {},
   "outputs": [],
   "source": []
  },
  {
   "cell_type": "code",
   "execution_count": null,
   "metadata": {
    "collapsed": true
   },
   "outputs": [],
   "source": []
  },
  {
   "cell_type": "code",
   "execution_count": null,
   "metadata": {
    "collapsed": true
   },
   "outputs": [],
   "source": []
  },
  {
   "cell_type": "code",
   "execution_count": null,
   "metadata": {
    "collapsed": true
   },
   "outputs": [],
   "source": []
  },
  {
   "cell_type": "code",
   "execution_count": null,
   "metadata": {
    "collapsed": true
   },
   "outputs": [],
   "source": []
  },
  {
   "cell_type": "code",
   "execution_count": null,
   "metadata": {
    "collapsed": true
   },
   "outputs": [],
   "source": []
  },
  {
   "cell_type": "code",
   "execution_count": null,
   "metadata": {
    "collapsed": true
   },
   "outputs": [],
   "source": []
  },
  {
   "cell_type": "code",
   "execution_count": null,
   "metadata": {
    "collapsed": true
   },
   "outputs": [],
   "source": []
  },
  {
   "cell_type": "code",
   "execution_count": null,
   "metadata": {
    "collapsed": true
   },
   "outputs": [],
   "source": []
  },
  {
   "cell_type": "code",
   "execution_count": null,
   "metadata": {
    "collapsed": true
   },
   "outputs": [],
   "source": []
  },
  {
   "cell_type": "code",
   "execution_count": null,
   "metadata": {
    "collapsed": true
   },
   "outputs": [],
   "source": []
  },
  {
   "cell_type": "code",
   "execution_count": null,
   "metadata": {
    "collapsed": true
   },
   "outputs": [],
   "source": []
  }
 ],
 "metadata": {
  "celltoolbar": "Slideshow",
  "kernelspec": {
   "display_name": "Julia 0.6.0",
   "language": "julia",
   "name": "julia-0.6"
  },
  "language_info": {
   "file_extension": ".jl",
   "mimetype": "application/julia",
   "name": "julia",
   "version": "0.6.0"
  }
 },
 "nbformat": 4,
 "nbformat_minor": 2
}
