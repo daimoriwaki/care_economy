{
 "cells": [
  {
   "cell_type": "code",
   "execution_count": null,
   "metadata": {
    "collapsed": true
   },
   "outputs": [],
   "source": [
    "sigma_phi = 0.1\n",
    "sigma_eps = 0.1\n",
    "using Distributions\n",
    "dist_phi = Normal(-(sigma_phi^2)/2, sgma_phi^2)\n",
    "dist_eps = Normal(-(sigma_eps^2)/2, sgma_eps^2)"
   ]
  }
 ],
 "metadata": {
  "kernelspec": {
   "display_name": "Julia 0.5.2",
   "language": "julia",
   "name": "julia-0.5"
  },
  "language_info": {
   "file_extension": ".jl",
   "mimetype": "application/julia",
   "name": "julia",
   "version": "0.5.2"
  }
 },
 "nbformat": 4,
 "nbformat_minor": 2
}
