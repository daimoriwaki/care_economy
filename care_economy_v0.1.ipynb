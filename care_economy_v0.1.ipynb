{
 "cells": [
  {
   "cell_type": "markdown",
   "metadata": {
    "slideshow": {
     "slide_type": "slide"
    }
   },
   "source": [
    "# Effect of Informal Care on Labor Supply: A Macroeconomic Perspective\n",
    "\n",
    "## 2018.3.12 ICES, Hosei University\n",
    "\n",
    "### Daisuke Moriwaki\n",
    "\n",
    "Cyberagent, Inc., AI Lab        \n",
    "Keio University, School of Medicine\n",
    "\n",
    "<daisuke.moriwaki@gmail.com>"
   ]
  },
  {
   "cell_type": "code",
   "execution_count": 33,
   "metadata": {
    "collapsed": true
   },
   "outputs": [],
   "source": [
    "using QuantEcon\n",
    "using Plots\n",
    "using Interpolations\n",
    "using Distributions"
   ]
  },
  {
   "cell_type": "markdown",
   "metadata": {
    "slideshow": {
     "slide_type": "slide"
    }
   },
   "source": [
    "# Motivation\n",
    "* Increase in the number of care recievers in Japan is inevitable. On the other hand, the human and financial resource that we can spend on care givers is getting scarse.\n",
    "* It is easy to predict that \"caregiver ratio\" (the number of caregivers per one care receiver) explodes in the near future."
   ]
  },
  {
   "cell_type": "markdown",
   "metadata": {
    "slideshow": {
     "slide_type": "slide"
    }
   },
   "source": [
    "* The explosion of caregiver ratio cause several problems\n",
    "    * insufficient care for elderly (insufficient availability of cheap nursing home, tokuyo)\n",
    "    * Poverty due to care-leave for frail older family\n",
    "    * Financial Problem for both national government and local administration\n",
    "    * *Economy itself* due to less labor supply\n",
    "* Such a wide range of problem should be tackled by macroeconomic model rather than causality studies."
   ]
  },
  {
   "cell_type": "markdown",
   "metadata": {
    "slideshow": {
     "slide_type": "slide"
    }
   },
   "source": [
    "# Literature\n",
    "\n",
    "## labor supply and informal care\n",
    "\n",
    "* moriwaki (2015, mimeo) finds negative effect from informal care only for male."
   ]
  },
  {
   "cell_type": "markdown",
   "metadata": {},
   "source": [
    "## care and macro economy\n",
    "\n",
    "\n",
    "## heterogeneous agent and social security programs\n",
    "* Li (EER, 2018)\n",
    "* Kitao"
   ]
  },
  {
   "cell_type": "markdown",
   "metadata": {
    "slideshow": {
     "slide_type": "slide"
    }
   },
   "source": [
    "# Setting"
   ]
  },
  {
   "cell_type": "markdown",
   "metadata": {
    "slideshow": {
     "slide_type": "slide"
    }
   },
   "source": [
    "## Household\n",
    "\n",
    "* you may consider either single households without gender and unknown re-production technique or many households with couples and kids where income, assets, health, and time endowment is shared. More realistic modelling is listed as future study\n",
    "* 5 status space\n",
    "    * age from 20 to 99 (5 year interval)\n",
    "    * health status from 0 to 1. health with 0.1 or below becomes a care receiver.\n",
    "    * wage rate is exogenous. Given wage rate, labor supply is endogeneous.\n",
    "    * asset\n",
    "    * *care* status; how many hours the household must spend for caring older frail family"
   ]
  },
  {
   "cell_type": "markdown",
   "metadata": {
    "slideshow": {
     "slide_type": "slide"
    }
   },
   "source": [
    "## Preference\n",
    "* simple utility function. setting is same as Yue (2018, EER)"
   ]
  },
  {
   "cell_type": "code",
   "execution_count": 34,
   "metadata": {},
   "outputs": [
    {
     "name": "stderr",
     "output_type": "stream",
     "text": [
      "WARNING: Method definition util(Real, Real) in module Main at In[2]:2 overwritten at In[34]:2.\n",
      "WARNING: Method definition util(Real, Real, Real) in module Main at In[2]:2 overwritten at In[34]:2.\n",
      "WARNING: Method definition util(Real, Real, Real, Real) in module Main at In[2]:2 overwritten at In[34]:2.\n"
     ]
    },
    {
     "data": {
      "text/plain": [
       "util (generic function with 3 methods)"
      ]
     },
     "execution_count": 34,
     "metadata": {},
     "output_type": "execute_result"
    }
   ],
   "source": [
    "function util(c::Real, l::Real,chi::Real = 0.4, sigma::Real = 0.28) # chi = 0.4\n",
    "    ((c^(1-chi)*(l^chi))^(1-sigma))/(1 - sigma)\n",
    "end"
   ]
  },
  {
   "cell_type": "markdown",
   "metadata": {
    "slideshow": {
     "slide_type": "slide"
    }
   },
   "source": [
    "## consumption\n",
    "* consumption is deterimined by assets, income and saving\n",
    "* there is a social assistence for the poor"
   ]
  },
  {
   "cell_type": "markdown",
   "metadata": {
    "slideshow": {
     "slide_type": "subslide"
    }
   },
   "source": [
    "## income\n",
    "* income is determined by hourking hour in market and tax\n"
   ]
  },
  {
   "cell_type": "markdown",
   "metadata": {
    "slideshow": {
     "slide_type": "slide"
    }
   },
   "source": [
    "## labor supply\n",
    "* labor supply is endogeneous\n",
    "* healthy household optimizes labor supply as well as consumption (saving) for given time endowment\n",
    "* time endowment is varying across agent due to informal care\n",
    "* From the first order condition $l = c(1 - \\tau)w \\frac{\\chi}{1 - \\chi}$"
   ]
  },
  {
   "cell_type": "markdown",
   "metadata": {
    "slideshow": {
     "slide_type": "slide"
    }
   },
   "source": [
    "## Informal care\n",
    "* Population is devided by health status. One is (potential) caregivers who are healthy enough to provide care to family, the other is care receivers who needs care from either/both formal or/and informal caregivers.\n",
    "* Suppose most of the households prefer formal care, e.g. nursing home, to informal care at home. Then informal care occurs only when formal care provision is insufficient and this is exactly the case in Japan.\n",
    "* Informal care is defined as unmet care demand from carereceivers. Informal care is distributed romdomly to caregivers according to caregivers' age."
   ]
  },
  {
   "cell_type": "markdown",
   "metadata": {
    "slideshow": {
     "slide_type": "slide"
    }
   },
   "source": [
    "## Government\n",
    "* government provide insufficient formal care funded by social security premium contributed by working age, which is resemble to Japanese LTCI\n",
    "* cost of formal care is determined by personal expenses of informal care worker"
   ]
  },
  {
   "cell_type": "markdown",
   "metadata": {},
   "source": [
    "# Others\n",
    "* wage ($w$) and capital cost $r$ is arbitrary determined by the nature (me).\n",
    "* thus no equillibrium condition holds so far.\n",
    "* $r = 0.01$, $\\mathbb{E}(w) = 1$"
   ]
  },
  {
   "cell_type": "markdown",
   "metadata": {},
   "source": [
    "## Quantitative Excercise\n",
    "* The model is simulated with parameters set to values taken from existing literature.\n",
    "* Unfortunately, I can only show the result of toy model so far."
   ]
  },
  {
   "cell_type": "markdown",
   "metadata": {},
   "source": [
    "## The toy model\n",
    "* Households have only three period: young, middle, and old\n",
    "* Young work only in the market and not give care.\n",
    "* Middle work both in home and the market, but does not receive care.\n",
    "* Old does not work.\n",
    "* Wage is stochastic without persistent shocks."
   ]
  },
  {
   "cell_type": "code",
   "execution_count": 35,
   "metadata": {},
   "outputs": [
    {
     "data": {
      "text/html": [
       "0.7"
      ],
      "text/plain": [
       "0.7"
      ]
     },
     "execution_count": 35,
     "metadata": {},
     "output_type": "execute_result"
    }
   ],
   "source": [
    "r = 0.0\n",
    "tau = 0.1 # income tax\n",
    "beta = 0.9 # discount rate\n",
    "rep_rate = 0.5 # replacement rate\n",
    "NH_rate = 0.9 # government formal care provision rate. ratio to needed care\n",
    "wage_care = 0.7 # care workers' wage rate. ratio to all industry"
   ]
  },
  {
   "cell_type": "code",
   "execution_count": 36,
   "metadata": {},
   "outputs": [
    {
     "name": "stderr",
     "output_type": "stream",
     "text": [
      "WARNING: Method definition value_for_old(Real, Real) in module Main at In[4]:4 overwritten at In[36]:4.\n"
     ]
    },
    {
     "data": {
      "text/plain": [
       "value_for_old (generic function with 1 method)"
      ]
     },
     "execution_count": 36,
     "metadata": {},
     "output_type": "execute_result"
    }
   ],
   "source": [
    "# calculating utility for old given asset and benefit\n",
    "# need calculation for average_wage\n",
    "function value_for_old(a::Real, average_wage::Real)\n",
    "    b = rep_rate*average_wage # pension benefit\n",
    "    return util((a*(1 + r) + b), 1)\n",
    "end"
   ]
  },
  {
   "cell_type": "code",
   "execution_count": 65,
   "metadata": {},
   "outputs": [
    {
     "name": "stderr",
     "output_type": "stream",
     "text": [
      "WARNING: Method definition value_for_middle(Real, Real, Real, Real, Real) in module Main at In[37]:4 overwritten at In[65]:4.\n",
      "WARNING: Method definition value_for_middle(Real, Real, Real, Real, Real, Real) in module Main at In[37]:4 overwritten at In[65]:4.\n",
      "WARNING: Method definition value_for_middle(Real, Real, Real, Real, Real, Real, Real) in module Main at In[37]:4 overwritten at In[65]:4.\n"
     ]
    },
    {
     "data": {
      "text/plain": [
       "value_for_middle (generic function with 3 methods)"
      ]
     },
     "execution_count": 65,
     "metadata": {},
     "output_type": "execute_result"
    }
   ],
   "source": [
    "# caluculating value for middle\n",
    "# need calculaation for average wage\n",
    "function value_for_middle(a_new::Real, l::Real, a::Real, w::Real, h_H::Real, tau::Real = tau, beta::Real = beta)\n",
    "    y = w*(1 - tau)*(1 - h_H - l)\n",
    "    #c = -100\n",
    "    c = (1 + r)*a + y - a_new\n",
    "    if c <= 0  || l <= 0 || 1 - h_H - l < 0\n",
    "        v = -10000\n",
    "    else\n",
    "        v = util(c, l) + beta*value_for_old(a_new, w)\n",
    "    end\n",
    "    return v, a_new, l, a, w, h_H, y, c\n",
    "end"
   ]
  },
  {
   "cell_type": "code",
   "execution_count": 121,
   "metadata": {
    "collapsed": true
   },
   "outputs": [],
   "source": [
    "# maximize value for middle given asset, wage and informal care\n",
    "# row is new_asset x leisure\n",
    "# column is wage x h_H x asset\n",
    "\n",
    "min_asset = 0.001;\n",
    "max_asset = 10;\n",
    "min_wage = 0.001;\n",
    "max_wage = 10;\n",
    "min_h_H =0.0001;\n",
    "max_h_H = 0.999;\n",
    "num_grid = 9; #9\n",
    "min_l = 0.0001;\n",
    "max_l = 0.9999;\n",
    "asset_grid = linspace(min_asset, max_asset, num_grid);\n",
    "wage_grid = linspace(min_wage, max_wage, num_grid);\n",
    "h_H_grid = linspace(min_h_H, max_h_H, num_grid);\n",
    "l_grid = linspace(min_l, max_l, num_grid);\n",
    "\n",
    "\n",
    "\n"
   ]
  },
  {
   "cell_type": "code",
   "execution_count": 122,
   "metadata": {},
   "outputs": [
    {
     "name": "stderr",
     "output_type": "stream",
     "text": [
      "WARNING: Method definition generate_max_values_matrix(Function) in module Main at In[95]:6 overwritten at In[122]:6.\n",
      "WARNING: Method definition generate_max_values_matrix(Function, Base.LinSpace) in module Main at In[95]:6 overwritten at In[122]:6.\n",
      "WARNING: Method definition generate_max_values_matrix(Function, Base.LinSpace, Base.LinSpace) in module Main at In[95]:6 overwritten at In[122]:6.\n",
      "WARNING: Method definition generate_max_values_matrix(Function, Base.LinSpace, Base.LinSpace, Base.LinSpace) in module Main at In[95]:6 overwritten at In[122]:6.\n",
      "WARNING: Method definition generate_max_values_matrix(Function, Base.LinSpace, Base.LinSpace, Base.LinSpace, Base.LinSpace) in module Main at In[95]:6 overwritten at In[122]:6.\n",
      "WARNING: Method definition generate_max_values_matrix(Function, Base.LinSpace, Base.LinSpace, Base.LinSpace, Base.LinSpace, Int64) in module Main at In[95]:6 overwritten at In[122]:6.\n"
     ]
    },
    {
     "data": {
      "text/plain": [
       "generate_max_values_matrix (generic function with 6 methods)"
      ]
     },
     "execution_count": 122,
     "metadata": {},
     "output_type": "execute_result"
    }
   ],
   "source": [
    "# calculate value for each input and return maximum value for each\n",
    "# warinig: no interpolation embeded!\n",
    "function generate_max_values_matrix(value_function::Function, asset_grid::LinSpace = asset_grid, l_grid::LinSpace = l_grid, wage_grid::LinSpace = wage_grid, \n",
    "        h_H_grid::LinSpace = h_H_grid, num_grid::Int = num_grid)\n",
    "    # initializing matrices\n",
    "    value_matrix = zeros(num_grid^2, num_grid^3);\n",
    "    c_mat = zeros(num_grid^2, num_grid^3);\n",
    "    l_mat = zeros(num_grid^2, num_grid^3);\n",
    "    y_mat = zeros(num_grid^2, num_grid^3);\n",
    "    a_new_mat = ones(num_grid^2, num_grid^3);\n",
    "    w_mat = zeros(num_grid^2, num_grid^3);\n",
    "    a_mat = zeros(num_grid^2, num_grid^3);\n",
    "    h_H_mat = zeros(num_grid^2, num_grid^3);\n",
    "    for i = 1:num_grid\n",
    "        for j = 1:num_grid\n",
    "            for k = 1:num_grid\n",
    "                for m = 1:num_grid\n",
    "                    for n = 1:num_grid\n",
    "                        result = value_function(asset_grid[i], l_grid[j], asset_grid[k], wage_grid[m], h_H_grid[n])\n",
    "                        value_matrix[i + (j - 1)num_grid, k + (m - 1)num_grid + (n - 1)num_grid^2] = result[1]\n",
    "                        a_new_mat[i + (j - 1)num_grid, k + (m - 1)num_grid + (n - 1)num_grid^2] = result[2]\n",
    "                        l_mat[i + (j - 1)num_grid, k + (m - 1)num_grid + (n - 1)num_grid^2] = result[3]\n",
    "                        a_mat[i + (j - 1)num_grid, k + (m - 1)num_grid + (n - 1)num_grid^2] = result[4]\n",
    "                        w_mat[i + (j - 1)num_grid, k + (m - 1)num_grid + (n - 1)num_grid^2] = result[5]\n",
    "                        h_H_mat[i + (j - 1)num_grid, k + (m - 1)num_grid + (n - 1)num_grid^2] = result[6]\n",
    "                        y_mat[i + (j - 1)num_grid, k + (m - 1)num_grid + (n - 1)num_grid^2] = result[7]\n",
    "                        c_mat[i + (j - 1)num_grid, k + (m - 1)num_grid + (n - 1)num_grid^2]  = result[8]\n",
    "                    end\n",
    "                end\n",
    "            end\n",
    "        end\n",
    "    end\n",
    "    # get max value for each asset, wage, h_H. maximizing with respect to new asset and leisure\n",
    "    #max_value = maximum(value_matrix, 1)\n",
    "    max_value, max_ind = findmax(value_matrix, 1)\n",
    "    # reshape value matrix to asset_grid x (w x h_H)\n",
    "    # this should be fix throughout the imulation\n",
    "    max_values_reshaped = reshape(max_value, num_grid, num_grid^2);\n",
    "    return max_values_reshaped, max_ind, a_new_mat, l_mat, a_mat, w_mat, h_H_mat, y_mat, c_mat\n",
    "end\n"
   ]
  },
  {
   "cell_type": "code",
   "execution_count": 123,
   "metadata": {
    "collapsed": true
   },
   "outputs": [],
   "source": [
    "# get policy function for a_new, h_M (Labor supply), c, \n",
    "max_values_reshaped, max_ind, a_new_mat, l_mat, a_mat, w_mat, h_H_mat, y_mat, c_mat = generate_max_values_matrix(value_for_middle);\n",
    "# policy function for new asset\n",
    "a_new_pol_middle = a_new_mat[max_ind]\n",
    "# policy function for labor supply\n",
    "l_pol_middle = l_mat[max_ind]\n",
    "h_M_pol_middle = 1 - l_pol_middle - reshape(h_H_mat[1, :], 1, num_grid^3)\n",
    "c_pol_middle = c_mat[max_ind]\n",
    "# policy function for new asset\n",
    "#a_new_pol = a_new_mat[max_ind]\n",
    "# policy function for new asset\n",
    "#a_new_pol = a_new_mat[max_ind]\n"
   ]
  },
  {
   "cell_type": "code",
   "execution_count": 124,
   "metadata": {},
   "outputs": [
    {
     "data": {
      "text/html": [
       "<script src=\"/home/daisuke_moriwaki/.julia/v0.5/Plots/src/backends/../../deps/plotly-latest.min.js\"></script>    <div id=\"0e766444-9592-4d1f-97cf-9c70f0a24773\" style=\"width:600px;height:400px;\"></div>\n",
       "    <script>\n",
       "    PLOT = document.getElementById('0e766444-9592-4d1f-97cf-9c70f0a24773');\n",
       "    Plotly.plot(PLOT, [{\"yaxis\":\"y\",\"y\":[0.0005623875000000001,1.249875,1.249875,2.4997499999999997,2.4997499999999997,3.749625,3.7496250000000004,4.999500000000001,4.9995,0.7034764640625001,1.3905702928125,1.3905702928125,2.4997499999999997,2.4997499999999997,3.749625,4.9995,4.999500000000001,6.249375000000001,1.4063905406250004,1.4063905406250006,2.0937093243750002,2.7810281081250006,3.749625,3.749625,4.9995,4.999500000000001,6.249375000000001,2.1093046171875,2.1093046171875,2.93731869375,3.3434718468750004,4.1714859234375,4.1714859234375,4.9995,6.249375000000001,6.249375000000001,2.1247874325,2.81221869375,3.4996499549999998,4.18708121625,4.18708121625,4.8745124775,5.561943738750001,6.249375000000001,6.249375000000001,2.9682843243750012,3.5151327703125013,4.06198121625,4.06198121625,4.6088296621875005,5.858704662187501,6.405553108125,6.405553108125002,6.952401554062501,2.968171846875001,4.2180468468750005,4.624312477500001,4.6243124775,5.8741874775,6.280453108125,6.280453108125002,6.686718738750001,7.93659373875,3.671085923437502,4.920960923437502,4.920960923437502,5.18664373875,6.436518738749999,6.702201554062501,6.702201554062501,7.9520765540625025,8.217759369375,4.374000000000001,5.623875000000001,5.623875000000002,5.748975,6.998850000000001,6.998850000000001,7.123950000000001,8.373825000000002,8.373825,0.00045001125000000003,1.24987510125,1.24987510125,2.49975010125,2.49975010125,3.7496251012500004,3.749625101250001,4.9995001012500015,4.999500101250001,0.5629078223437499,1.3906969439062502,1.39069694390625,2.49987665109375,2.49987665109375,3.7497516510937503,3.7497516510937507,4.999626651093751,4.99962665109375,1.1253656334375,1.1253656334375,1.8126844171875003,2.7812813090625,3.7498782009375002,3.7498782009375002,4.9997532009375005,4.999753200937501,6.249628200937501,1.6878234445312499,1.6878234445312497,2.5158375210937507,3.3438515976562506,4.17186567421875,4.17186567421875,4.9998797507812505,4.999879750781252,6.249754750781252,2.2502812556249996,2.2502812556249996,2.937712516875,3.6251437781250004,3.6251437781250004,4.875018778125,5.562450039375001,6.249881300625001,6.249881300625001,2.26589062078125,2.81273906671875,3.35958751265625,4.6094625126562505,4.6094625126562505,5.1563109585937505,5.703159404531251,6.95303440453125,6.95303440453125,2.968931247187501,3.3751968778125,4.6250718778125,5.0313375084375,5.0313375084375,5.4376031390625,6.687478139062501,6.687478139062502,7.093743769687501,3.671971873593751,3.9376546889062505,5.187529688906251,5.187529688906251,5.453212504218751,6.70308750421875,6.9687703195312505,6.968770319531252,8.218645319531252,4.3750125,4.5001125,4.5001125,5.7499875,5.875087499999999,7.1249625000000005,7.1249625000000005,7.250062500000002,8.499937500000001,0.0004501125000000001,1.2498752025000002,1.2498752025,2.4997502024999996,2.4997502024999996,3.7496252025,3.7496252025000003,4.999500202500002,4.999500202500001,0.5630344734375,1.2501283021875,1.2501283021875003,2.5000033021875003,2.5000033021874994,3.7498783021874997,3.7498783021875,4.999753302187502,4.999753302187501,1.1256188343750002,1.8129376181250003,1.812937618125,2.500256401875,3.7501314018750005,3.7501314018750005,5.000006401875001,5.000006401875002,6.249881401875001,1.6882031953125,1.6882031953124998,2.0943563484375005,2.9223704250000004,3.7503845015625004,3.7503845015625004,5.000259501562501,5.0002595015625015,6.250134501562501,2.25078755625,2.2507875562500006,2.9382188175,3.6256500787500006,4.31308134,4.31308134,5.0005126012500005,6.250387601250001,6.250387601250001,2.8133719171875007,2.813371917187501,3.360220363125001,3.9070688090625003,3.9070688090625003,4.453917255,5.7037922550000015,6.250640700937501,6.250640700937501,2.1260812781250005,3.3759562781250008,3.7822219087500004,3.7822219087500004,4.188487539375,5.438362539375,5.84462817,7.094503170000001,7.094503170000001,2.688665639062501,3.9385406390625013,4.2042234543750014,4.204223454375001,5.454098454375,5.7197812696875,6.969656269687501,7.2353390850000014,7.2353390850000014,3.2512500000000006,4.501125,4.626225000000001,4.626225,5.876100000000001,6.001200000000001,7.251075,7.251075000000002,7.376175000000002,0.00033773625,1.24987530375,1.2498753037499999,1.2498753037499997,2.49975030375,2.4997503037500004,3.7496253037500007,3.7496253037500002,4.99950030375,0.4224658317187499,1.2502549532812501,1.2502549532812501,2.5001299532812498,2.5001299532812498,3.75000495328125,3.7500049532812505,4.999879953281251,4.99987995328125,0.8445939271874999,1.5319127109375,1.5319127109375,2.5005096028124996,2.5005096028124996,3.7503846028125,3.7503846028125003,5.000259602812502,5.000259602812501,1.26672202265625,2.09473609921875,2.09473609921875,2.9227501757812497,3.7507642523437497,3.7507642523437497,5.00063925234375,5.000639252343751,6.25051425234375,1.6888501181249997,1.6888501181249997,2.3762813793749995,3.063712640625,3.7511439018750004,3.7511439018750004,5.001018901875001,5.0010189018750015,6.250893901875001,2.11097821359375,2.11097821359375,2.65782665953125,3.9077016595312495,4.4545501054687495,4.4545501054687495,5.0013985514062504,6.25127355140625,6.25127355140625,2.5331063090624997,2.5331063090625,2.9393719396874998,4.1892469396875,4.5955125703125,4.5955125703125,5.8453875703125,6.2516532009375005,6.2516532009375005,2.9552344045312497,2.95523440453125,3.2209172198437503,4.47079221984375,4.47079221984375,4.73647503515625,5.986350035156249,5.986350035156251,7.501907850468751,3.3773624999999994,3.3773624999999994,4.6272375,4.752337499999999,4.752337499999999,6.002212499999999,6.1273125,7.3771875,7.3771875,0.00022535999999999997,0.00022535999999995227,1.2498754050000003,1.249875405,2.4997504049999995,2.499750405,3.749625405,3.7496254050000006,4.999500405,0.2818971900000001,1.2503816043750002,1.250381604375,2.500256604375,2.500256604375,3.7501316043750004,3.750131604375001,3.7501316043750004,5.000006604375,0.5635690200000002,1.5321659118750002,1.5321659118750002,2.50076280375,2.50076280375,3.75063780375,3.7506378037500006,5.000512803750002,5.000512803750001,0.8452408500000003,1.6732549265625003,1.6732549265625003,2.5012690031250004,3.751144003125,3.751144003125,3.7511440031250003,5.001019003125002,5.001019003125001,1.1269126800000002,1.8143439412500002,1.8143439412500004,3.06421894125,3.7516502025000005,3.7516502025000005,5.001525202500001,5.001525202500002,6.251400202500001,1.4085845100000005,2.6584595100000006,2.658459510000001,3.2053079559375,3.752156401875,3.752156401875,5.0020314018750005,5.002031401875001,6.251906401875001,1.6902563400000006,2.9401313400000006,2.9401313400000006,3.3463969706250003,4.596271970625001,5.002537601250001,5.002537601250001,6.2524126012500005,6.2524126012500005,1.9719281700000009,3.2218031700000007,3.221803170000001,3.4874859853125004,4.737360985312501,4.737360985312501,5.003043800625001,6.252918800625,6.252918800625,2.2536000000000005,3.5034750000000003,3.503475000000001,3.503475,4.878450000000001,4.878450000000001,6.128325,6.253425000000002,7.503300000000001,0.00022546125000000002,0.00022546124999989203,1.2498755062500002,1.24987550625,2.49975050625,2.4997505062500003,3.7496255062500006,3.749625506250001,3.74962550625,0.28202384109374995,1.25050825546875,1.2505082554687499,1.2505082554687497,2.5003832554687495,2.50038325546875,3.7502582554687502,3.7502582554687516,5.000133255468751,0.5638222209375,1.2511410046875,1.2511410046875,2.5010160046875,2.501016004687499,3.7508910046874995,3.7508910046875,3.7508910046875004,5.0007660046875,0.8456206007812499,1.67363467734375,1.67363467734375,2.5016487539062497,2.5016487539062497,3.75152375390625,3.7515237539062505,5.001398753906251,5.00139875390625,1.127418980625,1.8148502418749999,1.8148502418749997,2.5022815031249994,3.7521565031249997,3.7521565031249997,3.752156503125,5.002031503125002,5.002031503125001,1.40921736046875,1.95606580640625,1.9560658064062497,2.50291425234375,3.7527892523437494,3.7527892523437494,5.00266425234375,5.002664252343751,5.00266425234375,1.6910157403125,2.0972813709375,2.0972813709375,3.3471563709375003,3.7534220015625,3.7534220015625,5.0032970015625,5.003297001562501,6.2531720015625005,1.9728141201562501,2.23849693546875,3.48837193546875,3.4883719354687504,3.7540547507812496,5.00392975078125,5.00392975078125,5.003929750781252,6.253804750781251,2.2546125,2.3797124999999997,3.6295875,3.6295875000000004,3.7546874999999993,5.0045625,5.0045625,6.2544375,6.2544375,0.00011308499999999997,0.00011308499999995725,1.2498756075000002,1.2498756075,2.4997506074999993,2.4997506074999998,2.4997506075,3.7496256075000014,3.7496256075000005,0.14145519937499998,1.2506349065625,1.2506349065625002,1.2506349065625,2.5005099065625,2.5005099065625003,2.5005099065625007,3.750384906562501,3.7503849065625,0.28279731375,1.251394205625,1.2513942056249998,2.5012692056249994,2.5012692056249994,2.501269205625,3.751144205625,3.7511442056250006,3.7511442056249997,0.42413942812499994,1.2521535046875,1.2521535046874999,2.5020285046875,2.5020285046875,2.5020285046875004,3.7519035046875007,3.7519035046875002,5.0017785046875,0.5654815424999999,1.25291280375,2.50278780375,2.5027878037499995,2.5027878037499995,3.75266280375,3.7526628037500003,3.7526628037500016,5.002537803750001,0.7068236568749999,1.2536721028125,2.5035471028125,2.5035471028125,2.503547102812499,3.7534221028124994,3.7534221028125,5.0032971028125015,5.003297102812501,0.8481657712499999,2.09804077125,2.504306401875,2.5043064018749996,3.754181401875,3.754181401875,3.7541814018750004,5.004056401875001,5.004056401875,0.989507885625,2.239382885625,2.5050657009375,2.5050657009375,3.7549407009374995,3.7549407009374995,5.0048157009375,5.004815700937501,5.0048157009375,1.13085,2.380725,2.505825,3.7556999999999996,3.7557,3.7557,5.005575,5.005575,5.005574999999999,0.00011318625000000001,0.00011318624999989702,1.24987570875,1.2498757087499999,1.2498757087499999,2.49975070875,2.4997507087500006,2.4997507087499997,2.499750708749999,0.14158185046875,1.25076155765625,1.25076155765625,1.2507615576562499,1.2507615576562494,2.5006365576562497,2.50063655765625,2.50063655765625,3.7505115576562496,0.28305051468750003,1.2516474065625,1.2516474065625,1.2516474065624998,2.5015224065624997,2.5015224065625,2.5015224065625006,2.5015224065625006,3.7513974065625,0.42451917890625,1.25253325546875,1.25253325546875,1.2525332554687498,2.50240825546875,2.5024082554687506,2.502408255468751,3.7522832554687513,3.7522832554687504,0.565987843125,1.253419104375,1.253419104375,2.5032941043749997,2.5032941043749997,2.503294104375,2.5032941043750006,3.7531691043750017,3.753169104375001,0.7074565073437501,1.25430495328125,1.25430495328125,2.50417995328125,2.50417995328125,2.5041799532812505,3.754054953281251,3.7540549532812504,3.7540549532812495,0.8489251715625,1.2551908021875,2.5050658021875,2.5050658021874996,2.5050658021874996,2.5050658021875,3.7549408021875004,3.754940802187501,3.7549408021875,0.9903938357812502,1.25607665109375,2.50595165109375,2.50595165109375,2.50595165109375,3.7558266510937504,3.755826651093751,3.7558266510937512,3.7558266510937504,1.1318625,1.2569625,2.5068375,2.5068374999999996,2.5068374999999996,3.7567125,3.7567125000000003,3.7567125000000017,5.006587500000001,8.099999999999601e-7,8.099999999622298e-7,8.099999999622298e-7,8.099999999622298e-7,8.10000000406319e-7,8.10000000406319e-7,8.10000000406319e-7,8.099999995181406e-7,8.099999995181406e-7,0.0010132087500000012,0.0010132087500001052,0.0010132087499998832,0.0010132087499998832,0.0010132087499998832,0.0010132087499998832,0.0010132087499998832,0.0010132087500007714,0.0010132087500007714,0.002025607500000002,0.002025607500000026,0.002025607499999804,0.002025607499999804,0.0020256075000002483,0.0020256075000002483,0.0020256075000002483,0.0020256075000002483,0.0020256075000002483,0.0030380062500000027,0.003038006249999947,0.0030380062500001692,0.0030380062500001692,0.003038006249999725,0.003038006249999725,0.003038006249999725,0.003038006249999725,0.003038006249999725,0.0040504050000000034,0.00405040500000009,0.00405040500000009,0.00405040500000009,0.00405040500000009,0.00405040500000009,0.00405040500000009,0.004050404999999202,0.004050404999999202,0.005062803750000005,0.005062803750000011,0.005062803750000011,0.005062803750000011,0.005062803749999567,0.005062803749999567,0.005062803749999567,0.005062803750000455,0.005062803750000455,0.006075202500000006,0.006075202499999932,0.006075202499999932,0.006075202499999932,0.006075202499999932,0.006075202499999932,0.006075202499999932,0.006075202499999932,0.006075202499999932,0.007087601250000007,0.007087601250000075,0.007087601249999853,0.007087601249999853,0.007087601250000297,0.007087601250000297,0.007087601250000297,0.007087601249999409,0.007087601249999409,0.008100000000000007,0.008099999999999996,0.008100000000000218,0.008100000000000218,0.008099999999999774,0.008099999999999774,0.008099999999999774,0.008100000000000662,0.008100000000000662],\"showlegend\":true,\"name\":\"y1\",\"type\":\"scatter\",\"xaxis\":\"x\",\"line\":{\"width\":1,\"dash\":\"solid\",\"color\":\"rgba(0, 154, 250, 1.000)\",\"shape\":\"linear\"},\"colorbar\":{\"title\":\"\"},\"x\":[1,2,3,4,5,6,7,8,9,10,11,12,13,14,15,16,17,18,19,20,21,22,23,24,25,26,27,28,29,30,31,32,33,34,35,36,37,38,39,40,41,42,43,44,45,46,47,48,49,50,51,52,53,54,55,56,57,58,59,60,61,62,63,64,65,66,67,68,69,70,71,72,73,74,75,76,77,78,79,80,81,82,83,84,85,86,87,88,89,90,91,92,93,94,95,96,97,98,99,100,101,102,103,104,105,106,107,108,109,110,111,112,113,114,115,116,117,118,119,120,121,122,123,124,125,126,127,128,129,130,131,132,133,134,135,136,137,138,139,140,141,142,143,144,145,146,147,148,149,150,151,152,153,154,155,156,157,158,159,160,161,162,163,164,165,166,167,168,169,170,171,172,173,174,175,176,177,178,179,180,181,182,183,184,185,186,187,188,189,190,191,192,193,194,195,196,197,198,199,200,201,202,203,204,205,206,207,208,209,210,211,212,213,214,215,216,217,218,219,220,221,222,223,224,225,226,227,228,229,230,231,232,233,234,235,236,237,238,239,240,241,242,243,244,245,246,247,248,249,250,251,252,253,254,255,256,257,258,259,260,261,262,263,264,265,266,267,268,269,270,271,272,273,274,275,276,277,278,279,280,281,282,283,284,285,286,287,288,289,290,291,292,293,294,295,296,297,298,299,300,301,302,303,304,305,306,307,308,309,310,311,312,313,314,315,316,317,318,319,320,321,322,323,324,325,326,327,328,329,330,331,332,333,334,335,336,337,338,339,340,341,342,343,344,345,346,347,348,349,350,351,352,353,354,355,356,357,358,359,360,361,362,363,364,365,366,367,368,369,370,371,372,373,374,375,376,377,378,379,380,381,382,383,384,385,386,387,388,389,390,391,392,393,394,395,396,397,398,399,400,401,402,403,404,405,406,407,408,409,410,411,412,413,414,415,416,417,418,419,420,421,422,423,424,425,426,427,428,429,430,431,432,433,434,435,436,437,438,439,440,441,442,443,444,445,446,447,448,449,450,451,452,453,454,455,456,457,458,459,460,461,462,463,464,465,466,467,468,469,470,471,472,473,474,475,476,477,478,479,480,481,482,483,484,485,486,487,488,489,490,491,492,493,494,495,496,497,498,499,500,501,502,503,504,505,506,507,508,509,510,511,512,513,514,515,516,517,518,519,520,521,522,523,524,525,526,527,528,529,530,531,532,533,534,535,536,537,538,539,540,541,542,543,544,545,546,547,548,549,550,551,552,553,554,555,556,557,558,559,560,561,562,563,564,565,566,567,568,569,570,571,572,573,574,575,576,577,578,579,580,581,582,583,584,585,586,587,588,589,590,591,592,593,594,595,596,597,598,599,600,601,602,603,604,605,606,607,608,609,610,611,612,613,614,615,616,617,618,619,620,621,622,623,624,625,626,627,628,629,630,631,632,633,634,635,636,637,638,639,640,641,642,643,644,645,646,647,648,649,650,651,652,653,654,655,656,657,658,659,660,661,662,663,664,665,666,667,668,669,670,671,672,673,674,675,676,677,678,679,680,681,682,683,684,685,686,687,688,689,690,691,692,693,694,695,696,697,698,699,700,701,702,703,704,705,706,707,708,709,710,711,712,713,714,715,716,717,718,719,720,721,722,723,724,725,726,727,728,729],\"mode\":\"lines\"}], {\"yaxis\":{\"type\":\"-\",\"titlefont\":{\"size\":15,\"color\":\"rgba(0, 0, 0, 1.000)\",\"family\":\"sans-serif\"},\"title\":\"\",\"tickfont\":{\"size\":11,\"color\":\"rgba(0, 0, 0, 1.000)\",\"family\":\"sans-serif\"},\"ticks\":\"inside\",\"tickmode\":\"array\",\"showgrid\":true,\"tickvals\":[1.0,2.0,3.0,4.0,5.0,6.0,7.0,8.0],\"domain\":[0.03762029746281716,0.9901574803149606],\"ticktext\":[\"1\",\"2\",\"3\",\"4\",\"5\",\"6\",\"7\",\"8\"],\"tickangle\":0,\"zeroline\":false,\"linecolor\":\"rgba(0, 0, 0, 1.000)\",\"tickcolor\":\"rgba(0, 0, 0, 1.000)\",\"anchor\":\"x\"},\"annotations\":[],\"width\":600,\"plot_bgcolor\":\"rgba(255, 255, 255, 1.000)\",\"showlegend\":true,\"legend\":{\"bgcolor\":\"rgba(255, 255, 255, 1.000)\",\"y\":1.0,\"font\":{\"size\":11,\"color\":\"rgba(0, 0, 0, 1.000)\",\"family\":\"sans-serif\"},\"bordercolor\":\"rgba(0, 0, 0, 1.000)\",\"x\":1.0},\"xaxis\":{\"type\":\"-\",\"titlefont\":{\"size\":15,\"color\":\"rgba(0, 0, 0, 1.000)\",\"family\":\"sans-serif\"},\"title\":\"\",\"tickfont\":{\"size\":11,\"color\":\"rgba(0, 0, 0, 1.000)\",\"family\":\"sans-serif\"},\"ticks\":\"inside\",\"tickmode\":\"array\",\"showgrid\":true,\"tickvals\":[100.0,200.0,300.0,400.0,500.0,600.0,700.0],\"domain\":[0.02137649460484106,0.9934383202099737],\"ticktext\":[\"100\",\"200\",\"300\",\"400\",\"500\",\"600\",\"700\"],\"tickangle\":0,\"zeroline\":false,\"linecolor\":\"rgba(0, 0, 0, 1.000)\",\"tickcolor\":\"rgba(0, 0, 0, 1.000)\",\"anchor\":\"y\"},\"paper_bgcolor\":\"rgba(255, 255, 255, 1.000)\",\"height\":400,\"margin\":{\"r\":0,\"l\":0,\"b\":20,\"t\":20}});\n",
       "    </script>\n"
      ]
     },
     "execution_count": 124,
     "metadata": {},
     "output_type": "execute_result"
    }
   ],
   "source": [
    "plot(reshape(c_pol_middle, 729, 1))\n",
    "#plot(hcat(reshape(w_mat[1,:], 729,1), reshape(l_pol_middle, 729, 1)))"
   ]
  },
  {
   "cell_type": "code",
   "execution_count": 125,
   "metadata": {},
   "outputs": [
    {
     "name": "stderr",
     "output_type": "stream",
     "text": [
      "WARNING: Method definition get_float_index(Real, Base.LinSpace) in module Main at In[98]:6 overwritten at In[125]:6.\n",
      "WARNING: Method definition get_float_index(Real, Base.LinSpace, Int64) in module Main at In[98]:6 overwritten at In[125]:6.\n",
      "\u001b[1m\u001b[31mWARNING: replacing docs for 'get_float_index :: Union{Tuple{Real,LinSpace,Int64},Tuple{Real,LinSpace}}' in module 'Main'.\u001b[0m\n"
     ]
    },
    {
     "data": {
      "text/plain": [
       "get_float_index"
      ]
     },
     "execution_count": 125,
     "metadata": {},
     "output_type": "execute_result"
    }
   ],
   "source": [
    "# need to be removed after get_value_for_middle_with_uncertainty is modified.\n",
    "\n",
    "\"get index for a value between grid point\"\n",
    "function get_float_index(x::Real, grid::LinSpace, num_grid::Int = num_grid)\n",
    "# get floating index from asset grid for given scalar asset level\n",
    "    if x < grid[1]\n",
    "        return 1\n",
    "    end\n",
    "    if x> grid[num_grid]       \n",
    "        return num_grid\n",
    "    end\n",
    "    for i = 1:num_grid\n",
    "        if x >= grid[i]\n",
    "            return i + (x - grid[i])/(grid[i+1] - grid[i])\n",
    "        end\n",
    "    end\n",
    "end"
   ]
  },
  {
   "cell_type": "code",
   "execution_count": 126,
   "metadata": {},
   "outputs": [
    {
     "data": {
      "text/plain": [
       "9×81 Array{Float64,2}:\n",
       " 0.116638  1.92083  2.59048  3.08603  …  2.05527  2.22362  2.37668  2.51777\n",
       " 1.60466   2.56236  3.07077  3.49082     2.37512  2.51634  2.64783  2.77125\n",
       " 2.90648   3.18155  3.52665  3.85716     2.64627  2.76982  2.88651  2.9973 \n",
       " 3.44037   3.70373  3.93642  4.19872     2.88495  2.99587  3.10162  3.20281\n",
       " 3.92066   4.10852  4.31564  4.52227     3.10006  3.20138  3.29864  3.39224\n",
       " 4.31564   4.5035   4.67103  4.84212  …  3.29708  3.39081  3.48124  3.56865\n",
       " 4.67103   4.8288   4.99633  5.14865     3.47968  3.56722  3.652    3.73424\n",
       " 4.99633   5.14865  5.28905  5.43033     3.65044  3.73282  3.81283  3.89067\n",
       " 5.28905   5.43033  5.57073  5.70148     3.81127  3.88925  3.96518  4.03922"
      ]
     },
     "execution_count": 126,
     "metadata": {},
     "output_type": "execute_result"
    }
   ],
   "source": [
    "max_values_matrix = generate_max_values_matrix(value_for_middle)[1]"
   ]
  },
  {
   "cell_type": "code",
   "execution_count": 127,
   "metadata": {},
   "outputs": [
    {
     "name": "stderr",
     "output_type": "stream",
     "text": [
      "WARNING: Method definition get_value_for_middle_with_uncertainty(Real) in module Main at In[100]:6 overwritten at In[127]:6.\n",
      "WARNING: Method definition get_value_for_middle_with_uncertainty(Real, Base.LinSpace) in module Main at In[100]:6 overwritten at In[127]:6.\n",
      "WARNING: Method definition get_value_for_middle_with_uncertainty(Real, Base.LinSpace, Any) in module Main at In[100]:6 overwritten at In[127]:6.\n"
     ]
    },
    {
     "data": {
      "text/plain": [
       "get_value_for_middle_with_uncertainty (generic function with 3 methods)"
      ]
     },
     "execution_count": 127,
     "metadata": {},
     "output_type": "execute_result"
    }
   ],
   "source": [
    "############ need refactoring. interpolate accept \"gridded\" interpolation that replace get_float_index function!!!!!!!!!!!!!!!!!\n",
    "\n",
    "# interpolation for a (new asset for young, asset in the last period for middle)\n",
    "# get a = a_new and return value for middle with uncertainty\n",
    "function get_value_for_middle_with_uncertainty(a_new::Real, asset_grid::LinSpace = asset_grid, max_values_matrix = max_values_matrix)\n",
    "    v = zeros(num_grid^2, 1)\n",
    "    a_new_ind = get_float_index(a_new, asset_grid) # get index of asset level in asset grid\n",
    "    for i = 1:size(max_values_matrix, 2)\n",
    "        itp = interpolate(max_values_matrix[:,i],BSpline(Linear()), OnGrid())\n",
    "        v[i] = itp[a_new_ind]\n",
    "    end\n",
    "    return v\n",
    "end"
   ]
  },
  {
   "cell_type": "code",
   "execution_count": 128,
   "metadata": {
    "collapsed": true
   },
   "outputs": [],
   "source": [
    "#plotly()\n",
    "#plot(value_for_middle_mat[:, 30])\n",
    "#plot(reshape(max_values, num_grid^3, 1))\n",
    "#plot(max_values_reshaped)\n"
   ]
  },
  {
   "cell_type": "markdown",
   "metadata": {},
   "source": [
    "## Distribution \n",
    "* assign probability distributions for wage and care need to each bin arbitrary\n",
    "* wage follows lognormal, care need follow gamma distribution"
   ]
  },
  {
   "cell_type": "code",
   "execution_count": 129,
   "metadata": {},
   "outputs": [
    {
     "name": "stderr",
     "output_type": "stream",
     "text": [
      "WARNING: Method definition get_Q(Any, Base.LinSpace) in module Main at In[102]:7 overwritten at In[129]:7.\n",
      "WARNING: Method definition get_Q(Any, Base.LinSpace, Int64) in module Main at In[102]:7 overwritten at In[129]:7.\n"
     ]
    },
    {
     "data": {
      "text/plain": [
       "get_Q (generic function with 2 methods)"
      ]
     },
     "execution_count": 129,
     "metadata": {},
     "output_type": "execute_result"
    }
   ],
   "source": [
    "# generate probability distribution for w and h_H\n",
    "# wage is distributed according to Gauss\n",
    "\n",
    "\n",
    "# calcurate probability at midpoint between each grid \n",
    "function get_Q(dist, grid::LinSpace, num_grid::Int=num_grid)\n",
    "    Q = zeros(num_grid, 1)\n",
    "    for i in 1:num_grid\n",
    "        if i == 1\n",
    "            Q[i] = cdf(dist, (grid[i] + grid[i + 1])/2)\n",
    "        end\n",
    "        if i == num_grid\n",
    "            Q[i] = 1 - cdf(dist, (grid[i - 1] + grid[i])/2) \n",
    "        end\n",
    "        if i > 1 && i < num_grid\n",
    "            Q[i] = cdf(dist, (grid[i] + grid[i + 1])/2) - cdf(dist, (grid[i - 1] + grid[i])/2)\n",
    "        end\n",
    "    end\n",
    "    return Q\n",
    "end\n",
    "\n"
   ]
  },
  {
   "cell_type": "code",
   "execution_count": 130,
   "metadata": {
    "collapsed": true
   },
   "outputs": [],
   "source": [
    "w_dist = LogNormal(0.5, 0.5)\n",
    "h_H_dist = Gamma(0.6, 0.1) # Gamma(0.5, 0.1)\n",
    "\n",
    "# generate Q\n",
    "Q_h_H = get_Q(h_H_dist, h_H_grid);\n",
    "Q_w = get_Q(w_dist, wage_grid);\n",
    "Q = kron(Q_w, Q_h_H);"
   ]
  },
  {
   "cell_type": "code",
   "execution_count": 131,
   "metadata": {},
   "outputs": [
    {
     "ename": "LoadError",
     "evalue": "syntax: incomplete: invalid string syntax",
     "output_type": "error",
     "traceback": [
      "syntax: incomplete: invalid string syntax",
      "",
      " in include_string(::String, ::String) at ./loading.jl:441"
     ]
    }
   ],
   "source": [
    "# calculating value for young\n",
    "\"\"\"function value_for_young(a_new::Real, l::Real, w::Real, Q::Array{Float64, 2}=Q, max_values_matrix::Array{Real, 2}=max_values_matrix, a::Real = 0, h_H::Real = 0, asset_grid::LinSpace = asset_grid, tau::Real = tau, beta::Real = beta)\n",
    "    y = w*(1 - tau)*(1 - h_H - l)\n",
    "    #c = -100\n",
    "    c = (1 + r)*a + y - a_new\n",
    "    if l < 0 || c < 0 || h_H + l > 1 || h_H + l < 0\n",
    "        v = -10000\n",
    "    else\n",
    "        v = util(c, l) + beta*dot(Q, get_value_for_middle_with_uncertainty(a_new, asset_grid, max_values_matrix))\n",
    "    end\n",
    "return v, a_new, l, a, w, h_H, y, c\n",
    "end"
   ]
  },
  {
   "cell_type": "code",
   "execution_count": 132,
   "metadata": {},
   "outputs": [
    {
     "name": "stderr",
     "output_type": "stream",
     "text": [
      "WARNING: Method definition value_for_young(Real, Real, Real, Real, Real, Any) in module Main at In[105]:3 overwritten at In[132]:3.\n",
      "WARNING: Method definition value_for_young(Real, Real, Real, Real, Real, Any, Any) in module Main at In[105]:3 overwritten at In[132]:3.\n",
      "WARNING: Method definition value_for_young(Real, Real, Real, Real, Real, Any, Any, Base.LinSpace) in module Main at In[105]:3 overwritten at In[132]:3.\n",
      "WARNING: Method definition value_for_young(Real, Real, Real, Real, Real, Any, Any, Base.LinSpace, Real) in module Main at In[105]:3 overwritten at In[132]:3.\n",
      "WARNING: Method definition value_for_young(Real, Real, Real, Real, Real, Any, Any, Base.LinSpace, Real, Real) in module Main at In[105]:3 overwritten at In[132]:3.\n"
     ]
    },
    {
     "data": {
      "text/plain": [
       "value_for_young (generic function with 13 methods)"
      ]
     },
     "execution_count": 132,
     "metadata": {},
     "output_type": "execute_result"
    }
   ],
   "source": [
    "# calculating value for young\n",
    "function value_for_young(a_new::Real, l::Real,  a::Real, w::Real, h_H::Real, v_new, Q = Q, asset_grid::LinSpace = asset_grid, tau::Real = tau, beta::Real = beta)\n",
    "    y = w*(1 - tau)*(1 - h_H - l)\n",
    "    #c = -100\n",
    "    c = (1 + r)*a + y - a_new\n",
    "    if l < 0 || c < 0 || h_H + l > 1 || h_H + l < 0\n",
    "        v = -10000\n",
    "    else\n",
    "        v = util(c, l) + beta*dot(v_new, Q)\n",
    "    end\n",
    "return  v, a_new, l, a, w, h_H, y, c\n",
    "end"
   ]
  },
  {
   "cell_type": "code",
   "execution_count": 133,
   "metadata": {
    "collapsed": true
   },
   "outputs": [],
   "source": [
    "# caluculate value for young \n",
    "\n",
    "\n",
    "value_matrix = zeros(num_grid^2, num_grid^3);\n",
    "c_mat = zeros(num_grid^2, num_grid^3);\n",
    "l_mat = zeros(num_grid^2, num_grid^3);\n",
    "y_mat = zeros(num_grid^2, num_grid^3);\n",
    "a_new_mat = ones(num_grid^2, num_grid^3);\n",
    "w_mat = zeros(num_grid^2, num_grid^3);\n",
    "a_mat = zeros(num_grid^2, num_grid^3);\n",
    "h_H_mat = zeros(num_grid^2, num_grid^3);\n",
    "for i = 1:num_grid\n",
    "    for j = 1:num_grid\n",
    "        for k = 1:num_grid\n",
    "            for m = 1:num_grid\n",
    "                for n = 1:num_grid\n",
    "                    v_new = get_value_for_middle_with_uncertainty(asset_grid[i])# value for middle with uncertainty\n",
    "                    result = value_for_young(0, l_grid[j], 0, wage_grid[m], 0, v_new)\n",
    "                    value_matrix[i + (j - 1)num_grid, k + (m - 1)num_grid + (n - 1)num_grid^2] = result[1]\n",
    "                    a_new_mat[i + (j - 1)num_grid, k + (m - 1)num_grid + (n - 1)num_grid^2] = result[2]\n",
    "                    l_mat[i + (j - 1)num_grid, k + (m - 1)num_grid + (n - 1)num_grid^2] = result[3]\n",
    "                    a_mat[i + (j - 1)num_grid, k + (m - 1)num_grid + (n - 1)num_grid^2] = result[4]\n",
    "                    w_mat[i + (j - 1)num_grid, k + (m - 1)num_grid + (n - 1)num_grid^2] = result[5]\n",
    "                    h_H_mat[i + (j - 1)num_grid, k + (m - 1)num_grid + (n - 1)num_grid^2] = result[6]\n",
    "                    y_mat[i + (j - 1)num_grid, k + (m - 1)num_grid + (n - 1)num_grid^2] = result[7]\n",
    "                    c_mat[i + (j - 1)num_grid, k + (m - 1)num_grid + (n - 1)num_grid^2]  = result[8]\n",
    "                end\n",
    "            end\n",
    "        end\n",
    "    end\n",
    "end\n",
    "# get max value for each asset, wage, h_H. maximizing with respect to new asset and leisure\n",
    "max_value, max_ind = findmax(value_matrix, 1)\n",
    "# reshape value matrix to asset_grid x (w x h_H)\n",
    "# this should be fix throughout the imulation\n",
    "max_values_reshaped = reshape(max_value, num_grid, num_grid^2);"
   ]
  },
  {
   "cell_type": "code",
   "execution_count": 134,
   "metadata": {},
   "outputs": [
    {
     "data": {
      "text/plain": [
       "1×729 Array{Float64,2}:\n",
       " 0.000562478  0.000562478  0.000562478  …  5.62478  5.62478  5.62478  5.62478"
      ]
     },
     "execution_count": 134,
     "metadata": {},
     "output_type": "execute_result"
    }
   ],
   "source": [
    "# get policy function for a_new, h_M (Labor supply), c, \n",
    "# policy function for new asset\n",
    "a_new_pol_young = a_new_mat[max_ind]\n",
    "# policy function for labor supply\n",
    "l_pol_young = l_mat[max_ind]\n",
    "h_M_pol_young = 1 - l_pol_young - reshape(h_H_mat[1, :], 1, num_grid^3)\n",
    "c_pol_young = c_mat[max_ind]\n",
    "# policy function for new asset\n",
    "#a_new_pol = a_new_mat[max_ind]\n",
    "# policy function for new asset\n",
    "#a_new_pol = a_new_mat[max_ind]"
   ]
  },
  {
   "cell_type": "code",
   "execution_count": 135,
   "metadata": {},
   "outputs": [
    {
     "data": {
      "text/plain": [
       "1×729 Array{Float64,2}:\n",
       " 0.624975  0.624975  0.624975  0.624975  …  0.624975  0.624975  0.624975"
      ]
     },
     "execution_count": 135,
     "metadata": {},
     "output_type": "execute_result"
    }
   ],
   "source": [
    "h_M_pol_young"
   ]
  },
  {
   "cell_type": "code",
   "execution_count": 136,
   "metadata": {},
   "outputs": [
    {
     "data": {
      "text/plain": [
       "9×81 Array{Float64,2}:\n",
       " 4.69947  5.55774  5.87158  6.10379  …  6.46066  6.60835  6.74262  6.86638\n",
       " 4.69947  5.55774  5.87158  6.10379     6.46066  6.60835  6.74262  6.86638\n",
       " 4.69947  5.55774  5.87158  6.10379     6.46066  6.60835  6.74262  6.86638\n",
       " 4.69947  5.55774  5.87158  6.10379     6.46066  6.60835  6.74262  6.86638\n",
       " 4.69947  5.55774  5.87158  6.10379     6.46066  6.60835  6.74262  6.86638\n",
       " 4.69947  5.55774  5.87158  6.10379  …  6.46066  6.60835  6.74262  6.86638\n",
       " 4.69947  5.55774  5.87158  6.10379     6.46066  6.60835  6.74262  6.86638\n",
       " 4.69947  5.55774  5.87158  6.10379     6.46066  6.60835  6.74262  6.86638\n",
       " 4.69947  5.55774  5.87158  6.10379     6.46066  6.60835  6.74262  6.86638"
      ]
     },
     "execution_count": 136,
     "metadata": {},
     "output_type": "execute_result"
    }
   ],
   "source": [
    "max_values_reshaped"
   ]
  },
  {
   "cell_type": "code",
   "execution_count": 137,
   "metadata": {},
   "outputs": [
    {
     "name": "stdout",
     "output_type": "stream",
     "text": [
      "search: \u001b[1mf\u001b[22m\u001b[1mi\u001b[22m\u001b[1mn\u001b[22m\u001b[1md\u001b[22m\u001b[1mm\u001b[22m\u001b[1ma\u001b[22m\u001b[1mx\u001b[22m \u001b[1mf\u001b[22m\u001b[1mi\u001b[22m\u001b[1mn\u001b[22m\u001b[1md\u001b[22m\u001b[1mm\u001b[22m\u001b[1ma\u001b[22m\u001b[1mx\u001b[22m! \u001b[1mf\u001b[22m\u001b[1mi\u001b[22m\u001b[1mn\u001b[22m\u001b[1md\u001b[22m\u001b[1mm\u001b[22min \u001b[1mf\u001b[22m\u001b[1mi\u001b[22m\u001b[1mn\u001b[22m\u001b[1md\u001b[22m\u001b[1mm\u001b[22min!\n",
      "\n"
     ]
    },
    {
     "data": {
      "text/markdown": [
       "```\n",
       "findmax(itr) -> (x, index)\n",
       "```\n",
       "\n",
       "Returns the maximum element and its index. The collection must not be empty.\n",
       "\n",
       "```jldoctest\n",
       "julia> findmax([8,0.1,-9,pi])\n",
       "(8.0,1)\n",
       "```\n",
       "\n",
       "```\n",
       "findmax(A, region) -> (maxval, index)\n",
       "```\n",
       "\n",
       "For an array input, returns the value and index of the maximum over the given region.\n"
      ],
      "text/plain": [
       "```\n",
       "findmax(itr) -> (x, index)\n",
       "```\n",
       "\n",
       "Returns the maximum element and its index. The collection must not be empty.\n",
       "\n",
       "```jldoctest\n",
       "julia> findmax([8,0.1,-9,pi])\n",
       "(8.0,1)\n",
       "```\n",
       "\n",
       "```\n",
       "findmax(A, region) -> (maxval, index)\n",
       "```\n",
       "\n",
       "For an array input, returns the value and index of the maximum over the given region.\n"
      ]
     },
     "execution_count": 137,
     "metadata": {},
     "output_type": "execute_result"
    }
   ],
   "source": [
    "?findmax\n"
   ]
  },
  {
   "cell_type": "code",
   "execution_count": 138,
   "metadata": {
    "collapsed": true
   },
   "outputs": [],
   "source": [
    "# simulation 100 thousand H/H\n",
    "# initializing matrices\n",
    "num_period = 3;\n",
    "num_hh = 100 # 100000\n",
    "c_record = zeros(num_hh, num_period);\n",
    "a_record = zeros(num_hh, num_period);\n",
    "w_record = zeros(num_hh, num_period);\n",
    "h_H_record = zeros(num_hh, num_period);\n",
    "h_M_record = zeros(num_hh, num_period);\n",
    "\n"
   ]
  },
  {
   "cell_type": "code",
   "execution_count": 139,
   "metadata": {
    "collapsed": true
   },
   "outputs": [],
   "source": [
    "# generate wage, care needs streams for each household\n",
    "\n",
    "w_record = rand(w_dist, num_hh, num_period);\n",
    "w_record[:,3] = 0;\n",
    "h_H_record = rand(h_H_dist, num_hh, num_period);\n",
    "h_H_record[:, 1] = 0;\n",
    "h_H_record[:, 3] = 0;\n"
   ]
  },
  {
   "cell_type": "code",
   "execution_count": 140,
   "metadata": {
    "collapsed": true
   },
   "outputs": [],
   "source": [
    "# return (c, a_new, h_M) for young hh\n",
    "# prepare for interpolation\n",
    "c_pol_young_reshape = reshape(c_pol_young, num_grid, num_grid, num_grid) # reshape for interpolate    \n",
    "a_new_pol_young_reshape = reshape(a_new_pol_young, num_grid, num_grid, num_grid) # reshape for interpolate    \n",
    "h_M_pol_young_reshape = reshape(h_M_pol_young, num_grid, num_grid, num_grid) # reshape for interpolate    \n",
    "c_itp = interpolate((asset_grid, wage_grid, h_H_grid), c_pol_young_reshape, Gridded(Linear()));\n",
    "a_itp = interpolate((asset_grid, wage_grid, h_H_grid), a_new_pol_young_reshape, Gridded(Linear()));\n",
    "h_M_itp = interpolate((asset_grid, wage_grid, h_H_grid), h_M_pol_young_reshape, Gridded(Linear()));\n",
    "\n",
    "for n = 1:num_hh\n",
    "    c_record[n,1] = c_itp[a_record[n,1], w_record[n,1], h_H_record[n,1]]\n",
    "    a_record[n,2] = a_itp[a_record[n,1], w_record[n,1], h_H_record[n,1]]\n",
    "    h_M_record[n,1] = h_M_itp[a_record[n,1], w_record[n,1], h_H_record[n,1]]\n",
    "end\n",
    "\n",
    "\n"
   ]
  },
  {
   "cell_type": "code",
   "execution_count": 141,
   "metadata": {
    "collapsed": true
   },
   "outputs": [],
   "source": [
    "# return (c, a_new, h_M) for middle\n",
    "\n",
    "c_pol_middle_reshape = reshape(c_pol_middle, num_grid, num_grid, num_grid);\n",
    "a_new_pol_middle_reshape = reshape(a_new_pol_middle, num_grid, num_grid, num_grid);\n",
    "h_M_pol_middle_reshape = reshape(h_M_pol_middle, num_grid, num_grid, num_grid);\n",
    "c_itp = interpolate((asset_grid, wage_grid, h_H_grid), c_pol_middle_reshape, Gridded(Linear()));\n",
    "a_itp = interpolate((asset_grid, wage_grid, h_H_grid), a_new_pol_middle_reshape, Gridded(Linear()));\n",
    "h_M_itp = interpolate((asset_grid, wage_grid, h_H_grid), h_M_pol_middle_reshape, Gridded(Linear()));\n",
    "\n",
    "\n",
    "for n = 1:num_hh\n",
    "    c_record[n,2] = c_itp[a_record[n,2], w_record[n,2], h_H_record[n,2]]\n",
    "    a_record[n,3] = a_itp[a_record[n,2], w_record[n,2], h_H_record[n,2]]\n",
    "    h_M_record[n,2] = h_M_itp[a_record[n,2], w_record[n,2], h_H_record[n,2]]\n",
    "end\n",
    "\n",
    "for n = 1:num_hh\n",
    "    c_record[n,3] = (1+r)*a_record[n, 3] + (w_record[n,1] + w_record[n, 2])*0.5*0.5 # replacement rate for pension is 0.5 \n",
    "end"
   ]
  },
  {
   "cell_type": "code",
   "execution_count": 142,
   "metadata": {},
   "outputs": [
    {
     "data": {
      "text/plain": [
       "100×3 Array{Float64,2}:\n",
       " 1.12458   1.12935   1.02904 \n",
       " 0.509903  1.49266   1.02373 \n",
       " 0.611696  1.10463   0.816661\n",
       " 0.977086  0.811055  0.86824 \n",
       " 1.38712   0.703495  0.931976\n",
       " 0.9877    1.12362   1.06342 \n",
       " 0.437306  0.671842  0.521557\n",
       " 1.02263   0.702138  0.768116\n",
       " 0.454662  0.726791  0.607053\n",
       " 0.813289  0.934843  0.798459\n",
       " 0.529742  0.852957  0.621131\n",
       " 0.466412  0.474074  0.458392\n",
       " 1.51029   0.84624   1.06663 \n",
       " ⋮                           \n",
       " 0.585882  0.963079  0.693431\n",
       " 0.852698  1.05663   0.881165\n",
       " 0.683013  0.480039  0.550601\n",
       " 1.56735   0.973542  1.18519 \n",
       " 0.334337  0.531497  0.414955\n",
       " 1.24223   0.714617  0.936663\n",
       " 0.459548  0.653915  0.613735\n",
       " 2.83301   0.627401  1.53943 \n",
       " 0.519979  0.510865  0.513193\n",
       " 0.508929  1.39962   0.900116\n",
       " 1.05583   0.753099  0.814121\n",
       " 1.36094   0.435956  0.810153"
      ]
     },
     "execution_count": 142,
     "metadata": {},
     "output_type": "execute_result"
    }
   ],
   "source": [
    "c_record"
   ]
  },
  {
   "cell_type": "code",
   "execution_count": 143,
   "metadata": {},
   "outputs": [
    {
     "data": {
      "text/plain": [
       "100×3 Array{Float64,2}:\n",
       " 1.99933   2.11561   0.0\n",
       " 0.90653   3.18839   0.0\n",
       " 1.0875    2.17811   0.0\n",
       " 1.73711   1.73339   0.0\n",
       " 2.46609   1.25784   0.0\n",
       " 1.75598   2.497     0.0\n",
       " 0.777463  1.30494   0.0\n",
       " 1.81807   1.25039   0.0\n",
       " 0.808321  1.61591   0.0\n",
       " 1.4459    1.74551   0.0\n",
       " 0.941801  1.53965   0.0\n",
       " 0.82921   1.00036   0.0\n",
       " 2.68506   1.57853   0.0\n",
       " ⋮                      \n",
       " 1.04161   1.72965   0.0\n",
       " 1.51597   2.00711   0.0\n",
       " 1.21429   0.98411   0.0\n",
       " 2.7865    1.9525    0.0\n",
       " 0.594401  1.06142   0.0\n",
       " 2.20851   1.53505   0.0\n",
       " 0.817007  1.63393   0.0\n",
       " 5.03667   1.11704   0.0\n",
       " 0.924443  1.12433   0.0\n",
       " 0.904799  2.69566   0.0\n",
       " 1.8771    1.37578   0.0\n",
       " 2.41955   0.817067  0.0"
      ]
     },
     "execution_count": 143,
     "metadata": {},
     "output_type": "execute_result"
    }
   ],
   "source": [
    "w_record"
   ]
  },
  {
   "cell_type": "code",
   "execution_count": 144,
   "metadata": {},
   "outputs": [
    {
     "data": {
      "text/plain": [
       "100×3 Array{Float64,2}:\n",
       " 0.624975  0.593338  0.0\n",
       " 0.624975  0.520173  0.0\n",
       " 0.624975  0.563669  0.0\n",
       " 0.624975  0.520337  0.0\n",
       " 0.624975  0.622312  0.0\n",
       " 0.624975  0.500068  0.0\n",
       " 0.624975  0.572879  0.0\n",
       " 0.624975  0.624817  0.0\n",
       " 0.624975  0.500462  0.0\n",
       " 0.624975  0.595526  0.0\n",
       " 0.624975  0.616162  0.0\n",
       " 0.624975  0.527692  0.0\n",
       " 0.624975  0.596239  0.0\n",
       " ⋮                      \n",
       " 0.624975  0.619138  0.0\n",
       " 0.624975  0.58521   0.0\n",
       " 0.624975  0.543139  0.0\n",
       " 0.624975  0.554317  0.0\n",
       " 0.624975  0.557442  0.0\n",
       " 0.624975  0.517862  0.0\n",
       " 0.624975  0.445382  0.0\n",
       " 0.624975  0.625076  0.0\n",
       " 0.624975  0.505858  0.0\n",
       " 0.624975  0.5769    0.0\n",
       " 0.624975  0.608979  0.0\n",
       " 0.624975  0.59424   0.0"
      ]
     },
     "execution_count": 144,
     "metadata": {},
     "output_type": "execute_result"
    }
   ],
   "source": [
    "h_M_record"
   ]
  },
  {
   "cell_type": "code",
   "execution_count": 145,
   "metadata": {},
   "outputs": [
    {
     "data": {
      "text/plain": [
       "100×3 Array{Float64,2}:\n",
       " 0.0  0.0317525    0.0\n",
       " 0.0  0.104802     0.0\n",
       " 0.0  0.0613963    0.0\n",
       " 0.0  0.104832     0.0\n",
       " 0.0  0.00305806   0.0\n",
       " 0.0  0.146636     0.0\n",
       " 0.0  0.0524383    0.0\n",
       " 0.0  0.000557281  0.0\n",
       " 0.0  0.247517     0.0\n",
       " 0.0  0.0296768    0.0\n",
       " 0.0  0.00911499   0.0\n",
       " 0.0  0.097625     0.0\n",
       " 0.0  0.0290144    0.0\n",
       " ⋮                    \n",
       " 0.0  0.00608089   0.0\n",
       " 0.0  0.0399101    0.0\n",
       " 0.0  0.0821915    0.0\n",
       " 0.0  0.0708084    0.0\n",
       " 0.0  0.0678937    0.0\n",
       " 0.0  0.107356     0.0\n",
       " 0.0  0.304876     0.0\n",
       " 0.0  0.000309655  0.0\n",
       " 0.0  0.119431     0.0\n",
       " 0.0  0.0480747    0.0\n",
       " 0.0  0.0163443    0.0\n",
       " 0.0  0.0311444    0.0"
      ]
     },
     "execution_count": 145,
     "metadata": {},
     "output_type": "execute_result"
    }
   ],
   "source": [
    "h_H_record"
   ]
  },
  {
   "cell_type": "code",
   "execution_count": 146,
   "metadata": {},
   "outputs": [
    {
     "data": {
      "text/html": [
       "119.35184309540679"
      ],
      "text/plain": [
       "119.35184309540679"
      ]
     },
     "execution_count": 146,
     "metadata": {},
     "output_type": "execute_result"
    }
   ],
   "source": [
    "sum(h_M_record)"
   ]
  },
  {
   "cell_type": "code",
   "execution_count": 147,
   "metadata": {},
   "outputs": [
    {
     "data": {
      "text/html": [
       "297.9635068946603"
      ],
      "text/plain": [
       "297.9635068946603"
      ]
     },
     "execution_count": 147,
     "metadata": {},
     "output_type": "execute_result"
    }
   ],
   "source": [
    "sum(c_record)"
   ]
  },
  {
   "cell_type": "code",
   "execution_count": null,
   "metadata": {},
   "outputs": [],
   "source": []
  },
  {
   "cell_type": "code",
   "execution_count": null,
   "metadata": {
    "collapsed": true
   },
   "outputs": [],
   "source": []
  },
  {
   "cell_type": "code",
   "execution_count": null,
   "metadata": {
    "collapsed": true
   },
   "outputs": [],
   "source": []
  },
  {
   "cell_type": "code",
   "execution_count": null,
   "metadata": {
    "collapsed": true
   },
   "outputs": [],
   "source": []
  },
  {
   "cell_type": "code",
   "execution_count": null,
   "metadata": {
    "collapsed": true
   },
   "outputs": [],
   "source": []
  },
  {
   "cell_type": "code",
   "execution_count": null,
   "metadata": {
    "collapsed": true
   },
   "outputs": [],
   "source": []
  },
  {
   "cell_type": "code",
   "execution_count": null,
   "metadata": {
    "collapsed": true
   },
   "outputs": [],
   "source": []
  },
  {
   "cell_type": "code",
   "execution_count": null,
   "metadata": {
    "collapsed": true
   },
   "outputs": [],
   "source": []
  },
  {
   "cell_type": "code",
   "execution_count": null,
   "metadata": {
    "collapsed": true
   },
   "outputs": [],
   "source": []
  },
  {
   "cell_type": "code",
   "execution_count": null,
   "metadata": {
    "collapsed": true
   },
   "outputs": [],
   "source": []
  },
  {
   "cell_type": "code",
   "execution_count": null,
   "metadata": {
    "collapsed": true
   },
   "outputs": [],
   "source": []
  },
  {
   "cell_type": "code",
   "execution_count": null,
   "metadata": {
    "collapsed": true
   },
   "outputs": [],
   "source": []
  },
  {
   "cell_type": "code",
   "execution_count": null,
   "metadata": {
    "collapsed": true
   },
   "outputs": [],
   "source": []
  },
  {
   "cell_type": "code",
   "execution_count": null,
   "metadata": {
    "collapsed": true
   },
   "outputs": [],
   "source": []
  },
  {
   "cell_type": "code",
   "execution_count": null,
   "metadata": {
    "collapsed": true
   },
   "outputs": [],
   "source": []
  },
  {
   "cell_type": "code",
   "execution_count": null,
   "metadata": {
    "collapsed": true
   },
   "outputs": [],
   "source": []
  },
  {
   "cell_type": "code",
   "execution_count": null,
   "metadata": {
    "collapsed": true
   },
   "outputs": [],
   "source": []
  },
  {
   "cell_type": "code",
   "execution_count": null,
   "metadata": {
    "collapsed": true
   },
   "outputs": [],
   "source": []
  },
  {
   "cell_type": "code",
   "execution_count": null,
   "metadata": {
    "collapsed": true
   },
   "outputs": [],
   "source": []
  }
 ],
 "metadata": {
  "celltoolbar": "Slideshow",
  "kernelspec": {
   "display_name": "Julia 0.5.2",
   "language": "julia",
   "name": "julia-0.5"
  },
  "language_info": {
   "file_extension": ".jl",
   "mimetype": "application/julia",
   "name": "julia",
   "version": "0.5.2"
  }
 },
 "nbformat": 4,
 "nbformat_minor": 2
}
