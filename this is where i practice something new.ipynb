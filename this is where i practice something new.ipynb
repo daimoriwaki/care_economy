{
 "cells": [
  {
   "cell_type": "code",
   "execution_count": 1,
   "metadata": {},
   "outputs": [
    {
     "data": {
      "text/plain": [
       "true"
      ]
     },
     "execution_count": 1,
     "metadata": {},
     "output_type": "execute_result"
    }
   ],
   "source": [
    "x = 1;\n",
    "(x == 1)"
   ]
  },
  {
   "cell_type": "code",
   "execution_count": 3,
   "metadata": {},
   "outputs": [
    {
     "data": {
      "text/plain": [
       "0"
      ]
     },
     "execution_count": 3,
     "metadata": {},
     "output_type": "execute_result"
    }
   ],
   "source": [
    "(x == 2)*1\n",
    "\n"
   ]
  },
  {
   "cell_type": "code",
   "execution_count": 6,
   "metadata": {},
   "outputs": [
    {
     "ename": "LoadError",
     "evalue": "UndefVarError: pension not defined",
     "output_type": "error",
     "traceback": [
      "UndefVarError: pension not defined",
      "",
      " in include_string(::String, ::String) at ./loading.jl:441"
     ]
    }
   ],
   "source": [
    "pension"
   ]
  },
  {
   "cell_type": "code",
   "execution_count": 8,
   "metadata": {},
   "outputs": [
    {
     "ename": "LoadError",
     "evalue": "UndefVarError: ? not defined",
     "output_type": "error",
     "traceback": [
      "UndefVarError: ? not defined",
      "",
      " in include_string(::String, ::String) at ./loading.jl:441"
     ]
    }
   ],
   "source": [
    "using QuantEcon\n"
   ]
  },
  {
   "cell_type": "code",
   "execution_count": 9,
   "metadata": {},
   "outputs": [
    {
     "name": "stdout",
     "output_type": "stream",
     "text": [
      "search: \u001b[1mt\u001b[22m\u001b[1ma\u001b[22m\u001b[1mu\u001b[22m\u001b[1mc\u001b[22m\u001b[1mh\u001b[22m\u001b[1me\u001b[22m\u001b[1mn\u001b[22m\n",
      "\n"
     ]
    },
    {
     "data": {
      "text/markdown": [
       "Tauchen's (1996) method for approximating AR(1) process with finite markov chain\n",
       "\n",
       "The process follows\n",
       "\n",
       "$$\n",
       "    y_t = \\mu + \\rho y_{t-1} + \\epsilon_t\n",
       "$$\n",
       "\n",
       "where $\\epsilon_t \\sim N (0, \\sigma^2)$\n",
       "\n",
       "##### Arguments\n",
       "\n",
       "  * `N::Integer`: Number of points in markov process\n",
       "  * `ρ::Real` : Persistence parameter in AR(1) process\n",
       "  * `σ::Real` : Standard deviation of random component of AR(1) process\n",
       "  * `μ::Real(0.0)` : Mean of AR(1) process\n",
       "  * `n_std::Integer(3)` : The number of standard deviations to each side the process should span\n",
       "\n",
       "##### Returns\n",
       "\n",
       "  * `mc::MarkovChain{Float64}` : Markov chain holding the state values and transition matrix\n"
      ],
      "text/plain": [
       "Tauchen's (1996) method for approximating AR(1) process with finite markov chain\n",
       "\n",
       "The process follows\n",
       "\n",
       "$$\n",
       "    y_t = \\mu + \\rho y_{t-1} + \\epsilon_t\n",
       "$$\n",
       "\n",
       "where $\\epsilon_t \\sim N (0, \\sigma^2)$\n",
       "\n",
       "##### Arguments\n",
       "\n",
       "  * `N::Integer`: Number of points in markov process\n",
       "  * `ρ::Real` : Persistence parameter in AR(1) process\n",
       "  * `σ::Real` : Standard deviation of random component of AR(1) process\n",
       "  * `μ::Real(0.0)` : Mean of AR(1) process\n",
       "  * `n_std::Integer(3)` : The number of standard deviations to each side the process should span\n",
       "\n",
       "##### Returns\n",
       "\n",
       "  * `mc::MarkovChain{Float64}` : Markov chain holding the state values and transition matrix\n"
      ]
     },
     "execution_count": 9,
     "metadata": {},
     "output_type": "execute_result"
    }
   ],
   "source": [
    "?tauchen"
   ]
  },
  {
   "cell_type": "code",
   "execution_count": 32,
   "metadata": {},
   "outputs": [
    {
     "data": {
      "text/plain": [
       "2×2 Array{Float64,2}:\n",
       " 0.1   0.2 \n",
       " 0.05  0.01"
      ]
     },
     "execution_count": 32,
     "metadata": {},
     "output_type": "execute_result"
    }
   ],
   "source": [
    "health_mat = [0.1 0.2; 0.05 0.01]"
   ]
  },
  {
   "cell_type": "code",
   "execution_count": 38,
   "metadata": {
    "collapsed": true
   },
   "outputs": [],
   "source": [
    "sum_hour_home = 0;\n",
    "for i in 1:size(health_mat,1)\n",
    "    if health_mat[i] < 0.1 && health_mat[i] >= 0\n",
    "        sum_hour_home += health_mat[i] \n",
    "    end\n",
    "end"
   ]
  },
  {
   "cell_type": "code",
   "execution_count": 34,
   "metadata": {},
   "outputs": [
    {
     "data": {
      "text/plain": [
       "2×2 BitArray{2}:\n",
       " false  false\n",
       " false  false"
      ]
     },
     "execution_count": 34,
     "metadata": {},
     "output_type": "execute_result"
    }
   ],
   "source": [
    "(health_mat .== 0)"
   ]
  },
  {
   "cell_type": "code",
   "execution_count": 35,
   "metadata": {},
   "outputs": [
    {
     "data": {
      "text/plain": [
       "0.05"
      ]
     },
     "execution_count": 35,
     "metadata": {},
     "output_type": "execute_result"
    }
   ],
   "source": [
    "sum_hour_home"
   ]
  },
  {
   "cell_type": "code",
   "execution_count": 37,
   "metadata": {},
   "outputs": [
    {
     "data": {
      "text/plain": [
       "2"
      ]
     },
     "execution_count": 37,
     "metadata": {},
     "output_type": "execute_result"
    }
   ],
   "source": [
    "size(health_mat, 1)"
   ]
  },
  {
   "cell_type": "code",
   "execution_count": 39,
   "metadata": {},
   "outputs": [
    {
     "name": "stdout",
     "output_type": "stream",
     "text": [
      "search: \u001b[1mc\u001b[22m\u001b[1mo\u001b[22m\u001b[1mu\u001b[22m\u001b[1mn\u001b[22m\u001b[1mt\u001b[22m \u001b[1mc\u001b[22m\u001b[1mo\u001b[22m\u001b[1mu\u001b[22m\u001b[1mn\u001b[22m\u001b[1mt\u001b[22mnz \u001b[1mc\u001b[22m\u001b[1mo\u001b[22m\u001b[1mu\u001b[22m\u001b[1mn\u001b[22m\u001b[1mt\u001b[22mfrom \u001b[1mc\u001b[22m\u001b[1mo\u001b[22m\u001b[1mu\u001b[22m\u001b[1mn\u001b[22m\u001b[1mt\u001b[22mlines \u001b[1mc\u001b[22m\u001b[1mo\u001b[22m\u001b[1mu\u001b[22m\u001b[1mn\u001b[22m\u001b[1mt\u001b[22m_ones \u001b[1mc\u001b[22m\u001b[1mo\u001b[22m\u001b[1mu\u001b[22m\u001b[1mn\u001b[22m\u001b[1mt\u001b[22m_zeros \u001b[1mc\u001b[22mheckb\u001b[1mo\u001b[22m\u001b[1mu\u001b[22m\u001b[1mn\u001b[22mds\n",
      "\n"
     ]
    },
    {
     "data": {
      "text/markdown": [
       "```\n",
       "count(p, itr) -> Integer\n",
       "```\n",
       "\n",
       "Count the number of elements in `itr` for which predicate `p` returns `true`.\n",
       "\n",
       "```jldoctest\n",
       "julia> count(i->(4<=i<=6), [2,3,4,5,6])\n",
       "3\n",
       "```\n"
      ],
      "text/plain": [
       "```\n",
       "count(p, itr) -> Integer\n",
       "```\n",
       "\n",
       "Count the number of elements in `itr` for which predicate `p` returns `true`.\n",
       "\n",
       "```jldoctest\n",
       "julia> count(i->(4<=i<=6), [2,3,4,5,6])\n",
       "3\n",
       "```\n"
      ]
     },
     "execution_count": 39,
     "metadata": {},
     "output_type": "execute_result"
    }
   ],
   "source": [
    "?count"
   ]
  },
  {
   "cell_type": "code",
   "execution_count": 45,
   "metadata": {},
   "outputs": [
    {
     "data": {
      "text/plain": [
       "2"
      ]
     },
     "execution_count": 45,
     "metadata": {},
     "output_type": "execute_result"
    }
   ],
   "source": [
    "count(i ->(0<=i<0.1), health_mat)"
   ]
  },
  {
   "cell_type": "code",
   "execution_count": 42,
   "metadata": {},
   "outputs": [
    {
     "data": {
      "text/plain": [
       "2×2 Array{Float64,2}:\n",
       " 0.1   0.2 \n",
       " 0.05  0.01"
      ]
     },
     "execution_count": 42,
     "metadata": {},
     "output_type": "execute_result"
    }
   ],
   "source": [
    "health_mat"
   ]
  },
  {
   "cell_type": "code",
   "execution_count": 2,
   "metadata": {},
   "outputs": [
    {
     "data": {
      "text/plain": [
       "true"
      ]
     },
     "execution_count": 2,
     "metadata": {},
     "output_type": "execute_result"
    }
   ],
   "source": [
    "Float64 <: Real"
   ]
  },
  {
   "cell_type": "code",
   "execution_count": 3,
   "metadata": {},
   "outputs": [
    {
     "data": {
      "text/plain": [
       "false"
      ]
     },
     "execution_count": 3,
     "metadata": {},
     "output_type": "execute_result"
    }
   ],
   "source": [
    "Real <: Float64 "
   ]
  },
  {
   "cell_type": "code",
   "execution_count": 4,
   "metadata": {},
   "outputs": [
    {
     "data": {
      "text/plain": [
       "false"
      ]
     },
     "execution_count": 4,
     "metadata": {},
     "output_type": "execute_result"
    }
   ],
   "source": [
    "Real <: String"
   ]
  },
  {
   "cell_type": "code",
   "execution_count": 6,
   "metadata": {},
   "outputs": [
    {
     "data": {
      "text/plain": [
       "false"
      ]
     },
     "execution_count": 6,
     "metadata": {},
     "output_type": "execute_result"
    }
   ],
   "source": [
    "Float64 <: Float32"
   ]
  },
  {
   "cell_type": "code",
   "execution_count": 20,
   "metadata": {},
   "outputs": [
    {
     "data": {
      "text/plain": [
       "test (generic function with 1 method)"
      ]
     },
     "execution_count": 20,
     "metadata": {},
     "output_type": "execute_result"
    }
   ],
   "source": [
    "function test(a::Real)\n",
    "    print(a)\n",
    "end"
   ]
  },
  {
   "cell_type": "code",
   "execution_count": 8,
   "metadata": {},
   "outputs": [
    {
     "name": "stdout",
     "output_type": "stream",
     "text": [
      "10"
     ]
    }
   ],
   "source": [
    "test(10)"
   ]
  },
  {
   "cell_type": "code",
   "execution_count": 22,
   "metadata": {},
   "outputs": [
    {
     "name": "stdout",
     "output_type": "stream",
     "text": [
      "10.0"
     ]
    }
   ],
   "source": [
    "test(10.00)"
   ]
  },
  {
   "cell_type": "code",
   "execution_count": 23,
   "metadata": {},
   "outputs": [
    {
     "data": {
      "text/plain": [
       "10.0"
      ]
     },
     "execution_count": 23,
     "metadata": {},
     "output_type": "execute_result"
    }
   ],
   "source": [
    "a = 10.0::Float64"
   ]
  },
  {
   "cell_type": "code",
   "execution_count": 24,
   "metadata": {},
   "outputs": [
    {
     "data": {
      "text/plain": [
       "10.0"
      ]
     },
     "execution_count": 24,
     "metadata": {},
     "output_type": "execute_result"
    }
   ],
   "source": [
    "a"
   ]
  },
  {
   "cell_type": "code",
   "execution_count": 25,
   "metadata": {},
   "outputs": [
    {
     "data": {
      "text/plain": [
       "Float64"
      ]
     },
     "execution_count": 25,
     "metadata": {},
     "output_type": "execute_result"
    }
   ],
   "source": [
    "typeof(a)"
   ]
  },
  {
   "cell_type": "code",
   "execution_count": 26,
   "metadata": {},
   "outputs": [
    {
     "name": "stdout",
     "output_type": "stream",
     "text": [
      "10.0"
     ]
    }
   ],
   "source": [
    "test(a)"
   ]
  },
  {
   "cell_type": "code",
   "execution_count": 17,
   "metadata": {
    "collapsed": true
   },
   "outputs": [],
   "source": [
    "workspace()"
   ]
  },
  {
   "cell_type": "code",
   "execution_count": 18,
   "metadata": {},
   "outputs": [
    {
     "ename": "LoadError",
     "evalue": "UndefVarError: test not defined",
     "output_type": "error",
     "traceback": [
      "UndefVarError: test not defined",
      "",
      " in include_string(::String, ::String) at ./loading.jl:441"
     ]
    }
   ],
   "source": [
    "test"
   ]
  },
  {
   "cell_type": "code",
   "execution_count": 1,
   "metadata": {
    "collapsed": true
   },
   "outputs": [],
   "source": [
    "using Interpolations"
   ]
  },
  {
   "cell_type": "code",
   "execution_count": 2,
   "metadata": {},
   "outputs": [
    {
     "name": "stdout",
     "output_type": "stream",
     "text": [
      "search: \u001b[1mi\u001b[22m\u001b[1mn\u001b[22m\u001b[1mt\u001b[22m\u001b[1me\u001b[22m\u001b[1mr\u001b[22m\u001b[1mp\u001b[22m\u001b[1mo\u001b[22m\u001b[1ml\u001b[22m\u001b[1ma\u001b[22m\u001b[1mt\u001b[22m\u001b[1me\u001b[22m \u001b[1mi\u001b[22m\u001b[1mn\u001b[22m\u001b[1mt\u001b[22m\u001b[1me\u001b[22m\u001b[1mr\u001b[22m\u001b[1mp\u001b[22m\u001b[1mo\u001b[22m\u001b[1ml\u001b[22m\u001b[1ma\u001b[22m\u001b[1mt\u001b[22m\u001b[1me\u001b[22m! \u001b[1mI\u001b[22m\u001b[1mn\u001b[22m\u001b[1mt\u001b[22m\u001b[1me\u001b[22m\u001b[1mr\u001b[22m\u001b[1mp\u001b[22m\u001b[1mo\u001b[22m\u001b[1ml\u001b[22m\u001b[1ma\u001b[22m\u001b[1mt\u001b[22mions Scaled\u001b[1mI\u001b[22m\u001b[1mn\u001b[22m\u001b[1mt\u001b[22m\u001b[1me\u001b[22m\u001b[1mr\u001b[22m\u001b[1mp\u001b[22m\u001b[1mo\u001b[22m\u001b[1ml\u001b[22m\u001b[1ma\u001b[22m\u001b[1mt\u001b[22mion\n",
      "\n"
     ]
    },
    {
     "data": {
      "text/markdown": [
       "No documentation found.\n",
       "\n",
       "`Interpolations.interpolate` is a `Function`.\n",
       "\n",
       "```\n",
       "# 4 methods for generic function \"interpolate\":\n",
       "interpolate{TWeights,TC,IT<:Union{Interpolations.BSpline{D<:Interpolations.Degree},Interpolations.NoInterp,Tuple{Vararg{Union{Interpolations.BSpline,Interpolations.NoInterp},N}}},GT<:Union{Interpolations.GridType,Interpolations.NoInterp,Tuple{Vararg{Union{Interpolations.GridType,Interpolations.NoInterp},N}}}}(::Type{TWeights}, ::Type{TC}, A, it::IT, gt::GT) at /home/daisuke_moriwaki/.julia/v0.5/Interpolations/src/b-splines/b-splines.jl:73\n",
       "interpolate{IT<:Union{Interpolations.BSpline{D<:Interpolations.Degree},Interpolations.NoInterp,Tuple{Vararg{Union{Interpolations.BSpline,Interpolations.NoInterp},N}}},GT<:Union{Interpolations.GridType,Interpolations.NoInterp,Tuple{Vararg{Union{Interpolations.GridType,Interpolations.NoInterp},N}}}}(A::AbstractArray, it::IT, gt::GT) at /home/daisuke_moriwaki/.julia/v0.5/Interpolations/src/b-splines/b-splines.jl:77\n",
       "interpolate{TWeights,TCoefs,Tel,N,IT<:Union{Interpolations.Gridded{D<:Interpolations.Degree},Interpolations.NoInterp,Tuple{Vararg{Union{Interpolations.Gridded,Interpolations.NoInterp},N}}}}(::Type{TWeights}, ::Type{TCoefs}, knots::Tuple{Vararg{Union{AbstractArray{T<:Any,1},Tuple},N}}, A::AbstractArray{Tel,N}, it::IT) at /home/daisuke_moriwaki/.julia/v0.5/Interpolations/src/gridded/gridded.jl:54\n",
       "interpolate{Tel,N,IT<:Union{Interpolations.Gridded{D<:Interpolations.Degree},Interpolations.NoInterp,Tuple{Vararg{Union{Interpolations.Gridded,Interpolations.NoInterp},N}}}}(knots::Tuple{Vararg{Union{AbstractArray{T<:Any,1},Tuple},N}}, A::AbstractArray{Tel,N}, it::IT) at /home/daisuke_moriwaki/.julia/v0.5/Interpolations/src/gridded/gridded.jl:57\n",
       "```\n"
      ],
      "text/plain": [
       "No documentation found.\n",
       "\n",
       "`Interpolations.interpolate` is a `Function`.\n",
       "\n",
       "```\n",
       "# 4 methods for generic function \"interpolate\":\n",
       "interpolate{TWeights,TC,IT<:Union{Interpolations.BSpline{D<:Interpolations.Degree},Interpolations.NoInterp,Tuple{Vararg{Union{Interpolations.BSpline,Interpolations.NoInterp},N}}},GT<:Union{Interpolations.GridType,Interpolations.NoInterp,Tuple{Vararg{Union{Interpolations.GridType,Interpolations.NoInterp},N}}}}(::Type{TWeights}, ::Type{TC}, A, it::IT, gt::GT) at /home/daisuke_moriwaki/.julia/v0.5/Interpolations/src/b-splines/b-splines.jl:73\n",
       "interpolate{IT<:Union{Interpolations.BSpline{D<:Interpolations.Degree},Interpolations.NoInterp,Tuple{Vararg{Union{Interpolations.BSpline,Interpolations.NoInterp},N}}},GT<:Union{Interpolations.GridType,Interpolations.NoInterp,Tuple{Vararg{Union{Interpolations.GridType,Interpolations.NoInterp},N}}}}(A::AbstractArray, it::IT, gt::GT) at /home/daisuke_moriwaki/.julia/v0.5/Interpolations/src/b-splines/b-splines.jl:77\n",
       "interpolate{TWeights,TCoefs,Tel,N,IT<:Union{Interpolations.Gridded{D<:Interpolations.Degree},Interpolations.NoInterp,Tuple{Vararg{Union{Interpolations.Gridded,Interpolations.NoInterp},N}}}}(::Type{TWeights}, ::Type{TCoefs}, knots::Tuple{Vararg{Union{AbstractArray{T<:Any,1},Tuple},N}}, A::AbstractArray{Tel,N}, it::IT) at /home/daisuke_moriwaki/.julia/v0.5/Interpolations/src/gridded/gridded.jl:54\n",
       "interpolate{Tel,N,IT<:Union{Interpolations.Gridded{D<:Interpolations.Degree},Interpolations.NoInterp,Tuple{Vararg{Union{Interpolations.Gridded,Interpolations.NoInterp},N}}}}(knots::Tuple{Vararg{Union{AbstractArray{T<:Any,1},Tuple},N}}, A::AbstractArray{Tel,N}, it::IT) at /home/daisuke_moriwaki/.julia/v0.5/Interpolations/src/gridded/gridded.jl:57\n",
       "```\n"
      ]
     },
     "execution_count": 2,
     "metadata": {},
     "output_type": "execute_result"
    }
   ],
   "source": [
    "?interpolate"
   ]
  },
  {
   "cell_type": "code",
   "execution_count": 21,
   "metadata": {},
   "outputs": [
    {
     "data": {
      "text/plain": [
       "0.37850831729426726"
      ]
     },
     "execution_count": 21,
     "metadata": {},
     "output_type": "execute_result"
    }
   ],
   "source": [
    "A = rand(2)\n",
    "A_x = linspace(0,1,2)\n",
    "#knots = A_x\n",
    "knots = (A_x,)\n",
    "itp = interpolate(knots, A, Gridded(Linear()))\n",
    "itp[0.5]"
   ]
  },
  {
   "cell_type": "code",
   "execution_count": 23,
   "metadata": {},
   "outputs": [
    {
     "data": {
      "text/plain": [
       "2-element LinSpace{Float64}:\n",
       " 0.0,1.0"
      ]
     },
     "execution_count": 23,
     "metadata": {},
     "output_type": "execute_result"
    }
   ],
   "source": [
    "A_x"
   ]
  },
  {
   "cell_type": "code",
   "execution_count": 5,
   "metadata": {},
   "outputs": [
    {
     "data": {
      "text/plain": [
       "([1.0,3.0,5.0,7.0,9.0,11.0,13.0,15.0,17.0,19.0,21.0,23.0,25.0,27.0,29.0,31.0,33.0,35.0,37.0,39.0],)"
      ]
     },
     "execution_count": 5,
     "metadata": {},
     "output_type": "execute_result"
    }
   ],
   "source": [
    "knots"
   ]
  },
  {
   "cell_type": "code",
   "execution_count": 7,
   "metadata": {},
   "outputs": [
    {
     "data": {
      "text/plain": [
       "Array{Float64,1}"
      ]
     },
     "execution_count": 7,
     "metadata": {},
     "output_type": "execute_result"
    }
   ],
   "source": [
    "typeof(A_x)"
   ]
  },
  {
   "cell_type": "code",
   "execution_count": 8,
   "metadata": {},
   "outputs": [
    {
     "data": {
      "text/plain": [
       "Tuple{Array{Float64,1}}"
      ]
     },
     "execution_count": 8,
     "metadata": {},
     "output_type": "execute_result"
    }
   ],
   "source": [
    "typeof(knots)"
   ]
  },
  {
   "cell_type": "code",
   "execution_count": 25,
   "metadata": {},
   "outputs": [
    {
     "data": {
      "text/plain": [
       "gen_prob_vec (generic function with 6 methods)"
      ]
     },
     "execution_count": 25,
     "metadata": {},
     "output_type": "execute_result"
    }
   ],
   "source": [
    "function gen_prob_vec(current_wage, current_hour_home, current_average_wage, wage_grid = wage_grid, \n",
    "        hour_home_grid = hour_home_grid, wage_trans_mat = wage_trans_mat, average_wage_trans_mat = average_wage_trans_mat,\n",
    "        hour_home_trans_mat= hour_home_trans_mat)\n",
    "    average_wage_prob_vector = interpolate_vector(current_average_wage, wage_grid, average_wage_trans_mat)\n",
    "    wage_prob_vector = interpolate_vector(current_wage, wage_grid, wage_trans_mat)\n",
    "    hour_home_prob_vector = interpolate_vector(current_hour_home, hour_home_grid, hour_home_trans_mat)\n",
    "    return kron(kron(wage_prob_vector, hour_home_prob_vector), current_average_wage)\n",
    "end"
   ]
  },
  {
   "cell_type": "code",
   "execution_count": 26,
   "metadata": {},
   "outputs": [
    {
     "ename": "LoadError",
     "evalue": "UndefVarError: hour_home_grid not defined",
     "output_type": "error",
     "traceback": [
      "UndefVarError: hour_home_grid not defined",
      "",
      " in gen_prob_vec(::Int64, ::Int64, ::Int64, ::Int64) at ./In[25]:4",
      " in include_string(::String, ::String) at ./loading.jl:441"
     ]
    }
   ],
   "source": [
    "gen_prob_vec(1,1,1,1)"
   ]
  },
  {
   "cell_type": "code",
   "execution_count": null,
   "metadata": {
    "collapsed": true
   },
   "outputs": [],
   "source": []
  }
 ],
 "metadata": {
  "kernelspec": {
   "display_name": "Julia 0.5.2",
   "language": "julia",
   "name": "julia-0.5"
  },
  "language_info": {
   "file_extension": ".jl",
   "mimetype": "application/julia",
   "name": "julia",
   "version": "0.5.2"
  }
 },
 "nbformat": 4,
 "nbformat_minor": 2
}
