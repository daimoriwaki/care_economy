{
 "cells": [
  {
   "cell_type": "markdown",
   "metadata": {
    "slideshow": {
     "slide_type": "slide"
    }
   },
   "source": [
    "# The Effect of Informal Care on Labor Supply: A Macroeconomic Perspective\n",
    "\n",
    "## 2018.3.12 ICES, Hosei University\n",
    "\n",
    "### Daisuke Moriwaki\n",
    "\n",
    "Cyberagent, Inc., AI Lab        \n",
    "Keio University, School of Medicine\n",
    "<daisuke.moriwaki@gmail.com>   \n",
    "github [daimoriwaki/care_economy](https://github.com/daimoriwaki/care_economy)"
   ]
  },
  {
   "cell_type": "code",
   "execution_count": 91,
   "metadata": {
    "collapsed": true,
    "slideshow": {
     "slide_type": "skip"
    }
   },
   "outputs": [],
   "source": [
    "#workspace()"
   ]
  },
  {
   "cell_type": "code",
   "execution_count": 92,
   "metadata": {
    "collapsed": true,
    "slideshow": {
     "slide_type": "skip"
    }
   },
   "outputs": [],
   "source": [
    "using QuantEcon\n",
    "using Plots\n",
    "using Interpolations\n",
    "using Distributions\n",
    "using DataFrames\n",
    "srand(20150423);\n",
    "#using BenchmarkTools\n",
    "#using ParallelAccelerator"
   ]
  },
  {
   "cell_type": "markdown",
   "metadata": {
    "slideshow": {
     "slide_type": "slide"
    }
   },
   "source": [
    "# Motivation\n",
    "* In 2017, it is reported taht there is 6 million care revievers in Japan by MLHW. The number is expected to increase as the baby boomers, or Dankai generations become \"late elderly\".\n",
    "* It is unclear whether the Japanese LTCI system is sustanable in the sense of financially, which has been pointed out by several researchers.\n",
    "* More importantly, the impact of care needs on economy itself (oppose to accountant's view) should be studied.\n"
   ]
  },
  {
   "cell_type": "markdown",
   "metadata": {
    "slideshow": {
     "slide_type": "slide"
    }
   },
   "source": [
    "* It is easy to predict that \"caregiver ratio\" (the number of caregivers per one care receiver) explodes in the near future.\n",
    "* Aside from the financial sustainability, the explosion of caregiver ratio cause several problems\n",
    "    * insufficient care for elderly (insufficient availability of cheap nursing home, *tokuyou*)\n",
    "    * Poverty due to care-leave for frail older family\n",
    "    * *Economy itself* due to less labor supply\n",
    "* Such a wide range of problem should be tackled by macroeconomic model rather than causal analysis."
   ]
  },
  {
   "cell_type": "markdown",
   "metadata": {
    "slideshow": {
     "slide_type": "slide"
    }
   },
   "source": [
    "# Summary of the Results\n",
    "* I ran a simplified care economy model to see the effect of informal care.\n",
    "* Informal care has mixed effect on consumption: people consume less with some informal care, but consume more when required informal care is long.\n",
    "* A comparison of the outcomes from the four policy options indicates fully-covered LTCI raise the labor force participation rate but need the highest tax rate. Introduction of **ceiling** policy is cost effective. "
   ]
  },
  {
   "cell_type": "markdown",
   "metadata": {
    "slideshow": {
     "slide_type": "slide"
    }
   },
   "source": [
    "# Contributions\n",
    "* possibly the first paper to delineate Japanese LTCI system with heterogeneous agent macroeconomic model\n",
    "* have some implication for the LTCI policy "
   ]
  },
  {
   "cell_type": "markdown",
   "metadata": {
    "slideshow": {
     "slide_type": "slide"
    }
   },
   "source": [
    "# Literature\n",
    "\n",
    "* Briefly survery several work in the labor and macro fields.\n"
   ]
  },
  {
   "cell_type": "markdown",
   "metadata": {
    "slideshow": {
     "slide_type": "slide"
    }
   },
   "source": [
    "\n",
    "## Labor supply and informal care (causal studies)\n",
    "\n",
    "* Active area of research\n",
    "    * Nishimura and oikawa (2017)\n",
    "    * Niimi (2017)\n",
    "    * Oshio and Usui (2016) \n",
    "    * Yamada and Shimizutani (2015) \n",
    "    * Fukahori et al. (2013) and me (2015) ....\n",
    "    \n",
    "    "
   ]
  },
  {
   "cell_type": "markdown",
   "metadata": {
    "slideshow": {
     "slide_type": "slide"
    }
   },
   "source": [
    "## Social Security System and Macroeconomy\n",
    "* Also very active area \n",
    "    * Li (EER, 2018) on DI and OAI\n",
    "    * Kubota (2017) on childcare"
   ]
  },
  {
   "cell_type": "markdown",
   "metadata": {},
   "source": [
    "\n",
    "\n",
    "## Sustainability due to aging population in Japan\n",
    "* Kitao (2016, IER)\n"
   ]
  },
  {
   "cell_type": "markdown",
   "metadata": {
    "slideshow": {
     "slide_type": "slide"
    }
   },
   "source": [
    "# Set up *\"Care Economy\"*"
   ]
  },
  {
   "cell_type": "markdown",
   "metadata": {},
   "source": [
    "## Demography\n",
    "* 3 periods: young, middle, and old\n",
    "    * young: work in the market and consume goods and leisure.Save for the future 22-44\n",
    "    * middle: work both in the market and home. consume goods and leisure. Save for the future. No mortality risk. 45-64\n",
    "    * old: no work in both market and home. Those with bad health receive care either in public nursing home or at home. Mortality risk is present. 65+\n",
    "* in 2015 the three are almost same number."
   ]
  },
  {
   "cell_type": "markdown",
   "metadata": {
    "slideshow": {
     "slide_type": "slide"
    }
   },
   "source": [
    "## Household\n",
    "\n",
    "* The model economy is populated by many households. \n",
    "    * You may imagine either single households without gender and unknown re-production technique or many households with couples and kids where income, assets, health, and time endowment is shared. \n",
    "    * More realistic modelling is listed as future study\n",
    "* wage rate is exogenous to the agent. Given wage rate, labor supply is endogeneous.\n",
    "* No negative saving is allowed (consider whether we can borrow without collateral)."
   ]
  },
  {
   "cell_type": "markdown",
   "metadata": {
    "slideshow": {
     "slide_type": "slide"
    }
   },
   "source": [
    "## Informal care\n",
    "* Middle-aged household is assigned care needs randomly.\n",
    "* The level of care is represented the required hour for care at home.\n",
    "* The basic assumption is\n",
    "    * Households are mandated to take care of their parents.\n",
    "    * They want to use cheap formal care funded by LTCI\n",
    "    * Due to the resorce constraint, use of formal care is restricted\n",
    "* In this economy, every middle-aged households face the risk of becoming care giver.\n"
   ]
  },
  {
   "cell_type": "markdown",
   "metadata": {
    "slideshow": {
     "slide_type": "slide"
    }
   },
   "source": [
    "## Preference\n",
    "* simple and general utility function.\n",
    "* parameters are set according to Yue (2018)"
   ]
  },
  {
   "cell_type": "code",
   "execution_count": 93,
   "metadata": {
    "slideshow": {
     "slide_type": "subslide"
    }
   },
   "outputs": [
    {
     "data": {
      "text/plain": [
       "calc_utility (generic function with 3 methods)"
      ]
     },
     "execution_count": 93,
     "metadata": {},
     "output_type": "execute_result"
    }
   ],
   "source": [
    "function calc_utility(c, l,chi = chi, sigma = sigma) \n",
    "    if c <= 0 || l <= 0\n",
    "        return -100000\n",
    "    else\n",
    "        return (((c^(1-chi))*(l^chi))^(1-sigma))/(1 - sigma)\n",
    "    end\n",
    "end"
   ]
  },
  {
   "cell_type": "markdown",
   "metadata": {
    "slideshow": {
     "slide_type": "slide"
    }
   },
   "source": [
    "## consumption\n",
    "* consumption is deterimined by assets, income and saving"
   ]
  },
  {
   "cell_type": "code",
   "execution_count": 94,
   "metadata": {
    "slideshow": {
     "slide_type": "skip"
    }
   },
   "outputs": [
    {
     "data": {
      "text/plain": [
       "calc_consumption (generic function with 2 methods)"
      ]
     },
     "execution_count": 94,
     "metadata": {},
     "output_type": "execute_result"
    }
   ],
   "source": [
    "function calc_consumption(age, new_asset::Real, income::Real, asset::Real, r::Real=r)\n",
    "    if age < num_period\n",
    "        if new_asset >= (1+r)*asset + income\n",
    "            return 0\n",
    "        else\n",
    "            (1 + r)*asset + income - new_asset # allow negative consumption\n",
    "        end\n",
    "    else\n",
    "        return (1 + r)*asset + income\n",
    "        #return 10000000\n",
    "    end \n",
    "end"
   ]
  },
  {
   "cell_type": "markdown",
   "metadata": {
    "slideshow": {
     "slide_type": "slide"
    }
   },
   "source": [
    "## income\n",
    "* income is determined by hourking hour in market and tax\n",
    "* retired person collects pension.\n"
   ]
  },
  {
   "cell_type": "code",
   "execution_count": 95,
   "metadata": {
    "slideshow": {
     "slide_type": "subslide"
    }
   },
   "outputs": [
    {
     "data": {
      "text/plain": [
       "calc_income (generic function with 1 method)"
      ]
     },
     "execution_count": 95,
     "metadata": {},
     "output_type": "execute_result"
    }
   ],
   "source": [
    "function calc_income(wage, hour_mkt, pension, tau)\n",
    "    (1 - tau)*wage*hour_mkt + pension\n",
    "end"
   ]
  },
  {
   "cell_type": "markdown",
   "metadata": {
    "slideshow": {
     "slide_type": "slide"
    }
   },
   "source": [
    "## pension\n",
    "* mandatory pension system like real economy.\n",
    "* the level of benefit is determined by wage history and replacement rate (0.3)"
   ]
  },
  {
   "cell_type": "code",
   "execution_count": 96,
   "metadata": {
    "slideshow": {
     "slide_type": "subslide"
    }
   },
   "outputs": [
    {
     "data": {
      "text/plain": [
       "calc_new_average_income (generic function with 1 method)"
      ]
     },
     "execution_count": 96,
     "metadata": {},
     "output_type": "execute_result"
    }
   ],
   "source": [
    "function calc_new_average_income(age, last_average_income, current_wage, current_hour_mkt)\n",
    "    if age == 1\n",
    "        return current_wage*current_hour_mkt # calc average income for today\n",
    "    elseif age >= retirement_age\n",
    "        return last_average_income # after retired average income is fixed\n",
    "    else\n",
    "        return (last_average_income*(age - 1) + current_wage*current_hour_mkt)/age # during working age average income is changed \n",
    "    end\n",
    "end"
   ]
  },
  {
   "cell_type": "code",
   "execution_count": 97,
   "metadata": {
    "slideshow": {
     "slide_type": "subslide"
    }
   },
   "outputs": [
    {
     "data": {
      "text/plain": [
       "calc_pension (generic function with 3 methods)"
      ]
     },
     "execution_count": 97,
     "metadata": {},
     "output_type": "execute_result"
    }
   ],
   "source": [
    "function calc_pension(age, average_income, rep_rate = rep_rate, retirement_age = retirement_age)\n",
    "    if age >= retirement_age\n",
    "        return rep_rate*average_income\n",
    "    else\n",
    "        return 0\n",
    "    end\n",
    "end"
   ]
  },
  {
   "cell_type": "markdown",
   "metadata": {
    "slideshow": {
     "slide_type": "slide"
    }
   },
   "source": [
    "## wage\n",
    "* wage evolves according to $w_{i,t} = \\mu + \\rho w_{i, t-1} + \\epsilon_{t}$ with $\\rho = 0.9$\n",
    "* use tauchen method to generate transition matrix"
   ]
  },
  {
   "cell_type": "markdown",
   "metadata": {
    "slideshow": {
     "slide_type": "slide"
    }
   },
   "source": [
    "## Informal care (again)\n",
    "* In the beginning of the period, the health status of all households is assigned.Then the total *care needs* is determined. \n",
    "* The government determine how much care to provide, which is sometimes insufficient. That deliniates reality in Japan (there are 360,000 people on the waiting list).\n",
    "* Unmet care needs is distributed to potential care givers (*middle*). No state dependency. Imagine that you might become a informal care giver for your uncle, spouse's siblings and so on as well as your own genetic parents and spouse. Unexpectable.\n",
    "* This scenario totally igonres the positive utility from care-giving. But there are lots of tragedies associated with informal care."
   ]
  },
  {
   "cell_type": "markdown",
   "metadata": {
    "slideshow": {
     "slide_type": "slide"
    }
   },
   "source": [
    "## Informal care in detail\n",
    "* Once all the household draw the raw hour at home $h^H$, they are sum up as $\\sum_i h^H_i$\n",
    "* The total demand for care $D^H = \\sum_i I (h_i \\in (0,  0.1)$\n",
    "* The unmet care needs $D^{H, unmet} = D^H - NH$ is distributed out to proportionaly to $h^H$\n",
    "* Numerical excercise is done without empirical studies, which should be done in the future."
   ]
  },
  {
   "cell_type": "code",
   "execution_count": 98,
   "metadata": {
    "slideshow": {
     "slide_type": "subslide"
    }
   },
   "outputs": [
    {
     "data": {
      "text/plain": [
       "calc_hour_home (generic function with 5 methods)"
      ]
     },
     "execution_count": 98,
     "metadata": {},
     "output_type": "execute_result"
    }
   ],
   "source": [
    "function calc_hour_home(age, raw_hour_home, total_raw_hour_home, LTCI_type, NH_rate, ceiling, dep_rate::Real = dep_rate, sick_rate::Real=sick_rate, care_hour::Real=care_hour, num_hh = num_hh)\n",
    "    if LTCI_type == 1\n",
    "        if age in middle_age\n",
    "            share = raw_hour_home/total_raw_hour_home # sahre of care this person take\n",
    "            return min(share*(1 - NH_rate)*dep_rate*sick_rate*care_hour*num_hh, 0.9999)\n",
    "        else\n",
    "            return 0\n",
    "        end\n",
    "    else\n",
    "        if age in middle_age\n",
    "            return min(raw_hour_home*dep_rate*sick_rate*care_hour, ceiling)\n",
    "        else\n",
    "            return 0\n",
    "        end\n",
    "\n",
    "    end\n",
    "end"
   ]
  },
  {
   "cell_type": "markdown",
   "metadata": {
    "slideshow": {
     "slide_type": "slide"
    }
   },
   "source": [
    "## health status\n",
    "* health status so far only matters when determines how many old need care.\n",
    "* health is not associated with wage nor labor.\n",
    "* we do not take health into account explicitly.\n"
   ]
  },
  {
   "cell_type": "markdown",
   "metadata": {
    "slideshow": {
     "slide_type": "slide"
    }
   },
   "source": [
    "## labor supply\n",
    "* labor supply is endogeneous\n",
    "* young and middle household optimizes labor supply as well as consumption (saving) for given time endowment\n",
    "* time endowment is varying across agent due to informal care\n",
    "* From the first order condition $l = c(1 - \\tau)w \\frac{\\chi}{1 - \\chi}$"
   ]
  },
  {
   "cell_type": "code",
   "execution_count": 99,
   "metadata": {
    "slideshow": {
     "slide_type": "subslide"
    }
   },
   "outputs": [
    {
     "name": "stderr",
     "output_type": "stream",
     "text": [
      "\u001b[1m\u001b[33mWARNING: \u001b[39m\u001b[22m\u001b[33mreplacing docs for 'calc_hour_mkt :: Union{Tuple{Real,Real,Real,Int64}, Tuple{Real,Real,Real}}' in module 'Main'.\u001b[39m\n"
     ]
    },
    {
     "data": {
      "text/plain": [
       "calc_hour_mkt"
      ]
     },
     "execution_count": 99,
     "metadata": {},
     "output_type": "execute_result"
    }
   ],
   "source": [
    "\"calc_hour_mkt(age, leisure, hour_home, retirement_age)\n",
    "\n",
    "calculate hour in the market.\n",
    "\n",
    "**Argments**: \n",
    "\n",
    "        age, leisure, hour at homt\n",
    "\n",
    "**Return**\n",
    "\n",
    "        working hour at market\"\n",
    "function calc_hour_mkt(age::Real, leisure::Real, hour_home::Real, retirement_age::Int=retirement_age)\n",
    "    if leisure + hour_home >= 1 || age >= retirement_age\n",
    "        return 0\n",
    "    else\n",
    "        return 1 - leisure - hour_home\n",
    "    end\n",
    "end"
   ]
  },
  {
   "cell_type": "markdown",
   "metadata": {
    "slideshow": {
     "slide_type": "slide"
    }
   },
   "source": [
    "## Government\n",
    "* government provide insufficient formal care funded by social security premium contributed by working age, which is resemble to Japanese LTCI\n",
    "* cost of formal care is determined by personnel expenses of informal care worker.\n",
    "* The government chooses one of two LTCI system\n",
    "\\begin{eqnarray}\n",
    "LTCI \\, (type 1) &=& w^{care} \\phi N^{old} sick rate \\, d^H  NH rate \\\\\n",
    "LTCI \\, (type 2) &=& w^{care} \\phi \\sum_i(care_i - \\bar{care}) \\mathbb{1}[care_i > \\bar{care}]\n",
    "\\end{eqnarray}\n"
   ]
  },
  {
   "cell_type": "code",
   "execution_count": 100,
   "metadata": {},
   "outputs": [
    {
     "ename": "LoadError",
     "evalue": "\u001b[91msyntax: \"*\" is not a unary operator\u001b[39m",
     "output_type": "error",
     "traceback": [
      "\u001b[91msyntax: \"*\" is not a unary operator\u001b[39m",
      "",
      "Stacktrace:",
      " [1] \u001b[1minclude_string\u001b[22m\u001b[22m\u001b[1m(\u001b[22m\u001b[22m::String, ::String\u001b[1m)\u001b[22m\u001b[22m at \u001b[1m./loading.jl:515\u001b[22m\u001b[22m"
     ]
    }
   ],
   "source": [
    "* __type1__ is *proportional sapplements* where the government provide formal care proportional to the level of required care. $w^{care}$ denotes average wage for worker at nurinsg home. $N^{old}$, $sick rate$, $d^H$, $NH rate$ represents the population of old, the rate of care receivers to the old and required care hour per sick old. Finally, $\\phi$ is a multiplier ly inside $(0, 1)$. This multiplier represents *efficiency* of nurinsg home.   \n",
    "* __type2__ is *ceiling*. The care above the ceiling is given by the government.\n",
    "* $\\phi:$ Usually, typical informal care giver provide care to one care receiver, whereas (formal) care worker can work for multiple care receivers. They also benefit from the division of labor.\n",
    "\n",
    "* On the other hand, the government collect $\\tau\\sum_i w_i h_{M, i}$ from all the young and middle."
   ]
  },
  {
   "cell_type": "markdown",
   "metadata": {
    "slideshow": {
     "slide_type": "slide"
    }
   },
   "source": [
    "# Quantitative Exercise"
   ]
  },
  {
   "cell_type": "markdown",
   "metadata": {
    "slideshow": {
     "slide_type": "slide"
    }
   },
   "source": [
    "## Solution\n",
    "* The model is solved (ideally) by method of simulated moment.\n",
    "* So far no calibration made\n",
    "* Optimization by households is done by backward induction."
   ]
  },
  {
   "cell_type": "markdown",
   "metadata": {
    "slideshow": {
     "slide_type": "slide"
    }
   },
   "source": [
    "## Value function\n",
    "* value function optimization $v_t = max_{c_t, l_t} (u(c_t, l_t) + \\beta \\mathbb{E}\\left( v_{t+1}(a_{t+1}) \\right))$ \n",
    "* wrt usual budget constraint with no borrowing\n"
   ]
  },
  {
   "cell_type": "code",
   "execution_count": 101,
   "metadata": {
    "slideshow": {
     "slide_type": "subslide"
    }
   },
   "outputs": [
    {
     "name": "stderr",
     "output_type": "stream",
     "text": [
      "\u001b[1m\u001b[33mWARNING: \u001b[39m\u001b[22m\u001b[33mreplacing docs for 'value_function :: Union{Tuple{Real,Real,Real}, Tuple{Real,Real}}' in module 'Main'.\u001b[39m\n"
     ]
    },
    {
     "data": {
      "text/plain": [
       "value_function"
      ]
     },
     "execution_count": 101,
     "metadata": {},
     "output_type": "execute_result"
    }
   ],
   "source": [
    "\"value_function(utility, expected_value, beta)\n",
    "calculate instant value for given utility and expected values in the next period\"\n",
    "function value_function(utility::Real, expected_value::Real, beta::Real = beta)\n",
    "    utility + beta*expected_value\n",
    "end"
   ]
  },
  {
   "cell_type": "markdown",
   "metadata": {
    "collapsed": true,
    "slideshow": {
     "slide_type": "slide"
    }
   },
   "source": [
    "## Expected values\n",
    "* expected values are dot product of transition matrix and state-dependent values "
   ]
  },
  {
   "cell_type": "code",
   "execution_count": 102,
   "metadata": {
    "slideshow": {
     "slide_type": "subslide"
    }
   },
   "outputs": [
    {
     "data": {
      "text/plain": [
       "interpolate_vector (generic function with 2 methods)"
      ]
     },
     "execution_count": 102,
     "metadata": {},
     "output_type": "execute_result"
    }
   ],
   "source": [
    "function interpolate_vector(current_value::Real, grid, trans_mat, num_grid = num_grid)\n",
    "    itp = interpolate((grid, grid), trans_mat, Gridded(Linear()))\n",
    "    vec = itp[current_value, grid]\n",
    "    for i in 1:num_grid\n",
    "        if vec[i] < 0\n",
    "            vec[i] = 0\n",
    "        end\n",
    "    end\n",
    "    return vec\n",
    "end"
   ]
  },
  {
   "cell_type": "code",
   "execution_count": 103,
   "metadata": {
    "slideshow": {
     "slide_type": "subslide"
    }
   },
   "outputs": [
    {
     "name": "stderr",
     "output_type": "stream",
     "text": [
      "\u001b[1m\u001b[33mWARNING: \u001b[39m\u001b[22m\u001b[33mreplacing docs for 'gen_prob_vec :: Union{NTuple{4,Any}, NTuple{5,Any}, NTuple{6,Any}, Tuple{Any,Any,Any}, Tuple{Any,Any}}' in module 'Main'.\u001b[39m\n"
     ]
    },
    {
     "data": {
      "text/plain": [
       "gen_prob_vec"
      ]
     },
     "execution_count": 103,
     "metadata": {},
     "output_type": "execute_result"
    }
   ],
   "source": [
    "\"gen_prob_vec\n",
    "return probability vector for arbitrary wage, hour at home, current_average_income\n",
    "\n",
    "**Args**\n",
    "current_wage\n",
    "current_hour_home\n",
    "current_average_wage\n",
    "\n",
    "**return**\n",
    "vector of probability\n",
    "\"\n",
    "function gen_prob_vec(current_wage, current_hour_home, wage_grid = wage_grid, hour_home_grid = hour_home_grid,\n",
    "        wage_trans_mat = wage_trans_mat, hour_home_trans_mat= hour_home_trans_mat)\n",
    "    wage_prob_vector = interpolate_vector(current_wage, wage_grid, wage_trans_mat)\n",
    "    hour_home_prob_vector = interpolate_vector(current_hour_home, hour_home_grid, hour_home_trans_mat)\n",
    "    return kron(wage_prob_vector, hour_home_prob_vector)\n",
    "end"
   ]
  },
  {
   "cell_type": "code",
   "execution_count": 104,
   "metadata": {
    "slideshow": {
     "slide_type": "subslide"
    }
   },
   "outputs": [
    {
     "name": "stderr",
     "output_type": "stream",
     "text": [
      "\u001b[1m\u001b[33mWARNING: \u001b[39m\u001b[22m\u001b[33mreplacing docs for 'get_new_value :: Union{NTuple{4,Any}, NTuple{5,Any}, NTuple{6,Any}, Tuple{Any,Any,Any}}' in module 'Main'.\u001b[39m\n"
     ]
    },
    {
     "data": {
      "text/plain": [
       "get_new_value"
      ]
     },
     "execution_count": 104,
     "metadata": {},
     "output_type": "execute_result"
    }
   ],
   "source": [
    "\"get_new_value(new_asset, max_value_mat, asset_grid = asset_grid, num_grid = num_grid): \n",
    "\n",
    "\n",
    "get vector of maximized value for next period given choice asset and states current wage, current hour at home. \n",
    "max_value_mat should be asset_grid x wage, relative_hour_home\"\n",
    "function get_new_value(new_asset, new_average_income, max_value_mat, asset_grid = asset_grid, wage_grid = wage_grid,  num_grid = num_grid)\n",
    "    v_new = zeros(num_grid^2, 1)\n",
    "    for i in 1:num_grid^2\n",
    "        temp_slice = max_value_mat[:,i]\n",
    "        temp_mat= reshape(temp_slice, num_grid, num_grid)\n",
    "        knots = (asset_grid, wage_grid)        \n",
    "        itp = interpolate(knots, temp_mat, Gridded(Linear()))\n",
    "        v_new[i] = itp[new_asset, new_average_income]\n",
    "    end\n",
    "    return v_new\n",
    "end"
   ]
  },
  {
   "cell_type": "markdown",
   "metadata": {
    "slideshow": {
     "slide_type": "slide"
    }
   },
   "source": [
    "## Generate Policy Function"
   ]
  },
  {
   "cell_type": "code",
   "execution_count": 105,
   "metadata": {
    "slideshow": {
     "slide_type": "subslide"
    }
   },
   "outputs": [
    {
     "name": "stderr",
     "output_type": "stream",
     "text": [
      "\u001b[1m\u001b[33mWARNING: \u001b[39m\u001b[22m\u001b[33mreplacing docs for 'generate_max_values_matrix :: Union{Tuple{Any,Any,Any,Any,Any,Function,Any,Any,Any,Any,Any,Any,Any}, Tuple{Any,Any,Any,Any,Any,Function,Any,Any,Any,Any,Any,Any}, Tuple{Any,Any,Any,Any,Any,Function,Any,Any,Any,Any,Any}, Tuple{Any,Any,Any,Any,Any,Function,Any,Any,Any,Any}, Tuple{Any,Any,Any,Any,Any,Function,Any,Any,Any}, Tuple{Any,Any,Any,Any,Any,Function,Any,Any}, Tuple{Any,Any,Any,Any,Any,Function,Any}, Tuple{Any,Any,Any,Any,Any,Function}}' in module 'Main'.\u001b[39m\n"
     ]
    },
    {
     "data": {
      "text/plain": [
       "generate_max_values_matrix"
      ]
     },
     "execution_count": 105,
     "metadata": {},
     "output_type": "execute_result"
    }
   ],
   "source": [
    "\"generate_max_values_matrix(value_function, asset_grid, leisure_grid, wage_grid, hour_home_grid, num_grid):\n",
    "\n",
    "maximize value with respect to leisure and consumption\n",
    "\"\n",
    "\n",
    "function generate_max_values_matrix(age, tau, LTCI_type, NH_rate, ceiling, value_function::Function, new_max_value_mat = \n",
    "        zeros(num_grid, num_grid^3), asset_grid = asset_grid, leisure_grid = leisure_grid,\n",
    "        wage_grid = wage_grid, hour_home_grid = hour_home_grid, num_grid = num_grid, total_raw_hour_home = total_raw_hour_home)\n",
    "    # initializing matrices\n",
    "    value_matrix = zeros(num_grid^2, num_grid^4);\n",
    "    consumption_mat = zeros(num_grid^2, num_grid^4);\n",
    "    leisure_mat = zeros(num_grid^2, num_grid^4);\n",
    "    income_mat = zeros(num_grid^2, num_grid^4);\n",
    "    new_average_income_mat = zeros(num_grid^2, num_grid^4);\n",
    "    new_asset_mat = ones(num_grid^2, num_grid^4);\n",
    "    wage_mat = zeros(num_grid^2, num_grid^4);\n",
    "    new_asset_mat = zeros(num_grid^2, num_grid^4);\n",
    "    hour_home_mat = zeros(num_grid^2, num_grid^4); # hour home (realized)\n",
    "    raw_hour_home_mat = zeros(num_grid^2, num_grid^4); # relative hour home (not real one)\n",
    "    hour_mkt_mat = zeros(num_grid^2, num_grid^4);\n",
    "\n",
    "    for new_asset_ind = 1:num_grid  \n",
    "        for leisure_ind = 1:num_grid\n",
    "            for asset_ind = 1:num_grid\n",
    "                for average_income_ind = 1:num_grid\n",
    "                    for wage_ind = 1:num_grid\n",
    "                        for hour_home_ind = 1:num_grid\n",
    "                            new_asset = asset_grid[new_asset_ind]      \n",
    "                            leisure = leisure_grid[leisure_ind]\n",
    "                            asset = asset_grid[asset_ind]\n",
    "                            wage = wage_grid[wage_ind] # wage is 0 when retired\n",
    "                            #if age < retirement_age\n",
    "                            #    wage = wage_grid[wage_ind] # wage is 0 when retired\n",
    "                            #else\n",
    "                            #    wage = 0\n",
    "                            #end\n",
    "                            raw_hour_home = hour_home_grid[hour_home_ind]\n",
    "                            hour_home = calc_hour_home(age, raw_hour_home, total_raw_hour_home, LTCI_type, NH_rate, ceiling)\n",
    "                            hour_mkt = calc_hour_mkt(age, leisure, hour_home)\n",
    "                            if age == 1\n",
    "                                average_income = 0\n",
    "                            else\n",
    "                                average_income = wage_grid[average_income_ind]\n",
    "                            end\n",
    "                            new_average_income = calc_new_average_income(age, average_income, wage,  hour_mkt) # calculate average income\n",
    "\n",
    "                            pension = calc_pension(age, average_income)\n",
    "                            income = calc_income(wage, hour_mkt, pension, tau)\n",
    "                            consumption = calc_consumption(age, new_asset, income, asset)\n",
    "                            utility = calc_utility(consumption, leisure)\n",
    "                            \n",
    "                            row_ind = new_asset_ind + (leisure_ind - 1)*num_grid\n",
    "                            col_ind = asset_ind + (average_income_ind - 1)*num_grid+ (wage_ind - 1)*num_grid^2 + (hour_home_ind - 1)*num_grid^3\n",
    "                            \n",
    "                            # store variables\n",
    "                            consumption_mat[row_ind, col_ind] = consumption;\n",
    "                            new_asset_mat[row_ind, col_ind] = new_asset;\n",
    "                            leisure_mat[row_ind, col_ind] = leisure;\n",
    "                            income_mat[row_ind, col_ind] = income;\n",
    "                            wage_mat[row_ind, col_ind] = wage;\n",
    "                            new_average_income_mat[row_ind, col_ind] = new_average_income;\n",
    "                            raw_hour_home_mat[row_ind, col_ind] = raw_hour_home;\n",
    "                            hour_home_mat[row_ind, col_ind] = hour_home;\n",
    "                            hour_mkt_mat[row_ind, col_ind] = hour_mkt;\n",
    "                            \n",
    "                            # calc expected_value\n",
    "                            v_new_vec = get_new_value(new_asset, new_average_income, new_max_value_mat)\n",
    "                            p = gen_prob_vec(wage, hour_home)\n",
    "                            expected_value = dot(v_new_vec, p)\n",
    "                            value_matrix[row_ind, col_ind] = value_function(utility, expected_value)\n",
    "                        end\n",
    "                    end\n",
    "                end\n",
    "            end\n",
    "        end\n",
    "    end\n",
    "    # get max value for each asset, wage, h_H. maximizing with respect to new asset and leisure\n",
    "    #max_value = maximum(value_matrix, 1)\n",
    "    max_value, max_ind = findmax(value_matrix, 1)\n",
    "    # reshape value matrix to (asset_grid x new_average_income)  x (w x h_H)\n",
    "    # this should be fix throughout the simulation\n",
    "    max_values_reshaped = reshape(max_value, num_grid^2, num_grid^2);\n",
    "    return max_values_reshaped, max_ind, new_asset_mat, consumption_mat, income_mat, wage_mat, hour_home_mat, raw_hour_home_mat, \n",
    "    hour_mkt_mat, new_average_income_mat\n",
    "end\n",
    "\n"
   ]
  },
  {
   "cell_type": "code",
   "execution_count": 106,
   "metadata": {
    "slideshow": {
     "slide_type": "subslide"
    }
   },
   "outputs": [
    {
     "data": {
      "text/plain": [
       "gen_policy_function (generic function with 3 methods)"
      ]
     },
     "execution_count": 106,
     "metadata": {},
     "output_type": "execute_result"
    }
   ],
   "source": [
    "function gen_policy_function(tau, LTCI_type, NH_rate, ceiling, num_grid = num_grid, value_function = value_function)\n",
    "    \n",
    "    new_max_value_matrix = zeros(num_grid^2, num_grid^2);\n",
    "    pol_consumption = zeros(num_period, num_grid^4);\n",
    "    pol_new_asset = zeros(num_period, num_grid^4);\n",
    "    pol_hour_mkt = zeros(num_period, num_grid^4);\n",
    "    pol_income = zeros(num_period, num_grid^4);\n",
    "    pol_new_average_income = zeros(num_period, num_grid^4);\n",
    "\n",
    "    for t in (3,2,1)\n",
    "        max_values_reshaped, max_ind, new_asset_mat, consumption_mat, income_mat, wage_mat, hour_home_mat, raw_hour_home_mat, \n",
    "        hour_mkt_mat, new_average_income_mat = \n",
    "        generate_max_values_matrix(t, tau, LTCI_type, NH_rate, ceiling, value_function, new_max_value_matrix)\n",
    "        \n",
    "        pol_consumption[t,:] = consumption_mat[max_ind]\n",
    "        pol_hour_mkt[t,:] = max(hour_mkt_mat[max_ind], 0)\n",
    "        pol_income[t,:] = income_mat[max_ind]\n",
    "        pol_new_average_income[t,:] = new_average_income_mat[max_ind]\n",
    "        pol_new_asset[t,:] = max(new_asset_mat[max_ind], 0)\n",
    "        new_max_value_matrix = max_values_reshaped\n",
    "    end\n",
    "        return pol_consumption, pol_hour_mkt, pol_income, pol_new_asset, pol_new_average_income\n",
    "end"
   ]
  },
  {
   "cell_type": "markdown",
   "metadata": {
    "collapsed": true,
    "slideshow": {
     "slide_type": "slide"
    }
   },
   "source": [
    "# Simulation"
   ]
  },
  {
   "cell_type": "markdown",
   "metadata": {
    "collapsed": true,
    "slideshow": {
     "slide_type": "slide"
    }
   },
   "source": [
    "## Setting\n",
    "* we simulate 100,000 households with 3 periods\n",
    "* initial wage is randomly distributed, assets are set to 0 for young.\n",
    "* wage evolves according to the distribution. Highly persistent with $\\rho = 0.9$ \n",
    "* hour at home are set randomly"
   ]
  },
  {
   "cell_type": "code",
   "execution_count": 107,
   "metadata": {
    "slideshow": {
     "slide_type": "subslide"
    }
   },
   "outputs": [
    {
     "name": "stderr",
     "output_type": "stream",
     "text": [
      "WARNING: redefining constant wage_markovchain\n",
      "WARNING: redefining constant wage_trans_mat\n",
      "\u001b[1m\u001b[33mWARNING: \u001b[39m\u001b[22m\u001b[33mexp{T <: Number}(x::AbstractArray{T}) is deprecated, use exp.(x) instead.\u001b[39m\n",
      "Stacktrace:\n",
      " [1] \u001b[1mdepwarn\u001b[22m\u001b[22m\u001b[1m(\u001b[22m\u001b[22m::String, ::Symbol\u001b[1m)\u001b[22m\u001b[22m at \u001b[1m./deprecated.jl:70\u001b[22m\u001b[22m\n",
      " [2] \u001b[1mexp\u001b[22m\u001b[22m\u001b[1m(\u001b[22m\u001b[22m::Array{Float64,1}\u001b[1m)\u001b[22m\u001b[22m at \u001b[1m./deprecated.jl:57\u001b[22m\u001b[22m\n",
      " [3] \u001b[1minclude_string\u001b[22m\u001b[22m\u001b[1m(\u001b[22m\u001b[22m::String, ::String\u001b[1m)\u001b[22m\u001b[22m at \u001b[1m./loading.jl:515\u001b[22m\u001b[22m\n",
      " [4] \u001b[1minclude_string\u001b[22m\u001b[22m\u001b[1m(\u001b[22m\u001b[22m::Module, ::String, ::String\u001b[1m)\u001b[22m\u001b[22m at \u001b[1m/Users/a14880/.julia/v0.6/Compat/src/Compat.jl:174\u001b[22m\u001b[22m\n",
      " [5] \u001b[1mexecute_request\u001b[22m\u001b[22m\u001b[1m(\u001b[22m\u001b[22m::ZMQ.Socket, ::IJulia.Msg\u001b[1m)\u001b[22m\u001b[22m at \u001b[1m/Users/a14880/.julia/v0.6/IJulia/src/execute_request.jl:154\u001b[22m\u001b[22m\n",
      " [6] \u001b[1m(::Compat.#inner#16{Array{Any,1},IJulia.#execute_request,Tuple{ZMQ.Socket,IJulia.Msg}})\u001b[22m\u001b[22m\u001b[1m(\u001b[22m\u001b[22m\u001b[1m)\u001b[22m\u001b[22m at \u001b[1m/Users/a14880/.julia/v0.6/Compat/src/Compat.jl:496\u001b[22m\u001b[22m\n",
      " [7] \u001b[1meventloop\u001b[22m\u001b[22m\u001b[1m(\u001b[22m\u001b[22m::ZMQ.Socket\u001b[1m)\u001b[22m\u001b[22m at \u001b[1m/Users/a14880/.julia/v0.6/IJulia/src/eventloop.jl:8\u001b[22m\u001b[22m\n",
      " [8] \u001b[1m(::IJulia.##14#17)\u001b[22m\u001b[22m\u001b[1m(\u001b[22m\u001b[22m\u001b[1m)\u001b[22m\u001b[22m at \u001b[1m./task.jl:335\u001b[22m\u001b[22m\n",
      "while loading In[107], in expression starting on line 44\n",
      "WARNING: redefining constant wage_grid\n",
      "\u001b[1m\u001b[33mWARNING: \u001b[39m\u001b[22m\u001b[33mexp{T <: Number}(x::AbstractArray{T}) is deprecated, use exp.(x) instead.\u001b[39m\n",
      "Stacktrace:\n",
      " [1] \u001b[1mdepwarn\u001b[22m\u001b[22m\u001b[1m(\u001b[22m\u001b[22m::String, ::Symbol\u001b[1m)\u001b[22m\u001b[22m at \u001b[1m./deprecated.jl:70\u001b[22m\u001b[22m\n",
      " [2] \u001b[1mexp\u001b[22m\u001b[22m\u001b[1m(\u001b[22m\u001b[22m::Array{Float64,1}\u001b[1m)\u001b[22m\u001b[22m at \u001b[1m./deprecated.jl:57\u001b[22m\u001b[22m\n",
      " [3] \u001b[1minclude_string\u001b[22m\u001b[22m\u001b[1m(\u001b[22m\u001b[22m::String, ::String\u001b[1m)\u001b[22m\u001b[22m at \u001b[1m./loading.jl:515\u001b[22m\u001b[22m\n",
      " [4] \u001b[1minclude_string\u001b[22m\u001b[22m\u001b[1m(\u001b[22m\u001b[22m::Module, ::String, ::String\u001b[1m)\u001b[22m\u001b[22m at \u001b[1m/Users/a14880/.julia/v0.6/Compat/src/Compat.jl:174\u001b[22m\u001b[22m\n",
      " [5] \u001b[1mexecute_request\u001b[22m\u001b[22m\u001b[1m(\u001b[22m\u001b[22m::ZMQ.Socket, ::IJulia.Msg\u001b[1m)\u001b[22m\u001b[22m at \u001b[1m/Users/a14880/.julia/v0.6/IJulia/src/execute_request.jl:154\u001b[22m\u001b[22m\n",
      " [6] \u001b[1m(::Compat.#inner#16{Array{Any,1},IJulia.#execute_request,Tuple{ZMQ.Socket,IJulia.Msg}})\u001b[22m\u001b[22m\u001b[1m(\u001b[22m\u001b[22m\u001b[1m)\u001b[22m\u001b[22m at \u001b[1m/Users/a14880/.julia/v0.6/Compat/src/Compat.jl:496\u001b[22m\u001b[22m\n",
      " [7] \u001b[1meventloop\u001b[22m\u001b[22m\u001b[1m(\u001b[22m\u001b[22m::ZMQ.Socket\u001b[1m)\u001b[22m\u001b[22m at \u001b[1m/Users/a14880/.julia/v0.6/IJulia/src/eventloop.jl:8\u001b[22m\u001b[22m\n",
      " [8] \u001b[1m(::IJulia.##14#17)\u001b[22m\u001b[22m\u001b[1m(\u001b[22m\u001b[22m\u001b[1m)\u001b[22m\u001b[22m at \u001b[1m./task.jl:335\u001b[22m\u001b[22m\n",
      "while loading In[107], in expression starting on line 55\n",
      "\u001b[1m\u001b[33mWARNING: \u001b[39m\u001b[22m\u001b[33mexp{T <: Number}(x::AbstractArray{T}) is deprecated, use exp.(x) instead.\u001b[39m\n",
      "Stacktrace:\n",
      " [1] \u001b[1mdepwarn\u001b[22m\u001b[22m\u001b[1m(\u001b[22m\u001b[22m::String, ::Symbol\u001b[1m)\u001b[22m\u001b[22m at \u001b[1m./deprecated.jl:70\u001b[22m\u001b[22m\n",
      " [2] \u001b[1mexp\u001b[22m\u001b[22m\u001b[1m(\u001b[22m\u001b[22m::Array{Float64,2}\u001b[1m)\u001b[22m\u001b[22m at \u001b[1m./deprecated.jl:57\u001b[22m\u001b[22m\n",
      " [3] \u001b[1minclude_string\u001b[22m\u001b[22m\u001b[1m(\u001b[22m\u001b[22m::String, ::String\u001b[1m)\u001b[22m\u001b[22m at \u001b[1m./loading.jl:515\u001b[22m\u001b[22m\n",
      " [4] \u001b[1minclude_string\u001b[22m\u001b[22m\u001b[1m(\u001b[22m\u001b[22m::Module, ::String, ::String\u001b[1m)\u001b[22m\u001b[22m at \u001b[1m/Users/a14880/.julia/v0.6/Compat/src/Compat.jl:174\u001b[22m\u001b[22m\n",
      " [5] \u001b[1mexecute_request\u001b[22m\u001b[22m\u001b[1m(\u001b[22m\u001b[22m::ZMQ.Socket, ::IJulia.Msg\u001b[1m)\u001b[22m\u001b[22m at \u001b[1m/Users/a14880/.julia/v0.6/IJulia/src/execute_request.jl:154\u001b[22m\u001b[22m\n",
      " [6] \u001b[1m(::Compat.#inner#16{Array{Any,1},IJulia.#execute_request,Tuple{ZMQ.Socket,IJulia.Msg}})\u001b[22m\u001b[22m\u001b[1m(\u001b[22m\u001b[22m\u001b[1m)\u001b[22m\u001b[22m at \u001b[1m/Users/a14880/.julia/v0.6/Compat/src/Compat.jl:496\u001b[22m\u001b[22m\n",
      " [7] \u001b[1meventloop\u001b[22m\u001b[22m\u001b[1m(\u001b[22m\u001b[22m::ZMQ.Socket\u001b[1m)\u001b[22m\u001b[22m at \u001b[1m/Users/a14880/.julia/v0.6/IJulia/src/eventloop.jl:8\u001b[22m\u001b[22m\n",
      " [8] \u001b[1m(::IJulia.##14#17)\u001b[22m\u001b[22m\u001b[1m(\u001b[22m\u001b[22m\u001b[1m)\u001b[22m\u001b[22m at \u001b[1m./task.jl:335\u001b[22m\u001b[22m\n",
      "while loading In[107], in expression starting on line 75\n",
      "\u001b[1m\u001b[33mWARNING: \u001b[39m\u001b[22m\u001b[33mexp{T <: Number}(x::AbstractArray{T}) is deprecated, use exp.(x) instead.\u001b[39m\n",
      "Stacktrace:\n",
      " [1] \u001b[1mdepwarn\u001b[22m\u001b[22m\u001b[1m(\u001b[22m\u001b[22m::String, ::Symbol\u001b[1m)\u001b[22m\u001b[22m at \u001b[1m./deprecated.jl:70\u001b[22m\u001b[22m\n",
      " [2] \u001b[1mexp\u001b[22m\u001b[22m\u001b[1m(\u001b[22m\u001b[22m::Array{Float64,2}\u001b[1m)\u001b[22m\u001b[22m at \u001b[1m./deprecated.jl:57\u001b[22m\u001b[22m\n",
      " [3] \u001b[1minclude_string\u001b[22m\u001b[22m\u001b[1m(\u001b[22m\u001b[22m::String, ::String\u001b[1m)\u001b[22m\u001b[22m at \u001b[1m./loading.jl:515\u001b[22m\u001b[22m\n",
      " [4] \u001b[1minclude_string\u001b[22m\u001b[22m\u001b[1m(\u001b[22m\u001b[22m::Module, ::String, ::String\u001b[1m)\u001b[22m\u001b[22m at \u001b[1m/Users/a14880/.julia/v0.6/Compat/src/Compat.jl:174\u001b[22m\u001b[22m\n",
      " [5] \u001b[1mexecute_request\u001b[22m\u001b[22m\u001b[1m(\u001b[22m\u001b[22m::ZMQ.Socket, ::IJulia.Msg\u001b[1m)\u001b[22m\u001b[22m at \u001b[1m/Users/a14880/.julia/v0.6/IJulia/src/execute_request.jl:154\u001b[22m\u001b[22m\n",
      " [6] \u001b[1m(::Compat.#inner#16{Array{Any,1},IJulia.#execute_request,Tuple{ZMQ.Socket,IJulia.Msg}})\u001b[22m\u001b[22m\u001b[1m(\u001b[22m\u001b[22m\u001b[1m)\u001b[22m\u001b[22m at \u001b[1m/Users/a14880/.julia/v0.6/Compat/src/Compat.jl:496\u001b[22m\u001b[22m\n",
      " [7] \u001b[1meventloop\u001b[22m\u001b[22m\u001b[1m(\u001b[22m\u001b[22m::ZMQ.Socket\u001b[1m)\u001b[22m\u001b[22m at \u001b[1m/Users/a14880/.julia/v0.6/IJulia/src/eventloop.jl:8\u001b[22m\u001b[22m\n",
      " [8] \u001b[1m(::IJulia.##14#17)\u001b[22m\u001b[22m\u001b[1m(\u001b[22m\u001b[22m\u001b[1m)\u001b[22m\u001b[22m at \u001b[1m./task.jl:335\u001b[22m\u001b[22m\n",
      "while loading In[107], in expression starting on line 77\n",
      "\u001b[1m\u001b[33mWARNING: \u001b[39m\u001b[22m\u001b[33mexp{T <: Number}(x::AbstractArray{T}) is deprecated, use exp.(x) instead.\u001b[39m\n",
      "Stacktrace:\n",
      " [1] \u001b[1mdepwarn\u001b[22m\u001b[22m\u001b[1m(\u001b[22m\u001b[22m::String, ::Symbol\u001b[1m)\u001b[22m\u001b[22m at \u001b[1m./deprecated.jl:70\u001b[22m\u001b[22m\n",
      " [2] \u001b[1mexp\u001b[22m\u001b[22m\u001b[1m(\u001b[22m\u001b[22m::Array{Float64,2}\u001b[1m)\u001b[22m\u001b[22m at \u001b[1m./deprecated.jl:57\u001b[22m\u001b[22m\n",
      " [3] \u001b[1minclude_string\u001b[22m\u001b[22m\u001b[1m(\u001b[22m\u001b[22m::String, ::String\u001b[1m)\u001b[22m\u001b[22m at \u001b[1m./loading.jl:515\u001b[22m\u001b[22m\n",
      " [4] \u001b[1minclude_string\u001b[22m\u001b[22m\u001b[1m(\u001b[22m\u001b[22m::Module, ::String, ::String\u001b[1m)\u001b[22m\u001b[22m at \u001b[1m/Users/a14880/.julia/v0.6/Compat/src/Compat.jl:174\u001b[22m\u001b[22m\n",
      " [5] \u001b[1mexecute_request\u001b[22m\u001b[22m\u001b[1m(\u001b[22m\u001b[22m::ZMQ.Socket, ::IJulia.Msg\u001b[1m)\u001b[22m\u001b[22m at \u001b[1m/Users/a14880/.julia/v0.6/IJulia/src/execute_request.jl:154\u001b[22m\u001b[22m\n",
      " [6] \u001b[1m(::Compat.#inner#16{Array{Any,1},IJulia.#execute_request,Tuple{ZMQ.Socket,IJulia.Msg}})\u001b[22m\u001b[22m\u001b[1m(\u001b[22m\u001b[22m\u001b[1m)\u001b[22m\u001b[22m at \u001b[1m/Users/a14880/.julia/v0.6/Compat/src/Compat.jl:496\u001b[22m\u001b[22m\n",
      " [7] \u001b[1meventloop\u001b[22m\u001b[22m\u001b[1m(\u001b[22m\u001b[22m::ZMQ.Socket\u001b[1m)\u001b[22m\u001b[22m at \u001b[1m/Users/a14880/.julia/v0.6/IJulia/src/eventloop.jl:8\u001b[22m\u001b[22m\n",
      " [8] \u001b[1m(::IJulia.##14#17)\u001b[22m\u001b[22m\u001b[1m(\u001b[22m\u001b[22m\u001b[1m)\u001b[22m\u001b[22m at \u001b[1m./task.jl:335\u001b[22m\u001b[22m\n",
      "while loading In[107], in expression starting on line 82\n"
     ]
    }
   ],
   "source": [
    "# setting\n",
    "\n",
    "### Economy ###\n",
    "const num_threads = 16;\n",
    "const r = 0.01; # interest rate\n",
    "const dep_rate = 1 # dependency rate\n",
    "const wage_care = 0.7; # care workers' wage rate. ratio to all industry\n",
    "const sick_rate = 0.3; # need care old / old\n",
    "const care_hour = 0.3; # care demand per care receiver in hours\n",
    "const middle_age = (2); # when giving care\n",
    "\n",
    "### Government ###\n",
    "#tau = 0.3; # income tax rate\n",
    "const rep_rate = 0.3; # replacement rate\n",
    "#NH_rate = 0.5; # government formal care provision rate. ratio to needed care\n",
    "const retirement_age = 3; # age when household can take up pension\n",
    "const num_period = 3; # number of periods when hh dies surely\n",
    "const phi = 2/3 # cost efficiency of nursing home compared tp informal care \n",
    "# LTCI_type = 1; # 1 = proportionaly distribution, 2 = ceiling\n",
    "#ceiling = 0.2; # ceiling of informal care. above that the government take care of the needy\n",
    "\n",
    "\n",
    "### Preference ###\n",
    "const beta = 0.9; # discount rate\n",
    "const chi = .28; # share of leisure in utilty\n",
    "const sigma = 4; # intertemporal substitution\n",
    "\n",
    "### numerical excersize ###\n",
    "num_grid = 9; # number of grid 9\n",
    "const min_asset = 0; # minimum asset\n",
    "const max_asset = 10; # maximum asset\n",
    "const min_leisure = 0.001;\n",
    "const max_leisure = 0.999;\n",
    "\n",
    "# wage trainsition matrix\n",
    "# \"const\" make it faster \n",
    "const wage_rho = 0.9 # param for wage function\n",
    "const wage_sigma = 0.2# param for wage function standard deviation for epsilon\n",
    "const wage_mu = 0 # mean wage\n",
    "const wage_n_std = 3  # length of grid\n",
    "\n",
    "const wage_markovchain = tauchen(num_grid, wage_rho, wage_sigma, wage_mu, wage_n_std);\n",
    "const wage_trans_mat = wage_markovchain.p;\n",
    "const wage_grid = exp(wage_markovchain.state_values);\n",
    "\n",
    "# informal care grid and transition matrix\n",
    "\n",
    "hour_home_rho = 0 # param for wage function\n",
    "hour_home_sigma = 1# param for wage function standard deviation for epsilon\n",
    "hour_home_mu = 0 # mean hour at home\n",
    "hour_home_n_std = 3 # length of grid\n",
    "\n",
    "hour_home_markovchain = tauchen(num_grid, hour_home_rho, hour_home_sigma, hour_home_mu, hour_home_n_std);\n",
    "hour_home_trans_mat = hour_home_markovchain.p;\n",
    "hour_home_grid = exp(hour_home_markovchain.state_values);\n",
    "\n",
    "asset_grid = linspace(min_asset, max_asset, num_grid);\n",
    "leisure_grid = linspace(min_leisure, max_leisure, num_grid);\n",
    "\n",
    "# simulation 100 thousand H/H\n",
    "# initializing matrices\n",
    "num_hh = 100000; # 100000\n",
    "\n",
    "asset_record = zeros(num_hh, num_period);\n",
    "wage_record = zeros(num_hh, num_period);\n",
    "average_income_record = zeros(num_hh,num_period);\n",
    "raw_hour_home_record = zeros(num_hh, num_period);\n",
    "hour_home_record = zeros(num_hh, num_period);\n",
    "hour_mkt_record = zeros(num_hh, num_period);\n",
    "consumption_record = zeros(num_hh, num_period);\n",
    "\n",
    "# wage is first generated by normal and transformed into exponentiated value\n",
    "wage_dist = Normal(wage_mu, wage_sigma^2/(1 - wage_rho^2));\n",
    "log_wage = rand(wage_dist, num_hh, 1);\n",
    "wage_record[:,1] = exp(log_wage);\n",
    "eps_dist = Normal(0, wage_sigma);\n",
    "wage_record[:,2] = exp(wage_rho*log_wage + rand(eps_dist, num_hh, 1));\n",
    "\n",
    "# raw hour home. the hour ac\n",
    "hour_home_dist = Normal(hour_home_mu, hour_home_sigma^2);\n",
    "log_hour_home = rand(hour_home_dist, num_hh, num_period);\n",
    "raw_hour_home_record = exp(log_hour_home);\n",
    "raw_hour_home_record[:, 1] = 0;\n",
    "total_raw_hour_home = sum(raw_hour_home_record);"
   ]
  },
  {
   "cell_type": "code",
   "execution_count": 108,
   "metadata": {
    "slideshow": {
     "slide_type": "subslide"
    }
   },
   "outputs": [
    {
     "data": {
      "text/plain": [
       "simulator (generic function with 12 methods)"
      ]
     },
     "execution_count": 108,
     "metadata": {},
     "output_type": "execute_result"
    }
   ],
   "source": [
    "function simulator(LTCI_type, NH_rate, ceiling, pol_consumption, pol_new_asset, pol_hour_mkt, pol_new_average_income, consumption_record = consumption_record,\n",
    "        asset_record = asset_record, hour_mkt_record = hour_mkt_record, raw_hour_home_record = raw_hour_home_record, \n",
    "        average_income_record = average_income_record, asset_grid = asset_grid, hour_home_grid = hour_home_grid,  \n",
    "        wage_grid = wage_grid, num_grid = num_grid, retirement_age = retirement_age,  num_period = num_period)\n",
    "    \n",
    "    \n",
    "\n",
    "    for t = 1:num_period\n",
    "        pol_consumption_reshape = reshape(pol_consumption[t,:], num_grid, num_grid, num_grid, num_grid) # reshape for interpolate    \n",
    "        pol_new_asset_reshape = reshape(pol_new_asset[t,:], num_grid, num_grid, num_grid, num_grid) # reshape for interpolate    \n",
    "        pol_hour_mkt_reshape = reshape(pol_hour_mkt[t,:], num_grid, num_grid, num_grid, num_grid) # reshape for interpolate    \n",
    "        pol_new_average_income_reshape = reshape(pol_new_average_income[t,:], num_grid, num_grid, num_grid, num_grid) # reshape for interpolate    \n",
    "        \n",
    "        consumption_itp = interpolate((asset_grid, wage_grid, wage_grid, hour_home_grid), pol_consumption_reshape, Gridded(Linear()));\n",
    "        new_asset_itp = interpolate((asset_grid, wage_grid, wage_grid, hour_home_grid), pol_new_asset_reshape, Gridded(Linear()));\n",
    "        hour_mkt_itp = interpolate((asset_grid, wage_grid, wage_grid, hour_home_grid), pol_hour_mkt_reshape, Gridded(Linear()));\n",
    "        new_average_income_itp = interpolate((asset_grid, wage_grid, wage_grid, hour_home_grid), pol_new_average_income_reshape, Gridded(Linear()));\n",
    "\n",
    "\n",
    "        for n = 1:num_hh\n",
    "            if t < retirement_age\n",
    "                asset_record[n,t+1] = new_asset_itp[asset_record[n,t], average_income_record[n,t], wage_record[n,t],\n",
    "                    raw_hour_home_record[n,t]]\n",
    "                average_income_record[n,t + 1] = new_average_income_itp[asset_record[n,t], average_income_record[n,t], \n",
    "                    wage_record[n,t], raw_hour_home_record[n,t]]\n",
    "            end\n",
    "            hour_mkt_record[n,t] = hour_mkt_itp[asset_record[n,t], average_income_record[n,t], wage_record[n,t], raw_hour_home_record[n,t]]\n",
    "            hour_home_record[n,t] = calc_hour_home(t, raw_hour_home_record[n,t], total_raw_hour_home, LTCI_type, NH_rate, ceiling);\n",
    "            consumption_record[n,t] = consumption_itp[asset_record[n,t], average_income_record[n,t], wage_record[n,t], raw_hour_home_record[n,t]]\n",
    "\n",
    "            \n",
    "            \n",
    "        end\n",
    "    end\n",
    "    return consumption_record, asset_record, hour_mkt_record, hour_home_record, average_income_record\n",
    "end"
   ]
  },
  {
   "cell_type": "markdown",
   "metadata": {
    "collapsed": true,
    "slideshow": {
     "slide_type": "slide"
    }
   },
   "source": [
    "# Fiscal sustainability of LTCI"
   ]
  },
  {
   "cell_type": "code",
   "execution_count": 109,
   "metadata": {
    "slideshow": {
     "slide_type": "subslide"
    }
   },
   "outputs": [
    {
     "data": {
      "text/plain": [
       "LTCI_cost (generic function with 9 methods)"
      ]
     },
     "execution_count": 109,
     "metadata": {},
     "output_type": "execute_result"
    }
   ],
   "source": [
    "# cost \n",
    "function LTCI_cost(LTCI_type, NH_rate, ceiling, raw_hour_home_record = raw_hour_home_record, hour_home_record = hour_home_record, \n",
    "        phi = phi, wage_care = wage_care, care_hour = care_hour,sick_rate = sick_rate, \n",
    "        dep_rate = dep_rate, total_raw_hour_home = total_raw_hour_home)\n",
    "    if LTCI_type == 1\n",
    "        if NH_rate <= 0 \n",
    "            return 0\n",
    "        else\n",
    "            return NH_rate*phi*wage_care*num_hh*dep_rate*sick_rate*care_hour\n",
    "        end\n",
    "    end\n",
    "    if LTCI_type == 2\n",
    "        if ceiling <= 0\n",
    "            return 0\n",
    "        else\n",
    "            temp_care_hour = zeros(num_hh, 1)\n",
    "            for i in 1:num_hh                \n",
    "                temp_care_hour[i] = raw_hour_home_record[i]*dep_rate*care_hour*sick_rate*num_hh/total_raw_hour_home\n",
    "            end\n",
    "            return sum((temp_care_hour - ceiling).*(temp_care_hour .>= ceiling))\n",
    "        end\n",
    "    end\n",
    "end"
   ]
  },
  {
   "cell_type": "code",
   "execution_count": 110,
   "metadata": {
    "slideshow": {
     "slide_type": "subslide"
    }
   },
   "outputs": [
    {
     "data": {
      "text/plain": [
       "calc_revenue (generic function with 1 method)"
      ]
     },
     "execution_count": 110,
     "metadata": {},
     "output_type": "execute_result"
    }
   ],
   "source": [
    "function calc_revenue(wage_record, hour_mkt_record, tau)\n",
    "    sum(wage_record.*hour_mkt_record*tau)\n",
    "end"
   ]
  },
  {
   "cell_type": "code",
   "execution_count": 111,
   "metadata": {
    "slideshow": {
     "slide_type": "subslide"
    }
   },
   "outputs": [
    {
     "data": {
      "text/plain": [
       "calc_pension_cost (generic function with 4 methods)"
      ]
     },
     "execution_count": 111,
     "metadata": {},
     "output_type": "execute_result"
    }
   ],
   "source": [
    "function calc_pension_cost(average_income_record, rep_rate = rep_rate,  num_period = num_period, \n",
    "        retirement_age = retirement_age)\n",
    "    sum(average_income_record[:,3])*rep_rate\n",
    "end"
   ]
  },
  {
   "cell_type": "markdown",
   "metadata": {
    "collapsed": true,
    "slideshow": {
     "slide_type": "slide"
    }
   },
   "source": [
    "# iteration\n",
    "* set  $\\tau$, LTCI type, NH rate, ceiling, replacement rate and see if converge"
   ]
  },
  {
   "cell_type": "code",
   "execution_count": 112,
   "metadata": {
    "collapsed": true,
    "slideshow": {
     "slide_type": "skip"
    }
   },
   "outputs": [],
   "source": [
    "while nworkers() < num_threads\n",
    "    addprocs(1);\n",
    "end"
   ]
  },
  {
   "cell_type": "code",
   "execution_count": 113,
   "metadata": {
    "slideshow": {
     "slide_type": "subslide"
    }
   },
   "outputs": [
    {
     "data": {
      "text/plain": [
       "iteration (generic function with 9 methods)"
      ]
     },
     "execution_count": 113,
     "metadata": {},
     "output_type": "execute_result"
    }
   ],
   "source": [
    "function iteration(tau, LTCI_type, NH_rate, ceiling, tol = 0.05, lr = 0.01, drep_rate = rep_rate, num_grid = num_grid, \n",
    "        raw_hour_home_record = raw_hour_home_record, wage_record = wage_record, value_function = value_function, ratio = 0)\n",
    "    while abs(ratio - 1) > tol\n",
    "        \n",
    "        pol_consumption, pol_hour_mkt, pol_income, pol_new_asset, pol_new_average_income = gen_policy_function(tau, LTCI_type, NH_rate, ceiling, num_grid, value_function)\n",
    "        consumption_record, asset_record, hour_mkt_record, hour_home_record, new_average_income_record = simulator(LTCI_type, NH_rate, ceiling, pol_consumption, pol_new_asset, pol_hour_mkt, pol_new_average_income)\n",
    "\n",
    "        cost = LTCI_cost(LTCI_type, NH_rate, ceiling, raw_hour_home_record) + calc_pension_cost(average_income_record, rep_rate)\n",
    "        revenue = calc_revenue(wage_record, hour_mkt_record, tau)\n",
    "        ratio = cost/revenue\n",
    "        if ratio > 1 + tol\n",
    "            tau = tau + lr\n",
    "        elseif ratio < 1 - tol\n",
    "            tau = tau - lr\n",
    "        end\n",
    "        println(\"tax rate is $tau and ratio is $ratio cost is $cost revenue is $revenue\")\n",
    "    end\n",
    "    return tau, LTCI_type, NH_rate, ceiling, consumption_record, asset_record, hour_mkt_record, hour_home_record\n",
    "end"
   ]
  },
  {
   "cell_type": "markdown",
   "metadata": {
    "collapsed": true,
    "slideshow": {
     "slide_type": "slide"
    }
   },
   "source": [
    "# Exercise"
   ]
  },
  {
   "cell_type": "markdown",
   "metadata": {
    "collapsed": true,
    "slideshow": {
     "slide_type": "slide"
    }
   },
   "source": [
    "## benchmark economy\n",
    "* LTCI is provided proportional to the level of care. Half of the care is covered by government funded formal care.\n",
    "* Other policy\n",
    "    * Pension is proportional to their lifetime income. Almost same as **Kosei Nenkin** or employees' pension insurance.\n",
    "    * Balanced budget, which is unlikely in the real world.\n",
    "    * Flat tax with rate consistent with the spending by numerical iteration."
   ]
  },
  {
   "cell_type": "code",
   "execution_count": 114,
   "metadata": {
    "slideshow": {
     "slide_type": "subslide"
    }
   },
   "outputs": [
    {
     "name": "stderr",
     "output_type": "stream",
     "text": [
      "\u001b[1m\u001b[33mWARNING: \u001b[39m\u001b[22m\u001b[33mmax{T1 <: Real}(x::AbstractArray{T1}, y::Real) is deprecated, use max.(x, y) instead.\u001b[39m\n",
      "Stacktrace:\n",
      " [1] \u001b[1mdepwarn\u001b[22m\u001b[22m\u001b[1m(\u001b[22m\u001b[22m::String, ::Symbol\u001b[1m)\u001b[22m\u001b[22m at \u001b[1m./deprecated.jl:70\u001b[22m\u001b[22m\n",
      " [2] \u001b[1mmax\u001b[22m\u001b[22m\u001b[1m(\u001b[22m\u001b[22m::Array{Float64,2}, ::Int64\u001b[1m)\u001b[22m\u001b[22m at \u001b[1m./deprecated.jl:57\u001b[22m\u001b[22m\n",
      " [3] \u001b[1mgen_policy_function\u001b[22m\u001b[22m\u001b[1m(\u001b[22m\u001b[22m::Float64, ::Int64, ::Float64, ::Float64, ::Int64, ::Function\u001b[1m)\u001b[22m\u001b[22m at \u001b[1m./In[106]:16\u001b[22m\u001b[22m\n",
      " [4] \u001b[1miteration\u001b[22m\u001b[22m\u001b[1m(\u001b[22m\u001b[22m::Float64, ::Int64, ::Float64, ::Float64, ::Float64, ::Float64, ::Float64, ::Int64, ::Array{Float64,2}, ::Array{Float64,2}, ::#value_function, ::Int64\u001b[1m)\u001b[22m\u001b[22m at \u001b[1m./In[113]:5\u001b[22m\u001b[22m\n",
      " [5] \u001b[1miteration\u001b[22m\u001b[22m\u001b[1m(\u001b[22m\u001b[22m::Float64, ::Int64, ::Float64, ::Float64, ::Float64\u001b[1m)\u001b[22m\u001b[22m at \u001b[1m./In[113]:3\u001b[22m\u001b[22m\n",
      " [6] \u001b[1minclude_string\u001b[22m\u001b[22m\u001b[1m(\u001b[22m\u001b[22m::String, ::String\u001b[1m)\u001b[22m\u001b[22m at \u001b[1m./loading.jl:515\u001b[22m\u001b[22m\n",
      " [7] \u001b[1minclude_string\u001b[22m\u001b[22m\u001b[1m(\u001b[22m\u001b[22m::Module, ::String, ::String\u001b[1m)\u001b[22m\u001b[22m at \u001b[1m/Users/a14880/.julia/v0.6/Compat/src/Compat.jl:174\u001b[22m\u001b[22m\n",
      " [8] \u001b[1mexecute_request\u001b[22m\u001b[22m\u001b[1m(\u001b[22m\u001b[22m::ZMQ.Socket, ::IJulia.Msg\u001b[1m)\u001b[22m\u001b[22m at \u001b[1m/Users/a14880/.julia/v0.6/IJulia/src/execute_request.jl:154\u001b[22m\u001b[22m\n",
      " [9] \u001b[1m(::Compat.#inner#16{Array{Any,1},IJulia.#execute_request,Tuple{ZMQ.Socket,IJulia.Msg}})\u001b[22m\u001b[22m\u001b[1m(\u001b[22m\u001b[22m\u001b[1m)\u001b[22m\u001b[22m at \u001b[1m/Users/a14880/.julia/v0.6/Compat/src/Compat.jl:496\u001b[22m\u001b[22m\n",
      " [10] \u001b[1meventloop\u001b[22m\u001b[22m\u001b[1m(\u001b[22m\u001b[22m::ZMQ.Socket\u001b[1m)\u001b[22m\u001b[22m at \u001b[1m/Users/a14880/.julia/v0.6/IJulia/src/eventloop.jl:8\u001b[22m\u001b[22m\n",
      " [11] \u001b[1m(::IJulia.##14#17)\u001b[22m\u001b[22m\u001b[1m(\u001b[22m\u001b[22m\u001b[1m)\u001b[22m\u001b[22m at \u001b[1m./task.jl:335\u001b[22m\u001b[22m\n",
      "while loading In[114], in expression starting on line 237\n",
      "\u001b[1m\u001b[33mWARNING: \u001b[39m\u001b[22m\u001b[33mmax{T1 <: Real}(x::AbstractArray{T1}, y::Real) is deprecated, use max.(x, y) instead.\u001b[39m\n",
      "Stacktrace:\n",
      " [1] \u001b[1mdepwarn\u001b[22m\u001b[22m\u001b[1m(\u001b[22m\u001b[22m::String, ::Symbol\u001b[1m)\u001b[22m\u001b[22m at \u001b[1m./deprecated.jl:70\u001b[22m\u001b[22m\n",
      " [2] \u001b[1mmax\u001b[22m\u001b[22m\u001b[1m(\u001b[22m\u001b[22m::Array{Float64,2}, ::Int64\u001b[1m)\u001b[22m\u001b[22m at \u001b[1m./deprecated.jl:57\u001b[22m\u001b[22m\n",
      " [3] \u001b[1mgen_policy_function\u001b[22m\u001b[22m\u001b[1m(\u001b[22m\u001b[22m::Float64, ::Int64, ::Float64, ::Float64, ::Int64, ::Function\u001b[1m)\u001b[22m\u001b[22m at \u001b[1m./In[106]:19\u001b[22m\u001b[22m\n",
      " [4] \u001b[1miteration\u001b[22m\u001b[22m\u001b[1m(\u001b[22m\u001b[22m::Float64, ::Int64, ::Float64, ::Float64, ::Float64, ::Float64, ::Float64, ::Int64, ::Array{Float64,2}, ::Array{Float64,2}, ::#value_function, ::Int64\u001b[1m)\u001b[22m\u001b[22m at \u001b[1m./In[113]:5\u001b[22m\u001b[22m\n",
      " [5] \u001b[1miteration\u001b[22m\u001b[22m\u001b[1m(\u001b[22m\u001b[22m::Float64, ::Int64, ::Float64, ::Float64, ::Float64\u001b[1m)\u001b[22m\u001b[22m at \u001b[1m./In[113]:3\u001b[22m\u001b[22m\n",
      " [6] \u001b[1minclude_string\u001b[22m\u001b[22m\u001b[1m(\u001b[22m\u001b[22m::String, ::String\u001b[1m)\u001b[22m\u001b[22m at \u001b[1m./loading.jl:515\u001b[22m\u001b[22m\n",
      " [7] \u001b[1minclude_string\u001b[22m\u001b[22m\u001b[1m(\u001b[22m\u001b[22m::Module, ::String, ::String\u001b[1m)\u001b[22m\u001b[22m at \u001b[1m/Users/a14880/.julia/v0.6/Compat/src/Compat.jl:174\u001b[22m\u001b[22m\n",
      " [8] \u001b[1mexecute_request\u001b[22m\u001b[22m\u001b[1m(\u001b[22m\u001b[22m::ZMQ.Socket, ::IJulia.Msg\u001b[1m)\u001b[22m\u001b[22m at \u001b[1m/Users/a14880/.julia/v0.6/IJulia/src/execute_request.jl:154\u001b[22m\u001b[22m\n",
      " [9] \u001b[1m(::Compat.#inner#16{Array{Any,1},IJulia.#execute_request,Tuple{ZMQ.Socket,IJulia.Msg}})\u001b[22m\u001b[22m\u001b[1m(\u001b[22m\u001b[22m\u001b[1m)\u001b[22m\u001b[22m at \u001b[1m/Users/a14880/.julia/v0.6/Compat/src/Compat.jl:496\u001b[22m\u001b[22m\n",
      " [10] \u001b[1meventloop\u001b[22m\u001b[22m\u001b[1m(\u001b[22m\u001b[22m::ZMQ.Socket\u001b[1m)\u001b[22m\u001b[22m at \u001b[1m/Users/a14880/.julia/v0.6/IJulia/src/eventloop.jl:8\u001b[22m\u001b[22m\n",
      " [11] \u001b[1m(::IJulia.##14#17)\u001b[22m\u001b[22m\u001b[1m(\u001b[22m\u001b[22m\u001b[1m)\u001b[22m\u001b[22m at \u001b[1m./task.jl:335\u001b[22m\u001b[22m\n",
      "while loading In[114], in expression starting on line 237\n"
     ]
    },
    {
     "name": "stdout",
     "output_type": "stream",
     "text": [
      "tax rate is 0.1689 and ratio is 0.9615262955202709 cost is 28323.58115904915 revenue is 29456.897113483083\n",
      " 94.492907 seconds (1.64 G allocations: 177.065 GiB, 24.46% gc time)\n"
     ]
    }
   ],
   "source": [
    "tau = 0.1689;\n",
    "LTCI_type = 1;\n",
    "NH_rate = 0.5;\n",
    "ceiling = NaN;\n",
    "tol = 0.05;\n",
    "@time iter_results = iteration(tau, LTCI_type, NH_rate, ceiling, tol);"
   ]
  },
  {
   "cell_type": "code",
   "execution_count": 115,
   "metadata": {
    "collapsed": true,
    "slideshow": {
     "slide_type": "subslide"
    }
   },
   "outputs": [],
   "source": [
    "tau = iter_results[1];\n",
    "#LTCI_type = iter_results[2];\n",
    "#NH_rate = iter_results[3];\n",
    "#ceiling = iter_results[4];\n",
    "consumption_record = iter_results[5];\n",
    "asset_record = iter_results[6];\n",
    "hour_mkt_record = iter_results[7];\n",
    "hour_home_record = iter_results[8];"
   ]
  },
  {
   "cell_type": "markdown",
   "metadata": {
    "slideshow": {
     "slide_type": "slide"
    }
   },
   "source": [
    "## impact of informal care on lifetime consumption"
   ]
  },
  {
   "cell_type": "code",
   "execution_count": 116,
   "metadata": {
    "slideshow": {
     "slide_type": "slide"
    }
   },
   "outputs": [
    {
     "data": {
      "text/html": [
       "<script src=\"file:///Users/a14880/.julia/v0.6/Plots/src/backends/../../deps/plotly-latest.min.js\"></script>    <div id=\"a30b5785-235c-425c-bd6d-e87d5a6d2032\" style=\"width:600px;height:400px;\"></div>\n",
       "    <script>\n",
       "    PLOT = document.getElementById('a30b5785-235c-425c-bd6d-e87d5a6d2032');\n",
       "    Plotly.plot(PLOT, [{\"xaxis\":\"x\",\"colorbar\":{\"title\":\"\"},\"yaxis\":\"y\",\"orientation\":\"v\",\"x\":[0.025,0.07500000000000001,0.125,0.175,0.225,0.275,0.32499999999999996,0.375,0.42500000000000004,0.475,0.525,0.575,0.625,0.675,0.725,0.775,0.825,0.875,0.925,0.975],\"showlegend\":true,\"name\":\"y1\",\"marker\":{\"color\":\"rgba(0, 154, 250, 1.000)\",\"line\":{\"width\":1}},\"y\":[90289.0,7375.0,1544.0,468.0,146.0,87.0,37.0,23.0,8.0,8.0,4.0,2.0,1.0,2.0,1.0,1.0,1.0,2.0,0.0,1.0],\"type\":\"bar\",\"width\":[0.05,0.05,0.04999999999999999,0.05000000000000002,0.04999999999999999,0.04999999999999999,0.04999999999999999,0.050000000000000044,0.04999999999999999,0.04999999999999999,0.050000000000000044,0.04999999999999993,0.050000000000000044,0.04999999999999993,0.050000000000000044,0.050000000000000044,0.04999999999999993,0.050000000000000044,0.04999999999999993,0.050000000000000044]}], {\"showlegend\":true,\"xaxis\":{\"showticklabels\":true,\"gridwidth\":0.5,\"tickvals\":[0.2,0.4,0.6000000000000001,0.8,1.0],\"visible\":true,\"ticks\":\"inside\",\"range\":[3.469446951953614e-17,1.0],\"domain\":[0.10609871682706327,0.9934383202099737],\"tickmode\":\"array\",\"linecolor\":\"rgba(0, 0, 0, 1.000)\",\"showgrid\":true,\"title\":\"hour at home\",\"mirror\":false,\"tickangle\":0,\"showline\":true,\"gridcolor\":\"rgba(0, 0, 0, 0.100)\",\"titlefont\":{\"color\":\"rgba(0, 0, 0, 1.000)\",\"family\":\"sans-serif\",\"size\":15},\"tickcolor\":\"rgb(0, 0, 0)\",\"ticktext\":[\"0.2\",\"0.4\",\"0.6\",\"0.8\",\"1.0\"],\"zeroline\":false,\"type\":\"-\",\"tickfont\":{\"color\":\"rgba(0, 0, 0, 1.000)\",\"family\":\"sans-serif\",\"size\":11},\"zerolinecolor\":\"rgba(0, 0, 0, 1.000)\",\"anchor\":\"y\"},\"paper_bgcolor\":\"rgba(255, 255, 255, 1.000)\",\"annotations\":[{\"yanchor\":\"top\",\"xanchor\":\"center\",\"rotation\":-0.0,\"y\":1.0,\"font\":{\"color\":\"rgba(0, 0, 0, 1.000)\",\"family\":\"sans-serif\",\"size\":20},\"yref\":\"paper\",\"showarrow\":false,\"text\":\"Hour at home (Middle)\",\"xref\":\"paper\",\"x\":0.5497685185185185}],\"height\":400,\"margin\":{\"l\":0,\"b\":20,\"r\":0,\"t\":20},\"plot_bgcolor\":\"rgba(255, 255, 255, 1.000)\",\"yaxis\":{\"showticklabels\":true,\"gridwidth\":0.5,\"tickvals\":[0.0,20000.0,40000.0,60000.0,80000.0],\"visible\":true,\"ticks\":\"inside\",\"range\":[0.0,90289.0],\"domain\":[0.07581474190726165,0.9415463692038496],\"tickmode\":\"array\",\"linecolor\":\"rgba(0, 0, 0, 1.000)\",\"showgrid\":true,\"title\":\"num of households\",\"mirror\":false,\"tickangle\":0,\"showline\":true,\"gridcolor\":\"rgba(0, 0, 0, 0.100)\",\"titlefont\":{\"color\":\"rgba(0, 0, 0, 1.000)\",\"family\":\"sans-serif\",\"size\":15},\"tickcolor\":\"rgb(0, 0, 0)\",\"ticktext\":[\"0\",\"20000\",\"40000\",\"60000\",\"80000\"],\"zeroline\":false,\"type\":\"-\",\"tickfont\":{\"color\":\"rgba(0, 0, 0, 1.000)\",\"family\":\"sans-serif\",\"size\":11},\"zerolinecolor\":\"rgba(0, 0, 0, 1.000)\",\"anchor\":\"x\"},\"legend\":{\"bordercolor\":\"rgba(0, 0, 0, 1.000)\",\"bgcolor\":\"rgba(255, 255, 255, 1.000)\",\"font\":{\"color\":\"rgba(0, 0, 0, 1.000)\",\"family\":\"sans-serif\",\"size\":11},\"y\":1.0,\"x\":1.0},\"width\":600});\n",
       "    </script>\n"
      ]
     },
     "execution_count": 116,
     "metadata": {},
     "output_type": "execute_result"
    }
   ],
   "source": [
    "histogram(hour_home_record[:, 2], title = \"Hour at home (Middle)\", nbins = 40, ylabel = \"num of households\", xlabel = \"hour at home\")"
   ]
  },
  {
   "cell_type": "code",
   "execution_count": 117,
   "metadata": {
    "slideshow": {
     "slide_type": "slide"
    }
   },
   "outputs": [
    {
     "data": {
      "text/html": [
       "<script src=\"file:///Users/a14880/.julia/v0.6/Plots/src/backends/../../deps/plotly-latest.min.js\"></script>    <div id=\"9d6bfeb4-5835-4917-9ade-1cab4fb80d1d\" style=\"width:600px;height:400px;\"></div>\n",
       "    <script>\n",
       "    PLOT = document.getElementById('9d6bfeb4-5835-4917-9ade-1cab4fb80d1d');\n",
       "    Plotly.plot(PLOT, [{\"showlegend\":true,\"mode\":\"markers\",\"xaxis\":\"x\",\"colorbar\":{\"title\":\"\"},\"marker\":{\"symbol\":\"circle\",\"color\":\"rgba(0, 154, 250, 1.000)\",\"line\":{\"color\":\"rgba(0, 0, 0, 1.000)\",\"width\":1},\"size\":8},\"y\":[1.1306725957455204,1.8117388566870514,1.8787397806002346,1.4678918570521609,1.66167723190314,2.0692041830275714,1.111835462578604,2.212094721953906,1.5913284806447812,2.3068481431340437,1.9644314707905626,1.960692769860482,1.9479444006132374,2.125517391062972,1.2454171696080838,1.6432531011552471,1.8570922115579354,1.6113356164436108,2.107227033237338,0.8194070881546665,1.0016997005526487,1.9830287427036453,1.9915171039132287,1.6308110844952295,1.1686036391900831,2.17561897049702,1.7720882378071026,1.2598069646216796,1.4844944500857902,2.4168371347227517,1.7921985915908758,1.3967968707686924,1.7017211723821712,1.1486367600585998,2.1983613179830357,1.105047396452488,2.2599448725661535,1.3160805374217308,2.0969707716114603,1.6753670684145212,1.6022628927953526,2.02763629100425,2.496133742407711,1.3414085387473138,1.5763150099581607,2.829889899387684,2.2012124981585335,2.036402537719012,1.813065081471425,1.8982369586122823,1.5894520119843296,1.328816834445765,1.759671193696525,2.2400456803646343,1.5509045837567554,1.6924242365507491,1.22065096328631,1.5807070910125047,1.4403903727755403,1.7805544123767905,1.6039253144566306,1.7321640666060223,1.682272127517352,2.2740279597857285,1.80856626943054,2.2664229844999983,2.1870787605403947,1.3091099221763447,1.198255708271875,2.0383017508629298,1.4687075629117219,1.4688497775321179,2.583452993926575,1.5426024457716159,1.2489649793036062,1.7680369806329863,1.7506216524539795,2.35072460849872,2.205283705699744,2.2259450397241323,1.6067831839913955,2.778756274325314,1.8025019753320888,2.1724492829288065,1.9752095424658278,2.016520758584714,2.2574102691398354,1.869614201446564,3.234211533424809,1.7947186593020263,1.2673951545972237,2.3232992136797166,0.9299028444373398,1.369380364733308,1.8188982839251753,1.7764021935551362,2.2600193111943825,1.7152996656380628,1.540655320305997,1.8266906499124738,1.0308990288788036,1.3573072666933927,1.6310479366603814,2.881097322658698,1.3653507921152301,1.3534758984319009,1.807621319207161,1.3566989237737979,2.0376174816217025,2.3898885400852543,1.5173097603265893,2.1141233491248315,2.6774389406685817,2.1937821279023355,1.869188521795572,1.5233706291770033,1.3359022436174606,1.873324328665188,2.387893220372039,1.2725640669417868,1.8147145539264478,1.6094846880142193,1.347339835912161,2.061193397162808,0.9451923930941047,1.5613819824960349,1.9665489145604158,1.388546972027728,1.7942220326267158,1.6548928711143511,1.3152104915050424,1.842354861381693,1.9322120442346415,1.5870718410344886,2.2656024903090533,2.185399697612854,1.9026700420555855,2.272077919269323,1.6289803453913891,2.0452219396712343,1.7322207487793517,1.341021381890019,2.1414914409021506,2.4741898624209018,1.728415998029686,1.2778088260517375,1.496210994409351,1.21201762533552,1.5464038282038335,1.4719133252057182,1.4467714282335005,1.8545891499718117,1.08866327033117,1.4287237581975605,1.6465109025104558,0.9894397059999402,1.7001307293149934,1.9554504859445823,2.3218507457620317,1.859253978477972,1.6286235156199984,1.6443513874861497,1.3822162315543618,1.8698151199490103,1.4348469085327802,1.9641368264144954,1.8476613119572336,1.3693633457417824,1.4551583680208755,1.3102809274714544,1.0176001044123124,1.1183256857464277,2.0280391641216178,1.3679868272952609,1.7470921173565204,1.4204544344779424,1.0136437427363205,1.3896307202517113,1.7321785000503913,1.2027751299768688,2.023663261415916,1.4034716848120237,1.270450058233584,2.400904344552374,1.8691172571039711,1.4403483626837221,1.6909185326615974,2.695409973540314,2.3659918458971876,1.4524198505314785,1.335882851835688,1.4258975952302189,1.4521772596779372,1.8803548052712236,1.1145882467778911,1.93225019033705,1.7262118391515167,1.3417430726086141,2.0384159868495346,1.7462517903741759,1.582067691240904,1.0263094053877109,1.5898474079614595,1.7305683414295956,1.6349535324967641,1.7311111537333455,1.342472864410099,1.4993420343820951,1.0004189556541092,1.9535233302690789,1.3892615835780038,1.4054768663336943,1.8522716714978864,1.3194303395554132,1.4977223345051445,1.4636381604334903,1.536339243292304,1.516905768520797,1.6709827045415788,1.8821443989375641,1.9527746336501581,1.5162364650287714,2.0769451737329527,1.979375500042073,1.414277286688226,1.9503276416886262,2.528776262835968,1.3459707474537586,1.4325558548456452,1.4224361847689075,1.4779533649702286,1.745221908206089,1.4106399926824194,1.4573883824925171,1.795799532443536,1.8555807512663043,2.5861973383851993,1.7149182779394185,2.206823730784543,1.8149495175467445,1.3698941428238771,1.4025516462508312,1.4949379745820255,1.8822277918771073,2.0485183020512183,1.7018568918630332,2.036579814647147,1.8630170162700195,2.225140882627952,1.2417989125392803,1.7248199574830014,1.283732671642864,1.3142383040661418,1.7432001781779798,1.3544023874707474,1.6596223170945636,1.8036510889154185,1.3820928845300835,1.78956755711278,1.6257979936274998,1.7263580606822162,2.1721372096634566,1.3969337635270451,1.7364920462348916,1.3318133291022467,1.6252483332349272,1.7389476134682258,1.6559875385171186,1.0629262568996616,1.8347081994449748,1.8472099066298893,1.054195225547678,1.3114459388051936,1.6434520086088402,1.6306067090058927,2.1532805534243638,1.7043112351115217,1.4292743680276498,2.3282138604787663,1.3258603553112356,1.2389461014726928,1.9218798741934635,1.4288426110604744,1.4845805100975649,1.3481852200835265,1.1812639876015776,2.0732327909862454,1.5694693333788825,1.647712123772914,1.0839899788647864,1.7565843241963777,1.4671321404309623,1.946365403207122,1.601658937951183,1.4646014733553205,2.677871206166234,1.7385632223272685,1.4642310093016315,1.2101732386985953,3.118381735305358,1.7249282142832425,2.332824270604969,1.5954151356504345,1.6860220581562833,1.6337859638282741,1.256377022438449,2.027303837271659,1.4949383476500944,1.4241226632029558,2.266995569796021,1.684752066057905,2.2752081182752573,1.3232096685504406,1.774142573614868,1.0146831869745505,1.0584611136981217,1.91215692625434,1.6353215739652054,1.5862777429596326,2.0015724062838802,1.1865313461111127,1.5426367757226855,2.1860054308614245,1.9631311232242692,2.2339947325963916,1.6732494873526518,1.7975400336872995,1.9855717228611471,2.2131986590795365,1.2300724890463022,2.0458840063319386,1.6465806337583326,1.2159912192411462,1.385515182362218,1.8599251685342972,1.9764907125524211,1.9371281386183754,1.7223169036037604,1.9019393104310187,1.5442931886439433,1.7061382951421091,1.7385288912323826,1.7501275995379764,1.9781690985813143,1.8209285180050185,2.170792776714796,1.4380375337588829,1.9825838367243214,2.049608514667748,1.3206318156630803,1.9168144434526768,1.9869302475239978,2.231676523085216,1.92615368923087,2.7836919592198255,1.303718379388937,1.7337166751486794,1.4581893449766736,1.5196496162518471,1.4796798570701357,2.468675131108901,1.5765171754454619,1.63531252909128,2.4946901925453924,1.7413579238824783,1.319045106243454,1.5031837653630016,2.6352856695609157,1.8654610397188969,1.8963433379944437,1.122607760508446,2.4632856288603606,1.9586092436717655,1.8080121597060421,2.11339634946323,1.413005252839267,2.1652151100714385,1.323473474806847,2.0431168848452534,1.2477934627206828,2.1245162743923784,1.3166646885465263,1.35143642407687,2.8210064988844863,1.6122053425367158,1.9522189676631878,1.8661077940689135,1.8780307239399328,2.156580739136826,1.52465203616311,1.6992236769919937,2.4838395642789006,1.8955143420980154,2.0452211377203953,1.0935492473569481,1.4024785373361477,1.6805753739913962,2.8442917373660794,2.050024167061244,1.6741056436515442,1.3149633031925387,1.4225936902089034,1.046946843570327,1.9004336710546759,1.5937334491760144,1.4485260000985627,2.643110464556406,1.689587999651879,1.6873381409956683,1.7911755441732955,1.655934619821227,1.0730157340796493,1.0847787476861157,1.586094614303923,2.2991906739075754,1.8372627594278292,2.1540833230496035,1.9320616411401006,1.8587599582676375,1.6572877770600016,2.2273410311636046,1.775964739065765,1.7111876160509853,2.282629467450412,1.6230743484260892,1.4882265147129192,2.2410014130557565,1.7010258124114948,1.4539204727064345,2.7263766896411155,1.7739976781264537,2.3150277738934464,1.6267667938439383,1.2619034897961428,1.586029697474155,1.7608108518059948,1.6264391785016086,1.7683151751734956,1.6202694392468155,1.1635598806107559,1.426155646208819,2.398719820684506,1.2289080119521638,1.507911817955804,1.1897282442646637,1.394502936838096,2.3158782365022845,1.3494741405372412,1.2969674261942883,1.62199530822018,1.5937145640256154,1.6547653970688616,1.5278306543604567,1.1640812841020212,1.8579401046804167,1.8350167313630883,1.2320980938246877,1.8899194661258865,2.2351916509285905,2.332390916755028,2.3437203445581556,2.018632039637859,1.5621384819565762,1.9351951050437117,1.3958958201550429,2.1003116363576693,1.7987814754251303,1.289419337498881,0.9504366256079004,1.6983522975517613,3.3966885405194605,1.9675354447715478,1.3924481525264996,2.1416864364594272,1.80193823149236,1.8290862483107961,1.4056525639176223,1.4523031282444823,1.0447258450510888,1.3090258929154355,1.37806276682473,2.5666648353586736,1.364756165800357,2.070057423194812,1.9066310348498832,1.5668232469898813,1.309068653518497,1.9442513007519076,2.0320744721782136,1.9196462640260414,1.6279449798289993,2.205903868060296,1.0380641660303047,1.8762949473313513,2.185367924513553,1.6787465226942808,2.0636651902127743,1.6743692215122556,2.2673298700505233,1.5842215017361223,2.1481331253718503,1.705013750326853,2.246208878757166,0.7704577314291479,1.2464103955624144,1.2278566312878598,1.1330721359693972,1.602461142195044,1.970191082193926,1.706231073643016,1.6942297248538378,2.038379146173262,1.6918315396180077,1.4708491752400943,1.5667200219023205,2.5708624406379608,1.654970754618933,1.7010545900739484,1.2942232312199988,1.6871870625112038,2.7023788069590435,1.500112506305314,1.6767766602458298,2.0767519607099816,1.5719747516282212,1.6801763862387715,1.13181080663547,1.037441466880477,2.6993709968225863,1.8017233953577776,1.6849768677915091,1.7866039296040586,1.3881586408232975,1.5589158175175586,2.1840800313156694,1.730329152587891,2.162495193361586,1.052395846399979,1.628816552662979,1.855280563321398,1.90452564627756,1.9203528941271828,1.6594610109546677,1.3062373865969543,1.426299290491546,1.970137909883829,2.3455153998837215,1.8111983245457728,2.22687590591199,1.886103069402027,1.8620684165579302,1.7295387415970351,1.4525844683537008,1.765816704617258,1.5827279194191883,1.8387752865365823,1.9013587315951677,1.4415127604059577,2.1509978148373343,1.4030580049394772,1.421579555140717,1.5069691353887325,2.223765909637638,1.4999677163962617,1.9643199711424841,1.2795912314187843,1.248802902291901,1.0728962095197934,1.4516205787624425,1.9012799946639187,2.03549530601635,0.8088733139227329,1.1078668265866136,1.7897523329035305,2.1215828656530737,1.276402404763876,1.5920221579195124,2.3350511766091153,1.2730355329726513,1.7090782285779018,1.511092517328229,1.7905900642382586,1.9117844962010404,2.0161270957991717,2.315719047277111,2.9639379991471717,2.1546405959599664,1.3849980920985443,1.065253530814742,1.5679040340845343,1.3931310524856046,1.3119467407356922,2.18870652753945,2.0068770621687855,1.8299440050152957,1.7276896644815514,1.5679862919605196,2.659680544058209,1.5975361950684928,1.9642644503989237,1.2586944306649563,2.085737471544284,1.8514055404390894,1.5299460624952466,1.1511809591020188,2.400793780006534,1.342105568606167,1.5996183000193858,2.7565941370366067,1.1862047578959756,1.439812248342937,2.1366685084909647,1.793810503882256,1.8927267431406984,1.9288868566326087,1.5858143611111826,1.361966767130667,1.8283163650386336,2.239759441510967,1.3479712677112796,1.4233844831106,1.84887336326305,2.3235174294676466,1.6558008172886811,2.1216130307015764,1.24732638776004,1.670226847316009,1.5801753630537059,1.4533965309459749,1.4396488726157233,1.778570361860845,1.8955989579549832,1.7566600248806394,1.7175582350974388,2.272849169036302,1.74500340556924,1.733664832042399,1.8609269977930767,1.719873117490063,1.778065239006455,1.3051460818009335,1.2823855257409074,2.5397325561352386,1.512335060691394,2.3321442467690825,1.7368801653631047,1.3465882584362228,1.4096849876560027,1.536803853928345,1.8917749863334035,1.315859398278343,1.6982037759455337,1.561997568237329,1.3910141263557199,1.6413260038067512,1.8873722600417473,1.3906842070446583,1.5600778500066368,1.8530220102561066,1.348937675030532,1.4650069615902521,1.6122935068041093,1.8480899470200307,2.417728030715534,2.74358972111124,1.8895849822559752,1.2404965183425605,2.303615218038517,2.3931636096426687,2.322234686065225,1.5373224239189391,1.0625653346503527,0.830586731258452,1.6624384265002692,1.7898194929515459,2.4951296023630443,1.4460032400239946,1.1496151849105516,1.4387901113715726,1.1706068819436115,2.429369310721941,2.1351540033274814,1.9523370981948043,1.8539863290463747,2.268405694908283,1.743527664159504,2.1790380360251893,1.2258385529629943,1.5935998362888062,1.9220596646085886,2.252634270156544,1.6869927798519977,1.5161904291647994,1.4272321834701627,2.3120962734029957,1.5517219620688267,2.2403533322311073,1.8494750150850459,1.7275259184772125,2.77828644942159,1.4863833259427364,1.4467754054964128,1.6163381859959274,2.505575166466567,1.7979700427768348,0.9157448286875244,1.5804100620379802,1.251568779939409,2.164039890101229,1.8332529782428106,1.499204058503319,2.001167603073124,1.9764912299341932,1.8216973947048998,1.4319666954660282,1.745255024150815,1.4950253966317875,2.2478082036070153,2.064550772153393,1.114766141011287,1.7903772194455652,1.766545962493513,1.732918399620454,1.2380173648656116,1.7606678618724891,1.512092264184584,1.0810370910149794,2.223272624992855,1.3062806686133903,1.034188639523421,1.875310591213832,1.8139376197542545,1.593087800006234,2.1195251267060486,2.080164006665623,2.291196010129483,1.767113324794232,2.2126720058104867,1.7219404508627942,1.8469724665672438,1.2615956826428478,1.3366944685974353,1.6079415489219853,2.2725910325843226,2.1093855916017636,1.9094523139289314,1.7534981295892094,1.9028439264339787,1.5086189393521898,1.8453114178255117,1.0904331435598562,1.4214949403944768,1.9655238746917303,1.0854133755277413,1.379765275738947,2.690734803827068,1.155389091247567,1.3923637590357396,2.1845162484402145,2.0237038867017225,1.9604548213865656,2.0162838636857465,2.142044171529524,1.93567324246873,1.3046501951783895,1.485656851493961,1.0801352603404757,1.4617088986174123,2.189625390662613,1.7307100944843483,2.049018581941416,1.7085117107776657,1.7727807078625668,1.7435845644557846,2.3063564792697426,1.5198131980125817,1.6365585455429223,0.9759017473134419,1.7649685913087427,1.5327989903130215,1.1480092573065726,2.4110719833581244,2.1546978305330295,0.8814282801717708,2.42977417267344,2.222848065427314,1.6855011611290571,1.3082798660772386,1.609985367515293,1.810712357276444,1.7745286837584635,1.3855118424806965,1.5490010734099517,1.5197622814411627,1.5182267956105404,1.2945207370851577,1.3178592039157389,2.001267224096913,1.6967662842334625,1.6700876017970163,2.314513061307507,1.4044092520085483,1.1177880266600555,1.867672889629179,1.7462667820986792,1.9636079951421772,1.427019047988337,2.1449948052804153,1.3436366801422683,2.348329054056207,1.2169518677048097,1.1590627843841022,1.7584459459308406,2.2996693643337975,1.7035053138487322,1.8516514714506385,1.1936793330087605,1.7922805985546426,1.6111461613492881,2.114840199664676,1.9174888730360984,1.2430210700614888,1.6166549057930364,1.4239467687695804,1.8681303515859353,2.049843343502496,1.9079088462653442,2.0954230977171777,2.359658941706531,1.566523983284254,1.4829404240668467,2.4925255498520977,2.0117042342053812,1.4561070984873572,1.8955459293519685,2.1158905458885107,1.921473763477497,1.4280585883615653,2.4562493937866527,1.4680036676720851,2.0855962218755364,1.3448594811825956,1.9662422515727367,1.6543883517115399,1.7504622691647687,1.6040179151299045,1.3716309364417834,1.6830980159623654,1.1819906122841726,1.4722111779939229,1.8799941727947402,1.8914897941711253,0.8085292664690614,1.6561418010171343,2.0395457293651447,1.4372069811238122,2.139926836228236,2.4023215990526117,0.7661005671890072,1.7138486490308866,1.9515391865210794,2.970788599845289,1.6606827698738906,1.3296451104832436,1.4849231949529933,1.5585431981904714,1.723760793578861,1.2349782578524027,1.833578695883285,1.1564971073151504,1.2559950142132061,1.3882378059445701,1.4190799851514595,2.40670233186334,1.5843667724669026,1.35457320980347,1.3811416559806613,1.0348539156009358,0.9314035293694228,2.0723333613376065,1.607114206436306,1.593757738582079,1.9687583812185268,2.067772637498193,1.9432442789172955,1.6863555121567315,2.17909845122317,1.59241008407405,1.2981487067019486,0.8501026722562106,1.377379639120641,2.115131198880985,2.121062209609329,3.1569667231923977,1.7571616041391833,1.472669336331696,1.7265867400955952,1.580731041040618,1.7205631623932125,1.581119112267414,1.1755199636455782,1.3635425129404446,1.5051800080775506,1.6677171685146424,1.8953354933181468,2.345001260118366,1.7735147189038905,1.911490964006875,2.32670173590781,1.7499164936974265,1.6031422655031222,2.398886926529947,1.2552357084148147,1.4714983221076081,1.7012877816753074,1.6028167506704154,1.69987128906604,2.501849074440029,1.870257451590796,1.9619782467578966,1.2432595251855802,1.4267625435561326,2.4764256038232655,1.589909575891667,1.2802677377227059,1.1972897796718236,1.8023434896034896,0.9697779616201475,1.4880224785136313,1.523261182983599,1.3579431660261878,1.556722962214314,1.6088152512670355,1.0388215579000755,1.0552174243591086,1.8107604689524677,1.7423080067102625,1.541289864509958,1.4638495542315413,1.4806219026065783,1.645418179497167,1.6330116594350987,1.5362455850930001,1.6566405005421159,1.9282857640736717,2.215119910574572,1.9892104427490125,1.6337472451920465,1.1495371368300855,1.2579773936833214,1.730035521854659,1.4679095155602715,1.8817760257014433,2.6347983693205568,2.1181620644783536,2.0128553032359635,2.6534305682164314,1.3534233105853875,0.9338180815064065,0.9754765084080431,2.2224272326132763,1.929206358034878,1.9422839546873347,1.859492358362576,2.498941059151871,1.7329819195164375,1.2711089968305431,1.479752636593169,1.5928183848755568,2.0960559668591037,1.3395153770456647,2.0428542377358796,1.4687190016541531,2.19789240131584,1.9184761256088634,1.3087678516332077,1.834610755957859,2.321737122484876,1.1536517406303335,1.5595038180730354,1.7259256940220853,1.7129663306226042,1.2275031826587388,2.404847892785685,1.4906706214968026,1.7348810464680384,1.594225813293186,1.5393068337371947,0.9023409945731362,1.44493250878698,1.5915426138092297,1.8389116001975256,1.6621611349490666,1.9338075753678279,1.716140662988648,1.7257253942351412,2.916616313643878,1.1355573537960577,1.6033633058521832,2.207948980464172],\"type\":\"scatter\",\"name\":\"y1\",\"yaxis\":\"y\",\"x\":[0.03757342853277929,0.004805681108760806,0.021484369197339696,0.03542200796252105,0.037158177076717314,0.04176999838446115,0.00452911316120978,0.009046167432924704,0.033309463279664706,0.015001745690472851,0.02770986119790383,0.011508763291742304,0.011766961073197385,0.07467662672807052,0.012228892015482986,0.03434699511344738,0.07551562646986885,0.044398265128909355,0.004204028455932324,0.01505430119477708,0.0688172828661415,0.050787725951903034,0.020508519142286512,0.003723978110900118,0.10631133869108447,0.014884471461288736,0.028480570109541598,0.09152389878944756,0.02871971430389349,0.002361550125808963,0.07099932216016822,0.013852204087619967,0.007080842907132203,0.008792015639811855,0.11301166160693632,0.0020773139374465916,0.01568223187875464,0.014687779521542684,0.010158535505664638,0.017399505989841222,0.023846102931216733,0.007217907733139504,0.006296046116152233,0.03491327052195394,0.0254096638940902,0.05775713437857455,0.007160964995030578,0.031985921773811675,0.006800644634079677,0.006911148681243878,0.02694480005251805,0.010913804211502455,0.01429435277608387,0.022478726311049003,0.00981940595683276,0.008195965395719212,0.0036522064577716898,0.07233151306979614,0.019226745735516932,0.05937869891594615,0.041420796205656016,0.07960386489424012,0.03725881793909151,0.004248863148578973,0.0029092620369553257,0.006281046962208138,0.017638101305429227,0.14298895153562569,0.029615784039359865,0.025537688901035905,0.012665456542068059,0.02704101352801795,0.001224733085772101,0.0033537779753266073,0.00609839875451149,0.012008924288779206,0.008118023742135676,0.023161563804088195,0.017177393643924434,0.01280860823959968,0.014528804964178991,0.018776369956312267,0.00839102793648662,0.014664806749760532,0.008539441735085225,0.021123592917688734,0.005260043110944359,0.010209846598378345,0.006094199836625876,0.049859968369384056,0.005040856789703739,0.011217306092814149,0.0051261952310659486,0.0033480583282543474,0.03525643361771213,0.007740019215554931,0.05674721300545418,0.0068900706773385,0.0060804770709412094,0.05590250431616063,0.005828370209315699,0.013789359508669987,0.004505993708338983,0.00944156626820246,0.0114303546015372,0.008764008033498893,0.00715248464257497,0.0061322696873461644,0.010757559913317932,0.05414246460210863,0.01962151106855812,0.009865000268039553,0.020033332779723585,0.030474450085496974,0.06393760352777418,0.008664476128073495,0.029546353380576484,0.009041973209610813,0.023124280049817522,0.021300481295926318,0.011296789957585441,0.00046520915973562345,0.022014998784830264,0.007793425399224831,0.01652136367182361,0.040181362952313185,0.025817633716561147,0.01635674617843969,0.00866204146919741,0.0037463557645179184,0.01701208061180343,0.004626114604936985,0.034384428632454035,0.006512189296372416,0.007263369207666008,0.0034261898536464036,0.01708344841627716,0.00618445293351395,0.01322665103370522,0.009015275202463448,0.006296057218567933,0.0036049352045730123,0.009500952411075052,0.014617567346375796,0.015472183665231518,0.014155605002572534,0.011695924249187013,0.006599803943204539,0.013406963397511507,0.01111128853381765,0.014352047425414663,0.005086162472443524,0.003702963084962325,0.0028635267756422903,0.14425511911576366,0.01811795492709659,0.0123659707639087,0.0015644640495441641,0.0005080312419988454,0.014682896543079084,0.01701225255982639,0.006289836913213027,0.014787670281023669,0.0014748420757219399,0.008422029767335797,0.014775067666011494,0.0053506412039788995,0.014905591372859404,0.002644055810294792,0.0031264262317048726,0.0033424731329627618,0.009018448739786687,0.01632948515399294,0.023967243116009562,0.005756897907015583,0.14085018706877867,0.01467167000674379,0.010391612763512687,0.002499442213022648,0.00951242151033904,0.029431070515723644,0.006882479649637163,0.024582995523194352,0.01788429592728288,0.013874709499248234,0.009122847503699091,0.043111117466833195,0.006925195729345211,0.04014514502499658,0.016331035556487742,0.0032016909012423157,0.15676668408627673,0.0035556908316402027,0.05520037112635671,0.018058497920467778,0.002075057593684472,0.0007819433843501983,0.005772913966364533,0.02973818090991401,0.03724228131255557,0.03246554233425058,0.005292564709166434,0.006996407463891532,0.02817010750072929,0.027903761167726627,0.008472048494284934,0.08095029518559525,0.008153767515741817,0.006571520750108869,0.03918827346037331,0.004208725546827203,0.005614957355699252,0.007542092679961584,0.009096174656908018,0.00822059037770792,0.027115719410035703,0.03190842565405251,0.011677652672529296,0.005311812257801469,0.005112826220122965,0.02808956775993501,0.05313719977877945,0.0030766232152713733,0.004545456933745643,0.012955186110130646,0.00222455163505454,0.006718633371843776,0.026089056414941632,0.003171885185616237,0.01310543413313889,0.02759733062978409,0.0011788884048163169,0.02050341885943872,0.015416279426632479,0.010257400655846073,0.008744369080765242,0.07651223862666365,0.0011185854057074037,0.009624090157918465,0.03314285278366397,0.031284072573392725,0.008770425643050236,0.0029101736490438333,0.00674457640056624,0.04401140631889394,0.03553212871101173,0.04228327782321173,0.016603258271966723,0.0464179420870401,0.05634224693729206,0.006566244171371179,0.016958249851090408,0.06724163993797448,0.013424832035076235,0.0038363655676355427,0.017149964924584555,0.0018991572930494628,0.006343570702187654,0.012198244531446533,0.1474459587022255,0.012349316446243753,0.0029634836300541914,0.001334390217120447,0.009286353261505318,0.006397613727404176,0.013597161898529695,0.016888888298442213,0.00786459714489431,0.004695246160912045,0.010261306522960824,0.012769695276784185,0.038571908369736924,0.012238061405843303,0.005392114493229073,0.02276690716558282,0.01639152448041085,0.00576273948285542,0.011785577024828195,0.0410685073722888,0.0062529140324294515,0.045673427255081486,0.003049373358768436,0.013515545318798535,0.015905734172795692,0.03256191358486219,0.005287424213766957,0.007604985806207028,0.009567413671683211,0.058124065543464706,0.003999989681094517,0.026312639787695852,0.03613884989332054,0.03567333095305793,0.0227865798759281,0.11976059409400878,0.008289345045945945,0.0075006283860245175,0.008007683707613573,0.24769150111759228,0.008102689800719367,0.022771858749318002,0.00399236864276307,0.015427837332452732,0.0013719243401845028,0.03966669820989849,0.28652646405614746,0.02942530978719437,0.0037488494546098535,0.024613394535304933,0.016786435649286162,0.0608940762778437,0.024313107479899957,0.052223822462354755,0.0059308115063031255,0.00545032774511372,0.028641966919244553,0.004206559405621732,0.007841945881615702,0.005978702891110303,0.06239124730991386,0.00591271475586994,0.058601293855036075,0.008601518749396147,0.0659186389546779,0.012375999195439646,0.026519233650052126,0.01194802121284312,0.013740617063713254,0.005255526969418728,0.1368185868398854,0.01539962970549655,0.011877786759498816,0.06321947767459377,0.005509732126741696,0.012276115362351007,0.009589896136088853,0.01930127571564882,0.011830714084059838,0.08892872624619809,0.009651285484128379,0.005085585954048413,0.02992680567776111,0.2133954684221988,0.014378096586829914,0.012725404792172748,0.013227425308211357,0.034842035544386515,0.008725462513384064,0.007386426755558634,0.005231763662224637,0.02202485081929288,0.004966269785610119,0.02168347904060939,0.0030832621820766084,0.021652938547200302,0.019228005016876434,0.10680675698880583,0.0009732452199890527,0.032789800389286194,0.008496970642770295,0.0206275633738961,0.031087635888428933,0.026545155678380845,0.0021763503840879447,0.013054876920408848,0.016933700376691074,0.0011144080787311075,0.017815196053462958,0.007917452940176432,0.0035800946616743184,0.029418134563118526,0.017861195753338697,0.10800863360081202,0.011278675370616926,0.027684547363823996,0.007705143954127896,0.008672916060606727,0.019610884673313265,0.05025882069920762,0.023139836765559307,0.009543253440653827,0.004304482070102748,0.004592856964236874,0.008682040631444525,0.003555899082660509,0.0021572853890671514,0.03175169261365313,0.006949933535155081,0.019218157137340236,0.0207389292380547,0.05075306123794369,0.01381139418038774,0.006582288120770792,0.0072549046757092025,0.04960458099069478,0.04423285762054359,0.017807865488659216,0.011741537939006704,0.024184954077510926,0.005700391306716261,0.012485277394957238,0.037549776162521774,0.01301492020187577,0.015005046764171496,0.002558197793370335,0.010787890358740053,0.009198721402939978,0.026405986925639606,0.016010903284082112,0.0019141136098880542,0.019059089180481773,0.00861243428626456,0.040571042402375496,0.02249418173715878,0.007349213334923755,0.005776931582368437,0.015468606984056376,0.01998581181117945,0.003381045848335014,0.015813507399953238,0.0016025963775030993,0.014984217528565796,0.05713722174569051,0.016818230572539915,0.016916659792797842,0.004003453686697599,0.009813728891399403,0.009616121127112402,0.010535608820543876,0.015466705374802873,0.02415330273748816,0.005045100780754711,0.033579542350952514,0.0014253890139018827,0.0039060480611836377,0.013523889645966056,0.009189878372097395,0.022468975785678483,0.03879852943117417,0.044193395596332015,0.03785976190194112,0.011800754573811481,0.04535578740667554,0.03232657380630752,0.015326139908683697,0.01872272790769869,0.05405923280659373,0.02447917687221093,0.03376279366266546,0.008615899706564085,0.04161649533432085,0.03804656065236517,0.005258937103156484,0.03940478581440586,0.0332077744021099,0.01626529190934017,0.016237286368692438,0.002818455385296079,0.027944541334256133,0.01953586431042715,0.004353934809143077,0.0021300924441273726,0.006048404188282731,0.020910870462197986,0.006031886021514678,0.0018055956678825007,0.01431068305861704,0.004704567436694676,0.025971410362435332,0.03641432218310902,0.009373939989315305,0.13502839741367942,0.011658319168668498,0.014893756589569816,0.031141176741931335,0.024692966807636454,0.08504018106212644,0.01367557044220549,0.036308378131576426,0.0071523596289333686,0.04758816512884813,0.03496655801204137,0.025597264069173425,0.07592455979861885,0.00103433941645565,0.005892385518636012,0.05816873114216041,0.012551575829439278,0.016320400271598666,0.015117640978146975,0.02989211536755646,0.04705738955204326,0.050284866614035244,0.008060594828560724,0.045449540319100416,0.027474913717764154,0.04129483367648156,0.014857064521405644,0.003842864525712095,0.008616546230131906,0.005687615319104335,0.007611309950407004,0.00649717724751459,0.013701408781191894,0.006205578125803104,0.009615226502564701,0.007380978135379262,0.005011553586225739,0.009705460802923739,0.013852220894603737,0.03836231394485416,0.01791672226017953,0.01579391765022559,0.007235012804618963,0.01069003681749238,0.04461073689933114,0.026472615714333538,0.011169554832119025,0.03753619396131404,0.0019096761545084045,0.0024655980164450353,0.00933105013354911,0.00499049145096984,0.009826737796337297,0.005999898255661482,0.012805641795894614,0.002536797200544642,0.0023903923939706793,0.010681656983764042,0.06190621075581112,0.09513257242747163,0.0037312209028485116,0.010585916672675309,0.008837328760304939,0.03695686643260926,0.04610709921439839,0.016428203044766446,0.029773809762328296,0.05198255609806353,0.02959831092715905,0.00928637457284191,0.018707173094558608,0.005968796270304364,0.006907734744364423,0.008925092960143516,0.023589929683209655,0.004840878248137681,0.0034334792719035584,0.034653387673134195,0.008403150166914338,0.010949242480181805,0.01405664237109196,0.06966881815585341,0.0424982714938576,0.0064996229062935125,0.03991129425661787,0.10327678829140037,0.012127407780668908,0.005491166971488976,0.01742674804077454,0.03104685584861843,0.08960082165614998,0.016103333614686233,0.11537495206058948,0.01754253924535099,0.06855235644508292,0.011232714493423406,0.027348441695923455,0.012436323504076504,0.08894626116934432,0.035653817359858266,0.026641528209414757,0.04237627986893969,0.010441064236708633,0.0120996384455884,0.0067943489125786025,0.015638270318242095,0.005399806250943272,0.015058304973591265,0.006442796420730065,0.0024527318723695088,0.030548381723254293,0.014268935560029096,0.01619482579599251,0.012438418170067024,0.024169395857239404,0.0138465436367007,0.020499022824948122,0.02971602637884621,0.00707997472025288,0.039011414609575454,0.01883297211089912,0.017002346660145475,0.02489234584419154,0.015105928695742588,0.005373091882202623,0.006770366643724111,0.011164265965093598,0.029884316998593917,0.0030817647323481065,0.022045871933804764,0.06610242696208332,0.023620437164189195,0.018449285871477136,0.15911472439959357,0.03587414313442582,0.012835713468017481,0.029419143128725688,0.015438554636474677,0.013861165230578221,0.037171710467046856,0.0028320071532440794,0.019408281067146697,0.003162008148578176,0.009154391348175684,0.014260181613402883,0.013008044623961957,0.03358460461247288,0.021882210738100694,0.00979610198027271,0.0033807461489660726,0.06575024005096608,0.08653391338782213,0.009423369561721804,0.0022420877107417153,0.008160017210246853,0.006984533348487126,0.012124845794132772,0.013357166989145545,0.041588005817035874,0.019399756667954505,0.07691743597533927,0.006413807599356141,0.008779325451950716,0.039839697797462915,0.016113303103610106,0.004871210457243727,0.02199256738629744,0.0026669026377488534,0.018704166037191158,0.04390553253127913,0.008477938896564693,0.06053271016169713,0.031540009349421166,0.004356003233329921,0.08876450563482768,0.018666497719809095,0.06556061850273542,0.003142469834060056,0.005150934548606565,0.1731944672647919,0.024055251460896456,0.0643840274510209,0.02425133284484593,0.015676714702766728,0.01734029175124205,0.008897680694795088,0.004777767012507841,0.03594614019586126,0.0543404902779317,0.039245186575901994,0.006782172680194456,0.009127000530284908,0.010737466806230207,0.007867371944015867,0.009833568368689904,0.04747969938256255,0.005340626640438773,0.0014039454154584903,0.031164650922848074,0.010317996687022947,0.019168300696924632,0.0025616525543497976,0.010352159859974515,0.07939115620377012,0.012343162685109151,0.07842966829264368,0.0051048172556265444,0.009770968109992385,0.010785337382689502,0.009979394766811813,0.0036733314129002988,0.01627891760740136,0.04606039059847809,0.031121125332570727,0.017645403998091648,0.0130292022010145,0.02581603568166459,0.009283928454118283,0.028114502703076593,0.006577665507385842,0.055937317366449184,0.014009046163560973,0.0015941528334801076,0.009817785154472566,0.023888985617232992,0.005126276484610884,0.01162871425526557,0.012504979305884522,0.0021742296980824818,0.01603994018728377,0.0022226399051562553,0.012473811480886781,0.004303978550039593,0.014932101624919581,0.005925143876469908,0.007251412281856331,0.009733245369346825,0.004694572359330217,0.01668831425128748,0.008151911156874954,0.0069238856906184585,0.02619099209480094,0.08778963438893239,0.04939291385587149,0.007741558162458639,0.01156770124878205,0.02521625622514381,0.03152176018995128,0.018924495629749308,0.003012233789963799,0.00583943920804168,0.06636810990997925,0.056491193129280345,0.017226938889506126,0.019291417507446142,0.02660108536604406,0.013447694490625786,0.04612119308679361,0.010289449690142142,0.18073241276809832,0.01383674170142316,0.025852105954809045,0.007771326652637058,0.01350570270075205,0.005241011298135964,0.01922815153617888,0.021084060166773243,0.020294280550572676,0.021997690341726526,0.06756500223560429,0.05911844873638411,0.010659117650955684,0.018462705029786572,0.027459797980776246,0.012991573884314598,0.012345579992396365,0.0037567745367632246,0.08984706602796262,0.008213768455729301,0.021465166950543273,0.10221668477543477,0.0023856268302582004,0.003834593417691151,0.018868742237830093,0.014321684976260334,0.025837956113612715,0.03122469420564282,0.0019212597946937583,0.0038608413826179107,0.004553523359121139,0.00920983281938993,0.14936965130522356,0.0030661530263090264,0.00549711937645135,0.04181349681531095,0.02916819867271485,0.020238347879412748,0.013796250996361508,0.02449507825689711,0.02621858198852356,0.015431656812623857,0.006565387305060326,0.0018055354122162744,0.018182319923620998,0.11422481364200826,0.057971791205401677,0.009505333178404563,0.04842670707291437,0.014534652705938877,0.07375477800614667,0.015819749706392182,0.02275919750515418,0.04152506912303284,0.006670813893463491,0.012429557185278429,0.011080624814519224,0.013192517599929166,0.009627823005626058,0.004192824602614203,0.05496054970783714,0.011234219706502416,0.0038492376850596116,0.03630534907815176,0.008230323598026378,0.007078378226356993,0.021762838458263156,0.04821932919041841,0.026503906894561224,0.01271441359042139,0.004955215542607194,0.019670080409809197,0.006969162203276442,0.020685671869603607,0.014686055838731905,0.019583049132563382,0.02174961734508216,0.007019485461619848,0.012786598070385664,0.0013185257849329902,0.12514440030992063,0.03222450858043795,0.019457085731076382,0.018095484845781912,0.017895051324518456,0.007856454253316375,0.01789346152108089,0.03508168091256627,0.009913369302801876,0.006941107364200254,0.055330647120714234,0.0007722766787539189,0.005214726441570131,0.03175744830118999,0.040282972996815034,0.02191325909386199,0.0066036307796421825,0.022032460379175375,0.0032170004824381166,0.15667063562865888,0.026727094630364052,0.0020440987923559064,0.03668435134865559,0.01361400644318874,0.03377137374317308,0.06137999959551073,0.0444515283618329,0.025076151934410117,0.020677924435030564,0.04284966966675409,0.005043347898807459,0.013660176365045894,0.0033109713045692407,0.016804172857905586,0.019017504546297068,0.014206188812877269,0.023822628239799352,0.0180101562179711,0.013539458390294063,0.03308022995318097,0.04355463314814626,0.012071193962224405,0.013178364814982867,0.029063824432973166,0.028075414321476432,0.09670811948857375,0.00440601757677295,0.003617384359645448,0.022797260339163673,0.04728419154177557,0.0385939342375713,0.004081066557631569,0.024592046944295835,0.0094746277426346,0.005111523971488702,0.0016373132524051589,0.012379833339227276,0.02003221195808555,0.005051214138961967,0.024068510787311606,0.014261794030894514,0.087135302771634,0.004449794808843891,0.016540320019425132,0.007390846249822776,0.025192537744876283,0.020981932897198595,0.011464965866186047,0.03597227306084951,0.12133948992235061,0.0029443604320898657,0.006817323688566512,0.0122381246042498,0.0035895327041295575,0.015987017543443168,0.020765901423178596,0.02763902190280721,0.012802130703306309,0.007382960067786679,0.007813699051849829,0.003008578354125776,0.019964467346354195,0.0021898517925703865,0.015057048889100207,0.0073895740177556775,0.017074348421808435,0.002115148408129779,0.033747307404338796,0.013782660057845602,0.030061196276179144,0.009575637502450923,0.03768257908424986,0.016443926580396322,0.04291518558012118,0.008390349102232755,0.06732815601994142,0.004345512983060155,0.02883098996410064,0.004164056805645097,0.005572517303598289,0.01685489868471674,0.010867430387383052,0.04206200091248671,0.0025345002531346815,0.041162634439496346,0.005626612165390372,0.07422858736643678,0.060758318202993225,0.008293412661306558,0.054697526072395086,0.02192107170393722,0.014816273633070741,0.026310522866236412,0.0036462654044400826,0.1134430545768834,0.02106805581642751,0.011328446649389451,0.017865481664433563,0.04989668839504844,0.002202276407864949,0.013179337331287094,0.004638116548196517,0.002545532925386654,0.004669015830990221,0.027048164606880774,0.040622448519901704,0.01095004658679563,0.02074378111417368,0.020834243904532437,0.023240668750408134,0.070695925913026,0.002888094957481101,0.0040967701889715255,0.0031009318534064296,0.01346031247218589,0.037581428078523174,0.006547650037341625,0.043376265451032764,0.03440799977204577,0.007438579599436069,0.020785231652167366,0.04362920774148155,0.06680123863490402,0.004581739018683075,0.007666795513360223,0.016279668437523168,0.032005515065208094,0.015455486243608655,0.010260236107176166,0.0036588167340716794,0.00717428941361051,0.006476309376304287,0.0068495156684073655,0.017811143782702866,0.057832530603673424,0.10420416669050588,0.10974942394730504,0.013658801821191568,0.008265699009848143,0.01677902864613673,0.008437634129455213,0.026486328291093167,0.01578467985425542,0.10247210792371894,0.0075535255665159775,0.006779181019518531,0.003217918625307502,0.010109483344564452,0.004285552461836182,0.046674083281073565,0.014125458994398836,0.0061456504087757545,0.04786038011466211,0.015394374426075465,0.023751606437812205,0.09959037483570989,0.023543047986046426,0.015912298641165144,0.2573701976679352,0.003990610828757634,0.028537117095194055,0.014144608585135615,0.06914379937680205,0.0023281576600432145,0.0089094460225395,0.030146370059686324,0.016860102136597832,0.06385284908585862,0.025391489369966155,0.01824000138342496]}], {\"showlegend\":true,\"xaxis\":{\"showticklabels\":true,\"gridwidth\":0.5,\"tickvals\":[0.0,0.05,0.1,0.15000000000000002,0.2,0.25],\"visible\":true,\"ticks\":\"inside\",\"range\":[-0.00811662848715673,0.2951083017030398],\"domain\":[0.07646908719743364,0.9934383202099737],\"tickmode\":\"array\",\"linecolor\":\"rgba(0, 0, 0, 1.000)\",\"showgrid\":true,\"title\":\"hour at home\",\"mirror\":false,\"tickangle\":0,\"showline\":true,\"gridcolor\":\"rgba(0, 0, 0, 0.100)\",\"titlefont\":{\"color\":\"rgba(0, 0, 0, 1.000)\",\"family\":\"sans-serif\",\"size\":15},\"tickcolor\":\"rgb(0, 0, 0)\",\"ticktext\":[\"0.00\",\"0.05\",\"0.10\",\"0.15\",\"0.20\",\"0.25\"],\"zeroline\":false,\"type\":\"-\",\"tickfont\":{\"color\":\"rgba(0, 0, 0, 1.000)\",\"family\":\"sans-serif\",\"size\":11},\"zerolinecolor\":\"rgba(0, 0, 0, 1.000)\",\"anchor\":\"y\"},\"paper_bgcolor\":\"rgba(255, 255, 255, 1.000)\",\"annotations\":[{\"yanchor\":\"top\",\"xanchor\":\"center\",\"rotation\":-0.0,\"y\":1.0,\"font\":{\"color\":\"rgba(0, 0, 0, 1.000)\",\"family\":\"sans-serif\",\"size\":20},\"yref\":\"paper\",\"showarrow\":false,\"text\":\"hour at home vs lifetime consumption\",\"xref\":\"paper\",\"x\":0.5349537037037038}],\"height\":400,\"margin\":{\"l\":0,\"b\":20,\"r\":0,\"t\":20},\"plot_bgcolor\":\"rgba(255, 255, 255, 1.000)\",\"yaxis\":{\"showticklabels\":true,\"gridwidth\":0.5,\"tickvals\":[1.0,1.5,2.0,2.5,3.0],\"visible\":true,\"ticks\":\"inside\",\"range\":[0.6871829279890936,3.475606179719374],\"domain\":[0.07581474190726165,0.9415463692038496],\"tickmode\":\"array\",\"linecolor\":\"rgba(0, 0, 0, 1.000)\",\"showgrid\":true,\"title\":\"lifetime consumption\",\"mirror\":false,\"tickangle\":0,\"showline\":true,\"gridcolor\":\"rgba(0, 0, 0, 0.100)\",\"titlefont\":{\"color\":\"rgba(0, 0, 0, 1.000)\",\"family\":\"sans-serif\",\"size\":15},\"tickcolor\":\"rgb(0, 0, 0)\",\"ticktext\":[\"1.0\",\"1.5\",\"2.0\",\"2.5\",\"3.0\"],\"zeroline\":false,\"type\":\"-\",\"tickfont\":{\"color\":\"rgba(0, 0, 0, 1.000)\",\"family\":\"sans-serif\",\"size\":11},\"zerolinecolor\":\"rgba(0, 0, 0, 1.000)\",\"anchor\":\"x\"},\"legend\":{\"bordercolor\":\"rgba(0, 0, 0, 1.000)\",\"bgcolor\":\"rgba(255, 255, 255, 1.000)\",\"font\":{\"color\":\"rgba(0, 0, 0, 1.000)\",\"family\":\"sans-serif\",\"size\":11},\"y\":1.0,\"x\":1.0},\"width\":600});\n",
       "    </script>\n"
      ]
     },
     "execution_count": 117,
     "metadata": {},
     "output_type": "execute_result"
    }
   ],
   "source": [
    "# hour at home vs coonsumption\n",
    "lifetime_cons = sum(consumption_record, 2);\n",
    "scatter(hour_home_record[1:1000,2], lifetime_cons[1:1000], title = \"hour at home vs lifetime consumption\", xlab = \"hour at home\", ylab = \"lifetime consumption\")"
   ]
  },
  {
   "cell_type": "code",
   "execution_count": 118,
   "metadata": {
    "slideshow": {
     "slide_type": "slide"
    }
   },
   "outputs": [
    {
     "data": {
      "text/html": [
       "<script src=\"file:///Users/a14880/.julia/v0.6/Plots/src/backends/../../deps/plotly-latest.min.js\"></script>    <div id=\"5e127429-0c0c-4fc8-be13-7628fc86825f\" style=\"width:600px;height:400px;\"></div>\n",
       "    <script>\n",
       "    PLOT = document.getElementById('5e127429-0c0c-4fc8-be13-7628fc86825f');\n",
       "    Plotly.plot(PLOT, [{\"showlegend\":true,\"mode\":\"markers\",\"xaxis\":\"x\",\"colorbar\":{\"title\":\"\"},\"marker\":{\"symbol\":\"circle\",\"color\":\"rgba(0, 154, 250, 1.000)\",\"line\":{\"color\":\"rgba(0, 0, 0, 1.000)\",\"width\":1},\"size\":8},\"y\":[1.1306725957455204,1.8117388566870514,1.8787397806002346,1.4678918570521609,1.66167723190314,2.0692041830275714,1.111835462578604,2.212094721953906,1.5913284806447812,2.3068481431340437,1.9644314707905626,1.960692769860482,1.9479444006132374,2.125517391062972,1.2454171696080838,1.6432531011552471,1.8570922115579354,1.6113356164436108,2.107227033237338,0.8194070881546665,1.0016997005526487,1.9830287427036453,1.9915171039132287,1.6308110844952295,1.1686036391900831,2.17561897049702,1.7720882378071026,1.2598069646216796,1.4844944500857902,2.4168371347227517,1.7921985915908758,1.3967968707686924,1.7017211723821712,1.1486367600585998,2.1983613179830357,1.105047396452488,2.2599448725661535,1.3160805374217308,2.0969707716114603,1.6753670684145212,1.6022628927953526,2.02763629100425,2.496133742407711,1.3414085387473138,1.5763150099581607,2.829889899387684,2.2012124981585335,2.036402537719012,1.813065081471425,1.8982369586122823,1.5894520119843296,1.328816834445765,1.759671193696525,2.2400456803646343,1.5509045837567554,1.6924242365507491,1.22065096328631,1.5807070910125047,1.4403903727755403,1.7805544123767905,1.6039253144566306,1.7321640666060223,1.682272127517352,2.2740279597857285,1.80856626943054,2.2664229844999983,2.1870787605403947,1.3091099221763447,1.198255708271875,2.0383017508629298,1.4687075629117219,1.4688497775321179,2.583452993926575,1.5426024457716159,1.2489649793036062,1.7680369806329863,1.7506216524539795,2.35072460849872,2.205283705699744,2.2259450397241323,1.6067831839913955,2.778756274325314,1.8025019753320888,2.1724492829288065,1.9752095424658278,2.016520758584714,2.2574102691398354,1.869614201446564,3.234211533424809,1.7947186593020263,1.2673951545972237,2.3232992136797166,0.9299028444373398,1.369380364733308,1.8188982839251753,1.7764021935551362,2.2600193111943825,1.7152996656380628,1.540655320305997,1.8266906499124738,1.0308990288788036,1.3573072666933927,1.6310479366603814,2.881097322658698,1.3653507921152301,1.3534758984319009,1.807621319207161,1.3566989237737979,2.0376174816217025,2.3898885400852543,1.5173097603265893,2.1141233491248315,2.6774389406685817,2.1937821279023355,1.869188521795572,1.5233706291770033,1.3359022436174606,1.873324328665188,2.387893220372039,1.2725640669417868,1.8147145539264478,1.6094846880142193,1.347339835912161,2.061193397162808,0.9451923930941047,1.5613819824960349,1.9665489145604158,1.388546972027728,1.7942220326267158,1.6548928711143511,1.3152104915050424,1.842354861381693,1.9322120442346415,1.5870718410344886,2.2656024903090533,2.185399697612854,1.9026700420555855,2.272077919269323,1.6289803453913891,2.0452219396712343,1.7322207487793517,1.341021381890019,2.1414914409021506,2.4741898624209018,1.728415998029686,1.2778088260517375,1.496210994409351,1.21201762533552,1.5464038282038335,1.4719133252057182,1.4467714282335005,1.8545891499718117,1.08866327033117,1.4287237581975605,1.6465109025104558,0.9894397059999402,1.7001307293149934,1.9554504859445823,2.3218507457620317,1.859253978477972,1.6286235156199984,1.6443513874861497,1.3822162315543618,1.8698151199490103,1.4348469085327802,1.9641368264144954,1.8476613119572336,1.3693633457417824,1.4551583680208755,1.3102809274714544,1.0176001044123124,1.1183256857464277,2.0280391641216178,1.3679868272952609,1.7470921173565204,1.4204544344779424,1.0136437427363205,1.3896307202517113,1.7321785000503913,1.2027751299768688,2.023663261415916,1.4034716848120237,1.270450058233584,2.400904344552374,1.8691172571039711,1.4403483626837221,1.6909185326615974,2.695409973540314,2.3659918458971876,1.4524198505314785,1.335882851835688,1.4258975952302189,1.4521772596779372,1.8803548052712236,1.1145882467778911,1.93225019033705,1.7262118391515167,1.3417430726086141,2.0384159868495346,1.7462517903741759,1.582067691240904,1.0263094053877109,1.5898474079614595,1.7305683414295956,1.6349535324967641,1.7311111537333455,1.342472864410099,1.4993420343820951,1.0004189556541092,1.9535233302690789,1.3892615835780038,1.4054768663336943,1.8522716714978864,1.3194303395554132,1.4977223345051445,1.4636381604334903,1.536339243292304,1.516905768520797,1.6709827045415788,1.8821443989375641,1.9527746336501581,1.5162364650287714,2.0769451737329527,1.979375500042073,1.414277286688226,1.9503276416886262,2.528776262835968,1.3459707474537586,1.4325558548456452,1.4224361847689075,1.4779533649702286,1.745221908206089,1.4106399926824194,1.4573883824925171,1.795799532443536,1.8555807512663043,2.5861973383851993,1.7149182779394185,2.206823730784543,1.8149495175467445,1.3698941428238771,1.4025516462508312,1.4949379745820255,1.8822277918771073,2.0485183020512183,1.7018568918630332,2.036579814647147,1.8630170162700195,2.225140882627952,1.2417989125392803,1.7248199574830014,1.283732671642864,1.3142383040661418,1.7432001781779798,1.3544023874707474,1.6596223170945636,1.8036510889154185,1.3820928845300835,1.78956755711278,1.6257979936274998,1.7263580606822162,2.1721372096634566,1.3969337635270451,1.7364920462348916,1.3318133291022467,1.6252483332349272,1.7389476134682258,1.6559875385171186,1.0629262568996616,1.8347081994449748,1.8472099066298893,1.054195225547678,1.3114459388051936,1.6434520086088402,1.6306067090058927,2.1532805534243638,1.7043112351115217,1.4292743680276498,2.3282138604787663,1.3258603553112356,1.2389461014726928,1.9218798741934635,1.4288426110604744,1.4845805100975649,1.3481852200835265,1.1812639876015776,2.0732327909862454,1.5694693333788825,1.647712123772914,1.0839899788647864,1.7565843241963777,1.4671321404309623,1.946365403207122,1.601658937951183,1.4646014733553205,2.677871206166234,1.7385632223272685,1.4642310093016315,1.2101732386985953,3.118381735305358,1.7249282142832425,2.332824270604969,1.5954151356504345,1.6860220581562833,1.6337859638282741,1.256377022438449,2.027303837271659,1.4949383476500944,1.4241226632029558,2.266995569796021,1.684752066057905,2.2752081182752573,1.3232096685504406,1.774142573614868,1.0146831869745505,1.0584611136981217,1.91215692625434,1.6353215739652054,1.5862777429596326,2.0015724062838802,1.1865313461111127,1.5426367757226855,2.1860054308614245,1.9631311232242692,2.2339947325963916,1.6732494873526518,1.7975400336872995,1.9855717228611471,2.2131986590795365,1.2300724890463022,2.0458840063319386,1.6465806337583326,1.2159912192411462,1.385515182362218,1.8599251685342972,1.9764907125524211,1.9371281386183754,1.7223169036037604,1.9019393104310187,1.5442931886439433,1.7061382951421091,1.7385288912323826,1.7501275995379764,1.9781690985813143,1.8209285180050185,2.170792776714796,1.4380375337588829,1.9825838367243214,2.049608514667748,1.3206318156630803,1.9168144434526768,1.9869302475239978,2.231676523085216,1.92615368923087,2.7836919592198255,1.303718379388937,1.7337166751486794,1.4581893449766736,1.5196496162518471,1.4796798570701357,2.468675131108901,1.5765171754454619,1.63531252909128,2.4946901925453924,1.7413579238824783,1.319045106243454,1.5031837653630016,2.6352856695609157,1.8654610397188969,1.8963433379944437,1.122607760508446,2.4632856288603606,1.9586092436717655,1.8080121597060421,2.11339634946323,1.413005252839267,2.1652151100714385,1.323473474806847,2.0431168848452534,1.2477934627206828,2.1245162743923784,1.3166646885465263,1.35143642407687,2.8210064988844863,1.6122053425367158,1.9522189676631878,1.8661077940689135,1.8780307239399328,2.156580739136826,1.52465203616311,1.6992236769919937,2.4838395642789006,1.8955143420980154,2.0452211377203953,1.0935492473569481,1.4024785373361477,1.6805753739913962,2.8442917373660794,2.050024167061244,1.6741056436515442,1.3149633031925387,1.4225936902089034,1.046946843570327,1.9004336710546759,1.5937334491760144,1.4485260000985627,2.643110464556406,1.689587999651879,1.6873381409956683,1.7911755441732955,1.655934619821227,1.0730157340796493,1.0847787476861157,1.586094614303923,2.2991906739075754,1.8372627594278292,2.1540833230496035,1.9320616411401006,1.8587599582676375,1.6572877770600016,2.2273410311636046,1.775964739065765,1.7111876160509853,2.282629467450412,1.6230743484260892,1.4882265147129192,2.2410014130557565,1.7010258124114948,1.4539204727064345,2.7263766896411155,1.7739976781264537,2.3150277738934464,1.6267667938439383,1.2619034897961428,1.586029697474155,1.7608108518059948,1.6264391785016086,1.7683151751734956,1.6202694392468155,1.1635598806107559,1.426155646208819,2.398719820684506,1.2289080119521638,1.507911817955804,1.1897282442646637,1.394502936838096,2.3158782365022845,1.3494741405372412,1.2969674261942883,1.62199530822018,1.5937145640256154,1.6547653970688616,1.5278306543604567,1.1640812841020212,1.8579401046804167,1.8350167313630883,1.2320980938246877,1.8899194661258865,2.2351916509285905,2.332390916755028,2.3437203445581556,2.018632039637859,1.5621384819565762,1.9351951050437117,1.3958958201550429,2.1003116363576693,1.7987814754251303,1.289419337498881,0.9504366256079004,1.6983522975517613,3.3966885405194605,1.9675354447715478,1.3924481525264996,2.1416864364594272,1.80193823149236,1.8290862483107961,1.4056525639176223,1.4523031282444823,1.0447258450510888,1.3090258929154355,1.37806276682473,2.5666648353586736,1.364756165800357,2.070057423194812,1.9066310348498832,1.5668232469898813,1.309068653518497,1.9442513007519076,2.0320744721782136,1.9196462640260414,1.6279449798289993,2.205903868060296,1.0380641660303047,1.8762949473313513,2.185367924513553,1.6787465226942808,2.0636651902127743,1.6743692215122556,2.2673298700505233,1.5842215017361223,2.1481331253718503,1.705013750326853,2.246208878757166,0.7704577314291479,1.2464103955624144,1.2278566312878598,1.1330721359693972,1.602461142195044,1.970191082193926,1.706231073643016,1.6942297248538378,2.038379146173262,1.6918315396180077,1.4708491752400943,1.5667200219023205,2.5708624406379608,1.654970754618933,1.7010545900739484,1.2942232312199988,1.6871870625112038,2.7023788069590435,1.500112506305314,1.6767766602458298,2.0767519607099816,1.5719747516282212,1.6801763862387715,1.13181080663547,1.037441466880477,2.6993709968225863,1.8017233953577776,1.6849768677915091,1.7866039296040586,1.3881586408232975,1.5589158175175586,2.1840800313156694,1.730329152587891,2.162495193361586,1.052395846399979,1.628816552662979,1.855280563321398,1.90452564627756,1.9203528941271828,1.6594610109546677,1.3062373865969543,1.426299290491546,1.970137909883829,2.3455153998837215,1.8111983245457728,2.22687590591199,1.886103069402027,1.8620684165579302,1.7295387415970351,1.4525844683537008,1.765816704617258,1.5827279194191883,1.8387752865365823,1.9013587315951677,1.4415127604059577,2.1509978148373343,1.4030580049394772,1.421579555140717,1.5069691353887325,2.223765909637638,1.4999677163962617,1.9643199711424841,1.2795912314187843,1.248802902291901,1.0728962095197934,1.4516205787624425,1.9012799946639187,2.03549530601635,0.8088733139227329,1.1078668265866136,1.7897523329035305,2.1215828656530737,1.276402404763876,1.5920221579195124,2.3350511766091153,1.2730355329726513,1.7090782285779018,1.511092517328229,1.7905900642382586,1.9117844962010404,2.0161270957991717,2.315719047277111,2.9639379991471717,2.1546405959599664,1.3849980920985443,1.065253530814742,1.5679040340845343,1.3931310524856046,1.3119467407356922,2.18870652753945,2.0068770621687855,1.8299440050152957,1.7276896644815514,1.5679862919605196,2.659680544058209,1.5975361950684928,1.9642644503989237,1.2586944306649563,2.085737471544284,1.8514055404390894,1.5299460624952466,1.1511809591020188,2.400793780006534,1.342105568606167,1.5996183000193858,2.7565941370366067,1.1862047578959756,1.439812248342937,2.1366685084909647,1.793810503882256,1.8927267431406984,1.9288868566326087,1.5858143611111826,1.361966767130667,1.8283163650386336,2.239759441510967,1.3479712677112796,1.4233844831106,1.84887336326305,2.3235174294676466,1.6558008172886811,2.1216130307015764,1.24732638776004,1.670226847316009,1.5801753630537059,1.4533965309459749,1.4396488726157233,1.778570361860845,1.8955989579549832,1.7566600248806394,1.7175582350974388,2.272849169036302,1.74500340556924,1.733664832042399,1.8609269977930767,1.719873117490063,1.778065239006455,1.3051460818009335,1.2823855257409074,2.5397325561352386,1.512335060691394,2.3321442467690825,1.7368801653631047,1.3465882584362228,1.4096849876560027,1.536803853928345,1.8917749863334035,1.315859398278343,1.6982037759455337,1.561997568237329,1.3910141263557199,1.6413260038067512,1.8873722600417473,1.3906842070446583,1.5600778500066368,1.8530220102561066,1.348937675030532,1.4650069615902521,1.6122935068041093,1.8480899470200307,2.417728030715534,2.74358972111124,1.8895849822559752,1.2404965183425605,2.303615218038517,2.3931636096426687,2.322234686065225,1.5373224239189391,1.0625653346503527,0.830586731258452,1.6624384265002692,1.7898194929515459,2.4951296023630443,1.4460032400239946,1.1496151849105516,1.4387901113715726,1.1706068819436115,2.429369310721941,2.1351540033274814,1.9523370981948043,1.8539863290463747,2.268405694908283,1.743527664159504,2.1790380360251893,1.2258385529629943,1.5935998362888062,1.9220596646085886,2.252634270156544,1.6869927798519977,1.5161904291647994,1.4272321834701627,2.3120962734029957,1.5517219620688267,2.2403533322311073,1.8494750150850459,1.7275259184772125,2.77828644942159,1.4863833259427364,1.4467754054964128,1.6163381859959274,2.505575166466567,1.7979700427768348,0.9157448286875244,1.5804100620379802,1.251568779939409,2.164039890101229,1.8332529782428106,1.499204058503319,2.001167603073124,1.9764912299341932,1.8216973947048998,1.4319666954660282,1.745255024150815,1.4950253966317875,2.2478082036070153,2.064550772153393,1.114766141011287,1.7903772194455652,1.766545962493513,1.732918399620454,1.2380173648656116,1.7606678618724891,1.512092264184584,1.0810370910149794,2.223272624992855,1.3062806686133903,1.034188639523421,1.875310591213832,1.8139376197542545,1.593087800006234,2.1195251267060486,2.080164006665623,2.291196010129483,1.767113324794232,2.2126720058104867,1.7219404508627942,1.8469724665672438,1.2615956826428478,1.3366944685974353,1.6079415489219853,2.2725910325843226,2.1093855916017636,1.9094523139289314,1.7534981295892094,1.9028439264339787,1.5086189393521898,1.8453114178255117,1.0904331435598562,1.4214949403944768,1.9655238746917303,1.0854133755277413,1.379765275738947,2.690734803827068,1.155389091247567,1.3923637590357396,2.1845162484402145,2.0237038867017225,1.9604548213865656,2.0162838636857465,2.142044171529524,1.93567324246873,1.3046501951783895,1.485656851493961,1.0801352603404757,1.4617088986174123,2.189625390662613,1.7307100944843483,2.049018581941416,1.7085117107776657,1.7727807078625668,1.7435845644557846,2.3063564792697426,1.5198131980125817,1.6365585455429223,0.9759017473134419,1.7649685913087427,1.5327989903130215,1.1480092573065726,2.4110719833581244,2.1546978305330295,0.8814282801717708,2.42977417267344,2.222848065427314,1.6855011611290571,1.3082798660772386,1.609985367515293,1.810712357276444,1.7745286837584635,1.3855118424806965,1.5490010734099517,1.5197622814411627,1.5182267956105404,1.2945207370851577,1.3178592039157389,2.001267224096913,1.6967662842334625,1.6700876017970163,2.314513061307507,1.4044092520085483,1.1177880266600555,1.867672889629179,1.7462667820986792,1.9636079951421772,1.427019047988337,2.1449948052804153,1.3436366801422683,2.348329054056207,1.2169518677048097,1.1590627843841022,1.7584459459308406,2.2996693643337975,1.7035053138487322,1.8516514714506385,1.1936793330087605,1.7922805985546426,1.6111461613492881,2.114840199664676,1.9174888730360984,1.2430210700614888,1.6166549057930364,1.4239467687695804,1.8681303515859353,2.049843343502496,1.9079088462653442,2.0954230977171777,2.359658941706531,1.566523983284254,1.4829404240668467,2.4925255498520977,2.0117042342053812,1.4561070984873572,1.8955459293519685,2.1158905458885107,1.921473763477497,1.4280585883615653,2.4562493937866527,1.4680036676720851,2.0855962218755364,1.3448594811825956,1.9662422515727367,1.6543883517115399,1.7504622691647687,1.6040179151299045,1.3716309364417834,1.6830980159623654,1.1819906122841726,1.4722111779939229,1.8799941727947402,1.8914897941711253,0.8085292664690614,1.6561418010171343,2.0395457293651447,1.4372069811238122,2.139926836228236,2.4023215990526117,0.7661005671890072,1.7138486490308866,1.9515391865210794,2.970788599845289,1.6606827698738906,1.3296451104832436,1.4849231949529933,1.5585431981904714,1.723760793578861,1.2349782578524027,1.833578695883285,1.1564971073151504,1.2559950142132061,1.3882378059445701,1.4190799851514595,2.40670233186334,1.5843667724669026,1.35457320980347,1.3811416559806613,1.0348539156009358,0.9314035293694228,2.0723333613376065,1.607114206436306,1.593757738582079,1.9687583812185268,2.067772637498193,1.9432442789172955,1.6863555121567315,2.17909845122317,1.59241008407405,1.2981487067019486,0.8501026722562106,1.377379639120641,2.115131198880985,2.121062209609329,3.1569667231923977,1.7571616041391833,1.472669336331696,1.7265867400955952,1.580731041040618,1.7205631623932125,1.581119112267414,1.1755199636455782,1.3635425129404446,1.5051800080775506,1.6677171685146424,1.8953354933181468,2.345001260118366,1.7735147189038905,1.911490964006875,2.32670173590781,1.7499164936974265,1.6031422655031222,2.398886926529947,1.2552357084148147,1.4714983221076081,1.7012877816753074,1.6028167506704154,1.69987128906604,2.501849074440029,1.870257451590796,1.9619782467578966,1.2432595251855802,1.4267625435561326,2.4764256038232655,1.589909575891667,1.2802677377227059,1.1972897796718236,1.8023434896034896,0.9697779616201475,1.4880224785136313,1.523261182983599,1.3579431660261878,1.556722962214314,1.6088152512670355,1.0388215579000755,1.0552174243591086,1.8107604689524677,1.7423080067102625,1.541289864509958,1.4638495542315413,1.4806219026065783,1.645418179497167,1.6330116594350987,1.5362455850930001,1.6566405005421159,1.9282857640736717,2.215119910574572,1.9892104427490125,1.6337472451920465,1.1495371368300855,1.2579773936833214,1.730035521854659,1.4679095155602715,1.8817760257014433,2.6347983693205568,2.1181620644783536,2.0128553032359635,2.6534305682164314,1.3534233105853875,0.9338180815064065,0.9754765084080431,2.2224272326132763,1.929206358034878,1.9422839546873347,1.859492358362576,2.498941059151871,1.7329819195164375,1.2711089968305431,1.479752636593169,1.5928183848755568,2.0960559668591037,1.3395153770456647,2.0428542377358796,1.4687190016541531,2.19789240131584,1.9184761256088634,1.3087678516332077,1.834610755957859,2.321737122484876,1.1536517406303335,1.5595038180730354,1.7259256940220853,1.7129663306226042,1.2275031826587388,2.404847892785685,1.4906706214968026,1.7348810464680384,1.594225813293186,1.5393068337371947,0.9023409945731362,1.44493250878698,1.5915426138092297,1.8389116001975256,1.6621611349490666,1.9338075753678279,1.716140662988648,1.7257253942351412,2.916616313643878,1.1355573537960577,1.6033633058521832,2.207948980464172],\"type\":\"scatter\",\"name\":\"y1\",\"yaxis\":\"y\",\"x\":[0.716709025760072,1.0676740226304553,1.1280061732383646,0.9001200152536554,1.0165356378051702,1.2480240534896416,0.6991319620134868,1.3021030123235424,0.9638764235497981,1.3594429988549765,1.1714570830881688,1.1619156876513106,1.1486278347321843,1.307351049940734,0.7623134120760104,0.9813948678867007,1.1312574050834696,0.9835634085285325,1.2667044379205108,0.5173737212487608,0.6591391854146904,1.194804671552278,1.190524990433518,0.9622093617109042,0.7569033369368562,1.2948746120271601,1.0534592540730388,0.7997878478380711,0.9018292429046433,1.4227029150587005,1.094472674718763,0.8479579189757198,1.0049361577112468,0.7164400619438892,1.3791716077558283,0.694521948808535,1.3306119232132505,0.8046392785509789,1.25242129873687,0.9949752376811067,0.9576339187273651,1.1870962164873888,1.461255637164699,0.8241248938602068,0.9433902839292578,1.7172549739472476,1.2891146226887635,1.216832409153676,1.0609441569306912,1.1109288030946498,0.9863143829424886,0.8112189040730737,1.0341810249422827,1.333117202378002,0.9248553037401203,1.0102084817285726,0.7542181848111926,0.9680796627860877,0.8713313942493881,1.0971350378398919,0.973194989050113,1.0853851038127285,1.0085306738476998,1.3504675710003897,1.0560363665909256,1.326325678873356,1.2900594245833104,0.8621987588961839,0.7481497012241688,1.2074679260551093,0.9039718721091382,0.8892293979530863,1.5071604527636229,0.9186178141837587,0.7626191356661289,1.0671942494015956,1.0257577842269197,1.3949267752762657,1.3532894320834423,1.3180916507413214,0.9679026811168061,1.6385815169677318,1.0560104077353158,1.2908346826333204,1.1606378658424292,1.2355595440011278,1.3325306397371204,1.0967734223636965,1.8923947138066999,1.0887348428687595,0.7774733134558292,1.3637456175536338,0.5921358088941149,0.8262266746547761,1.0809229129584756,1.0533613776964714,1.3653189387262912,1.0102723090329153,0.9452518111713646,1.1018883149757193,0.6575157868192757,0.8310044957661986,0.9629728875209512,1.689803134592215,0.8467742901574162,0.8373999897548221,1.0718891399273136,0.8214383137463883,1.1959155045752934,1.4501568274918517,0.9115546172645608,1.2405012760335907,1.5787228856231876,1.305097448046344,1.1324684239755087,0.9234954001650576,0.8159944330400692,1.097738565537148,1.413499903855332,0.7819944345975134,1.064778086322801,0.9493627905729767,0.8194725302974746,1.223958834512235,0.6033904161848931,0.956607495644128,1.164479751904024,0.8523558164416339,1.0509021002442382,1.015699783715928,0.7983900612549956,1.0836548868884903,1.1592889620703617,0.9405543075754956,1.3268544313581847,1.2807462813063877,1.1209047139771346,1.3294721450706448,0.977579056529434,1.1989831900351335,1.0271338671865944,0.827232312017911,1.2596037840867118,1.4560377494211152,1.0275965620850935,0.7804517286952444,0.91520937300294,0.7482505207091118,0.9282274820209979,0.8890642070637762,0.871715273503334,1.0841823616897894,0.6832609691303135,0.8569171203509998,1.042743633260947,0.6325526021842612,1.0022935781066598,1.1410157965461103,1.357303686236846,1.0961648490784066,0.9677792586991478,0.9917960423072187,0.8539733689661708,1.1032806233876513,0.8636986733729792,1.1553119455839362,1.0805954054356306,0.8364491626386346,0.8721563000834066,0.7971446649744431,0.6477505714595091,0.7020312893482161,1.196285655448568,0.832144935593905,1.039730578160673,0.9138631868881626,0.645306513729828,0.8384395682319861,1.0171170410979937,0.7544924879939294,1.2201130271202745,0.8539290430480682,0.7773270438992252,1.415609201723251,1.0989167463915939,0.8662584112428023,1.010389625060279,1.5783342103097455,1.41316160760066,0.8754042957832183,0.8058205174021869,0.927781390887086,0.8774970715721935,1.133474167617564,0.702386952826588,1.1294771149277358,1.0068467432084525,0.8129169535829031,1.2102416906812716,1.0633339814148333,0.9629617485722282,0.6529859049384521,0.9614803496826052,1.0262821725277227,0.9822416971995556,1.024251664831957,0.8419255483305328,0.8973785487711903,0.6392262690848304,1.1664394070014863,0.8383116549837131,0.8558215625569872,1.118551748058001,0.7980600091581531,0.9014945348842295,0.9100642206051366,0.9340885560413519,0.913829285589193,0.9865429269763573,1.100542850993414,1.1669182419494804,0.9305821002058093,1.2175105842750673,1.1570448631807482,0.8539378030073587,1.1448698657408563,1.4879474155529042,0.8207664404857431,0.8672653164335762,0.8581629874762708,0.9089546026530679,1.0346306582272535,0.8565843646916886,0.880131139741589,1.0921157747053858,1.0869065626309609,1.5862686542953295,1.0214785936935729,1.2947872905691393,1.0778867315017333,0.8415231091026193,0.8511281271217801,0.8974050122804986,1.1013377625200698,1.2291597512991292,1.0217987389254057,1.2344345241079298,1.1295989732242893,1.3667003415479422,0.792361561660442,1.0138970852418074,0.8012429106323871,0.8212004219800324,1.0251118695596233,0.8313569576752177,0.9826833257979426,1.0532875982941095,0.8430874745278106,1.0512280399930234,1.0352332908268593,1.0200243251495946,1.275567569922647,0.8419232600808442,1.0216344141579983,0.8137202483138131,0.9622153873254276,1.031919240067076,0.97861880646906,0.6721485693951896,1.075502375198207,1.0920208674951282,0.6797018885323816,0.8209201066850869,0.9677036026286046,0.9906891000230387,1.268368621814341,0.9974748199834662,0.868052659416936,1.3946076132024317,0.8157538399017091,0.7793336911332944,1.1368011017249573,0.8689044186488137,0.9004208885955992,0.8245621057324175,0.7363174506465718,1.2263833878211265,0.9334378439251501,1.0070127004189457,0.684931118073518,1.0394411419531329,0.9232830579562781,1.1727291959974848,0.9795964952175709,0.9384625723528726,1.5683092655849253,1.0199678817079068,0.8791379594671358,0.8514062513024654,1.8287518553406237,1.0377445346498224,1.3701337543029704,0.9517637243449351,0.9864546302543133,0.984712953581907,0.9216253229058033,1.2239254490735596,0.8942854341429025,0.8808073937364249,1.335406759738269,1.029121053294324,1.3471301804321887,0.8188350582834392,1.0414155761330441,0.641042871328251,0.6770658083949155,1.117475774359077,0.9734677645383241,0.9448676176067065,1.217159541131411,0.7368887911076243,0.9406927695276128,1.2826075325559676,1.196014142816472,1.3128023563096376,0.9978690744947016,1.0553996701500552,1.1904847873175886,1.2944970868541519,0.7951812848720766,1.237105378560746,0.973362172470195,0.7666369671191104,0.8393567340908641,1.0916756020203169,1.1816683253354259,1.1513695629978624,1.0265447848354339,1.184868631077995,0.9217100239708322,0.9987219054821865,1.03088849064597,1.1959925812940864,1.1631345478071753,1.0859095844946018,1.279059822531107,0.8755573029273038,1.1622285815159548,1.2017627660092682,0.8065361346159388,1.1332314872898506,1.1634328110720542,1.3188362079113092,1.124900176231373,1.6436735597389638,0.8160965619036233,1.0770820056046613,0.8894304243616473,0.923888329585806,0.8888413435975157,1.460421716426382,0.9627145587858361,0.9863973832140597,1.456031034583913,1.0235122130295782,0.80354912600032,0.8958226554865864,1.5532332065919507,1.0925894946057717,1.1276623305249918,0.7144217368889558,1.4505737793771574,1.230618505556927,1.0729679369077125,1.2536936233862996,0.8503114089048311,1.2691553016340138,0.8167978013091914,1.231025045535219,0.7677040258178903,1.2588979162304368,0.804779161364465,0.822000010994879,1.653082249110862,0.9605361206047709,1.139520429298417,1.1095424938035516,1.099070462826184,1.2745764596867737,0.9175062923662393,1.0213248346117716,1.4625232074804109,1.1094204580862765,1.2063112971019443,0.7058393089213494,0.8601398342210553,0.9996630134640341,1.6707439007550773,1.228655057386408,0.9960931084947442,0.8130449813095104,0.8683128475079501,0.6667446382674651,1.1185034872132271,0.9430851714012447,0.8710548985713943,1.5584966033156287,1.0262897958517732,0.9943024382415822,1.0452797249291235,0.9919349606659347,0.6785322371634379,0.69859379348313,0.9473765659077875,1.346352534115168,1.0751360758593789,1.274079950665652,1.139604096908021,1.085695137312411,0.9844110573479075,1.3051822730014928,1.044159474005032,1.0315190634403386,1.3453576639427385,0.9809116251521925,0.8919190217599529,1.3146884885096517,1.0018242709638354,0.894455712160342,1.6053312151094006,1.0491964777663783,1.353619546722169,0.9893399533128129,0.7679661786720913,0.9446139830376784,1.0383958125815524,0.9624388849929868,1.05347560153499,0.9865618481392248,0.7402796275559483,0.8703778834101419,1.408442489801509,0.7710866317772851,0.9160400712649651,0.738630032679507,0.847037172150382,1.4004776357663622,0.8217076833428898,0.7974994535214015,0.9706297899385907,0.9687565051822056,1.0085178588001207,0.9252445579805257,0.742178499041025,1.1056824671987024,1.0796469125402817,0.7588291291566468,1.1036268740908324,1.3291197250601585,1.3756406667961811,1.3701727149205944,1.1782952850458344,0.9288915744397115,1.1425157334162144,0.8400234803569809,1.2257043552902551,1.0575544387868772,0.7815564269782472,0.6201430795507488,1.011182644917849,1.9927940826684116,1.2498520105605888,0.8465067664616044,1.2645873737493372,1.0695295212369764,1.0864993819415691,0.8929298466033471,0.8745671408835499,0.6692054951490338,0.7937466697945881,0.8478902289116566,1.5253396246922648,0.8338572280032919,1.2661728501410998,1.1121184256191083,0.9521031866598353,0.8445815512271405,1.1531400141680912,1.2067746022830848,1.1630197573607222,0.9739254720229881,1.3268390150620304,0.6723099820049059,1.0990522631428767,1.3125089821945397,0.9996238620498324,1.2500075508429336,0.9882937577658276,1.324853659945909,0.9407046654321007,1.2569712390693584,1.0033727943104624,1.3146875113581025,0.4860355867276861,0.7740616077777782,0.7663344247831317,0.7093220856652723,0.9490611660785815,1.1551056065114285,1.0281545755105146,1.0254229444798169,1.2591628803988708,1.0036198907714815,0.8824327650554017,0.9328674982876243,1.5418147728185359,1.004217488673437,1.0114085291139778,0.8250041265463557,1.0007443127660316,1.5777102162698684,0.9071277235549402,0.9841566538208866,1.2178997836287468,0.9419662706933296,1.0042495514276986,0.708331037027962,0.6510871833135519,1.5832432057984485,1.0965690735815867,1.0474132737341197,1.0542410074470618,0.8418751509080369,0.9315109869574539,1.3063764917052485,1.052699599838685,1.275215061515706,0.6745579232473337,1.0142307447104022,1.1059641438947252,1.1160516659969064,1.1328243347960019,1.0059049335140378,0.7959731347896211,0.8581325951463684,1.165157161846089,1.3715203530327917,1.0578636628017517,1.3445429094055064,1.1049993260299122,1.0922157515999402,1.0168268218343828,0.9011600354055327,1.0547995348905133,0.938520780127132,1.0973520522915363,1.1898323199355958,0.8678415957652106,1.2626960792982729,0.8490508029148267,0.8791967706247552,0.9640007003602591,1.309801079974334,0.9868458988731497,1.1737374023657607,0.8249954655959992,0.7836938547568185,0.6846149634913277,0.8732475895243867,1.1742656274461176,1.2138629690036775,0.5366719963747575,0.7070105936935898,1.0496500809252112,1.24812520932185,0.7971039005675711,0.9474352345179596,1.365686514267193,0.7915468130998122,1.005288296982202,0.9013358862081703,1.0692722138643882,1.1241458677626712,1.194850778879245,1.3600537285859846,1.7545596074919318,1.2670762284255535,0.840228987361684,0.6803177846875833,0.9359278167939964,0.8705145129814484,0.7979442135930475,1.2926771544442446,1.209527773370057,1.0907738674794474,1.0116786750851523,0.9310748320998257,1.5617989698110613,0.9809327065179096,1.1471494533741216,0.780072502660729,1.273604957561132,1.0950162061239699,0.9447715923576894,0.792406241532716,1.4323693191282687,0.8129274126314143,0.9574453479400815,1.6224920901527573,0.7444733009710929,0.8857525231544675,1.2516757782960635,1.0706508356730122,1.1052717289327587,1.1371120855421069,0.97606906940465,0.8518053277649906,1.0867464731004413,1.3247139156650025,0.8199353767918429,0.8577158479813443,1.121287926266514,1.4254146027855472,0.9771129638978377,1.2460699267661957,0.761945385236133,1.0109920090880777,0.9473868518723374,0.8746206294810521,0.8807979471359209,1.0481311992066005,1.1730588329325728,1.0557501044621964,1.0080142067877835,1.3575669686520433,1.026530261799395,1.0150423461167792,1.09974821223661,1.0102123782242367,1.0506209052630469,0.8066700619375344,0.7796848233538063,1.5328492163008254,0.9148064922655224,1.3634396322641358,1.0657990946575104,0.8212676492000972,0.8867745893077185,0.9138075446072543,1.1059459581089541,0.8652462739561123,1.0120041797105523,0.9550041778408285,0.8456670058927034,0.979841434021693,1.111213038509891,0.839786189183845,0.9262056450637052,1.1022223845464492,0.8544100993857537,0.898874355184809,0.9640520180551707,1.0914900718160938,1.4708471996260521,1.6075153423917659,1.1097856387451555,0.7707477352723515,1.365352786783921,1.396212938089103,1.3811773043663862,0.9291697942193635,0.6733858860774391,0.5221064979117935,0.9802135233531144,1.0944732858671506,1.465439449976488,0.9024913567278477,0.7217810594872545,0.8652405110861527,0.733172494396569,1.4243457834541504,1.249927500767,1.149311845931932,1.114578420975549,1.3532492629521091,1.0563510689418973,1.304403217994142,0.7687821377473588,0.9776635372149614,1.1396948740394732,1.3494363947429464,1.0432557919607337,0.9128988207573712,0.8703516170479046,1.356487450147343,0.9373795198217718,1.3104257815657991,1.0855701790278758,1.028133552069207,1.6221134982343528,0.9080634581913403,0.8672414142029758,0.9691674417824138,1.4644838152018074,1.0574352822714141,0.5861934096174528,0.9476138201956671,0.7752945367291438,1.3087496146596234,1.0789220659703906,0.8991830332084197,1.1771148094358361,1.1719260084122964,1.1259379504449543,0.885375837956101,1.0219822492949953,0.9056445260726989,1.333822563236576,1.2448358622310238,0.7046505395519898,1.045487420743501,1.0352560181738912,1.0715763774965685,0.776825343594638,1.0569743128413305,0.9289087835990898,0.689538496667143,1.30814876823247,0.8175434450956931,0.6553337818976626,1.2227369579645333,1.082236673053149,0.9711479997830871,1.242367648624499,1.2255259492713126,1.3399223253518264,1.0412568055357418,1.3076542922934054,1.0340432617573814,1.1219073297003919,0.7962736402992101,0.8303650879138249,0.9538038360723465,1.339866471093492,1.2666512588042114,1.1219830023925257,1.0322205470777357,1.111789551169466,0.9395134128974173,1.0810983513330186,0.6915134270802523,0.8971202483787675,1.1587015217992227,0.6803387384566686,0.839137466357645,1.5821962543477395,0.7320552650589011,0.8489202796605033,1.275050801845369,1.1897246564268351,1.1461792315298733,1.1819598098942434,1.3694526151079782,1.130361278633584,0.7899098368609186,0.9358859657882548,0.6884427740574182,0.8822252096905714,1.2877757232691107,1.026635345374181,1.2401549291809852,1.0187157326936416,1.0371923154160165,1.0251135695180615,1.3610747306411362,0.9583313385558524,1.000242772032791,0.6181611673124721,1.0572776060277005,0.9169186233481621,0.7520091146192095,1.4440399034403395,1.2747475381390372,0.5704374830536532,1.4346890854136827,1.3068873505666407,0.9984223800954899,0.7950813984464575,0.9599535129148123,1.0579542426463617,1.0696094972645054,0.8364462550059963,0.9249806855605955,0.9319182370071066,0.9166205203845208,0.7845172101061091,0.8286943960703788,1.2228436430993739,1.0087323929518819,1.0036566734390835,1.3553640297179415,0.8554502573627074,0.7009395800011128,1.102408756739182,1.029802755383609,1.1582686980479326,0.8694098086719126,1.2559304599469618,0.8213947153318982,1.3718728538494855,0.8264020096807876,0.7367311880664662,1.036898129271277,1.3565577584216224,1.0423084225434371,1.0925923695280555,0.740825550963317,1.065246805264838,0.9632286878046604,1.2384401673829828,1.1759543067028568,0.7581118452601692,0.956176668088218,0.8694486245734725,1.1437889806808461,1.2232399374854888,1.1164043637872325,1.2473327782974124,1.37855766928677,1.0100401969131976,0.8996222026069756,1.4547769741052152,1.222719585410597,0.8775070262465192,1.1270479891175955,1.286999129989899,1.1510541711781324,0.8659886908076628,1.459957788107045,0.899498700055344,1.2249256230248555,0.8340249883818316,1.1533991970044504,0.9807560061883431,1.0429488677108765,0.9564268865551322,0.8440698196763423,1.0050682816794279,0.7341780302531961,0.8938229894771911,1.1253258878881955,1.1375412305963628,0.5187935398273025,0.9980898794578921,1.2125619521275133,0.9039854582509195,1.2508975217954892,1.4039107484183067,0.509940013274794,1.0267736562615173,1.1709568312754715,1.7361481234290217,1.000015813032204,0.8059832544325025,0.8887890407985257,0.9450237393768144,1.0283721232026766,0.7634761604240552,1.0901920255837214,0.7250631690603797,0.7676989114784533,0.8789057285000833,0.8532692171335101,1.4172388981764366,0.9587057185681378,0.8400877011970254,0.8382116589366693,0.6551392769810425,0.6109014315642626,1.3064365879624251,0.9844074277082397,0.9439744987713663,1.1560843427306355,1.20816856058154,1.143902860565436,0.9957025461469614,1.2942583234173366,0.9477830730089369,0.7935035163994211,0.5371129184363553,0.8303305393688285,1.2545363762510606,1.2382905736987375,1.8605010553735994,1.0337400917035358,0.9049846071478058,1.0098958595703813,0.9530678222408453,1.0120106791916097,0.9493523932400076,0.7300901779521619,0.8353405522777634,0.9085411514426183,1.0156775146604384,1.1131861129233325,1.4475714800132313,1.036372946765081,1.1451232608770034,1.3597803075929278,1.0284029630275828,0.9527837137227737,1.4084420355032208,0.7762068210806963,0.8849852260646301,1.0162331815022325,0.9637676854848631,1.0338375268479076,1.5231543855601941,1.0956126952673202,1.1822991346128813,0.7857972460074705,0.8612598696148813,1.4680271368475546,0.95651713400902,0.8193634791675886,0.7553781502220962,1.061926513705075,0.6273397581413069,0.9087866976751244,0.9114071090276863,0.8243329039983547,0.9250623087446581,0.9495431650668882,0.6507082931893343,0.6712067777975992,1.0844348943547661,1.0234171004540862,0.9532446995745409,0.8955200506460879,0.9009732416126258,1.0078989663816196,0.961320589731285,0.929347033970255,0.9839667431897348,1.1331330065396066,1.3250330908998098,1.1822972999451977,0.9826394588005601,0.7260483880244498,0.7782093781652311,1.0456595387138865,0.9045266638204252,1.1447190976234283,1.540791813912099,1.2418895813369348,1.196483526753933,1.5844098416821155,0.8445596707078754,0.6069556308344212,0.6100704023848489,1.3016577171843133,1.1288941909547099,1.1414077124577624,1.1239657942659382,1.5060053857751634,1.106776169847656,0.825038500928063,0.8894946415387159,0.9440244248365077,1.2533063322956393,0.8097753056248682,1.2160284536768335,0.8901684133287451,1.3658742056387139,1.1233256837950942,0.7947809639481735,1.0910435828232479,1.3620831126322748,0.7200787863830421,0.962545175426706,1.0146740860675796,1.0021447528355263,0.7873986612839845,1.4154371829977004,0.899516501494807,1.0692016284211805,0.9534354530661432,0.9267654954565818,0.6735895629110251,0.8756725601355217,0.9606585269720405,1.0804190888163778,1.0088242306069493,1.1733324693224005,1.008926146189444,1.0232767552160276,1.719951691775204,0.7404171060278208,0.9782908076562279,1.3022521033437395]}], {\"showlegend\":true,\"xaxis\":{\"showticklabels\":true,\"gridwidth\":0.5,\"tickvals\":[0.6000000000000001,0.9000000000000001,1.2000000000000002,1.5000000000000002,1.8000000000000003],\"visible\":true,\"ticks\":\"inside\",\"range\":[0.4408328318494643,2.0379968375466335],\"domain\":[0.07646908719743364,0.9934383202099737],\"tickmode\":\"array\",\"linecolor\":\"rgba(0, 0, 0, 1.000)\",\"showgrid\":true,\"title\":\"wage rate\",\"mirror\":false,\"tickangle\":0,\"showline\":true,\"gridcolor\":\"rgba(0, 0, 0, 0.100)\",\"titlefont\":{\"color\":\"rgba(0, 0, 0, 1.000)\",\"family\":\"sans-serif\",\"size\":15},\"tickcolor\":\"rgb(0, 0, 0)\",\"ticktext\":[\"0.6\",\"0.9\",\"1.2\",\"1.5\",\"1.8\"],\"zeroline\":false,\"type\":\"-\",\"tickfont\":{\"color\":\"rgba(0, 0, 0, 1.000)\",\"family\":\"sans-serif\",\"size\":11},\"zerolinecolor\":\"rgba(0, 0, 0, 1.000)\",\"anchor\":\"y\"},\"paper_bgcolor\":\"rgba(255, 255, 255, 1.000)\",\"annotations\":[{\"yanchor\":\"top\",\"xanchor\":\"center\",\"rotation\":-0.0,\"y\":1.0,\"font\":{\"color\":\"rgba(0, 0, 0, 1.000)\",\"family\":\"sans-serif\",\"size\":20},\"yref\":\"paper\",\"showarrow\":false,\"text\":\"wage rate vs lifetime consumption\",\"xref\":\"paper\",\"x\":0.5349537037037038}],\"height\":400,\"margin\":{\"l\":0,\"b\":20,\"r\":0,\"t\":20},\"plot_bgcolor\":\"rgba(255, 255, 255, 1.000)\",\"yaxis\":{\"showticklabels\":true,\"gridwidth\":0.5,\"tickvals\":[1.0,1.5,2.0,2.5,3.0],\"visible\":true,\"ticks\":\"inside\",\"range\":[0.6871829279890936,3.475606179719374],\"domain\":[0.07581474190726165,0.9415463692038496],\"tickmode\":\"array\",\"linecolor\":\"rgba(0, 0, 0, 1.000)\",\"showgrid\":true,\"title\":\"lifetime consumption\",\"mirror\":false,\"tickangle\":0,\"showline\":true,\"gridcolor\":\"rgba(0, 0, 0, 0.100)\",\"titlefont\":{\"color\":\"rgba(0, 0, 0, 1.000)\",\"family\":\"sans-serif\",\"size\":15},\"tickcolor\":\"rgb(0, 0, 0)\",\"ticktext\":[\"1.0\",\"1.5\",\"2.0\",\"2.5\",\"3.0\"],\"zeroline\":false,\"type\":\"-\",\"tickfont\":{\"color\":\"rgba(0, 0, 0, 1.000)\",\"family\":\"sans-serif\",\"size\":11},\"zerolinecolor\":\"rgba(0, 0, 0, 1.000)\",\"anchor\":\"x\"},\"legend\":{\"bordercolor\":\"rgba(0, 0, 0, 1.000)\",\"bgcolor\":\"rgba(255, 255, 255, 1.000)\",\"font\":{\"color\":\"rgba(0, 0, 0, 1.000)\",\"family\":\"sans-serif\",\"size\":11},\"y\":1.0,\"x\":1.0},\"width\":600});\n",
       "    </script>\n"
      ]
     },
     "execution_count": 118,
     "metadata": {},
     "output_type": "execute_result"
    }
   ],
   "source": [
    "# wage vs coonsumption\n",
    "mean_wage = mean(wage_record[:,1:2], 2);\n",
    "scatter(mean_wage[1:1000], lifetime_cons[1:1000], title = \"wage rate vs lifetime consumption\", xlab = \"wage rate\", ylab = \"lifetime consumption\")"
   ]
  },
  {
   "cell_type": "markdown",
   "metadata": {
    "collapsed": true,
    "slideshow": {
     "slide_type": "slide"
    }
   },
   "source": [
    "# inequality"
   ]
  },
  {
   "cell_type": "code",
   "execution_count": 119,
   "metadata": {
    "collapsed": true,
    "slideshow": {
     "slide_type": "slide"
    }
   },
   "outputs": [],
   "source": [
    "# percentile by hour at home\n",
    "dat = hcat(hour_home_record[:,2], lifetime_cons);\n",
    "dat = sortrows(dat);\n",
    "ptiles = (.01, .25, .5, .75, .99);\n",
    "p_vec = zeros(Int, size(ptiles, 1));\n",
    "# find row index in the array for each percentilep_vec = zeros(Int, size(ptiles, 1)); \n",
    "for (ind, p) in enumerate(ptiles)\n",
    "    tmp = trunc(p*num_hh)\n",
    "    p_vec[ind] = Int.(tmp) # convert to Int\n",
    "end"
   ]
  },
  {
   "cell_type": "code",
   "execution_count": 120,
   "metadata": {
    "scrolled": true,
    "slideshow": {
     "slide_type": "slide"
    }
   },
   "outputs": [
    {
     "data": {
      "text/html": [
       "<script src=\"file:///Users/a14880/.julia/v0.6/Plots/src/backends/../../deps/plotly-latest.min.js\"></script>    <div id=\"03456428-a8b7-439a-816d-c94cfd833aaf\" style=\"width:600px;height:400px;\"></div>\n",
       "    <script>\n",
       "    PLOT = document.getElementById('03456428-a8b7-439a-816d-c94cfd833aaf');\n",
       "    Plotly.plot(PLOT, [{\"xaxis\":\"x\",\"colorbar\":{\"title\":\"\"},\"yaxis\":\"y\",\"orientation\":\"v\",\"x\":[1.0,25.0,50.0,75.0,99.0],\"showlegend\":true,\"name\":\"y1\",\"marker\":{\"color\":\"rgba(0, 154, 250, 1.000)\",\"line\":{\"width\":1}},\"y\":[1.8101108946192475,1.275658450483276,1.3473321165039573,1.997868482198227,1.8762585043491589],\"type\":\"bar\",\"width\":19.200000000000003}], {\"showlegend\":true,\"xaxis\":{\"showticklabels\":true,\"gridwidth\":0.5,\"tickvals\":[-20.0,0.0,20.0,40.0,60.0,80.0,100.0,120.0],\"visible\":true,\"ticks\":\"inside\",\"range\":[-30.0,130.0],\"domain\":[0.07646908719743364,0.9934383202099737],\"tickmode\":\"array\",\"linecolor\":\"rgba(0, 0, 0, 1.000)\",\"showgrid\":true,\"title\":\"percentile of hour at home\",\"mirror\":false,\"tickangle\":0,\"showline\":true,\"gridcolor\":\"rgba(0, 0, 0, 0.100)\",\"titlefont\":{\"color\":\"rgba(0, 0, 0, 1.000)\",\"family\":\"sans-serif\",\"size\":15},\"tickcolor\":\"rgb(0, 0, 0)\",\"ticktext\":[\"-20\",\"0\",\"20\",\"40\",\"60\",\"80\",\"100\",\"120\"],\"zeroline\":false,\"type\":\"-\",\"tickfont\":{\"color\":\"rgba(0, 0, 0, 1.000)\",\"family\":\"sans-serif\",\"size\":11},\"zerolinecolor\":\"rgba(0, 0, 0, 1.000)\",\"anchor\":\"y\"},\"paper_bgcolor\":\"rgba(255, 255, 255, 1.000)\",\"annotations\":[{\"yanchor\":\"top\",\"xanchor\":\"center\",\"rotation\":-0.0,\"y\":1.0,\"font\":{\"color\":\"rgba(0, 0, 0, 1.000)\",\"family\":\"sans-serif\",\"size\":20},\"yref\":\"paper\",\"showarrow\":false,\"text\":\"lifetime cons by hour at home\",\"xref\":\"paper\",\"x\":0.5349537037037038}],\"height\":400,\"margin\":{\"l\":0,\"b\":20,\"r\":0,\"t\":20},\"plot_bgcolor\":\"rgba(255, 255, 255, 1.000)\",\"yaxis\":{\"showticklabels\":true,\"gridwidth\":0.5,\"tickvals\":[0.0,0.5,1.0,1.5],\"visible\":true,\"ticks\":\"inside\",\"range\":[0.0,1.997868482198227],\"domain\":[0.07581474190726165,0.9415463692038496],\"tickmode\":\"array\",\"linecolor\":\"rgba(0, 0, 0, 1.000)\",\"showgrid\":true,\"title\":\"lifetime consumption\",\"mirror\":false,\"tickangle\":0,\"showline\":true,\"gridcolor\":\"rgba(0, 0, 0, 0.100)\",\"titlefont\":{\"color\":\"rgba(0, 0, 0, 1.000)\",\"family\":\"sans-serif\",\"size\":15},\"tickcolor\":\"rgb(0, 0, 0)\",\"ticktext\":[\"0.0\",\"0.5\",\"1.0\",\"1.5\"],\"zeroline\":false,\"type\":\"-\",\"tickfont\":{\"color\":\"rgba(0, 0, 0, 1.000)\",\"family\":\"sans-serif\",\"size\":11},\"zerolinecolor\":\"rgba(0, 0, 0, 1.000)\",\"anchor\":\"x\"},\"legend\":{\"bordercolor\":\"rgba(0, 0, 0, 1.000)\",\"bgcolor\":\"rgba(255, 255, 255, 1.000)\",\"font\":{\"color\":\"rgba(0, 0, 0, 1.000)\",\"family\":\"sans-serif\",\"size\":11},\"y\":1.0,\"x\":1.0},\"width\":600});\n",
       "    </script>\n"
      ]
     },
     "execution_count": 120,
     "metadata": {},
     "output_type": "execute_result"
    }
   ],
   "source": [
    "# percentiles\n",
    "bar(p_vec/num_hh*100, dat[p_vec, 2], xlim = (-30, 130), title = \"lifetime cons by hour at home\", \n",
    "xlabel = \"percentile of hour at home\", ylabel = \"lifetime consumption\")"
   ]
  },
  {
   "cell_type": "code",
   "execution_count": 121,
   "metadata": {
    "collapsed": true,
    "slideshow": {
     "slide_type": "slide"
    }
   },
   "outputs": [],
   "source": [
    "# percentile by wage\n",
    "dat = hcat(mean_wage, lifetime_cons);\n",
    "dat = sortrows(dat);\n",
    "\n",
    "for (ind, p) in enumerate(ptiles)\n",
    "    tmp = trunc(p*num_hh) + 1\n",
    "    p_vec[ind] = Int.(tmp) # convert to Int\n",
    "end"
   ]
  },
  {
   "cell_type": "code",
   "execution_count": 122,
   "metadata": {
    "slideshow": {
     "slide_type": "slide"
    }
   },
   "outputs": [
    {
     "data": {
      "text/html": [
       "<script src=\"file:///Users/a14880/.julia/v0.6/Plots/src/backends/../../deps/plotly-latest.min.js\"></script>    <div id=\"ed5470c8-754e-4d2c-81ca-74afa51549d7\" style=\"width:600px;height:400px;\"></div>\n",
       "    <script>\n",
       "    PLOT = document.getElementById('ed5470c8-754e-4d2c-81ca-74afa51549d7');\n",
       "    Plotly.plot(PLOT, [{\"xaxis\":\"x\",\"colorbar\":{\"title\":\"\"},\"yaxis\":\"y\",\"orientation\":\"v\",\"x\":[1.001,25.001,50.001,75.00099999999999,99.00099999999999],\"showlegend\":true,\"name\":\"y1\",\"marker\":{\"color\":\"rgba(0, 154, 250, 1.000)\",\"line\":{\"width\":1}},\"y\":[0.9292405712222513,1.4151186550882007,1.6840797165555135,1.973797507801455,2.758678411718604],\"type\":\"bar\",\"width\":19.200000000000003}], {\"showlegend\":true,\"xaxis\":{\"showticklabels\":true,\"gridwidth\":0.5,\"tickvals\":[-20.0,0.0,20.0,40.0,60.0,80.0,100.0,120.0],\"visible\":true,\"ticks\":\"inside\",\"range\":[-30.0,130.0],\"domain\":[0.07646908719743364,0.9934383202099737],\"tickmode\":\"array\",\"linecolor\":\"rgba(0, 0, 0, 1.000)\",\"showgrid\":true,\"title\":\"percentile of wage\",\"mirror\":false,\"tickangle\":0,\"showline\":true,\"gridcolor\":\"rgba(0, 0, 0, 0.100)\",\"titlefont\":{\"color\":\"rgba(0, 0, 0, 1.000)\",\"family\":\"sans-serif\",\"size\":15},\"tickcolor\":\"rgb(0, 0, 0)\",\"ticktext\":[\"-20\",\"0\",\"20\",\"40\",\"60\",\"80\",\"100\",\"120\"],\"zeroline\":false,\"type\":\"-\",\"tickfont\":{\"color\":\"rgba(0, 0, 0, 1.000)\",\"family\":\"sans-serif\",\"size\":11},\"zerolinecolor\":\"rgba(0, 0, 0, 1.000)\",\"anchor\":\"y\"},\"paper_bgcolor\":\"rgba(255, 255, 255, 1.000)\",\"annotations\":[{\"yanchor\":\"top\",\"xanchor\":\"center\",\"rotation\":-0.0,\"y\":1.0,\"font\":{\"color\":\"rgba(0, 0, 0, 1.000)\",\"family\":\"sans-serif\",\"size\":20},\"yref\":\"paper\",\"showarrow\":false,\"text\":\"lifetime cons by wage\",\"xref\":\"paper\",\"x\":0.5349537037037038}],\"height\":400,\"margin\":{\"l\":0,\"b\":20,\"r\":0,\"t\":20},\"plot_bgcolor\":\"rgba(255, 255, 255, 1.000)\",\"yaxis\":{\"showticklabels\":true,\"gridwidth\":0.5,\"tickvals\":[0.0,0.5,1.0,1.5,2.0,2.5],\"visible\":true,\"ticks\":\"inside\",\"range\":[0.0,2.758678411718604],\"domain\":[0.07581474190726165,0.9415463692038496],\"tickmode\":\"array\",\"linecolor\":\"rgba(0, 0, 0, 1.000)\",\"showgrid\":true,\"title\":\"lifetime consumption\",\"mirror\":false,\"tickangle\":0,\"showline\":true,\"gridcolor\":\"rgba(0, 0, 0, 0.100)\",\"titlefont\":{\"color\":\"rgba(0, 0, 0, 1.000)\",\"family\":\"sans-serif\",\"size\":15},\"tickcolor\":\"rgb(0, 0, 0)\",\"ticktext\":[\"0.0\",\"0.5\",\"1.0\",\"1.5\",\"2.0\",\"2.5\"],\"zeroline\":false,\"type\":\"-\",\"tickfont\":{\"color\":\"rgba(0, 0, 0, 1.000)\",\"family\":\"sans-serif\",\"size\":11},\"zerolinecolor\":\"rgba(0, 0, 0, 1.000)\",\"anchor\":\"x\"},\"legend\":{\"bordercolor\":\"rgba(0, 0, 0, 1.000)\",\"bgcolor\":\"rgba(255, 255, 255, 1.000)\",\"font\":{\"color\":\"rgba(0, 0, 0, 1.000)\",\"family\":\"sans-serif\",\"size\":11},\"y\":1.0,\"x\":1.0},\"width\":600});\n",
       "    </script>\n"
      ]
     },
     "execution_count": 122,
     "metadata": {},
     "output_type": "execute_result"
    }
   ],
   "source": [
    "# percentiles\n",
    "bar(p_vec/num_hh*100, dat[p_vec, 2], xlim = (-30, 130), title = \"lifetime cons by wage\", \n",
    "xlabel = \"percentile of wage\", ylabel = \"lifetime consumption\")"
   ]
  },
  {
   "cell_type": "markdown",
   "metadata": {
    "collapsed": true,
    "slideshow": {
     "slide_type": "slide"
    }
   },
   "source": [
    "## Policy and Economy\n",
    "* compare output and labor supply when policy is changed\n",
    "* benchmark\n",
    "    * LTCI is proportional with rate = 50%\n",
    "* fully covered\n",
    "    * LTCI is proportional with rate = 100%\n",
    "* laissez-faire\n",
    "    * no LTCI at all\n",
    "* ceiling \n",
    "    * LTCI takes care of all the serious care receivers with ceiling = 0.1 means no one needs to spend more than 10 % of their time to care-giving"
   ]
  },
  {
   "cell_type": "code",
   "execution_count": 123,
   "metadata": {
    "slideshow": {
     "slide_type": "subslide"
    }
   },
   "outputs": [
    {
     "data": {
      "text/html": [
       "<table class=\"data-frame\"><thead><tr><th></th><th>name</th><th>LTCI_type</th><th>NH_rate</th><th>ceiling</th><th>tau</th><th>gdp</th><th>labor_supply</th></tr></thead><tbody><tr><th>1</th><td>benchmark</td><td>proportional</td><td>0.5</td><td></td><td>0.1689</td><td>1.74404e5</td><td>1.68244e5</td></tr></tbody></table>"
      ],
      "text/plain": [
       "1×7 DataFrames.DataFrame. Omitted printing of 1 columns\n",
       "│ Row │ name      │ LTCI_type    │ NH_rate │ ceiling │ tau    │ gdp       │\n",
       "├─────┼───────────┼──────────────┼─────────┼─────────┼────────┼───────────┤\n",
       "│ 1   │ benchmark │ proportional │ 0.5     │         │ 0.1689 │ 1.74404e5 │"
      ]
     },
     "execution_count": 123,
     "metadata": {},
     "output_type": "execute_result"
    }
   ],
   "source": [
    "# saving results for benchmark economy\n",
    "results = DataFrame(name = \"benchmark\", LTCI_type = \"proportional\", NH_rate = 0.5, ceiling = \"\", \n",
    "    tau = tau, gdp = sum(wage_record.*hour_mkt_record), labor_supply=sum(hour_mkt_record))"
   ]
  },
  {
   "cell_type": "code",
   "execution_count": 124,
   "metadata": {
    "slideshow": {
     "slide_type": "subslide"
    }
   },
   "outputs": [
    {
     "name": "stderr",
     "output_type": "stream",
     "text": [
      "\u001b[1m\u001b[33mWARNING: \u001b[39m\u001b[22m\u001b[33mmax{T1 <: Real}(x::AbstractArray{T1}, y::Real) is deprecated, use max.(x, y) instead.\u001b[39m\n",
      "Stacktrace:\n",
      " [1] \u001b[1mdepwarn\u001b[22m\u001b[22m\u001b[1m(\u001b[22m\u001b[22m::String, ::Symbol\u001b[1m)\u001b[22m\u001b[22m at \u001b[1m./deprecated.jl:70\u001b[22m\u001b[22m\n",
      " [2] \u001b[1mmax\u001b[22m\u001b[22m\u001b[1m(\u001b[22m\u001b[22m::Array{Float64,2}, ::Int64\u001b[1m)\u001b[22m\u001b[22m at \u001b[1m./deprecated.jl:57\u001b[22m\u001b[22m\n",
      " [3] \u001b[1mgen_policy_function\u001b[22m\u001b[22m\u001b[1m(\u001b[22m\u001b[22m::Float64, ::Int64, ::Float64, ::Float64, ::Int64, ::Function\u001b[1m)\u001b[22m\u001b[22m at \u001b[1m./In[106]:16\u001b[22m\u001b[22m\n",
      " [4] \u001b[1miteration\u001b[22m\u001b[22m\u001b[1m(\u001b[22m\u001b[22m::Float64, ::Int64, ::Float64, ::Float64, ::Float64, ::Float64, ::Float64, ::Int64, ::Array{Float64,2}, ::Array{Float64,2}, ::#value_function, ::Int64\u001b[1m)\u001b[22m\u001b[22m at \u001b[1m./In[113]:5\u001b[22m\u001b[22m\n",
      " [5] \u001b[1miteration\u001b[22m\u001b[22m\u001b[1m(\u001b[22m\u001b[22m::Float64, ::Int64, ::Float64, ::Float64, ::Float64\u001b[1m)\u001b[22m\u001b[22m at \u001b[1m./In[113]:3\u001b[22m\u001b[22m\n",
      " [6] \u001b[1minclude_string\u001b[22m\u001b[22m\u001b[1m(\u001b[22m\u001b[22m::String, ::String\u001b[1m)\u001b[22m\u001b[22m at \u001b[1m./loading.jl:515\u001b[22m\u001b[22m\n",
      " [7] \u001b[1minclude_string\u001b[22m\u001b[22m\u001b[1m(\u001b[22m\u001b[22m::Module, ::String, ::String\u001b[1m)\u001b[22m\u001b[22m at \u001b[1m/Users/a14880/.julia/v0.6/Compat/src/Compat.jl:174\u001b[22m\u001b[22m\n",
      " [8] \u001b[1mexecute_request\u001b[22m\u001b[22m\u001b[1m(\u001b[22m\u001b[22m::ZMQ.Socket, ::IJulia.Msg\u001b[1m)\u001b[22m\u001b[22m at \u001b[1m/Users/a14880/.julia/v0.6/IJulia/src/execute_request.jl:154\u001b[22m\u001b[22m\n",
      " [9] \u001b[1m(::Compat.#inner#16{Array{Any,1},IJulia.#execute_request,Tuple{ZMQ.Socket,IJulia.Msg}})\u001b[22m\u001b[22m\u001b[1m(\u001b[22m\u001b[22m\u001b[1m)\u001b[22m\u001b[22m at \u001b[1m/Users/a14880/.julia/v0.6/Compat/src/Compat.jl:496\u001b[22m\u001b[22m\n",
      " [10] \u001b[1meventloop\u001b[22m\u001b[22m\u001b[1m(\u001b[22m\u001b[22m::ZMQ.Socket\u001b[1m)\u001b[22m\u001b[22m at \u001b[1m/Users/a14880/.julia/v0.6/IJulia/src/eventloop.jl:8\u001b[22m\u001b[22m\n",
      " [11] \u001b[1m(::IJulia.##14#17)\u001b[22m\u001b[22m\u001b[1m(\u001b[22m\u001b[22m\u001b[1m)\u001b[22m\u001b[22m at \u001b[1m./task.jl:335\u001b[22m\u001b[22m\n",
      "while loading In[124], in expression starting on line 237\n",
      "\u001b[1m\u001b[33mWARNING: \u001b[39m\u001b[22m\u001b[33mmax{T1 <: Real}(x::AbstractArray{T1}, y::Real) is deprecated, use max.(x, y) instead.\u001b[39m\n",
      "Stacktrace:\n",
      " [1] \u001b[1mdepwarn\u001b[22m\u001b[22m\u001b[1m(\u001b[22m\u001b[22m::String, ::Symbol\u001b[1m)\u001b[22m\u001b[22m at \u001b[1m./deprecated.jl:70\u001b[22m\u001b[22m\n",
      " [2] \u001b[1mmax\u001b[22m\u001b[22m\u001b[1m(\u001b[22m\u001b[22m::Array{Float64,2}, ::Int64\u001b[1m)\u001b[22m\u001b[22m at \u001b[1m./deprecated.jl:57\u001b[22m\u001b[22m\n",
      " [3] \u001b[1mgen_policy_function\u001b[22m\u001b[22m\u001b[1m(\u001b[22m\u001b[22m::Float64, ::Int64, ::Float64, ::Float64, ::Int64, ::Function\u001b[1m)\u001b[22m\u001b[22m at \u001b[1m./In[106]:19\u001b[22m\u001b[22m\n",
      " [4] \u001b[1miteration\u001b[22m\u001b[22m\u001b[1m(\u001b[22m\u001b[22m::Float64, ::Int64, ::Float64, ::Float64, ::Float64, ::Float64, ::Float64, ::Int64, ::Array{Float64,2}, ::Array{Float64,2}, ::#value_function, ::Int64\u001b[1m)\u001b[22m\u001b[22m at \u001b[1m./In[113]:5\u001b[22m\u001b[22m\n",
      " [5] \u001b[1miteration\u001b[22m\u001b[22m\u001b[1m(\u001b[22m\u001b[22m::Float64, ::Int64, ::Float64, ::Float64, ::Float64\u001b[1m)\u001b[22m\u001b[22m at \u001b[1m./In[113]:3\u001b[22m\u001b[22m\n",
      " [6] \u001b[1minclude_string\u001b[22m\u001b[22m\u001b[1m(\u001b[22m\u001b[22m::String, ::String\u001b[1m)\u001b[22m\u001b[22m at \u001b[1m./loading.jl:515\u001b[22m\u001b[22m\n",
      " [7] \u001b[1minclude_string\u001b[22m\u001b[22m\u001b[1m(\u001b[22m\u001b[22m::Module, ::String, ::String\u001b[1m)\u001b[22m\u001b[22m at \u001b[1m/Users/a14880/.julia/v0.6/Compat/src/Compat.jl:174\u001b[22m\u001b[22m\n",
      " [8] \u001b[1mexecute_request\u001b[22m\u001b[22m\u001b[1m(\u001b[22m\u001b[22m::ZMQ.Socket, ::IJulia.Msg\u001b[1m)\u001b[22m\u001b[22m at \u001b[1m/Users/a14880/.julia/v0.6/IJulia/src/execute_request.jl:154\u001b[22m\u001b[22m\n",
      " [9] \u001b[1m(::Compat.#inner#16{Array{Any,1},IJulia.#execute_request,Tuple{ZMQ.Socket,IJulia.Msg}})\u001b[22m\u001b[22m\u001b[1m(\u001b[22m\u001b[22m\u001b[1m)\u001b[22m\u001b[22m at \u001b[1m/Users/a14880/.julia/v0.6/Compat/src/Compat.jl:496\u001b[22m\u001b[22m\n",
      " [10] \u001b[1meventloop\u001b[22m\u001b[22m\u001b[1m(\u001b[22m\u001b[22m::ZMQ.Socket\u001b[1m)\u001b[22m\u001b[22m at \u001b[1m/Users/a14880/.julia/v0.6/IJulia/src/eventloop.jl:8\u001b[22m\u001b[22m\n",
      " [11] \u001b[1m(::IJulia.##14#17)\u001b[22m\u001b[22m\u001b[1m(\u001b[22m\u001b[22m\u001b[1m)\u001b[22m\u001b[22m at \u001b[1m./task.jl:335\u001b[22m\u001b[22m\n",
      "while loading In[124], in expression starting on line 237\n"
     ]
    },
    {
     "name": "stdout",
     "output_type": "stream",
     "text": [
      "tax rate is 0.18 and ratio is 0.9673250545677846 cost is 30772.99930913178 revenue is 31812.470031474186\n",
      "106.372518 seconds (1.64 G allocations: 177.050 GiB, 24.67% gc time)\n"
     ]
    },
    {
     "data": {
      "text/html": [
       "<table class=\"data-frame\"><thead><tr><th></th><th>name</th><th>LTCI_type</th><th>NH_rate</th><th>ceiling</th><th>tau</th><th>gdp</th><th>labor_supply</th></tr></thead><tbody><tr><th>1</th><td>fully covered</td><td>proportional</td><td>0.9999</td><td></td><td>0.18</td><td>1.76736e5</td><td>1.70485e5</td></tr></tbody></table>"
      ],
      "text/plain": [
       "1×7 DataFrames.DataFrame. Omitted printing of 1 columns\n",
       "│ Row │ name          │ LTCI_type    │ NH_rate │ ceiling │ tau  │ gdp       │\n",
       "├─────┼───────────────┼──────────────┼─────────┼─────────┼──────┼───────────┤\n",
       "│ 1   │ fully covered │ proportional │ 0.9999  │         │ 0.18 │ 1.76736e5 │"
      ]
     },
     "execution_count": 124,
     "metadata": {},
     "output_type": "execute_result"
    }
   ],
   "source": [
    "# fully covered economy\n",
    "tau = 0.18;\n",
    "LTCI_type = 1;\n",
    "NH_rate = .9999;\n",
    "ceiling = NaN;\n",
    "tol = 0.05;\n",
    "@time iter_results = iteration(tau, LTCI_type, NH_rate, ceiling, tol);\n",
    "tau = iter_results[1];\n",
    "LTCI_type = iter_results[2];\n",
    "NH_rate = iter_results[3];\n",
    "ceiling = iter_results[4];\n",
    "consumption_record = iter_results[5];\n",
    "asset_record = iter_results[6];\n",
    "hour_mkt_record = iter_results[7];\n",
    "hour_home_record = iter_results[8];\n",
    "results_fully = DataFrame(name = \"fully covered\", LTCI_type = \"proportional\", NH_rate = NH_rate, ceiling = \"\", \n",
    "    tau = tau, gdp = sum(wage_record.*hour_mkt_record), labor_supply=sum(hour_mkt_record))"
   ]
  },
  {
   "cell_type": "code",
   "execution_count": 125,
   "metadata": {
    "slideshow": {
     "slide_type": "subslide"
    }
   },
   "outputs": [
    {
     "data": {
      "text/html": [
       "<table class=\"data-frame\"><thead><tr><th></th><th>name</th><th>LTCI_type</th><th>NH_rate</th><th>ceiling</th><th>tau</th><th>gdp</th><th>labor_supply</th></tr></thead><tbody><tr><th>1</th><td>benchmark</td><td>proportional</td><td>0.5</td><td></td><td>0.1689</td><td>1.74404e5</td><td>1.68244e5</td></tr><tr><th>2</th><td>fully covered</td><td>proportional</td><td>0.9999</td><td></td><td>0.18</td><td>1.76736e5</td><td>1.70485e5</td></tr></tbody></table>"
      ],
      "text/plain": [
       "2×7 DataFrames.DataFrame. Omitted printing of 1 columns\n",
       "│ Row │ name          │ LTCI_type    │ NH_rate │ ceiling │ tau    │ gdp       │\n",
       "├─────┼───────────────┼──────────────┼─────────┼─────────┼────────┼───────────┤\n",
       "│ 1   │ benchmark     │ proportional │ 0.5     │         │ 0.1689 │ 1.74404e5 │\n",
       "│ 2   │ fully covered │ proportional │ 0.9999  │         │ 0.18   │ 1.76736e5 │"
      ]
     },
     "execution_count": 125,
     "metadata": {},
     "output_type": "execute_result"
    }
   ],
   "source": [
    "results = vcat(results, results_fully)"
   ]
  },
  {
   "cell_type": "code",
   "execution_count": 126,
   "metadata": {
    "slideshow": {
     "slide_type": "subslide"
    }
   },
   "outputs": [
    {
     "name": "stderr",
     "output_type": "stream",
     "text": [
      "\u001b[1m\u001b[33mWARNING: \u001b[39m\u001b[22m\u001b[33mmax{T1 <: Real}(x::AbstractArray{T1}, y::Real) is deprecated, use max.(x, y) instead.\u001b[39m\n",
      "Stacktrace:\n",
      " [1] \u001b[1mdepwarn\u001b[22m\u001b[22m\u001b[1m(\u001b[22m\u001b[22m::String, ::Symbol\u001b[1m)\u001b[22m\u001b[22m at \u001b[1m./deprecated.jl:70\u001b[22m\u001b[22m\n",
      " [2] \u001b[1mmax\u001b[22m\u001b[22m\u001b[1m(\u001b[22m\u001b[22m::Array{Float64,2}, ::Int64\u001b[1m)\u001b[22m\u001b[22m at \u001b[1m./deprecated.jl:57\u001b[22m\u001b[22m\n",
      " [3] \u001b[1mgen_policy_function\u001b[22m\u001b[22m\u001b[1m(\u001b[22m\u001b[22m::Float64, ::Int64, ::Float64, ::Int64, ::Int64, ::Function\u001b[1m)\u001b[22m\u001b[22m at \u001b[1m./In[106]:16\u001b[22m\u001b[22m\n",
      " [4] \u001b[1miteration\u001b[22m\u001b[22m\u001b[1m(\u001b[22m\u001b[22m::Float64, ::Int64, ::Float64, ::Int64, ::Float64, ::Float64, ::Float64, ::Int64, ::Array{Float64,2}, ::Array{Float64,2}, ::#value_function, ::Int64\u001b[1m)\u001b[22m\u001b[22m at \u001b[1m./In[113]:5\u001b[22m\u001b[22m\n",
      " [5] \u001b[1miteration\u001b[22m\u001b[22m\u001b[1m(\u001b[22m\u001b[22m::Float64, ::Int64, ::Float64, ::Int64, ::Float64\u001b[1m)\u001b[22m\u001b[22m at \u001b[1m./In[113]:3\u001b[22m\u001b[22m\n",
      " [6] \u001b[1minclude_string\u001b[22m\u001b[22m\u001b[1m(\u001b[22m\u001b[22m::String, ::String\u001b[1m)\u001b[22m\u001b[22m at \u001b[1m./loading.jl:515\u001b[22m\u001b[22m\n",
      " [7] \u001b[1minclude_string\u001b[22m\u001b[22m\u001b[1m(\u001b[22m\u001b[22m::Module, ::String, ::String\u001b[1m)\u001b[22m\u001b[22m at \u001b[1m/Users/a14880/.julia/v0.6/Compat/src/Compat.jl:174\u001b[22m\u001b[22m\n",
      " [8] \u001b[1mexecute_request\u001b[22m\u001b[22m\u001b[1m(\u001b[22m\u001b[22m::ZMQ.Socket, ::IJulia.Msg\u001b[1m)\u001b[22m\u001b[22m at \u001b[1m/Users/a14880/.julia/v0.6/IJulia/src/execute_request.jl:154\u001b[22m\u001b[22m\n",
      " [9] \u001b[1m(::Compat.#inner#16{Array{Any,1},IJulia.#execute_request,Tuple{ZMQ.Socket,IJulia.Msg}})\u001b[22m\u001b[22m\u001b[1m(\u001b[22m\u001b[22m\u001b[1m)\u001b[22m\u001b[22m at \u001b[1m/Users/a14880/.julia/v0.6/Compat/src/Compat.jl:496\u001b[22m\u001b[22m\n",
      " [10] \u001b[1meventloop\u001b[22m\u001b[22m\u001b[1m(\u001b[22m\u001b[22m::ZMQ.Socket\u001b[1m)\u001b[22m\u001b[22m at \u001b[1m/Users/a14880/.julia/v0.6/IJulia/src/eventloop.jl:8\u001b[22m\u001b[22m\n",
      " [11] \u001b[1m(::IJulia.##14#17)\u001b[22m\u001b[22m\u001b[1m(\u001b[22m\u001b[22m\u001b[1m)\u001b[22m\u001b[22m at \u001b[1m./task.jl:335\u001b[22m\u001b[22m\n",
      "while loading In[126], in expression starting on line 237\n",
      "\u001b[1m\u001b[33mWARNING: \u001b[39m\u001b[22m\u001b[33mmax{T1 <: Real}(x::AbstractArray{T1}, y::Real) is deprecated, use max.(x, y) instead.\u001b[39m\n",
      "Stacktrace:\n",
      " [1] \u001b[1mdepwarn\u001b[22m\u001b[22m\u001b[1m(\u001b[22m\u001b[22m::String, ::Symbol\u001b[1m)\u001b[22m\u001b[22m at \u001b[1m./deprecated.jl:70\u001b[22m\u001b[22m\n",
      " [2] \u001b[1mmax\u001b[22m\u001b[22m\u001b[1m(\u001b[22m\u001b[22m::Array{Float64,2}, ::Int64\u001b[1m)\u001b[22m\u001b[22m at \u001b[1m./deprecated.jl:57\u001b[22m\u001b[22m\n",
      " [3] \u001b[1mgen_policy_function\u001b[22m\u001b[22m\u001b[1m(\u001b[22m\u001b[22m::Float64, ::Int64, ::Float64, ::Int64, ::Int64, ::Function\u001b[1m)\u001b[22m\u001b[22m at \u001b[1m./In[106]:19\u001b[22m\u001b[22m\n",
      " [4] \u001b[1miteration\u001b[22m\u001b[22m\u001b[1m(\u001b[22m\u001b[22m::Float64, ::Int64, ::Float64, ::Int64, ::Float64, ::Float64, ::Float64, ::Int64, ::Array{Float64,2}, ::Array{Float64,2}, ::#value_function, ::Int64\u001b[1m)\u001b[22m\u001b[22m at \u001b[1m./In[113]:5\u001b[22m\u001b[22m\n",
      " [5] \u001b[1miteration\u001b[22m\u001b[22m\u001b[1m(\u001b[22m\u001b[22m::Float64, ::Int64, ::Float64, ::Int64, ::Float64\u001b[1m)\u001b[22m\u001b[22m at \u001b[1m./In[113]:3\u001b[22m\u001b[22m\n",
      " [6] \u001b[1minclude_string\u001b[22m\u001b[22m\u001b[1m(\u001b[22m\u001b[22m::String, ::String\u001b[1m)\u001b[22m\u001b[22m at \u001b[1m./loading.jl:515\u001b[22m\u001b[22m\n",
      " [7] \u001b[1minclude_string\u001b[22m\u001b[22m\u001b[1m(\u001b[22m\u001b[22m::Module, ::String, ::String\u001b[1m)\u001b[22m\u001b[22m at \u001b[1m/Users/a14880/.julia/v0.6/Compat/src/Compat.jl:174\u001b[22m\u001b[22m\n",
      " [8] \u001b[1mexecute_request\u001b[22m\u001b[22m\u001b[1m(\u001b[22m\u001b[22m::ZMQ.Socket, ::IJulia.Msg\u001b[1m)\u001b[22m\u001b[22m at \u001b[1m/Users/a14880/.julia/v0.6/IJulia/src/execute_request.jl:154\u001b[22m\u001b[22m\n",
      " [9] \u001b[1m(::Compat.#inner#16{Array{Any,1},IJulia.#execute_request,Tuple{ZMQ.Socket,IJulia.Msg}})\u001b[22m\u001b[22m\u001b[1m(\u001b[22m\u001b[22m\u001b[1m)\u001b[22m\u001b[22m at \u001b[1m/Users/a14880/.julia/v0.6/Compat/src/Compat.jl:496\u001b[22m\u001b[22m\n",
      " [10] \u001b[1meventloop\u001b[22m\u001b[22m\u001b[1m(\u001b[22m\u001b[22m::ZMQ.Socket\u001b[1m)\u001b[22m\u001b[22m at \u001b[1m/Users/a14880/.julia/v0.6/IJulia/src/eventloop.jl:8\u001b[22m\u001b[22m\n",
      " [11] \u001b[1m(::IJulia.##14#17)\u001b[22m\u001b[22m\u001b[1m(\u001b[22m\u001b[22m\u001b[1m)\u001b[22m\u001b[22m at \u001b[1m./task.jl:335\u001b[22m\u001b[22m\n",
      "while loading In[126], in expression starting on line 237\n"
     ]
    },
    {
     "name": "stdout",
     "output_type": "stream",
     "text": [
      "tax rate is 0.149 and ratio is 1.009146622922793 cost is 25876.77235045631 revenue is 25642.232518709097\n",
      "103.390747 seconds (1.64 G allocations: 177.032 GiB, 24.42% gc time)\n"
     ]
    },
    {
     "data": {
      "text/html": [
       "<table class=\"data-frame\"><thead><tr><th></th><th>name</th><th>LTCI_type</th><th>NH_rate</th><th>ceiling</th><th>tau</th><th>gdp</th><th>labor_supply</th></tr></thead><tbody><tr><th>1</th><td>laissez-faire</td><td>proportional</td><td>1.0e-5</td><td></td><td>0.149</td><td>1.72096e5</td><td>1.6603e5</td></tr></tbody></table>"
      ],
      "text/plain": [
       "1×7 DataFrames.DataFrame. Omitted printing of 1 columns\n",
       "│ Row │ name          │ LTCI_type    │ NH_rate │ ceiling │ tau   │ gdp       │\n",
       "├─────┼───────────────┼──────────────┼─────────┼─────────┼───────┼───────────┤\n",
       "│ 1   │ laissez-faire │ proportional │ 1.0e-5  │         │ 0.149 │ 1.72096e5 │"
      ]
     },
     "execution_count": 126,
     "metadata": {},
     "output_type": "execute_result"
    }
   ],
   "source": [
    "#laissez-faire\n",
    "tau = 0.149;\n",
    "LTCI_type = 1;\n",
    "NH_rate = 0.00001;\n",
    "ceiling = 0;\n",
    "tol = 0.05;\n",
    "@time iter_results = iteration(tau, LTCI_type, NH_rate, ceiling, tol);\n",
    "tau = iter_results[1];\n",
    "LTCI_type = iter_results[2];\n",
    "NH_rate = iter_results[3];\n",
    "ceiling = iter_results[4];\n",
    "consumption_record = iter_results[5];\n",
    "asset_record = iter_results[6];\n",
    "hour_mkt_record = iter_results[7];\n",
    "hour_home_record = iter_results[8];\n",
    "results_lf = DataFrame(name = \"laissez-faire\", LTCI_type = \"proportional\", NH_rate = NH_rate, ceiling = \"\", \n",
    "    tau = tau, gdp = sum(wage_record.*hour_mkt_record), labor_supply=sum(hour_mkt_record))\n"
   ]
  },
  {
   "cell_type": "code",
   "execution_count": 127,
   "metadata": {
    "slideshow": {
     "slide_type": "subslide"
    }
   },
   "outputs": [
    {
     "data": {
      "text/html": [
       "<table class=\"data-frame\"><thead><tr><th></th><th>name</th><th>LTCI_type</th><th>NH_rate</th><th>ceiling</th><th>tau</th><th>gdp</th><th>labor_supply</th></tr></thead><tbody><tr><th>1</th><td>benchmark</td><td>proportional</td><td>0.5</td><td></td><td>0.1689</td><td>1.74404e5</td><td>1.68244e5</td></tr><tr><th>2</th><td>fully covered</td><td>proportional</td><td>0.9999</td><td></td><td>0.18</td><td>1.76736e5</td><td>1.70485e5</td></tr><tr><th>3</th><td>laissez-faire</td><td>proportional</td><td>1.0e-5</td><td></td><td>0.149</td><td>1.72096e5</td><td>1.6603e5</td></tr></tbody></table>"
      ],
      "text/plain": [
       "3×7 DataFrames.DataFrame. Omitted printing of 1 columns\n",
       "│ Row │ name          │ LTCI_type    │ NH_rate │ ceiling │ tau    │ gdp       │\n",
       "├─────┼───────────────┼──────────────┼─────────┼─────────┼────────┼───────────┤\n",
       "│ 1   │ benchmark     │ proportional │ 0.5     │         │ 0.1689 │ 1.74404e5 │\n",
       "│ 2   │ fully covered │ proportional │ 0.9999  │         │ 0.18   │ 1.76736e5 │\n",
       "│ 3   │ laissez-faire │ proportional │ 1.0e-5  │         │ 0.149  │ 1.72096e5 │"
      ]
     },
     "execution_count": 127,
     "metadata": {},
     "output_type": "execute_result"
    }
   ],
   "source": [
    "results = vcat(results, results_lf)"
   ]
  },
  {
   "cell_type": "code",
   "execution_count": 128,
   "metadata": {
    "slideshow": {
     "slide_type": "subslide"
    }
   },
   "outputs": [
    {
     "name": "stderr",
     "output_type": "stream",
     "text": [
      "\u001b[1m\u001b[33mWARNING: \u001b[39m\u001b[22m\u001b[33mmax{T1 <: Real}(x::AbstractArray{T1}, y::Real) is deprecated, use max.(x, y) instead.\u001b[39m\n",
      "Stacktrace:\n",
      " [1] \u001b[1mdepwarn\u001b[22m\u001b[22m\u001b[1m(\u001b[22m\u001b[22m::String, ::Symbol\u001b[1m)\u001b[22m\u001b[22m at \u001b[1m./deprecated.jl:70\u001b[22m\u001b[22m\n",
      " [2] \u001b[1mmax\u001b[22m\u001b[22m\u001b[1m(\u001b[22m\u001b[22m::Array{Float64,2}, ::Int64\u001b[1m)\u001b[22m\u001b[22m at \u001b[1m./deprecated.jl:57\u001b[22m\u001b[22m\n",
      " [3] \u001b[1mgen_policy_function\u001b[22m\u001b[22m\u001b[1m(\u001b[22m\u001b[22m::Float64, ::Int64, ::Float64, ::Float64, ::Int64, ::Function\u001b[1m)\u001b[22m\u001b[22m at \u001b[1m./In[106]:16\u001b[22m\u001b[22m\n",
      " [4] \u001b[1miteration\u001b[22m\u001b[22m\u001b[1m(\u001b[22m\u001b[22m::Float64, ::Int64, ::Float64, ::Float64, ::Float64, ::Float64, ::Float64, ::Int64, ::Array{Float64,2}, ::Array{Float64,2}, ::#value_function, ::Int64\u001b[1m)\u001b[22m\u001b[22m at \u001b[1m./In[113]:5\u001b[22m\u001b[22m\n",
      " [5] \u001b[1miteration\u001b[22m\u001b[22m\u001b[1m(\u001b[22m\u001b[22m::Float64, ::Int64, ::Float64, ::Float64, ::Float64\u001b[1m)\u001b[22m\u001b[22m at \u001b[1m./In[113]:3\u001b[22m\u001b[22m\n",
      " [6] \u001b[1minclude_string\u001b[22m\u001b[22m\u001b[1m(\u001b[22m\u001b[22m::String, ::String\u001b[1m)\u001b[22m\u001b[22m at \u001b[1m./loading.jl:515\u001b[22m\u001b[22m\n",
      " [7] \u001b[1minclude_string\u001b[22m\u001b[22m\u001b[1m(\u001b[22m\u001b[22m::Module, ::String, ::String\u001b[1m)\u001b[22m\u001b[22m at \u001b[1m/Users/a14880/.julia/v0.6/Compat/src/Compat.jl:174\u001b[22m\u001b[22m\n",
      " [8] \u001b[1mexecute_request\u001b[22m\u001b[22m\u001b[1m(\u001b[22m\u001b[22m::ZMQ.Socket, ::IJulia.Msg\u001b[1m)\u001b[22m\u001b[22m at \u001b[1m/Users/a14880/.julia/v0.6/IJulia/src/execute_request.jl:154\u001b[22m\u001b[22m\n",
      " [9] \u001b[1m(::Compat.#inner#16{Array{Any,1},IJulia.#execute_request,Tuple{ZMQ.Socket,IJulia.Msg}})\u001b[22m\u001b[22m\u001b[1m(\u001b[22m\u001b[22m\u001b[1m)\u001b[22m\u001b[22m at \u001b[1m/Users/a14880/.julia/v0.6/Compat/src/Compat.jl:496\u001b[22m\u001b[22m\n",
      " [10] \u001b[1meventloop\u001b[22m\u001b[22m\u001b[1m(\u001b[22m\u001b[22m::ZMQ.Socket\u001b[1m)\u001b[22m\u001b[22m at \u001b[1m/Users/a14880/.julia/v0.6/IJulia/src/eventloop.jl:8\u001b[22m\u001b[22m\n",
      " [11] \u001b[1m(::IJulia.##14#17)\u001b[22m\u001b[22m\u001b[1m(\u001b[22m\u001b[22m\u001b[1m)\u001b[22m\u001b[22m at \u001b[1m./task.jl:335\u001b[22m\u001b[22m\n",
      "while loading In[128], in expression starting on line 237\n",
      "\u001b[1m\u001b[33mWARNING: \u001b[39m\u001b[22m\u001b[33mmax{T1 <: Real}(x::AbstractArray{T1}, y::Real) is deprecated, use max.(x, y) instead.\u001b[39m\n",
      "Stacktrace:\n",
      " [1] \u001b[1mdepwarn\u001b[22m\u001b[22m\u001b[1m(\u001b[22m\u001b[22m::String, ::Symbol\u001b[1m)\u001b[22m\u001b[22m at \u001b[1m./deprecated.jl:70\u001b[22m\u001b[22m\n",
      " [2] \u001b[1mmax\u001b[22m\u001b[22m\u001b[1m(\u001b[22m\u001b[22m::Array{Float64,2}, ::Int64\u001b[1m)\u001b[22m\u001b[22m at \u001b[1m./deprecated.jl:57\u001b[22m\u001b[22m\n",
      " [3] \u001b[1mgen_policy_function\u001b[22m\u001b[22m\u001b[1m(\u001b[22m\u001b[22m::Float64, ::Int64, ::Float64, ::Float64, ::Int64, ::Function\u001b[1m)\u001b[22m\u001b[22m at \u001b[1m./In[106]:19\u001b[22m\u001b[22m\n",
      " [4] \u001b[1miteration\u001b[22m\u001b[22m\u001b[1m(\u001b[22m\u001b[22m::Float64, ::Int64, ::Float64, ::Float64, ::Float64, ::Float64, ::Float64, ::Int64, ::Array{Float64,2}, ::Array{Float64,2}, ::#value_function, ::Int64\u001b[1m)\u001b[22m\u001b[22m at \u001b[1m./In[113]:5\u001b[22m\u001b[22m\n",
      " [5] \u001b[1miteration\u001b[22m\u001b[22m\u001b[1m(\u001b[22m\u001b[22m::Float64, ::Int64, ::Float64, ::Float64, ::Float64\u001b[1m)\u001b[22m\u001b[22m at \u001b[1m./In[113]:3\u001b[22m\u001b[22m\n",
      " [6] \u001b[1minclude_string\u001b[22m\u001b[22m\u001b[1m(\u001b[22m\u001b[22m::String, ::String\u001b[1m)\u001b[22m\u001b[22m at \u001b[1m./loading.jl:515\u001b[22m\u001b[22m\n",
      " [7] \u001b[1minclude_string\u001b[22m\u001b[22m\u001b[1m(\u001b[22m\u001b[22m::Module, ::String, ::String\u001b[1m)\u001b[22m\u001b[22m at \u001b[1m/Users/a14880/.julia/v0.6/Compat/src/Compat.jl:174\u001b[22m\u001b[22m\n",
      " [8] \u001b[1mexecute_request\u001b[22m\u001b[22m\u001b[1m(\u001b[22m\u001b[22m::ZMQ.Socket, ::IJulia.Msg\u001b[1m)\u001b[22m\u001b[22m at \u001b[1m/Users/a14880/.julia/v0.6/IJulia/src/execute_request.jl:154\u001b[22m\u001b[22m\n",
      " [9] \u001b[1m(::Compat.#inner#16{Array{Any,1},IJulia.#execute_request,Tuple{ZMQ.Socket,IJulia.Msg}})\u001b[22m\u001b[22m\u001b[1m(\u001b[22m\u001b[22m\u001b[1m)\u001b[22m\u001b[22m at \u001b[1m/Users/a14880/.julia/v0.6/Compat/src/Compat.jl:496\u001b[22m\u001b[22m\n",
      " [10] \u001b[1meventloop\u001b[22m\u001b[22m\u001b[1m(\u001b[22m\u001b[22m::ZMQ.Socket\u001b[1m)\u001b[22m\u001b[22m at \u001b[1m/Users/a14880/.julia/v0.6/IJulia/src/eventloop.jl:8\u001b[22m\u001b[22m\n",
      " [11] \u001b[1m(::IJulia.##14#17)\u001b[22m\u001b[22m\u001b[1m(\u001b[22m\u001b[22m\u001b[1m)\u001b[22m\u001b[22m at \u001b[1m./task.jl:335\u001b[22m\u001b[22m\n",
      "while loading In[128], in expression starting on line 237\n"
     ]
    },
    {
     "name": "stdout",
     "output_type": "stream",
     "text": [
      "tax rate is 0.149 and ratio is 1.0092105462532666 cost is 25452.041502080538 revenue is 25219.753793271615\n",
      "104.381983 seconds (1.64 G allocations: 177.071 GiB, 24.51% gc time)\n"
     ]
    },
    {
     "data": {
      "text/html": [
       "<table class=\"data-frame\"><thead><tr><th></th><th>name</th><th>LTCI_type</th><th>NH_rate</th><th>ceiling</th><th>tau</th><th>gdp</th><th>labor_supply</th></tr></thead><tbody><tr><th>1</th><td>ceiling</td><td>ceiling</td><td></td><td>0.1</td><td>0.149</td><td>1.6926e5</td><td>1.63297e5</td></tr></tbody></table>"
      ],
      "text/plain": [
       "1×7 DataFrames.DataFrame. Omitted printing of 1 columns\n",
       "│ Row │ name    │ LTCI_type │ NH_rate │ ceiling │ tau   │ gdp      │\n",
       "├─────┼─────────┼───────────┼─────────┼─────────┼───────┼──────────┤\n",
       "│ 1   │ ceiling │ ceiling   │         │ 0.1     │ 0.149 │ 1.6926e5 │"
      ]
     },
     "execution_count": 128,
     "metadata": {},
     "output_type": "execute_result"
    }
   ],
   "source": [
    "#ceiling\n",
    "tau = 0.149;\n",
    "LTCI_type = 2;\n",
    "NH_rate = NaN;\n",
    "ceiling = 0.1;\n",
    "tol = 0.05;\n",
    "@time iter_results = iteration(tau, LTCI_type, NH_rate, ceiling, tol);\n",
    "tau = iter_results[1];\n",
    "LTCI_type = iter_results[2];\n",
    "NH_rate = iter_results[3];\n",
    "ceiling = iter_results[4];\n",
    "consumption_record = iter_results[5];\n",
    "asset_record = iter_results[6];\n",
    "hour_mkt_record = iter_results[7];\n",
    "hour_home_record = iter_results[8];\n",
    "results_ceiling = DataFrame(name = \"ceiling\", LTCI_type = \"ceiling\", NH_rate = \"\", ceiling = ceiling, \n",
    "    tau = tau, gdp = sum(wage_record.*hour_mkt_record), labor_supply=sum(hour_mkt_record))"
   ]
  },
  {
   "cell_type": "code",
   "execution_count": 129,
   "metadata": {
    "slideshow": {
     "slide_type": "slide"
    }
   },
   "outputs": [
    {
     "data": {
      "text/html": [
       "<table class=\"data-frame\"><thead><tr><th></th><th>name</th><th>LTCI_type</th><th>NH_rate</th><th>ceiling</th><th>tau</th><th>gdp</th><th>labor_supply</th></tr></thead><tbody><tr><th>1</th><td>benchmark</td><td>proportional</td><td>0.5</td><td></td><td>0.1689</td><td>1.74404e5</td><td>1.68244e5</td></tr><tr><th>2</th><td>fully covered</td><td>proportional</td><td>0.9999</td><td></td><td>0.18</td><td>1.76736e5</td><td>1.70485e5</td></tr><tr><th>3</th><td>laissez-faire</td><td>proportional</td><td>1.0e-5</td><td></td><td>0.149</td><td>1.72096e5</td><td>1.6603e5</td></tr><tr><th>4</th><td>ceiling</td><td>ceiling</td><td></td><td>0.1</td><td>0.149</td><td>1.6926e5</td><td>1.63297e5</td></tr></tbody></table>"
      ],
      "text/plain": [
       "4×7 DataFrames.DataFrame. Omitted printing of 1 columns\n",
       "│ Row │ name          │ LTCI_type    │ NH_rate │ ceiling │ tau    │ gdp       │\n",
       "├─────┼───────────────┼──────────────┼─────────┼─────────┼────────┼───────────┤\n",
       "│ 1   │ benchmark     │ proportional │ 0.5     │         │ 0.1689 │ 1.74404e5 │\n",
       "│ 2   │ fully covered │ proportional │ 0.9999  │         │ 0.18   │ 1.76736e5 │\n",
       "│ 3   │ laissez-faire │ proportional │ 1.0e-5  │         │ 0.149  │ 1.72096e5 │\n",
       "│ 4   │ ceiling       │ ceiling      │         │ 0.1     │ 0.149  │ 1.6926e5  │"
      ]
     },
     "execution_count": 129,
     "metadata": {},
     "output_type": "execute_result"
    }
   ],
   "source": [
    "results = vcat(results, results_ceiling)"
   ]
  },
  {
   "cell_type": "code",
   "execution_count": 130,
   "metadata": {
    "slideshow": {
     "slide_type": "slide"
    }
   },
   "outputs": [
    {
     "data": {
      "text/html": [
       "<script src=\"file:///Users/a14880/.julia/v0.6/Plots/src/backends/../../deps/plotly-latest.min.js\"></script>    <div id=\"0e79c997-2893-4694-a934-950d515ea633\" style=\"width:600px;height:400px;\"></div>\n",
       "    <script>\n",
       "    PLOT = document.getElementById('0e79c997-2893-4694-a934-950d515ea633');\n",
       "    Plotly.plot(PLOT, [{\"xaxis\":\"x\",\"colorbar\":{\"title\":\"\"},\"yaxis\":\"y\",\"orientation\":\"v\",\"x\":[0.5,1.5,2.5,3.5],\"showlegend\":true,\"name\":\"y1\",\"marker\":{\"color\":\"rgba(0, 154, 250, 1.000)\",\"line\":{\"width\":1}},\"y\":[0.1689,0.18,0.149,0.149],\"type\":\"bar\",\"width\":0.8}], {\"showlegend\":true,\"xaxis\":{\"showticklabels\":true,\"gridwidth\":0.5,\"tickvals\":[0.5,1.5,2.5,3.5],\"visible\":true,\"ticks\":\"inside\",\"range\":[0.09999999999999998,3.9],\"domain\":[0.0658209390492855,0.9934383202099738],\"tickmode\":\"array\",\"linecolor\":\"rgba(0, 0, 0, 1.000)\",\"showgrid\":true,\"title\":\"\",\"mirror\":false,\"tickangle\":0,\"showline\":true,\"gridcolor\":\"rgba(0, 0, 0, 0.100)\",\"titlefont\":{\"color\":\"rgba(0, 0, 0, 1.000)\",\"family\":\"sans-serif\",\"size\":15},\"tickcolor\":\"rgb(0, 0, 0)\",\"ticktext\":[\"benchmark\",\"fully covered\",\"laissez-faire\",\"ceiling\"],\"zeroline\":false,\"type\":\"-\",\"tickfont\":{\"color\":\"rgba(0, 0, 0, 1.000)\",\"family\":\"sans-serif\",\"size\":11},\"zerolinecolor\":\"rgba(0, 0, 0, 1.000)\",\"anchor\":\"y\"},\"paper_bgcolor\":\"rgba(255, 255, 255, 1.000)\",\"annotations\":[{\"yanchor\":\"top\",\"xanchor\":\"center\",\"rotation\":-0.0,\"y\":1.0,\"font\":{\"color\":\"rgba(0, 0, 0, 1.000)\",\"family\":\"sans-serif\",\"size\":20},\"yref\":\"paper\",\"showarrow\":false,\"text\":\"tax rate\",\"xref\":\"paper\",\"x\":0.5296296296296296}],\"height\":400,\"margin\":{\"l\":0,\"b\":20,\"r\":0,\"t\":20},\"plot_bgcolor\":\"rgba(255, 255, 255, 1.000)\",\"yaxis\":{\"showticklabels\":true,\"gridwidth\":0.5,\"tickvals\":[0.0,0.03,0.06,0.09,0.12,0.15,0.18],\"visible\":true,\"ticks\":\"inside\",\"range\":[0.0,0.18],\"domain\":[0.03762029746281716,0.9415463692038496],\"tickmode\":\"array\",\"linecolor\":\"rgba(0, 0, 0, 1.000)\",\"showgrid\":true,\"title\":\"\",\"mirror\":false,\"tickangle\":0,\"showline\":true,\"gridcolor\":\"rgba(0, 0, 0, 0.100)\",\"titlefont\":{\"color\":\"rgba(0, 0, 0, 1.000)\",\"family\":\"sans-serif\",\"size\":15},\"tickcolor\":\"rgb(0, 0, 0)\",\"ticktext\":[\"0.00\",\"0.03\",\"0.06\",\"0.09\",\"0.12\",\"0.15\",\"0.18\"],\"zeroline\":false,\"type\":\"-\",\"tickfont\":{\"color\":\"rgba(0, 0, 0, 1.000)\",\"family\":\"sans-serif\",\"size\":11},\"zerolinecolor\":\"rgba(0, 0, 0, 1.000)\",\"anchor\":\"x\"},\"legend\":{\"bordercolor\":\"rgba(0, 0, 0, 1.000)\",\"bgcolor\":\"rgba(255, 255, 255, 1.000)\",\"font\":{\"color\":\"rgba(0, 0, 0, 1.000)\",\"family\":\"sans-serif\",\"size\":11},\"y\":1.0,\"x\":1.0},\"width\":600});\n",
       "    </script>\n"
      ]
     },
     "execution_count": 130,
     "metadata": {},
     "output_type": "execute_result"
    }
   ],
   "source": [
    "bar(results[:name], results[:tau], title = \"tax rate\")\n",
    "\n"
   ]
  },
  {
   "cell_type": "code",
   "execution_count": 131,
   "metadata": {
    "slideshow": {
     "slide_type": "slide"
    }
   },
   "outputs": [
    {
     "data": {
      "text/html": [
       "<script src=\"file:///Users/a14880/.julia/v0.6/Plots/src/backends/../../deps/plotly-latest.min.js\"></script>    <div id=\"63598003-2a21-4bea-aa5e-466e3053d07e\" style=\"width:600px;height:400px;\"></div>\n",
       "    <script>\n",
       "    PLOT = document.getElementById('63598003-2a21-4bea-aa5e-466e3053d07e');\n",
       "    Plotly.plot(PLOT, [{\"xaxis\":\"x\",\"colorbar\":{\"title\":\"\"},\"yaxis\":\"y\",\"orientation\":\"v\",\"x\":[0.5,1.5,2.5,3.5],\"showlegend\":true,\"name\":\"y1\",\"marker\":{\"color\":\"rgba(0, 154, 250, 1.000)\",\"line\":{\"width\":1}},\"y\":[174404.36420061032,176735.94461930104,172095.5202597926,169260.09257229272],\"type\":\"bar\",\"width\":0.8}], {\"showlegend\":true,\"xaxis\":{\"showticklabels\":true,\"gridwidth\":0.5,\"tickvals\":[0.5,1.5,2.5,3.5],\"visible\":true,\"ticks\":\"inside\",\"range\":[0.09999999999999998,3.9],\"domain\":[0.09545056867891513,0.9934383202099738],\"tickmode\":\"array\",\"linecolor\":\"rgba(0, 0, 0, 1.000)\",\"showgrid\":true,\"title\":\"\",\"mirror\":false,\"tickangle\":0,\"showline\":true,\"gridcolor\":\"rgba(0, 0, 0, 0.100)\",\"titlefont\":{\"color\":\"rgba(0, 0, 0, 1.000)\",\"family\":\"sans-serif\",\"size\":15},\"tickcolor\":\"rgb(0, 0, 0)\",\"ticktext\":[\"benchmark\",\"fully covered\",\"laissez-faire\",\"ceiling\"],\"zeroline\":false,\"type\":\"-\",\"tickfont\":{\"color\":\"rgba(0, 0, 0, 1.000)\",\"family\":\"sans-serif\",\"size\":11},\"zerolinecolor\":\"rgba(0, 0, 0, 1.000)\",\"anchor\":\"y\"},\"paper_bgcolor\":\"rgba(255, 255, 255, 1.000)\",\"annotations\":[{\"yanchor\":\"top\",\"xanchor\":\"center\",\"rotation\":-0.0,\"y\":1.0,\"font\":{\"color\":\"rgba(0, 0, 0, 1.000)\",\"family\":\"sans-serif\",\"size\":20},\"yref\":\"paper\",\"showarrow\":false,\"text\":\"gdp\",\"xref\":\"paper\",\"x\":0.5444444444444446}],\"height\":400,\"margin\":{\"l\":0,\"b\":20,\"r\":0,\"t\":20},\"plot_bgcolor\":\"rgba(255, 255, 255, 1.000)\",\"yaxis\":{\"showticklabels\":true,\"gridwidth\":0.5,\"tickvals\":[0.0,50000.0,100000.0,150000.0],\"visible\":true,\"ticks\":\"inside\",\"range\":[0.0,176735.94461930104],\"domain\":[0.03762029746281716,0.9415463692038496],\"tickmode\":\"array\",\"linecolor\":\"rgba(0, 0, 0, 1.000)\",\"showgrid\":true,\"title\":\"\",\"mirror\":false,\"tickangle\":0,\"showline\":true,\"gridcolor\":\"rgba(0, 0, 0, 0.100)\",\"titlefont\":{\"color\":\"rgba(0, 0, 0, 1.000)\",\"family\":\"sans-serif\",\"size\":15},\"tickcolor\":\"rgb(0, 0, 0)\",\"ticktext\":[\"0\",\"50000\",\"100000\",\"150000\"],\"zeroline\":false,\"type\":\"-\",\"tickfont\":{\"color\":\"rgba(0, 0, 0, 1.000)\",\"family\":\"sans-serif\",\"size\":11},\"zerolinecolor\":\"rgba(0, 0, 0, 1.000)\",\"anchor\":\"x\"},\"legend\":{\"bordercolor\":\"rgba(0, 0, 0, 1.000)\",\"bgcolor\":\"rgba(255, 255, 255, 1.000)\",\"font\":{\"color\":\"rgba(0, 0, 0, 1.000)\",\"family\":\"sans-serif\",\"size\":11},\"y\":1.0,\"x\":1.0},\"width\":600});\n",
       "    </script>\n"
      ]
     },
     "execution_count": 131,
     "metadata": {},
     "output_type": "execute_result"
    }
   ],
   "source": [
    "bar(results[:name], results[:gdp], title = \"gdp\")"
   ]
  },
  {
   "cell_type": "code",
   "execution_count": 132,
   "metadata": {
    "slideshow": {
     "slide_type": "slide"
    }
   },
   "outputs": [
    {
     "data": {
      "text/html": [
       "<script src=\"file:///Users/a14880/.julia/v0.6/Plots/src/backends/../../deps/plotly-latest.min.js\"></script>    <div id=\"abb9e218-561c-49a9-ab41-df140dbff568\" style=\"width:600px;height:400px;\"></div>\n",
       "    <script>\n",
       "    PLOT = document.getElementById('abb9e218-561c-49a9-ab41-df140dbff568');\n",
       "    Plotly.plot(PLOT, [{\"xaxis\":\"x\",\"colorbar\":{\"title\":\"\"},\"yaxis\":\"y\",\"orientation\":\"v\",\"x\":[0.5,1.5,2.5,3.5],\"showlegend\":true,\"name\":\"y1\",\"marker\":{\"color\":\"rgba(0, 154, 250, 1.000)\",\"line\":{\"width\":1}},\"y\":[174404.36420061032,176735.94461930104,172095.5202597926,169260.09257229272],\"type\":\"bar\",\"width\":0.8}], {\"showlegend\":true,\"xaxis\":{\"showticklabels\":true,\"gridwidth\":0.5,\"tickvals\":[0.5,1.5,2.5,3.5],\"visible\":true,\"ticks\":\"inside\",\"range\":[0.09999999999999998,3.9],\"domain\":[0.09545056867891513,0.9934383202099738],\"tickmode\":\"array\",\"linecolor\":\"rgba(0, 0, 0, 1.000)\",\"showgrid\":true,\"title\":\"\",\"mirror\":false,\"tickangle\":0,\"showline\":true,\"gridcolor\":\"rgba(0, 0, 0, 0.100)\",\"titlefont\":{\"color\":\"rgba(0, 0, 0, 1.000)\",\"family\":\"sans-serif\",\"size\":15},\"tickcolor\":\"rgb(0, 0, 0)\",\"ticktext\":[\"benchmark\",\"fully covered\",\"laissez-faire\",\"ceiling\"],\"zeroline\":false,\"type\":\"-\",\"tickfont\":{\"color\":\"rgba(0, 0, 0, 1.000)\",\"family\":\"sans-serif\",\"size\":11},\"zerolinecolor\":\"rgba(0, 0, 0, 1.000)\",\"anchor\":\"y\"},\"paper_bgcolor\":\"rgba(255, 255, 255, 1.000)\",\"annotations\":[{\"yanchor\":\"top\",\"xanchor\":\"center\",\"rotation\":-0.0,\"y\":1.0,\"font\":{\"color\":\"rgba(0, 0, 0, 1.000)\",\"family\":\"sans-serif\",\"size\":20},\"yref\":\"paper\",\"showarrow\":false,\"text\":\"labor suppluy\",\"xref\":\"paper\",\"x\":0.5444444444444446}],\"height\":400,\"margin\":{\"l\":0,\"b\":20,\"r\":0,\"t\":20},\"plot_bgcolor\":\"rgba(255, 255, 255, 1.000)\",\"yaxis\":{\"showticklabels\":true,\"gridwidth\":0.5,\"tickvals\":[0.0,50000.0,100000.0,150000.0],\"visible\":true,\"ticks\":\"inside\",\"range\":[0.0,176735.94461930104],\"domain\":[0.03762029746281716,0.9415463692038496],\"tickmode\":\"array\",\"linecolor\":\"rgba(0, 0, 0, 1.000)\",\"showgrid\":true,\"title\":\"\",\"mirror\":false,\"tickangle\":0,\"showline\":true,\"gridcolor\":\"rgba(0, 0, 0, 0.100)\",\"titlefont\":{\"color\":\"rgba(0, 0, 0, 1.000)\",\"family\":\"sans-serif\",\"size\":15},\"tickcolor\":\"rgb(0, 0, 0)\",\"ticktext\":[\"0\",\"50000\",\"100000\",\"150000\"],\"zeroline\":false,\"type\":\"-\",\"tickfont\":{\"color\":\"rgba(0, 0, 0, 1.000)\",\"family\":\"sans-serif\",\"size\":11},\"zerolinecolor\":\"rgba(0, 0, 0, 1.000)\",\"anchor\":\"x\"},\"legend\":{\"bordercolor\":\"rgba(0, 0, 0, 1.000)\",\"bgcolor\":\"rgba(255, 255, 255, 1.000)\",\"font\":{\"color\":\"rgba(0, 0, 0, 1.000)\",\"family\":\"sans-serif\",\"size\":11},\"y\":1.0,\"x\":1.0},\"width\":600});\n",
       "    </script>\n"
      ]
     },
     "execution_count": 132,
     "metadata": {},
     "output_type": "execute_result"
    }
   ],
   "source": [
    "bar(results[:name], results[:gdp], title = \"labor suppluy\")"
   ]
  },
  {
   "cell_type": "markdown",
   "metadata": {
    "collapsed": true,
    "slideshow": {
     "slide_type": "slide"
    }
   },
   "source": [
    "## Lots to be done"
   ]
  },
  {
   "cell_type": "markdown",
   "metadata": {},
   "source": [
    "* transition matrix should be estimated from real data (micro-data, survey data)\n",
    "* finer period structure\n",
    "* health status\n",
    "* leave for informal care (*kaigo rishoku*)\n",
    "    * my model assume every firm is very generous about *flex-time*\n",
    "* collaborator is more than welcome!\n"
   ]
  },
  {
   "cell_type": "code",
   "execution_count": null,
   "metadata": {
    "collapsed": true
   },
   "outputs": [],
   "source": []
  }
 ],
 "metadata": {
  "celltoolbar": "Slideshow",
  "kernelspec": {
   "display_name": "Julia 0.6.0",
   "language": "julia",
   "name": "julia-0.6"
  },
  "language_info": {
   "file_extension": ".jl",
   "mimetype": "application/julia",
   "name": "julia",
   "version": "0.6.0"
  }
 },
 "nbformat": 4,
 "nbformat_minor": 2
}
