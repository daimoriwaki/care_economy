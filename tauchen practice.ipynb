{
 "cells": [
  {
   "cell_type": "code",
   "execution_count": 1,
   "metadata": {
    "collapsed": true
   },
   "outputs": [],
   "source": [
    "using QuantEcon"
   ]
  },
  {
   "cell_type": "code",
   "execution_count": 2,
   "metadata": {},
   "outputs": [
    {
     "data": {
      "text/plain": [
       "Discrete Markov Chain\n",
       "stochastic matrix of type Array{Float64,2}:\n",
       "[0.568306 0.402494 … 0.0 0.0; 0.0843343 0.550289 … 0.0 0.0; … ; 7.19732e-27 1.82284e-19 … 0.550289 0.0843343; 1.27064e-34 4.51691e-26 … 0.402494 0.568306]"
      ]
     },
     "execution_count": 2,
     "metadata": {},
     "output_type": "execute_result"
    }
   ],
   "source": [
    "wagemc = tauchen(9, 0.9, 0.1, 0, 3)"
   ]
  },
  {
   "cell_type": "code",
   "execution_count": 3,
   "metadata": {},
   "outputs": [
    {
     "data": {
      "text/plain": [
       "9×9 Array{Float64,2}:\n",
       " 0.568306     0.402494     0.0290491    …  0.0          0.0        \n",
       " 0.0843343    0.550289     0.345903        0.0          0.0        \n",
       " 0.001722     0.112489     0.582926        6.88338e-14  0.0        \n",
       " 3.84556e-6   0.00294885   0.147997        2.45635e-9   1.85407e-14\n",
       " 8.60507e-10  8.47971e-6   0.00491829      8.47971e-6   8.60507e-10\n",
       " 1.85582e-14  2.45635e-9   1.81765e-5   …  0.00294885   3.84556e-6 \n",
       " 3.78141e-20  6.87841e-14  6.8123e-9       0.112489     0.001722   \n",
       " 7.19732e-27  1.82284e-19  2.47626e-13     0.550289     0.0843343  \n",
       " 1.27064e-34  4.51691e-26  8.53367e-19     0.402494     0.568306   "
      ]
     },
     "execution_count": 3,
     "metadata": {},
     "output_type": "execute_result"
    }
   ],
   "source": [
    "wagemc.p"
   ]
  },
  {
   "cell_type": "code",
   "execution_count": 4,
   "metadata": {},
   "outputs": [
    {
     "data": {
      "text/plain": [
       "9-element LinSpace{Float64}:\n",
       " -0.688247,-0.516185,-0.344124,-0.172062,…,0.172062,0.344124,0.516185,0.688247"
      ]
     },
     "execution_count": 4,
     "metadata": {},
     "output_type": "execute_result"
    }
   ],
   "source": [
    "wagemc.state_values"
   ]
  },
  {
   "cell_type": "code",
   "execution_count": null,
   "metadata": {
    "collapsed": true
   },
   "outputs": [],
   "source": []
  },
  {
   "cell_type": "code",
   "execution_count": 5,
   "metadata": {},
   "outputs": [
    {
     "data": {
      "text/plain": [
       "9-element Array{Float64,1}:\n",
       " 0.502456\n",
       " 0.596793\n",
       " 0.708841\n",
       " 0.841927\n",
       " 1.0     \n",
       " 1.18775 \n",
       " 1.41075 \n",
       " 1.67562 \n",
       " 1.99022 "
      ]
     },
     "execution_count": 5,
     "metadata": {},
     "output_type": "execute_result"
    }
   ],
   "source": [
    "exp(wagemc.state_values)"
   ]
  },
  {
   "cell_type": "code",
   "execution_count": null,
   "metadata": {
    "collapsed": true
   },
   "outputs": [],
   "source": []
  }
 ],
 "metadata": {
  "kernelspec": {
   "display_name": "Julia 0.5.2",
   "language": "julia",
   "name": "julia-0.5"
  },
  "language_info": {
   "file_extension": ".jl",
   "mimetype": "application/julia",
   "name": "julia",
   "version": "0.5.2"
  }
 },
 "nbformat": 4,
 "nbformat_minor": 2
}
