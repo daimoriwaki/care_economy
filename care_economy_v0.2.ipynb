{
 "cells": [
  {
   "cell_type": "markdown",
   "metadata": {
    "slideshow": {
     "slide_type": "slide"
    }
   },
   "source": [
    "# Effect of Informal Care on Labor Supply: A Macroeconomic Perspective\n",
    "\n",
    "## 2018.3.12 ICES, Hosei University\n",
    "\n",
    "### Daisuke Moriwaki\n",
    "\n",
    "Cyberagent, Inc., AI Lab        \n",
    "Keio University, School of Medicine\n",
    "<daisuke.moriwaki@gmail.com>   github: daimoriwaki"
   ]
  },
  {
   "cell_type": "code",
   "execution_count": 1,
   "metadata": {
    "collapsed": true
   },
   "outputs": [],
   "source": [
    "using QuantEcon\n",
    "using Plots\n",
    "using Interpolations\n",
    "using Distributions"
   ]
  },
  {
   "cell_type": "markdown",
   "metadata": {
    "slideshow": {
     "slide_type": "slide"
    }
   },
   "source": [
    "# Motivation\n",
    "* In 2017, it is reported taht there is 6 million care revievers in Japan by MLHW. The number is expected to increase as the baby boomers, or Dankai generations become \"late elderly\".\n",
    "* It is unclear whether the Japanese LTCI system is sustanable in the sense of financially, which has been pointed out by several researchers.\n",
    "* More importantly, the impact of care needs on economy itself (oppose to accountant's view) should be studied.\n"
   ]
  },
  {
   "cell_type": "markdown",
   "metadata": {
    "slideshow": {
     "slide_type": "slide"
    }
   },
   "source": [
    "* It is easy to predict that \"caregiver ratio\" (the number of caregivers per one care receiver) explodes in the near future.\n",
    "* Aside from the financial sustainability, the explosion of caregiver ratio cause several problems\n",
    "    * insufficient care for elderly (insufficient availability of cheap nursing home, *tokuyou*)\n",
    "    * Poverty due to care-leave for frail older family\n",
    "    * *Economy itself* due to less labor supply\n",
    "* Such a wide range of problem should be tackled by macroeconomic model rather than causal analysis."
   ]
  },
  {
   "cell_type": "markdown",
   "metadata": {},
   "source": [
    "# Summary of Results\n",
    "* ..."
   ]
  },
  {
   "cell_type": "markdown",
   "metadata": {},
   "source": [
    "# Literature\n",
    "\n",
    "* Briefly survery several work in the labor and macro fields.\n"
   ]
  },
  {
   "cell_type": "markdown",
   "metadata": {
    "slideshow": {
     "slide_type": "slide"
    }
   },
   "source": [
    "\n",
    "## Labor supply and informal care (causal studies)\n",
    "\n",
    "* moriwaki (2015, mimeo) finds negative effect from informal care only for male.\n",
    "* Nishimura\n",
    "* "
   ]
  },
  {
   "cell_type": "markdown",
   "metadata": {},
   "source": [
    "## Care and Macro economy\n",
    "* \n"
   ]
  },
  {
   "cell_type": "markdown",
   "metadata": {},
   "source": [
    "\n",
    "\n",
    "## Sustainability due to aging population in Japan\n",
    "* Kitao\n"
   ]
  },
  {
   "cell_type": "markdown",
   "metadata": {},
   "source": [
    "\n",
    "\n",
    "## Complex heterogeneous agent model concerned with social security programs\n",
    "* Li (EER, 2018)"
   ]
  },
  {
   "cell_type": "markdown",
   "metadata": {
    "slideshow": {
     "slide_type": "slide"
    }
   },
   "source": [
    "# Set up *\"Care Economy\"*"
   ]
  },
  {
   "cell_type": "code",
   "execution_count": 66,
   "metadata": {
    "collapsed": true
   },
   "outputs": [],
   "source": [
    "# various settings\n",
    "\n",
    "r = 0.01; # interest rate\n",
    "tau = 0.1; # income tax\n",
    "beta = 0.9; # discount rate\n",
    "chi = 0.4; # share of leisure in util\n",
    "sigma = 0.28; # intertemporal substitution\n",
    "rep_rate = 0.5; # replacement rate\n",
    "NH_rate = 0.9; # government formal care provision rate. ratio to needed care\n",
    "wage_care = 0.7; # care workers' wage rate. ratio to all industry\n",
    "retirement_age = 3; # age when household can take up pension\n",
    "\n",
    "# maximize value for middle given asset, wage and informal care\n",
    "# row is new_asset x leisure\n",
    "# column is wage x h_H x asset\n",
    "\n",
    "min_asset = 0;\n",
    "max_asset = 10;\n",
    "min_wage = 0;\n",
    "max_wage = 10;\n",
    "min_h_H =0;\n",
    "max_h_H = 1;\n",
    "num_grid = 9; #9\n",
    "min_l = 0;\n",
    "max_l = 1;\n",
    "asset_grid = linspace(min_asset, max_asset, num_grid);\n",
    "l_grid = linspace(min_l, max_l, num_grid);"
   ]
  },
  {
   "cell_type": "markdown",
   "metadata": {},
   "source": [
    "# Demography\n",
    "* 3 periods: young, middle, and old\n",
    "    * young: work in the market and consume goods and leisure.Save for the future 22-44\n",
    "    * middle: work both in the market and home. consume goods and leisure. Save for the future. No mortality risk. 45-64\n",
    "    * old: no work in both market and home. Those with bad health receive care either in public nursing home or at home. Mortality risk is present. 65+\n",
    "* Consider 3 states: now (old is less than middle and young), 10 years later (old is more than middle and young), 20 years later (old is much more than young and middle)"
   ]
  },
  {
   "cell_type": "markdown",
   "metadata": {
    "slideshow": {
     "slide_type": "slide"
    }
   },
   "source": [
    "## Household\n",
    "\n",
    "* The model economy is populated by many households. \n",
    "    * You may imagine either single households without gender and unknown re-production technique or many households with couples and kids where income, assets, health, and time endowment is shared. \n",
    "    * More realistic modelling is listed as future study\n",
    "* wage rate is exogenous to the agent. Given wage rate, labor supply is endogeneous.\n",
    "* No negative saving is allowed (consider whether we can borrow without collateral)."
   ]
  },
  {
   "cell_type": "markdown",
   "metadata": {
    "slideshow": {
     "slide_type": "slide"
    }
   },
   "source": [
    "## Care in detail\n",
    "* In this economy, every middle-aged households face the risk of becoming care giver.\n",
    "* In the beginning of the period, the health status of all households is assigned. \n",
    "* Then the total *care needs* is determined. \n",
    "* The government determine how much care to provide, which is sometimes insufficient. That deliniates reality in Japan (there are 360,000 people on the waiting list).\n",
    "* Unmet care needs is distributed to potential care givers (*middle*). No state dependency. Imagine that you might become a informal care giver for your uncle, spouse's siblings and so on as well as your own genetic parents and spouse. Unexpectable.\n",
    "* This scenario totally igonres the positive utility from care-giving. But there are lots of tragedies associated with informal care."
   ]
  },
  {
   "cell_type": "markdown",
   "metadata": {
    "slideshow": {
     "slide_type": "slide"
    }
   },
   "source": [
    "## Preference\n",
    "* simple and general utility function. e.g. Yue (2018, EER)"
   ]
  },
  {
   "cell_type": "code",
   "execution_count": 67,
   "metadata": {},
   "outputs": [
    {
     "name": "stderr",
     "output_type": "stream",
     "text": [
      "WARNING: Method definition utility(Real, Real) in module Main at In[65]:2 overwritten at In[67]:2.\n",
      "WARNING: Method definition utility(Real, Real, Real) in module Main at In[65]:2 overwritten at In[67]:2.\n",
      "WARNING: Method definition utility(Real, Real, Real, Real) in module Main at In[65]:2 overwritten at In[67]:2.\n"
     ]
    },
    {
     "data": {
      "text/plain": [
       "utility (generic function with 3 methods)"
      ]
     },
     "execution_count": 67,
     "metadata": {},
     "output_type": "execute_result"
    }
   ],
   "source": [
    "function utility(consumption::Real, leisure::Real,chi::Real = chi, sigma::Real = sigma) \n",
    "    if c <= 0 | l <= 0\n",
    "        return -1000\n",
    "    else\n",
    "        return ((c^(1-chi)*(l^chi))^(1-sigma))/(1 - sigma)\n",
    "    end\n",
    "end"
   ]
  },
  {
   "cell_type": "markdown",
   "metadata": {
    "slideshow": {
     "slide_type": "slide"
    }
   },
   "source": [
    "## consumption\n",
    "* consumption is deterimined by assets, income and saving\n",
    "* there is a social assistence for the poor"
   ]
  },
  {
   "cell_type": "code",
   "execution_count": 68,
   "metadata": {
    "slideshow": {
     "slide_type": "subslide"
    }
   },
   "outputs": [
    {
     "name": "stderr",
     "output_type": "stream",
     "text": [
      "WARNING: Method definition consumption(Real, Real, Real, Real) in module Main at In[57]:2 overwritten at In[68]:2.\n"
     ]
    },
    {
     "data": {
      "text/plain": [
       "consumption (generic function with 1 method)"
      ]
     },
     "execution_count": 68,
     "metadata": {},
     "output_type": "execute_result"
    }
   ],
   "source": [
    "function consumption(asset_new::Real, income::Real, asset::Real, r::Real)\n",
    "    (1 + r)*asset + income - asset_new # allow negative consumption\n",
    "end"
   ]
  },
  {
   "cell_type": "markdown",
   "metadata": {
    "slideshow": {
     "slide_type": "slide"
    }
   },
   "source": [
    "## income\n",
    "* income is determined by hourking hour in market and tax\n"
   ]
  },
  {
   "cell_type": "code",
   "execution_count": 69,
   "metadata": {
    "slideshow": {
     "slide_type": "subslide"
    }
   },
   "outputs": [
    {
     "name": "stderr",
     "output_type": "stream",
     "text": [
      "WARNING: Method definition income(Real, Real, Real, Real) in module Main at In[58]:2 overwritten at In[69]:2.\n",
      "WARNING: Method definition income(Real, Real, Real, Real, Real) in module Main at In[58]:2 overwritten at In[69]:2.\n"
     ]
    },
    {
     "data": {
      "text/plain": [
       "income (generic function with 2 methods)"
      ]
     },
     "execution_count": 69,
     "metadata": {},
     "output_type": "execute_result"
    }
   ],
   "source": [
    "function income(hour_home::Real, leisure::Real, pension::Real, wage::Real, tau::Real = tau)\n",
    "    (1 - tau)*(wage*(1 - leisure - hour_home) + pension)\n",
    "end"
   ]
  },
  {
   "cell_type": "markdown",
   "metadata": {
    "slideshow": {
     "slide_type": "slide"
    }
   },
   "source": [
    "## pension\n",
    "* pension is taken up by old.\n",
    "* the level of benefit is determined by wage history and replacement rate"
   ]
  },
  {
   "cell_type": "code",
   "execution_count": 70,
   "metadata": {
    "slideshow": {
     "slide_type": "subslide"
    }
   },
   "outputs": [
    {
     "name": "stderr",
     "output_type": "stream",
     "text": [
      "WARNING: Method definition calc_pension(Int32, Array{Real, 1}) in module Main at In[59]:3 overwritten at In[70]:3.\n",
      "WARNING: Method definition calc_pension(Int32, Array{Real, 1}, Real) in module Main at In[59]:3 overwritten at In[70]:3.\n",
      "WARNING: Method definition calc_pension(Int32, Array{Real, 1}, Real, Int32) in module Main at In[59]:3 overwritten at In[70]:3.\n",
      "\u001b[1m\u001b[31mWARNING: replacing docs for 'calc_pension :: Union{Tuple{Int32,Array{Real,1},Real,Int32},Tuple{Int32,Array{Real,1},Real},Tuple{Int32,Array{Real,1}}}' in module 'Main'.\u001b[0m\n"
     ]
    },
    {
     "data": {
      "text/plain": [
       "calc_pension"
      ]
     },
     "execution_count": 70,
     "metadata": {},
     "output_type": "execute_result"
    }
   ],
   "source": [
    "\"calculate pension 0 for before retirement age\"\n",
    "function calc_pension(age::Int32, wage_history::Array{Real, 1}, rep_rate::Real = rep_rate, retirement_age::Int32 = retirement_age)\n",
    "    if age >= retirement_age\n",
    "        return rep_rate*mean(wage_history)\n",
    "    else\n",
    "        return 0\n",
    "    end\n",
    "end"
   ]
  },
  {
   "cell_type": "markdown",
   "metadata": {
    "slideshow": {
     "slide_type": "slide"
    }
   },
   "source": [
    "## wage\n",
    "* wage evolves according to $w_{i,t} = \\mu + \\rho w_{i, t-1} + \\epsilon_{t}$. \n",
    "* need to be complicated when finer horizon is embedded.\n",
    "* use tauchen method to generate transition matrix"
   ]
  },
  {
   "cell_type": "code",
   "execution_count": 71,
   "metadata": {
    "collapsed": true,
    "slideshow": {
     "slide_type": "subslide"
    }
   },
   "outputs": [],
   "source": [
    "# wage trainsition matrix\n",
    "\n",
    "rho = 0.9 # param for wage function\n",
    "sigma = 0.1# param for wage function standard deviation for epsilon\n",
    "mu = 0 # mean wage\n",
    "n_std = 9 # length of grid\n",
    "\n",
    "wage_markovchain = tauchen(num_grid, rho, sigma, mu, n_std);\n",
    "wage_trans_mat = wage_markovchain.p;\n",
    "wage_grid = exp(wage_markovchain.state_values);"
   ]
  },
  {
   "cell_type": "markdown",
   "metadata": {
    "slideshow": {
     "slide_type": "slide"
    }
   },
   "source": [
    "## Informal care\n",
    "* Middle-aged household is assigned care needs randomly.\n",
    "* The level of care is represented as required hour for care at home.\n",
    "* Once all the household draw the raw hour at home $h^H$, they are sum up as $\\sum_i h^H_i$\n",
    "* The total demand for care $D^H = \\sum_i I (h_i \\in (0,  0.1)$\n",
    "* The unmet care needs $D^{H, unmet} = D^H - NH$ is distributed out to proportionaly to $h^H$\n",
    "* Numerical excercise is done without empirical studies, which should be done in the future."
   ]
  },
  {
   "cell_type": "code",
   "execution_count": 72,
   "metadata": {},
   "outputs": [],
   "source": [
    "# hour at home transition matrix\n",
    "# calcurate probability at midpoint between each grid \n",
    "\n",
    "rho_hour_home = 0 # param for wage function\n",
    "sigma_hour_home = 1 # param for wage function standard deviation for epsilon\n",
    "mu_hour_home = - 4 # mean wage\n",
    "n_std = 4 # length of grid\n",
    "\n",
    "hour_home_markovchain = tauchen(num_grid, rho_hour_home, sigma_hour_home, mu_hour_home, n_std);\n",
    "hour_home_trans_mat = hour_home_markovchain.p;\n",
    "hour_home_grid = exp(hour_home_markovchain.state_values);\n",
    "\n",
    "# trancate at 0.9\n",
    "for i in 1:num_grid\n",
    "    if hour_home_grid[i] > 0.9\n",
    "        hour_home_grid[i] = 0.9\n",
    "    end\n",
    "end\n"
   ]
  },
  {
   "cell_type": "code",
   "execution_count": 73,
   "metadata": {},
   "outputs": [
    {
     "name": "stderr",
     "output_type": "stream",
     "text": [
      "WARNING: Method definition calc_hour_home(Real, Array{Real, 1}) in module Main at In[62]:4 overwritten at In[73]:4.\n",
      "WARNING: Method definition calc_hour_home(Real, Array{Real, 1}, Real) in module Main at In[62]:4 overwritten at In[73]:4.\n",
      "\u001b[1m\u001b[31mWARNING: replacing docs for 'calc_hour_home :: Union{Tuple{Real,Array{Real,1},Real},Tuple{Real,Array{Real,1}}}' in module 'Main'.\u001b[0m\n"
     ]
    },
    {
     "data": {
      "text/plain": [
       "calc_hour_home"
      ]
     },
     "execution_count": 73,
     "metadata": {},
     "output_type": "execute_result"
    }
   ],
   "source": [
    "# determine hour at home\n",
    "\"clculate unmet care and determine hour at home.\"\n",
    "function calc_hour_home(raw_hour_home::Real, health_mat_old::Array{Real, 1}, NH_rate::Real = NH_rate)\n",
    "    raw_hour_home*(1 - NH_rate)*count(i ->(0<=i<0.1), health_mat)\n",
    "end\n"
   ]
  },
  {
   "cell_type": "markdown",
   "metadata": {
    "slideshow": {
     "slide_type": "slide"
    }
   },
   "source": [
    "## labor supply\n",
    "* labor supply is endogeneous\n",
    "* young and middle household optimizes labor supply as well as consumption (saving) for given time endowment\n",
    "* time endowment is varying across agent due to informal care\n",
    "* From the first order condition $l = c(1 - \\tau)w \\frac{\\chi}{1 - \\chi}$"
   ]
  },
  {
   "cell_type": "code",
   "execution_count": 74,
   "metadata": {},
   "outputs": [
    {
     "name": "stderr",
     "output_type": "stream",
     "text": [
      "WARNING: Method definition calc_hour_mkt(Real, Real) in module Main at In[63]:2 overwritten at In[74]:2.\n"
     ]
    },
    {
     "data": {
      "text/plain": [
       "calc_hour_mkt (generic function with 1 method)"
      ]
     },
     "execution_count": 74,
     "metadata": {},
     "output_type": "execute_result"
    }
   ],
   "source": [
    "function calc_hour_mkt(leisure::Real, hour_home::Real)\n",
    "    1 - leisure - hour_home\n",
    "end"
   ]
  },
  {
   "cell_type": "markdown",
   "metadata": {
    "slideshow": {
     "slide_type": "slide"
    }
   },
   "source": [
    "## Government\n",
    "* government provide insufficient formal care funded by social security premium contributed by working age, which is resemble to Japanese LTCI\n",
    "* cost of formal care is determined by personal expenses of informal care worker"
   ]
  },
  {
   "cell_type": "markdown",
   "metadata": {
    "slideshow": {
     "slide_type": "slide"
    }
   },
   "source": [
    "# Quantitative Exercise"
   ]
  },
  {
   "cell_type": "markdown",
   "metadata": {
    "slideshow": {
     "slide_type": "slide"
    }
   },
   "source": [
    "## Solution\n",
    "* The model is solved (ideally) by method of simulated moment.\n",
    "* So far no calibration made\n",
    "* Optimization by households is done by backward induction."
   ]
  },
  {
   "cell_type": "markdown",
   "metadata": {},
   "source": [
    "## Value function\n",
    "* value function optimization $v_t = max_{c_t, l_t} (u(c_t, l_t) + \\beta \\mathbb{E}\\left( v_{t+1}(a_{t+1}) \\right))$ "
   ]
  },
  {
   "cell_type": "code",
   "execution_count": 75,
   "metadata": {},
   "outputs": [
    {
     "name": "stderr",
     "output_type": "stream",
     "text": [
      "WARNING: Method definition value_function(Int64, Real, Real) in module Main at In[64]:3 overwritten at In[75]:3.\n"
     ]
    },
    {
     "data": {
      "text/plain": [
       "value_function (generic function with 1 method)"
      ]
     },
     "execution_count": 75,
     "metadata": {},
     "output_type": "execute_result"
    }
   ],
   "source": [
    "# value function\n",
    "function value_function(age::Int, utility::Real, expected_value::Real)\n",
    "    utility + expected_value\n",
    "end"
   ]
  },
  {
   "cell_type": "code",
   "execution_count": null,
   "metadata": {
    "collapsed": true
   },
   "outputs": [],
   "source": []
  },
  {
   "cell_type": "code",
   "execution_count": 12,
   "metadata": {},
   "outputs": [
    {
     "data": {
      "text/plain": [
       "value_for_middle (generic function with 3 methods)"
      ]
     },
     "execution_count": 12,
     "metadata": {},
     "output_type": "execute_result"
    }
   ],
   "source": [
    "# caluculating value for middle\n",
    "# need calculaation for average wage\n",
    "function value_for_middle(a_new::Real, l::Real, a::Real, w::Real, h_H::Real, v_new::Real, tau::Real = tau, beta::Real = beta)\n",
    "    y = w*(1 - tau)*(1 - h_H - l)\n",
    "    #c = -100\n",
    "    c = (1 + r)*a + y - a_new\n",
    "    if c <= 0  || l <= 0 || 1 - h_H - l < 0\n",
    "        v = -100\n",
    "    else\n",
    "        v = util(c, l) + beta*v_new\n",
    "    end\n",
    "    return v, a_new, l, a, w, h_H, y, c\n",
    "end"
   ]
  },
  {
   "cell_type": "code",
   "execution_count": null,
   "metadata": {
    "collapsed": true
   },
   "outputs": [],
   "source": []
  },
  {
   "cell_type": "code",
   "execution_count": 13,
   "metadata": {},
   "outputs": [
    {
     "data": {
      "text/plain": [
       "generate_max_values_matrix (generic function with 6 methods)"
      ]
     },
     "execution_count": 13,
     "metadata": {},
     "output_type": "execute_result"
    }
   ],
   "source": [
    "# calculate value for each input and return maximum value for each\n",
    "# warinig: no interpolation embeded!\n",
    "function generate_max_values_matrix(value_function::Function, asset_grid::LinSpace = asset_grid, l_grid::LinSpace = l_grid, wage_grid::LinSpace = wage_grid, \n",
    "        h_H_grid::LinSpace = h_H_grid, num_grid::Int = num_grid)\n",
    "    # initializing matrices\n",
    "    value_matrix = zeros(num_grid^2, num_grid^3);\n",
    "    c_mat = zeros(num_grid^2, num_grid^3);\n",
    "    l_mat = zeros(num_grid^2, num_grid^3);\n",
    "    y_mat = zeros(num_grid^2, num_grid^3);\n",
    "    a_new_mat = ones(num_grid^2, num_grid^3);\n",
    "    w_mat = zeros(num_grid^2, num_grid^3);\n",
    "    a_mat = zeros(num_grid^2, num_grid^3);\n",
    "    h_H_mat = zeros(num_grid^2, num_grid^3);\n",
    "    for i = 1:num_grid\n",
    "        for j = 1:num_grid\n",
    "            for k = 1:num_grid\n",
    "                for m = 1:num_grid\n",
    "                    for n = 1:num_grid\n",
    "                        result = value_function(asset_grid[i], l_grid[j], asset_grid[k], wage_grid[m], h_H_grid[n])\n",
    "                        value_matrix[i + (j - 1)num_grid, k + (m - 1)num_grid + (n - 1)num_grid^2] = result[1]\n",
    "                        a_new_mat[i + (j - 1)num_grid, k + (m - 1)num_grid + (n - 1)num_grid^2] = result[2]\n",
    "                        l_mat[i + (j - 1)num_grid, k + (m - 1)num_grid + (n - 1)num_grid^2] = result[3]\n",
    "                        a_mat[i + (j - 1)num_grid, k + (m - 1)num_grid + (n - 1)num_grid^2] = result[4]\n",
    "                        w_mat[i + (j - 1)num_grid, k + (m - 1)num_grid + (n - 1)num_grid^2] = result[5]\n",
    "                        h_H_mat[i + (j - 1)num_grid, k + (m - 1)num_grid + (n - 1)num_grid^2] = result[6]\n",
    "                        y_mat[i + (j - 1)num_grid, k + (m - 1)num_grid + (n - 1)num_grid^2] = result[7]\n",
    "                        c_mat[i + (j - 1)num_grid, k + (m - 1)num_grid + (n - 1)num_grid^2]  = result[8]\n",
    "                    end\n",
    "                end\n",
    "            end\n",
    "        end\n",
    "    end\n",
    "    # get max value for each asset, wage, h_H. maximizing with respect to new asset and leisure\n",
    "    #max_value = maximum(value_matrix, 1)\n",
    "    max_value, max_ind = findmax(value_matrix, 1)\n",
    "    # reshape value matrix to asset_grid x (w x h_H)\n",
    "    # this should be fix throughout the imulation\n",
    "    max_values_reshaped = reshape(max_value, num_grid, num_grid^2);\n",
    "    return max_values_reshaped, max_ind, a_new_mat, l_mat, a_mat, w_mat, h_H_mat, y_mat, c_mat\n",
    "end\n"
   ]
  },
  {
   "cell_type": "code",
   "execution_count": 14,
   "metadata": {},
   "outputs": [
    {
     "ename": "LoadError",
     "evalue": "MethodError: no method matching generate_max_values_matrix(::#value_for_middle, ::LinSpace{Float64}, ::LinSpace{Float64}, ::Array{Float64,1})\u001b[0m\nClosest candidates are:\n  generate_max_values_matrix(::Function, ::LinSpace{T<:AbstractFloat}, ::LinSpace{T<:AbstractFloat}) at In[13]:6\n  generate_max_values_matrix(::Function, ::LinSpace{T<:AbstractFloat}, ::LinSpace{T<:AbstractFloat}, \u001b[1m\u001b[31m::LinSpace{T<:AbstractFloat}\u001b[0m) at In[13]:6\n  generate_max_values_matrix(::Function, ::LinSpace{T<:AbstractFloat}, ::LinSpace{T<:AbstractFloat}, \u001b[1m\u001b[31m::LinSpace{T<:AbstractFloat}\u001b[0m, \u001b[1m\u001b[31m::LinSpace{T<:AbstractFloat}\u001b[0m) at In[13]:6\n  ...\u001b[0m",
     "output_type": "error",
     "traceback": [
      "MethodError: no method matching generate_max_values_matrix(::#value_for_middle, ::LinSpace{Float64}, ::LinSpace{Float64}, ::Array{Float64,1})\u001b[0m\nClosest candidates are:\n  generate_max_values_matrix(::Function, ::LinSpace{T<:AbstractFloat}, ::LinSpace{T<:AbstractFloat}) at In[13]:6\n  generate_max_values_matrix(::Function, ::LinSpace{T<:AbstractFloat}, ::LinSpace{T<:AbstractFloat}, \u001b[1m\u001b[31m::LinSpace{T<:AbstractFloat}\u001b[0m) at In[13]:6\n  generate_max_values_matrix(::Function, ::LinSpace{T<:AbstractFloat}, ::LinSpace{T<:AbstractFloat}, \u001b[1m\u001b[31m::LinSpace{T<:AbstractFloat}\u001b[0m, \u001b[1m\u001b[31m::LinSpace{T<:AbstractFloat}\u001b[0m) at In[13]:6\n  ...\u001b[0m",
      "",
      " in generate_max_values_matrix(::Function, ::LinSpace{Float64}, ::LinSpace{Float64}) at ./In[13]:6 (repeats 3 times)",
      " in include_string(::String, ::String) at ./loading.jl:441"
     ]
    }
   ],
   "source": [
    "# get policy function for a_new, h_M (Labor supply), c, \n",
    "max_values_reshaped, max_ind, a_new_mat, l_mat, a_mat, w_mat, h_H_mat, y_mat, c_mat = generate_max_values_matrix(value_for_middle);\n",
    "# policy function for new asset\n",
    "a_new_pol_middle = a_new_mat[max_ind]\n",
    "# policy function for labor supply\n",
    "l_pol_middle = l_mat[max_ind]\n",
    "h_M_pol_middle = 1 - l_pol_middle - reshape(h_H_mat[1, :], 1, num_grid^3)\n",
    "c_pol_middle = c_mat[max_ind]\n",
    "# policy function for new asset\n",
    "#a_new_pol = a_new_mat[max_ind]\n",
    "# policy function for new asset\n",
    "#a_new_pol = a_new_mat[max_ind]\n"
   ]
  },
  {
   "cell_type": "code",
   "execution_count": 15,
   "metadata": {},
   "outputs": [
    {
     "ename": "LoadError",
     "evalue": "UndefVarError: c_pol_middle not defined",
     "output_type": "error",
     "traceback": [
      "UndefVarError: c_pol_middle not defined",
      "",
      " in include_string(::String, ::String) at ./loading.jl:441"
     ]
    }
   ],
   "source": [
    "plot(reshape(c_pol_middle, 729, 1))\n",
    "#plot(hcat(reshape(w_mat[1,:], 729,1), reshape(l_pol_middle, 729, 1)))"
   ]
  },
  {
   "cell_type": "code",
   "execution_count": 16,
   "metadata": {},
   "outputs": [
    {
     "data": {
      "text/plain": [
       "get_float_index"
      ]
     },
     "execution_count": 16,
     "metadata": {},
     "output_type": "execute_result"
    }
   ],
   "source": [
    "# need to be removed after get_value_for_middle_with_uncertainty is modified.\n",
    "\n",
    "\"get index for a value between grid point\"\n",
    "function get_float_index(x::Real, grid::LinSpace, num_grid::Int = num_grid)\n",
    "# get floating index from asset grid for given scalar asset level\n",
    "    if x < grid[1]\n",
    "        return 1\n",
    "    end\n",
    "    if x> grid[num_grid]       \n",
    "        return num_grid\n",
    "    end\n",
    "    for i = 1:num_grid\n",
    "        if x >= grid[i]\n",
    "            return i + (x - grid[i])/(grid[i+1] - grid[i])\n",
    "        end\n",
    "    end\n",
    "end"
   ]
  },
  {
   "cell_type": "code",
   "execution_count": 17,
   "metadata": {},
   "outputs": [
    {
     "ename": "LoadError",
     "evalue": "MethodError: no method matching generate_max_values_matrix(::#value_for_middle, ::LinSpace{Float64}, ::LinSpace{Float64}, ::Array{Float64,1})\u001b[0m\nClosest candidates are:\n  generate_max_values_matrix(::Function, ::LinSpace{T<:AbstractFloat}, ::LinSpace{T<:AbstractFloat}) at In[13]:6\n  generate_max_values_matrix(::Function, ::LinSpace{T<:AbstractFloat}, ::LinSpace{T<:AbstractFloat}, \u001b[1m\u001b[31m::LinSpace{T<:AbstractFloat}\u001b[0m) at In[13]:6\n  generate_max_values_matrix(::Function, ::LinSpace{T<:AbstractFloat}, ::LinSpace{T<:AbstractFloat}, \u001b[1m\u001b[31m::LinSpace{T<:AbstractFloat}\u001b[0m, \u001b[1m\u001b[31m::LinSpace{T<:AbstractFloat}\u001b[0m) at In[13]:6\n  ...\u001b[0m",
     "output_type": "error",
     "traceback": [
      "MethodError: no method matching generate_max_values_matrix(::#value_for_middle, ::LinSpace{Float64}, ::LinSpace{Float64}, ::Array{Float64,1})\u001b[0m\nClosest candidates are:\n  generate_max_values_matrix(::Function, ::LinSpace{T<:AbstractFloat}, ::LinSpace{T<:AbstractFloat}) at In[13]:6\n  generate_max_values_matrix(::Function, ::LinSpace{T<:AbstractFloat}, ::LinSpace{T<:AbstractFloat}, \u001b[1m\u001b[31m::LinSpace{T<:AbstractFloat}\u001b[0m) at In[13]:6\n  generate_max_values_matrix(::Function, ::LinSpace{T<:AbstractFloat}, ::LinSpace{T<:AbstractFloat}, \u001b[1m\u001b[31m::LinSpace{T<:AbstractFloat}\u001b[0m, \u001b[1m\u001b[31m::LinSpace{T<:AbstractFloat}\u001b[0m) at In[13]:6\n  ...\u001b[0m",
      "",
      " in generate_max_values_matrix(::Function, ::LinSpace{Float64}, ::LinSpace{Float64}) at ./In[13]:6 (repeats 3 times)",
      " in include_string(::String, ::String) at ./loading.jl:441"
     ]
    }
   ],
   "source": [
    "max_values_matrix = generate_max_values_matrix(value_for_middle)[1]"
   ]
  },
  {
   "cell_type": "code",
   "execution_count": 18,
   "metadata": {},
   "outputs": [
    {
     "data": {
      "text/plain": [
       "get_value_for_middle_with_uncertainty (generic function with 3 methods)"
      ]
     },
     "execution_count": 18,
     "metadata": {},
     "output_type": "execute_result"
    }
   ],
   "source": [
    "############ need refactoring. interpolate accept \"gridded\" interpolation that replace get_float_index function!!!!!!!!!!!!!!!!!\n",
    "\n",
    "# interpolation for a (new asset for young, asset in the last period for middle)\n",
    "# get a = a_new and return value for middle with uncertainty\n",
    "function get_value_for_middle_with_uncertainty(a_new::Real, asset_grid::LinSpace = asset_grid, max_values_matrix = max_values_matrix)\n",
    "    v = zeros(num_grid^2, 1)\n",
    "    a_new_ind = get_float_index(a_new, asset_grid) # get index of asset level in asset grid\n",
    "    for i = 1:size(max_values_matrix, 2)\n",
    "        itp = interpolate(max_values_matrix[:,i],BSpline(Linear()), OnGrid())\n",
    "        v[i] = itp[a_new_ind]\n",
    "    end\n",
    "    return v\n",
    "end"
   ]
  },
  {
   "cell_type": "code",
   "execution_count": 19,
   "metadata": {
    "collapsed": true
   },
   "outputs": [],
   "source": [
    "#plotly()\n",
    "#plot(value_for_middle_mat[:, 30])\n",
    "#plot(reshape(max_values, num_grid^3, 1))\n",
    "#plot(max_values_reshaped)\n"
   ]
  },
  {
   "cell_type": "markdown",
   "metadata": {},
   "source": [
    "## Distribution \n",
    "* assign probability distributions for wage and care need to each bin arbitrary\n",
    "* wage follows lognormal, care need follow gamma distribution"
   ]
  },
  {
   "cell_type": "code",
   "execution_count": 20,
   "metadata": {},
   "outputs": [
    {
     "data": {
      "text/plain": [
       "get_Q (generic function with 2 methods)"
      ]
     },
     "execution_count": 20,
     "metadata": {},
     "output_type": "execute_result"
    }
   ],
   "source": [
    "# generate probability distribution for w and h_H\n",
    "# wage is distributed according to Gauss\n",
    "\n",
    "\n",
    "# calcurate probability at midpoint between each grid \n",
    "function get_Q(dist, grid::LinSpace, num_grid::Int=num_grid)\n",
    "    Q = zeros(num_grid, 1)\n",
    "    for i in 1:num_grid\n",
    "        if i == 1\n",
    "            Q[i] = cdf(dist, (grid[i] + grid[i + 1])/2)\n",
    "        end\n",
    "        if i == num_grid\n",
    "            Q[i] = 1 - cdf(dist, (grid[i - 1] + grid[i])/2) \n",
    "        end\n",
    "        if i > 1 && i < num_grid\n",
    "            Q[i] = cdf(dist, (grid[i] + grid[i + 1])/2) - cdf(dist, (grid[i - 1] + grid[i])/2)\n",
    "        end\n",
    "    end\n",
    "    return Q\n",
    "end\n",
    "\n"
   ]
  },
  {
   "cell_type": "code",
   "execution_count": 21,
   "metadata": {},
   "outputs": [
    {
     "ename": "LoadError",
     "evalue": "UndefVarError: h_H_grid not defined",
     "output_type": "error",
     "traceback": [
      "UndefVarError: h_H_grid not defined",
      "",
      " in include_string(::String, ::String) at ./loading.jl:441"
     ]
    }
   ],
   "source": [
    "w_dist = LogNormal(0.5, 0.5)\n",
    "h_H_dist = Gamma(0.6, 0.1) # Gamma(0.5, 0.1)\n",
    "\n",
    "# generate Q\n",
    "Q_h_H = get_Q(h_H_dist, h_H_grid);\n",
    "Q_w = get_Q(w_dist, wage_grid);\n",
    "Q = kron(Q_w, Q_h_H);"
   ]
  },
  {
   "cell_type": "code",
   "execution_count": 22,
   "metadata": {},
   "outputs": [
    {
     "data": {
      "text/plain": [
       "value_for_young (generic function with 8 methods)"
      ]
     },
     "execution_count": 22,
     "metadata": {},
     "output_type": "execute_result"
    }
   ],
   "source": [
    "# calculating value for young\n",
    "function value_for_young(a_new::Real, l::Real, w::Real, Q::Array{Float64, 2}=Q, max_values_matrix::Array{Real, 2}=max_values_matrix, a::Real = 0, h_H::Real = 0, asset_grid::LinSpace = asset_grid, tau::Real = tau, beta::Real = beta)\n",
    "    y = w*(1 - tau)*(1 - h_H - l)\n",
    "    #c = -100\n",
    "    c = (1 + r)*a + y - a_new\n",
    "    if l < 0 || c < 0 || h_H + l > 1 || h_H + l < 0\n",
    "        v = -10000\n",
    "    else\n",
    "        v = util(c, l) + beta*dot(Q, get_value_for_middle_with_uncertainty(a_new, asset_grid, max_values_matrix))\n",
    "    end\n",
    "return v, a_new, l, a, w, h_H, y, c\n",
    "end"
   ]
  },
  {
   "cell_type": "code",
   "execution_count": 23,
   "metadata": {},
   "outputs": [
    {
     "data": {
      "text/plain": [
       "value_for_young (generic function with 13 methods)"
      ]
     },
     "execution_count": 23,
     "metadata": {},
     "output_type": "execute_result"
    }
   ],
   "source": [
    "# calculating value for young\n",
    "function value_for_young(a_new::Real, l::Real,  a::Real, w::Real, h_H::Real, v_new, Q = Q, asset_grid::LinSpace = asset_grid, tau::Real = tau, beta::Real = beta)\n",
    "    y = w*(1 - tau)*(1 - h_H - l)\n",
    "    #c = -100\n",
    "    c = (1 + r)*a + y - a_new\n",
    "    if l < 0 || c < 0 || h_H + l > 1 || h_H + l < 0\n",
    "        v = -100\n",
    "    else\n",
    "        v = util(c, l) + beta*dot(v_new, Q)\n",
    "    end\n",
    "return  v, a_new, l, a, w, h_H, y, c\n",
    "end"
   ]
  },
  {
   "cell_type": "code",
   "execution_count": 24,
   "metadata": {},
   "outputs": [
    {
     "ename": "LoadError",
     "evalue": "UndefVarError: max_values_matrix not defined",
     "output_type": "error",
     "traceback": [
      "UndefVarError: max_values_matrix not defined",
      "",
      " in get_value_for_middle_with_uncertainty(::Float64, ::LinSpace{Float64}) at ./In[18]:6 (repeats 2 times)",
      " in macro expansion; at ./In[24]:17 [inlined]",
      " in anonymous at ./<missing>:?",
      " in include_string(::String, ::String) at ./loading.jl:441"
     ]
    }
   ],
   "source": [
    "# caluculate value for young \n",
    "\n",
    "\n",
    "value_matrix = zeros(num_grid^2, num_grid^3);\n",
    "c_mat = zeros(num_grid^2, num_grid^3);\n",
    "l_mat = zeros(num_grid^2, num_grid^3);\n",
    "y_mat = zeros(num_grid^2, num_grid^3);\n",
    "a_new_mat = ones(num_grid^2, num_grid^3);\n",
    "w_mat = zeros(num_grid^2, num_grid^3);\n",
    "a_mat = zeros(num_grid^2, num_grid^3);\n",
    "h_H_mat = zeros(num_grid^2, num_grid^3);\n",
    "for i = 1:num_grid\n",
    "    for j = 1:num_grid\n",
    "        for k = 1:num_grid\n",
    "            for m = 1:num_grid\n",
    "                for n = 1:num_grid\n",
    "                    v_new = get_value_for_middle_with_uncertainty(asset_grid[i])# value for middle with uncertainty\n",
    "                    result = value_for_young(0, l_grid[j], 0, wage_grid[m], 0, v_new)\n",
    "                    value_matrix[i + (j - 1)num_grid, k + (m - 1)num_grid + (n - 1)num_grid^2] = result[1]\n",
    "                    a_new_mat[i + (j - 1)num_grid, k + (m - 1)num_grid + (n - 1)num_grid^2] = result[2]\n",
    "                    l_mat[i + (j - 1)num_grid, k + (m - 1)num_grid + (n - 1)num_grid^2] = result[3]\n",
    "                    a_mat[i + (j - 1)num_grid, k + (m - 1)num_grid + (n - 1)num_grid^2] = result[4]\n",
    "                    w_mat[i + (j - 1)num_grid, k + (m - 1)num_grid + (n - 1)num_grid^2] = result[5]\n",
    "                    h_H_mat[i + (j - 1)num_grid, k + (m - 1)num_grid + (n - 1)num_grid^2] = result[6]\n",
    "                    y_mat[i + (j - 1)num_grid, k + (m - 1)num_grid + (n - 1)num_grid^2] = result[7]\n",
    "                    c_mat[i + (j - 1)num_grid, k + (m - 1)num_grid + (n - 1)num_grid^2]  = result[8]\n",
    "                end\n",
    "            end\n",
    "        end\n",
    "    end\n",
    "end\n",
    "# get max value for each asset, wage, h_H. maximizing with respect to new asset and leisure\n",
    "max_value, max_ind = findmax(value_matrix, 1)\n",
    "# reshape value matrix to asset_grid x (w x h_H)\n",
    "# this should be fix throughout the imulation\n",
    "max_values_reshaped = reshape(max_value, num_grid, num_grid^2);"
   ]
  },
  {
   "cell_type": "code",
   "execution_count": 25,
   "metadata": {},
   "outputs": [
    {
     "ename": "LoadError",
     "evalue": "UndefVarError: max_ind not defined",
     "output_type": "error",
     "traceback": [
      "UndefVarError: max_ind not defined",
      "",
      " in include_string(::String, ::String) at ./loading.jl:441"
     ]
    }
   ],
   "source": [
    "# get policy function for a_new, h_M (Labor supply), c, \n",
    "# policy function for new asset\n",
    "a_new_pol_young = a_new_mat[max_ind]\n",
    "# policy function for labor supply\n",
    "l_pol_young = l_mat[max_ind]\n",
    "h_M_pol_young = 1 - l_pol_young - reshape(h_H_mat[1, :], 1, num_grid^3)\n",
    "c_pol_young = c_mat[max_ind]\n",
    "# policy function for new asset\n",
    "#a_new_pol = a_new_mat[max_ind]\n",
    "# policy function for new asset\n",
    "#a_new_pol = a_new_mat[max_ind]"
   ]
  },
  {
   "cell_type": "code",
   "execution_count": 26,
   "metadata": {},
   "outputs": [
    {
     "ename": "LoadError",
     "evalue": "UndefVarError: h_M_pol_young not defined",
     "output_type": "error",
     "traceback": [
      "UndefVarError: h_M_pol_young not defined",
      "",
      " in include_string(::String, ::String) at ./loading.jl:441"
     ]
    }
   ],
   "source": [
    "h_M_pol_young"
   ]
  },
  {
   "cell_type": "code",
   "execution_count": 27,
   "metadata": {},
   "outputs": [
    {
     "ename": "LoadError",
     "evalue": "UndefVarError: max_values_reshaped not defined",
     "output_type": "error",
     "traceback": [
      "UndefVarError: max_values_reshaped not defined",
      "",
      " in include_string(::String, ::String) at ./loading.jl:441"
     ]
    }
   ],
   "source": [
    "max_values_reshaped"
   ]
  },
  {
   "cell_type": "code",
   "execution_count": 28,
   "metadata": {},
   "outputs": [
    {
     "name": "stdout",
     "output_type": "stream",
     "text": [
      "search: \u001b[1mf\u001b[22m\u001b[1mi\u001b[22m\u001b[1mn\u001b[22m\u001b[1md\u001b[22m\u001b[1mm\u001b[22m\u001b[1ma\u001b[22m\u001b[1mx\u001b[22m \u001b[1mf\u001b[22m\u001b[1mi\u001b[22m\u001b[1mn\u001b[22m\u001b[1md\u001b[22m\u001b[1mm\u001b[22m\u001b[1ma\u001b[22m\u001b[1mx\u001b[22m! \u001b[1mf\u001b[22m\u001b[1mi\u001b[22m\u001b[1mn\u001b[22m\u001b[1md\u001b[22m\u001b[1mm\u001b[22min \u001b[1mf\u001b[22m\u001b[1mi\u001b[22m\u001b[1mn\u001b[22m\u001b[1md\u001b[22m\u001b[1mm\u001b[22min!\n",
      "\n"
     ]
    },
    {
     "data": {
      "text/markdown": [
       "```\n",
       "findmax(itr) -> (x, index)\n",
       "```\n",
       "\n",
       "Returns the maximum element and its index. The collection must not be empty.\n",
       "\n",
       "```jldoctest\n",
       "julia> findmax([8,0.1,-9,pi])\n",
       "(8.0,1)\n",
       "```\n",
       "\n",
       "```\n",
       "findmax(A, region) -> (maxval, index)\n",
       "```\n",
       "\n",
       "For an array input, returns the value and index of the maximum over the given region.\n"
      ],
      "text/plain": [
       "```\n",
       "findmax(itr) -> (x, index)\n",
       "```\n",
       "\n",
       "Returns the maximum element and its index. The collection must not be empty.\n",
       "\n",
       "```jldoctest\n",
       "julia> findmax([8,0.1,-9,pi])\n",
       "(8.0,1)\n",
       "```\n",
       "\n",
       "```\n",
       "findmax(A, region) -> (maxval, index)\n",
       "```\n",
       "\n",
       "For an array input, returns the value and index of the maximum over the given region.\n"
      ]
     },
     "execution_count": 28,
     "metadata": {},
     "output_type": "execute_result"
    }
   ],
   "source": [
    "?findmax\n"
   ]
  },
  {
   "cell_type": "code",
   "execution_count": 29,
   "metadata": {
    "collapsed": true
   },
   "outputs": [],
   "source": [
    "# simulation 100 thousand H/H\n",
    "# initializing matrices\n",
    "num_period = 3;\n",
    "num_hh = 100 # 100000\n",
    "c_record = zeros(num_hh, num_period);\n",
    "a_record = zeros(num_hh, num_period);\n",
    "w_record = zeros(num_hh, num_period);\n",
    "h_H_record = zeros(num_hh, num_period);\n",
    "h_M_record = zeros(num_hh, num_period);\n",
    "\n"
   ]
  },
  {
   "cell_type": "code",
   "execution_count": 30,
   "metadata": {
    "collapsed": true
   },
   "outputs": [],
   "source": [
    "# generate wage, care needs streams for each household\n",
    "\n",
    "w_record = rand(w_dist, num_hh, num_period);\n",
    "w_record[:,3] = 0;\n",
    "h_H_record = rand(h_H_dist, num_hh, num_period);\n",
    "h_H_record[:, 1] = 0;\n",
    "h_H_record[:, 3] = 0;\n"
   ]
  },
  {
   "cell_type": "code",
   "execution_count": 31,
   "metadata": {},
   "outputs": [
    {
     "ename": "LoadError",
     "evalue": "UndefVarError: c_pol_young not defined",
     "output_type": "error",
     "traceback": [
      "UndefVarError: c_pol_young not defined",
      "",
      " in include_string(::String, ::String) at ./loading.jl:441"
     ]
    }
   ],
   "source": [
    "# return (c, a_new, h_M) for young hh\n",
    "# prepare for interpolation\n",
    "c_pol_young_reshape = reshape(c_pol_young, num_grid, num_grid, num_grid) # reshape for interpolate    \n",
    "a_new_pol_young_reshape = reshape(a_new_pol_young, num_grid, num_grid, num_grid) # reshape for interpolate    \n",
    "h_M_pol_young_reshape = reshape(h_M_pol_young, num_grid, num_grid, num_grid) # reshape for interpolate    \n",
    "c_itp = interpolate((asset_grid, wage_grid, h_H_grid), c_pol_young_reshape, Gridded(Linear()));\n",
    "a_itp = interpolate((asset_grid, wage_grid, h_H_grid), a_new_pol_young_reshape, Gridded(Linear()));\n",
    "h_M_itp = interpolate((asset_grid, wage_grid, h_H_grid), h_M_pol_young_reshape, Gridded(Linear()));\n",
    "\n",
    "for n = 1:num_hh\n",
    "    c_record[n,1] = c_itp[a_record[n,1], w_record[n,1], h_H_record[n,1]]\n",
    "    a_record[n,2] = a_itp[a_record[n,1], w_record[n,1], h_H_record[n,1]]\n",
    "    h_M_record[n,1] = h_M_itp[a_record[n,1], w_record[n,1], h_H_record[n,1]]\n",
    "end\n",
    "\n",
    "\n"
   ]
  },
  {
   "cell_type": "code",
   "execution_count": 32,
   "metadata": {},
   "outputs": [
    {
     "ename": "LoadError",
     "evalue": "UndefVarError: c_pol_middle not defined",
     "output_type": "error",
     "traceback": [
      "UndefVarError: c_pol_middle not defined",
      "",
      " in include_string(::String, ::String) at ./loading.jl:441"
     ]
    }
   ],
   "source": [
    "# return (c, a_new, h_M) for middle\n",
    "\n",
    "c_pol_middle_reshape = reshape(c_pol_middle, num_grid, num_grid, num_grid);\n",
    "a_new_pol_middle_reshape = reshape(a_new_pol_middle, num_grid, num_grid, num_grid);\n",
    "h_M_pol_middle_reshape = reshape(h_M_pol_middle, num_grid, num_grid, num_grid);\n",
    "c_itp = interpolate((asset_grid, wage_grid, h_H_grid), c_pol_middle_reshape, Gridded(Linear()));\n",
    "a_itp = interpolate((asset_grid, wage_grid, h_H_grid), a_new_pol_middle_reshape, Gridded(Linear()));\n",
    "h_M_itp = interpolate((asset_grid, wage_grid, h_H_grid), h_M_pol_middle_reshape, Gridded(Linear()));\n",
    "\n",
    "\n",
    "for n = 1:num_hh\n",
    "    c_record[n,2] = c_itp[a_record[n,2], w_record[n,2], h_H_record[n,2]]\n",
    "    a_record[n,3] = a_itp[a_record[n,2], w_record[n,2], h_H_record[n,2]]\n",
    "    h_M_record[n,2] = h_M_itp[a_record[n,2], w_record[n,2], h_H_record[n,2]]\n",
    "end\n",
    "\n",
    "for n = 1:num_hh\n",
    "    c_record[n,3] = (1+r)*a_record[n, 3] + (w_record[n,1] + w_record[n, 2])*0.5*0.5 # replacement rate for pension is 0.5 \n",
    "end"
   ]
  },
  {
   "cell_type": "code",
   "execution_count": 33,
   "metadata": {},
   "outputs": [
    {
     "data": {
      "text/plain": [
       "100×3 Array{Float64,2}:\n",
       " 0.0  0.0  0.0\n",
       " 0.0  0.0  0.0\n",
       " 0.0  0.0  0.0\n",
       " 0.0  0.0  0.0\n",
       " 0.0  0.0  0.0\n",
       " 0.0  0.0  0.0\n",
       " 0.0  0.0  0.0\n",
       " 0.0  0.0  0.0\n",
       " 0.0  0.0  0.0\n",
       " 0.0  0.0  0.0\n",
       " 0.0  0.0  0.0\n",
       " 0.0  0.0  0.0\n",
       " 0.0  0.0  0.0\n",
       " ⋮            \n",
       " 0.0  0.0  0.0\n",
       " 0.0  0.0  0.0\n",
       " 0.0  0.0  0.0\n",
       " 0.0  0.0  0.0\n",
       " 0.0  0.0  0.0\n",
       " 0.0  0.0  0.0\n",
       " 0.0  0.0  0.0\n",
       " 0.0  0.0  0.0\n",
       " 0.0  0.0  0.0\n",
       " 0.0  0.0  0.0\n",
       " 0.0  0.0  0.0\n",
       " 0.0  0.0  0.0"
      ]
     },
     "execution_count": 33,
     "metadata": {},
     "output_type": "execute_result"
    }
   ],
   "source": [
    "c_record"
   ]
  },
  {
   "cell_type": "code",
   "execution_count": 34,
   "metadata": {},
   "outputs": [
    {
     "data": {
      "text/plain": [
       "100×3 Array{Float64,2}:\n",
       " 1.7172    0.74223   0.0\n",
       " 0.497032  2.14812   0.0\n",
       " 2.5634    1.81366   0.0\n",
       " 4.21174   0.70432   0.0\n",
       " 2.58298   0.87541   0.0\n",
       " 2.89888   1.33878   0.0\n",
       " 1.86241   1.46512   0.0\n",
       " 0.826473  1.00818   0.0\n",
       " 1.39806   3.04071   0.0\n",
       " 1.61832   3.50944   0.0\n",
       " 1.55635   0.475853  0.0\n",
       " 2.27026   1.08106   0.0\n",
       " 1.23573   1.38966   0.0\n",
       " ⋮                      \n",
       " 2.54967   3.92804   0.0\n",
       " 1.20119   1.93934   0.0\n",
       " 1.94525   1.56805   0.0\n",
       " 3.266     0.636711  0.0\n",
       " 1.11703   1.52669   0.0\n",
       " 1.43758   2.2582    0.0\n",
       " 1.4532    1.11717   0.0\n",
       " 0.751996  1.05857   0.0\n",
       " 1.40182   0.723792  0.0\n",
       " 1.2258    2.57429   0.0\n",
       " 1.71014   1.43039   0.0\n",
       " 2.94678   0.832542  0.0"
      ]
     },
     "execution_count": 34,
     "metadata": {},
     "output_type": "execute_result"
    }
   ],
   "source": [
    "w_record"
   ]
  },
  {
   "cell_type": "code",
   "execution_count": 35,
   "metadata": {},
   "outputs": [
    {
     "data": {
      "text/plain": [
       "100×3 Array{Float64,2}:\n",
       " 0.0  0.0  0.0\n",
       " 0.0  0.0  0.0\n",
       " 0.0  0.0  0.0\n",
       " 0.0  0.0  0.0\n",
       " 0.0  0.0  0.0\n",
       " 0.0  0.0  0.0\n",
       " 0.0  0.0  0.0\n",
       " 0.0  0.0  0.0\n",
       " 0.0  0.0  0.0\n",
       " 0.0  0.0  0.0\n",
       " 0.0  0.0  0.0\n",
       " 0.0  0.0  0.0\n",
       " 0.0  0.0  0.0\n",
       " ⋮            \n",
       " 0.0  0.0  0.0\n",
       " 0.0  0.0  0.0\n",
       " 0.0  0.0  0.0\n",
       " 0.0  0.0  0.0\n",
       " 0.0  0.0  0.0\n",
       " 0.0  0.0  0.0\n",
       " 0.0  0.0  0.0\n",
       " 0.0  0.0  0.0\n",
       " 0.0  0.0  0.0\n",
       " 0.0  0.0  0.0\n",
       " 0.0  0.0  0.0\n",
       " 0.0  0.0  0.0"
      ]
     },
     "execution_count": 35,
     "metadata": {},
     "output_type": "execute_result"
    }
   ],
   "source": [
    "h_M_record"
   ]
  },
  {
   "cell_type": "code",
   "execution_count": 36,
   "metadata": {},
   "outputs": [
    {
     "data": {
      "text/plain": [
       "100×3 Array{Float64,2}:\n",
       " 0.0  3.50261e-5   0.0\n",
       " 0.0  0.00888364   0.0\n",
       " 0.0  0.056108     0.0\n",
       " 0.0  0.244471     0.0\n",
       " 0.0  0.0100593    0.0\n",
       " 0.0  0.131151     0.0\n",
       " 0.0  0.000168562  0.0\n",
       " 0.0  0.00931944   0.0\n",
       " 0.0  0.0750918    0.0\n",
       " 0.0  0.0269208    0.0\n",
       " 0.0  0.01561      0.0\n",
       " 0.0  0.0555228    0.0\n",
       " 0.0  0.0112862    0.0\n",
       " ⋮                    \n",
       " 0.0  0.00961016   0.0\n",
       " 0.0  0.00355482   0.0\n",
       " 0.0  0.00155578   0.0\n",
       " 0.0  0.013112     0.0\n",
       " 0.0  0.107732     0.0\n",
       " 0.0  0.0830429    0.0\n",
       " 0.0  0.0169219    0.0\n",
       " 0.0  0.117021     0.0\n",
       " 0.0  0.0178899    0.0\n",
       " 0.0  0.0026578    0.0\n",
       " 0.0  0.0743193    0.0\n",
       " 0.0  0.0491543    0.0"
      ]
     },
     "execution_count": 36,
     "metadata": {},
     "output_type": "execute_result"
    }
   ],
   "source": [
    "h_H_record"
   ]
  },
  {
   "cell_type": "code",
   "execution_count": 37,
   "metadata": {},
   "outputs": [
    {
     "data": {
      "text/html": [
       "0.0"
      ],
      "text/plain": [
       "0.0"
      ]
     },
     "execution_count": 37,
     "metadata": {},
     "output_type": "execute_result"
    }
   ],
   "source": [
    "sum(h_M_record)"
   ]
  },
  {
   "cell_type": "code",
   "execution_count": 38,
   "metadata": {},
   "outputs": [
    {
     "data": {
      "text/html": [
       "0.0"
      ],
      "text/plain": [
       "0.0"
      ]
     },
     "execution_count": 38,
     "metadata": {},
     "output_type": "execute_result"
    }
   ],
   "source": [
    "sum(c_record)"
   ]
  },
  {
   "cell_type": "code",
   "execution_count": null,
   "metadata": {},
   "outputs": [],
   "source": []
  },
  {
   "cell_type": "code",
   "execution_count": null,
   "metadata": {
    "collapsed": true
   },
   "outputs": [],
   "source": []
  },
  {
   "cell_type": "code",
   "execution_count": null,
   "metadata": {
    "collapsed": true
   },
   "outputs": [],
   "source": []
  },
  {
   "cell_type": "code",
   "execution_count": null,
   "metadata": {
    "collapsed": true
   },
   "outputs": [],
   "source": []
  },
  {
   "cell_type": "code",
   "execution_count": null,
   "metadata": {
    "collapsed": true
   },
   "outputs": [],
   "source": []
  },
  {
   "cell_type": "code",
   "execution_count": null,
   "metadata": {
    "collapsed": true
   },
   "outputs": [],
   "source": []
  },
  {
   "cell_type": "code",
   "execution_count": null,
   "metadata": {
    "collapsed": true
   },
   "outputs": [],
   "source": []
  },
  {
   "cell_type": "code",
   "execution_count": null,
   "metadata": {
    "collapsed": true
   },
   "outputs": [],
   "source": []
  },
  {
   "cell_type": "code",
   "execution_count": null,
   "metadata": {
    "collapsed": true
   },
   "outputs": [],
   "source": []
  },
  {
   "cell_type": "code",
   "execution_count": null,
   "metadata": {
    "collapsed": true
   },
   "outputs": [],
   "source": []
  },
  {
   "cell_type": "code",
   "execution_count": null,
   "metadata": {
    "collapsed": true
   },
   "outputs": [],
   "source": []
  },
  {
   "cell_type": "code",
   "execution_count": null,
   "metadata": {
    "collapsed": true
   },
   "outputs": [],
   "source": []
  },
  {
   "cell_type": "code",
   "execution_count": null,
   "metadata": {
    "collapsed": true
   },
   "outputs": [],
   "source": []
  },
  {
   "cell_type": "code",
   "execution_count": null,
   "metadata": {
    "collapsed": true
   },
   "outputs": [],
   "source": []
  },
  {
   "cell_type": "code",
   "execution_count": null,
   "metadata": {
    "collapsed": true
   },
   "outputs": [],
   "source": []
  },
  {
   "cell_type": "code",
   "execution_count": null,
   "metadata": {
    "collapsed": true
   },
   "outputs": [],
   "source": []
  },
  {
   "cell_type": "code",
   "execution_count": null,
   "metadata": {
    "collapsed": true
   },
   "outputs": [],
   "source": []
  }
 ],
 "metadata": {
  "celltoolbar": "Slideshow",
  "kernelspec": {
   "display_name": "Julia 0.5.2",
   "language": "julia",
   "name": "julia-0.5"
  },
  "language_info": {
   "file_extension": ".jl",
   "mimetype": "application/julia",
   "name": "julia",
   "version": "0.5.2"
  }
 },
 "nbformat": 4,
 "nbformat_minor": 2
}
