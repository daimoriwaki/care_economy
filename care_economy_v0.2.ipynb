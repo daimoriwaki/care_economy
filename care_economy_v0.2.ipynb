{
 "cells": [
  {
   "cell_type": "markdown",
   "metadata": {
    "slideshow": {
     "slide_type": "slide"
    }
   },
   "source": [
    "# Effect of Informal Care on Labor Supply: A Macroeconomic Perspective\n",
    "\n",
    "## 2018.3.12 ICES, Hosei University\n",
    "\n",
    "### Daisuke Moriwaki\n",
    "\n",
    "Cyberagent, Inc., AI Lab        \n",
    "Keio University, School of Medicine\n",
    "<daisuke.moriwaki@gmail.com>   \n",
    "github [daimoriwaki/care_economy](https://github.com/daimoriwaki/care_economy)"
   ]
  },
  {
   "cell_type": "code",
   "execution_count": 2,
   "metadata": {
    "collapsed": true
   },
   "outputs": [],
   "source": [
    "#workspace()"
   ]
  },
  {
   "cell_type": "code",
   "execution_count": 3,
   "metadata": {},
   "outputs": [
    {
     "name": "stderr",
     "output_type": "stream",
     "text": [
      "WARNING: Method definition getindex(Main.Base.Cmd, Any) in module Compat at /home/daisuke_moriwaki/.julia/v0.5/Compat/src/Compat.jl:530 overwritten in module Compat at /home/daisuke_moriwaki/.julia/v0.5/Compat/src/Compat.jl:530.\n",
      "WARNING: Method definition *(Union{AbstractString, Char}, Union{AbstractString, Char}...) in module Compat at /home/daisuke_moriwaki/.julia/v0.5/Compat/src/Compat.jl:828 overwritten in module Compat at /home/daisuke_moriwaki/.julia/v0.5/Compat/src/Compat.jl:828.\n",
      "WARNING: Method definition take!(Task) in module Compat at /home/daisuke_moriwaki/.julia/v0.5/Compat/src/Compat.jl:37 overwritten in module Compat at /home/daisuke_moriwaki/.julia/v0.5/Compat/src/Compat.jl:37.\n",
      "WARNING: Method definition take!(Main.Base.AbstractIOBuffer) in module Compat at /home/daisuke_moriwaki/.julia/v0.5/Compat/src/Compat.jl:367 overwritten in module Compat at /home/daisuke_moriwaki/.julia/v0.5/Compat/src/Compat.jl:367.\n",
      "WARNING: Method definition macroexpand(Module, ANY<:Any) in module Compat at /home/daisuke_moriwaki/.julia/v0.5/Compat/src/Compat.jl:173 overwritten in module Compat at /home/daisuke_moriwaki/.julia/v0.5/Compat/src/Compat.jl:173.\n",
      "WARNING: Method definition #replace(Array{Any, 1}, Main.Base.#replace, AbstractString, Main.Base.Pair) in module Compat overwritten in module Compat.\n",
      "WARNING: Method definition endof(Main.Base.Cmd) in module Compat at /home/daisuke_moriwaki/.julia/v0.5/Compat/src/Compat.jl:527 overwritten in module Compat at /home/daisuke_moriwaki/.julia/v0.5/Compat/src/Compat.jl:527.\n",
      "WARNING: Method definition redirect_stdout(Function, Any) in module Compat at /home/daisuke_moriwaki/.julia/v0.5/Compat/src/Compat.jl:242 overwritten in module Compat at /home/daisuke_moriwaki/.julia/v0.5/Compat/src/Compat.jl:242.\n",
      "WARNING: Method definition read(Main.Base.Cmd, Type{String}) in module Compat at /home/daisuke_moriwaki/.julia/v0.5/Compat/src/Compat.jl:603 overwritten in module Compat at /home/daisuke_moriwaki/.julia/v0.5/Compat/src/Compat.jl:603.\n",
      "WARNING: Method definition read(AbstractString, Type{String}) in module Compat at /home/daisuke_moriwaki/.julia/v0.5/Compat/src/Compat.jl:602 overwritten in module Compat at /home/daisuke_moriwaki/.julia/v0.5/Compat/src/Compat.jl:602.\n",
      "WARNING: Method definition read(IO, Type{String}) in module Compat at /home/daisuke_moriwaki/.julia/v0.5/Compat/src/Compat.jl:601 overwritten in module Compat at /home/daisuke_moriwaki/.julia/v0.5/Compat/src/Compat.jl:601.\n",
      "WARNING: Method definition unsafe_trunc(Type{#T<:Integer}, Integer) in module Compat at /home/daisuke_moriwaki/.julia/v0.5/Compat/src/Compat.jl:476 overwritten in module Compat at /home/daisuke_moriwaki/.julia/v0.5/Compat/src/Compat.jl:476.\n",
      "WARNING: Method definition !(Function) in module Compat at /home/daisuke_moriwaki/.julia/v0.5/Compat/src/Compat.jl:374 overwritten in module Compat at /home/daisuke_moriwaki/.julia/v0.5/Compat/src/Compat.jl:374.\n",
      "WARNING: Method definition next(Main.Base.Cmd, Any) in module Compat at /home/daisuke_moriwaki/.julia/v0.5/Compat/src/Compat.jl:530 overwritten in module Compat at /home/daisuke_moriwaki/.julia/v0.5/Compat/src/Compat.jl:530.\n",
      "WARNING: Method definition keys(AbstractArray{T<:Any, 1}) in module Compat at /home/daisuke_moriwaki/.julia/v0.5/Compat/src/Compat.jl:721 overwritten in module Compat at /home/daisuke_moriwaki/.julia/v0.5/Compat/src/Compat.jl:721.\n",
      "WARNING: Method definition keys(AbstractArray) in module Compat at /home/daisuke_moriwaki/.julia/v0.5/Compat/src/Compat.jl:720 overwritten in module Compat at /home/daisuke_moriwaki/.julia/v0.5/Compat/src/Compat.jl:720.\n",
      "WARNING: Method definition keys(Main.Base.LinearIndexing, AbstractArray, AbstractArray...) in module Compat at /home/daisuke_moriwaki/.julia/v0.5/Compat/src/Compat.jl:722 overwritten in module Compat at /home/daisuke_moriwaki/.julia/v0.5/Compat/src/Compat.jl:722.\n",
      "WARNING: Method definition replace(AbstractString, Main.Base.Pair) in module Compat at /home/daisuke_moriwaki/.julia/v0.5/Compat/src/Compat.jl:1069 overwritten in module Compat at /home/daisuke_moriwaki/.julia/v0.5/Compat/src/Compat.jl:1069.\n",
      "WARNING: Method definition broadcast(Any, Tuple{Vararg{T<:Any, #N<:Any}}, Tuple{Vararg{T<:Any, #N<:Any}}...) in module Compat at /home/daisuke_moriwaki/.julia/v0.5/Compat/src/Compat.jl:313 overwritten in module Compat at /home/daisuke_moriwaki/.julia/v0.5/Compat/src/Compat.jl:313.\n",
      "WARNING: Method definition convert(Type{Void}, Void) in module Compat at /home/daisuke_moriwaki/.julia/v0.5/Compat/src/Compat.jl:1039 overwritten in module Compat at /home/daisuke_moriwaki/.julia/v0.5/Compat/src/Compat.jl:1039.\n",
      "WARNING: Method definition convert(Type{Void}, Any) in module Compat at /home/daisuke_moriwaki/.julia/v0.5/Compat/src/Compat.jl:1038 overwritten in module Compat at /home/daisuke_moriwaki/.julia/v0.5/Compat/src/Compat.jl:1038.\n",
      "WARNING: Method definition convert(Type{Main.Base.Set{#T<:Any}}, Main.Base.Set{#T<:Any}) in module Compat at /home/daisuke_moriwaki/.julia/v0.5/Compat/src/Compat.jl:466 overwritten in module Compat at /home/daisuke_moriwaki/.julia/v0.5/Compat/src/Compat.jl:466.\n",
      "WARNING: Method definition convert(Type{Main.Base.Set{#T<:Any}}, Main.Base.Set) in module Compat at /home/daisuke_moriwaki/.julia/v0.5/Compat/src/Compat.jl:467 overwritten in module Compat at /home/daisuke_moriwaki/.julia/v0.5/Compat/src/Compat.jl:467.\n",
      "WARNING: Method definition ==(Union{Main.Base.Dates.Week, Main.Base.Dates.Hour, Main.Base.Dates.Minute, Main.Base.Dates.Day, Main.Base.Dates.Millisecond, Main.Base.Dates.Second}, Union{Main.Base.Dates.Year, Main.Base.Dates.Month}) in module Compat at /home/daisuke_moriwaki/.julia/v0.5/Compat/src/Compat.jl:542 overwritten in module Compat at /home/daisuke_moriwaki/.julia/v0.5/Compat/src/Compat.jl:542.\n",
      "WARNING: Method definition ==(Union{Main.Base.Dates.Year, Main.Base.Dates.Month}, Union{Main.Base.Dates.Week, Main.Base.Dates.Hour, Main.Base.Dates.Minute, Main.Base.Dates.Day, Main.Base.Dates.Millisecond, Main.Base.Dates.Second}) in module Compat at /home/daisuke_moriwaki/.julia/v0.5/Compat/src/Compat.jl:543 overwritten in module Compat at /home/daisuke_moriwaki/.julia/v0.5/Compat/src/Compat.jl:543.\n",
      "WARNING: Method definition ==(Main.Base.Dates.Period, Main.Base.Dates.Period) in module Compat at /home/daisuke_moriwaki/.julia/v0.5/Compat/src/Compat.jl:538 overwritten in module Compat at /home/daisuke_moriwaki/.julia/v0.5/Compat/src/Compat.jl:538.\n",
      "WARNING: Method definition #cov(Array{Any, 1}, Main.Base.#cov, AbstractArray{T<:Any, 2}, Int64) in module Compat at /home/daisuke_moriwaki/.julia/v0.5/Compat/src/Compat.jl:644 overwritten in module Compat at /home/daisuke_moriwaki/.julia/v0.5/Compat/src/Compat.jl:644.\n",
      "WARNING: Method definition #cov(Array{Any, 1}, Main.Base.#cov, Union{AbstractArray{T<:Any, 1}, AbstractArray{T<:Any, 2}}, Union{AbstractArray{T<:Any, 1}, AbstractArray{T<:Any, 2}}, Int64) in module Compat at /home/daisuke_moriwaki/.julia/v0.5/Compat/src/Compat.jl:646 overwritten in module Compat at /home/daisuke_moriwaki/.julia/v0.5/Compat/src/Compat.jl:646.\n",
      "WARNING: Method definition rtoldefault(Any, Any, Real) in module Compat at /home/daisuke_moriwaki/.julia/v0.5/Compat/src/Compat.jl:735 overwritten in module Compat at /home/daisuke_moriwaki/.julia/v0.5/Compat/src/Compat.jl:735.\n",
      "WARNING: Method definition eachindex(Main.Base.Cmd) in module Compat at /home/daisuke_moriwaki/.julia/v0.5/Compat/src/Compat.jl:527 overwritten in module Compat at /home/daisuke_moriwaki/.julia/v0.5/Compat/src/Compat.jl:527.\n",
      "WARNING: Method definition chol!(Main.Base.LinAlg.UniformScaling, Any) in module Compat at /home/daisuke_moriwaki/.julia/v0.5/Compat/src/Compat.jl:568 overwritten in module Compat at /home/daisuke_moriwaki/.julia/v0.5/Compat/src/Compat.jl:568.\n",
      "WARNING: Method definition diagm(Main.Base.Pair...) in module Compat at /home/daisuke_moriwaki/.julia/v0.5/Compat/src/Compat.jl:851 overwritten in module Compat at /home/daisuke_moriwaki/.julia/v0.5/Compat/src/Compat.jl:851.\n",
      "WARNING: Method definition logdet(Any) in module Compat at /home/daisuke_moriwaki/.julia/v0.5/Compat/src/Compat.jl:562 overwritten in module Compat at /home/daisuke_moriwaki/.julia/v0.5/Compat/src/Compat.jl:562.\n",
      "WARNING: Method definition chol(Main.Base.LinAlg.UniformScaling, Any...) in module Compat at /home/daisuke_moriwaki/.julia/v0.5/Compat/src/Compat.jl:569 overwritten in module Compat at /home/daisuke_moriwaki/.julia/v0.5/Compat/src/Compat.jl:569.\n",
      "WARNING: Method definition get(Union{Function, DataType}, Main.Base.EnvHash, AbstractString) in module Compat at /home/daisuke_moriwaki/.julia/v0.5/Compat/src/Compat.jl:934 overwritten in module Compat at /home/daisuke_moriwaki/.julia/v0.5/Compat/src/Compat.jl:934.\n",
      "WARNING: Method definition isassigned(Main.Base.RefValue) in module Compat at /home/daisuke_moriwaki/.julia/v0.5/Compat/src/Compat.jl:472 overwritten in module Compat at /home/daisuke_moriwaki/.julia/v0.5/Compat/src/Compat.jl:472.\n",
      "WARNING: Method definition ones(AbstractArray) in module Compat at /home/daisuke_moriwaki/.julia/v0.5/Compat/src/Compat.jl:447 overwritten in module Compat at /home/daisuke_moriwaki/.julia/v0.5/Compat/src/Compat.jl:447.\n",
      "WARNING: Method definition ones(AbstractArray, Type) in module Compat at /home/daisuke_moriwaki/.julia/v0.5/Compat/src/Compat.jl:447 overwritten in module Compat at /home/daisuke_moriwaki/.julia/v0.5/Compat/src/Compat.jl:447.\n",
      "WARNING: Method definition ones(AbstractArray, Type, Tuple) in module Compat at /home/daisuke_moriwaki/.julia/v0.5/Compat/src/Compat.jl:445 overwritten in module Compat at /home/daisuke_moriwaki/.julia/v0.5/Compat/src/Compat.jl:445.\n",
      "WARNING: Method definition ones(AbstractArray, Type, Any...) in module Compat at /home/daisuke_moriwaki/.julia/v0.5/Compat/src/Compat.jl:446 overwritten in module Compat at /home/daisuke_moriwaki/.julia/v0.5/Compat/src/Compat.jl:446.\n",
      "WARNING: Method definition include_string(Module, String, String) in module Compat at /home/daisuke_moriwaki/.julia/v0.5/Compat/src/Compat.jl:174 overwritten in module Compat at /home/daisuke_moriwaki/.julia/v0.5/Compat/src/Compat.jl:174.\n",
      "WARNING: Method definition include_string(Module, AbstractString) in module Compat at /home/daisuke_moriwaki/.julia/v0.5/Compat/src/Compat.jl:176 overwritten in module Compat at /home/daisuke_moriwaki/.julia/v0.5/Compat/src/Compat.jl:176.\n",
      "WARNING: Method definition include_string(Module, AbstractString, AbstractString) in module Compat at /home/daisuke_moriwaki/.julia/v0.5/Compat/src/Compat.jl:176 overwritten in module Compat at /home/daisuke_moriwaki/.julia/v0.5/Compat/src/Compat.jl:176.\n",
      "WARNING: Method definition last(Main.Base.Cmd) in module Compat at /home/daisuke_moriwaki/.julia/v0.5/Compat/src/Compat.jl:527 overwritten in module Compat at /home/daisuke_moriwaki/.julia/v0.5/Compat/src/Compat.jl:527.\n",
      "WARNING: Method definition reshape(AbstractArray, Main.Base.Val{#N<:Any}) in module Compat at /home/daisuke_moriwaki/.julia/v0.5/Compat/src/Compat.jl:554 overwritten in module Compat at /home/daisuke_moriwaki/.julia/v0.5/Compat/src/Compat.jl:554.\n",
      "WARNING: Method definition spdiagm(Main.Base.Pair...) in module Compat at /home/daisuke_moriwaki/.julia/v0.5/Compat/src/Compat.jl:841 overwritten in module Compat at /home/daisuke_moriwaki/.julia/v0.5/Compat/src/Compat.jl:841.\n",
      "WARNING: Method definition start(Main.Base.Cmd) in module Compat at /home/daisuke_moriwaki/.julia/v0.5/Compat/src/Compat.jl:527 overwritten in module Compat at /home/daisuke_moriwaki/.julia/v0.5/Compat/src/Compat.jl:527.\n",
      "WARNING: Method definition done(Main.Base.Cmd, Any) in module Compat at /home/daisuke_moriwaki/.julia/v0.5/Compat/src/Compat.jl:530 overwritten in module Compat at /home/daisuke_moriwaki/.julia/v0.5/Compat/src/Compat.jl:530.\n",
      "WARNING: Method definition ntuple(#F<:Any, Main.Base.Val{#N<:Any}) in module Compat at /home/daisuke_moriwaki/.julia/v0.5/Compat/src/Compat.jl:556 overwritten in module Compat at /home/daisuke_moriwaki/.julia/v0.5/Compat/src/Compat.jl:556.\n",
      "WARNING: Method definition length(Main.Base.Cmd) in module Compat at /home/daisuke_moriwaki/.julia/v0.5/Compat/src/Compat.jl:527 overwritten in module Compat at /home/daisuke_moriwaki/.julia/v0.5/Compat/src/Compat.jl:527.\n",
      "WARNING: Method definition first(Main.Base.Cmd) in module Compat at /home/daisuke_moriwaki/.julia/v0.5/Compat/src/Compat.jl:527 overwritten in module Compat at /home/daisuke_moriwaki/.julia/v0.5/Compat/src/Compat.jl:527.\n",
      "WARNING: Method definition values(Any) in module Compat at /home/daisuke_moriwaki/.julia/v0.5/Compat/src/Compat.jl:724 overwritten in module Compat at /home/daisuke_moriwaki/.julia/v0.5/Compat/src/Compat.jl:724.\n",
      "WARNING: Method definition redirect_stdin(Function, Any) in module Compat at /home/daisuke_moriwaki/.julia/v0.5/Compat/src/Compat.jl:242 overwritten in module Compat at /home/daisuke_moriwaki/.julia/v0.5/Compat/src/Compat.jl:242.\n",
      "WARNING: Method definition zeros(AbstractArray) in module Compat at /home/daisuke_moriwaki/.julia/v0.5/Compat/src/Compat.jl:447 overwritten in module Compat at /home/daisuke_moriwaki/.julia/v0.5/Compat/src/Compat.jl:447.\n",
      "WARNING: Method definition zeros(AbstractArray, Type) in module Compat at /home/daisuke_moriwaki/.julia/v0.5/Compat/src/Compat.jl:447 overwritten in module Compat at /home/daisuke_moriwaki/.julia/v0.5/Compat/src/Compat.jl:447.\n",
      "WARNING: Method definition zeros(AbstractArray, Type, Tuple) in module Compat at /home/daisuke_moriwaki/.julia/v0.5/Compat/src/Compat.jl:445 overwritten in module Compat at /home/daisuke_moriwaki/.julia/v0.5/Compat/src/Compat.jl:445.\n",
      "WARNING: Method definition zeros(AbstractArray, Type, Any...) in module Compat at /home/daisuke_moriwaki/.julia/v0.5/Compat/src/Compat.jl:446 overwritten in module Compat at /home/daisuke_moriwaki/.julia/v0.5/Compat/src/Compat.jl:446.\n",
      "WARNING: Method definition redirect_stderr(Function, Any) in module Compat at /home/daisuke_moriwaki/.julia/v0.5/Compat/src/Compat.jl:242 overwritten in module Compat at /home/daisuke_moriwaki/.julia/v0.5/Compat/src/Compat.jl:242.\n",
      "WARNING: Method definition isless(Union{Main.Base.Dates.Week, Main.Base.Dates.Hour, Main.Base.Dates.Minute, Main.Base.Dates.Day, Main.Base.Dates.Millisecond, Main.Base.Dates.Second}, Union{Main.Base.Dates.Year, Main.Base.Dates.Month}) in module Compat at /home/daisuke_moriwaki/.julia/v0.5/Compat/src/Compat.jl:544 overwritten in module Compat at /home/daisuke_moriwaki/.julia/v0.5/Compat/src/Compat.jl:544.\n",
      "WARNING: Method definition isless(Union{Main.Base.Dates.Year, Main.Base.Dates.Month}, Union{Main.Base.Dates.Week, Main.Base.Dates.Hour, Main.Base.Dates.Minute, Main.Base.Dates.Day, Main.Base.Dates.Millisecond, Main.Base.Dates.Second}) in module Compat at /home/daisuke_moriwaki/.julia/v0.5/Compat/src/Compat.jl:545 overwritten in module Compat at /home/daisuke_moriwaki/.julia/v0.5/Compat/src/Compat.jl:545.\n",
      "WARNING: Method definition isless(Main.Base.Dates.Period, Main.Base.Dates.Period) in module Compat at /home/daisuke_moriwaki/.julia/v0.5/Compat/src/Compat.jl:539 overwritten in module Compat at /home/daisuke_moriwaki/.julia/v0.5/Compat/src/Compat.jl:539.\n",
      "WARNING: Method definition bswap(Main.Base.Complex) in module Compat at /home/daisuke_moriwaki/.julia/v0.5/Compat/src/Compat.jl:481 overwritten in module Compat at /home/daisuke_moriwaki/.julia/v0.5/Compat/src/Compat.jl:481.\n",
      "WARNING: Method definition expand(Module, ANY<:Any) in module Compat at /home/daisuke_moriwaki/.julia/v0.5/Compat/src/Compat.jl:172 overwritten in module Compat at /home/daisuke_moriwaki/.julia/v0.5/Compat/src/Compat.jl:172.\n",
      "WARNING: Method definition eltype(Main.Base.Cmd) in module Compat at /home/daisuke_moriwaki/.julia/v0.5/Compat/src/Compat.jl:527 overwritten in module Compat at /home/daisuke_moriwaki/.julia/v0.5/Compat/src/Compat.jl:527.\n",
      "WARNING: Method definition isnull(Any) in module Compat at /home/daisuke_moriwaki/.julia/v0.5/Compat/src/Compat.jl:328 overwritten in module Compat at /home/daisuke_moriwaki/.julia/v0.5/Compat/src/Compat.jl:328.\n",
      "WARNING: Method definition (::Type{DomainError})(Any) in module Compat at /home/daisuke_moriwaki/.julia/v0.5/Compat/src/Compat.jl:613 overwritten in module Compat at /home/daisuke_moriwaki/.julia/v0.5/Compat/src/Compat.jl:613.\n",
      "WARNING: Method definition (::Type{DomainError})(Any, Any) in module Compat at /home/daisuke_moriwaki/.julia/v0.5/Compat/src/Compat.jl:614 overwritten in module Compat at /home/daisuke_moriwaki/.julia/v0.5/Compat/src/Compat.jl:614.\n",
      "WARNING: Method definition (::Type{OverflowError})(Any) in module Compat at /home/daisuke_moriwaki/.julia/v0.5/Compat/src/Compat.jl:619 overwritten in module Compat at /home/daisuke_moriwaki/.julia/v0.5/Compat/src/Compat.jl:619.\n",
      "WARNING: Method definition (::Type{InexactError})(Symbol, Any, Any) in module Compat at /home/daisuke_moriwaki/.julia/v0.5/Compat/src/Compat.jl:608 overwritten in module Compat at /home/daisuke_moriwaki/.julia/v0.5/Compat/src/Compat.jl:608.\n",
      "WARNING: Method definition (::Type{Main.Base.IOContext})(Main.Base.IOContext, Main.Base.Pair, Main.Base.Pair) in module Compat at /home/daisuke_moriwaki/.julia/v0.5/Compat/src/Compat.jl:899 overwritten in module Compat at /home/daisuke_moriwaki/.julia/v0.5/Compat/src/Compat.jl:899.\n",
      "WARNING: Method definition (::Type{Main.Base.IOContext})(IO, Main.Base.Pair, Main.Base.Pair, Main.Base.Pair...) in module Compat at /home/daisuke_moriwaki/.julia/v0.5/Compat/src/Compat.jl:897 overwritten in module Compat at /home/daisuke_moriwaki/.julia/v0.5/Compat/src/Compat.jl:897.\n",
      "WARNING: Method definition (::Type{Main.Base.LinearIndexing})(Type{#T<:Any}) in module Compat at /home/daisuke_moriwaki/.julia/v0.5/Compat/src/Compat.jl:437 overwritten in module Compat at /home/daisuke_moriwaki/.julia/v0.5/Compat/src/Compat.jl:437.\n",
      "WARNING: Method definition (::Type{Main.Base.LinearIndexing})(Any...) in module Compat at /home/daisuke_moriwaki/.julia/v0.5/Compat/src/Compat.jl:438 overwritten in module Compat at /home/daisuke_moriwaki/.julia/v0.5/Compat/src/Compat.jl:438.\n",
      "WARNING: Method definition (::Type{Main.Base.Val})(Any) in module Compat at /home/daisuke_moriwaki/.julia/v0.5/Compat/src/Compat.jl:551 overwritten in module Compat at /home/daisuke_moriwaki/.julia/v0.5/Compat/src/Compat.jl:551.\n",
      "WARNING: Method definition (::Type{Array{#T<:Any, 2}})(Main.Base.LinAlg.UniformScaling, Tuple{Int64, Int64}) in module Compat at /home/daisuke_moriwaki/.julia/v0.5/Compat/src/Compat.jl:872 overwritten in module Compat at /home/daisuke_moriwaki/.julia/v0.5/Compat/src/Compat.jl:872.\n",
      "WARNING: Method definition (::Type{Array{#T<:Any, 2}})(Main.Base.LinAlg.UniformScaling, Integer, Integer) in module Compat at /home/daisuke_moriwaki/.julia/v0.5/Compat/src/Compat.jl:873 overwritten in module Compat at /home/daisuke_moriwaki/.julia/v0.5/Compat/src/Compat.jl:873.\n",
      "WARNING: Method definition (::Type{Main.Base.SparseArrays.SparseMatrixCSC{#Tv<:Any, Ti<:Integer}})(Main.Base.LinAlg.UniformScaling, Integer, Integer) in module Compat at /home/daisuke_moriwaki/.julia/v0.5/Compat/src/Compat.jl:876 overwritten in module Compat at /home/daisuke_moriwaki/.julia/v0.5/Compat/src/Compat.jl:876.\n",
      "WARNING: Method definition (::Type{Main.Base.SparseArrays.SparseMatrixCSC{#Tv<:Any, #Ti<:Any}})(Main.Base.LinAlg.UniformScaling, Integer, Integer) in module Compat at /home/daisuke_moriwaki/.julia/v0.5/Compat/src/Compat.jl:875 overwritten in module Compat at /home/daisuke_moriwaki/.julia/v0.5/Compat/src/Compat.jl:875.\n",
      "WARNING: Method definition (::Type{Main.Base.SparseArrays.SparseMatrixCSC{#Tv<:Any, Ti<:Integer}})(Main.Base.LinAlg.UniformScaling, Tuple{Int64, Int64}) in module Compat at /home/daisuke_moriwaki/.julia/v0.5/Compat/src/Compat.jl:877 overwritten in module Compat at /home/daisuke_moriwaki/.julia/v0.5/Compat/src/Compat.jl:877.\n",
      "WARNING: Method definition (::Type{Main.Base.SparseArrays.SparseMatrixCSC{#Tv<:Any, #Ti<:Any}})(Main.Base.LinAlg.UniformScaling, Tuple{Int64, Int64}) in module Compat at /home/daisuke_moriwaki/.julia/v0.5/Compat/src/Compat.jl:879 overwritten in module Compat at /home/daisuke_moriwaki/.julia/v0.5/Compat/src/Compat.jl:879.\n",
      "WARNING: Method definition (::Type{Array{#T<:Any, N<:Any}})(Main.Base.LinAlg.UniformScaling, Tuple{Int64, Int64}) in module Compat at /home/daisuke_moriwaki/.julia/v0.5/Compat/src/Compat.jl:891 overwritten in module Compat at /home/daisuke_moriwaki/.julia/v0.5/Compat/src/Compat.jl:891.\n",
      "WARNING: Method definition (::Type{Array{#T<:Any, N<:Any}})(Main.Base.LinAlg.UniformScaling, Integer, Integer) in module Compat at /home/daisuke_moriwaki/.julia/v0.5/Compat/src/Compat.jl:892 overwritten in module Compat at /home/daisuke_moriwaki/.julia/v0.5/Compat/src/Compat.jl:892.\n",
      "WARNING: Method definition describe(AbstractArray) in module StatsBase at /home/daisuke_moriwaki/.julia/v0.5/StatsBase/src/scalarstats.jl:560 overwritten in module DataFrames at /home/daisuke_moriwaki/.julia/v0.5/DataFrames/src/abstractdataframe/abstractdataframe.jl:407.\n"
     ]
    }
   ],
   "source": [
    "using QuantEcon\n",
    "using Plots\n",
    "using Interpolations\n",
    "using Distributions\n",
    "using DataFrames\n",
    "srand(20150423);\n",
    "#using BenchmarkTools\n",
    "#using ParallelAccelerator"
   ]
  },
  {
   "cell_type": "markdown",
   "metadata": {
    "slideshow": {
     "slide_type": "slide"
    }
   },
   "source": [
    "# Motivation\n",
    "* In 2017, it is reported taht there is 6 million care revievers in Japan by MLHW. The number is expected to increase as the baby boomers, or Dankai generations become \"late elderly\".\n",
    "* It is unclear whether the Japanese LTCI system is sustanable in the sense of financially, which has been pointed out by several researchers.\n",
    "* More importantly, the impact of care needs on economy itself (oppose to accountant's view) should be studied.\n"
   ]
  },
  {
   "cell_type": "markdown",
   "metadata": {
    "slideshow": {
     "slide_type": "slide"
    }
   },
   "source": [
    "* It is easy to predict that \"caregiver ratio\" (the number of caregivers per one care receiver) explodes in the near future.\n",
    "* Aside from the financial sustainability, the explosion of caregiver ratio cause several problems\n",
    "    * insufficient care for elderly (insufficient availability of cheap nursing home, *tokuyou*)\n",
    "    * Poverty due to care-leave for frail older family\n",
    "    * *Economy itself* due to less labor supply\n",
    "* Such a wide range of problem should be tackled by macroeconomic model rather than causal analysis."
   ]
  },
  {
   "cell_type": "markdown",
   "metadata": {},
   "source": [
    "# Summary of Results\n",
    "* ..."
   ]
  },
  {
   "cell_type": "markdown",
   "metadata": {},
   "source": [
    "# Literature\n",
    "\n",
    "* Briefly survery several work in the labor and macro fields.\n"
   ]
  },
  {
   "cell_type": "markdown",
   "metadata": {
    "slideshow": {
     "slide_type": "slide"
    }
   },
   "source": [
    "\n",
    "## Labor supply and informal care (causal studies)\n",
    "\n",
    "* moriwaki (2015, mimeo) finds negative effect from informal care only for male.\n",
    "* Nishimura\n",
    "* "
   ]
  },
  {
   "cell_type": "markdown",
   "metadata": {},
   "source": [
    "## Social Security System and Macro economy\n",
    "* Li (EER, 2018)\n"
   ]
  },
  {
   "cell_type": "markdown",
   "metadata": {},
   "source": [
    "\n",
    "\n",
    "## Sustainability due to aging population in Japan\n",
    "* Kitao\n"
   ]
  },
  {
   "cell_type": "markdown",
   "metadata": {
    "slideshow": {
     "slide_type": "slide"
    }
   },
   "source": [
    "# Set up *\"Care Economy\"*"
   ]
  },
  {
   "cell_type": "markdown",
   "metadata": {},
   "source": [
    "# Demography\n",
    "* 3 periods: young, middle, and old\n",
    "    * young: work in the market and consume goods and leisure.Save for the future 22-44\n",
    "    * middle: work both in the market and home. consume goods and leisure. Save for the future. No mortality risk. 45-64\n",
    "    * old: no work in both market and home. Those with bad health receive care either in public nursing home or at home. Mortality risk is present. 65+\n",
    "* Consider 3 states: now (old is less than middle and young), 10 years later (old is more than middle and young), 20 years later (old is much more than young and middle)"
   ]
  },
  {
   "cell_type": "markdown",
   "metadata": {
    "slideshow": {
     "slide_type": "slide"
    }
   },
   "source": [
    "## Household\n",
    "\n",
    "* The model economy is populated by many households. \n",
    "    * You may imagine either single households without gender and unknown re-production technique or many households with couples and kids where income, assets, health, and time endowment is shared. \n",
    "    * More realistic modelling is listed as future study\n",
    "* wage rate is exogenous to the agent. Given wage rate, labor supply is endogeneous.\n",
    "* No negative saving is allowed (consider whether we can borrow without collateral)."
   ]
  },
  {
   "cell_type": "markdown",
   "metadata": {
    "slideshow": {
     "slide_type": "slide"
    }
   },
   "source": [
    "## Care in detail\n",
    "* In this economy, every middle-aged households face the risk of becoming care giver.\n",
    "* In the beginning of the period, the health status of all households is assigned. \n",
    "* Then the total *care needs* is determined. \n",
    "* The government determine how much care to provide, which is sometimes insufficient. That deliniates reality in Japan (there are 360,000 people on the waiting list).\n",
    "* Unmet care needs is distributed to potential care givers (*middle*). No state dependency. Imagine that you might become a informal care giver for your uncle, spouse's siblings and so on as well as your own genetic parents and spouse. Unexpectable.\n",
    "* This scenario totally igonres the positive utility from care-giving. But there are lots of tragedies associated with informal care."
   ]
  },
  {
   "cell_type": "markdown",
   "metadata": {
    "slideshow": {
     "slide_type": "slide"
    }
   },
   "source": [
    "## Preference\n",
    "* simple and general utility function. e.g. Yue (2018, EER)"
   ]
  },
  {
   "cell_type": "code",
   "execution_count": 4,
   "metadata": {},
   "outputs": [
    {
     "data": {
      "text/plain": [
       "calc_utility (generic function with 3 methods)"
      ]
     },
     "execution_count": 4,
     "metadata": {},
     "output_type": "execute_result"
    }
   ],
   "source": [
    "function calc_utility(c, l,chi = chi, sigma = sigma) \n",
    "    if c <= 0 || l <= 0\n",
    "        return -100000\n",
    "    else\n",
    "        return (((c^(1-chi))*(l^chi))^(1-sigma))/(1 - sigma)\n",
    "    end\n",
    "end"
   ]
  },
  {
   "cell_type": "markdown",
   "metadata": {
    "slideshow": {
     "slide_type": "slide"
    }
   },
   "source": [
    "## consumption\n",
    "* consumption is deterimined by assets, income and saving\n",
    "* there is a social assistence for the poor"
   ]
  },
  {
   "cell_type": "code",
   "execution_count": 5,
   "metadata": {
    "slideshow": {
     "slide_type": "subslide"
    }
   },
   "outputs": [
    {
     "data": {
      "text/plain": [
       "calc_consumption (generic function with 2 methods)"
      ]
     },
     "execution_count": 5,
     "metadata": {},
     "output_type": "execute_result"
    }
   ],
   "source": [
    "function calc_consumption(age, new_asset::Real, income::Real, asset::Real, r::Real=r)\n",
    "    if age < num_period\n",
    "        if new_asset >= (1+r)*asset + income\n",
    "            return 0\n",
    "        else\n",
    "            (1 + r)*asset + income - new_asset # allow negative consumption\n",
    "        end\n",
    "    else\n",
    "        return (1 + r)*asset + income\n",
    "        #return 10000000\n",
    "    end \n",
    "end"
   ]
  },
  {
   "cell_type": "markdown",
   "metadata": {
    "slideshow": {
     "slide_type": "slide"
    }
   },
   "source": [
    "## income\n",
    "* income is determined by hourking hour in market and tax\n"
   ]
  },
  {
   "cell_type": "code",
   "execution_count": 6,
   "metadata": {
    "slideshow": {
     "slide_type": "subslide"
    }
   },
   "outputs": [
    {
     "data": {
      "text/plain": [
       "calc_income (generic function with 1 method)"
      ]
     },
     "execution_count": 6,
     "metadata": {},
     "output_type": "execute_result"
    }
   ],
   "source": [
    "function calc_income(wage, hour_mkt, pension, tau)\n",
    "    (1 - tau)*wage*hour_mkt + pension\n",
    "end"
   ]
  },
  {
   "cell_type": "markdown",
   "metadata": {
    "slideshow": {
     "slide_type": "slide"
    }
   },
   "source": [
    "## pension\n",
    "* pension is taken up by old.\n",
    "* the level of benefit is determined by wage history and replacement rate"
   ]
  },
  {
   "cell_type": "code",
   "execution_count": 7,
   "metadata": {
    "slideshow": {
     "slide_type": "subslide"
    }
   },
   "outputs": [
    {
     "data": {
      "text/plain": [
       "calc_new_average_income (generic function with 1 method)"
      ]
     },
     "execution_count": 7,
     "metadata": {},
     "output_type": "execute_result"
    }
   ],
   "source": [
    "function calc_new_average_income(age, last_average_income, current_wage, current_hour_mkt)\n",
    "    if age == 1\n",
    "        return current_wage*current_hour_mkt # calc average income for today\n",
    "    elseif age >= retirement_age\n",
    "        return last_average_income # after retired average income is fixed\n",
    "    else\n",
    "        return (last_average_income*(age - 1) + current_wage*current_hour_mkt)/age # during working age average income is changed \n",
    "    end\n",
    "end"
   ]
  },
  {
   "cell_type": "code",
   "execution_count": 8,
   "metadata": {
    "slideshow": {
     "slide_type": "subslide"
    }
   },
   "outputs": [
    {
     "data": {
      "text/plain": [
       "calc_pension (generic function with 3 methods)"
      ]
     },
     "execution_count": 8,
     "metadata": {},
     "output_type": "execute_result"
    }
   ],
   "source": [
    "function calc_pension(age, average_income, rep_rate = rep_rate, retirement_age = retirement_age)\n",
    "    if age >= retirement_age\n",
    "        return rep_rate*average_income\n",
    "    else\n",
    "        return 0\n",
    "    end\n",
    "end"
   ]
  },
  {
   "cell_type": "markdown",
   "metadata": {
    "slideshow": {
     "slide_type": "slide"
    }
   },
   "source": [
    "## wage\n",
    "* wage evolves according to $w_{i,t} = \\mu + \\rho w_{i, t-1} + \\epsilon_{t}$. \n",
    "* need to be complicated when finer horizon is embedded.\n",
    "* use tauchen method to generate transition matrix"
   ]
  },
  {
   "cell_type": "markdown",
   "metadata": {
    "slideshow": {
     "slide_type": "slide"
    }
   },
   "source": [
    "## Informal care\n",
    "* Middle-aged household is assigned care needs randomly.\n",
    "* The level of care is represented as required hour for care at home.\n",
    "* Once all the household draw the raw hour at home $h^H$, they are sum up as $\\sum_i h^H_i$\n",
    "* The total demand for care $D^H = \\sum_i I (h_i \\in (0,  0.1)$\n",
    "* The unmet care needs $D^{H, unmet} = D^H - NH$ is distributed out to proportionaly to $h^H$\n",
    "* Numerical excercise is done without empirical studies, which should be done in the future."
   ]
  },
  {
   "cell_type": "code",
   "execution_count": 9,
   "metadata": {},
   "outputs": [
    {
     "data": {
      "text/plain": [
       "calc_hour_home (generic function with 4 methods)"
      ]
     },
     "execution_count": 9,
     "metadata": {},
     "output_type": "execute_result"
    }
   ],
   "source": [
    "function calc_hour_home(age, raw_hour_home, LTCI_type, NH_rate, ceiling, dep_rate::Real = dep_rate, sick_rate::Real=sick_rate, care_hour::Real=care_hour)\n",
    "    if LTCI_type == 1\n",
    "        if age in middle_age\n",
    "            return min(raw_hour_home*(1 - NH_rate)*dep_rate*sick_rate*care_hour, 0.9999)\n",
    "        else\n",
    "            return 0\n",
    "        end\n",
    "    else\n",
    "        if age in middle_age\n",
    "            return min(raw_hour_home*dep_rate*sick_rate*care_hour, ceiling)\n",
    "        else\n",
    "            return 0\n",
    "        end\n",
    "\n",
    "    end\n",
    "end"
   ]
  },
  {
   "cell_type": "markdown",
   "metadata": {},
   "source": [
    "## health status\n",
    "* health status so far only matters how many old need care.\n",
    "* health is not associated with wage, labor.\n",
    "* we do not take health into accont explicitly."
   ]
  },
  {
   "cell_type": "markdown",
   "metadata": {
    "slideshow": {
     "slide_type": "slide"
    }
   },
   "source": [
    "## labor supply\n",
    "* labor supply is endogeneous\n",
    "* young and middle household optimizes labor supply as well as consumption (saving) for given time endowment\n",
    "* time endowment is varying across agent due to informal care\n",
    "* From the first order condition $l = c(1 - \\tau)w \\frac{\\chi}{1 - \\chi}$"
   ]
  },
  {
   "cell_type": "code",
   "execution_count": 10,
   "metadata": {},
   "outputs": [
    {
     "data": {
      "text/plain": [
       "calc_hour_mkt"
      ]
     },
     "execution_count": 10,
     "metadata": {},
     "output_type": "execute_result"
    }
   ],
   "source": [
    "\"calc_hour_mkt(age, leisure, hour_home, retirement_age)\n",
    "\n",
    "calculate hour in the market.\n",
    "\n",
    "**Argments**: \n",
    "\n",
    "        age, leisure, hour at homt\n",
    "\n",
    "**Return**\n",
    "\n",
    "        working hour at market\"\n",
    "function calc_hour_mkt(age::Real, leisure::Real, hour_home::Real, retirement_age::Int=retirement_age)\n",
    "    if leisure + hour_home >= 1 || age >= retirement_age\n",
    "        return 0\n",
    "    else\n",
    "        return 1 - leisure - hour_home\n",
    "    end\n",
    "end"
   ]
  },
  {
   "cell_type": "markdown",
   "metadata": {
    "slideshow": {
     "slide_type": "slide"
    }
   },
   "source": [
    "## Government\n",
    "* government provide insufficient formal care funded by social security premium contributed by working age, which is resemble to Japanese LTCI\n",
    "* cost of formal care is determined by personnel expenses of informal care worker.\n",
    "* The government chooses one of two LTCI system\n",
    "\\begin{eqnarray}\n",
    "LTCI \\, (type 1) &=& w^{care} \\phi N^{old} sick rate \\, d^H  NH rate \\\\\n",
    "LTCI \\, (type 2) &=& w^{care} \\phi \\sum_i(care_i - \\bar{care}) \\mathbb{1}[care_i > \\bar{care}]\n",
    "\\end{eqnarray}\n",
    "* __type1__ is *proportional sapplements* where the government provide formal care proportional to the level of required care. $w^{care}$ denotes average wage for worker at nurinsg home. $N^{old}$, $sick rate$, $d^H$, $NH rate$ represents the population of old, the rate of care receivers to the old and required care hour per sick old. Finally, $\\phi$ is a multiplier ly inside $(0, 1)$. This multiplier represents *efficiency* of nurinsg home.   \n",
    "* __type2__ is *ceiling*. The care above the ceiling is given by the government.\n",
    "* $\\phi:$ Usually, typical informal care giver provide care to one care receiver, whereas (formal) care worker can work for multiple care receivers. They also benefit from the division of labor.\n",
    "\n",
    "* On the other hand, the government collect $\\tau\\sum_i w_i h_{M, i}$ from all the young and middle."
   ]
  },
  {
   "cell_type": "markdown",
   "metadata": {
    "slideshow": {
     "slide_type": "slide"
    }
   },
   "source": [
    "# Quantitative Exercise"
   ]
  },
  {
   "cell_type": "markdown",
   "metadata": {
    "slideshow": {
     "slide_type": "slide"
    }
   },
   "source": [
    "## Solution\n",
    "* The model is solved (ideally) by method of simulated moment.\n",
    "* So far no calibration made\n",
    "* Optimization by households is done by backward induction."
   ]
  },
  {
   "cell_type": "markdown",
   "metadata": {
    "slideshow": {
     "slide_type": "slide"
    }
   },
   "source": [
    "## Value function\n",
    "* value function optimization $v_t = max_{c_t, l_t} (u(c_t, l_t) + \\beta \\mathbb{E}\\left( v_{t+1}(a_{t+1}) \\right))$ \n",
    "* wrt usual budget constraint with no borrowing\n"
   ]
  },
  {
   "cell_type": "code",
   "execution_count": 11,
   "metadata": {},
   "outputs": [
    {
     "data": {
      "text/plain": [
       "value_function"
      ]
     },
     "execution_count": 11,
     "metadata": {},
     "output_type": "execute_result"
    }
   ],
   "source": [
    "\"value_function(utility, expected_value, beta)\n",
    "calculate instant value for given utility and expected values in the next period\"\n",
    "function value_function(utility::Real, expected_value::Real, beta::Real = beta)\n",
    "    utility + beta*expected_value\n",
    "end"
   ]
  },
  {
   "cell_type": "markdown",
   "metadata": {
    "collapsed": true
   },
   "source": [
    "## Expected values\n",
    "* expected values are dot product of transition matrix and state-dependent values "
   ]
  },
  {
   "cell_type": "code",
   "execution_count": 12,
   "metadata": {},
   "outputs": [
    {
     "data": {
      "text/plain": [
       "interpolate_vector (generic function with 2 methods)"
      ]
     },
     "execution_count": 12,
     "metadata": {},
     "output_type": "execute_result"
    }
   ],
   "source": [
    "function interpolate_vector(current_value::Real, grid, trans_mat, num_grid = num_grid)\n",
    "    itp = interpolate((grid, grid), trans_mat, Gridded(Linear()))\n",
    "    vec = itp[current_value, grid]\n",
    "    for i in 1:num_grid\n",
    "        if vec[i] < 0\n",
    "            vec[i] = 0\n",
    "        end\n",
    "    end\n",
    "    return vec\n",
    "end"
   ]
  },
  {
   "cell_type": "code",
   "execution_count": 13,
   "metadata": {},
   "outputs": [
    {
     "data": {
      "text/plain": [
       "gen_prob_vec"
      ]
     },
     "execution_count": 13,
     "metadata": {},
     "output_type": "execute_result"
    }
   ],
   "source": [
    "\"gen_prob_vec\n",
    "return probability vector for arbitrary wage, hour at home, current_average_income\n",
    "\n",
    "**Args**\n",
    "current_wage\n",
    "current_hour_home\n",
    "current_average_wage\n",
    "\n",
    "**return**\n",
    "vector of probability\n",
    "\"\n",
    "function gen_prob_vec(current_wage, current_hour_home, wage_grid = wage_grid, hour_home_grid = hour_home_grid,\n",
    "        wage_trans_mat = wage_trans_mat, hour_home_trans_mat= hour_home_trans_mat)\n",
    "    wage_prob_vector = interpolate_vector(current_wage, wage_grid, wage_trans_mat)\n",
    "    hour_home_prob_vector = interpolate_vector(current_hour_home, hour_home_grid, hour_home_trans_mat)\n",
    "    return kron(wage_prob_vector, hour_home_prob_vector)\n",
    "end"
   ]
  },
  {
   "cell_type": "code",
   "execution_count": 14,
   "metadata": {},
   "outputs": [
    {
     "data": {
      "text/plain": [
       "get_new_value"
      ]
     },
     "execution_count": 14,
     "metadata": {},
     "output_type": "execute_result"
    }
   ],
   "source": [
    "\"get_new_value(new_asset, max_value_mat, asset_grid = asset_grid, num_grid = num_grid): \n",
    "\n",
    "\n",
    "get vector of maximized value for next period given choice asset and states current wage, current hour at home. \n",
    "max_value_mat should be asset_grid x wage, relative_hour_home\"\n",
    "function get_new_value(new_asset, new_average_income, max_value_mat, asset_grid = asset_grid, wage_grid = wage_grid,  num_grid = num_grid)\n",
    "    v_new = zeros(num_grid^2, 1)\n",
    "    for i in 1:num_grid^2\n",
    "        temp_slice = max_value_mat[:,i]\n",
    "        temp_mat= reshape(temp_slice, num_grid, num_grid)\n",
    "        knots = (asset_grid, wage_grid)        \n",
    "        itp = interpolate(knots, temp_mat, Gridded(Linear()))\n",
    "        v_new[i] = itp[new_asset, new_average_income]\n",
    "    end\n",
    "    return v_new\n",
    "end"
   ]
  },
  {
   "cell_type": "markdown",
   "metadata": {},
   "source": [
    "## Generate Policy Function"
   ]
  },
  {
   "cell_type": "code",
   "execution_count": 15,
   "metadata": {},
   "outputs": [
    {
     "data": {
      "text/plain": [
       "generate_max_values_matrix"
      ]
     },
     "execution_count": 15,
     "metadata": {},
     "output_type": "execute_result"
    }
   ],
   "source": [
    "\"generate_max_values_matrix(value_function, asset_grid, leisure_grid, wage_grid, hour_home_grid, num_grid):\n",
    "\n",
    "maximize value with respect to leisure and consumption\n",
    "\"\n",
    "\n",
    "function generate_max_values_matrix(age, tau, LTCI_type, NH_rate, ceiling, value_function::Function, new_max_value_mat = \n",
    "        zeros(num_grid, num_grid^3), asset_grid = asset_grid, leisure_grid = leisure_grid,\n",
    "        wage_grid = wage_grid, hour_home_grid = hour_home_grid, num_grid = num_grid)\n",
    "    # initializing matrices\n",
    "    value_matrix = zeros(num_grid^2, num_grid^4);\n",
    "    consumption_mat = zeros(num_grid^2, num_grid^4);\n",
    "    leisure_mat = zeros(num_grid^2, num_grid^4);\n",
    "    income_mat = zeros(num_grid^2, num_grid^4);\n",
    "    new_average_income_mat = zeros(num_grid^2, num_grid^4);\n",
    "    new_asset_mat = ones(num_grid^2, num_grid^4);\n",
    "    wage_mat = zeros(num_grid^2, num_grid^4);\n",
    "    new_asset_mat = zeros(num_grid^2, num_grid^4);\n",
    "    hour_home_mat = zeros(num_grid^2, num_grid^4); # hour home (realized)\n",
    "    raw_hour_home_mat = zeros(num_grid^2, num_grid^4); # relative hour home (not real one)\n",
    "    hour_mkt_mat = zeros(num_grid^2, num_grid^4);\n",
    "\n",
    "    for new_asset_ind = 1:num_grid  \n",
    "        for leisure_ind = 1:num_grid\n",
    "            for asset_ind = 1:num_grid\n",
    "                for average_income_ind = 1:num_grid\n",
    "                    for wage_ind = 1:num_grid\n",
    "                        for hour_home_ind = 1:num_grid\n",
    "                            new_asset = asset_grid[new_asset_ind]      \n",
    "                            leisure = leisure_grid[leisure_ind]\n",
    "                            asset = asset_grid[asset_ind]\n",
    "                            wage = wage_grid[wage_ind] # wage is 0 when retired\n",
    "                            #if age < retirement_age\n",
    "                            #    wage = wage_grid[wage_ind] # wage is 0 when retired\n",
    "                            #else\n",
    "                            #    wage = 0\n",
    "                            #end\n",
    "                            raw_hour_home = hour_home_grid[hour_home_ind]\n",
    "                            hour_home = calc_hour_home(age, raw_hour_home, LTCI_type, NH_rate, ceiling)\n",
    "                            hour_mkt = calc_hour_mkt(age, leisure, hour_home)\n",
    "                            if age == 1\n",
    "                                average_income = 0\n",
    "                            else\n",
    "                                average_income = wage_grid[average_income_ind]\n",
    "                            end\n",
    "                            new_average_income = calc_new_average_income(age, average_income, wage,  hour_mkt) # calculate average income\n",
    "\n",
    "                            pension = calc_pension(age, average_income)\n",
    "                            income = calc_income(wage, hour_mkt, pension, tau)\n",
    "                            consumption = calc_consumption(age, new_asset, income, asset)\n",
    "                            utility = calc_utility(consumption, leisure)\n",
    "                            \n",
    "                            row_ind = new_asset_ind + (leisure_ind - 1)*num_grid\n",
    "                            col_ind = asset_ind + (average_income_ind - 1)*num_grid+ (wage_ind - 1)*num_grid^2 + (hour_home_ind - 1)*num_grid^3\n",
    "                            \n",
    "                            # store variables\n",
    "                            consumption_mat[row_ind, col_ind] = consumption;\n",
    "                            new_asset_mat[row_ind, col_ind] = new_asset;\n",
    "                            leisure_mat[row_ind, col_ind] = leisure;\n",
    "                            income_mat[row_ind, col_ind] = income;\n",
    "                            wage_mat[row_ind, col_ind] = wage;\n",
    "                            new_average_income_mat[row_ind, col_ind] = new_average_income;\n",
    "                            raw_hour_home_mat[row_ind, col_ind] = raw_hour_home;\n",
    "                            hour_home_mat[row_ind, col_ind] = hour_home;\n",
    "                            hour_mkt_mat[row_ind, col_ind] = hour_mkt;\n",
    "                            \n",
    "                            # calc expected_value\n",
    "                            v_new_vec = get_new_value(new_asset, new_average_income, new_max_value_mat)\n",
    "                            p = gen_prob_vec(wage, hour_home)\n",
    "                            expected_value = dot(v_new_vec, p)\n",
    "                            value_matrix[row_ind, col_ind] = value_function(utility, expected_value)\n",
    "                        end\n",
    "                    end\n",
    "                end\n",
    "            end\n",
    "        end\n",
    "    end\n",
    "    # get max value for each asset, wage, h_H. maximizing with respect to new asset and leisure\n",
    "    #max_value = maximum(value_matrix, 1)\n",
    "    max_value, max_ind = findmax(value_matrix, 1)\n",
    "    # reshape value matrix to (asset_grid x new_average_income)  x (w x h_H)\n",
    "    # this should be fix throughout the simulation\n",
    "    max_values_reshaped = reshape(max_value, num_grid^2, num_grid^2);\n",
    "    return max_values_reshaped, max_ind, new_asset_mat, consumption_mat, income_mat, wage_mat, hour_home_mat, raw_hour_home_mat, \n",
    "    hour_mkt_mat, new_average_income_mat\n",
    "end\n",
    "\n"
   ]
  },
  {
   "cell_type": "code",
   "execution_count": null,
   "metadata": {
    "collapsed": true
   },
   "outputs": [],
   "source": []
  },
  {
   "cell_type": "code",
   "execution_count": 16,
   "metadata": {},
   "outputs": [
    {
     "data": {
      "text/plain": [
       "gen_policy_function (generic function with 3 methods)"
      ]
     },
     "execution_count": 16,
     "metadata": {},
     "output_type": "execute_result"
    }
   ],
   "source": [
    "function gen_policy_function(tau, LTCI_type, NH_rate, ceiling, num_grid = num_grid, value_function = value_function)\n",
    "    \n",
    "    new_max_value_matrix = zeros(num_grid^2, num_grid^2);\n",
    "    pol_consumption = zeros(num_period, num_grid^4);\n",
    "    pol_new_asset = zeros(num_period, num_grid^4);\n",
    "    pol_hour_mkt = zeros(num_period, num_grid^4);\n",
    "    pol_income = zeros(num_period, num_grid^4);\n",
    "    pol_new_average_income = zeros(num_period, num_grid^4);\n",
    "\n",
    "    for t in (3,2,1)\n",
    "        max_values_reshaped, max_ind, new_asset_mat, consumption_mat, income_mat, wage_mat, hour_home_mat, raw_hour_home_mat, \n",
    "        hour_mkt_mat, new_average_income_mat = \n",
    "        generate_max_values_matrix(t, tau, LTCI_type, NH_rate, ceiling, value_function, new_max_value_matrix)\n",
    "        \n",
    "        pol_consumption[t,:] = consumption_mat[max_ind]\n",
    "        pol_hour_mkt[t,:] = max(hour_mkt_mat[max_ind], 0)\n",
    "        pol_income[t,:] = income_mat[max_ind]\n",
    "        pol_new_average_income[t,:] = new_average_income_mat[max_ind]\n",
    "        pol_new_asset[t,:] = max(new_asset_mat[max_ind], 0)\n",
    "        new_max_value_matrix = max_values_reshaped\n",
    "    end\n",
    "        return pol_consumption, pol_hour_mkt, pol_income, pol_new_asset, pol_new_average_income\n",
    "end"
   ]
  },
  {
   "cell_type": "markdown",
   "metadata": {
    "collapsed": true,
    "slideshow": {
     "slide_type": "slide"
    }
   },
   "source": [
    "# Simulation"
   ]
  },
  {
   "cell_type": "markdown",
   "metadata": {
    "collapsed": true,
    "slideshow": {
     "slide_type": "slide"
    }
   },
   "source": [
    "## Setting\n",
    "* we simulate 100,000 households with 3 periods\n",
    "* initial wage is randomly distributed, assets are set to 0 for young.\n",
    "* wage evolves according to the distribution. Highly persistent with $\\rho = 0.9$ \n",
    "* hour at home are set randomly"
   ]
  },
  {
   "cell_type": "code",
   "execution_count": 17,
   "metadata": {
    "collapsed": true
   },
   "outputs": [],
   "source": [
    "# setting\n",
    "\n",
    "### Economy ###\n",
    "const num_threads = 16;\n",
    "const r = 0.01; # interest rate\n",
    "const dep_rate = 1 # dependency rate\n",
    "const wage_care = 0.7; # care workers' wage rate. ratio to all industry\n",
    "const sick_rate = 0.5; # need care old / old\n",
    "const care_hour = 0.75; # care demand per care receiver in hours\n",
    "const middle_age = (2); # when giving care\n",
    "\n",
    "### Government ###\n",
    "#tau = 0.3; # income tax rate\n",
    "const rep_rate = 0.4; # replacement rate\n",
    "#NH_rate = 0.5; # government formal care provision rate. ratio to needed care\n",
    "const retirement_age = 3; # age when household can take up pension\n",
    "const num_period = 3; # number of periods when hh dies surely\n",
    "const phi = 2/3 # cost efficiency of nursing home compared tp informal care \n",
    "# LTCI_type = 1; # 1 = proportionaly distribution, 2 = ceiling\n",
    "#ceiling = 0.2; # ceiling of informal care. above that the government take care of the needy\n",
    "\n",
    "\n",
    "### Preference ###\n",
    "const beta = 0.9; # discount rate\n",
    "const chi = .28; # share of leisure in utilty\n",
    "const sigma = 4; # intertemporal substitution\n",
    "\n",
    "### numerical excersize ###\n",
    "num_grid = 3; # number of grid 9\n",
    "const min_asset = 0; # minimum asset\n",
    "const max_asset = 10; # maximum asset\n",
    "const min_leisure = 0.001;\n",
    "const max_leisure = 0.999;\n",
    "\n",
    "# wage trainsition matrix\n",
    "# \"const\" make it faster \n",
    "const wage_rho = 0.9 # param for wage function\n",
    "const wage_sigma = 0.2# param for wage function standard deviation for epsilon\n",
    "const wage_mu = 0 # mean wage\n",
    "const wage_n_std = 3  # length of grid\n",
    "\n",
    "const wage_markovchain = tauchen(num_grid, wage_rho, wage_sigma, wage_mu, wage_n_std);\n",
    "const wage_trans_mat = wage_markovchain.p;\n",
    "const wage_grid = exp(wage_markovchain.state_values);\n",
    "\n",
    "# informal care grid and transition matrix\n",
    "\n",
    "hour_home_rho = 0 # param for wage function\n",
    "hour_home_sigma = 1# param for wage function standard deviation for epsilon\n",
    "hour_home_mu = 0 # mean hour at home\n",
    "hour_home_n_std = 3 # length of grid\n",
    "\n",
    "hour_home_markovchain = tauchen(num_grid, hour_home_rho, hour_home_sigma, hour_home_mu, hour_home_n_std);\n",
    "hour_home_trans_mat = hour_home_markovchain.p;\n",
    "hour_home_grid = exp(hour_home_markovchain.state_values);\n",
    "\n",
    "asset_grid = linspace(min_asset, max_asset, num_grid);\n",
    "leisure_grid = linspace(min_leisure, max_leisure, num_grid);\n",
    "\n",
    "# simulation 100 thousand H/H\n",
    "# initializing matrices\n",
    "num_hh = 1000; # 100000\n",
    "\n",
    "asset_record = zeros(num_hh, num_period);\n",
    "wage_record = zeros(num_hh, num_period);\n",
    "average_income_record = zeros(num_hh,num_period);\n",
    "raw_hour_home_record = zeros(num_hh, num_period);\n",
    "hour_home_record = zeros(num_hh, num_period);\n",
    "hour_mkt_record = zeros(num_hh, num_period);\n",
    "consumption_record = zeros(num_hh, num_period);\n",
    "\n",
    "# wage is first generated by normal and transformed into exponentiated value\n",
    "wage_dist = Normal(wage_mu, wage_sigma^2/(1 - wage_rho^2));\n",
    "log_wage = rand(wage_dist, num_hh, 1);\n",
    "wage_record[:,1] = exp(log_wage);\n",
    "eps_dist = Normal(0, wage_sigma);\n",
    "wage_record[:,2] = exp(wage_rho*log_wage + rand(eps_dist, num_hh, 1));\n",
    "\n",
    "# raw hour home. the hour ac\n",
    "hour_home_dist = Normal(hour_home_mu, hour_home_sigma^2);\n",
    "log_hour_home = rand(hour_home_dist, num_hh, num_period);\n",
    "raw_hour_home_record = exp(log_hour_home);\n",
    "raw_hour_home_record[:, 1] = 0;"
   ]
  },
  {
   "cell_type": "code",
   "execution_count": 18,
   "metadata": {},
   "outputs": [
    {
     "data": {
      "text/plain": [
       "simulator (generic function with 12 methods)"
      ]
     },
     "execution_count": 18,
     "metadata": {},
     "output_type": "execute_result"
    }
   ],
   "source": [
    "function simulator(LTCI_type, NH_rate, ceiling, pol_consumption, pol_new_asset, pol_hour_mkt, pol_new_average_income, consumption_record = consumption_record,\n",
    "        asset_record = asset_record, hour_mkt_record = hour_mkt_record, hour_home_record = hour_home_record, \n",
    "        average_income_record = average_income_record, asset_grid = asset_grid, hour_home_grid = hour_home_grid,  \n",
    "        wage_grid = wage_grid, num_grid = num_grid, retirement_age = retirement_age,  num_period = num_period)\n",
    "    \n",
    "\n",
    "    for t = 1:num_period\n",
    "        pol_consumption_reshape = reshape(pol_consumption[t,:], num_grid, num_grid, num_grid, num_grid) # reshape for interpolate    \n",
    "        pol_new_asset_reshape = reshape(pol_new_asset[t,:], num_grid, num_grid, num_grid, num_grid) # reshape for interpolate    \n",
    "        pol_hour_mkt_reshape = reshape(pol_hour_mkt[t,:], num_grid, num_grid, num_grid, num_grid) # reshape for interpolate    \n",
    "        pol_new_average_income_reshape = reshape(pol_new_average_income[t,:], num_grid, num_grid, num_grid, num_grid) # reshape for interpolate    \n",
    "        \n",
    "        consumption_itp = interpolate((asset_grid, wage_grid, wage_grid, hour_home_grid), pol_consumption_reshape, Gridded(Linear()));\n",
    "        new_asset_itp = interpolate((asset_grid, wage_grid, wage_grid, hour_home_grid), pol_new_asset_reshape, Gridded(Linear()));\n",
    "        hour_mkt_itp = interpolate((asset_grid, wage_grid, wage_grid, hour_home_grid), pol_hour_mkt_reshape, Gridded(Linear()));\n",
    "        new_average_income_itp = interpolate((asset_grid, wage_grid, wage_grid, hour_home_grid), pol_new_average_income_reshape, Gridded(Linear()));\n",
    "        \n",
    "        for n = 1:num_hh\n",
    "            if t < retirement_age\n",
    "                asset_record[n,t+1] = new_asset_itp[asset_record[n,t], average_income_record[n,t], wage_record[n,t],\n",
    "                    raw_hour_home_record[n,t]]\n",
    "                average_income_record[n,t + 1] = new_average_income_itp[asset_record[n,t], average_income_record[n,t], \n",
    "                    wage_record[n,t], raw_hour_home_record[n,t]]\n",
    "            end\n",
    "            hour_mkt_record[n,t] = hour_mkt_itp[asset_record[n,t], average_income_record[n,t], wage_record[n,t], raw_hour_home_record[n,t]]\n",
    "            hour_home_record[n,t] = calc_hour_home(t, raw_hour_home_record[n,t], LTCI_type, NH_rate, ceiling);\n",
    "            consumption_record[n,t] = consumption_itp[asset_record[n,t], average_income_record[n,t], wage_record[n,t], raw_hour_home_record[n,t]]\n",
    "\n",
    "            \n",
    "            \n",
    "        end\n",
    "    end\n",
    "    return consumption_record, asset_record, hour_mkt_record, hour_home_record, average_income_record\n",
    "end"
   ]
  },
  {
   "cell_type": "markdown",
   "metadata": {
    "collapsed": true
   },
   "source": [
    "# Fiscal sustainability of LTCI"
   ]
  },
  {
   "cell_type": "code",
   "execution_count": 19,
   "metadata": {},
   "outputs": [
    {
     "data": {
      "text/plain": [
       "LTCI_cost (generic function with 8 methods)"
      ]
     },
     "execution_count": 19,
     "metadata": {},
     "output_type": "execute_result"
    }
   ],
   "source": [
    "# cost \n",
    "function LTCI_cost(LTCI_type, NH_rate, ceiling, raw_hour_home_record = raw_hour_home_record, hour_home_record = hour_home_record, \n",
    "        phi = phi, wage_care = wage_care, care_hour = care_hour,sick_rate = sick_rate, \n",
    "        dep_rate = dep_rate)\n",
    "    if LTCI_type == 1\n",
    "        if NH_rate <= 0\n",
    "            return 0\n",
    "        else\n",
    "            return sum(hour_home_record)*(NH_rate/(1 - NH_rate))*phi*wage_care\n",
    "        end\n",
    "    end\n",
    "    if LTCI_type == 2\n",
    "        if ceiling <= 0\n",
    "            return 0\n",
    "        else\n",
    "            return phi*wage_care*sum((raw_hour_home_record*dep_rate*sick_rate*care_hour - ceiling).*\n",
    "        (raw_hour_home_record*dep_rate*sick_rate*care_hour .> ceiling))\n",
    "        end\n",
    "    end\n",
    "end"
   ]
  },
  {
   "cell_type": "code",
   "execution_count": 20,
   "metadata": {},
   "outputs": [
    {
     "data": {
      "text/plain": [
       "calc_revenue (generic function with 1 method)"
      ]
     },
     "execution_count": 20,
     "metadata": {},
     "output_type": "execute_result"
    }
   ],
   "source": [
    "function calc_revenue(wage_record, hour_mkt_record, tau)\n",
    "    sum(wage_record.*hour_mkt_record*tau)\n",
    "end"
   ]
  },
  {
   "cell_type": "code",
   "execution_count": 21,
   "metadata": {},
   "outputs": [
    {
     "data": {
      "text/plain": [
       "calc_pension_cost (generic function with 4 methods)"
      ]
     },
     "execution_count": 21,
     "metadata": {},
     "output_type": "execute_result"
    }
   ],
   "source": [
    "function calc_pension_cost(wage_record, hour_mkt_record, rep_rate = rep_rate,  num_period = num_period, \n",
    "        retirement_age = retirement_age)\n",
    "    sum(wage_record.*hour_mkt_record)*(1/(retirement_age - 1))*rep_rate\n",
    "end"
   ]
  },
  {
   "cell_type": "markdown",
   "metadata": {
    "collapsed": true,
    "slideshow": {
     "slide_type": "slide"
    }
   },
   "source": [
    "# iteration\n",
    "* set  $\\tau$, LTCI type, NH rate, ceiling, replacement rate and see if converge"
   ]
  },
  {
   "cell_type": "code",
   "execution_count": 22,
   "metadata": {
    "collapsed": true
   },
   "outputs": [],
   "source": [
    "while nworkers() < num_threads\n",
    "    addprocs(1);\n",
    "end"
   ]
  },
  {
   "cell_type": "code",
   "execution_count": 23,
   "metadata": {
    "collapsed": true
   },
   "outputs": [],
   "source": [
    "# debugging\n",
    "\"\"\"tau = 0.3;\n",
    "LTCI_type = 1;\n",
    "NH_rate = 0.5;\n",
    "ceiling = 0;\n",
    "pol_consumption, pol_hour_mkt, pol_income, pol_new_asset, pol_new_average_income = gen_policy_function(tau, LTCI_type, NH_rate, ceiling, num_grid, value_function);\n",
    "consumption_record, asset_record, hour_mkt_record, hour_home_record, new_average_income_record = simulator(LTCI_type, NH_rate, ceiling, pol_consumption, pol_new_asset, pol_hour_mkt, pol_new_average_income);\n",
    "consumption_record\"\"\";"
   ]
  },
  {
   "cell_type": "code",
   "execution_count": 24,
   "metadata": {},
   "outputs": [
    {
     "data": {
      "text/plain": [
       "iteration (generic function with 9 methods)"
      ]
     },
     "execution_count": 24,
     "metadata": {},
     "output_type": "execute_result"
    }
   ],
   "source": [
    "function iteration(tau, LTCI_type, NH_rate, ceiling, tol = 0.05, lr = 0.01, drep_rate = rep_rate, num_grid = num_grid, \n",
    "        raw_hour_home_record = raw_hour_home_record, wage_record = wage_record, value_function = value_function, ratio = 0)\n",
    "    while abs(ratio - 1) > tol\n",
    "        \n",
    "        pol_consumption, pol_hour_mkt, pol_income, pol_new_asset, pol_new_average_income = gen_policy_function(tau, LTCI_type, NH_rate, ceiling, num_grid, value_function)\n",
    "        consumption_record, asset_record, hour_mkt_record, hour_home_record, new_average_income_record = simulator(LTCI_type, NH_rate, ceiling, pol_consumption, pol_new_asset, pol_hour_mkt, pol_new_average_income)\n",
    "\n",
    "        cost = LTCI_cost(LTCI_type, NH_rate, ceiling, raw_hour_home_record) + calc_pension_cost(wage_record, hour_mkt_record, rep_rate)\n",
    "        revenue = calc_revenue(wage_record, hour_mkt_record, tau)\n",
    "        ratio = cost/revenue\n",
    "        if ratio > 1 + tol\n",
    "            tau = tau + lr\n",
    "        elseif ratio < 1 - tol\n",
    "            tau = tau - lr\n",
    "        end\n",
    "        println(\"tax rate is $tau and ratio is $ratio cost is $cost revenue is $revenue\")\n",
    "    end\n",
    "    return tau, LTCI_type, NH_rate, ceiling, consumption_record, asset_record, hour_mkt_record, hour_home_record\n",
    "end"
   ]
  },
  {
   "cell_type": "markdown",
   "metadata": {
    "collapsed": true,
    "slideshow": {
     "slide_type": "slide"
    }
   },
   "source": [
    "# Exercise"
   ]
  },
  {
   "cell_type": "markdown",
   "metadata": {
    "collapsed": true,
    "slideshow": {
     "slide_type": "slide"
    }
   },
   "source": [
    "## benchmark economy\n",
    "* LTCI is provided proportional to the level of care. Half of the care is covered by government funded formal care.\n",
    "* Other policy\n",
    "    * Pension is proportional to their lifetime income. Almost same as **Kosei Nenkin** or employees' pension insurance.\n",
    "    * Balanced budget, which is unlikely in the real world.\n",
    "    * Flat tax with rate consistent with the spending by numerical iteration."
   ]
  },
  {
   "cell_type": "code",
   "execution_count": 25,
   "metadata": {},
   "outputs": [
    {
     "name": "stdout",
     "output_type": "stream",
     "text": [
      "tax rate is 0.31 and ratio is 1.145694939986724 cost is 300.83490500382925 revenue is 262.5785403288202\n",
      "tax rate is 0.32 and ratio is 1.1087370386968296 cost is 300.83490500382925 revenue is 271.33115833978087\n",
      "tax rate is 0.33 and ratio is 1.0740890062375537 cost is 300.83490500382925 revenue is 280.0837763507416\n",
      "tax rate is 0.33 and ratio is 1.041540854533385 cost is 300.83490500382925 revenue is 288.83639436170233\n",
      "  8.193548 seconds (3.66 M allocations: 164.479 MB, 7.28% gc time)\n"
     ]
    }
   ],
   "source": [
    "tau = 0.3;\n",
    "LTCI_type = 1;\n",
    "NH_rate = 0.5;\n",
    "ceiling = NaN;\n",
    "tol = 0.05;\n",
    "@time iter_results = iteration(tau, LTCI_type, NH_rate, ceiling, tol);"
   ]
  },
  {
   "cell_type": "code",
   "execution_count": 26,
   "metadata": {
    "collapsed": true
   },
   "outputs": [],
   "source": [
    "tau = iter_results[1];\n",
    "#LTCI_type = iter_results[2];\n",
    "#NH_rate = iter_results[3];\n",
    "#ceiling = iter_results[4];\n",
    "consumption_record = iter_results[5];\n",
    "asset_record = iter_results[6];\n",
    "hour_mkt_record = iter_results[7];\n",
    "hour_home_record = iter_results[8];"
   ]
  },
  {
   "cell_type": "code",
   "execution_count": null,
   "metadata": {
    "collapsed": true
   },
   "outputs": [],
   "source": []
  },
  {
   "cell_type": "markdown",
   "metadata": {
    "slideshow": {
     "slide_type": "slide"
    }
   },
   "source": [
    "## impact of informal care on lifetime consumption"
   ]
  },
  {
   "cell_type": "code",
   "execution_count": 27,
   "metadata": {
    "slideshow": {
     "slide_type": "slide"
    }
   },
   "outputs": [
    {
     "name": "stderr",
     "output_type": "stream",
     "text": [
      "\u001b[1m\u001b[31mWARNING: _show is not defined for this backend. m=text/plain\u001b[0m\n"
     ]
    },
    {
     "ename": "ErrorException",
     "evalue": "png output from the plotly backend is not supported.  Please use plotlyjs instead.",
     "output_type": "error",
     "traceback": [
      "png output from the plotly backend is not supported.  Please use plotlyjs instead.",
      "",
      " in limitstringmime(::MIME{Symbol(\"image/png\")}, ::Plots.Plot{Plots.PlotlyBackend}) at /home/daisuke_moriwaki/.julia/v0.5/IJulia/src/inline.jl:31",
      " in display_dict(::Plots.Plot{Plots.PlotlyBackend}) at /home/daisuke_moriwaki/.julia/v0.5/IJulia/src/execute_request.jl:32",
      " in #invokelatest#24(::Array{Any,1}, ::Function, ::Function, ::Plots.Plot{Plots.PlotlyBackend}, ::Vararg{Plots.Plot{Plots.PlotlyBackend},N}) at /home/daisuke_moriwaki/.julia/v0.5/Compat/src/Compat.jl:505",
      " in execute_request(::LastMain.ZMQ.Socket, ::LastMain.IJulia.Msg) at /home/daisuke_moriwaki/.julia/v0.5/IJulia/src/execute_request.jl:182",
      " in #invokelatest#24(::Array{Any,1}, ::Function, ::Function, ::LastMain.ZMQ.Socket, ::Vararg{Any,N}) at /home/daisuke_moriwaki/.julia/v0.5/Compat/src/Compat.jl:505",
      " in eventloop(::LastMain.ZMQ.Socket) at /home/daisuke_moriwaki/.julia/v0.5/IJulia/src/eventloop.jl:8",
      " in (::LastMain.IJulia.##18#24)() at ./task.jl:360"
     ]
    }
   ],
   "source": [
    "r_h_home = zeros(num_hh,1)\n",
    "for i = 1:num_hh\n",
    "    r_h_home[i]=calc_hour_home(2, hour_home_record[i,2], LTCI_type, NH_rate, ceiling)\n",
    "end\n",
    "histogram(r_h_home, title = \"Hour at home (Middle)\", nbins = 20, ylabel = \"num of households\", xlabel = \"hour at home\")"
   ]
  },
  {
   "cell_type": "code",
   "execution_count": 28,
   "metadata": {
    "slideshow": {
     "slide_type": "slide"
    }
   },
   "outputs": [
    {
     "name": "stderr",
     "output_type": "stream",
     "text": [
      "\u001b[1m\u001b[31mWARNING: _show is not defined for this backend. m=text/plain\u001b[0m\n"
     ]
    },
    {
     "ename": "ErrorException",
     "evalue": "png output from the plotly backend is not supported.  Please use plotlyjs instead.",
     "output_type": "error",
     "traceback": [
      "png output from the plotly backend is not supported.  Please use plotlyjs instead.",
      "",
      " in limitstringmime(::MIME{Symbol(\"image/png\")}, ::Plots.Plot{Plots.PlotlyBackend}) at /home/daisuke_moriwaki/.julia/v0.5/IJulia/src/inline.jl:31",
      " in display_dict(::Plots.Plot{Plots.PlotlyBackend}) at /home/daisuke_moriwaki/.julia/v0.5/IJulia/src/execute_request.jl:32",
      " in #invokelatest#24(::Array{Any,1}, ::Function, ::Function, ::Plots.Plot{Plots.PlotlyBackend}, ::Vararg{Plots.Plot{Plots.PlotlyBackend},N}) at /home/daisuke_moriwaki/.julia/v0.5/Compat/src/Compat.jl:505",
      " in execute_request(::LastMain.ZMQ.Socket, ::LastMain.IJulia.Msg) at /home/daisuke_moriwaki/.julia/v0.5/IJulia/src/execute_request.jl:182",
      " in #invokelatest#24(::Array{Any,1}, ::Function, ::Function, ::LastMain.ZMQ.Socket, ::Vararg{Any,N}) at /home/daisuke_moriwaki/.julia/v0.5/Compat/src/Compat.jl:505",
      " in eventloop(::LastMain.ZMQ.Socket) at /home/daisuke_moriwaki/.julia/v0.5/IJulia/src/eventloop.jl:8",
      " in (::LastMain.IJulia.##18#24)() at ./task.jl:360"
     ]
    }
   ],
   "source": [
    "# hour at home vs coonsumption\n",
    "lifetime_cons = sum(consumption_record, 2);\n",
    "scatter(sample(r_h_home, 1000), sample(lifetime_cons, 1000), title = \"hour at home vs lifetime consumption\", xlab = \"hour at home\", ylab = \"lifetime consumption\")"
   ]
  },
  {
   "cell_type": "code",
   "execution_count": 29,
   "metadata": {
    "slideshow": {
     "slide_type": "slide"
    }
   },
   "outputs": [
    {
     "name": "stderr",
     "output_type": "stream",
     "text": [
      "\u001b[1m\u001b[31mWARNING: _show is not defined for this backend. m=text/plain\u001b[0m\n"
     ]
    },
    {
     "ename": "ErrorException",
     "evalue": "png output from the plotly backend is not supported.  Please use plotlyjs instead.",
     "output_type": "error",
     "traceback": [
      "png output from the plotly backend is not supported.  Please use plotlyjs instead.",
      "",
      " in limitstringmime(::MIME{Symbol(\"image/png\")}, ::Plots.Plot{Plots.PlotlyBackend}) at /home/daisuke_moriwaki/.julia/v0.5/IJulia/src/inline.jl:31",
      " in display_dict(::Plots.Plot{Plots.PlotlyBackend}) at /home/daisuke_moriwaki/.julia/v0.5/IJulia/src/execute_request.jl:32",
      " in #invokelatest#24(::Array{Any,1}, ::Function, ::Function, ::Plots.Plot{Plots.PlotlyBackend}, ::Vararg{Plots.Plot{Plots.PlotlyBackend},N}) at /home/daisuke_moriwaki/.julia/v0.5/Compat/src/Compat.jl:505",
      " in execute_request(::LastMain.ZMQ.Socket, ::LastMain.IJulia.Msg) at /home/daisuke_moriwaki/.julia/v0.5/IJulia/src/execute_request.jl:182",
      " in #invokelatest#24(::Array{Any,1}, ::Function, ::Function, ::LastMain.ZMQ.Socket, ::Vararg{Any,N}) at /home/daisuke_moriwaki/.julia/v0.5/Compat/src/Compat.jl:505",
      " in eventloop(::LastMain.ZMQ.Socket) at /home/daisuke_moriwaki/.julia/v0.5/IJulia/src/eventloop.jl:8",
      " in (::LastMain.IJulia.##18#24)() at ./task.jl:360"
     ]
    }
   ],
   "source": [
    "# wage vs coonsumption\n",
    "mean_wage = mean(wage_record[:,1:2], 2);\n",
    "scatter(sample(mean_wage, 1000), sample(lifetime_cons, 1000), title = \"wage rate vs lifetime consumption\", xlab = \"wage rate\", ylab = \"lifetime consumption\")"
   ]
  },
  {
   "cell_type": "markdown",
   "metadata": {
    "collapsed": true,
    "slideshow": {
     "slide_type": "slide"
    }
   },
   "source": [
    "# inequality"
   ]
  },
  {
   "cell_type": "code",
   "execution_count": 30,
   "metadata": {
    "collapsed": true,
    "slideshow": {
     "slide_type": "slide"
    }
   },
   "outputs": [],
   "source": [
    "# percentile by hour at home\n",
    "dat = hcat(r_h_home, lifetime_cons);\n",
    "dat = sortrows(dat);\n",
    "ptiles = (.01, .25, .5, .75, .99);\n",
    "p_vec = zeros(Int, size(ptiles, 1));\n",
    "\n",
    "for (ind, p) in enumerate(ptiles)\n",
    "    tmp = trunc(p*num_hh) + 1\n",
    "    p_vec[ind] = Int.(tmp) # convert to Int\n",
    "end"
   ]
  },
  {
   "cell_type": "code",
   "execution_count": 31,
   "metadata": {
    "slideshow": {
     "slide_type": "slide"
    }
   },
   "outputs": [
    {
     "name": "stderr",
     "output_type": "stream",
     "text": [
      "\u001b[1m\u001b[31mWARNING: _show is not defined for this backend. m=text/plain\u001b[0m\n"
     ]
    },
    {
     "ename": "ErrorException",
     "evalue": "png output from the plotly backend is not supported.  Please use plotlyjs instead.",
     "output_type": "error",
     "traceback": [
      "png output from the plotly backend is not supported.  Please use plotlyjs instead.",
      "",
      " in limitstringmime(::MIME{Symbol(\"image/png\")}, ::Plots.Plot{Plots.PlotlyBackend}) at /home/daisuke_moriwaki/.julia/v0.5/IJulia/src/inline.jl:31",
      " in display_dict(::Plots.Plot{Plots.PlotlyBackend}) at /home/daisuke_moriwaki/.julia/v0.5/IJulia/src/execute_request.jl:32",
      " in #invokelatest#24(::Array{Any,1}, ::Function, ::Function, ::Plots.Plot{Plots.PlotlyBackend}, ::Vararg{Plots.Plot{Plots.PlotlyBackend},N}) at /home/daisuke_moriwaki/.julia/v0.5/Compat/src/Compat.jl:505",
      " in execute_request(::LastMain.ZMQ.Socket, ::LastMain.IJulia.Msg) at /home/daisuke_moriwaki/.julia/v0.5/IJulia/src/execute_request.jl:182",
      " in #invokelatest#24(::Array{Any,1}, ::Function, ::Function, ::LastMain.ZMQ.Socket, ::Vararg{Any,N}) at /home/daisuke_moriwaki/.julia/v0.5/Compat/src/Compat.jl:505",
      " in eventloop(::LastMain.ZMQ.Socket) at /home/daisuke_moriwaki/.julia/v0.5/IJulia/src/eventloop.jl:8",
      " in (::LastMain.IJulia.##18#24)() at ./task.jl:360"
     ]
    }
   ],
   "source": [
    "# percentiles\n",
    "bar(p_vec/num_hh*100, dat[p_vec, 2], xlim = (-30, 130), title = \"lifetime cons by hour at home\", \n",
    "xlabel = \"percentile of hour at home\", ylabel = \"lifetime consumption\")"
   ]
  },
  {
   "cell_type": "code",
   "execution_count": 32,
   "metadata": {
    "collapsed": true,
    "slideshow": {
     "slide_type": "slide"
    }
   },
   "outputs": [],
   "source": [
    "# percentile by wage\n",
    "dat = hcat(mean_wage, lifetime_cons);\n",
    "dat = sortrows(dat);\n",
    "\n",
    "for (ind, p) in enumerate(ptiles)\n",
    "    tmp = trunc(p*num_hh) + 1\n",
    "    p_vec[ind] = Int.(tmp) # convert to Int\n",
    "end"
   ]
  },
  {
   "cell_type": "code",
   "execution_count": 33,
   "metadata": {
    "slideshow": {
     "slide_type": "slide"
    }
   },
   "outputs": [
    {
     "name": "stderr",
     "output_type": "stream",
     "text": [
      "\u001b[1m\u001b[31mWARNING: _show is not defined for this backend. m=text/plain\u001b[0m\n"
     ]
    },
    {
     "ename": "ErrorException",
     "evalue": "png output from the plotly backend is not supported.  Please use plotlyjs instead.",
     "output_type": "error",
     "traceback": [
      "png output from the plotly backend is not supported.  Please use plotlyjs instead.",
      "",
      " in limitstringmime(::MIME{Symbol(\"image/png\")}, ::Plots.Plot{Plots.PlotlyBackend}) at /home/daisuke_moriwaki/.julia/v0.5/IJulia/src/inline.jl:31",
      " in display_dict(::Plots.Plot{Plots.PlotlyBackend}) at /home/daisuke_moriwaki/.julia/v0.5/IJulia/src/execute_request.jl:32",
      " in #invokelatest#24(::Array{Any,1}, ::Function, ::Function, ::Plots.Plot{Plots.PlotlyBackend}, ::Vararg{Plots.Plot{Plots.PlotlyBackend},N}) at /home/daisuke_moriwaki/.julia/v0.5/Compat/src/Compat.jl:505",
      " in execute_request(::LastMain.ZMQ.Socket, ::LastMain.IJulia.Msg) at /home/daisuke_moriwaki/.julia/v0.5/IJulia/src/execute_request.jl:182",
      " in #invokelatest#24(::Array{Any,1}, ::Function, ::Function, ::LastMain.ZMQ.Socket, ::Vararg{Any,N}) at /home/daisuke_moriwaki/.julia/v0.5/Compat/src/Compat.jl:505",
      " in eventloop(::LastMain.ZMQ.Socket) at /home/daisuke_moriwaki/.julia/v0.5/IJulia/src/eventloop.jl:8",
      " in (::LastMain.IJulia.##18#24)() at ./task.jl:360"
     ]
    }
   ],
   "source": [
    "# percentiles\n",
    "bar(p_vec/num_hh*100, dat[p_vec, 2], xlim = (-30, 130), title = \"lifetime cons by wage\", \n",
    "xlabel = \"percentile of wage\", ylabel = \"lifetime consumption\")"
   ]
  },
  {
   "cell_type": "markdown",
   "metadata": {
    "collapsed": true,
    "slideshow": {
     "slide_type": "slide"
    }
   },
   "source": [
    "## Policy and Economy\n",
    "* compare output and labor supply when policy is changed\n",
    "* benchmark\n",
    "    * LTCI is proportional with rate = 50%\n",
    "* fully covered\n",
    "    * LTCI is proportional with rate = 100%\n",
    "* laissez-faire\n",
    "    * no LTCI at all\n",
    "* ceiling \n",
    "    * LTCI takes care of all the serious care receivers with ceiling = 0.2. no one needs to spend more than 20 % of their time to care-giving\n",
    "    \n",
    "   "
   ]
  },
  {
   "cell_type": "code",
   "execution_count": 34,
   "metadata": {},
   "outputs": [
    {
     "data": {
      "text/html": [
       "<table class=\"data-frame\"><thead><tr><th></th><th>name</th><th>LTCI_type</th><th>NH_rate</th><th>ceiling</th><th>tau</th><th>gdp</th><th>labor_supply</th></tr></thead><tbody><tr><th>1</th><td>benchmark</td><td>proportional</td><td>0.5</td><td></td><td>0.33</td><td>875.2618010960673</td><td>844.5361862699983</td></tr></tbody></table>"
      ],
      "text/plain": [
       "1×7 DataFrames.DataFrame\n",
       "│ Row │ name        │ LTCI_type      │ NH_rate │ ceiling │ tau  │ gdp     │\n",
       "├─────┼─────────────┼────────────────┼─────────┼─────────┼──────┼─────────┤\n",
       "│ 1   │ \"benchmark\" │ \"proportional\" │ 0.5     │ \"\"      │ 0.33 │ 875.262 │\n",
       "\n",
       "│ Row │ labor_supply │\n",
       "├─────┼──────────────┤\n",
       "│ 1   │ 844.536      │"
      ]
     },
     "execution_count": 34,
     "metadata": {},
     "output_type": "execute_result"
    }
   ],
   "source": [
    "# saving results for benchmark economy\n",
    "results = DataFrame(name = \"benchmark\", LTCI_type = \"proportional\", NH_rate = 0.5, ceiling = \"\", \n",
    "    tau = tau, gdp = sum(wage_record.*hour_mkt_record), labor_supply=sum(hour_mkt_record))"
   ]
  },
  {
   "cell_type": "code",
   "execution_count": 35,
   "metadata": {},
   "outputs": [
    {
     "name": "stdout",
     "output_type": "stream",
     "text": [
      "tax rate is 0.3 and ratio is NaN cost is NaN revenue is 311.48732717329017\n",
      "  0.824986 seconds (626.63 k allocations: 28.881 MB, 3.53% gc time)\n"
     ]
    },
    {
     "data": {
      "text/html": [
       "<table class=\"data-frame\"><thead><tr><th></th><th>name</th><th>LTCI_type</th><th>NH_rate</th><th>ceiling</th><th>tau</th><th>gdp</th><th>labor_supply</th></tr></thead><tbody><tr><th>1</th><td>fully covered</td><td>proportional</td><td>1.0</td><td></td><td>0.3</td><td>1038.291090577634</td><td>1000.0</td></tr></tbody></table>"
      ],
      "text/plain": [
       "1×7 DataFrames.DataFrame\n",
       "│ Row │ name            │ LTCI_type      │ NH_rate │ ceiling │ tau │ gdp     │\n",
       "├─────┼─────────────────┼────────────────┼─────────┼─────────┼─────┼─────────┤\n",
       "│ 1   │ \"fully covered\" │ \"proportional\" │ 1.0     │ \"\"      │ 0.3 │ 1038.29 │\n",
       "\n",
       "│ Row │ labor_supply │\n",
       "├─────┼──────────────┤\n",
       "│ 1   │ 1000.0       │"
      ]
     },
     "execution_count": 35,
     "metadata": {},
     "output_type": "execute_result"
    }
   ],
   "source": [
    "# fully covered economy\n",
    "@time iter_results = iteration(0.3, 1, 1.0, 0, 0.05);\n",
    "tau = iter_results[1];\n",
    "LTCI_type = iter_results[2];\n",
    "NH_rate = iter_results[3];\n",
    "ceiling = iter_results[4];\n",
    "consumption_record = iter_results[5];\n",
    "asset_record = iter_results[6];\n",
    "hour_mkt_record = iter_results[7];\n",
    "hour_home_record = iter_results[8];\n",
    "results_fully = DataFrame(name = \"fully covered\", LTCI_type = \"proportional\", NH_rate = NH_rate, ceiling = \"\", \n",
    "    tau = tau, gdp = sum(wage_record.*hour_mkt_record), labor_supply=sum(hour_mkt_record))"
   ]
  },
  {
   "cell_type": "code",
   "execution_count": 36,
   "metadata": {},
   "outputs": [
    {
     "data": {
      "text/html": [
       "<table class=\"data-frame\"><thead><tr><th></th><th>name</th><th>LTCI_type</th><th>NH_rate</th><th>ceiling</th><th>tau</th><th>gdp</th><th>labor_supply</th></tr></thead><tbody><tr><th>1</th><td>benchmark</td><td>proportional</td><td>0.5</td><td></td><td>0.33</td><td>875.2618010960673</td><td>844.5361862699983</td></tr><tr><th>2</th><td>fully covered</td><td>proportional</td><td>1.0</td><td></td><td>0.3</td><td>1038.291090577634</td><td>1000.0</td></tr></tbody></table>"
      ],
      "text/plain": [
       "2×7 DataFrames.DataFrame\n",
       "│ Row │ name            │ LTCI_type      │ NH_rate │ ceiling │ tau  │ gdp     │\n",
       "├─────┼─────────────────┼────────────────┼─────────┼─────────┼──────┼─────────┤\n",
       "│ 1   │ \"benchmark\"     │ \"proportional\" │ 0.5     │ \"\"      │ 0.33 │ 875.262 │\n",
       "│ 2   │ \"fully covered\" │ \"proportional\" │ 1.0     │ \"\"      │ 0.3  │ 1038.29 │\n",
       "\n",
       "│ Row │ labor_supply │\n",
       "├─────┼──────────────┤\n",
       "│ 1   │ 844.536      │\n",
       "│ 2   │ 1000.0       │"
      ]
     },
     "execution_count": 36,
     "metadata": {},
     "output_type": "execute_result"
    }
   ],
   "source": [
    "results = vcat(results, results_fully)"
   ]
  },
  {
   "cell_type": "code",
   "execution_count": 37,
   "metadata": {},
   "outputs": [
    {
     "name": "stdout",
     "output_type": "stream",
     "text": [
      "tax rate is 0.2 and ratio is 1.0 cost is 149.3100315293637 revenue is 149.3100315293637\n",
      "  0.391720 seconds (613.81 k allocations: 28.462 MB, 1.97% gc time)\n"
     ]
    },
    {
     "data": {
      "text/html": [
       "<table class=\"data-frame\"><thead><tr><th></th><th>name</th><th>LTCI_type</th><th>NH_rate</th><th>ceiling</th><th>tau</th><th>gdp</th><th>labor_supply</th></tr></thead><tbody><tr><th>1</th><td>laissez-faire</td><td>proportional</td><td>0</td><td></td><td>0.2</td><td>746.5501576468184</td><td>718.8710592170776</td></tr></tbody></table>"
      ],
      "text/plain": [
       "1×7 DataFrames.DataFrame\n",
       "│ Row │ name            │ LTCI_type      │ NH_rate │ ceiling │ tau │ gdp    │\n",
       "├─────┼─────────────────┼────────────────┼─────────┼─────────┼─────┼────────┤\n",
       "│ 1   │ \"laissez-faire\" │ \"proportional\" │ 0       │ \"\"      │ 0.2 │ 746.55 │\n",
       "\n",
       "│ Row │ labor_supply │\n",
       "├─────┼──────────────┤\n",
       "│ 1   │ 718.871      │"
      ]
     },
     "execution_count": 37,
     "metadata": {},
     "output_type": "execute_result"
    }
   ],
   "source": [
    "#laissez-faire\n",
    "tau = 0.2;\n",
    "LTCI_type = 1;\n",
    "NH_rate = 0;\n",
    "ceiling = 0;\n",
    "tol = 0.05;\n",
    "@time iter_results = iteration(tau, LTCI_type, NH_rate, ceiling, tol);\n",
    "tau = iter_results[1];\n",
    "LTCI_type = iter_results[2];\n",
    "NH_rate = iter_results[3];\n",
    "ceiling = iter_results[4];\n",
    "consumption_record = iter_results[5];\n",
    "asset_record = iter_results[6];\n",
    "hour_mkt_record = iter_results[7];\n",
    "hour_home_record = iter_results[8];\n",
    "results_lf = DataFrame(name = \"laissez-faire\", LTCI_type = \"proportional\", NH_rate = NH_rate, ceiling = \"\", \n",
    "    tau = tau, gdp = sum(wage_record.*hour_mkt_record), labor_supply=sum(hour_mkt_record))\n"
   ]
  },
  {
   "cell_type": "code",
   "execution_count": 38,
   "metadata": {},
   "outputs": [
    {
     "data": {
      "text/html": [
       "<table class=\"data-frame\"><thead><tr><th></th><th>name</th><th>LTCI_type</th><th>NH_rate</th><th>ceiling</th><th>tau</th><th>gdp</th><th>labor_supply</th></tr></thead><tbody><tr><th>1</th><td>benchmark</td><td>proportional</td><td>0.5</td><td></td><td>0.33</td><td>875.2618010960673</td><td>844.5361862699983</td></tr><tr><th>2</th><td>fully covered</td><td>proportional</td><td>1.0</td><td></td><td>0.3</td><td>1038.291090577634</td><td>1000.0</td></tr><tr><th>3</th><td>laissez-faire</td><td>proportional</td><td>0.0</td><td></td><td>0.2</td><td>746.5501576468184</td><td>718.8710592170776</td></tr></tbody></table>"
      ],
      "text/plain": [
       "3×7 DataFrames.DataFrame\n",
       "│ Row │ name            │ LTCI_type      │ NH_rate │ ceiling │ tau  │ gdp     │\n",
       "├─────┼─────────────────┼────────────────┼─────────┼─────────┼──────┼─────────┤\n",
       "│ 1   │ \"benchmark\"     │ \"proportional\" │ 0.5     │ \"\"      │ 0.33 │ 875.262 │\n",
       "│ 2   │ \"fully covered\" │ \"proportional\" │ 1.0     │ \"\"      │ 0.3  │ 1038.29 │\n",
       "│ 3   │ \"laissez-faire\" │ \"proportional\" │ 0.0     │ \"\"      │ 0.2  │ 746.55  │\n",
       "\n",
       "│ Row │ labor_supply │\n",
       "├─────┼──────────────┤\n",
       "│ 1   │ 844.536      │\n",
       "│ 2   │ 1000.0       │\n",
       "│ 3   │ 718.871      │"
      ]
     },
     "execution_count": 38,
     "metadata": {},
     "output_type": "execute_result"
    }
   ],
   "source": [
    "results = vcat(results, results_lf)"
   ]
  },
  {
   "cell_type": "code",
   "execution_count": 39,
   "metadata": {},
   "outputs": [
    {
     "name": "stdout",
     "output_type": "stream",
     "text": [
      "tax rate is 0.31 and ratio is 2.265735943478189 cost is 649.0088723241533 revenue is 286.44506178766943\n",
      "tax rate is 0.32 and ratio is 2.1926476872369576 cost is 649.0088723241533 revenue is 295.993230513925\n",
      "tax rate is 0.33 and ratio is 2.124127447010802 cost is 649.0088723241533 revenue is 305.5413992401808\n",
      "tax rate is 0.34 and ratio is 2.0597599486165348 cost is 649.0088723241533 revenue is 315.08956796643645\n",
      "tax rate is 0.35000000000000003 and ratio is 1.999178773657225 cost is 649.0088723241533 revenue is 324.6377366926921\n",
      "tax rate is 0.36000000000000004 and ratio is 1.9420593801241615 cost is 649.0088723241533 revenue is 334.18590541894775\n",
      "tax rate is 0.37000000000000005 and ratio is 1.888113286231824 cost is 649.0088723241533 revenue is 343.73407414520335\n",
      "tax rate is 0.38000000000000006 and ratio is 1.837083197414748 cost is 649.0088723241533 revenue is 353.28224287145895\n",
      "tax rate is 0.39000000000000007 and ratio is 1.7887389027459384 cost is 649.0088723241533 revenue is 362.83041159771466\n",
      "tax rate is 0.4000000000000001 and ratio is 1.7428738026755293 cost is 649.0088723241533 revenue is 372.3785803239704\n",
      "tax rate is 0.4100000000000001 and ratio is 1.6993019576086412 cost is 649.0088723241533 revenue is 381.926749050226\n",
      "tax rate is 0.4200000000000001 and ratio is 1.6578555683986742 cost is 649.0088723241533 revenue is 391.47491777648173\n",
      "tax rate is 0.4300000000000001 and ratio is 1.6183828167701346 cost is 649.0088723241533 revenue is 401.02308650273727\n",
      "tax rate is 0.4400000000000001 and ratio is 1.5807460070778059 cost is 649.0088723241533 revenue is 410.571255228993\n",
      "tax rate is 0.4500000000000001 and ratio is 1.544819961462401 cost is 649.0088723241533 revenue is 420.1194239552487\n",
      "tax rate is 0.46000000000000013 and ratio is 1.510490628985459 cost is 649.0088723241533 revenue is 429.6675926815043\n",
      "tax rate is 0.47000000000000014 and ratio is 1.4776538761814275 cost is 649.0088723241533 revenue is 439.2157614077598\n",
      "tax rate is 0.48000000000000015 and ratio is 1.4462144320073542 cost is 649.0088723241533 revenue is 448.7639301340156\n",
      "tax rate is 0.49000000000000016 and ratio is 1.4160849646738676 cost is 649.0088723241533 revenue is 458.31209886027125\n",
      "tax rate is 0.5000000000000001 and ratio is 1.3871852715172581 cost is 649.0088723241533 revenue is 467.8602675865269\n",
      "tax rate is 0.5100000000000001 and ratio is 1.3594415660869132 cost is 649.0088723241533 revenue is 477.40843631278244\n",
      "tax rate is 0.5200000000000001 and ratio is 1.3327858491048168 cost is 649.0088723241533 revenue is 486.95660503903815\n",
      "tax rate is 0.5300000000000001 and ratio is 1.3071553520066472 cost is 649.0088723241533 revenue is 496.50477376529375\n",
      "tax rate is 0.5400000000000001 and ratio is 1.2824920434782197 cost is 649.0088723241533 revenue is 506.0529424915495\n",
      "tax rate is 0.5500000000000002 and ratio is 1.2587421908212157 cost is 649.0088723241533 revenue is 515.6011112178052\n",
      "tax rate is 0.5600000000000002 and ratio is 1.235855969169921 cost is 649.0088723241533 revenue is 525.1492799440608\n",
      "tax rate is 0.5700000000000002 and ratio is 1.213787112577601 cost is 649.0088723241533 revenue is 534.6974486703164\n",
      "tax rate is 0.5800000000000002 and ratio is 1.1924926018306254 cost is 649.0088723241533 revenue is 544.2456173965721\n",
      "tax rate is 0.5900000000000002 and ratio is 1.1719323845576834 cost is 649.0088723241533 revenue is 553.7937861228278\n",
      "tax rate is 0.6000000000000002 and ratio is 1.1520691238024687 cost is 649.0088723241533 revenue is 563.3419548490833\n",
      "tax rate is 0.6100000000000002 and ratio is 1.132867971739094 cost is 649.0088723241533 revenue is 572.8901235753392\n",
      "tax rate is 0.6200000000000002 and ratio is 1.1142963656450102 cost is 649.0088723241533 revenue is 582.4382923015949\n",
      "tax rate is 0.6300000000000002 and ratio is 1.0963238436184783 cost is 649.0088723241533 revenue is 591.9864610278503\n",
      "tax rate is 0.6400000000000002 and ratio is 1.0789218778467562 cost is 649.0088723241533 revenue is 601.534629754106\n",
      "tax rate is 0.6500000000000002 and ratio is 1.0620637235054005 cost is 649.0088723241533 revenue is 611.0827984803618\n",
      "tax rate is 0.6500000000000002 and ratio is 1.0457242816053178 cost is 649.0088723241533 revenue is 620.6309672066172\n",
      "  0.827761 seconds (14.07 M allocations: 694.601 MB, 25.03% gc time)\n"
     ]
    },
    {
     "data": {
      "text/html": [
       "<table class=\"data-frame\"><thead><tr><th></th><th>name</th><th>LTCI_type</th><th>NH_rate</th><th>ceiling</th><th>tau</th><th>gdp</th><th>labor_supply</th></tr></thead><tbody><tr><th>1</th><td>ceiling</td><td>ceiling</td><td></td><td>0.1</td><td>0.6500000000000002</td><td>954.8168726255648</td><td>920.5717095759898</td></tr></tbody></table>"
      ],
      "text/plain": [
       "1×7 DataFrames.DataFrame\n",
       "│ Row │ name      │ LTCI_type │ NH_rate │ ceiling │ tau  │ gdp     │\n",
       "├─────┼───────────┼───────────┼─────────┼─────────┼──────┼─────────┤\n",
       "│ 1   │ \"ceiling\" │ \"ceiling\" │ \"\"      │ 0.1     │ 0.65 │ 954.817 │\n",
       "\n",
       "│ Row │ labor_supply │\n",
       "├─────┼──────────────┤\n",
       "│ 1   │ 920.572      │"
      ]
     },
     "execution_count": 39,
     "metadata": {},
     "output_type": "execute_result"
    }
   ],
   "source": [
    "#ceiling\n",
    "#laissez-faire\n",
    "tau = 0.3;\n",
    "LTCI_type = 2;\n",
    "NH_rate = NaN;\n",
    "ceiling = 0.1;\n",
    "tol = 0.05;\n",
    "@time iter_results = iteration(tau, LTCI_type, NH_rate, ceiling, tol);\n",
    "tau = iter_results[1];\n",
    "LTCI_type = iter_results[2];\n",
    "NH_rate = iter_results[3];\n",
    "ceiling = iter_results[4];\n",
    "consumption_record = iter_results[5];\n",
    "asset_record = iter_results[6];\n",
    "hour_mkt_record = iter_results[7];\n",
    "hour_home_record = iter_results[8];\n",
    "results_ceiling = DataFrame(name = \"ceiling\", LTCI_type = \"ceiling\", NH_rate = \"\", ceiling = ceiling, \n",
    "    tau = tau, gdp = sum(wage_record.*hour_mkt_record), labor_supply=sum(hour_mkt_record))"
   ]
  },
  {
   "cell_type": "code",
   "execution_count": 40,
   "metadata": {},
   "outputs": [
    {
     "data": {
      "text/html": [
       "<table class=\"data-frame\"><thead><tr><th></th><th>name</th><th>LTCI_type</th><th>NH_rate</th><th>ceiling</th><th>tau</th><th>gdp</th><th>labor_supply</th></tr></thead><tbody><tr><th>1</th><td>benchmark</td><td>proportional</td><td>0.5</td><td></td><td>0.33</td><td>875.2618010960673</td><td>844.5361862699983</td></tr><tr><th>2</th><td>fully covered</td><td>proportional</td><td>1.0</td><td></td><td>0.3</td><td>1038.291090577634</td><td>1000.0</td></tr><tr><th>3</th><td>laissez-faire</td><td>proportional</td><td>0.0</td><td></td><td>0.2</td><td>746.5501576468184</td><td>718.8710592170776</td></tr><tr><th>4</th><td>ceiling</td><td>ceiling</td><td></td><td>0.1</td><td>0.6500000000000002</td><td>954.8168726255648</td><td>920.5717095759898</td></tr></tbody></table>"
      ],
      "text/plain": [
       "4×7 DataFrames.DataFrame\n",
       "│ Row │ name            │ LTCI_type      │ NH_rate │ ceiling │ tau  │ gdp     │\n",
       "├─────┼─────────────────┼────────────────┼─────────┼─────────┼──────┼─────────┤\n",
       "│ 1   │ \"benchmark\"     │ \"proportional\" │ 0.5     │ \"\"      │ 0.33 │ 875.262 │\n",
       "│ 2   │ \"fully covered\" │ \"proportional\" │ 1.0     │ \"\"      │ 0.3  │ 1038.29 │\n",
       "│ 3   │ \"laissez-faire\" │ \"proportional\" │ 0.0     │ \"\"      │ 0.2  │ 746.55  │\n",
       "│ 4   │ \"ceiling\"       │ \"ceiling\"      │ \"\"      │ 0.1     │ 0.65 │ 954.817 │\n",
       "\n",
       "│ Row │ labor_supply │\n",
       "├─────┼──────────────┤\n",
       "│ 1   │ 844.536      │\n",
       "│ 2   │ 1000.0       │\n",
       "│ 3   │ 718.871      │\n",
       "│ 4   │ 920.572      │"
      ]
     },
     "execution_count": 40,
     "metadata": {},
     "output_type": "execute_result"
    }
   ],
   "source": [
    "results = vcat(results, results_ceiling)"
   ]
  },
  {
   "cell_type": "code",
   "execution_count": null,
   "metadata": {
    "collapsed": true
   },
   "outputs": [],
   "source": []
  },
  {
   "cell_type": "markdown",
   "metadata": {
    "collapsed": true
   },
   "source": [
    "## Daunting futures"
   ]
  },
  {
   "cell_type": "code",
   "execution_count": null,
   "metadata": {
    "collapsed": true
   },
   "outputs": [],
   "source": []
  },
  {
   "cell_type": "code",
   "execution_count": 41,
   "metadata": {
    "collapsed": true
   },
   "outputs": [],
   "source": [
    "#workspace()"
   ]
  },
  {
   "cell_type": "code",
   "execution_count": null,
   "metadata": {
    "collapsed": true
   },
   "outputs": [],
   "source": []
  },
  {
   "cell_type": "code",
   "execution_count": null,
   "metadata": {
    "collapsed": true
   },
   "outputs": [],
   "source": []
  }
 ],
 "metadata": {
  "celltoolbar": "Slideshow",
  "kernelspec": {
   "display_name": "Julia 0.5.2",
   "language": "julia",
   "name": "julia-0.5"
  },
  "language_info": {
   "file_extension": ".jl",
   "mimetype": "application/julia",
   "name": "julia",
   "version": "0.5.2"
  }
 },
 "nbformat": 4,
 "nbformat_minor": 2
}
