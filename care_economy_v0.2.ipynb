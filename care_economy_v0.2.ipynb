{
 "cells": [
  {
   "cell_type": "markdown",
   "metadata": {
    "slideshow": {
     "slide_type": "slide"
    }
   },
   "source": [
    "# Effect of Informal Care on Labor Supply: A Macroeconomic Perspective\n",
    "\n",
    "## 2018.3.12 ICES, Hosei University\n",
    "\n",
    "### Daisuke Moriwaki\n",
    "\n",
    "Cyberagent, Inc., AI Lab        \n",
    "Keio University, School of Medicine\n",
    "<daisuke.moriwaki@gmail.com>   \n",
    "github [daimoriwaki/care_economy](https://github.com/daimoriwaki/care_economy)"
   ]
  },
  {
   "cell_type": "code",
   "execution_count": 54,
   "metadata": {
    "collapsed": true,
    "slideshow": {
     "slide_type": "skip"
    }
   },
   "outputs": [],
   "source": [
    "#workspace()"
   ]
  },
  {
   "cell_type": "code",
   "execution_count": 55,
   "metadata": {
    "slideshow": {
     "slide_type": "skip"
    }
   },
   "outputs": [],
   "source": [
    "using QuantEcon\n",
    "using Plots\n",
    "using Interpolations\n",
    "using Distributions\n",
    "using DataFrames\n",
    "srand(20150423);\n",
    "#using BenchmarkTools\n",
    "#using ParallelAccelerator"
   ]
  },
  {
   "cell_type": "markdown",
   "metadata": {
    "slideshow": {
     "slide_type": "slide"
    }
   },
   "source": [
    "# Motivation\n",
    "* In 2017, it is reported taht there is 6 million care revievers in Japan by MLHW. The number is expected to increase as the baby boomers, or Dankai generations become \"late elderly\".\n",
    "* It is unclear whether the Japanese LTCI system is sustanable in the sense of financially, which has been pointed out by several researchers.\n",
    "* More importantly, the impact of care needs on economy itself (oppose to accountant's view) should be studied.\n"
   ]
  },
  {
   "cell_type": "markdown",
   "metadata": {
    "slideshow": {
     "slide_type": "slide"
    }
   },
   "source": [
    "* It is easy to predict that \"caregiver ratio\" (the number of caregivers per one care receiver) explodes in the near future.\n",
    "* Aside from the financial sustainability, the explosion of caregiver ratio cause several problems\n",
    "    * insufficient care for elderly (insufficient availability of cheap nursing home, *tokuyou*)\n",
    "    * Poverty due to care-leave for frail older family\n",
    "    * *Economy itself* due to less labor supply\n",
    "* Such a wide range of problem should be tackled by macroeconomic model rather than causal analysis."
   ]
  },
  {
   "cell_type": "markdown",
   "metadata": {
    "slideshow": {
     "slide_type": "slide"
    }
   },
   "source": [
    "# Summary of Results\n",
    "* I ran a simplified care economy model to see the effect of informal care.\n",
    "* Informal care has mixed effect on consumption: people consume less with some informal care, but consume more when required informal care is long.\n",
    "* A comparison of the outcomes from the four policy options indicate fully-covered LTCI raise the labor force participation rate but need the highest tax rate. Introduction of **ceiling** policy is cost effective. "
   ]
  },
  {
   "cell_type": "markdown",
   "metadata": {
    "slideshow": {
     "slide_type": "slide"
    }
   },
   "source": [
    "# Contribution\n",
    "* possibly the first paper to delineate Japanese LTCI system with heterogeneous agent macromodel\n",
    "* have some implication for the LTCI policy "
   ]
  },
  {
   "cell_type": "markdown",
   "metadata": {
    "slideshow": {
     "slide_type": "slide"
    }
   },
   "source": [
    "# Literature\n",
    "\n",
    "* Briefly survery several work in the labor and macro fields.\n"
   ]
  },
  {
   "cell_type": "markdown",
   "metadata": {
    "slideshow": {
     "slide_type": "slide"
    }
   },
   "source": [
    "\n",
    "## Labor supply and informal care (causal studies)\n",
    "\n",
    "* Active area of research\n",
    "    * Nishimura and oikawa (2017)\n",
    "    * Niimi (2017)\n",
    "    * Oshio and Usu (2016)\n",
    "    * Yamada and Shimizutani (2015), and me (2015) ...."
   ]
  },
  {
   "cell_type": "markdown",
   "metadata": {
    "slideshow": {
     "slide_type": "slide"
    }
   },
   "source": [
    "## Social Security System and Macroeconomy\n",
    "* Also very active area \n",
    "    * Li (EER, 2018) on DI and OAI\n",
    "    * Kubota (2017) on childcare"
   ]
  },
  {
   "cell_type": "markdown",
   "metadata": {},
   "source": [
    "\n",
    "\n",
    "## Sustainability due to aging population in Japan\n",
    "* Kitao (2016, IER)\n"
   ]
  },
  {
   "cell_type": "markdown",
   "metadata": {
    "slideshow": {
     "slide_type": "slide"
    }
   },
   "source": [
    "# Set up *\"Care Economy\"*"
   ]
  },
  {
   "cell_type": "markdown",
   "metadata": {},
   "source": [
    "# Demography\n",
    "* 3 periods: young, middle, and old\n",
    "    * young: work in the market and consume goods and leisure.Save for the future 22-44\n",
    "    * middle: work both in the market and home. consume goods and leisure. Save for the future. No mortality risk. 45-64\n",
    "    * old: no work in both market and home. Those with bad health receive care either in public nursing home or at home. Mortality risk is present. 65+\n",
    "* in 2015 the three are almost same number."
   ]
  },
  {
   "cell_type": "markdown",
   "metadata": {
    "slideshow": {
     "slide_type": "slide"
    }
   },
   "source": [
    "## Household\n",
    "\n",
    "* The model economy is populated by many households. \n",
    "    * You may imagine either single households without gender and unknown re-production technique or many households with couples and kids where income, assets, health, and time endowment is shared. \n",
    "    * More realistic modelling is listed as future study\n",
    "* wage rate is exogenous to the agent. Given wage rate, labor supply is endogeneous.\n",
    "* No negative saving is allowed (consider whether we can borrow without collateral)."
   ]
  },
  {
   "cell_type": "markdown",
   "metadata": {
    "slideshow": {
     "slide_type": "slide"
    }
   },
   "source": [
    "## Care in detail\n",
    "* In this economy, every middle-aged households face the risk of becoming care giver.\n",
    "* In the beginning of the period, the health status of all households is assigned. \n",
    "* Then the total *care needs* is determined. \n",
    "* The government determine how much care to provide, which is sometimes insufficient. That deliniates reality in Japan (there are 360,000 people on the waiting list).\n",
    "* Unmet care needs is distributed to potential care givers (*middle*). No state dependency. Imagine that you might become a informal care giver for your uncle, spouse's siblings and so on as well as your own genetic parents and spouse. Unexpectable.\n",
    "* This scenario totally igonres the positive utility from care-giving. But there are lots of tragedies associated with informal care."
   ]
  },
  {
   "cell_type": "markdown",
   "metadata": {
    "slideshow": {
     "slide_type": "slide"
    }
   },
   "source": [
    "## Preference\n",
    "* simple and general utility function.\n",
    "* parameters are set according to Yue (2018)"
   ]
  },
  {
   "cell_type": "code",
   "execution_count": 56,
   "metadata": {
    "slideshow": {
     "slide_type": "subslide"
    }
   },
   "outputs": [
    {
     "name": "stderr",
     "output_type": "stream",
     "text": [
      "WARNING: Method definition calc_utility(Any, Any) in module Main at In[3]:2 overwritten at In[56]:2.\n",
      "WARNING: Method definition calc_utility(Any, Any, Any) in module Main at In[3]:2 overwritten at In[56]:2.\n",
      "WARNING: Method definition calc_utility(Any, Any, Any, Any) in module Main at In[3]:2 overwritten at In[56]:2.\n"
     ]
    },
    {
     "data": {
      "text/plain": [
       "calc_utility (generic function with 3 methods)"
      ]
     },
     "execution_count": 56,
     "metadata": {},
     "output_type": "execute_result"
    }
   ],
   "source": [
    "function calc_utility(c, l,chi = chi, sigma = sigma) \n",
    "    if c <= 0 || l <= 0\n",
    "        return -100000\n",
    "    else\n",
    "        return (((c^(1-chi))*(l^chi))^(1-sigma))/(1 - sigma)\n",
    "    end\n",
    "end"
   ]
  },
  {
   "cell_type": "markdown",
   "metadata": {
    "slideshow": {
     "slide_type": "slide"
    }
   },
   "source": [
    "## consumption\n",
    "* consumption is deterimined by assets, income and saving"
   ]
  },
  {
   "cell_type": "code",
   "execution_count": 57,
   "metadata": {
    "slideshow": {
     "slide_type": "skip"
    }
   },
   "outputs": [
    {
     "name": "stderr",
     "output_type": "stream",
     "text": [
      "WARNING: Method definition calc_consumption(Any, Real, Real, Real) in module Main at In[4]:2 overwritten at In[57]:2.\n",
      "WARNING: Method definition calc_consumption(Any, Real, Real, Real, Real) in module Main at In[4]:2 overwritten at In[57]:2.\n"
     ]
    },
    {
     "data": {
      "text/plain": [
       "calc_consumption (generic function with 2 methods)"
      ]
     },
     "execution_count": 57,
     "metadata": {},
     "output_type": "execute_result"
    }
   ],
   "source": [
    "function calc_consumption(age, new_asset::Real, income::Real, asset::Real, r::Real=r)\n",
    "    if age < num_period\n",
    "        if new_asset >= (1+r)*asset + income\n",
    "            return 0\n",
    "        else\n",
    "            (1 + r)*asset + income - new_asset # allow negative consumption\n",
    "        end\n",
    "    else\n",
    "        return (1 + r)*asset + income\n",
    "        #return 10000000\n",
    "    end \n",
    "end"
   ]
  },
  {
   "cell_type": "markdown",
   "metadata": {
    "slideshow": {
     "slide_type": "slide"
    }
   },
   "source": [
    "## income\n",
    "* income is determined by hourking hour in market and tax\n",
    "* retired person collects pension.\n"
   ]
  },
  {
   "cell_type": "code",
   "execution_count": 58,
   "metadata": {
    "slideshow": {
     "slide_type": "subslide"
    }
   },
   "outputs": [
    {
     "name": "stderr",
     "output_type": "stream",
     "text": [
      "WARNING: Method definition calc_income(Any, Any, Any, Any) in module Main at In[5]:2 overwritten at In[58]:2.\n"
     ]
    },
    {
     "data": {
      "text/plain": [
       "calc_income (generic function with 1 method)"
      ]
     },
     "execution_count": 58,
     "metadata": {},
     "output_type": "execute_result"
    }
   ],
   "source": [
    "function calc_income(wage, hour_mkt, pension, tau)\n",
    "    (1 - tau)*wage*hour_mkt + pension\n",
    "end"
   ]
  },
  {
   "cell_type": "markdown",
   "metadata": {
    "slideshow": {
     "slide_type": "slide"
    }
   },
   "source": [
    "## pension\n",
    "* mandatory pension system like real economy.\n",
    "* the level of benefit is determined by wage history and replacement rate (0.4)"
   ]
  },
  {
   "cell_type": "code",
   "execution_count": 59,
   "metadata": {
    "slideshow": {
     "slide_type": "subslide"
    }
   },
   "outputs": [
    {
     "name": "stderr",
     "output_type": "stream",
     "text": [
      "WARNING: Method definition calc_new_average_income(Any, Any, Any, Any) in module Main at In[6]:2 overwritten at In[59]:2.\n"
     ]
    },
    {
     "data": {
      "text/plain": [
       "calc_new_average_income (generic function with 1 method)"
      ]
     },
     "execution_count": 59,
     "metadata": {},
     "output_type": "execute_result"
    }
   ],
   "source": [
    "function calc_new_average_income(age, last_average_income, current_wage, current_hour_mkt)\n",
    "    if age == 1\n",
    "        return current_wage*current_hour_mkt # calc average income for today\n",
    "    elseif age >= retirement_age\n",
    "        return last_average_income # after retired average income is fixed\n",
    "    else\n",
    "        return (last_average_income*(age - 1) + current_wage*current_hour_mkt)/age # during working age average income is changed \n",
    "    end\n",
    "end"
   ]
  },
  {
   "cell_type": "code",
   "execution_count": 60,
   "metadata": {
    "slideshow": {
     "slide_type": "subslide"
    }
   },
   "outputs": [
    {
     "name": "stderr",
     "output_type": "stream",
     "text": [
      "WARNING: Method definition calc_pension(Any, Any) in module Main at In[7]:2 overwritten at In[60]:2.\n",
      "WARNING: Method definition calc_pension(Any, Any, Any) in module Main at In[7]:2 overwritten at In[60]:2.\n",
      "WARNING: Method definition calc_pension(Any, Any, Any, Any) in module Main at In[7]:2 overwritten at In[60]:2.\n"
     ]
    },
    {
     "data": {
      "text/plain": [
       "calc_pension (generic function with 3 methods)"
      ]
     },
     "execution_count": 60,
     "metadata": {},
     "output_type": "execute_result"
    }
   ],
   "source": [
    "function calc_pension(age, average_income, rep_rate = rep_rate, retirement_age = retirement_age)\n",
    "    if age >= retirement_age\n",
    "        return rep_rate*average_income\n",
    "    else\n",
    "        return 0\n",
    "    end\n",
    "end"
   ]
  },
  {
   "cell_type": "markdown",
   "metadata": {
    "slideshow": {
     "slide_type": "slide"
    }
   },
   "source": [
    "## wage\n",
    "* wage evolves according to $w_{i,t} = \\mu + \\rho w_{i, t-1} + \\epsilon_{t}$ with $\\rho = 0.9$\n",
    "* use tauchen method to generate transition matrix"
   ]
  },
  {
   "cell_type": "markdown",
   "metadata": {
    "slideshow": {
     "slide_type": "slide"
    }
   },
   "source": [
    "## Informal care\n",
    "* Middle-aged household is assigned care needs randomly.\n",
    "* The level of care is represented the required hour for care at home.\n",
    "* The basic assumption is\n",
    "    * Households are mandated to take care of their parents.\n",
    "    * They want to use cheap formal care funded by LTCI\n",
    "    * Due to the resorce constraint, use of formal care is restricted"
   ]
  },
  {
   "cell_type": "markdown",
   "metadata": {
    "slideshow": {
     "slide_type": "slide"
    }
   },
   "source": [
    "# Informal care in detail\n",
    "* Once all the household draw the raw hour at home $h^H$, they are sum up as $\\sum_i h^H_i$\n",
    "* The total demand for care $D^H = \\sum_i I (h_i \\in (0,  0.1)$\n",
    "* The unmet care needs $D^{H, unmet} = D^H - NH$ is distributed out to proportionaly to $h^H$\n",
    "* Numerical excercise is done without empirical studies, which should be done in the future."
   ]
  },
  {
   "cell_type": "code",
   "execution_count": 61,
   "metadata": {
    "slideshow": {
     "slide_type": "subslide"
    }
   },
   "outputs": [
    {
     "name": "stderr",
     "output_type": "stream",
     "text": [
      "WARNING: Method definition calc_hour_home(Any, Any, Any, Any, Any, Any) in module Main at In[8]:2 overwritten at In[61]:2.\n",
      "WARNING: Method definition calc_hour_home(Any, Any, Any, Any, Any, Any, Real) in module Main at In[8]:2 overwritten at In[61]:2.\n",
      "WARNING: Method definition calc_hour_home(Any, Any, Any, Any, Any, Any, Real, Real) in module Main at In[8]:2 overwritten at In[61]:2.\n",
      "WARNING: Method definition calc_hour_home(Any, Any, Any, Any, Any, Any, Real, Real, Real) in module Main at In[8]:2 overwritten at In[61]:2.\n",
      "WARNING: Method definition calc_hour_home(Any, Any, Any, Any, Any, Any, Real, Real, Real, Any) in module Main at In[8]:2 overwritten at In[61]:2.\n"
     ]
    },
    {
     "data": {
      "text/plain": [
       "calc_hour_home (generic function with 5 methods)"
      ]
     },
     "execution_count": 61,
     "metadata": {},
     "output_type": "execute_result"
    }
   ],
   "source": [
    "function calc_hour_home(age, raw_hour_home, total_raw_hour_home, LTCI_type, NH_rate, ceiling, dep_rate::Real = dep_rate, sick_rate::Real=sick_rate, care_hour::Real=care_hour, num_hh = num_hh)\n",
    "    if LTCI_type == 1\n",
    "        if age in middle_age\n",
    "            share = raw_hour_home/total_raw_hour_home # sahre of care this person take\n",
    "            return min(share*(1 - NH_rate)*dep_rate*sick_rate*care_hour*num_hh, 0.9999)\n",
    "        else\n",
    "            return 0\n",
    "        end\n",
    "    else\n",
    "        if age in middle_age\n",
    "            return min(raw_hour_home*dep_rate*sick_rate*care_hour, ceiling)\n",
    "        else\n",
    "            return 0\n",
    "        end\n",
    "\n",
    "    end\n",
    "end"
   ]
  },
  {
   "cell_type": "markdown",
   "metadata": {
    "slideshow": {
     "slide_type": "slide"
    }
   },
   "source": [
    "## health status\n",
    "* health status so far only matters how many old need care.\n",
    "* health is not associated with wage, labor.\n",
    "* we do not take health into accont explicitly."
   ]
  },
  {
   "cell_type": "markdown",
   "metadata": {
    "slideshow": {
     "slide_type": "slide"
    }
   },
   "source": [
    "## labor supply\n",
    "* labor supply is endogeneous\n",
    "* young and middle household optimizes labor supply as well as consumption (saving) for given time endowment\n",
    "* time endowment is varying across agent due to informal care\n",
    "* From the first order condition $l = c(1 - \\tau)w \\frac{\\chi}{1 - \\chi}$"
   ]
  },
  {
   "cell_type": "code",
   "execution_count": 62,
   "metadata": {
    "slideshow": {
     "slide_type": "subslide"
    }
   },
   "outputs": [
    {
     "name": "stderr",
     "output_type": "stream",
     "text": [
      "WARNING: Method definition calc_hour_mkt(Real, Real, Real) in module Main at In[9]:13 overwritten at In[62]:13.\n",
      "WARNING: Method definition calc_hour_mkt(Real, Real, Real, Int64) in module Main at In[9]:13 overwritten at In[62]:13.\n",
      "\u001b[1m\u001b[31mWARNING: replacing docs for 'calc_hour_mkt :: Union{Tuple{Real,Real,Real,Int64},Tuple{Real,Real,Real}}' in module 'Main'.\u001b[0m\n"
     ]
    },
    {
     "data": {
      "text/plain": [
       "calc_hour_mkt"
      ]
     },
     "execution_count": 62,
     "metadata": {},
     "output_type": "execute_result"
    }
   ],
   "source": [
    "\"calc_hour_mkt(age, leisure, hour_home, retirement_age)\n",
    "\n",
    "calculate hour in the market.\n",
    "\n",
    "**Argments**: \n",
    "\n",
    "        age, leisure, hour at homt\n",
    "\n",
    "**Return**\n",
    "\n",
    "        working hour at market\"\n",
    "function calc_hour_mkt(age::Real, leisure::Real, hour_home::Real, retirement_age::Int=retirement_age)\n",
    "    if leisure + hour_home >= 1 || age >= retirement_age\n",
    "        return 0\n",
    "    else\n",
    "        return 1 - leisure - hour_home\n",
    "    end\n",
    "end"
   ]
  },
  {
   "cell_type": "markdown",
   "metadata": {
    "slideshow": {
     "slide_type": "slide"
    }
   },
   "source": [
    "## Government\n",
    "* government provide insufficient formal care funded by social security premium contributed by working age, which is resemble to Japanese LTCI\n",
    "* cost of formal care is determined by personnel expenses of informal care worker.\n",
    "* The government chooses one of two LTCI system\n",
    "\\begin{eqnarray}\n",
    "LTCI \\, (type 1) &=& w^{care} \\phi N^{old} sick rate \\, d^H  NH rate \\\\\n",
    "LTCI \\, (type 2) &=& w^{care} \\phi \\sum_i(care_i - \\bar{care}) \\mathbb{1}[care_i > \\bar{care}]\n",
    "\\end{eqnarray}\n",
    "* __type1__ is *proportional sapplements* where the government provide formal care proportional to the level of required care. $w^{care}$ denotes average wage for worker at nurinsg home. $N^{old}$, $sick rate$, $d^H$, $NH rate$ represents the population of old, the rate of care receivers to the old and required care hour per sick old. Finally, $\\phi$ is a multiplier ly inside $(0, 1)$. This multiplier represents *efficiency* of nurinsg home.   \n",
    "* __type2__ is *ceiling*. The care above the ceiling is given by the government.\n",
    "* $\\phi:$ Usually, typical informal care giver provide care to one care receiver, whereas (formal) care worker can work for multiple care receivers. They also benefit from the division of labor.\n",
    "\n",
    "* On the other hand, the government collect $\\tau\\sum_i w_i h_{M, i}$ from all the young and middle."
   ]
  },
  {
   "cell_type": "markdown",
   "metadata": {
    "slideshow": {
     "slide_type": "slide"
    }
   },
   "source": [
    "# Quantitative Exercise"
   ]
  },
  {
   "cell_type": "markdown",
   "metadata": {
    "slideshow": {
     "slide_type": "slide"
    }
   },
   "source": [
    "## Solution\n",
    "* The model is solved (ideally) by method of simulated moment.\n",
    "* So far no calibration made\n",
    "* Optimization by households is done by backward induction."
   ]
  },
  {
   "cell_type": "markdown",
   "metadata": {
    "slideshow": {
     "slide_type": "slide"
    }
   },
   "source": [
    "## Value function\n",
    "* value function optimization $v_t = max_{c_t, l_t} (u(c_t, l_t) + \\beta \\mathbb{E}\\left( v_{t+1}(a_{t+1}) \\right))$ \n",
    "* wrt usual budget constraint with no borrowing\n"
   ]
  },
  {
   "cell_type": "code",
   "execution_count": 63,
   "metadata": {
    "slideshow": {
     "slide_type": "subslide"
    }
   },
   "outputs": [
    {
     "name": "stderr",
     "output_type": "stream",
     "text": [
      "WARNING: Method definition value_function(Real, Real) in module Main at In[10]:4 overwritten at In[63]:4.\n",
      "WARNING: Method definition value_function(Real, Real, Real) in module Main at In[10]:4 overwritten at In[63]:4.\n",
      "\u001b[1m\u001b[31mWARNING: replacing docs for 'value_function :: Union{Tuple{Real,Real,Real},Tuple{Real,Real}}' in module 'Main'.\u001b[0m\n"
     ]
    },
    {
     "data": {
      "text/plain": [
       "value_function"
      ]
     },
     "execution_count": 63,
     "metadata": {},
     "output_type": "execute_result"
    }
   ],
   "source": [
    "\"value_function(utility, expected_value, beta)\n",
    "calculate instant value for given utility and expected values in the next period\"\n",
    "function value_function(utility::Real, expected_value::Real, beta::Real = beta)\n",
    "    utility + beta*expected_value\n",
    "end"
   ]
  },
  {
   "cell_type": "markdown",
   "metadata": {
    "collapsed": true,
    "slideshow": {
     "slide_type": "slide"
    }
   },
   "source": [
    "## Expected values\n",
    "* expected values are dot product of transition matrix and state-dependent values "
   ]
  },
  {
   "cell_type": "code",
   "execution_count": 64,
   "metadata": {
    "slideshow": {
     "slide_type": "subslide"
    }
   },
   "outputs": [
    {
     "name": "stderr",
     "output_type": "stream",
     "text": [
      "WARNING: Method definition interpolate_vector(Real, Any, Any) in module Main at In[11]:2 overwritten at In[64]:2.\n",
      "WARNING: Method definition interpolate_vector(Real, Any, Any, Any) in module Main at In[11]:2 overwritten at In[64]:2.\n"
     ]
    },
    {
     "data": {
      "text/plain": [
       "interpolate_vector (generic function with 2 methods)"
      ]
     },
     "execution_count": 64,
     "metadata": {},
     "output_type": "execute_result"
    }
   ],
   "source": [
    "function interpolate_vector(current_value::Real, grid, trans_mat, num_grid = num_grid)\n",
    "    itp = interpolate((grid, grid), trans_mat, Gridded(Linear()))\n",
    "    vec = itp[current_value, grid]\n",
    "    for i in 1:num_grid\n",
    "        if vec[i] < 0\n",
    "            vec[i] = 0\n",
    "        end\n",
    "    end\n",
    "    return vec\n",
    "end"
   ]
  },
  {
   "cell_type": "code",
   "execution_count": 65,
   "metadata": {
    "slideshow": {
     "slide_type": "subslide"
    }
   },
   "outputs": [
    {
     "name": "stderr",
     "output_type": "stream",
     "text": [
      "WARNING: Method definition gen_prob_vec(Any, Any) in module Main at In[12]:14 overwritten at In[65]:14.\n",
      "WARNING: Method definition gen_prob_vec(Any, Any, Any) in module Main at In[12]:14 overwritten at In[65]:14.\n",
      "WARNING: Method definition gen_prob_vec(Any, Any, Any, Any) in module Main at In[12]:14 overwritten at In[65]:14.\n",
      "WARNING: Method definition gen_prob_vec(Any, Any, Any, Any, Any) in module Main at In[12]:14 overwritten at In[65]:14.\n",
      "WARNING: Method definition gen_prob_vec(Any, Any, Any, Any, Any, Any) in module Main at In[12]:14 overwritten at In[65]:14.\n",
      "\u001b[1m\u001b[31mWARNING: replacing docs for 'gen_prob_vec :: Union{Tuple{Any,Any,Any,Any,Any,Any},Tuple{Any,Any,Any,Any,Any},Tuple{Any,Any,Any,Any},Tuple{Any,Any,Any},Tuple{Any,Any}}' in module 'Main'.\u001b[0m\n"
     ]
    },
    {
     "data": {
      "text/plain": [
       "gen_prob_vec"
      ]
     },
     "execution_count": 65,
     "metadata": {},
     "output_type": "execute_result"
    }
   ],
   "source": [
    "\"gen_prob_vec\n",
    "return probability vector for arbitrary wage, hour at home, current_average_income\n",
    "\n",
    "**Args**\n",
    "current_wage\n",
    "current_hour_home\n",
    "current_average_wage\n",
    "\n",
    "**return**\n",
    "vector of probability\n",
    "\"\n",
    "function gen_prob_vec(current_wage, current_hour_home, wage_grid = wage_grid, hour_home_grid = hour_home_grid,\n",
    "        wage_trans_mat = wage_trans_mat, hour_home_trans_mat= hour_home_trans_mat)\n",
    "    wage_prob_vector = interpolate_vector(current_wage, wage_grid, wage_trans_mat)\n",
    "    hour_home_prob_vector = interpolate_vector(current_hour_home, hour_home_grid, hour_home_trans_mat)\n",
    "    return kron(wage_prob_vector, hour_home_prob_vector)\n",
    "end"
   ]
  },
  {
   "cell_type": "code",
   "execution_count": 66,
   "metadata": {
    "slideshow": {
     "slide_type": "subslide"
    }
   },
   "outputs": [
    {
     "name": "stderr",
     "output_type": "stream",
     "text": [
      "WARNING: Method definition get_new_value(Any, Any, Any) in module Main at In[13]:7 overwritten at In[66]:7.\n",
      "WARNING: Method definition get_new_value(Any, Any, Any, Any) in module Main at In[13]:7 overwritten at In[66]:7.\n",
      "WARNING: Method definition get_new_value(Any, Any, Any, Any, Any) in module Main at In[13]:7 overwritten at In[66]:7.\n",
      "WARNING: Method definition get_new_value(Any, Any, Any, Any, Any, Any) in module Main at In[13]:7 overwritten at In[66]:7.\n",
      "\u001b[1m\u001b[31mWARNING: replacing docs for 'get_new_value :: Union{Tuple{Any,Any,Any,Any,Any,Any},Tuple{Any,Any,Any,Any,Any},Tuple{Any,Any,Any,Any},Tuple{Any,Any,Any}}' in module 'Main'.\u001b[0m\n"
     ]
    },
    {
     "data": {
      "text/plain": [
       "get_new_value"
      ]
     },
     "execution_count": 66,
     "metadata": {},
     "output_type": "execute_result"
    }
   ],
   "source": [
    "\"get_new_value(new_asset, max_value_mat, asset_grid = asset_grid, num_grid = num_grid): \n",
    "\n",
    "\n",
    "get vector of maximized value for next period given choice asset and states current wage, current hour at home. \n",
    "max_value_mat should be asset_grid x wage, relative_hour_home\"\n",
    "function get_new_value(new_asset, new_average_income, max_value_mat, asset_grid = asset_grid, wage_grid = wage_grid,  num_grid = num_grid)\n",
    "    v_new = zeros(num_grid^2, 1)\n",
    "    for i in 1:num_grid^2\n",
    "        temp_slice = max_value_mat[:,i]\n",
    "        temp_mat= reshape(temp_slice, num_grid, num_grid)\n",
    "        knots = (asset_grid, wage_grid)        \n",
    "        itp = interpolate(knots, temp_mat, Gridded(Linear()))\n",
    "        v_new[i] = itp[new_asset, new_average_income]\n",
    "    end\n",
    "    return v_new\n",
    "end"
   ]
  },
  {
   "cell_type": "markdown",
   "metadata": {
    "slideshow": {
     "slide_type": "slide"
    }
   },
   "source": [
    "## Generate Policy Function"
   ]
  },
  {
   "cell_type": "code",
   "execution_count": 67,
   "metadata": {
    "slideshow": {
     "slide_type": "subslide"
    }
   },
   "outputs": [
    {
     "name": "stderr",
     "output_type": "stream",
     "text": [
      "WARNING: Method definition generate_max_values_matrix(Any, Any, Any, Any, Any, Function) in module Main at In[14]:10 overwritten at In[67]:10.\n",
      "WARNING: Method definition generate_max_values_matrix(Any, Any, Any, Any, Any, Function, Any) in module Main at In[14]:10 overwritten at In[67]:10.\n",
      "WARNING: Method definition generate_max_values_matrix(Any, Any, Any, Any, Any, Function, Any, Any) in module Main at In[14]:10 overwritten at In[67]:10.\n",
      "WARNING: Method definition generate_max_values_matrix(Any, Any, Any, Any, Any, Function, Any, Any, Any) in module Main at In[14]:10 overwritten at In[67]:10.\n",
      "WARNING: Method definition generate_max_values_matrix(Any, Any, Any, Any, Any, Function, Any, Any, Any, Any) in module Main at In[14]:10 overwritten at In[67]:10.\n",
      "WARNING: Method definition generate_max_values_matrix(Any, Any, Any, Any, Any, Function, Any, Any, Any, Any, Any) in module Main at In[14]:10 overwritten at In[67]:10.\n",
      "WARNING: Method definition generate_max_values_matrix(Any, Any, Any, Any, Any, Function, Any, Any, Any, Any, Any, Any) in module Main at In[14]:10 overwritten at In[67]:10.\n",
      "WARNING: Method definition generate_max_values_matrix(Any, Any, Any, Any, Any, Function, Any, Any, Any, Any, Any, Any, Any) in module Main at In[14]:10 overwritten at In[67]:10.\n",
      "\u001b[1m\u001b[31mWARNING: replacing docs for 'generate_max_values_matrix :: Union{Tuple{Any,Any,Any,Any,Any,Function,Any,Any,Any,Any,Any,Any,Any},Tuple{Any,Any,Any,Any,Any,Function,Any,Any,Any,Any,Any,Any},Tuple{Any,Any,Any,Any,Any,Function,Any,Any,Any,Any,Any},Tuple{Any,Any,Any,Any,Any,Function,Any,Any,Any,Any},Tuple{Any,Any,Any,Any,Any,Function,Any,Any,Any},Tuple{Any,Any,Any,Any,Any,Function,Any,Any},Tuple{Any,Any,Any,Any,Any,Function,Any},Tuple{Any,Any,Any,Any,Any,Function}}' in module 'Main'.\u001b[0m\n"
     ]
    },
    {
     "data": {
      "text/plain": [
       "generate_max_values_matrix"
      ]
     },
     "execution_count": 67,
     "metadata": {},
     "output_type": "execute_result"
    }
   ],
   "source": [
    "\"generate_max_values_matrix(value_function, asset_grid, leisure_grid, wage_grid, hour_home_grid, num_grid):\n",
    "\n",
    "maximize value with respect to leisure and consumption\n",
    "\"\n",
    "\n",
    "function generate_max_values_matrix(age, tau, LTCI_type, NH_rate, ceiling, value_function::Function, new_max_value_mat = \n",
    "        zeros(num_grid, num_grid^3), asset_grid = asset_grid, leisure_grid = leisure_grid,\n",
    "        wage_grid = wage_grid, hour_home_grid = hour_home_grid, num_grid = num_grid, total_raw_hour_home = total_raw_hour_home)\n",
    "    # initializing matrices\n",
    "    value_matrix = zeros(num_grid^2, num_grid^4);\n",
    "    consumption_mat = zeros(num_grid^2, num_grid^4);\n",
    "    leisure_mat = zeros(num_grid^2, num_grid^4);\n",
    "    income_mat = zeros(num_grid^2, num_grid^4);\n",
    "    new_average_income_mat = zeros(num_grid^2, num_grid^4);\n",
    "    new_asset_mat = ones(num_grid^2, num_grid^4);\n",
    "    wage_mat = zeros(num_grid^2, num_grid^4);\n",
    "    new_asset_mat = zeros(num_grid^2, num_grid^4);\n",
    "    hour_home_mat = zeros(num_grid^2, num_grid^4); # hour home (realized)\n",
    "    raw_hour_home_mat = zeros(num_grid^2, num_grid^4); # relative hour home (not real one)\n",
    "    hour_mkt_mat = zeros(num_grid^2, num_grid^4);\n",
    "\n",
    "    for new_asset_ind = 1:num_grid  \n",
    "        for leisure_ind = 1:num_grid\n",
    "            for asset_ind = 1:num_grid\n",
    "                for average_income_ind = 1:num_grid\n",
    "                    for wage_ind = 1:num_grid\n",
    "                        for hour_home_ind = 1:num_grid\n",
    "                            new_asset = asset_grid[new_asset_ind]      \n",
    "                            leisure = leisure_grid[leisure_ind]\n",
    "                            asset = asset_grid[asset_ind]\n",
    "                            wage = wage_grid[wage_ind] # wage is 0 when retired\n",
    "                            #if age < retirement_age\n",
    "                            #    wage = wage_grid[wage_ind] # wage is 0 when retired\n",
    "                            #else\n",
    "                            #    wage = 0\n",
    "                            #end\n",
    "                            raw_hour_home = hour_home_grid[hour_home_ind]\n",
    "                            hour_home = calc_hour_home(age, raw_hour_home, total_raw_hour_home, LTCI_type, NH_rate, ceiling)\n",
    "                            hour_mkt = calc_hour_mkt(age, leisure, hour_home)\n",
    "                            if age == 1\n",
    "                                average_income = 0\n",
    "                            else\n",
    "                                average_income = wage_grid[average_income_ind]\n",
    "                            end\n",
    "                            new_average_income = calc_new_average_income(age, average_income, wage,  hour_mkt) # calculate average income\n",
    "\n",
    "                            pension = calc_pension(age, average_income)\n",
    "                            income = calc_income(wage, hour_mkt, pension, tau)\n",
    "                            consumption = calc_consumption(age, new_asset, income, asset)\n",
    "                            utility = calc_utility(consumption, leisure)\n",
    "                            \n",
    "                            row_ind = new_asset_ind + (leisure_ind - 1)*num_grid\n",
    "                            col_ind = asset_ind + (average_income_ind - 1)*num_grid+ (wage_ind - 1)*num_grid^2 + (hour_home_ind - 1)*num_grid^3\n",
    "                            \n",
    "                            # store variables\n",
    "                            consumption_mat[row_ind, col_ind] = consumption;\n",
    "                            new_asset_mat[row_ind, col_ind] = new_asset;\n",
    "                            leisure_mat[row_ind, col_ind] = leisure;\n",
    "                            income_mat[row_ind, col_ind] = income;\n",
    "                            wage_mat[row_ind, col_ind] = wage;\n",
    "                            new_average_income_mat[row_ind, col_ind] = new_average_income;\n",
    "                            raw_hour_home_mat[row_ind, col_ind] = raw_hour_home;\n",
    "                            hour_home_mat[row_ind, col_ind] = hour_home;\n",
    "                            hour_mkt_mat[row_ind, col_ind] = hour_mkt;\n",
    "                            \n",
    "                            # calc expected_value\n",
    "                            v_new_vec = get_new_value(new_asset, new_average_income, new_max_value_mat)\n",
    "                            p = gen_prob_vec(wage, hour_home)\n",
    "                            expected_value = dot(v_new_vec, p)\n",
    "                            value_matrix[row_ind, col_ind] = value_function(utility, expected_value)\n",
    "                        end\n",
    "                    end\n",
    "                end\n",
    "            end\n",
    "        end\n",
    "    end\n",
    "    # get max value for each asset, wage, h_H. maximizing with respect to new asset and leisure\n",
    "    #max_value = maximum(value_matrix, 1)\n",
    "    max_value, max_ind = findmax(value_matrix, 1)\n",
    "    # reshape value matrix to (asset_grid x new_average_income)  x (w x h_H)\n",
    "    # this should be fix throughout the simulation\n",
    "    max_values_reshaped = reshape(max_value, num_grid^2, num_grid^2);\n",
    "    return max_values_reshaped, max_ind, new_asset_mat, consumption_mat, income_mat, wage_mat, hour_home_mat, raw_hour_home_mat, \n",
    "    hour_mkt_mat, new_average_income_mat\n",
    "end\n",
    "\n"
   ]
  },
  {
   "cell_type": "code",
   "execution_count": null,
   "metadata": {
    "collapsed": true
   },
   "outputs": [],
   "source": []
  },
  {
   "cell_type": "code",
   "execution_count": 68,
   "metadata": {
    "slideshow": {
     "slide_type": "subslide"
    }
   },
   "outputs": [
    {
     "name": "stderr",
     "output_type": "stream",
     "text": [
      "WARNING: Method definition gen_policy_function(Any, Any, Any, Any) in module Main at In[15]:3 overwritten at In[68]:3.\n",
      "WARNING: Method definition gen_policy_function(Any, Any, Any, Any, Any) in module Main at In[15]:3 overwritten at In[68]:3.\n",
      "WARNING: Method definition gen_policy_function(Any, Any, Any, Any, Any, Any) in module Main at In[15]:3 overwritten at In[68]:3.\n"
     ]
    },
    {
     "data": {
      "text/plain": [
       "gen_policy_function (generic function with 3 methods)"
      ]
     },
     "execution_count": 68,
     "metadata": {},
     "output_type": "execute_result"
    }
   ],
   "source": [
    "function gen_policy_function(tau, LTCI_type, NH_rate, ceiling, num_grid = num_grid, value_function = value_function)\n",
    "    \n",
    "    new_max_value_matrix = zeros(num_grid^2, num_grid^2);\n",
    "    pol_consumption = zeros(num_period, num_grid^4);\n",
    "    pol_new_asset = zeros(num_period, num_grid^4);\n",
    "    pol_hour_mkt = zeros(num_period, num_grid^4);\n",
    "    pol_income = zeros(num_period, num_grid^4);\n",
    "    pol_new_average_income = zeros(num_period, num_grid^4);\n",
    "\n",
    "    for t in (3,2,1)\n",
    "        max_values_reshaped, max_ind, new_asset_mat, consumption_mat, income_mat, wage_mat, hour_home_mat, raw_hour_home_mat, \n",
    "        hour_mkt_mat, new_average_income_mat = \n",
    "        generate_max_values_matrix(t, tau, LTCI_type, NH_rate, ceiling, value_function, new_max_value_matrix)\n",
    "        \n",
    "        pol_consumption[t,:] = consumption_mat[max_ind]\n",
    "        pol_hour_mkt[t,:] = max(hour_mkt_mat[max_ind], 0)\n",
    "        pol_income[t,:] = income_mat[max_ind]\n",
    "        pol_new_average_income[t,:] = new_average_income_mat[max_ind]\n",
    "        pol_new_asset[t,:] = max(new_asset_mat[max_ind], 0)\n",
    "        new_max_value_matrix = max_values_reshaped\n",
    "    end\n",
    "        return pol_consumption, pol_hour_mkt, pol_income, pol_new_asset, pol_new_average_income\n",
    "end"
   ]
  },
  {
   "cell_type": "code",
   "execution_count": null,
   "metadata": {},
   "outputs": [],
   "source": []
  },
  {
   "cell_type": "markdown",
   "metadata": {
    "collapsed": true,
    "slideshow": {
     "slide_type": "slide"
    }
   },
   "source": [
    "# Simulation"
   ]
  },
  {
   "cell_type": "markdown",
   "metadata": {
    "collapsed": true,
    "slideshow": {
     "slide_type": "slide"
    }
   },
   "source": [
    "## Setting\n",
    "* we simulate 100,000 households with 3 periods\n",
    "* initial wage is randomly distributed, assets are set to 0 for young.\n",
    "* wage evolves according to the distribution. Highly persistent with $\\rho = 0.9$ \n",
    "* hour at home are set randomly"
   ]
  },
  {
   "cell_type": "code",
   "execution_count": 69,
   "metadata": {
    "slideshow": {
     "slide_type": "subslide"
    }
   },
   "outputs": [
    {
     "name": "stderr",
     "output_type": "stream",
     "text": [
      "WARNING: redefining constant wage_markovchain\n",
      "WARNING: redefining constant wage_trans_mat\n",
      "WARNING: redefining constant wage_grid\n"
     ]
    }
   ],
   "source": [
    "# setting\n",
    "\n",
    "### Economy ###\n",
    "const num_threads = 16;\n",
    "const r = 0.01; # interest rate\n",
    "const dep_rate = 1 # dependency rate\n",
    "const wage_care = 0.7; # care workers' wage rate. ratio to all industry\n",
    "const sick_rate = 0.3; # need care old / old\n",
    "const care_hour = 0.3; # care demand per care receiver in hours\n",
    "const middle_age = (2); # when giving care\n",
    "\n",
    "### Government ###\n",
    "#tau = 0.3; # income tax rate\n",
    "const rep_rate = 0.3; # replacement rate\n",
    "#NH_rate = 0.5; # government formal care provision rate. ratio to needed care\n",
    "const retirement_age = 3; # age when household can take up pension\n",
    "const num_period = 3; # number of periods when hh dies surely\n",
    "const phi = 2/3 # cost efficiency of nursing home compared tp informal care \n",
    "# LTCI_type = 1; # 1 = proportionaly distribution, 2 = ceiling\n",
    "#ceiling = 0.2; # ceiling of informal care. above that the government take care of the needy\n",
    "\n",
    "\n",
    "### Preference ###\n",
    "const beta = 0.9; # discount rate\n",
    "const chi = .28; # share of leisure in utilty\n",
    "const sigma = 4; # intertemporal substitution\n",
    "\n",
    "### numerical excersize ###\n",
    "num_grid = 9; # number of grid 9\n",
    "const min_asset = 0; # minimum asset\n",
    "const max_asset = 10; # maximum asset\n",
    "const min_leisure = 0.001;\n",
    "const max_leisure = 0.999;\n",
    "\n",
    "# wage trainsition matrix\n",
    "# \"const\" make it faster \n",
    "const wage_rho = 0.9 # param for wage function\n",
    "const wage_sigma = 0.2# param for wage function standard deviation for epsilon\n",
    "const wage_mu = 0 # mean wage\n",
    "const wage_n_std = 3  # length of grid\n",
    "\n",
    "const wage_markovchain = tauchen(num_grid, wage_rho, wage_sigma, wage_mu, wage_n_std);\n",
    "const wage_trans_mat = wage_markovchain.p;\n",
    "const wage_grid = exp(wage_markovchain.state_values);\n",
    "\n",
    "# informal care grid and transition matrix\n",
    "\n",
    "hour_home_rho = 0 # param for wage function\n",
    "hour_home_sigma = 1# param for wage function standard deviation for epsilon\n",
    "hour_home_mu = 0 # mean hour at home\n",
    "hour_home_n_std = 3 # length of grid\n",
    "\n",
    "hour_home_markovchain = tauchen(num_grid, hour_home_rho, hour_home_sigma, hour_home_mu, hour_home_n_std);\n",
    "hour_home_trans_mat = hour_home_markovchain.p;\n",
    "hour_home_grid = exp(hour_home_markovchain.state_values);\n",
    "\n",
    "asset_grid = linspace(min_asset, max_asset, num_grid);\n",
    "leisure_grid = linspace(min_leisure, max_leisure, num_grid);\n",
    "\n",
    "# simulation 100 thousand H/H\n",
    "# initializing matrices\n",
    "num_hh = 100000; # 100000\n",
    "\n",
    "asset_record = zeros(num_hh, num_period);\n",
    "wage_record = zeros(num_hh, num_period);\n",
    "average_income_record = zeros(num_hh,num_period);\n",
    "raw_hour_home_record = zeros(num_hh, num_period);\n",
    "hour_home_record = zeros(num_hh, num_period);\n",
    "hour_mkt_record = zeros(num_hh, num_period);\n",
    "consumption_record = zeros(num_hh, num_period);\n",
    "\n",
    "# wage is first generated by normal and transformed into exponentiated value\n",
    "wage_dist = Normal(wage_mu, wage_sigma^2/(1 - wage_rho^2));\n",
    "log_wage = rand(wage_dist, num_hh, 1);\n",
    "wage_record[:,1] = exp(log_wage);\n",
    "eps_dist = Normal(0, wage_sigma);\n",
    "wage_record[:,2] = exp(wage_rho*log_wage + rand(eps_dist, num_hh, 1));\n",
    "\n",
    "# raw hour home. the hour ac\n",
    "hour_home_dist = Normal(hour_home_mu, hour_home_sigma^2);\n",
    "log_hour_home = rand(hour_home_dist, num_hh, num_period);\n",
    "raw_hour_home_record = exp(log_hour_home);\n",
    "raw_hour_home_record[:, 1] = 0;\n",
    "total_raw_hour_home = sum(raw_hour_home_record);"
   ]
  },
  {
   "cell_type": "code",
   "execution_count": 70,
   "metadata": {
    "slideshow": {
     "slide_type": "subslide"
    }
   },
   "outputs": [
    {
     "name": "stderr",
     "output_type": "stream",
     "text": [
      "WARNING: Method definition simulator(Any, Any, Any, Any, Any, Any, Any) in module Main at In[17]:8 overwritten at In[70]:8.\n",
      "WARNING: Method definition simulator(Any, Any, Any, Any, Any, Any, Any, Any) in module Main at In[17]:8 overwritten at In[70]:8.\n",
      "WARNING: Method definition simulator(Any, Any, Any, Any, Any, Any, Any, Any, Any) in module Main at In[17]:8 overwritten at In[70]:8.\n",
      "WARNING: Method definition simulator(Any, Any, Any, Any, Any, Any, Any, Any, Any, Any) in module Main at In[17]:8 overwritten at In[70]:8.\n",
      "WARNING: Method definition simulator(Any, Any, Any, Any, Any, Any, Any, Any, Any, Any, Any) in module Main at In[17]:8 overwritten at In[70]:8.\n",
      "WARNING: Method definition simulator(Any, Any, Any, Any, Any, Any, Any, Any, Any, Any, Any, Any) in module Main at In[17]:8 overwritten at In[70]:8.\n",
      "WARNING: Method definition simulator(Any, Any, Any, Any, Any, Any, Any, Any, Any, Any, Any, Any, Any) in module Main at In[17]:8 overwritten at In[70]:8.\n",
      "WARNING: Method definition simulator(Any, Any, Any, Any, Any, Any, Any, Any, Any, Any, Any, Any, Any, Any) in module Main at In[17]:8 overwritten at In[70]:8.\n",
      "WARNING: Method definition simulator(Any, Any, Any, Any, Any, Any, Any, Any, Any, Any, Any, Any, Any, Any, Any) in module Main at In[17]:8 overwritten at In[70]:8.\n",
      "WARNING: Method definition simulator(Any, Any, Any, Any, Any, Any, Any, Any, Any, Any, Any, Any, Any, Any, Any, Any) in module Main at In[17]:8 overwritten at In[70]:8.\n",
      "WARNING: Method definition simulator(Any, Any, Any, Any, Any, Any, Any, Any, Any, Any, Any, Any, Any, Any, Any, Any, Any) in module Main at In[17]:8 overwritten at In[70]:8.\n",
      "WARNING: Method definition simulator(Any, Any, Any, Any, Any, Any, Any, Any, Any, Any, Any, Any, Any, Any, Any, Any, Any, Any) in module Main at In[17]:8 overwritten at In[70]:8.\n"
     ]
    },
    {
     "data": {
      "text/plain": [
       "simulator (generic function with 12 methods)"
      ]
     },
     "execution_count": 70,
     "metadata": {},
     "output_type": "execute_result"
    }
   ],
   "source": [
    "function simulator(LTCI_type, NH_rate, ceiling, pol_consumption, pol_new_asset, pol_hour_mkt, pol_new_average_income, consumption_record = consumption_record,\n",
    "        asset_record = asset_record, hour_mkt_record = hour_mkt_record, raw_hour_home_record = raw_hour_home_record, \n",
    "        average_income_record = average_income_record, asset_grid = asset_grid, hour_home_grid = hour_home_grid,  \n",
    "        wage_grid = wage_grid, num_grid = num_grid, retirement_age = retirement_age,  num_period = num_period)\n",
    "    \n",
    "    \n",
    "\n",
    "    for t = 1:num_period\n",
    "        pol_consumption_reshape = reshape(pol_consumption[t,:], num_grid, num_grid, num_grid, num_grid) # reshape for interpolate    \n",
    "        pol_new_asset_reshape = reshape(pol_new_asset[t,:], num_grid, num_grid, num_grid, num_grid) # reshape for interpolate    \n",
    "        pol_hour_mkt_reshape = reshape(pol_hour_mkt[t,:], num_grid, num_grid, num_grid, num_grid) # reshape for interpolate    \n",
    "        pol_new_average_income_reshape = reshape(pol_new_average_income[t,:], num_grid, num_grid, num_grid, num_grid) # reshape for interpolate    \n",
    "        \n",
    "        consumption_itp = interpolate((asset_grid, wage_grid, wage_grid, hour_home_grid), pol_consumption_reshape, Gridded(Linear()));\n",
    "        new_asset_itp = interpolate((asset_grid, wage_grid, wage_grid, hour_home_grid), pol_new_asset_reshape, Gridded(Linear()));\n",
    "        hour_mkt_itp = interpolate((asset_grid, wage_grid, wage_grid, hour_home_grid), pol_hour_mkt_reshape, Gridded(Linear()));\n",
    "        new_average_income_itp = interpolate((asset_grid, wage_grid, wage_grid, hour_home_grid), pol_new_average_income_reshape, Gridded(Linear()));\n",
    "\n",
    "\n",
    "        for n = 1:num_hh\n",
    "            if t < retirement_age\n",
    "                asset_record[n,t+1] = new_asset_itp[asset_record[n,t], average_income_record[n,t], wage_record[n,t],\n",
    "                    raw_hour_home_record[n,t]]\n",
    "                average_income_record[n,t + 1] = new_average_income_itp[asset_record[n,t], average_income_record[n,t], \n",
    "                    wage_record[n,t], raw_hour_home_record[n,t]]\n",
    "            end\n",
    "            hour_mkt_record[n,t] = hour_mkt_itp[asset_record[n,t], average_income_record[n,t], wage_record[n,t], raw_hour_home_record[n,t]]\n",
    "            hour_home_record[n,t] = calc_hour_home(t, raw_hour_home_record[n,t], total_raw_hour_home, LTCI_type, NH_rate, ceiling);\n",
    "            consumption_record[n,t] = consumption_itp[asset_record[n,t], average_income_record[n,t], wage_record[n,t], raw_hour_home_record[n,t]]\n",
    "\n",
    "            \n",
    "            \n",
    "        end\n",
    "    end\n",
    "    return consumption_record, asset_record, hour_mkt_record, hour_home_record, average_income_record\n",
    "end"
   ]
  },
  {
   "cell_type": "markdown",
   "metadata": {
    "collapsed": true,
    "slideshow": {
     "slide_type": "slide"
    }
   },
   "source": [
    "# Fiscal sustainability of LTCI"
   ]
  },
  {
   "cell_type": "code",
   "execution_count": 71,
   "metadata": {
    "slideshow": {
     "slide_type": "subslide"
    }
   },
   "outputs": [
    {
     "name": "stderr",
     "output_type": "stream",
     "text": [
      "WARNING: Method definition LTCI_cost(Any, Any, Any) in module Main at In[18]:5 overwritten at In[71]:5.\n",
      "WARNING: Method definition LTCI_cost(Any, Any, Any, Any) in module Main at In[18]:5 overwritten at In[71]:5.\n",
      "WARNING: Method definition LTCI_cost(Any, Any, Any, Any, Any) in module Main at In[18]:5 overwritten at In[71]:5.\n",
      "WARNING: Method definition LTCI_cost(Any, Any, Any, Any, Any, Any) in module Main at In[18]:5 overwritten at In[71]:5.\n",
      "WARNING: Method definition LTCI_cost(Any, Any, Any, Any, Any, Any, Any) in module Main at In[18]:5 overwritten at In[71]:5.\n",
      "WARNING: Method definition LTCI_cost(Any, Any, Any, Any, Any, Any, Any, Any) in module Main at In[18]:5 overwritten at In[71]:5.\n",
      "WARNING: Method definition LTCI_cost(Any, Any, Any, Any, Any, Any, Any, Any, Any) in module Main at In[18]:5 overwritten at In[71]:5.\n",
      "WARNING: Method definition LTCI_cost(Any, Any, Any, Any, Any, Any, Any, Any, Any, Any) in module Main at In[18]:5 overwritten at In[71]:5.\n",
      "WARNING: Method definition LTCI_cost(Any, Any, Any, Any, Any, Any, Any, Any, Any, Any, Any) in module Main at In[18]:5 overwritten at In[71]:5.\n"
     ]
    },
    {
     "data": {
      "text/plain": [
       "LTCI_cost (generic function with 9 methods)"
      ]
     },
     "execution_count": 71,
     "metadata": {},
     "output_type": "execute_result"
    }
   ],
   "source": [
    "# cost \n",
    "function LTCI_cost(LTCI_type, NH_rate, ceiling, raw_hour_home_record = raw_hour_home_record, hour_home_record = hour_home_record, \n",
    "        phi = phi, wage_care = wage_care, care_hour = care_hour,sick_rate = sick_rate, \n",
    "        dep_rate = dep_rate, total_raw_hour_home = total_raw_hour_home)\n",
    "    if LTCI_type == 1\n",
    "        if NH_rate <= 0 \n",
    "            return 0\n",
    "        else\n",
    "            return NH_rate*phi*wage_care*num_hh*dep_rate*sick_rate*care_hour\n",
    "        end\n",
    "    end\n",
    "    if LTCI_type == 2\n",
    "        if ceiling <= 0\n",
    "            return 0\n",
    "        else\n",
    "            temp_care_hour = zeros(num_hh, 1)\n",
    "            for i in 1:num_hh                \n",
    "                temp_care_hour[i] = raw_hour_home_record[i]*dep_rate*care_hour*sick_rate*num_hh/total_raw_hour_home\n",
    "            end\n",
    "            return sum((temp_care_hour - ceiling).*(temp_care_hour .>= ceiling))\n",
    "        end\n",
    "    end\n",
    "end"
   ]
  },
  {
   "cell_type": "code",
   "execution_count": 72,
   "metadata": {
    "slideshow": {
     "slide_type": "subslide"
    }
   },
   "outputs": [
    {
     "name": "stderr",
     "output_type": "stream",
     "text": [
      "WARNING: Method definition calc_revenue(Any, Any, Any) in module Main at In[19]:2 overwritten at In[72]:2.\n"
     ]
    },
    {
     "data": {
      "text/plain": [
       "calc_revenue (generic function with 1 method)"
      ]
     },
     "execution_count": 72,
     "metadata": {},
     "output_type": "execute_result"
    }
   ],
   "source": [
    "function calc_revenue(wage_record, hour_mkt_record, tau)\n",
    "    sum(wage_record.*hour_mkt_record*tau)\n",
    "end"
   ]
  },
  {
   "cell_type": "code",
   "execution_count": 73,
   "metadata": {
    "slideshow": {
     "slide_type": "subslide"
    }
   },
   "outputs": [
    {
     "name": "stderr",
     "output_type": "stream",
     "text": [
      "WARNING: Method definition calc_pension_cost(Any) in module Main at In[20]:3 overwritten at In[73]:3.\n",
      "WARNING: Method definition calc_pension_cost(Any, Any) in module Main at In[20]:3 overwritten at In[73]:3.\n",
      "WARNING: Method definition calc_pension_cost(Any, Any, Any) in module Main at In[20]:3 overwritten at In[73]:3.\n",
      "WARNING: Method definition calc_pension_cost(Any, Any, Any, Any) in module Main at In[20]:3 overwritten at In[73]:3.\n"
     ]
    },
    {
     "data": {
      "text/plain": [
       "calc_pension_cost (generic function with 4 methods)"
      ]
     },
     "execution_count": 73,
     "metadata": {},
     "output_type": "execute_result"
    }
   ],
   "source": [
    "function calc_pension_cost(average_income_record, rep_rate = rep_rate,  num_period = num_period, \n",
    "        retirement_age = retirement_age)\n",
    "    sum(average_income_record[:,3])*rep_rate\n",
    "end"
   ]
  },
  {
   "cell_type": "code",
   "execution_count": null,
   "metadata": {
    "collapsed": true
   },
   "outputs": [],
   "source": []
  },
  {
   "cell_type": "markdown",
   "metadata": {
    "collapsed": true,
    "slideshow": {
     "slide_type": "slide"
    }
   },
   "source": [
    "# iteration\n",
    "* set  $\\tau$, LTCI type, NH rate, ceiling, replacement rate and see if converge"
   ]
  },
  {
   "cell_type": "code",
   "execution_count": 74,
   "metadata": {
    "collapsed": true,
    "slideshow": {
     "slide_type": "subslide"
    }
   },
   "outputs": [],
   "source": [
    "while nworkers() < num_threads\n",
    "    addprocs(1);\n",
    "end"
   ]
  },
  {
   "cell_type": "code",
   "execution_count": 75,
   "metadata": {
    "slideshow": {
     "slide_type": "subslide"
    }
   },
   "outputs": [
    {
     "name": "stderr",
     "output_type": "stream",
     "text": [
      "WARNING: Method definition iteration(Any, Any, Any, Any) in module Main at In[22]:3 overwritten at In[75]:3.\n",
      "WARNING: Method definition iteration(Any, Any, Any, Any, Any) in module Main at In[22]:3 overwritten at In[75]:3.\n",
      "WARNING: Method definition iteration(Any, Any, Any, Any, Any, Any) in module Main at In[22]:3 overwritten at In[75]:3.\n",
      "WARNING: Method definition iteration(Any, Any, Any, Any, Any, Any, Any) in module Main at In[22]:3 overwritten at In[75]:3.\n",
      "WARNING: Method definition iteration(Any, Any, Any, Any, Any, Any, Any, Any) in module Main at In[22]:3 overwritten at In[75]:3.\n",
      "WARNING: Method definition iteration(Any, Any, Any, Any, Any, Any, Any, Any, Any) in module Main at In[22]:3 overwritten at In[75]:3.\n",
      "WARNING: Method definition iteration(Any, Any, Any, Any, Any, Any, Any, Any, Any, Any) in module Main at In[22]:3 overwritten at In[75]:3.\n",
      "WARNING: Method definition iteration(Any, Any, Any, Any, Any, Any, Any, Any, Any, Any, Any) in module Main at In[22]:3 overwritten at In[75]:3.\n",
      "WARNING: Method definition iteration(Any, Any, Any, Any, Any, Any, Any, Any, Any, Any, Any, Any) in module Main at In[22]:3 overwritten at In[75]:3.\n"
     ]
    },
    {
     "data": {
      "text/plain": [
       "iteration (generic function with 9 methods)"
      ]
     },
     "execution_count": 75,
     "metadata": {},
     "output_type": "execute_result"
    }
   ],
   "source": [
    "function iteration(tau, LTCI_type, NH_rate, ceiling, tol = 0.05, lr = 0.01, drep_rate = rep_rate, num_grid = num_grid, \n",
    "        raw_hour_home_record = raw_hour_home_record, wage_record = wage_record, value_function = value_function, ratio = 0)\n",
    "    while abs(ratio - 1) > tol\n",
    "        \n",
    "        pol_consumption, pol_hour_mkt, pol_income, pol_new_asset, pol_new_average_income = gen_policy_function(tau, LTCI_type, NH_rate, ceiling, num_grid, value_function)\n",
    "        consumption_record, asset_record, hour_mkt_record, hour_home_record, new_average_income_record = simulator(LTCI_type, NH_rate, ceiling, pol_consumption, pol_new_asset, pol_hour_mkt, pol_new_average_income)\n",
    "\n",
    "        cost = LTCI_cost(LTCI_type, NH_rate, ceiling, raw_hour_home_record) + calc_pension_cost(average_income_record, rep_rate)\n",
    "        revenue = calc_revenue(wage_record, hour_mkt_record, tau)\n",
    "        ratio = cost/revenue\n",
    "        if ratio > 1 + tol\n",
    "            tau = tau + lr\n",
    "        elseif ratio < 1 - tol\n",
    "            tau = tau - lr\n",
    "        end\n",
    "        println(\"tax rate is $tau and ratio is $ratio cost is $cost revenue is $revenue\")\n",
    "    end\n",
    "    return tau, LTCI_type, NH_rate, ceiling, consumption_record, asset_record, hour_mkt_record, hour_home_record\n",
    "end"
   ]
  },
  {
   "cell_type": "markdown",
   "metadata": {
    "collapsed": true,
    "slideshow": {
     "slide_type": "slide"
    }
   },
   "source": [
    "# Exercise"
   ]
  },
  {
   "cell_type": "markdown",
   "metadata": {
    "collapsed": true,
    "slideshow": {
     "slide_type": "slide"
    }
   },
   "source": [
    "## benchmark economy\n",
    "* LTCI is provided proportional to the level of care. Half of the care is covered by government funded formal care.\n",
    "* Other policy\n",
    "    * Pension is proportional to their lifetime income. Almost same as **Kosei Nenkin** or employees' pension insurance.\n",
    "    * Balanced budget, which is unlikely in the real world.\n",
    "    * Flat tax with rate consistent with the spending by numerical iteration."
   ]
  },
  {
   "cell_type": "code",
   "execution_count": 76,
   "metadata": {
    "slideshow": {
     "slide_type": "subslide"
    }
   },
   "outputs": [
    {
     "name": "stdout",
     "output_type": "stream",
     "text": [
      "tax rate is 0.239 and ratio is 0.6554005856663571 cost is 26895.702664624176 revenue is 41037.04398933188\n",
      "tax rate is 0.22899999999999998 and ratio is 0.682823204313485 cost is 26895.702664624176 revenue is 39388.96993353542\n",
      "tax rate is 0.21899999999999997 and ratio is 0.7126408114887465 cost is 26895.702664624176 revenue is 37740.895877738956\n",
      "tax rate is 0.20899999999999996 and ratio is 0.7437183310142131 cost is 27472.06321290302 revenue is 36938.80070891786\n",
      "tax rate is 0.19899999999999995 and ratio is 0.7773649912789936 cost is 28238.40905699058 revenue is 36325.80496136069\n",
      "tax rate is 0.18899999999999995 and ratio is 0.8161596037072084 cost is 28305.672461110946 revenue is 34681.54063560515\n",
      "tax rate is 0.17899999999999994 and ratio is 0.8592687371077978 cost is 28323.58115904915 revenue is 32962.42483391534\n",
      "tax rate is 0.16899999999999993 and ratio is 0.9072725771696861 cost is 28323.58115904915 revenue is 31218.381191909237\n",
      "tax rate is 0.16899999999999993 and ratio is 0.9609573450495492 cost is 28323.58115904915 revenue is 29474.33754990313\n",
      "1105.930534 seconds (13.66 G allocations: 1.207 TB, 24.40% gc time)\n"
     ]
    }
   ],
   "source": [
    "tau = 0.249;\n",
    "LTCI_type = 1;\n",
    "NH_rate = 0.5;\n",
    "ceiling = NaN;\n",
    "tol = 0.05;\n",
    "@time iter_results = iteration(tau, LTCI_type, NH_rate, ceiling, tol);"
   ]
  },
  {
   "cell_type": "code",
   "execution_count": 77,
   "metadata": {
    "collapsed": true,
    "slideshow": {
     "slide_type": "subslide"
    }
   },
   "outputs": [],
   "source": [
    "tau = iter_results[1];\n",
    "#LTCI_type = iter_results[2];\n",
    "#NH_rate = iter_results[3];\n",
    "#ceiling = iter_results[4];\n",
    "consumption_record = iter_results[5];\n",
    "asset_record = iter_results[6];\n",
    "hour_mkt_record = iter_results[7];\n",
    "hour_home_record = iter_results[8];"
   ]
  },
  {
   "cell_type": "code",
   "execution_count": null,
   "metadata": {
    "collapsed": true
   },
   "outputs": [],
   "source": []
  },
  {
   "cell_type": "markdown",
   "metadata": {
    "slideshow": {
     "slide_type": "slide"
    }
   },
   "source": [
    "## impact of informal care on lifetime consumption"
   ]
  },
  {
   "cell_type": "code",
   "execution_count": 78,
   "metadata": {
    "slideshow": {
     "slide_type": "slide"
    }
   },
   "outputs": [
    {
     "data": {
      "text/html": [
       "<script src=\"/home/daisuke_moriwaki/.julia/v0.5/Plots/src/backends/../../deps/plotly-latest.min.js\"></script>    <div id=\"a30b5785-235c-425c-bd6d-e87d5a6d2032\" style=\"width:600px;height:400px;\"></div>\n",
       "    <script>\n",
       "    PLOT = document.getElementById('a30b5785-235c-425c-bd6d-e87d5a6d2032');\n",
       "    Plotly.plot(PLOT, [{\"yaxis\":\"y\",\"y\":[90289.0,7375.0,1544.0,468.0,146.0,87.0,37.0,23.0,8.0,8.0,4.0,2.0,1.0,2.0,1.0,1.0,1.0,2.0,0.0,1.0],\"showlegend\":true,\"name\":\"y1\",\"type\":\"bar\",\"xaxis\":\"x\",\"orientation\":\"v\",\"colorbar\":{\"title\":\"\"},\"x\":[0.025,0.07500000000000001,0.125,0.175,0.225,0.275,0.32499999999999996,0.375,0.42500000000000004,0.475,0.525,0.575,0.625,0.675,0.725,0.775,0.825,0.875,0.925,0.975],\"marker\":{\"color\":\"rgba(0, 154, 250, 1.000)\"}}], {\"yaxis\":{\"type\":\"-\",\"titlefont\":{\"size\":15,\"color\":\"rgba(0, 0, 0, 1.000)\",\"family\":\"sans-serif\"},\"title\":\"num of households\",\"tickfont\":{\"size\":11,\"color\":\"rgba(0, 0, 0, 1.000)\",\"family\":\"sans-serif\"},\"ticks\":\"inside\",\"tickmode\":\"array\",\"showgrid\":true,\"tickvals\":[0.0,20000.0,40000.0,60000.0,80000.0],\"domain\":[0.07581474190726165,0.9415463692038496],\"ticktext\":[\"0\",\"20000\",\"40000\",\"60000\",\"80000\"],\"tickangle\":0,\"zeroline\":false,\"linecolor\":\"rgba(0, 0, 0, 1.000)\",\"tickcolor\":\"rgba(0, 0, 0, 1.000)\",\"anchor\":\"x\"},\"annotations\":[{\"text\":\"Hour at home (Middle)\",\"y\":1.0,\"xref\":\"paper\",\"font\":{\"size\":20,\"color\":\"rgba(0, 0, 0, 1.000)\",\"family\":\"sans-serif\"},\"xanchor\":\"center\",\"x\":0.5497685185185185,\"yref\":\"paper\",\"showarrow\":false,\"yanchor\":\"top\",\"rotation\":-0.0}],\"width\":600,\"plot_bgcolor\":\"rgba(255, 255, 255, 1.000)\",\"showlegend\":true,\"legend\":{\"bgcolor\":\"rgba(255, 255, 255, 1.000)\",\"y\":1.0,\"font\":{\"size\":11,\"color\":\"rgba(0, 0, 0, 1.000)\",\"family\":\"sans-serif\"},\"bordercolor\":\"rgba(0, 0, 0, 1.000)\",\"x\":1.0},\"xaxis\":{\"type\":\"-\",\"titlefont\":{\"size\":15,\"color\":\"rgba(0, 0, 0, 1.000)\",\"family\":\"sans-serif\"},\"title\":\"hour at home\",\"tickfont\":{\"size\":11,\"color\":\"rgba(0, 0, 0, 1.000)\",\"family\":\"sans-serif\"},\"ticks\":\"inside\",\"tickmode\":\"array\",\"showgrid\":true,\"tickvals\":[0.2,0.4,0.6000000000000001,0.8,1.0],\"domain\":[0.10609871682706327,0.9934383202099737],\"ticktext\":[\"0.2\",\"0.4\",\"0.6\",\"0.8\",\"1.0\"],\"tickangle\":0,\"zeroline\":false,\"linecolor\":\"rgba(0, 0, 0, 1.000)\",\"tickcolor\":\"rgba(0, 0, 0, 1.000)\",\"anchor\":\"y\"},\"paper_bgcolor\":\"rgba(255, 255, 255, 1.000)\",\"height\":400,\"margin\":{\"r\":0,\"l\":0,\"b\":20,\"t\":20}});\n",
       "    </script>\n"
      ]
     },
     "execution_count": 78,
     "metadata": {},
     "output_type": "execute_result"
    }
   ],
   "source": [
    "histogram(hour_home_record[:, 2], title = \"Hour at home (Middle)\", nbins = 20, ylabel = \"num of households\", xlabel = \"hour at home\")"
   ]
  },
  {
   "cell_type": "code",
   "execution_count": 79,
   "metadata": {
    "slideshow": {
     "slide_type": "slide"
    }
   },
   "outputs": [
    {
     "data": {
      "text/html": [
       "<script src=\"/home/daisuke_moriwaki/.julia/v0.5/Plots/src/backends/../../deps/plotly-latest.min.js\"></script>    <div id=\"9d6bfeb4-5835-4917-9ade-1cab4fb80d1d\" style=\"width:600px;height:400px;\"></div>\n",
       "    <script>\n",
       "    PLOT = document.getElementById('9d6bfeb4-5835-4917-9ade-1cab4fb80d1d');\n",
       "    Plotly.plot(PLOT, [{\"yaxis\":\"y\",\"y\":[1.1305573503479316,1.8115541926511034,1.8785482874007031,1.4677422401061768,1.6615078631097553,2.068993276475433,1.1117221371823574,2.211869251082237,1.5911662822469987,2.3066130143864,1.964231243344758,1.9604929234870376,1.9477458536352934,2.1253007447077525,1.2452902287081136,1.6430856102673506,1.856902924817383,1.6111713787903192,2.107012251152613,0.8193235689325532,1.0015976008991423,1.9828266197046953,1.9913141157261012,1.6306448617774136,1.1684845276174414,2.1753972174677174,1.7719076152163566,1.2596785570215752,1.4843431408971155,2.416590795192152,1.7920159192239826,1.3966545002793676,1.7015477220537258,1.1485196836382496,2.198137246907918,1.1049347629394464,2.2597145245004553,1.3159463940584224,2.096757034910654,1.675196304265259,1.6020995798922035,2.027429621318081,2.495879320458633,1.341271813791779,1.5761543418295343,2.8296014588719998,2.2009881364728585,2.0361949745207935,1.812880282258147,1.8980434781354085,1.5892900048482592,1.3286813929174353,1.759491836730498,2.239817360552142,1.5507465056216259,1.692251733825589,1.2205265467168178,1.5805459752148274,1.4402435589570948,1.7803729268592718,1.603761832108811,1.7319875133426845,1.6821006595602102,2.2737961762815204,1.808381928765019,2.2661919761436127,2.1868558394558426,1.3089764893028177,1.1981335743703085,2.038093994084736,1.4685578628237688,1.4687000629487388,2.5831896718397416,1.5424452138435993,1.2488376767881335,1.7678567709723372,1.7504432178751954,2.350485007580516,2.2050589290505034,2.225718157139307,1.6066194103511966,2.7784730456764177,1.8023182527782895,2.1722278529743746,1.97500821644988,2.0163152218648506,2.2571801794171633,1.8694236383845473,3.2338818818568313,1.7945357300736804,1.267265973560164,2.323062408133526,0.9298080627795644,1.3692407887099944,1.8187128901545175,1.7762211312583722,2.2597889555414223,1.7151248313025584,1.5404982868414874,1.8265044618939323,1.030793953042612,1.3571689212376092,1.6308816898010745,2.8808036627542375,1.3652116268117838,1.3533379434937265,1.8074370748570225,1.3565606403242239,2.037409794588615,2.3896449473281365,1.5171551063911777,2.113907864123392,2.677166038931688,2.1935585235676194,1.8689980021215535,1.5232153574789933,1.3357660798988167,1.8731333874432263,2.3876498309906946,1.2724343590560527,1.8145295865883657,1.6093206390194166,1.3472025064008057,2.0609833071213073,0.9450960530275375,1.5612228364372742,1.9663484712911712,1.3884054424209569,1.7940391540177436,1.6547241938264998,1.31507643682239,1.8421670767663245,1.9320151007992905,1.5869100765006963,2.265371565582694,2.1851769476691576,1.9024761097304346,2.2718463345257427,1.6288143092742355,2.0450134775430446,1.7320441897386043,1.340884696395993,2.1412731663693916,2.4739376771327133,1.7282398267935193,1.2776785835865403,1.4960584909953865,1.2118940887311647,1.546246208814556,1.4717632983659255,1.4466239640169851,1.8544001183593388,1.088552306793271,1.4285781335152454,1.6463430795665652,0.9893388559636547,1.699957441094698,1.9552511738983132,2.3216140878529745,1.8590644713962807,1.6284575158732228,1.6441837846538716,1.3820753472172351,1.869624536408093,1.4347006597397387,1.9639366290007338,1.8474729864744124,1.3692237714531532,1.455010048953704,1.3101473752415629,1.017496384087737,1.1182116988250388,2.0278324533720387,1.367847393310214,1.7469140425305745,1.4203096526580996,1.0135404256694838,1.3894890801823758,1.7320019453159048,1.2026525354268764,2.0234569966863867,1.4033286339828717,1.270320565821166,2.400659628993863,1.8689267446937068,1.440201553147214,1.6907461834074278,2.695135240080571,2.365750688844299,1.4522718105915613,1.3357466900935786,1.4257522586085465,1.4520292444644345,1.8801631474580267,1.114474640800236,1.9320532430136033,1.7260358925773498,1.3416063135552452,2.0382082184276764,1.7460738011997416,1.5819064367621314,1.0262047973553612,1.5896853605240973,1.7303919508127952,1.634786887554098,1.7309347077896362,1.3423360309716714,1.4991892118324692,1.0003169865423311,1.953324214650868,1.3891199811334436,1.4053336111235906,1.8520828760976733,1.3192958547588018,1.4975696770457114,1.4634889770515278,1.5361826497500255,1.5167511557628193,1.6708123872747822,1.8819525587175114,1.952575594343905,1.516081920490495,2.076733478169429,1.9791737494050288,1.4141331344828763,1.9501288517954773,2.5285185137519983,1.345833557488673,1.4324098395714793,1.422291200956374,1.4778027224908719,1.7450440240038458,1.4104962112133863,1.457239836127978,1.7956164930456724,1.8553916185834727,2.5859337365771897,1.7147434824773926,2.206598797166076,1.8147645262596646,1.3697545144330074,1.402408689197906,1.4947856009224003,1.882035943157112,2.048309503936648,1.701683427701188,2.0363722333797285,1.862827125635398,2.224914082007972,1.2416723404352603,1.724644152778335,1.2836018253813577,1.314104348475064,1.743022500043419,1.3542643380988721,1.6594531577512666,1.8034672492365975,1.3819520127652758,1.7893851529177836,1.6256322818760345,1.726182099204214,2.1719158115175325,1.3967913790847328,1.736315051836132,1.3316775821519764,1.6250826775083718,1.7387703687823155,1.6558187496537493,1.062817916643123,1.8345211942263995,1.8470216271571924,1.0540877752138134,1.3113122678298799,1.6432844974470213,1.6304405071193362,2.153061077269698,1.7041375207872826,1.429128687223652,2.3279765540002755,1.3257252151262078,1.238819820145461,1.9216839838791024,1.428696974263913,1.4844291921371024,1.3480478044051978,1.1811435856050838,2.073021473812564,1.5693093630054875,1.6475441783928542,1.083879491658705,1.7564052818638736,1.4669826009201652,1.9461670171707137,1.601495686606983,1.4644521917863311,2.6775982603700696,1.738386016820967,1.4640817654927132,1.2100498900859464,3.1180638898527735,1.7247523985443491,2.33258649420393,1.5952525207145818,1.6858502079821776,1.63361943789169,1.2562489644400354,2.0270972014713053,1.4947859739524443,1.4239775074937306,2.2667645030780728,1.6845803453295325,2.2749762144817325,1.323074798540396,1.7739617416330504,1.0145797639608953,1.0583532285575958,1.9119620269651492,1.6351548915093943,1.586116059365406,2.0013683931958894,1.1864104072316803,1.5424795402955407,2.185782619177513,1.9629310283182235,2.2337670295352767,1.6730789390408232,1.7973568168863945,1.9853693406653616,2.2129730756875197,1.2299471121745214,2.045675476721671,1.6464128037069863,1.215867277622632,1.3853739617748815,1.8597355930406134,1.9762892559514067,1.9369306941031765,1.7221413540263883,1.901745452586719,1.5441357843845773,1.705964394592202,1.7383516892253263,1.7499492153162317,1.9779674709084394,1.820742917299891,2.170571515602094,1.437890959756869,1.98238175907304,2.049399605431721,1.320497208404324,1.9166190694394825,1.9867277268586705,2.2314490563108724,1.9259573633018894,2.7834082274942915,1.303585496056006,1.7335399636335285,1.4580407169729048,1.5194947238233227,1.4795290386156388,2.468423507917472,1.5763564867108328,1.6351458475573803,2.4944359177321687,1.7411804335222822,1.318910660712291,1.5030305512395317,2.6350170643555795,1.8652708999737415,1.89615005052752,1.1224933371305532,2.4630345550015433,1.9584096096646644,1.8078278755189352,2.1131809385622558,1.4128612302877603,2.164994417470269,1.323338577907978,2.0429086372777436,1.2476662796136888,2.124299730077386,1.3165304856427913,1.351298677014993,2.8207189638219154,1.612041016235367,1.9520199849939734,1.8659175884024097,1.877839303012001,2.1563609266060815,1.5244966338558872,1.6990504812242846,2.483586395431252,1.8953211391276665,2.045012675673945,1.0934377858089557,1.4023355877349515,1.680404078978249,2.844001828922764,2.049815215459261,1.6739350080747788,1.3148292737049032,1.422448690342406,1.0468401320380094,1.9002399666747904,1.5935710056484254,1.448378357044838,2.6428410617978138,1.6894157860141612,1.6871661566779643,1.7909929760819516,1.6557658363516707,1.0729063654389317,1.084668180083661,1.585932949375342,2.298956325658273,1.8370754938321285,2.153863765071513,1.931864713034797,1.858570501539652,1.6571188556679872,2.2271140062903845,1.7757837213571657,1.7110132008419294,2.2823968072254157,1.6229089142859994,1.4880748251282987,2.240772995828863,1.700852432958594,1.4537722798134873,2.726098799855198,1.7738168609133125,2.314791811425412,1.626600983346146,1.261774868504756,1.5858680391623137,1.7606313786787087,1.6262734013964717,1.768134937157475,1.6201042910010461,1.1634412831303147,1.4260102832849366,2.3984753277866684,1.2287827537713512,1.5077581219189118,1.1896069795368824,1.3943608001612195,2.3156421873496496,1.349336593483879,1.2968352309617748,1.6218299840627832,1.5935521224229223,1.6545967327739814,1.527674928068095,1.1639626334767943,1.8577507315171635,1.8348296946969622,1.2319725104902852,1.8897268334211548,2.2349638258698885,2.3321531845241905,2.343481457559424,2.0184262877226993,1.5619792587905426,1.9349978575556834,1.3957535415065712,2.100097559134516,1.798598132088526,1.2892879116159435,0.9503397510155444,1.69817919060063,3.396342328253583,1.9673349009488215,1.3923062252864093,2.1414681420514716,1.8017545663989454,1.8288998161175125,1.4055092907992943,1.4521551002016482,1.044619359897175,1.3088924686067094,1.3779223058353487,2.566403224428559,1.3646170611050354,2.0698464296749677,1.9064366987949604,1.5666635463225704,1.3089352248513362,1.9440531301983708,2.031867350124174,1.9194506013755446,1.6277790492429398,2.2056790282001333,1.0379583598774125,1.8761037033248966,2.185145177808374,1.678575414089379,2.063454848230284,1.6741985590699442,2.2670987692585496,1.5840600277271804,2.147914173876042,1.704839964397761,2.2459799307519925,0.770379201439195,1.2462833534264894,1.2277314802705033,1.1329566459952898,1.6022978090850462,1.969990267691613,1.7060571636365292,1.6940570381017377,2.038171381506442,1.691659097304317,1.4706992568652864,1.566560331756372,2.5706004018610136,1.6548020693926955,1.7008812076878441,1.2940913156934248,1.687015093592387,2.7021033631911346,1.4999596052242519,1.6766057524219335,2.076540284839967,1.5718145258865412,1.6800051318930134,1.1316954452241323,1.0373357241970727,2.699095859629964,1.801539752161839,1.6848051241499036,1.786421827480972,1.3880171507977326,1.5587569228261389,2.1838574158808197,1.7301527863507506,2.162274777991761,1.0522885794703694,1.6286505332406302,1.855091461235645,1.904331524817334,1.9201571594524172,1.6592918680527258,1.3061042465106638,1.4261539129265177,1.9699371008011788,2.3452763299214454,1.8110137156043251,2.2266489284473168,1.8859108256889092,1.8618786226106718,1.7293624559236482,1.4524364116348794,1.7656367212613704,1.5825665976457277,1.8385878667744238,1.9011649329271836,1.4413658321865703,2.1507785713540164,1.4029149962752288,1.4214346586413655,1.5068155354360888,2.223539249163718,1.499814830073115,1.9641197550614384,1.279460807279408,1.2486756162963562,1.072786853061785,1.4514726202894266,1.901086204021307,2.035287835289002,0.8087908683704017,1.1077539056991825,1.789569909875001,2.1213666203299004,1.2762723056501504,1.591859888817696,2.3348131732275434,1.272905777032077,1.708904028371136,1.510938497094071,1.7904075558227825,1.9115896348723074,2.0159215992039416,2.3154830143500624,2.9636358955900266,2.154420981181049,1.3848569242163613,1.0651449533475301,1.5677442232564758,1.3929890556399736,1.3118130187154362,2.188483440542453,2.006672508396268,1.829757485393951,1.7275135672779558,1.5678264727482114,2.6594094523709133,1.5973733639406702,1.9640642399769082,1.2585661364614438,2.0855248798134167,1.8512168333205046,1.52979012058693,1.1510636233605962,2.400549075717471,1.341968772604882,1.5994552566700824,2.7563131672947825,1.1860838523045076,1.4396654934506383,2.1364507255423875,1.7936276672189309,1.8925338243003014,1.9286902521216889,1.5856527247478038,1.361827946748736,1.8281300113167873,2.239531150873774,1.3478338738403484,1.4232394026414212,1.8486849142401918,2.3232806016795045,1.6556320474571362,2.1213967823037887,1.2471992522603195,1.6700566070910252,1.5800143014531502,1.4532483914565295,1.4395021343757262,1.7783890785704712,1.8954057463600433,1.756480974832237,1.7173831705540596,2.272617505682003,1.7448255436381863,1.73348812581143,1.8607373201865336,1.7196978169990336,1.7778840072014397,1.3050130529474222,1.282254816789145,2.5394736903156345,1.5121809138092521,2.3319065396804306,1.7367031314047563,1.3464510055304602,1.4095413035272029,1.536647213029973,1.8915821645021598,1.315725277454953,1.6980306841326762,1.5618383594341247,1.3908723452807679,1.6411587093409672,1.8871798869645846,1.3905424595971971,1.5599188368734185,1.8528331383765573,1.3488001826571725,1.464857638691303,1.6121291715164934,1.8479015778479773,2.4174816003791033,2.7433100768628345,1.8893923836439832,1.2403700789869045,2.30338041881132,2.3929196830694703,2.3219979890225115,1.5371657301645905,1.062457031181323,0.8305020725354617,1.6622689801210522,1.789637063077634,2.4948752827623553,1.4458558541061453,1.1494980087628694,1.4386434606620249,1.1704875661876295,2.4291216938316422,2.134936374746977,1.9521381034849692,1.8537973588772745,2.2681744844613454,1.743349952645473,2.1788159345028144,1.2257136076411146,1.5934374063799,1.921863755968836,2.252404667234298,1.6868208307357149,1.5160358893187935,1.4270867108187026,2.311860609732279,1.551563800621261,2.240124981060765,1.8492865047379778,1.727349837963659,2.778003268660259,1.4862318242277286,1.4466279408745095,1.6161734384486852,2.505319782187038,1.7977867821466467,0.9156514901054547,1.5802489765154,1.2514412120278873,2.1638193172860114,1.8330661213497066,1.4990512500170794,2.0009636312452708,1.976289773280444,1.821511715630931,1.431820740242762,1.7450771365731832,1.4948730140615467,2.2475790925884036,2.0643403399067157,1.1146525169015111,1.7901947327245944,1.7663659048069886,1.7327417694706613,1.2378911782011675,1.7604884033196537,1.5119381420498184,1.080926904786153,2.2230460147976667,1.3061475241155194,1.0340832283890287,1.8751194475392614,1.8137527316062825,1.5929254222873463,2.1193090911208174,2.0799519830180166,2.2909624767475516,1.7669332092785055,2.2124464760983464,1.7217649396558976,1.8467842112959598,1.261467092725139,1.3365582241301437,1.6077776572138087,2.2723593955409447,2.1091705895029356,1.9092576903111629,1.7533194018214395,1.902649976385418,1.508465171240953,1.8451233318589615,1.090321999625134,1.4213500525196021,1.9653235359011194,1.0853027432399496,1.379624641218945,2.690460546890587,1.1552713265863455,1.3922218403975746,2.18429358854332,2.0234976178314037,1.9602549992663552,2.0160783511117297,2.1418258406589166,1.9354759462458706,1.304517216868821,1.4855054238258851,1.0800251660320117,1.4615599118781792,2.189402210009197,1.7305336894191683,2.0488097328351134,1.708337568314025,1.7726000146908354,1.743406847142111,2.3061214006356314,1.519658288910756,1.63639173700704,0.9758022771526722,1.7647886943979987,1.5326427576160166,1.1478922448453244,2.410826231448701,2.1544782099203976,0.8813384393522652,2.4295265145170175,2.2226214985059585,1.6853293640481146,1.3081465178083491,1.6098212674880266,1.8105277978678953,1.7743478124218255,1.3853706222337814,1.548843189292796,1.5196073775290804,1.5180720482050152,1.294388791234879,1.3177248792593417,2.001063242115046,1.6965933389389738,1.669917375764829,2.3142771513022775,1.4042661056165384,1.117674094540327,1.8674825244381053,1.7460887913961924,1.9634078516302884,1.4268735970610118,2.144776173662305,1.3434997280802827,2.348089697308266,1.2168278281708476,1.158944645276531,1.7582667138499182,2.2994349672932994,1.7033316816691537,1.8514627392651883,1.1935576655606912,1.7920979178290741,1.6109819430064742,2.114624641597235,1.9172934302807185,1.2428943733873414,1.6164901259636832,1.423801630988644,1.8679399397674064,2.0496344103312083,1.9077143799676923,2.0952095187652144,2.3594184301438257,1.5663643131198184,1.4827892732744639,2.4922714956731307,2.011499188416552,1.4559586827194961,1.8953527231620444,2.1156748807630503,1.9212779145565433,1.4279130314776227,2.45599903710601,1.4678540393296462,2.0853836445417406,1.3447224044848909,1.9660418395605495,1.6542197258475397,1.7502838508313505,1.6038544233436312,1.3714911310257767,1.6829264638253805,1.181870136225434,1.4720611207950653,1.879802551739517,1.8912970014084949,0.8084468559842519,1.6559729964303422,2.039337845792689,1.4370604917770464,2.139708721170013,2.402076739038438,0.7660224813091593,1.7136739625922945,1.9513402731395155,2.970485798031016,1.660513502442449,1.3295095845317118,1.4847718420638947,1.5583843414788021,1.7235850968309683,1.2348523809532232,1.8333918057909515,1.15637922971783,1.2558669951515191,1.388096307849988,1.4189353434243015,2.406457025336802,1.584205283651036,1.3544351430202877,1.3810008811711634,1.0347484366573418,0.931308594752221,2.0721221358395607,1.606950399056178,1.593595292578758,1.9685577127462794,2.0675618768583504,1.9430462110058775,1.6861836279948568,2.178876343542891,1.5922477754323139,1.2980163910657543,0.8500160243434338,1.3772392477600133,2.114915611153039,2.120846017354757,3.1566449449105525,1.756982502966608,1.4725192324344043,1.7264107553091215,1.5805699228018002,1.7203877915683843,1.5809579544738899,1.1754001471168203,1.3634035319484004,1.5050265904842293,1.6675471840922071,1.8951423085772114,2.3447622425605106,1.7733339509170494,1.9112961325968247,2.326464583554747,1.7497381309929423,1.602978862968671,2.3986424165996105,1.255107766746441,1.471348337567591,1.7011143755208198,1.6026533813145223,1.6996980272895583,2.5015940699476795,1.8700668229646022,1.9617782693604084,1.2431328042065584,1.4266171187733834,2.476173190653985,1.5897475221177506,1.2801372446294714,1.1971677442238904,1.8021597832035707,0.9696791156348636,1.4878708097256883,1.5231059224410464,1.3578047557554684,1.556564291032761,1.6086512705055167,1.038715674548949,1.0551098698361894,1.8105759046400682,1.7421304195115357,1.5411327663686358,1.463700349302968,1.480470988132763,1.6452504679306095,1.6328452124205808,1.536089001096966,1.656471645124672,1.9280892208299585,2.2148941313562895,1.989007689671575,1.633580723201914,1.1494199686375641,1.2578491725648135,1.7298591855462444,1.4677598968144192,1.8815842230283517,2.6345298137839834,2.1179461678251603,2.012650140122801,2.653160113566731,1.3532853610073032,0.9337229007825756,0.9753770815903482,2.222200708585898,1.9290097209583281,1.9420859846583176,1.859302826983679,2.498686351063079,1.7328052828922895,1.2709794372548804,1.4796018107205162,1.5926560346171865,2.0958423234010612,1.3393788450533048,2.0426460169390466,1.46856930040029,2.197668378035715,1.9182805822263738,1.3086344536257026,1.8344237606713487,2.3215004761570315,1.1535341530510221,1.559344863448831,1.725749776613664,1.7127917341155594,1.2273780676671318,2.404602775275464,1.490518682793154,1.7347042162726996,1.5940633195806904,1.5391499377190787,0.9022490221957464,1.4447852320049206,1.5913803935856228,1.8387241665414051,1.6619917168331821,1.9336104693057174,1.7159657429333035,1.7255494972425578,2.9163190334162103,1.135441610512621,1.603199880787883,2.207723932153046],\"showlegend\":true,\"name\":\"y1\",\"type\":\"scatter\",\"xaxis\":\"x\",\"colorbar\":{\"title\":\"\"},\"x\":[0.03757342853277929,0.004805681108760806,0.021484369197339696,0.03542200796252105,0.037158177076717314,0.04176999838446115,0.00452911316120978,0.009046167432924704,0.033309463279664706,0.015001745690472851,0.02770986119790383,0.011508763291742304,0.011766961073197385,0.07467662672807052,0.012228892015482986,0.03434699511344738,0.07551562646986885,0.044398265128909355,0.004204028455932324,0.01505430119477708,0.0688172828661415,0.050787725951903034,0.020508519142286512,0.003723978110900118,0.10631133869108447,0.014884471461288736,0.028480570109541598,0.09152389878944756,0.02871971430389349,0.002361550125808963,0.07099932216016822,0.013852204087619967,0.007080842907132203,0.008792015639811855,0.11301166160693632,0.0020773139374465916,0.01568223187875464,0.014687779521542684,0.010158535505664638,0.017399505989841222,0.023846102931216733,0.007217907733139504,0.006296046116152233,0.03491327052195394,0.0254096638940902,0.05775713437857455,0.007160964995030578,0.031985921773811675,0.006800644634079677,0.006911148681243878,0.02694480005251805,0.010913804211502455,0.01429435277608387,0.022478726311049003,0.00981940595683276,0.008195965395719212,0.0036522064577716898,0.07233151306979614,0.019226745735516932,0.05937869891594615,0.041420796205656016,0.07960386489424012,0.03725881793909151,0.004248863148578973,0.0029092620369553257,0.006281046962208138,0.017638101305429227,0.14298895153562569,0.029615784039359865,0.025537688901035905,0.012665456542068059,0.02704101352801795,0.001224733085772101,0.0033537779753266073,0.00609839875451149,0.012008924288779206,0.008118023742135676,0.023161563804088195,0.017177393643924434,0.01280860823959968,0.014528804964178991,0.018776369956312267,0.00839102793648662,0.014664806749760532,0.008539441735085225,0.021123592917688734,0.005260043110944359,0.010209846598378345,0.006094199836625876,0.049859968369384056,0.005040856789703739,0.011217306092814149,0.0051261952310659486,0.0033480583282543474,0.03525643361771213,0.007740019215554931,0.05674721300545418,0.0068900706773385,0.0060804770709412094,0.05590250431616063,0.005828370209315699,0.013789359508669987,0.004505993708338983,0.00944156626820246,0.0114303546015372,0.008764008033498893,0.00715248464257497,0.0061322696873461644,0.010757559913317932,0.05414246460210863,0.01962151106855812,0.009865000268039553,0.020033332779723585,0.030474450085496974,0.06393760352777418,0.008664476128073495,0.029546353380576484,0.009041973209610813,0.023124280049817522,0.021300481295926318,0.011296789957585441,0.00046520915973562345,0.022014998784830264,0.007793425399224831,0.01652136367182361,0.040181362952313185,0.025817633716561147,0.01635674617843969,0.00866204146919741,0.0037463557645179184,0.01701208061180343,0.004626114604936985,0.034384428632454035,0.006512189296372416,0.007263369207666008,0.0034261898536464036,0.01708344841627716,0.00618445293351395,0.01322665103370522,0.009015275202463448,0.006296057218567933,0.0036049352045730123,0.009500952411075052,0.014617567346375796,0.015472183665231518,0.014155605002572534,0.011695924249187013,0.006599803943204539,0.013406963397511507,0.01111128853381765,0.014352047425414663,0.005086162472443524,0.003702963084962325,0.0028635267756422903,0.14425511911576366,0.01811795492709659,0.0123659707639087,0.0015644640495441641,0.0005080312419988454,0.014682896543079084,0.01701225255982639,0.006289836913213027,0.014787670281023669,0.0014748420757219399,0.008422029767335797,0.014775067666011494,0.0053506412039788995,0.014905591372859404,0.002644055810294792,0.0031264262317048726,0.0033424731329627618,0.009018448739786687,0.01632948515399294,0.023967243116009562,0.005756897907015583,0.14085018706877867,0.01467167000674379,0.010391612763512687,0.002499442213022648,0.00951242151033904,0.029431070515723644,0.006882479649637163,0.024582995523194352,0.01788429592728288,0.013874709499248234,0.009122847503699091,0.043111117466833195,0.006925195729345211,0.04014514502499658,0.016331035556487742,0.0032016909012423157,0.15676668408627673,0.0035556908316402027,0.05520037112635671,0.018058497920467778,0.002075057593684472,0.0007819433843501983,0.005772913966364533,0.02973818090991401,0.03724228131255557,0.03246554233425058,0.005292564709166434,0.006996407463891532,0.02817010750072929,0.027903761167726627,0.008472048494284934,0.08095029518559525,0.008153767515741817,0.006571520750108869,0.03918827346037331,0.004208725546827203,0.005614957355699252,0.007542092679961584,0.009096174656908018,0.00822059037770792,0.027115719410035703,0.03190842565405251,0.011677652672529296,0.005311812257801469,0.005112826220122965,0.02808956775993501,0.05313719977877945,0.0030766232152713733,0.004545456933745643,0.012955186110130646,0.00222455163505454,0.006718633371843776,0.026089056414941632,0.003171885185616237,0.01310543413313889,0.02759733062978409,0.0011788884048163169,0.02050341885943872,0.015416279426632479,0.010257400655846073,0.008744369080765242,0.07651223862666365,0.0011185854057074037,0.009624090157918465,0.03314285278366397,0.031284072573392725,0.008770425643050236,0.0029101736490438333,0.00674457640056624,0.04401140631889394,0.03553212871101173,0.04228327782321173,0.016603258271966723,0.0464179420870401,0.05634224693729206,0.006566244171371179,0.016958249851090408,0.06724163993797448,0.013424832035076235,0.0038363655676355427,0.017149964924584555,0.0018991572930494628,0.006343570702187654,0.012198244531446533,0.1474459587022255,0.012349316446243753,0.0029634836300541914,0.001334390217120447,0.009286353261505318,0.006397613727404176,0.013597161898529695,0.016888888298442213,0.00786459714489431,0.004695246160912045,0.010261306522960824,0.012769695276784185,0.038571908369736924,0.012238061405843303,0.005392114493229073,0.02276690716558282,0.01639152448041085,0.00576273948285542,0.011785577024828195,0.0410685073722888,0.0062529140324294515,0.045673427255081486,0.003049373358768436,0.013515545318798535,0.015905734172795692,0.03256191358486219,0.005287424213766957,0.007604985806207028,0.009567413671683211,0.058124065543464706,0.003999989681094517,0.026312639787695852,0.03613884989332054,0.03567333095305793,0.0227865798759281,0.11976059409400878,0.008289345045945945,0.0075006283860245175,0.008007683707613573,0.24769150111759228,0.008102689800719367,0.022771858749318002,0.00399236864276307,0.015427837332452732,0.0013719243401845028,0.03966669820989849,0.28652646405614746,0.02942530978719437,0.0037488494546098535,0.024613394535304933,0.016786435649286162,0.0608940762778437,0.024313107479899957,0.052223822462354755,0.0059308115063031255,0.00545032774511372,0.028641966919244553,0.004206559405621732,0.007841945881615702,0.005978702891110303,0.06239124730991386,0.00591271475586994,0.058601293855036075,0.008601518749396147,0.0659186389546779,0.012375999195439646,0.026519233650052126,0.01194802121284312,0.013740617063713254,0.005255526969418728,0.1368185868398854,0.01539962970549655,0.011877786759498816,0.06321947767459377,0.005509732126741696,0.012276115362351007,0.009589896136088853,0.01930127571564882,0.011830714084059838,0.08892872624619809,0.009651285484128379,0.005085585954048413,0.02992680567776111,0.2133954684221988,0.014378096586829914,0.012725404792172748,0.013227425308211357,0.034842035544386515,0.008725462513384064,0.007386426755558634,0.005231763662224637,0.02202485081929288,0.004966269785610119,0.02168347904060939,0.0030832621820766084,0.021652938547200302,0.019228005016876434,0.10680675698880583,0.0009732452199890527,0.032789800389286194,0.008496970642770295,0.0206275633738961,0.031087635888428933,0.026545155678380845,0.0021763503840879447,0.013054876920408848,0.016933700376691074,0.0011144080787311075,0.017815196053462958,0.007917452940176432,0.0035800946616743184,0.029418134563118526,0.017861195753338697,0.10800863360081202,0.011278675370616926,0.027684547363823996,0.007705143954127896,0.008672916060606727,0.019610884673313265,0.05025882069920762,0.023139836765559307,0.009543253440653827,0.004304482070102748,0.004592856964236874,0.008682040631444525,0.003555899082660509,0.0021572853890671514,0.03175169261365313,0.006949933535155081,0.019218157137340236,0.0207389292380547,0.05075306123794369,0.01381139418038774,0.006582288120770792,0.0072549046757092025,0.04960458099069478,0.04423285762054359,0.017807865488659216,0.011741537939006704,0.024184954077510926,0.005700391306716261,0.012485277394957238,0.037549776162521774,0.01301492020187577,0.015005046764171496,0.002558197793370335,0.010787890358740053,0.009198721402939978,0.026405986925639606,0.016010903284082112,0.0019141136098880542,0.019059089180481773,0.00861243428626456,0.040571042402375496,0.02249418173715878,0.007349213334923755,0.005776931582368437,0.015468606984056376,0.01998581181117945,0.003381045848335014,0.015813507399953238,0.0016025963775030993,0.014984217528565796,0.05713722174569051,0.016818230572539915,0.016916659792797842,0.004003453686697599,0.009813728891399403,0.009616121127112402,0.010535608820543876,0.015466705374802873,0.02415330273748816,0.005045100780754711,0.033579542350952514,0.0014253890139018827,0.0039060480611836377,0.013523889645966056,0.009189878372097395,0.022468975785678483,0.03879852943117417,0.044193395596332015,0.03785976190194112,0.011800754573811481,0.04535578740667554,0.03232657380630752,0.015326139908683697,0.01872272790769869,0.05405923280659373,0.02447917687221093,0.03376279366266546,0.008615899706564085,0.04161649533432085,0.03804656065236517,0.005258937103156484,0.03940478581440586,0.0332077744021099,0.01626529190934017,0.016237286368692438,0.002818455385296079,0.027944541334256133,0.01953586431042715,0.004353934809143077,0.0021300924441273726,0.006048404188282731,0.020910870462197986,0.006031886021514678,0.0018055956678825007,0.01431068305861704,0.004704567436694676,0.025971410362435332,0.03641432218310902,0.009373939989315305,0.13502839741367942,0.011658319168668498,0.014893756589569816,0.031141176741931335,0.024692966807636454,0.08504018106212644,0.01367557044220549,0.036308378131576426,0.0071523596289333686,0.04758816512884813,0.03496655801204137,0.025597264069173425,0.07592455979861885,0.00103433941645565,0.005892385518636012,0.05816873114216041,0.012551575829439278,0.016320400271598666,0.015117640978146975,0.02989211536755646,0.04705738955204326,0.050284866614035244,0.008060594828560724,0.045449540319100416,0.027474913717764154,0.04129483367648156,0.014857064521405644,0.003842864525712095,0.008616546230131906,0.005687615319104335,0.007611309950407004,0.00649717724751459,0.013701408781191894,0.006205578125803104,0.009615226502564701,0.007380978135379262,0.005011553586225739,0.009705460802923739,0.013852220894603737,0.03836231394485416,0.01791672226017953,0.01579391765022559,0.007235012804618963,0.01069003681749238,0.04461073689933114,0.026472615714333538,0.011169554832119025,0.03753619396131404,0.0019096761545084045,0.0024655980164450353,0.00933105013354911,0.00499049145096984,0.009826737796337297,0.005999898255661482,0.012805641795894614,0.002536797200544642,0.0023903923939706793,0.010681656983764042,0.06190621075581112,0.09513257242747163,0.0037312209028485116,0.010585916672675309,0.008837328760304939,0.03695686643260926,0.04610709921439839,0.016428203044766446,0.029773809762328296,0.05198255609806353,0.02959831092715905,0.00928637457284191,0.018707173094558608,0.005968796270304364,0.006907734744364423,0.008925092960143516,0.023589929683209655,0.004840878248137681,0.0034334792719035584,0.034653387673134195,0.008403150166914338,0.010949242480181805,0.01405664237109196,0.06966881815585341,0.0424982714938576,0.0064996229062935125,0.03991129425661787,0.10327678829140037,0.012127407780668908,0.005491166971488976,0.01742674804077454,0.03104685584861843,0.08960082165614998,0.016103333614686233,0.11537495206058948,0.01754253924535099,0.06855235644508292,0.011232714493423406,0.027348441695923455,0.012436323504076504,0.08894626116934432,0.035653817359858266,0.026641528209414757,0.04237627986893969,0.010441064236708633,0.0120996384455884,0.0067943489125786025,0.015638270318242095,0.005399806250943272,0.015058304973591265,0.006442796420730065,0.0024527318723695088,0.030548381723254293,0.014268935560029096,0.01619482579599251,0.012438418170067024,0.024169395857239404,0.0138465436367007,0.020499022824948122,0.02971602637884621,0.00707997472025288,0.039011414609575454,0.01883297211089912,0.017002346660145475,0.02489234584419154,0.015105928695742588,0.005373091882202623,0.006770366643724111,0.011164265965093598,0.029884316998593917,0.0030817647323481065,0.022045871933804764,0.06610242696208332,0.023620437164189195,0.018449285871477136,0.15911472439959357,0.03587414313442582,0.012835713468017481,0.029419143128725688,0.015438554636474677,0.013861165230578221,0.037171710467046856,0.0028320071532440794,0.019408281067146697,0.003162008148578176,0.009154391348175684,0.014260181613402883,0.013008044623961957,0.03358460461247288,0.021882210738100694,0.00979610198027271,0.0033807461489660726,0.06575024005096608,0.08653391338782213,0.009423369561721804,0.0022420877107417153,0.008160017210246853,0.006984533348487126,0.012124845794132772,0.013357166989145545,0.041588005817035874,0.019399756667954505,0.07691743597533927,0.006413807599356141,0.008779325451950716,0.039839697797462915,0.016113303103610106,0.004871210457243727,0.02199256738629744,0.0026669026377488534,0.018704166037191158,0.04390553253127913,0.008477938896564693,0.06053271016169713,0.031540009349421166,0.004356003233329921,0.08876450563482768,0.018666497719809095,0.06556061850273542,0.003142469834060056,0.005150934548606565,0.1731944672647919,0.024055251460896456,0.0643840274510209,0.02425133284484593,0.015676714702766728,0.01734029175124205,0.008897680694795088,0.004777767012507841,0.03594614019586126,0.0543404902779317,0.039245186575901994,0.006782172680194456,0.009127000530284908,0.010737466806230207,0.007867371944015867,0.009833568368689904,0.04747969938256255,0.005340626640438773,0.0014039454154584903,0.031164650922848074,0.010317996687022947,0.019168300696924632,0.0025616525543497976,0.010352159859974515,0.07939115620377012,0.012343162685109151,0.07842966829264368,0.0051048172556265444,0.009770968109992385,0.010785337382689502,0.009979394766811813,0.0036733314129002988,0.01627891760740136,0.04606039059847809,0.031121125332570727,0.017645403998091648,0.0130292022010145,0.02581603568166459,0.009283928454118283,0.028114502703076593,0.006577665507385842,0.055937317366449184,0.014009046163560973,0.0015941528334801076,0.009817785154472566,0.023888985617232992,0.005126276484610884,0.01162871425526557,0.012504979305884522,0.0021742296980824818,0.01603994018728377,0.0022226399051562553,0.012473811480886781,0.004303978550039593,0.014932101624919581,0.005925143876469908,0.007251412281856331,0.009733245369346825,0.004694572359330217,0.01668831425128748,0.008151911156874954,0.0069238856906184585,0.02619099209480094,0.08778963438893239,0.04939291385587149,0.007741558162458639,0.01156770124878205,0.02521625622514381,0.03152176018995128,0.018924495629749308,0.003012233789963799,0.00583943920804168,0.06636810990997925,0.056491193129280345,0.017226938889506126,0.019291417507446142,0.02660108536604406,0.013447694490625786,0.04612119308679361,0.010289449690142142,0.18073241276809832,0.01383674170142316,0.025852105954809045,0.007771326652637058,0.01350570270075205,0.005241011298135964,0.01922815153617888,0.021084060166773243,0.020294280550572676,0.021997690341726526,0.06756500223560429,0.05911844873638411,0.010659117650955684,0.018462705029786572,0.027459797980776246,0.012991573884314598,0.012345579992396365,0.0037567745367632246,0.08984706602796262,0.008213768455729301,0.021465166950543273,0.10221668477543477,0.0023856268302582004,0.003834593417691151,0.018868742237830093,0.014321684976260334,0.025837956113612715,0.03122469420564282,0.0019212597946937583,0.0038608413826179107,0.004553523359121139,0.00920983281938993,0.14936965130522356,0.0030661530263090264,0.00549711937645135,0.04181349681531095,0.02916819867271485,0.020238347879412748,0.013796250996361508,0.02449507825689711,0.02621858198852356,0.015431656812623857,0.006565387305060326,0.0018055354122162744,0.018182319923620998,0.11422481364200826,0.057971791205401677,0.009505333178404563,0.04842670707291437,0.014534652705938877,0.07375477800614667,0.015819749706392182,0.02275919750515418,0.04152506912303284,0.006670813893463491,0.012429557185278429,0.011080624814519224,0.013192517599929166,0.009627823005626058,0.004192824602614203,0.05496054970783714,0.011234219706502416,0.0038492376850596116,0.03630534907815176,0.008230323598026378,0.007078378226356993,0.021762838458263156,0.04821932919041841,0.026503906894561224,0.01271441359042139,0.004955215542607194,0.019670080409809197,0.006969162203276442,0.020685671869603607,0.014686055838731905,0.019583049132563382,0.02174961734508216,0.007019485461619848,0.012786598070385664,0.0013185257849329902,0.12514440030992063,0.03222450858043795,0.019457085731076382,0.018095484845781912,0.017895051324518456,0.007856454253316375,0.01789346152108089,0.03508168091256627,0.009913369302801876,0.006941107364200254,0.055330647120714234,0.0007722766787539189,0.005214726441570131,0.03175744830118999,0.040282972996815034,0.02191325909386199,0.0066036307796421825,0.022032460379175375,0.0032170004824381166,0.15667063562865888,0.026727094630364052,0.0020440987923559064,0.03668435134865559,0.01361400644318874,0.03377137374317308,0.06137999959551073,0.0444515283618329,0.025076151934410117,0.020677924435030564,0.04284966966675409,0.005043347898807459,0.013660176365045894,0.0033109713045692407,0.016804172857905586,0.019017504546297068,0.014206188812877269,0.023822628239799352,0.0180101562179711,0.013539458390294063,0.03308022995318097,0.04355463314814626,0.012071193962224405,0.013178364814982867,0.029063824432973166,0.028075414321476432,0.09670811948857375,0.00440601757677295,0.003617384359645448,0.022797260339163673,0.04728419154177557,0.0385939342375713,0.004081066557631569,0.024592046944295835,0.0094746277426346,0.005111523971488702,0.0016373132524051589,0.012379833339227276,0.02003221195808555,0.005051214138961967,0.024068510787311606,0.014261794030894514,0.087135302771634,0.004449794808843891,0.016540320019425132,0.007390846249822776,0.025192537744876283,0.020981932897198595,0.011464965866186047,0.03597227306084951,0.12133948992235061,0.0029443604320898657,0.006817323688566512,0.0122381246042498,0.0035895327041295575,0.015987017543443168,0.020765901423178596,0.02763902190280721,0.012802130703306309,0.007382960067786679,0.007813699051849829,0.003008578354125776,0.019964467346354195,0.0021898517925703865,0.015057048889100207,0.0073895740177556775,0.017074348421808435,0.002115148408129779,0.033747307404338796,0.013782660057845602,0.030061196276179144,0.009575637502450923,0.03768257908424986,0.016443926580396322,0.04291518558012118,0.008390349102232755,0.06732815601994142,0.004345512983060155,0.02883098996410064,0.004164056805645097,0.005572517303598289,0.01685489868471674,0.010867430387383052,0.04206200091248671,0.0025345002531346815,0.041162634439496346,0.005626612165390372,0.07422858736643678,0.060758318202993225,0.008293412661306558,0.054697526072395086,0.02192107170393722,0.014816273633070741,0.026310522866236412,0.0036462654044400826,0.1134430545768834,0.02106805581642751,0.011328446649389451,0.017865481664433563,0.04989668839504844,0.002202276407864949,0.013179337331287094,0.004638116548196517,0.002545532925386654,0.004669015830990221,0.027048164606880774,0.040622448519901704,0.01095004658679563,0.02074378111417368,0.020834243904532437,0.023240668750408134,0.070695925913026,0.002888094957481101,0.0040967701889715255,0.0031009318534064296,0.01346031247218589,0.037581428078523174,0.006547650037341625,0.043376265451032764,0.03440799977204577,0.007438579599436069,0.020785231652167366,0.04362920774148155,0.06680123863490402,0.004581739018683075,0.007666795513360223,0.016279668437523168,0.032005515065208094,0.015455486243608655,0.010260236107176166,0.0036588167340716794,0.00717428941361051,0.006476309376304287,0.0068495156684073655,0.017811143782702866,0.057832530603673424,0.10420416669050588,0.10974942394730504,0.013658801821191568,0.008265699009848143,0.01677902864613673,0.008437634129455213,0.026486328291093167,0.01578467985425542,0.10247210792371894,0.0075535255665159775,0.006779181019518531,0.003217918625307502,0.010109483344564452,0.004285552461836182,0.046674083281073565,0.014125458994398836,0.0061456504087757545,0.04786038011466211,0.015394374426075465,0.023751606437812205,0.09959037483570989,0.023543047986046426,0.015912298641165144,0.2573701976679352,0.003990610828757634,0.028537117095194055,0.014144608585135615,0.06914379937680205,0.0023281576600432145,0.0089094460225395,0.030146370059686324,0.016860102136597832,0.06385284908585862,0.025391489369966155,0.01824000138342496],\"mode\":\"markers\",\"marker\":{\"symbol\":\"circle\",\"line\":{\"width\":1,\"color\":\"rgba(0, 0, 0, 1.000)\"},\"size\":8,\"color\":\"rgba(0, 154, 250, 1.000)\"}}], {\"yaxis\":{\"type\":\"-\",\"titlefont\":{\"size\":15,\"color\":\"rgba(0, 0, 0, 1.000)\",\"family\":\"sans-serif\"},\"title\":\"lifetime consumption\",\"tickfont\":{\"size\":11,\"color\":\"rgba(0, 0, 0, 1.000)\",\"family\":\"sans-serif\"},\"ticks\":\"inside\",\"tickmode\":\"array\",\"showgrid\":true,\"tickvals\":[1.0,1.5,2.0,2.5,3.0],\"domain\":[0.07581474190726165,0.9415463692038496],\"ticktext\":[\"1.0\",\"1.5\",\"2.0\",\"2.5\",\"3.0\"],\"tickangle\":0,\"zeroline\":false,\"linecolor\":\"rgba(0, 0, 0, 1.000)\",\"tickcolor\":\"rgba(0, 0, 0, 1.000)\",\"anchor\":\"x\"},\"annotations\":[{\"text\":\"hour at home vs lifetime consumption\",\"y\":1.0,\"xref\":\"paper\",\"font\":{\"size\":20,\"color\":\"rgba(0, 0, 0, 1.000)\",\"family\":\"sans-serif\"},\"xanchor\":\"center\",\"x\":0.5349537037037038,\"yref\":\"paper\",\"showarrow\":false,\"yanchor\":\"top\",\"rotation\":-0.0}],\"width\":600,\"plot_bgcolor\":\"rgba(255, 255, 255, 1.000)\",\"showlegend\":true,\"legend\":{\"bgcolor\":\"rgba(255, 255, 255, 1.000)\",\"y\":1.0,\"font\":{\"size\":11,\"color\":\"rgba(0, 0, 0, 1.000)\",\"family\":\"sans-serif\"},\"bordercolor\":\"rgba(0, 0, 0, 1.000)\",\"x\":1.0},\"xaxis\":{\"type\":\"-\",\"titlefont\":{\"size\":15,\"color\":\"rgba(0, 0, 0, 1.000)\",\"family\":\"sans-serif\"},\"title\":\"hour at home\",\"tickfont\":{\"size\":11,\"color\":\"rgba(0, 0, 0, 1.000)\",\"family\":\"sans-serif\"},\"ticks\":\"inside\",\"tickmode\":\"array\",\"showgrid\":true,\"tickvals\":[0.0,0.05,0.1,0.15000000000000002,0.2,0.25],\"domain\":[0.07646908719743364,0.9934383202099737],\"ticktext\":[\"0.00\",\"0.05\",\"0.10\",\"0.15\",\"0.20\",\"0.25\"],\"tickangle\":0,\"zeroline\":false,\"linecolor\":\"rgba(0, 0, 0, 1.000)\",\"tickcolor\":\"rgba(0, 0, 0, 1.000)\",\"anchor\":\"y\"},\"paper_bgcolor\":\"rgba(255, 255, 255, 1.000)\",\"height\":400,\"margin\":{\"r\":0,\"l\":0,\"b\":20,\"t\":20}});\n",
       "    </script>\n"
      ]
     },
     "execution_count": 79,
     "metadata": {},
     "output_type": "execute_result"
    }
   ],
   "source": [
    "# hour at home vs coonsumption\n",
    "lifetime_cons = sum(consumption_record, 2);\n",
    "scatter(hour_home_record[1:1000,2], lifetime_cons[1:1000], title = \"hour at home vs lifetime consumption\", xlab = \"hour at home\", ylab = \"lifetime consumption\")"
   ]
  },
  {
   "cell_type": "code",
   "execution_count": null,
   "metadata": {},
   "outputs": [],
   "source": []
  },
  {
   "cell_type": "code",
   "execution_count": 80,
   "metadata": {
    "slideshow": {
     "slide_type": "slide"
    }
   },
   "outputs": [
    {
     "data": {
      "text/html": [
       "<script src=\"/home/daisuke_moriwaki/.julia/v0.5/Plots/src/backends/../../deps/plotly-latest.min.js\"></script>    <div id=\"5e127429-0c0c-4fc8-be13-7628fc86825f\" style=\"width:600px;height:400px;\"></div>\n",
       "    <script>\n",
       "    PLOT = document.getElementById('5e127429-0c0c-4fc8-be13-7628fc86825f');\n",
       "    Plotly.plot(PLOT, [{\"yaxis\":\"y\",\"y\":[1.1305573503479316,1.8115541926511034,1.8785482874007031,1.4677422401061768,1.6615078631097553,2.068993276475433,1.1117221371823574,2.211869251082237,1.5911662822469987,2.3066130143864,1.964231243344758,1.9604929234870376,1.9477458536352934,2.1253007447077525,1.2452902287081136,1.6430856102673506,1.856902924817383,1.6111713787903192,2.107012251152613,0.8193235689325532,1.0015976008991423,1.9828266197046953,1.9913141157261012,1.6306448617774136,1.1684845276174414,2.1753972174677174,1.7719076152163566,1.2596785570215752,1.4843431408971155,2.416590795192152,1.7920159192239826,1.3966545002793676,1.7015477220537258,1.1485196836382496,2.198137246907918,1.1049347629394464,2.2597145245004553,1.3159463940584224,2.096757034910654,1.675196304265259,1.6020995798922035,2.027429621318081,2.495879320458633,1.341271813791779,1.5761543418295343,2.8296014588719998,2.2009881364728585,2.0361949745207935,1.812880282258147,1.8980434781354085,1.5892900048482592,1.3286813929174353,1.759491836730498,2.239817360552142,1.5507465056216259,1.692251733825589,1.2205265467168178,1.5805459752148274,1.4402435589570948,1.7803729268592718,1.603761832108811,1.7319875133426845,1.6821006595602102,2.2737961762815204,1.808381928765019,2.2661919761436127,2.1868558394558426,1.3089764893028177,1.1981335743703085,2.038093994084736,1.4685578628237688,1.4687000629487388,2.5831896718397416,1.5424452138435993,1.2488376767881335,1.7678567709723372,1.7504432178751954,2.350485007580516,2.2050589290505034,2.225718157139307,1.6066194103511966,2.7784730456764177,1.8023182527782895,2.1722278529743746,1.97500821644988,2.0163152218648506,2.2571801794171633,1.8694236383845473,3.2338818818568313,1.7945357300736804,1.267265973560164,2.323062408133526,0.9298080627795644,1.3692407887099944,1.8187128901545175,1.7762211312583722,2.2597889555414223,1.7151248313025584,1.5404982868414874,1.8265044618939323,1.030793953042612,1.3571689212376092,1.6308816898010745,2.8808036627542375,1.3652116268117838,1.3533379434937265,1.8074370748570225,1.3565606403242239,2.037409794588615,2.3896449473281365,1.5171551063911777,2.113907864123392,2.677166038931688,2.1935585235676194,1.8689980021215535,1.5232153574789933,1.3357660798988167,1.8731333874432263,2.3876498309906946,1.2724343590560527,1.8145295865883657,1.6093206390194166,1.3472025064008057,2.0609833071213073,0.9450960530275375,1.5612228364372742,1.9663484712911712,1.3884054424209569,1.7940391540177436,1.6547241938264998,1.31507643682239,1.8421670767663245,1.9320151007992905,1.5869100765006963,2.265371565582694,2.1851769476691576,1.9024761097304346,2.2718463345257427,1.6288143092742355,2.0450134775430446,1.7320441897386043,1.340884696395993,2.1412731663693916,2.4739376771327133,1.7282398267935193,1.2776785835865403,1.4960584909953865,1.2118940887311647,1.546246208814556,1.4717632983659255,1.4466239640169851,1.8544001183593388,1.088552306793271,1.4285781335152454,1.6463430795665652,0.9893388559636547,1.699957441094698,1.9552511738983132,2.3216140878529745,1.8590644713962807,1.6284575158732228,1.6441837846538716,1.3820753472172351,1.869624536408093,1.4347006597397387,1.9639366290007338,1.8474729864744124,1.3692237714531532,1.455010048953704,1.3101473752415629,1.017496384087737,1.1182116988250388,2.0278324533720387,1.367847393310214,1.7469140425305745,1.4203096526580996,1.0135404256694838,1.3894890801823758,1.7320019453159048,1.2026525354268764,2.0234569966863867,1.4033286339828717,1.270320565821166,2.400659628993863,1.8689267446937068,1.440201553147214,1.6907461834074278,2.695135240080571,2.365750688844299,1.4522718105915613,1.3357466900935786,1.4257522586085465,1.4520292444644345,1.8801631474580267,1.114474640800236,1.9320532430136033,1.7260358925773498,1.3416063135552452,2.0382082184276764,1.7460738011997416,1.5819064367621314,1.0262047973553612,1.5896853605240973,1.7303919508127952,1.634786887554098,1.7309347077896362,1.3423360309716714,1.4991892118324692,1.0003169865423311,1.953324214650868,1.3891199811334436,1.4053336111235906,1.8520828760976733,1.3192958547588018,1.4975696770457114,1.4634889770515278,1.5361826497500255,1.5167511557628193,1.6708123872747822,1.8819525587175114,1.952575594343905,1.516081920490495,2.076733478169429,1.9791737494050288,1.4141331344828763,1.9501288517954773,2.5285185137519983,1.345833557488673,1.4324098395714793,1.422291200956374,1.4778027224908719,1.7450440240038458,1.4104962112133863,1.457239836127978,1.7956164930456724,1.8553916185834727,2.5859337365771897,1.7147434824773926,2.206598797166076,1.8147645262596646,1.3697545144330074,1.402408689197906,1.4947856009224003,1.882035943157112,2.048309503936648,1.701683427701188,2.0363722333797285,1.862827125635398,2.224914082007972,1.2416723404352603,1.724644152778335,1.2836018253813577,1.314104348475064,1.743022500043419,1.3542643380988721,1.6594531577512666,1.8034672492365975,1.3819520127652758,1.7893851529177836,1.6256322818760345,1.726182099204214,2.1719158115175325,1.3967913790847328,1.736315051836132,1.3316775821519764,1.6250826775083718,1.7387703687823155,1.6558187496537493,1.062817916643123,1.8345211942263995,1.8470216271571924,1.0540877752138134,1.3113122678298799,1.6432844974470213,1.6304405071193362,2.153061077269698,1.7041375207872826,1.429128687223652,2.3279765540002755,1.3257252151262078,1.238819820145461,1.9216839838791024,1.428696974263913,1.4844291921371024,1.3480478044051978,1.1811435856050838,2.073021473812564,1.5693093630054875,1.6475441783928542,1.083879491658705,1.7564052818638736,1.4669826009201652,1.9461670171707137,1.601495686606983,1.4644521917863311,2.6775982603700696,1.738386016820967,1.4640817654927132,1.2100498900859464,3.1180638898527735,1.7247523985443491,2.33258649420393,1.5952525207145818,1.6858502079821776,1.63361943789169,1.2562489644400354,2.0270972014713053,1.4947859739524443,1.4239775074937306,2.2667645030780728,1.6845803453295325,2.2749762144817325,1.323074798540396,1.7739617416330504,1.0145797639608953,1.0583532285575958,1.9119620269651492,1.6351548915093943,1.586116059365406,2.0013683931958894,1.1864104072316803,1.5424795402955407,2.185782619177513,1.9629310283182235,2.2337670295352767,1.6730789390408232,1.7973568168863945,1.9853693406653616,2.2129730756875197,1.2299471121745214,2.045675476721671,1.6464128037069863,1.215867277622632,1.3853739617748815,1.8597355930406134,1.9762892559514067,1.9369306941031765,1.7221413540263883,1.901745452586719,1.5441357843845773,1.705964394592202,1.7383516892253263,1.7499492153162317,1.9779674709084394,1.820742917299891,2.170571515602094,1.437890959756869,1.98238175907304,2.049399605431721,1.320497208404324,1.9166190694394825,1.9867277268586705,2.2314490563108724,1.9259573633018894,2.7834082274942915,1.303585496056006,1.7335399636335285,1.4580407169729048,1.5194947238233227,1.4795290386156388,2.468423507917472,1.5763564867108328,1.6351458475573803,2.4944359177321687,1.7411804335222822,1.318910660712291,1.5030305512395317,2.6350170643555795,1.8652708999737415,1.89615005052752,1.1224933371305532,2.4630345550015433,1.9584096096646644,1.8078278755189352,2.1131809385622558,1.4128612302877603,2.164994417470269,1.323338577907978,2.0429086372777436,1.2476662796136888,2.124299730077386,1.3165304856427913,1.351298677014993,2.8207189638219154,1.612041016235367,1.9520199849939734,1.8659175884024097,1.877839303012001,2.1563609266060815,1.5244966338558872,1.6990504812242846,2.483586395431252,1.8953211391276665,2.045012675673945,1.0934377858089557,1.4023355877349515,1.680404078978249,2.844001828922764,2.049815215459261,1.6739350080747788,1.3148292737049032,1.422448690342406,1.0468401320380094,1.9002399666747904,1.5935710056484254,1.448378357044838,2.6428410617978138,1.6894157860141612,1.6871661566779643,1.7909929760819516,1.6557658363516707,1.0729063654389317,1.084668180083661,1.585932949375342,2.298956325658273,1.8370754938321285,2.153863765071513,1.931864713034797,1.858570501539652,1.6571188556679872,2.2271140062903845,1.7757837213571657,1.7110132008419294,2.2823968072254157,1.6229089142859994,1.4880748251282987,2.240772995828863,1.700852432958594,1.4537722798134873,2.726098799855198,1.7738168609133125,2.314791811425412,1.626600983346146,1.261774868504756,1.5858680391623137,1.7606313786787087,1.6262734013964717,1.768134937157475,1.6201042910010461,1.1634412831303147,1.4260102832849366,2.3984753277866684,1.2287827537713512,1.5077581219189118,1.1896069795368824,1.3943608001612195,2.3156421873496496,1.349336593483879,1.2968352309617748,1.6218299840627832,1.5935521224229223,1.6545967327739814,1.527674928068095,1.1639626334767943,1.8577507315171635,1.8348296946969622,1.2319725104902852,1.8897268334211548,2.2349638258698885,2.3321531845241905,2.343481457559424,2.0184262877226993,1.5619792587905426,1.9349978575556834,1.3957535415065712,2.100097559134516,1.798598132088526,1.2892879116159435,0.9503397510155444,1.69817919060063,3.396342328253583,1.9673349009488215,1.3923062252864093,2.1414681420514716,1.8017545663989454,1.8288998161175125,1.4055092907992943,1.4521551002016482,1.044619359897175,1.3088924686067094,1.3779223058353487,2.566403224428559,1.3646170611050354,2.0698464296749677,1.9064366987949604,1.5666635463225704,1.3089352248513362,1.9440531301983708,2.031867350124174,1.9194506013755446,1.6277790492429398,2.2056790282001333,1.0379583598774125,1.8761037033248966,2.185145177808374,1.678575414089379,2.063454848230284,1.6741985590699442,2.2670987692585496,1.5840600277271804,2.147914173876042,1.704839964397761,2.2459799307519925,0.770379201439195,1.2462833534264894,1.2277314802705033,1.1329566459952898,1.6022978090850462,1.969990267691613,1.7060571636365292,1.6940570381017377,2.038171381506442,1.691659097304317,1.4706992568652864,1.566560331756372,2.5706004018610136,1.6548020693926955,1.7008812076878441,1.2940913156934248,1.687015093592387,2.7021033631911346,1.4999596052242519,1.6766057524219335,2.076540284839967,1.5718145258865412,1.6800051318930134,1.1316954452241323,1.0373357241970727,2.699095859629964,1.801539752161839,1.6848051241499036,1.786421827480972,1.3880171507977326,1.5587569228261389,2.1838574158808197,1.7301527863507506,2.162274777991761,1.0522885794703694,1.6286505332406302,1.855091461235645,1.904331524817334,1.9201571594524172,1.6592918680527258,1.3061042465106638,1.4261539129265177,1.9699371008011788,2.3452763299214454,1.8110137156043251,2.2266489284473168,1.8859108256889092,1.8618786226106718,1.7293624559236482,1.4524364116348794,1.7656367212613704,1.5825665976457277,1.8385878667744238,1.9011649329271836,1.4413658321865703,2.1507785713540164,1.4029149962752288,1.4214346586413655,1.5068155354360888,2.223539249163718,1.499814830073115,1.9641197550614384,1.279460807279408,1.2486756162963562,1.072786853061785,1.4514726202894266,1.901086204021307,2.035287835289002,0.8087908683704017,1.1077539056991825,1.789569909875001,2.1213666203299004,1.2762723056501504,1.591859888817696,2.3348131732275434,1.272905777032077,1.708904028371136,1.510938497094071,1.7904075558227825,1.9115896348723074,2.0159215992039416,2.3154830143500624,2.9636358955900266,2.154420981181049,1.3848569242163613,1.0651449533475301,1.5677442232564758,1.3929890556399736,1.3118130187154362,2.188483440542453,2.006672508396268,1.829757485393951,1.7275135672779558,1.5678264727482114,2.6594094523709133,1.5973733639406702,1.9640642399769082,1.2585661364614438,2.0855248798134167,1.8512168333205046,1.52979012058693,1.1510636233605962,2.400549075717471,1.341968772604882,1.5994552566700824,2.7563131672947825,1.1860838523045076,1.4396654934506383,2.1364507255423875,1.7936276672189309,1.8925338243003014,1.9286902521216889,1.5856527247478038,1.361827946748736,1.8281300113167873,2.239531150873774,1.3478338738403484,1.4232394026414212,1.8486849142401918,2.3232806016795045,1.6556320474571362,2.1213967823037887,1.2471992522603195,1.6700566070910252,1.5800143014531502,1.4532483914565295,1.4395021343757262,1.7783890785704712,1.8954057463600433,1.756480974832237,1.7173831705540596,2.272617505682003,1.7448255436381863,1.73348812581143,1.8607373201865336,1.7196978169990336,1.7778840072014397,1.3050130529474222,1.282254816789145,2.5394736903156345,1.5121809138092521,2.3319065396804306,1.7367031314047563,1.3464510055304602,1.4095413035272029,1.536647213029973,1.8915821645021598,1.315725277454953,1.6980306841326762,1.5618383594341247,1.3908723452807679,1.6411587093409672,1.8871798869645846,1.3905424595971971,1.5599188368734185,1.8528331383765573,1.3488001826571725,1.464857638691303,1.6121291715164934,1.8479015778479773,2.4174816003791033,2.7433100768628345,1.8893923836439832,1.2403700789869045,2.30338041881132,2.3929196830694703,2.3219979890225115,1.5371657301645905,1.062457031181323,0.8305020725354617,1.6622689801210522,1.789637063077634,2.4948752827623553,1.4458558541061453,1.1494980087628694,1.4386434606620249,1.1704875661876295,2.4291216938316422,2.134936374746977,1.9521381034849692,1.8537973588772745,2.2681744844613454,1.743349952645473,2.1788159345028144,1.2257136076411146,1.5934374063799,1.921863755968836,2.252404667234298,1.6868208307357149,1.5160358893187935,1.4270867108187026,2.311860609732279,1.551563800621261,2.240124981060765,1.8492865047379778,1.727349837963659,2.778003268660259,1.4862318242277286,1.4466279408745095,1.6161734384486852,2.505319782187038,1.7977867821466467,0.9156514901054547,1.5802489765154,1.2514412120278873,2.1638193172860114,1.8330661213497066,1.4990512500170794,2.0009636312452708,1.976289773280444,1.821511715630931,1.431820740242762,1.7450771365731832,1.4948730140615467,2.2475790925884036,2.0643403399067157,1.1146525169015111,1.7901947327245944,1.7663659048069886,1.7327417694706613,1.2378911782011675,1.7604884033196537,1.5119381420498184,1.080926904786153,2.2230460147976667,1.3061475241155194,1.0340832283890287,1.8751194475392614,1.8137527316062825,1.5929254222873463,2.1193090911208174,2.0799519830180166,2.2909624767475516,1.7669332092785055,2.2124464760983464,1.7217649396558976,1.8467842112959598,1.261467092725139,1.3365582241301437,1.6077776572138087,2.2723593955409447,2.1091705895029356,1.9092576903111629,1.7533194018214395,1.902649976385418,1.508465171240953,1.8451233318589615,1.090321999625134,1.4213500525196021,1.9653235359011194,1.0853027432399496,1.379624641218945,2.690460546890587,1.1552713265863455,1.3922218403975746,2.18429358854332,2.0234976178314037,1.9602549992663552,2.0160783511117297,2.1418258406589166,1.9354759462458706,1.304517216868821,1.4855054238258851,1.0800251660320117,1.4615599118781792,2.189402210009197,1.7305336894191683,2.0488097328351134,1.708337568314025,1.7726000146908354,1.743406847142111,2.3061214006356314,1.519658288910756,1.63639173700704,0.9758022771526722,1.7647886943979987,1.5326427576160166,1.1478922448453244,2.410826231448701,2.1544782099203976,0.8813384393522652,2.4295265145170175,2.2226214985059585,1.6853293640481146,1.3081465178083491,1.6098212674880266,1.8105277978678953,1.7743478124218255,1.3853706222337814,1.548843189292796,1.5196073775290804,1.5180720482050152,1.294388791234879,1.3177248792593417,2.001063242115046,1.6965933389389738,1.669917375764829,2.3142771513022775,1.4042661056165384,1.117674094540327,1.8674825244381053,1.7460887913961924,1.9634078516302884,1.4268735970610118,2.144776173662305,1.3434997280802827,2.348089697308266,1.2168278281708476,1.158944645276531,1.7582667138499182,2.2994349672932994,1.7033316816691537,1.8514627392651883,1.1935576655606912,1.7920979178290741,1.6109819430064742,2.114624641597235,1.9172934302807185,1.2428943733873414,1.6164901259636832,1.423801630988644,1.8679399397674064,2.0496344103312083,1.9077143799676923,2.0952095187652144,2.3594184301438257,1.5663643131198184,1.4827892732744639,2.4922714956731307,2.011499188416552,1.4559586827194961,1.8953527231620444,2.1156748807630503,1.9212779145565433,1.4279130314776227,2.45599903710601,1.4678540393296462,2.0853836445417406,1.3447224044848909,1.9660418395605495,1.6542197258475397,1.7502838508313505,1.6038544233436312,1.3714911310257767,1.6829264638253805,1.181870136225434,1.4720611207950653,1.879802551739517,1.8912970014084949,0.8084468559842519,1.6559729964303422,2.039337845792689,1.4370604917770464,2.139708721170013,2.402076739038438,0.7660224813091593,1.7136739625922945,1.9513402731395155,2.970485798031016,1.660513502442449,1.3295095845317118,1.4847718420638947,1.5583843414788021,1.7235850968309683,1.2348523809532232,1.8333918057909515,1.15637922971783,1.2558669951515191,1.388096307849988,1.4189353434243015,2.406457025336802,1.584205283651036,1.3544351430202877,1.3810008811711634,1.0347484366573418,0.931308594752221,2.0721221358395607,1.606950399056178,1.593595292578758,1.9685577127462794,2.0675618768583504,1.9430462110058775,1.6861836279948568,2.178876343542891,1.5922477754323139,1.2980163910657543,0.8500160243434338,1.3772392477600133,2.114915611153039,2.120846017354757,3.1566449449105525,1.756982502966608,1.4725192324344043,1.7264107553091215,1.5805699228018002,1.7203877915683843,1.5809579544738899,1.1754001471168203,1.3634035319484004,1.5050265904842293,1.6675471840922071,1.8951423085772114,2.3447622425605106,1.7733339509170494,1.9112961325968247,2.326464583554747,1.7497381309929423,1.602978862968671,2.3986424165996105,1.255107766746441,1.471348337567591,1.7011143755208198,1.6026533813145223,1.6996980272895583,2.5015940699476795,1.8700668229646022,1.9617782693604084,1.2431328042065584,1.4266171187733834,2.476173190653985,1.5897475221177506,1.2801372446294714,1.1971677442238904,1.8021597832035707,0.9696791156348636,1.4878708097256883,1.5231059224410464,1.3578047557554684,1.556564291032761,1.6086512705055167,1.038715674548949,1.0551098698361894,1.8105759046400682,1.7421304195115357,1.5411327663686358,1.463700349302968,1.480470988132763,1.6452504679306095,1.6328452124205808,1.536089001096966,1.656471645124672,1.9280892208299585,2.2148941313562895,1.989007689671575,1.633580723201914,1.1494199686375641,1.2578491725648135,1.7298591855462444,1.4677598968144192,1.8815842230283517,2.6345298137839834,2.1179461678251603,2.012650140122801,2.653160113566731,1.3532853610073032,0.9337229007825756,0.9753770815903482,2.222200708585898,1.9290097209583281,1.9420859846583176,1.859302826983679,2.498686351063079,1.7328052828922895,1.2709794372548804,1.4796018107205162,1.5926560346171865,2.0958423234010612,1.3393788450533048,2.0426460169390466,1.46856930040029,2.197668378035715,1.9182805822263738,1.3086344536257026,1.8344237606713487,2.3215004761570315,1.1535341530510221,1.559344863448831,1.725749776613664,1.7127917341155594,1.2273780676671318,2.404602775275464,1.490518682793154,1.7347042162726996,1.5940633195806904,1.5391499377190787,0.9022490221957464,1.4447852320049206,1.5913803935856228,1.8387241665414051,1.6619917168331821,1.9336104693057174,1.7159657429333035,1.7255494972425578,2.9163190334162103,1.135441610512621,1.603199880787883,2.207723932153046],\"showlegend\":true,\"name\":\"y1\",\"type\":\"scatter\",\"xaxis\":\"x\",\"colorbar\":{\"title\":\"\"},\"x\":[0.716709025760072,1.0676740226304553,1.1280061732383646,0.9001200152536554,1.0165356378051702,1.2480240534896416,0.6991319620134868,1.3021030123235424,0.9638764235497981,1.3594429988549765,1.1714570830881688,1.1619156876513106,1.1486278347321843,1.307351049940734,0.7623134120760104,0.9813948678867007,1.1312574050834696,0.9835634085285325,1.2667044379205108,0.5173737212487608,0.6591391854146904,1.194804671552278,1.190524990433518,0.9622093617109042,0.7569033369368562,1.2948746120271601,1.0534592540730388,0.7997878478380711,0.9018292429046433,1.4227029150587005,1.094472674718763,0.8479579189757198,1.0049361577112468,0.7164400619438892,1.3791716077558283,0.694521948808535,1.3306119232132505,0.8046392785509789,1.25242129873687,0.9949752376811067,0.9576339187273651,1.1870962164873888,1.461255637164699,0.8241248938602068,0.9433902839292578,1.7172549739472476,1.2891146226887635,1.216832409153676,1.0609441569306912,1.1109288030946498,0.9863143829424886,0.8112189040730737,1.0341810249422827,1.333117202378002,0.9248553037401203,1.0102084817285726,0.7542181848111926,0.9680796627860877,0.8713313942493881,1.0971350378398919,0.973194989050113,1.0853851038127285,1.0085306738476998,1.3504675710003897,1.0560363665909256,1.326325678873356,1.2900594245833104,0.8621987588961839,0.7481497012241688,1.2074679260551093,0.9039718721091382,0.8892293979530863,1.5071604527636229,0.9186178141837587,0.7626191356661289,1.0671942494015956,1.0257577842269197,1.3949267752762657,1.3532894320834423,1.3180916507413214,0.9679026811168061,1.6385815169677318,1.0560104077353158,1.2908346826333204,1.1606378658424292,1.2355595440011278,1.3325306397371204,1.0967734223636965,1.8923947138066999,1.0887348428687595,0.7774733134558292,1.3637456175536338,0.5921358088941149,0.8262266746547761,1.0809229129584756,1.0533613776964714,1.3653189387262912,1.0102723090329153,0.9452518111713646,1.1018883149757193,0.6575157868192757,0.8310044957661986,0.9629728875209512,1.689803134592215,0.8467742901574162,0.8373999897548221,1.0718891399273136,0.8214383137463883,1.1959155045752934,1.4501568274918517,0.9115546172645608,1.2405012760335907,1.5787228856231876,1.305097448046344,1.1324684239755087,0.9234954001650576,0.8159944330400692,1.097738565537148,1.413499903855332,0.7819944345975134,1.064778086322801,0.9493627905729767,0.8194725302974746,1.223958834512235,0.6033904161848931,0.956607495644128,1.164479751904024,0.8523558164416339,1.0509021002442382,1.015699783715928,0.7983900612549956,1.0836548868884903,1.1592889620703617,0.9405543075754956,1.3268544313581847,1.2807462813063877,1.1209047139771346,1.3294721450706448,0.977579056529434,1.1989831900351335,1.0271338671865944,0.827232312017911,1.2596037840867118,1.4560377494211152,1.0275965620850935,0.7804517286952444,0.91520937300294,0.7482505207091118,0.9282274820209979,0.8890642070637762,0.871715273503334,1.0841823616897894,0.6832609691303135,0.8569171203509998,1.042743633260947,0.6325526021842612,1.0022935781066598,1.1410157965461103,1.357303686236846,1.0961648490784066,0.9677792586991478,0.9917960423072187,0.8539733689661708,1.1032806233876513,0.8636986733729792,1.1553119455839362,1.0805954054356306,0.8364491626386346,0.8721563000834066,0.7971446649744431,0.6477505714595091,0.7020312893482161,1.196285655448568,0.832144935593905,1.039730578160673,0.9138631868881626,0.645306513729828,0.8384395682319861,1.0171170410979937,0.7544924879939294,1.2201130271202745,0.8539290430480682,0.7773270438992252,1.415609201723251,1.0989167463915939,0.8662584112428023,1.010389625060279,1.5783342103097455,1.41316160760066,0.8754042957832183,0.8058205174021869,0.927781390887086,0.8774970715721935,1.133474167617564,0.702386952826588,1.1294771149277358,1.0068467432084525,0.8129169535829031,1.2102416906812716,1.0633339814148333,0.9629617485722282,0.6529859049384521,0.9614803496826052,1.0262821725277227,0.9822416971995556,1.024251664831957,0.8419255483305328,0.8973785487711903,0.6392262690848304,1.1664394070014863,0.8383116549837131,0.8558215625569872,1.118551748058001,0.7980600091581531,0.9014945348842295,0.9100642206051366,0.9340885560413519,0.913829285589193,0.9865429269763573,1.100542850993414,1.1669182419494804,0.9305821002058093,1.2175105842750673,1.1570448631807482,0.8539378030073587,1.1448698657408563,1.4879474155529042,0.8207664404857431,0.8672653164335762,0.8581629874762708,0.9089546026530679,1.0346306582272535,0.8565843646916886,0.880131139741589,1.0921157747053858,1.0869065626309609,1.5862686542953295,1.0214785936935729,1.2947872905691393,1.0778867315017333,0.8415231091026193,0.8511281271217801,0.8974050122804986,1.1013377625200698,1.2291597512991292,1.0217987389254057,1.2344345241079298,1.1295989732242893,1.3667003415479422,0.792361561660442,1.0138970852418074,0.8012429106323871,0.8212004219800324,1.0251118695596233,0.8313569576752177,0.9826833257979426,1.0532875982941095,0.8430874745278106,1.0512280399930234,1.0352332908268593,1.0200243251495946,1.275567569922647,0.8419232600808442,1.0216344141579983,0.8137202483138131,0.9622153873254276,1.031919240067076,0.97861880646906,0.6721485693951896,1.075502375198207,1.0920208674951282,0.6797018885323816,0.8209201066850869,0.9677036026286046,0.9906891000230387,1.268368621814341,0.9974748199834662,0.868052659416936,1.3946076132024317,0.8157538399017091,0.7793336911332944,1.1368011017249573,0.8689044186488137,0.9004208885955992,0.8245621057324175,0.7363174506465718,1.2263833878211265,0.9334378439251501,1.0070127004189457,0.684931118073518,1.0394411419531329,0.9232830579562781,1.1727291959974848,0.9795964952175709,0.9384625723528726,1.5683092655849253,1.0199678817079068,0.8791379594671358,0.8514062513024654,1.8287518553406237,1.0377445346498224,1.3701337543029704,0.9517637243449351,0.9864546302543133,0.984712953581907,0.9216253229058033,1.2239254490735596,0.8942854341429025,0.8808073937364249,1.335406759738269,1.029121053294324,1.3471301804321887,0.8188350582834392,1.0414155761330441,0.641042871328251,0.6770658083949155,1.117475774359077,0.9734677645383241,0.9448676176067065,1.217159541131411,0.7368887911076243,0.9406927695276128,1.2826075325559676,1.196014142816472,1.3128023563096376,0.9978690744947016,1.0553996701500552,1.1904847873175886,1.2944970868541519,0.7951812848720766,1.237105378560746,0.973362172470195,0.7666369671191104,0.8393567340908641,1.0916756020203169,1.1816683253354259,1.1513695629978624,1.0265447848354339,1.184868631077995,0.9217100239708322,0.9987219054821865,1.03088849064597,1.1959925812940864,1.1631345478071753,1.0859095844946018,1.279059822531107,0.8755573029273038,1.1622285815159548,1.2017627660092682,0.8065361346159388,1.1332314872898506,1.1634328110720542,1.3188362079113092,1.124900176231373,1.6436735597389638,0.8160965619036233,1.0770820056046613,0.8894304243616473,0.923888329585806,0.8888413435975157,1.460421716426382,0.9627145587858361,0.9863973832140597,1.456031034583913,1.0235122130295782,0.80354912600032,0.8958226554865864,1.5532332065919507,1.0925894946057717,1.1276623305249918,0.7144217368889558,1.4505737793771574,1.230618505556927,1.0729679369077125,1.2536936233862996,0.8503114089048311,1.2691553016340138,0.8167978013091914,1.231025045535219,0.7677040258178903,1.2588979162304368,0.804779161364465,0.822000010994879,1.653082249110862,0.9605361206047709,1.139520429298417,1.1095424938035516,1.099070462826184,1.2745764596867737,0.9175062923662393,1.0213248346117716,1.4625232074804109,1.1094204580862765,1.2063112971019443,0.7058393089213494,0.8601398342210553,0.9996630134640341,1.6707439007550773,1.228655057386408,0.9960931084947442,0.8130449813095104,0.8683128475079501,0.6667446382674651,1.1185034872132271,0.9430851714012447,0.8710548985713943,1.5584966033156287,1.0262897958517732,0.9943024382415822,1.0452797249291235,0.9919349606659347,0.6785322371634379,0.69859379348313,0.9473765659077875,1.346352534115168,1.0751360758593789,1.274079950665652,1.139604096908021,1.085695137312411,0.9844110573479075,1.3051822730014928,1.044159474005032,1.0315190634403386,1.3453576639427385,0.9809116251521925,0.8919190217599529,1.3146884885096517,1.0018242709638354,0.894455712160342,1.6053312151094006,1.0491964777663783,1.353619546722169,0.9893399533128129,0.7679661786720913,0.9446139830376784,1.0383958125815524,0.9624388849929868,1.05347560153499,0.9865618481392248,0.7402796275559483,0.8703778834101419,1.408442489801509,0.7710866317772851,0.9160400712649651,0.738630032679507,0.847037172150382,1.4004776357663622,0.8217076833428898,0.7974994535214015,0.9706297899385907,0.9687565051822056,1.0085178588001207,0.9252445579805257,0.742178499041025,1.1056824671987024,1.0796469125402817,0.7588291291566468,1.1036268740908324,1.3291197250601585,1.3756406667961811,1.3701727149205944,1.1782952850458344,0.9288915744397115,1.1425157334162144,0.8400234803569809,1.2257043552902551,1.0575544387868772,0.7815564269782472,0.6201430795507488,1.011182644917849,1.9927940826684116,1.2498520105605888,0.8465067664616044,1.2645873737493372,1.0695295212369764,1.0864993819415691,0.8929298466033471,0.8745671408835499,0.6692054951490338,0.7937466697945881,0.8478902289116566,1.5253396246922648,0.8338572280032919,1.2661728501410998,1.1121184256191083,0.9521031866598353,0.8445815512271405,1.1531400141680912,1.2067746022830848,1.1630197573607222,0.9739254720229881,1.3268390150620304,0.6723099820049059,1.0990522631428767,1.3125089821945397,0.9996238620498324,1.2500075508429336,0.9882937577658276,1.324853659945909,0.9407046654321007,1.2569712390693584,1.0033727943104624,1.3146875113581025,0.4860355867276861,0.7740616077777782,0.7663344247831317,0.7093220856652723,0.9490611660785815,1.1551056065114285,1.0281545755105146,1.0254229444798169,1.2591628803988708,1.0036198907714815,0.8824327650554017,0.9328674982876243,1.5418147728185359,1.004217488673437,1.0114085291139778,0.8250041265463557,1.0007443127660316,1.5777102162698684,0.9071277235549402,0.9841566538208866,1.2178997836287468,0.9419662706933296,1.0042495514276986,0.708331037027962,0.6510871833135519,1.5832432057984485,1.0965690735815867,1.0474132737341197,1.0542410074470618,0.8418751509080369,0.9315109869574539,1.3063764917052485,1.052699599838685,1.275215061515706,0.6745579232473337,1.0142307447104022,1.1059641438947252,1.1160516659969064,1.1328243347960019,1.0059049335140378,0.7959731347896211,0.8581325951463684,1.165157161846089,1.3715203530327917,1.0578636628017517,1.3445429094055064,1.1049993260299122,1.0922157515999402,1.0168268218343828,0.9011600354055327,1.0547995348905133,0.938520780127132,1.0973520522915363,1.1898323199355958,0.8678415957652106,1.2626960792982729,0.8490508029148267,0.8791967706247552,0.9640007003602591,1.309801079974334,0.9868458988731497,1.1737374023657607,0.8249954655959992,0.7836938547568185,0.6846149634913277,0.8732475895243867,1.1742656274461176,1.2138629690036775,0.5366719963747575,0.7070105936935898,1.0496500809252112,1.24812520932185,0.7971039005675711,0.9474352345179596,1.365686514267193,0.7915468130998122,1.005288296982202,0.9013358862081703,1.0692722138643882,1.1241458677626712,1.194850778879245,1.3600537285859846,1.7545596074919318,1.2670762284255535,0.840228987361684,0.6803177846875833,0.9359278167939964,0.8705145129814484,0.7979442135930475,1.2926771544442446,1.209527773370057,1.0907738674794474,1.0116786750851523,0.9310748320998257,1.5617989698110613,0.9809327065179096,1.1471494533741216,0.780072502660729,1.273604957561132,1.0950162061239699,0.9447715923576894,0.792406241532716,1.4323693191282687,0.8129274126314143,0.9574453479400815,1.6224920901527573,0.7444733009710929,0.8857525231544675,1.2516757782960635,1.0706508356730122,1.1052717289327587,1.1371120855421069,0.97606906940465,0.8518053277649906,1.0867464731004413,1.3247139156650025,0.8199353767918429,0.8577158479813443,1.121287926266514,1.4254146027855472,0.9771129638978377,1.2460699267661957,0.761945385236133,1.0109920090880777,0.9473868518723374,0.8746206294810521,0.8807979471359209,1.0481311992066005,1.1730588329325728,1.0557501044621964,1.0080142067877835,1.3575669686520433,1.026530261799395,1.0150423461167792,1.09974821223661,1.0102123782242367,1.0506209052630469,0.8066700619375344,0.7796848233538063,1.5328492163008254,0.9148064922655224,1.3634396322641358,1.0657990946575104,0.8212676492000972,0.8867745893077185,0.9138075446072543,1.1059459581089541,0.8652462739561123,1.0120041797105523,0.9550041778408285,0.8456670058927034,0.979841434021693,1.111213038509891,0.839786189183845,0.9262056450637052,1.1022223845464492,0.8544100993857537,0.898874355184809,0.9640520180551707,1.0914900718160938,1.4708471996260521,1.6075153423917659,1.1097856387451555,0.7707477352723515,1.365352786783921,1.396212938089103,1.3811773043663862,0.9291697942193635,0.6733858860774391,0.5221064979117935,0.9802135233531144,1.0944732858671506,1.465439449976488,0.9024913567278477,0.7217810594872545,0.8652405110861527,0.733172494396569,1.4243457834541504,1.249927500767,1.149311845931932,1.114578420975549,1.3532492629521091,1.0563510689418973,1.304403217994142,0.7687821377473588,0.9776635372149614,1.1396948740394732,1.3494363947429464,1.0432557919607337,0.9128988207573712,0.8703516170479046,1.356487450147343,0.9373795198217718,1.3104257815657991,1.0855701790278758,1.028133552069207,1.6221134982343528,0.9080634581913403,0.8672414142029758,0.9691674417824138,1.4644838152018074,1.0574352822714141,0.5861934096174528,0.9476138201956671,0.7752945367291438,1.3087496146596234,1.0789220659703906,0.8991830332084197,1.1771148094358361,1.1719260084122964,1.1259379504449543,0.885375837956101,1.0219822492949953,0.9056445260726989,1.333822563236576,1.2448358622310238,0.7046505395519898,1.045487420743501,1.0352560181738912,1.0715763774965685,0.776825343594638,1.0569743128413305,0.9289087835990898,0.689538496667143,1.30814876823247,0.8175434450956931,0.6553337818976626,1.2227369579645333,1.082236673053149,0.9711479997830871,1.242367648624499,1.2255259492713126,1.3399223253518264,1.0412568055357418,1.3076542922934054,1.0340432617573814,1.1219073297003919,0.7962736402992101,0.8303650879138249,0.9538038360723465,1.339866471093492,1.2666512588042114,1.1219830023925257,1.0322205470777357,1.111789551169466,0.9395134128974173,1.0810983513330186,0.6915134270802523,0.8971202483787675,1.1587015217992227,0.6803387384566686,0.839137466357645,1.5821962543477395,0.7320552650589011,0.8489202796605033,1.275050801845369,1.1897246564268351,1.1461792315298733,1.1819598098942434,1.3694526151079782,1.130361278633584,0.7899098368609186,0.9358859657882548,0.6884427740574182,0.8822252096905714,1.2877757232691107,1.026635345374181,1.2401549291809852,1.0187157326936416,1.0371923154160165,1.0251135695180615,1.3610747306411362,0.9583313385558524,1.000242772032791,0.6181611673124721,1.0572776060277005,0.9169186233481621,0.7520091146192095,1.4440399034403395,1.2747475381390372,0.5704374830536532,1.4346890854136827,1.3068873505666407,0.9984223800954899,0.7950813984464575,0.9599535129148123,1.0579542426463617,1.0696094972645054,0.8364462550059963,0.9249806855605955,0.9319182370071066,0.9166205203845208,0.7845172101061091,0.8286943960703788,1.2228436430993739,1.0087323929518819,1.0036566734390835,1.3553640297179415,0.8554502573627074,0.7009395800011128,1.102408756739182,1.029802755383609,1.1582686980479326,0.8694098086719126,1.2559304599469618,0.8213947153318982,1.3718728538494855,0.8264020096807876,0.7367311880664662,1.036898129271277,1.3565577584216224,1.0423084225434371,1.0925923695280555,0.740825550963317,1.065246805264838,0.9632286878046604,1.2384401673829828,1.1759543067028568,0.7581118452601692,0.956176668088218,0.8694486245734725,1.1437889806808461,1.2232399374854888,1.1164043637872325,1.2473327782974124,1.37855766928677,1.0100401969131976,0.8996222026069756,1.4547769741052152,1.222719585410597,0.8775070262465192,1.1270479891175955,1.286999129989899,1.1510541711781324,0.8659886908076628,1.459957788107045,0.899498700055344,1.2249256230248555,0.8340249883818316,1.1533991970044504,0.9807560061883431,1.0429488677108765,0.9564268865551322,0.8440698196763423,1.0050682816794279,0.7341780302531961,0.8938229894771911,1.1253258878881955,1.1375412305963628,0.5187935398273025,0.9980898794578921,1.2125619521275133,0.9039854582509195,1.2508975217954892,1.4039107484183067,0.509940013274794,1.0267736562615173,1.1709568312754715,1.7361481234290217,1.000015813032204,0.8059832544325025,0.8887890407985257,0.9450237393768144,1.0283721232026766,0.7634761604240552,1.0901920255837214,0.7250631690603797,0.7676989114784533,0.8789057285000833,0.8532692171335101,1.4172388981764366,0.9587057185681378,0.8400877011970254,0.8382116589366693,0.6551392769810425,0.6109014315642626,1.3064365879624251,0.9844074277082397,0.9439744987713663,1.1560843427306355,1.20816856058154,1.143902860565436,0.9957025461469614,1.2942583234173366,0.9477830730089369,0.7935035163994211,0.5371129184363553,0.8303305393688285,1.2545363762510606,1.2382905736987375,1.8605010553735994,1.0337400917035358,0.9049846071478058,1.0098958595703813,0.9530678222408453,1.0120106791916097,0.9493523932400076,0.7300901779521619,0.8353405522777634,0.9085411514426183,1.0156775146604384,1.1131861129233325,1.4475714800132313,1.036372946765081,1.1451232608770034,1.3597803075929278,1.0284029630275828,0.9527837137227737,1.4084420355032208,0.7762068210806963,0.8849852260646301,1.0162331815022325,0.9637676854848631,1.0338375268479076,1.5231543855601941,1.0956126952673202,1.1822991346128813,0.7857972460074705,0.8612598696148813,1.4680271368475546,0.95651713400902,0.8193634791675886,0.7553781502220962,1.061926513705075,0.6273397581413069,0.9087866976751244,0.9114071090276863,0.8243329039983547,0.9250623087446581,0.9495431650668882,0.6507082931893343,0.6712067777975992,1.0844348943547661,1.0234171004540862,0.9532446995745409,0.8955200506460879,0.9009732416126258,1.0078989663816196,0.961320589731285,0.929347033970255,0.9839667431897348,1.1331330065396066,1.3250330908998098,1.1822972999451977,0.9826394588005601,0.7260483880244498,0.7782093781652311,1.0456595387138865,0.9045266638204252,1.1447190976234283,1.540791813912099,1.2418895813369348,1.196483526753933,1.5844098416821155,0.8445596707078754,0.6069556308344212,0.6100704023848489,1.3016577171843133,1.1288941909547099,1.1414077124577624,1.1239657942659382,1.5060053857751634,1.106776169847656,0.825038500928063,0.8894946415387159,0.9440244248365077,1.2533063322956393,0.8097753056248682,1.2160284536768335,0.8901684133287451,1.3658742056387139,1.1233256837950942,0.7947809639481735,1.0910435828232479,1.3620831126322748,0.7200787863830421,0.962545175426706,1.0146740860675796,1.0021447528355263,0.7873986612839845,1.4154371829977004,0.899516501494807,1.0692016284211805,0.9534354530661432,0.9267654954565818,0.6735895629110251,0.8756725601355217,0.9606585269720405,1.0804190888163778,1.0088242306069493,1.1733324693224005,1.008926146189444,1.0232767552160276,1.719951691775204,0.7404171060278208,0.9782908076562279,1.3022521033437395],\"mode\":\"markers\",\"marker\":{\"symbol\":\"circle\",\"line\":{\"width\":1,\"color\":\"rgba(0, 0, 0, 1.000)\"},\"size\":8,\"color\":\"rgba(0, 154, 250, 1.000)\"}}], {\"yaxis\":{\"type\":\"-\",\"titlefont\":{\"size\":15,\"color\":\"rgba(0, 0, 0, 1.000)\",\"family\":\"sans-serif\"},\"title\":\"lifetime consumption\",\"tickfont\":{\"size\":11,\"color\":\"rgba(0, 0, 0, 1.000)\",\"family\":\"sans-serif\"},\"ticks\":\"inside\",\"tickmode\":\"array\",\"showgrid\":true,\"tickvals\":[1.0,1.5,2.0,2.5,3.0],\"domain\":[0.07581474190726165,0.9415463692038496],\"ticktext\":[\"1.0\",\"1.5\",\"2.0\",\"2.5\",\"3.0\"],\"tickangle\":0,\"zeroline\":false,\"linecolor\":\"rgba(0, 0, 0, 1.000)\",\"tickcolor\":\"rgba(0, 0, 0, 1.000)\",\"anchor\":\"x\"},\"annotations\":[{\"text\":\"wage rate vs lifetime consumption\",\"y\":1.0,\"xref\":\"paper\",\"font\":{\"size\":20,\"color\":\"rgba(0, 0, 0, 1.000)\",\"family\":\"sans-serif\"},\"xanchor\":\"center\",\"x\":0.5349537037037038,\"yref\":\"paper\",\"showarrow\":false,\"yanchor\":\"top\",\"rotation\":-0.0}],\"width\":600,\"plot_bgcolor\":\"rgba(255, 255, 255, 1.000)\",\"showlegend\":true,\"legend\":{\"bgcolor\":\"rgba(255, 255, 255, 1.000)\",\"y\":1.0,\"font\":{\"size\":11,\"color\":\"rgba(0, 0, 0, 1.000)\",\"family\":\"sans-serif\"},\"bordercolor\":\"rgba(0, 0, 0, 1.000)\",\"x\":1.0},\"xaxis\":{\"type\":\"-\",\"titlefont\":{\"size\":15,\"color\":\"rgba(0, 0, 0, 1.000)\",\"family\":\"sans-serif\"},\"title\":\"wage rate\",\"tickfont\":{\"size\":11,\"color\":\"rgba(0, 0, 0, 1.000)\",\"family\":\"sans-serif\"},\"ticks\":\"inside\",\"tickmode\":\"array\",\"showgrid\":true,\"tickvals\":[0.6000000000000001,0.9000000000000001,1.2000000000000002,1.5000000000000002,1.8000000000000003],\"domain\":[0.07646908719743364,0.9934383202099737],\"ticktext\":[\"0.6\",\"0.9\",\"1.2\",\"1.5\",\"1.8\"],\"tickangle\":0,\"zeroline\":false,\"linecolor\":\"rgba(0, 0, 0, 1.000)\",\"tickcolor\":\"rgba(0, 0, 0, 1.000)\",\"anchor\":\"y\"},\"paper_bgcolor\":\"rgba(255, 255, 255, 1.000)\",\"height\":400,\"margin\":{\"r\":0,\"l\":0,\"b\":20,\"t\":20}});\n",
       "    </script>\n"
      ]
     },
     "execution_count": 80,
     "metadata": {},
     "output_type": "execute_result"
    }
   ],
   "source": [
    "# wage vs coonsumption\n",
    "mean_wage = mean(wage_record[:,1:2], 2);\n",
    "scatter(mean_wage[1:1000], lifetime_cons[1:1000], title = \"wage rate vs lifetime consumption\", xlab = \"wage rate\", ylab = \"lifetime consumption\")"
   ]
  },
  {
   "cell_type": "markdown",
   "metadata": {
    "collapsed": true,
    "slideshow": {
     "slide_type": "slide"
    }
   },
   "source": [
    "# inequality"
   ]
  },
  {
   "cell_type": "code",
   "execution_count": 81,
   "metadata": {
    "slideshow": {
     "slide_type": "slide"
    }
   },
   "outputs": [],
   "source": [
    "# percentile by hour at home\n",
    "dat = hcat(hour_home_record[:,2], lifetime_cons);\n",
    "dat = sortrows(dat);\n",
    "ptiles = (.01, .25, .5, .75, .99);\n",
    "p_vec = zeros(Int, size(ptiles, 1));\n",
    "# find row index in the array for each percentilep_vec = zeros(Int, size(ptiles, 1)); \n",
    "for (ind, p) in enumerate(ptiles)\n",
    "    tmp = trunc(p*num_hh)\n",
    "    p_vec[ind] = Int.(tmp) # convert to Int\n",
    "end"
   ]
  },
  {
   "cell_type": "code",
   "execution_count": 82,
   "metadata": {},
   "outputs": [
    {
     "data": {
      "text/plain": [
       "5-element Array{Int64,1}:\n",
       "  1000\n",
       " 25000\n",
       " 50000\n",
       " 75000\n",
       " 99000"
      ]
     },
     "execution_count": 82,
     "metadata": {},
     "output_type": "execute_result"
    }
   ],
   "source": [
    "p_vec"
   ]
  },
  {
   "cell_type": "code",
   "execution_count": 83,
   "metadata": {
    "slideshow": {
     "slide_type": "slide"
    }
   },
   "outputs": [
    {
     "data": {
      "text/html": [
       "<script src=\"/home/daisuke_moriwaki/.julia/v0.5/Plots/src/backends/../../deps/plotly-latest.min.js\"></script>    <div id=\"03456428-a8b7-439a-816d-c94cfd833aaf\" style=\"width:600px;height:400px;\"></div>\n",
       "    <script>\n",
       "    PLOT = document.getElementById('03456428-a8b7-439a-816d-c94cfd833aaf');\n",
       "    Plotly.plot(PLOT, [{\"yaxis\":\"y\",\"y\":[1.8099263965156274,1.2755284271981382,1.3471947877794133,1.9976648466379174,1.8760672640572058],\"showlegend\":true,\"name\":\"y1\",\"type\":\"bar\",\"xaxis\":\"x\",\"orientation\":\"v\",\"colorbar\":{\"title\":\"\"},\"x\":[1.0,25.0,50.0,75.0,99.0],\"marker\":{\"color\":\"rgba(0, 154, 250, 1.000)\"}}], {\"yaxis\":{\"type\":\"-\",\"titlefont\":{\"size\":15,\"color\":\"rgba(0, 0, 0, 1.000)\",\"family\":\"sans-serif\"},\"title\":\"lifetime consumption\",\"tickfont\":{\"size\":11,\"color\":\"rgba(0, 0, 0, 1.000)\",\"family\":\"sans-serif\"},\"ticks\":\"inside\",\"tickmode\":\"array\",\"showgrid\":true,\"tickvals\":[0.0,0.25,0.5,0.75,1.0,1.25,1.5,1.75],\"domain\":[0.07581474190726165,0.9415463692038496],\"ticktext\":[\"0.00\",\"0.25\",\"0.50\",\"0.75\",\"1.00\",\"1.25\",\"1.50\",\"1.75\"],\"tickangle\":0,\"zeroline\":false,\"linecolor\":\"rgba(0, 0, 0, 1.000)\",\"tickcolor\":\"rgba(0, 0, 0, 1.000)\",\"anchor\":\"x\"},\"annotations\":[{\"text\":\"lifetime cons by hour at home\",\"y\":1.0,\"xref\":\"paper\",\"font\":{\"size\":20,\"color\":\"rgba(0, 0, 0, 1.000)\",\"family\":\"sans-serif\"},\"xanchor\":\"center\",\"x\":0.5423611111111111,\"yref\":\"paper\",\"showarrow\":false,\"yanchor\":\"top\",\"rotation\":-0.0}],\"width\":600,\"plot_bgcolor\":\"rgba(255, 255, 255, 1.000)\",\"showlegend\":true,\"legend\":{\"bgcolor\":\"rgba(255, 255, 255, 1.000)\",\"y\":1.0,\"font\":{\"size\":11,\"color\":\"rgba(0, 0, 0, 1.000)\",\"family\":\"sans-serif\"},\"bordercolor\":\"rgba(0, 0, 0, 1.000)\",\"x\":1.0},\"xaxis\":{\"type\":\"-\",\"titlefont\":{\"size\":15,\"color\":\"rgba(0, 0, 0, 1.000)\",\"family\":\"sans-serif\"},\"title\":\"percentile of hour at home\",\"tickfont\":{\"size\":11,\"color\":\"rgba(0, 0, 0, 1.000)\",\"family\":\"sans-serif\"},\"ticks\":\"inside\",\"range\":[-30.0,130.0],\"tickmode\":\"array\",\"showgrid\":true,\"tickvals\":[-20.0,0.0,20.0,40.0,60.0,80.0,100.0,120.0],\"domain\":[0.09128390201224845,0.9934383202099738],\"ticktext\":[\"-20\",\"0\",\"20\",\"40\",\"60\",\"80\",\"100\",\"120\"],\"tickangle\":0,\"zeroline\":false,\"linecolor\":\"rgba(0, 0, 0, 1.000)\",\"tickcolor\":\"rgba(0, 0, 0, 1.000)\",\"anchor\":\"y\"},\"paper_bgcolor\":\"rgba(255, 255, 255, 1.000)\",\"height\":400,\"margin\":{\"r\":0,\"l\":0,\"b\":20,\"t\":20}});\n",
       "    </script>\n"
      ]
     },
     "execution_count": 83,
     "metadata": {},
     "output_type": "execute_result"
    }
   ],
   "source": [
    "# percentiles\n",
    "bar(p_vec/num_hh*100, dat[p_vec, 2], xlim = (-30, 130), title = \"lifetime cons by hour at home\", \n",
    "xlabel = \"percentile of hour at home\", ylabel = \"lifetime consumption\")"
   ]
  },
  {
   "cell_type": "code",
   "execution_count": 84,
   "metadata": {
    "slideshow": {
     "slide_type": "slide"
    }
   },
   "outputs": [],
   "source": [
    "# percentile by wage\n",
    "dat = hcat(mean_wage, lifetime_cons);\n",
    "dat = sortrows(dat);\n",
    "\n",
    "for (ind, p) in enumerate(ptiles)\n",
    "    tmp = trunc(p*num_hh) + 1\n",
    "    p_vec[ind] = Int.(tmp) # convert to Int\n",
    "end"
   ]
  },
  {
   "cell_type": "code",
   "execution_count": 85,
   "metadata": {
    "slideshow": {
     "slide_type": "slide"
    }
   },
   "outputs": [
    {
     "data": {
      "text/html": [
       "<script src=\"/home/daisuke_moriwaki/.julia/v0.5/Plots/src/backends/../../deps/plotly-latest.min.js\"></script>    <div id=\"ed5470c8-754e-4d2c-81ca-74afa51549d7\" style=\"width:600px;height:400px;\"></div>\n",
       "    <script>\n",
       "    PLOT = document.getElementById('ed5470c8-754e-4d2c-81ca-74afa51549d7');\n",
       "    Plotly.plot(PLOT, [{\"yaxis\":\"y\",\"y\":[0.9291458570676066,1.4149744171251908,1.683908064357312,1.9735963257091305,2.7583972295341463],\"showlegend\":true,\"name\":\"y1\",\"type\":\"bar\",\"xaxis\":\"x\",\"orientation\":\"v\",\"colorbar\":{\"title\":\"\"},\"x\":[1.001,25.001,50.001,75.00099999999999,99.00099999999999],\"marker\":{\"color\":\"rgba(0, 154, 250, 1.000)\"}}], {\"yaxis\":{\"type\":\"-\",\"titlefont\":{\"size\":15,\"color\":\"rgba(0, 0, 0, 1.000)\",\"family\":\"sans-serif\"},\"title\":\"lifetime consumption\",\"tickfont\":{\"size\":11,\"color\":\"rgba(0, 0, 0, 1.000)\",\"family\":\"sans-serif\"},\"ticks\":\"inside\",\"tickmode\":\"array\",\"showgrid\":true,\"tickvals\":[0.0,0.5,1.0,1.5,2.0,2.5],\"domain\":[0.07581474190726165,0.9415463692038496],\"ticktext\":[\"0.0\",\"0.5\",\"1.0\",\"1.5\",\"2.0\",\"2.5\"],\"tickangle\":0,\"zeroline\":false,\"linecolor\":\"rgba(0, 0, 0, 1.000)\",\"tickcolor\":\"rgba(0, 0, 0, 1.000)\",\"anchor\":\"x\"},\"annotations\":[{\"text\":\"lifetime cons by wage\",\"y\":1.0,\"xref\":\"paper\",\"font\":{\"size\":20,\"color\":\"rgba(0, 0, 0, 1.000)\",\"family\":\"sans-serif\"},\"xanchor\":\"center\",\"x\":0.5349537037037038,\"yref\":\"paper\",\"showarrow\":false,\"yanchor\":\"top\",\"rotation\":-0.0}],\"width\":600,\"plot_bgcolor\":\"rgba(255, 255, 255, 1.000)\",\"showlegend\":true,\"legend\":{\"bgcolor\":\"rgba(255, 255, 255, 1.000)\",\"y\":1.0,\"font\":{\"size\":11,\"color\":\"rgba(0, 0, 0, 1.000)\",\"family\":\"sans-serif\"},\"bordercolor\":\"rgba(0, 0, 0, 1.000)\",\"x\":1.0},\"xaxis\":{\"type\":\"-\",\"titlefont\":{\"size\":15,\"color\":\"rgba(0, 0, 0, 1.000)\",\"family\":\"sans-serif\"},\"title\":\"percentile of wage\",\"tickfont\":{\"size\":11,\"color\":\"rgba(0, 0, 0, 1.000)\",\"family\":\"sans-serif\"},\"ticks\":\"inside\",\"range\":[-30.0,130.0],\"tickmode\":\"array\",\"showgrid\":true,\"tickvals\":[-20.0,0.0,20.0,40.0,60.0,80.0,100.0,120.0],\"domain\":[0.07646908719743364,0.9934383202099737],\"ticktext\":[\"-20\",\"0\",\"20\",\"40\",\"60\",\"80\",\"100\",\"120\"],\"tickangle\":0,\"zeroline\":false,\"linecolor\":\"rgba(0, 0, 0, 1.000)\",\"tickcolor\":\"rgba(0, 0, 0, 1.000)\",\"anchor\":\"y\"},\"paper_bgcolor\":\"rgba(255, 255, 255, 1.000)\",\"height\":400,\"margin\":{\"r\":0,\"l\":0,\"b\":20,\"t\":20}});\n",
       "    </script>\n"
      ]
     },
     "execution_count": 85,
     "metadata": {},
     "output_type": "execute_result"
    }
   ],
   "source": [
    "# percentiles\n",
    "bar(p_vec/num_hh*100, dat[p_vec, 2], xlim = (-30, 130), title = \"lifetime cons by wage\", \n",
    "xlabel = \"percentile of wage\", ylabel = \"lifetime consumption\")"
   ]
  },
  {
   "cell_type": "markdown",
   "metadata": {
    "collapsed": true,
    "slideshow": {
     "slide_type": "slide"
    }
   },
   "source": [
    "## Policy and Economy\n",
    "* compare output and labor supply when policy is changed\n",
    "* benchmark\n",
    "    * LTCI is proportional with rate = 50%\n",
    "* fully covered\n",
    "    * LTCI is proportional with rate = 100%\n",
    "* laissez-faire\n",
    "    * no LTCI at all\n",
    "* ceiling \n",
    "    * LTCI takes care of all the serious care receivers with ceiling = 0.2. no one needs to spend more than 20 % of their time to care-giving\n",
    "    \n",
    "   "
   ]
  },
  {
   "cell_type": "code",
   "execution_count": 86,
   "metadata": {
    "slideshow": {
     "slide_type": "subslide"
    }
   },
   "outputs": [
    {
     "data": {
      "text/html": [
       "<table class=\"data-frame\"><thead><tr><th></th><th>name</th><th>LTCI_type</th><th>NH_rate</th><th>ceiling</th><th>tau</th><th>gdp</th><th>labor_supply</th></tr></thead><tbody><tr><th>1</th><td>benchmark</td><td>proportional</td><td>0.5</td><td></td><td>0.16899999999999993</td><td>174404.36420061032</td><td>168243.92706045182</td></tr></tbody></table>"
      ],
      "text/plain": [
       "1×7 DataFrames.DataFrame\n",
       "│ Row │ name        │ LTCI_type      │ NH_rate │ ceiling │ tau   │ gdp       │\n",
       "├─────┼─────────────┼────────────────┼─────────┼─────────┼───────┼───────────┤\n",
       "│ 1   │ \"benchmark\" │ \"proportional\" │ 0.5     │ \"\"      │ 0.169 │ 1.74404e5 │\n",
       "\n",
       "│ Row │ labor_supply │\n",
       "├─────┼──────────────┤\n",
       "│ 1   │ 1.68244e5    │"
      ]
     },
     "execution_count": 86,
     "metadata": {},
     "output_type": "execute_result"
    }
   ],
   "source": [
    "# saving results for benchmark economy\n",
    "results = DataFrame(name = \"benchmark\", LTCI_type = \"proportional\", NH_rate = 0.5, ceiling = \"\", \n",
    "    tau = tau, gdp = sum(wage_record.*hour_mkt_record), labor_supply=sum(hour_mkt_record))"
   ]
  },
  {
   "cell_type": "code",
   "execution_count": 87,
   "metadata": {
    "slideshow": {
     "slide_type": "subslide"
    }
   },
   "outputs": [
    {
     "name": "stdout",
     "output_type": "stream",
     "text": [
      "tax rate is 0.29 and ratio is 0.5891941332475366 cost is 28382.884689633313 revenue is 48172.381712614384\n",
      "tax rate is 0.27999999999999997 and ratio is 0.6095111723250378 cost is 28382.884689633313 revenue is 46566.635655527236\n",
      "tax rate is 0.26999999999999996 and ratio is 0.6273614955334436 cost is 29236.307468138228 revenue is 46602.01124278226\n",
      "tax rate is 0.25999999999999995 and ratio is 0.6505971064791267 cost is 29236.307468138228 revenue is 44937.653698397175\n",
      "tax rate is 0.24999999999999994 and ratio is 0.6756200721129392 cost is 29236.307468138228 revenue is 43273.296154012096\n",
      "tax rate is 0.23999999999999994 and ratio is 0.7026448749974568 cost is 29236.307468138228 revenue is 41608.93860962702\n",
      "tax rate is 0.22999999999999993 and ratio is 0.7319217665898116 cost is 29236.286741505828 revenue is 39944.551557366955\n",
      "tax rate is 0.21999999999999992 and ratio is 0.7637444520937163 cost is 29236.286741505828 revenue is 38280.195242476664\n",
      "tax rate is 0.2099999999999999 and ratio is 0.7914477903457592 cost is 30772.997571643835 revenue is 38881.90471566047\n",
      "tax rate is 0.1999999999999999 and ratio is 0.8291357803622241 cost is 30772.997571643835 revenue is 37114.54541040317\n",
      "tax rate is 0.1899999999999999 and ratio is 0.8705925491110067 cost is 30772.99930913178 revenue is 35347.18892386019\n",
      "tax rate is 0.17999999999999988 and ratio is 0.9164132095905334 cost is 30772.99930913178 revenue is 33579.829477667176\n",
      "tax rate is 0.17999999999999988 and ratio is 0.9673250545677853 cost is 30772.99930913178 revenue is 31812.470031474164\n",
      "1605.829934 seconds (19.73 G allocations: 2.176 TB, 24.21% gc time)\n"
     ]
    },
    {
     "data": {
      "text/html": [
       "<table class=\"data-frame\"><thead><tr><th></th><th>name</th><th>LTCI_type</th><th>NH_rate</th><th>ceiling</th><th>tau</th><th>gdp</th><th>labor_supply</th></tr></thead><tbody><tr><th>1</th><td>fully covered</td><td>proportional</td><td>0.9999</td><td></td><td>0.17999999999999988</td><td>176735.94461930104</td><td>170485.29822204277</td></tr></tbody></table>"
      ],
      "text/plain": [
       "1×7 DataFrames.DataFrame\n",
       "│ Row │ name            │ LTCI_type      │ NH_rate │ ceiling │ tau  │\n",
       "├─────┼─────────────────┼────────────────┼─────────┼─────────┼──────┤\n",
       "│ 1   │ \"fully covered\" │ \"proportional\" │ 0.9999  │ \"\"      │ 0.18 │\n",
       "\n",
       "│ Row │ gdp       │ labor_supply │\n",
       "├─────┼───────────┼──────────────┤\n",
       "│ 1   │ 1.76736e5 │ 1.70485e5    │"
      ]
     },
     "execution_count": 87,
     "metadata": {},
     "output_type": "execute_result"
    }
   ],
   "source": [
    "# fully covered economy\n",
    "tau = 0.3;\n",
    "LTCI_type = 1;\n",
    "NH_rate = .9999;\n",
    "ceiling = NaN;\n",
    "tol = 0.05;\n",
    "@time iter_results = iteration(tau, LTCI_type, NH_rate, ceiling, tol);\n",
    "tau = iter_results[1];\n",
    "LTCI_type = iter_results[2];\n",
    "NH_rate = iter_results[3];\n",
    "ceiling = iter_results[4];\n",
    "consumption_record = iter_results[5];\n",
    "asset_record = iter_results[6];\n",
    "hour_mkt_record = iter_results[7];\n",
    "hour_home_record = iter_results[8];\n",
    "results_fully = DataFrame(name = \"fully covered\", LTCI_type = \"proportional\", NH_rate = NH_rate, ceiling = \"\", \n",
    "    tau = tau, gdp = sum(wage_record.*hour_mkt_record), labor_supply=sum(hour_mkt_record))"
   ]
  },
  {
   "cell_type": "code",
   "execution_count": 88,
   "metadata": {
    "slideshow": {
     "slide_type": "subslide"
    }
   },
   "outputs": [
    {
     "data": {
      "text/html": [
       "<table class=\"data-frame\"><thead><tr><th></th><th>name</th><th>LTCI_type</th><th>NH_rate</th><th>ceiling</th><th>tau</th><th>gdp</th><th>labor_supply</th></tr></thead><tbody><tr><th>1</th><td>benchmark</td><td>proportional</td><td>0.5</td><td></td><td>0.16899999999999993</td><td>174404.36420061032</td><td>168243.92706045182</td></tr><tr><th>2</th><td>fully covered</td><td>proportional</td><td>0.9999</td><td></td><td>0.17999999999999988</td><td>176735.94461930104</td><td>170485.29822204277</td></tr></tbody></table>"
      ],
      "text/plain": [
       "2×7 DataFrames.DataFrame\n",
       "│ Row │ name            │ LTCI_type      │ NH_rate │ ceiling │ tau   │\n",
       "├─────┼─────────────────┼────────────────┼─────────┼─────────┼───────┤\n",
       "│ 1   │ \"benchmark\"     │ \"proportional\" │ 0.5     │ \"\"      │ 0.169 │\n",
       "│ 2   │ \"fully covered\" │ \"proportional\" │ 0.9999  │ \"\"      │ 0.18  │\n",
       "\n",
       "│ Row │ gdp       │ labor_supply │\n",
       "├─────┼───────────┼──────────────┤\n",
       "│ 1   │ 1.74404e5 │ 1.68244e5    │\n",
       "│ 2   │ 1.76736e5 │ 1.70485e5    │"
      ]
     },
     "execution_count": 88,
     "metadata": {},
     "output_type": "execute_result"
    }
   ],
   "source": [
    "results = vcat(results, results_fully)"
   ]
  },
  {
   "cell_type": "code",
   "execution_count": 89,
   "metadata": {
    "slideshow": {
     "slide_type": "subslide"
    }
   },
   "outputs": [
    {
     "name": "stdout",
     "output_type": "stream",
     "text": [
      "tax rate is 0.149 and ratio is 0.9456782818584664 cost is 25876.772350456307 revenue is 27363.187721307022\n",
      "tax rate is 0.149 and ratio is 1.009146622922793 cost is 25876.772350456307 revenue is 25642.232518709097\n",
      "249.313697 seconds (3.01 G allocations: 342.773 GB, 24.62% gc time)\n"
     ]
    },
    {
     "data": {
      "text/html": [
       "<table class=\"data-frame\"><thead><tr><th></th><th>name</th><th>LTCI_type</th><th>NH_rate</th><th>ceiling</th><th>tau</th><th>gdp</th><th>labor_supply</th></tr></thead><tbody><tr><th>1</th><td>laissez-faire</td><td>proportional</td><td>1.0e-5</td><td></td><td>0.149</td><td>172095.5202597926</td><td>166029.53423345048</td></tr></tbody></table>"
      ],
      "text/plain": [
       "1×7 DataFrames.DataFrame\n",
       "│ Row │ name            │ LTCI_type      │ NH_rate │ ceiling │ tau   │\n",
       "├─────┼─────────────────┼────────────────┼─────────┼─────────┼───────┤\n",
       "│ 1   │ \"laissez-faire\" │ \"proportional\" │ 1.0e-5  │ \"\"      │ 0.149 │\n",
       "\n",
       "│ Row │ gdp       │ labor_supply │\n",
       "├─────┼───────────┼──────────────┤\n",
       "│ 1   │ 1.72096e5 │ 1.6603e5     │"
      ]
     },
     "execution_count": 89,
     "metadata": {},
     "output_type": "execute_result"
    }
   ],
   "source": [
    "#laissez-faire\n",
    "tau = 0.159;\n",
    "LTCI_type = 1;\n",
    "NH_rate = 0.00001;\n",
    "ceiling = 0;\n",
    "tol = 0.05;\n",
    "@time iter_results = iteration(tau, LTCI_type, NH_rate, ceiling, tol);\n",
    "tau = iter_results[1];\n",
    "LTCI_type = iter_results[2];\n",
    "NH_rate = iter_results[3];\n",
    "ceiling = iter_results[4];\n",
    "consumption_record = iter_results[5];\n",
    "asset_record = iter_results[6];\n",
    "hour_mkt_record = iter_results[7];\n",
    "hour_home_record = iter_results[8];\n",
    "results_lf = DataFrame(name = \"laissez-faire\", LTCI_type = \"proportional\", NH_rate = NH_rate, ceiling = \"\", \n",
    "    tau = tau, gdp = sum(wage_record.*hour_mkt_record), labor_supply=sum(hour_mkt_record))\n"
   ]
  },
  {
   "cell_type": "code",
   "execution_count": 90,
   "metadata": {
    "slideshow": {
     "slide_type": "subslide"
    }
   },
   "outputs": [
    {
     "data": {
      "text/html": [
       "<table class=\"data-frame\"><thead><tr><th></th><th>name</th><th>LTCI_type</th><th>NH_rate</th><th>ceiling</th><th>tau</th><th>gdp</th><th>labor_supply</th></tr></thead><tbody><tr><th>1</th><td>benchmark</td><td>proportional</td><td>0.5</td><td></td><td>0.16899999999999993</td><td>174404.36420061032</td><td>168243.92706045182</td></tr><tr><th>2</th><td>fully covered</td><td>proportional</td><td>0.9999</td><td></td><td>0.17999999999999988</td><td>176735.94461930104</td><td>170485.29822204277</td></tr><tr><th>3</th><td>laissez-faire</td><td>proportional</td><td>1.0e-5</td><td></td><td>0.149</td><td>172095.5202597926</td><td>166029.53423345048</td></tr></tbody></table>"
      ],
      "text/plain": [
       "3×7 DataFrames.DataFrame\n",
       "│ Row │ name            │ LTCI_type      │ NH_rate │ ceiling │ tau   │\n",
       "├─────┼─────────────────┼────────────────┼─────────┼─────────┼───────┤\n",
       "│ 1   │ \"benchmark\"     │ \"proportional\" │ 0.5     │ \"\"      │ 0.169 │\n",
       "│ 2   │ \"fully covered\" │ \"proportional\" │ 0.9999  │ \"\"      │ 0.18  │\n",
       "│ 3   │ \"laissez-faire\" │ \"proportional\" │ 1.0e-5  │ \"\"      │ 0.149 │\n",
       "\n",
       "│ Row │ gdp       │ labor_supply │\n",
       "├─────┼───────────┼──────────────┤\n",
       "│ 1   │ 1.74404e5 │ 1.68244e5    │\n",
       "│ 2   │ 1.76736e5 │ 1.70485e5    │\n",
       "│ 3   │ 1.72096e5 │ 1.6603e5     │"
      ]
     },
     "execution_count": 90,
     "metadata": {},
     "output_type": "execute_result"
    }
   ],
   "source": [
    "results = vcat(results, results_lf)"
   ]
  },
  {
   "cell_type": "code",
   "execution_count": 91,
   "metadata": {
    "slideshow": {
     "slide_type": "subslide"
    }
   },
   "outputs": [
    {
     "name": "stdout",
     "output_type": "stream",
     "text": [
      "tax rate is 0.149 and ratio is 0.9457381848536902 cost is 25452.041502080538 revenue is 26912.35471899454\n",
      "tax rate is 0.149 and ratio is 1.0092105462532666 cost is 25452.041502080538 revenue is 25219.753793271615\n",
      "246.340825 seconds (3.55 G allocations: 342.864 GB, 24.36% gc time)\n"
     ]
    },
    {
     "data": {
      "text/html": [
       "<table class=\"data-frame\"><thead><tr><th></th><th>name</th><th>LTCI_type</th><th>NH_rate</th><th>ceiling</th><th>tau</th><th>gdp</th><th>labor_supply</th></tr></thead><tbody><tr><th>1</th><td>ceiling</td><td>ceiling</td><td></td><td>0.1</td><td>0.149</td><td>169260.09257229272</td><td>163297.3185822614</td></tr></tbody></table>"
      ],
      "text/plain": [
       "1×7 DataFrames.DataFrame\n",
       "│ Row │ name      │ LTCI_type │ NH_rate │ ceiling │ tau   │ gdp      │\n",
       "├─────┼───────────┼───────────┼─────────┼─────────┼───────┼──────────┤\n",
       "│ 1   │ \"ceiling\" │ \"ceiling\" │ \"\"      │ 0.1     │ 0.149 │ 1.6926e5 │\n",
       "\n",
       "│ Row │ labor_supply │\n",
       "├─────┼──────────────┤\n",
       "│ 1   │ 1.63297e5    │"
      ]
     },
     "execution_count": 91,
     "metadata": {},
     "output_type": "execute_result"
    }
   ],
   "source": [
    "#ceiling\n",
    "#laissez-faire\n",
    "tau = 0.159;\n",
    "LTCI_type = 2;\n",
    "NH_rate = NaN;\n",
    "ceiling = 0.1;\n",
    "tol = 0.05;\n",
    "@time iter_results = iteration(tau, LTCI_type, NH_rate, ceiling, tol);\n",
    "tau = iter_results[1];\n",
    "LTCI_type = iter_results[2];\n",
    "NH_rate = iter_results[3];\n",
    "ceiling = iter_results[4];\n",
    "consumption_record = iter_results[5];\n",
    "asset_record = iter_results[6];\n",
    "hour_mkt_record = iter_results[7];\n",
    "hour_home_record = iter_results[8];\n",
    "results_ceiling = DataFrame(name = \"ceiling\", LTCI_type = \"ceiling\", NH_rate = \"\", ceiling = ceiling, \n",
    "    tau = tau, gdp = sum(wage_record.*hour_mkt_record), labor_supply=sum(hour_mkt_record))"
   ]
  },
  {
   "cell_type": "code",
   "execution_count": 92,
   "metadata": {
    "slideshow": {
     "slide_type": "slide"
    }
   },
   "outputs": [
    {
     "data": {
      "text/html": [
       "<table class=\"data-frame\"><thead><tr><th></th><th>name</th><th>LTCI_type</th><th>NH_rate</th><th>ceiling</th><th>tau</th><th>gdp</th><th>labor_supply</th></tr></thead><tbody><tr><th>1</th><td>benchmark</td><td>proportional</td><td>0.5</td><td></td><td>0.16899999999999993</td><td>174404.36420061032</td><td>168243.92706045182</td></tr><tr><th>2</th><td>fully covered</td><td>proportional</td><td>0.9999</td><td></td><td>0.17999999999999988</td><td>176735.94461930104</td><td>170485.29822204277</td></tr><tr><th>3</th><td>laissez-faire</td><td>proportional</td><td>1.0e-5</td><td></td><td>0.149</td><td>172095.5202597926</td><td>166029.53423345048</td></tr><tr><th>4</th><td>ceiling</td><td>ceiling</td><td></td><td>0.1</td><td>0.149</td><td>169260.09257229272</td><td>163297.3185822614</td></tr></tbody></table>"
      ],
      "text/plain": [
       "4×7 DataFrames.DataFrame\n",
       "│ Row │ name            │ LTCI_type      │ NH_rate │ ceiling │ tau   │\n",
       "├─────┼─────────────────┼────────────────┼─────────┼─────────┼───────┤\n",
       "│ 1   │ \"benchmark\"     │ \"proportional\" │ 0.5     │ \"\"      │ 0.169 │\n",
       "│ 2   │ \"fully covered\" │ \"proportional\" │ 0.9999  │ \"\"      │ 0.18  │\n",
       "│ 3   │ \"laissez-faire\" │ \"proportional\" │ 1.0e-5  │ \"\"      │ 0.149 │\n",
       "│ 4   │ \"ceiling\"       │ \"ceiling\"      │ \"\"      │ 0.1     │ 0.149 │\n",
       "\n",
       "│ Row │ gdp       │ labor_supply │\n",
       "├─────┼───────────┼──────────────┤\n",
       "│ 1   │ 1.74404e5 │ 1.68244e5    │\n",
       "│ 2   │ 1.76736e5 │ 1.70485e5    │\n",
       "│ 3   │ 1.72096e5 │ 1.6603e5     │\n",
       "│ 4   │ 1.6926e5  │ 1.63297e5    │"
      ]
     },
     "execution_count": 92,
     "metadata": {},
     "output_type": "execute_result"
    }
   ],
   "source": [
    "results = vcat(results, results_ceiling)"
   ]
  },
  {
   "cell_type": "code",
   "execution_count": 93,
   "metadata": {
    "slideshow": {
     "slide_type": "slide"
    }
   },
   "outputs": [
    {
     "data": {
      "text/html": [
       "<script src=\"/home/daisuke_moriwaki/.julia/v0.5/Plots/src/backends/../../deps/plotly-latest.min.js\"></script>    <div id=\"0e79c997-2893-4694-a934-950d515ea633\" style=\"width:600px;height:400px;\"></div>\n",
       "    <script>\n",
       "    PLOT = document.getElementById('0e79c997-2893-4694-a934-950d515ea633');\n",
       "    Plotly.plot(PLOT, [{\"yaxis\":\"y\",\"y\":[0.16899999999999993,0.17999999999999988,0.149,0.149],\"showlegend\":true,\"name\":\"y1\",\"type\":\"bar\",\"xaxis\":\"x\",\"orientation\":\"v\",\"colorbar\":{\"title\":\"\"},\"x\":[0.5,1.5,2.5,3.5],\"marker\":{\"color\":\"rgba(0, 154, 250, 1.000)\"}}], {\"yaxis\":{\"type\":\"-\",\"titlefont\":{\"size\":15,\"color\":\"rgba(0, 0, 0, 1.000)\",\"family\":\"sans-serif\"},\"title\":\"\",\"tickfont\":{\"size\":11,\"color\":\"rgba(0, 0, 0, 1.000)\",\"family\":\"sans-serif\"},\"ticks\":\"inside\",\"tickmode\":\"array\",\"showgrid\":true,\"tickvals\":[0.0,0.03,0.06,0.09,0.12,0.15],\"domain\":[0.03762029746281716,0.9415463692038496],\"ticktext\":[\"0.00\",\"0.03\",\"0.06\",\"0.09\",\"0.12\",\"0.15\"],\"tickangle\":0,\"zeroline\":false,\"linecolor\":\"rgba(0, 0, 0, 1.000)\",\"tickcolor\":\"rgba(0, 0, 0, 1.000)\",\"anchor\":\"x\"},\"annotations\":[{\"text\":\"tax rate\",\"y\":1.0,\"xref\":\"paper\",\"font\":{\"size\":20,\"color\":\"rgba(0, 0, 0, 1.000)\",\"family\":\"sans-serif\"},\"xanchor\":\"center\",\"x\":0.5296296296296296,\"yref\":\"paper\",\"showarrow\":false,\"yanchor\":\"top\",\"rotation\":-0.0}],\"width\":600,\"plot_bgcolor\":\"rgba(255, 255, 255, 1.000)\",\"showlegend\":true,\"legend\":{\"bgcolor\":\"rgba(255, 255, 255, 1.000)\",\"y\":1.0,\"font\":{\"size\":11,\"color\":\"rgba(0, 0, 0, 1.000)\",\"family\":\"sans-serif\"},\"bordercolor\":\"rgba(0, 0, 0, 1.000)\",\"x\":1.0},\"xaxis\":{\"type\":\"-\",\"titlefont\":{\"size\":15,\"color\":\"rgba(0, 0, 0, 1.000)\",\"family\":\"sans-serif\"},\"title\":\"\",\"tickfont\":{\"size\":11,\"color\":\"rgba(0, 0, 0, 1.000)\",\"family\":\"sans-serif\"},\"ticks\":\"inside\",\"tickmode\":\"array\",\"showgrid\":true,\"tickvals\":[0.5,1.5,2.5,3.5],\"domain\":[0.0658209390492855,0.9934383202099738],\"ticktext\":[\"benchmark\",\"fully covered\",\"laissez-faire\",\"ceiling\"],\"tickangle\":0,\"zeroline\":false,\"linecolor\":\"rgba(0, 0, 0, 1.000)\",\"tickcolor\":\"rgba(0, 0, 0, 1.000)\",\"anchor\":\"y\"},\"paper_bgcolor\":\"rgba(255, 255, 255, 1.000)\",\"height\":400,\"margin\":{\"r\":0,\"l\":0,\"b\":20,\"t\":20}});\n",
       "    </script>\n"
      ]
     },
     "execution_count": 93,
     "metadata": {},
     "output_type": "execute_result"
    }
   ],
   "source": [
    "bar(results[:name], results[:tau], title = \"tax rate\")\n",
    "\n"
   ]
  },
  {
   "cell_type": "code",
   "execution_count": 94,
   "metadata": {
    "slideshow": {
     "slide_type": "slide"
    }
   },
   "outputs": [
    {
     "data": {
      "text/html": [
       "<script src=\"/home/daisuke_moriwaki/.julia/v0.5/Plots/src/backends/../../deps/plotly-latest.min.js\"></script>    <div id=\"63598003-2a21-4bea-aa5e-466e3053d07e\" style=\"width:600px;height:400px;\"></div>\n",
       "    <script>\n",
       "    PLOT = document.getElementById('63598003-2a21-4bea-aa5e-466e3053d07e');\n",
       "    Plotly.plot(PLOT, [{\"yaxis\":\"y\",\"y\":[174404.36420061032,176735.94461930104,172095.5202597926,169260.09257229272],\"showlegend\":true,\"name\":\"y1\",\"type\":\"bar\",\"xaxis\":\"x\",\"orientation\":\"v\",\"colorbar\":{\"title\":\"\"},\"x\":[0.5,1.5,2.5,3.5],\"marker\":{\"color\":\"rgba(0, 154, 250, 1.000)\"}}], {\"yaxis\":{\"type\":\"-\",\"titlefont\":{\"size\":15,\"color\":\"rgba(0, 0, 0, 1.000)\",\"family\":\"sans-serif\"},\"title\":\"\",\"tickfont\":{\"size\":11,\"color\":\"rgba(0, 0, 0, 1.000)\",\"family\":\"sans-serif\"},\"ticks\":\"inside\",\"tickmode\":\"array\",\"showgrid\":true,\"tickvals\":[0.0,30000.0,60000.0,90000.0,120000.0,150000.0],\"domain\":[0.03762029746281716,0.9415463692038496],\"ticktext\":[\"0\",\"30000\",\"60000\",\"90000\",\"120000\",\"150000\"],\"tickangle\":0,\"zeroline\":false,\"linecolor\":\"rgba(0, 0, 0, 1.000)\",\"tickcolor\":\"rgba(0, 0, 0, 1.000)\",\"anchor\":\"x\"},\"annotations\":[{\"text\":\"gdp\",\"y\":1.0,\"xref\":\"paper\",\"font\":{\"size\":20,\"color\":\"rgba(0, 0, 0, 1.000)\",\"family\":\"sans-serif\"},\"xanchor\":\"center\",\"x\":0.5444444444444446,\"yref\":\"paper\",\"showarrow\":false,\"yanchor\":\"top\",\"rotation\":-0.0}],\"width\":600,\"plot_bgcolor\":\"rgba(255, 255, 255, 1.000)\",\"showlegend\":true,\"legend\":{\"bgcolor\":\"rgba(255, 255, 255, 1.000)\",\"y\":1.0,\"font\":{\"size\":11,\"color\":\"rgba(0, 0, 0, 1.000)\",\"family\":\"sans-serif\"},\"bordercolor\":\"rgba(0, 0, 0, 1.000)\",\"x\":1.0},\"xaxis\":{\"type\":\"-\",\"titlefont\":{\"size\":15,\"color\":\"rgba(0, 0, 0, 1.000)\",\"family\":\"sans-serif\"},\"title\":\"\",\"tickfont\":{\"size\":11,\"color\":\"rgba(0, 0, 0, 1.000)\",\"family\":\"sans-serif\"},\"ticks\":\"inside\",\"tickmode\":\"array\",\"showgrid\":true,\"tickvals\":[0.5,1.5,2.5,3.5],\"domain\":[0.09545056867891513,0.9934383202099738],\"ticktext\":[\"benchmark\",\"fully covered\",\"laissez-faire\",\"ceiling\"],\"tickangle\":0,\"zeroline\":false,\"linecolor\":\"rgba(0, 0, 0, 1.000)\",\"tickcolor\":\"rgba(0, 0, 0, 1.000)\",\"anchor\":\"y\"},\"paper_bgcolor\":\"rgba(255, 255, 255, 1.000)\",\"height\":400,\"margin\":{\"r\":0,\"l\":0,\"b\":20,\"t\":20}});\n",
       "    </script>\n"
      ]
     },
     "execution_count": 94,
     "metadata": {},
     "output_type": "execute_result"
    }
   ],
   "source": [
    "bar(results[:name], results[:gdp], title = \"gdp\")"
   ]
  },
  {
   "cell_type": "code",
   "execution_count": 95,
   "metadata": {
    "slideshow": {
     "slide_type": "slide"
    }
   },
   "outputs": [
    {
     "data": {
      "text/html": [
       "<script src=\"/home/daisuke_moriwaki/.julia/v0.5/Plots/src/backends/../../deps/plotly-latest.min.js\"></script>    <div id=\"abb9e218-561c-49a9-ab41-df140dbff568\" style=\"width:600px;height:400px;\"></div>\n",
       "    <script>\n",
       "    PLOT = document.getElementById('abb9e218-561c-49a9-ab41-df140dbff568');\n",
       "    Plotly.plot(PLOT, [{\"yaxis\":\"y\",\"y\":[174404.36420061032,176735.94461930104,172095.5202597926,169260.09257229272],\"showlegend\":true,\"name\":\"y1\",\"type\":\"bar\",\"xaxis\":\"x\",\"orientation\":\"v\",\"colorbar\":{\"title\":\"\"},\"x\":[0.5,1.5,2.5,3.5],\"marker\":{\"color\":\"rgba(0, 154, 250, 1.000)\"}}], {\"yaxis\":{\"type\":\"-\",\"titlefont\":{\"size\":15,\"color\":\"rgba(0, 0, 0, 1.000)\",\"family\":\"sans-serif\"},\"title\":\"\",\"tickfont\":{\"size\":11,\"color\":\"rgba(0, 0, 0, 1.000)\",\"family\":\"sans-serif\"},\"ticks\":\"inside\",\"tickmode\":\"array\",\"showgrid\":true,\"tickvals\":[0.0,30000.0,60000.0,90000.0,120000.0,150000.0],\"domain\":[0.03762029746281716,0.9415463692038496],\"ticktext\":[\"0\",\"30000\",\"60000\",\"90000\",\"120000\",\"150000\"],\"tickangle\":0,\"zeroline\":false,\"linecolor\":\"rgba(0, 0, 0, 1.000)\",\"tickcolor\":\"rgba(0, 0, 0, 1.000)\",\"anchor\":\"x\"},\"annotations\":[{\"text\":\"labor supplu\",\"y\":1.0,\"xref\":\"paper\",\"font\":{\"size\":20,\"color\":\"rgba(0, 0, 0, 1.000)\",\"family\":\"sans-serif\"},\"xanchor\":\"center\",\"x\":0.5444444444444446,\"yref\":\"paper\",\"showarrow\":false,\"yanchor\":\"top\",\"rotation\":-0.0}],\"width\":600,\"plot_bgcolor\":\"rgba(255, 255, 255, 1.000)\",\"showlegend\":true,\"legend\":{\"bgcolor\":\"rgba(255, 255, 255, 1.000)\",\"y\":1.0,\"font\":{\"size\":11,\"color\":\"rgba(0, 0, 0, 1.000)\",\"family\":\"sans-serif\"},\"bordercolor\":\"rgba(0, 0, 0, 1.000)\",\"x\":1.0},\"xaxis\":{\"type\":\"-\",\"titlefont\":{\"size\":15,\"color\":\"rgba(0, 0, 0, 1.000)\",\"family\":\"sans-serif\"},\"title\":\"\",\"tickfont\":{\"size\":11,\"color\":\"rgba(0, 0, 0, 1.000)\",\"family\":\"sans-serif\"},\"ticks\":\"inside\",\"tickmode\":\"array\",\"showgrid\":true,\"tickvals\":[0.5,1.5,2.5,3.5],\"domain\":[0.09545056867891513,0.9934383202099738],\"ticktext\":[\"benchmark\",\"fully covered\",\"laissez-faire\",\"ceiling\"],\"tickangle\":0,\"zeroline\":false,\"linecolor\":\"rgba(0, 0, 0, 1.000)\",\"tickcolor\":\"rgba(0, 0, 0, 1.000)\",\"anchor\":\"y\"},\"paper_bgcolor\":\"rgba(255, 255, 255, 1.000)\",\"height\":400,\"margin\":{\"r\":0,\"l\":0,\"b\":20,\"t\":20}});\n",
       "    </script>\n"
      ]
     },
     "execution_count": 95,
     "metadata": {},
     "output_type": "execute_result"
    }
   ],
   "source": [
    "bar(results[:name], results[:gdp], title = \"labor supplu\")"
   ]
  },
  {
   "cell_type": "markdown",
   "metadata": {
    "collapsed": true,
    "slideshow": {
     "slide_type": "slide"
    }
   },
   "source": [
    "## Lots to be done"
   ]
  }
 ],
 "metadata": {
  "celltoolbar": "Slideshow",
  "kernelspec": {
   "display_name": "Julia 0.5.2",
   "language": "julia",
   "name": "julia-0.5"
  },
  "language_info": {
   "file_extension": ".jl",
   "mimetype": "application/julia",
   "name": "julia",
   "version": "0.5.2"
  }
 },
 "nbformat": 4,
 "nbformat_minor": 2
}
