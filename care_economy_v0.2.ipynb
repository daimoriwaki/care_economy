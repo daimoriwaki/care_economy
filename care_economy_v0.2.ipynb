{
 "cells": [
  {
   "cell_type": "markdown",
   "metadata": {
    "slideshow": {
     "slide_type": "slide"
    }
   },
   "source": [
    "# Effect of Informal Care on Labor Supply: A Macroeconomic Perspective\n",
    "\n",
    "## 2018.3.12 ICES, Hosei University\n",
    "\n",
    "### Daisuke Moriwaki\n",
    "\n",
    "Cyberagent, Inc., AI Lab        \n",
    "Keio University, School of Medicine\n",
    "<daisuke.moriwaki@gmail.com>   github: daimoriwaki"
   ]
  },
  {
   "cell_type": "code",
   "execution_count": 1,
   "metadata": {
    "collapsed": true
   },
   "outputs": [],
   "source": [
    "using QuantEcon\n",
    "using Plots\n",
    "using Interpolations\n",
    "using Distributions"
   ]
  },
  {
   "cell_type": "markdown",
   "metadata": {
    "slideshow": {
     "slide_type": "slide"
    }
   },
   "source": [
    "# Motivation\n",
    "* In 2017, it is reported taht there is 6 million care revievers in Japan by MLHW. The number is expected to increase as the baby boomers, or Dankai generations become \"late elderly\".\n",
    "* It is unclear whether the Japanese LTCI system is sustanable in the sense of financially, which has been pointed out by several researchers.\n",
    "* More importantly, the impact of care needs on economy itself (oppose to accountant's view) should be studied.\n"
   ]
  },
  {
   "cell_type": "markdown",
   "metadata": {
    "slideshow": {
     "slide_type": "slide"
    }
   },
   "source": [
    "* It is easy to predict that \"caregiver ratio\" (the number of caregivers per one care receiver) explodes in the near future.\n",
    "* Aside from the financial sustainability, the explosion of caregiver ratio cause several problems\n",
    "    * insufficient care for elderly (insufficient availability of cheap nursing home, *tokuyou*)\n",
    "    * Poverty due to care-leave for frail older family\n",
    "    * *Economy itself* due to less labor supply\n",
    "* Such a wide range of problem should be tackled by macroeconomic model rather than causal analysis."
   ]
  },
  {
   "cell_type": "markdown",
   "metadata": {},
   "source": [
    "# Summary of Results\n",
    "* ..."
   ]
  },
  {
   "cell_type": "markdown",
   "metadata": {},
   "source": [
    "# Literature\n",
    "\n",
    "* Briefly survery several work in the labor and macro fields.\n"
   ]
  },
  {
   "cell_type": "markdown",
   "metadata": {
    "slideshow": {
     "slide_type": "slide"
    }
   },
   "source": [
    "\n",
    "## Labor supply and informal care (causal studies)\n",
    "\n",
    "* moriwaki (2015, mimeo) finds negative effect from informal care only for male.\n",
    "* Nishimura\n",
    "* "
   ]
  },
  {
   "cell_type": "markdown",
   "metadata": {},
   "source": [
    "## Care and Macro economy\n",
    "* \n"
   ]
  },
  {
   "cell_type": "markdown",
   "metadata": {},
   "source": [
    "\n",
    "\n",
    "## Sustainability due to aging population in Japan\n",
    "* Kitao\n"
   ]
  },
  {
   "cell_type": "markdown",
   "metadata": {},
   "source": [
    "\n",
    "\n",
    "## Complex heterogeneous agent model concerned with social security programs\n",
    "* Li (EER, 2018)"
   ]
  },
  {
   "cell_type": "markdown",
   "metadata": {
    "slideshow": {
     "slide_type": "slide"
    }
   },
   "source": [
    "# Set up *\"Care Economy\"*"
   ]
  },
  {
   "cell_type": "code",
   "execution_count": 151,
   "metadata": {
    "collapsed": true,
    "slideshow": {
     "slide_type": "-"
    }
   },
   "outputs": [],
   "source": [
    "# various settings\n",
    "\n",
    "\n",
    "### Economy ###\n",
    "\n",
    "r = 0.01; # interest rate\n",
    "dep_rate = 1 # dependency rate\n",
    "wage_care = 0.7; # care workers' wage rate. ratio to all industry\n",
    "sick_rate = 0.2; # need care old / old\n",
    "care_hour = 0.3; # care demand per care receiver in hours\n",
    "\n",
    "### Government ###\n",
    "tau = 0.1; # income tax rate\n",
    "rep_rate = 0.5; # replacement rate\n",
    "NH_rate = 0.9; # government formal care provision rate. ratio to needed care\n",
    "retirement_age = 3; # age when household can take up pension\n",
    "\n",
    "\n",
    "### Preference ###\n",
    "\n",
    "beta = 0.9; # discount rate\n",
    "chi = 0.4; # share of leisure in utilty\n",
    "sigma = 0.28; # intertemporal substitution\n",
    "\n",
    "### numerical excersize ###\n",
    "\n",
    "num_grid = 9; # number of grid usually 9\n",
    "min_asset = 0; # minimum asset\n",
    "max_asset = 10; # maximum asset\n",
    "min_leisure = 0.001;\n",
    "max_leisure = 0.999;\n",
    "\n",
    "asset_grid = linspace(min_asset, max_asset, num_grid);\n",
    "leisure_grid = linspace(min_leisure, max_leisure, num_grid);"
   ]
  },
  {
   "cell_type": "markdown",
   "metadata": {},
   "source": [
    "# Demography\n",
    "* 3 periods: young, middle, and old\n",
    "    * young: work in the market and consume goods and leisure.Save for the future 22-44\n",
    "    * middle: work both in the market and home. consume goods and leisure. Save for the future. No mortality risk. 45-64\n",
    "    * old: no work in both market and home. Those with bad health receive care either in public nursing home or at home. Mortality risk is present. 65+\n",
    "* Consider 3 states: now (old is less than middle and young), 10 years later (old is more than middle and young), 20 years later (old is much more than young and middle)"
   ]
  },
  {
   "cell_type": "markdown",
   "metadata": {
    "slideshow": {
     "slide_type": "slide"
    }
   },
   "source": [
    "## Household\n",
    "\n",
    "* The model economy is populated by many households. \n",
    "    * You may imagine either single households without gender and unknown re-production technique or many households with couples and kids where income, assets, health, and time endowment is shared. \n",
    "    * More realistic modelling is listed as future study\n",
    "* wage rate is exogenous to the agent. Given wage rate, labor supply is endogeneous.\n",
    "* No negative saving is allowed (consider whether we can borrow without collateral)."
   ]
  },
  {
   "cell_type": "markdown",
   "metadata": {
    "slideshow": {
     "slide_type": "slide"
    }
   },
   "source": [
    "## Care in detail\n",
    "* In this economy, every middle-aged households face the risk of becoming care giver.\n",
    "* In the beginning of the period, the health status of all households is assigned. \n",
    "* Then the total *care needs* is determined. \n",
    "* The government determine how much care to provide, which is sometimes insufficient. That deliniates reality in Japan (there are 360,000 people on the waiting list).\n",
    "* Unmet care needs is distributed to potential care givers (*middle*). No state dependency. Imagine that you might become a informal care giver for your uncle, spouse's siblings and so on as well as your own genetic parents and spouse. Unexpectable.\n",
    "* This scenario totally igonres the positive utility from care-giving. But there are lots of tragedies associated with informal care."
   ]
  },
  {
   "cell_type": "markdown",
   "metadata": {
    "slideshow": {
     "slide_type": "slide"
    }
   },
   "source": [
    "## Preference\n",
    "* simple and general utility function. e.g. Yue (2018, EER)"
   ]
  },
  {
   "cell_type": "code",
   "execution_count": 152,
   "metadata": {},
   "outputs": [
    {
     "name": "stderr",
     "output_type": "stream",
     "text": [
      "WARNING: Method definition calc_utility(Real, Real) in module Main at In[75]:2 overwritten at In[152]:2.\n",
      "WARNING: Method definition calc_utility(Real, Real, Real) in module Main at In[75]:2 overwritten at In[152]:2.\n",
      "WARNING: Method definition calc_utility(Real, Real, Real, Real) in module Main at In[75]:2 overwritten at In[152]:2.\n"
     ]
    },
    {
     "data": {
      "text/plain": [
       "calc_utility (generic function with 3 methods)"
      ]
     },
     "execution_count": 152,
     "metadata": {},
     "output_type": "execute_result"
    }
   ],
   "source": [
    "function calc_utility(c::Real, l::Real,chi::Real = 0.4, sigma::Real = 0.28) # chi = 0.4\n",
    "    if c <= 0 || l <= 0\n",
    "        return -1000\n",
    "    else\n",
    "        return ((c^(1-chi)*(l^chi))^(1-sigma))/(1 - sigma)\n",
    "    end\n",
    "end"
   ]
  },
  {
   "cell_type": "markdown",
   "metadata": {
    "slideshow": {
     "slide_type": "slide"
    }
   },
   "source": [
    "## consumption\n",
    "* consumption is deterimined by assets, income and saving\n",
    "* there is a social assistence for the poor"
   ]
  },
  {
   "cell_type": "code",
   "execution_count": 153,
   "metadata": {
    "slideshow": {
     "slide_type": "subslide"
    }
   },
   "outputs": [
    {
     "name": "stderr",
     "output_type": "stream",
     "text": [
      "WARNING: Method definition calc_consumption(Real, Real, Real) in module Main at In[60]:2 overwritten at In[153]:2.\n",
      "WARNING: Method definition calc_consumption(Real, Real, Real, Real) in module Main at In[60]:2 overwritten at In[153]:2.\n"
     ]
    },
    {
     "data": {
      "text/plain": [
       "calc_consumption (generic function with 2 methods)"
      ]
     },
     "execution_count": 153,
     "metadata": {},
     "output_type": "execute_result"
    }
   ],
   "source": [
    "function calc_consumption(new_asset::Real, income::Real, asset::Real, r::Real=r)\n",
    "    (1 + r)*asset + income - new_asset # allow negative consumption\n",
    "end"
   ]
  },
  {
   "cell_type": "markdown",
   "metadata": {
    "slideshow": {
     "slide_type": "slide"
    }
   },
   "source": [
    "## income\n",
    "* income is determined by hourking hour in market and tax\n"
   ]
  },
  {
   "cell_type": "code",
   "execution_count": 154,
   "metadata": {
    "slideshow": {
     "slide_type": "subslide"
    }
   },
   "outputs": [
    {
     "name": "stderr",
     "output_type": "stream",
     "text": [
      "WARNING: Method definition calc_income(Real, Real, Real, Real) in module Main at In[61]:2 overwritten at In[154]:2.\n",
      "WARNING: Method definition calc_income(Real, Real, Real, Real, Real) in module Main at In[61]:2 overwritten at In[154]:2.\n"
     ]
    },
    {
     "data": {
      "text/plain": [
       "calc_income (generic function with 2 methods)"
      ]
     },
     "execution_count": 154,
     "metadata": {},
     "output_type": "execute_result"
    }
   ],
   "source": [
    "function calc_income(leisure::Real, wage::Real, hour_home::Real, pension::Real, tau::Real = tau)\n",
    "    (1 - tau)*(wage*(1 - leisure - hour_home) + pension)\n",
    "end"
   ]
  },
  {
   "cell_type": "code",
   "execution_count": 155,
   "metadata": {},
   "outputs": [
    {
     "data": {
      "text/html": [
       "0.0"
      ],
      "text/plain": [
       "0.0"
      ]
     },
     "execution_count": 155,
     "metadata": {},
     "output_type": "execute_result"
    }
   ],
   "source": [
    "income(1, 1, 1, 1)"
   ]
  },
  {
   "cell_type": "markdown",
   "metadata": {
    "slideshow": {
     "slide_type": "slide"
    }
   },
   "source": [
    "## pension\n",
    "* pension is taken up by old.\n",
    "* the level of benefit is determined by wage history and replacement rate"
   ]
  },
  {
   "cell_type": "code",
   "execution_count": 156,
   "metadata": {
    "slideshow": {
     "slide_type": "subslide"
    }
   },
   "outputs": [
    {
     "name": "stderr",
     "output_type": "stream",
     "text": [
      "WARNING: Method definition calc_pension(Any, Any) in module Main at In[63]:10 overwritten at In[156]:10.\n",
      "WARNING: Method definition calc_pension(Any, Any, Any) in module Main at In[63]:10 overwritten at In[156]:10.\n",
      "WARNING: Method definition calc_pension(Any, Any, Any, Any) in module Main at In[63]:10 overwritten at In[156]:10.\n",
      "\u001b[1m\u001b[31mWARNING: replacing docs for 'calc_pension :: Union{Tuple{Any,Any,Any,Any},Tuple{Any,Any,Any},Tuple{Any,Any}}' in module 'Main'.\u001b[0m\n"
     ]
    },
    {
     "data": {
      "text/plain": [
       "calc_pension"
      ]
     },
     "execution_count": 156,
     "metadata": {},
     "output_type": "execute_result"
    }
   ],
   "source": [
    "\"calc_pension(age, wage_history, rep_rate, retirement_age)\n",
    "\n",
    "**Argments**\n",
    "\n",
    "average_wage is meanvector of past and current wage\n",
    "\n",
    "return 0 if younger than  retirement age\"\n",
    "\n",
    "function calc_pension(age, average_wage, rep_rate = rep_rate, retirement_age = retirement_age)\n",
    "    if age >= retirement_age\n",
    "        return rep_rate*mean(average_wage)\n",
    "    else\n",
    "        return 0\n",
    "    end\n",
    "end"
   ]
  },
  {
   "cell_type": "markdown",
   "metadata": {
    "slideshow": {
     "slide_type": "slide"
    }
   },
   "source": [
    "## wage\n",
    "* wage evolves according to $w_{i,t} = \\mu + \\rho w_{i, t-1} + \\epsilon_{t}$. \n",
    "* need to be complicated when finer horizon is embedded.\n",
    "* use tauchen method to generate transition matrix"
   ]
  },
  {
   "cell_type": "code",
   "execution_count": 157,
   "metadata": {
    "collapsed": true,
    "slideshow": {
     "slide_type": "subslide"
    }
   },
   "outputs": [],
   "source": [
    "# wage trainsition matrix\n",
    "\n",
    "wage_rho = 0.9 # param for wage function\n",
    "wage_sigma = 0.1# param for wage function standard deviation for epsilon\n",
    "wage_mu = 0 # mean wage\n",
    "wage_n_std = 9 # length of grid\n",
    "\n",
    "wage_markovchain = tauchen(num_grid, wage_rho, wage_sigma, wage_mu, wage_n_std);\n",
    "wage_trans_mat = wage_markovchain.p;\n",
    "wage_grid = exp(wage_markovchain.state_values);"
   ]
  },
  {
   "cell_type": "code",
   "execution_count": 158,
   "metadata": {
    "collapsed": true
   },
   "outputs": [],
   "source": [
    "# average wage transition\n",
    "# only applicable when number of period = 3 NO SCALABILITY!!!!\n",
    "average_wage_trans_mat = wage_trans_mat/2 + eye(num_grid, num_grid)/2;"
   ]
  },
  {
   "cell_type": "markdown",
   "metadata": {
    "slideshow": {
     "slide_type": "slide"
    }
   },
   "source": [
    "## Informal care\n",
    "* Middle-aged household is assigned care needs randomly.\n",
    "* The level of care is represented as required hour for care at home.\n",
    "* Once all the household draw the raw hour at home $h^H$, they are sum up as $\\sum_i h^H_i$\n",
    "* The total demand for care $D^H = \\sum_i I (h_i \\in (0,  0.1)$\n",
    "* The unmet care needs $D^{H, unmet} = D^H - NH$ is distributed out to proportionaly to $h^H$\n",
    "* Numerical excercise is done without empirical studies, which should be done in the future."
   ]
  },
  {
   "cell_type": "code",
   "execution_count": 159,
   "metadata": {
    "collapsed": true
   },
   "outputs": [],
   "source": [
    "# informal care grid and transition matrix\n",
    "\n",
    "hour_home_rho = 0 # param for wage function\n",
    "hour_home_sigma = 0.2# param for wage function standard deviation for epsilon\n",
    "hour_home_mu = 0 # mean wage\n",
    "hour_home_n_std = 9 # length of grid\n",
    "\n",
    "hour_home_markovchain = tauchen(num_grid, hour_home_rho, hour_home_sigma, hour_home_mu, hour_home_n_std);\n",
    "hour_home_trans_mat = hour_home_markovchain.p;\n",
    "hour_home_grid = exp(hour_home_markovchain.state_values);"
   ]
  },
  {
   "cell_type": "code",
   "execution_count": 160,
   "metadata": {},
   "outputs": [
    {
     "name": "stderr",
     "output_type": "stream",
     "text": [
      "WARNING: Method definition calc_hour_home(Real) in module Main at In[67]:7 overwritten at In[160]:7.\n",
      "WARNING: Method definition calc_hour_home(Real, Real) in module Main at In[67]:7 overwritten at In[160]:7.\n",
      "WARNING: Method definition calc_hour_home(Real, Real, Real) in module Main at In[67]:7 overwritten at In[160]:7.\n",
      "WARNING: Method definition calc_hour_home(Real, Real, Real, Real) in module Main at In[67]:7 overwritten at In[160]:7.\n",
      "WARNING: Method definition calc_hour_home(Real, Real, Real, Real, Real) in module Main at In[67]:7 overwritten at In[160]:7.\n",
      "\u001b[1m\u001b[31mWARNING: replacing docs for 'calc_hour_home :: Union{Tuple{Real,Real,Real,Real,Real},Tuple{Real,Real,Real,Real},Tuple{Real,Real,Real},Tuple{Real,Real},Tuple{Real}}' in module 'Main'.\u001b[0m\n"
     ]
    },
    {
     "data": {
      "text/plain": [
       "calc_hour_home"
      ]
     },
     "execution_count": 160,
     "metadata": {},
     "output_type": "execute_result"
    }
   ],
   "source": [
    "\" calc_hour_home(relative_hour_home, dep_rate, sick_rate, care_hour,NH_rate)\n",
    "\n",
    "calculate hour at home given relative home hour. relative home hour represent the level of informal care giving \n",
    "\"\n",
    "function calc_hour_home(relative_hour_home::Real, dep_rate::Real=dep_rate, sick_rate::Real=sick_rate, care_hour::Real=care_hour,\n",
    "        NH_rate::Real = NH_rate)\n",
    "    relative_hour_home*(1 - NH_rate)*dep_rate*sick_rate*care_hour\n",
    "end\n"
   ]
  },
  {
   "cell_type": "markdown",
   "metadata": {},
   "source": [
    "## health status\n",
    "* health status so far only matters how many old need care.\n",
    "* health is not associated with wage, labor.\n",
    "* we do not take health into accont explicitly."
   ]
  },
  {
   "cell_type": "markdown",
   "metadata": {
    "slideshow": {
     "slide_type": "slide"
    }
   },
   "source": [
    "## labor supply\n",
    "* labor supply is endogeneous\n",
    "* young and middle household optimizes labor supply as well as consumption (saving) for given time endowment\n",
    "* time endowment is varying across agent due to informal care\n",
    "* From the first order condition $l = c(1 - \\tau)w \\frac{\\chi}{1 - \\chi}$"
   ]
  },
  {
   "cell_type": "code",
   "execution_count": 161,
   "metadata": {},
   "outputs": [
    {
     "name": "stderr",
     "output_type": "stream",
     "text": [
      "WARNING: Method definition calc_hour_mkt(Real, Real, Real) in module Main at In[68]:13 overwritten at In[161]:13.\n",
      "WARNING: Method definition calc_hour_mkt(Real, Real, Real, Int64) in module Main at In[68]:13 overwritten at In[161]:13.\n",
      "\u001b[1m\u001b[31mWARNING: replacing docs for 'calc_hour_mkt :: Union{Tuple{Real,Real,Real,Int64},Tuple{Real,Real,Real}}' in module 'Main'.\u001b[0m\n"
     ]
    },
    {
     "data": {
      "text/plain": [
       "calc_hour_mkt"
      ]
     },
     "execution_count": 161,
     "metadata": {},
     "output_type": "execute_result"
    }
   ],
   "source": [
    "\"calc_hour_mkt(age, leisure, hour_home, retirement_age)\n",
    "\n",
    "calculate hour in the market.\n",
    "\n",
    "**Argments**: \n",
    "\n",
    "        age, leisure, hour at homt\n",
    "\n",
    "**Return**\n",
    "\n",
    "        working hour at market\"\n",
    "function calc_hour_mkt(age::Real, leisure::Real, hour_home::Real, retirement_age::Int=retirement_age)\n",
    "    if leisure + hour_home >= 1 || age >= retirement_age\n",
    "        return 0\n",
    "    else\n",
    "        return 1 - leisure - hour_home\n",
    "    end\n",
    "end"
   ]
  },
  {
   "cell_type": "markdown",
   "metadata": {
    "slideshow": {
     "slide_type": "slide"
    }
   },
   "source": [
    "## Government\n",
    "* government provide insufficient formal care funded by social security premium contributed by working age, which is resemble to Japanese LTCI\n",
    "* cost of formal care is determined by personal expenses of informal care worker"
   ]
  },
  {
   "cell_type": "markdown",
   "metadata": {
    "slideshow": {
     "slide_type": "slide"
    }
   },
   "source": [
    "# Quantitative Exercise"
   ]
  },
  {
   "cell_type": "markdown",
   "metadata": {
    "slideshow": {
     "slide_type": "slide"
    }
   },
   "source": [
    "## Solution\n",
    "* The model is solved (ideally) by method of simulated moment.\n",
    "* So far no calibration made\n",
    "* Optimization by households is done by backward induction."
   ]
  },
  {
   "cell_type": "markdown",
   "metadata": {},
   "source": [
    "## Value function\n",
    "* value function optimization $v_t = max_{c_t, l_t} (u(c_t, l_t) + \\beta \\mathbb{E}\\left( v_{t+1}(a_{t+1}) \\right))$ "
   ]
  },
  {
   "cell_type": "code",
   "execution_count": 162,
   "metadata": {},
   "outputs": [
    {
     "name": "stderr",
     "output_type": "stream",
     "text": [
      "WARNING: Method definition value_function(Real, Real) in module Main at In[69]:4 overwritten at In[162]:4.\n",
      "WARNING: Method definition value_function(Real, Real, Real) in module Main at In[69]:4 overwritten at In[162]:4.\n",
      "\u001b[1m\u001b[31mWARNING: replacing docs for 'value_function :: Union{Tuple{Real,Real,Real},Tuple{Real,Real}}' in module 'Main'.\u001b[0m\n"
     ]
    },
    {
     "data": {
      "text/plain": [
       "value_function"
      ]
     },
     "execution_count": 162,
     "metadata": {},
     "output_type": "execute_result"
    }
   ],
   "source": [
    "\"value_function(utility, expected_value, beta)\n",
    "calculate instant value for given utility and expected values in the next period\"\n",
    "function value_function(utility::Real, expected_value::Real, beta::Real = beta)\n",
    "    utility + beta*expected_value\n",
    "end"
   ]
  },
  {
   "cell_type": "markdown",
   "metadata": {
    "collapsed": true
   },
   "source": [
    "## Expected values\n",
    "* expected values are dot product of transition matrix and state-dependent values "
   ]
  },
  {
   "cell_type": "code",
   "execution_count": 163,
   "metadata": {},
   "outputs": [
    {
     "name": "stderr",
     "output_type": "stream",
     "text": [
      "WARNING: Method definition interpolate_vector(Real, Any, Any) in module Main at In[139]:2 overwritten at In[163]:2.\n",
      "WARNING: Method definition interpolate_vector(Real, Any, Any, Any) in module Main at In[139]:2 overwritten at In[163]:2.\n"
     ]
    },
    {
     "data": {
      "text/plain": [
       "interpolate_vector (generic function with 2 methods)"
      ]
     },
     "execution_count": 163,
     "metadata": {},
     "output_type": "execute_result"
    }
   ],
   "source": [
    "function interpolate_vector(current_value::Real, grid, trans_mat, num_grid = num_grid)\n",
    "    itp = interpolate((grid, grid), trans_mat, Gridded(Linear()))\n",
    "    vec = itp[current_value, grid]\n",
    "    for i in 1:num_grid\n",
    "        if vec[i] < 0\n",
    "            vec[i] = 0\n",
    "        end\n",
    "    end\n",
    "    return vec\n",
    "end"
   ]
  },
  {
   "cell_type": "code",
   "execution_count": 164,
   "metadata": {},
   "outputs": [
    {
     "name": "stderr",
     "output_type": "stream",
     "text": [
      "WARNING: Method definition gen_prob_vec(Any, Any, Any) in module Main at In[140]:15 overwritten at In[164]:15.\n",
      "WARNING: Method definition gen_prob_vec(Any, Any, Any, Any) in module Main at In[140]:15 overwritten at In[164]:15.\n",
      "WARNING: Method definition gen_prob_vec(Any, Any, Any, Any, Any) in module Main at In[140]:15 overwritten at In[164]:15.\n",
      "WARNING: Method definition gen_prob_vec(Any, Any, Any, Any, Any, Any) in module Main at In[140]:15 overwritten at In[164]:15.\n",
      "WARNING: Method definition gen_prob_vec(Any, Any, Any, Any, Any, Any, Any) in module Main at In[140]:15 overwritten at In[164]:15.\n",
      "WARNING: Method definition gen_prob_vec(Any, Any, Any, Any, Any, Any, Any, Any) in module Main at In[140]:15 overwritten at In[164]:15.\n",
      "\u001b[1m\u001b[31mWARNING: replacing docs for 'gen_prob_vec :: Union{Tuple{Any,Any,Any,Any,Any,Any,Any,Any},Tuple{Any,Any,Any,Any,Any,Any,Any},Tuple{Any,Any,Any,Any,Any,Any},Tuple{Any,Any,Any,Any,Any},Tuple{Any,Any,Any,Any},Tuple{Any,Any,Any}}' in module 'Main'.\u001b[0m\n"
     ]
    },
    {
     "data": {
      "text/plain": [
       "gen_prob_vec"
      ]
     },
     "execution_count": 164,
     "metadata": {},
     "output_type": "execute_result"
    }
   ],
   "source": [
    "\"gen_prob_vec\n",
    "return probability vector for arbitrary wage, hour at home, current_average_wage\n",
    "\n",
    "**Args**\n",
    "current_wage\n",
    "current_hour_home\n",
    "current_average_wage\n",
    "\n",
    "**return**\n",
    "vector of probability\n",
    "\"\n",
    "function gen_prob_vec(current_wage, current_hour_home, current_average_wage, wage_grid = wage_grid, \n",
    "        hour_home_grid = hour_home_grid, wage_trans_mat = wage_trans_mat, average_wage_trans_mat = average_wage_trans_mat,\n",
    "        hour_home_trans_mat= hour_home_trans_mat)\n",
    "    average_wage_prob_vector = interpolate_vector(current_average_wage, wage_grid, average_wage_trans_mat)\n",
    "    wage_prob_vector = interpolate_vector(current_wage, wage_grid, wage_trans_mat)\n",
    "    hour_home_prob_vector = interpolate_vector(current_hour_home, hour_home_grid, hour_home_trans_mat)\n",
    "    return kron(kron(wage_prob_vector, hour_home_prob_vector), average_wage_prob_vector)\n",
    "end"
   ]
  },
  {
   "cell_type": "code",
   "execution_count": 165,
   "metadata": {},
   "outputs": [
    {
     "data": {
      "text/plain": [
       "1×729 Array{Float64,2}:\n",
       " 7.29351e-161  5.28204e-126  …  0.0  0.0  0.0  0.0  0.0  0.0  0.0"
      ]
     },
     "execution_count": 165,
     "metadata": {},
     "output_type": "execute_result"
    }
   ],
   "source": [
    "gen_prob_vec(1,1,1)"
   ]
  },
  {
   "cell_type": "code",
   "execution_count": 166,
   "metadata": {},
   "outputs": [
    {
     "name": "stderr",
     "output_type": "stream",
     "text": [
      "WARNING: Method definition get_new_value(Any, Any, Any, Any, Any) in module Main at In[142]:8 overwritten at In[166]:8.\n",
      "WARNING: Method definition get_new_value(Any, Any, Any, Any, Any, Any) in module Main at In[142]:8 overwritten at In[166]:8.\n",
      "WARNING: Method definition get_new_value(Any, Any, Any, Any, Any, Any, Any) in module Main at In[142]:8 overwritten at In[166]:8.\n",
      "\u001b[1m\u001b[31mWARNING: replacing docs for 'get_new_value :: Union{Tuple{Any,Any,Any,Any,Any,Any,Any},Tuple{Any,Any,Any,Any,Any,Any},Tuple{Any,Any,Any,Any,Any}}' in module 'Main'.\u001b[0m\n"
     ]
    },
    {
     "data": {
      "text/plain": [
       "get_new_value"
      ]
     },
     "execution_count": 166,
     "metadata": {},
     "output_type": "execute_result"
    }
   ],
   "source": [
    "\"get_new_value(new_asset, current_wage, current_hour_home, current_average_wage, max_value_mat): \n",
    "\n",
    "\n",
    "get vector of maximized value for next period given choice asset and states current wage, current hour at home. \n",
    "max_value_mat should be asset_grid x wage, relative_hour_home x average_wage\"\n",
    "function get_new_value(new_asset, current_wage, current_hour_home, current_average_wage, \n",
    "        max_value_mat, asset_grid = asset_grid, num_grid = num_grid)\n",
    "    v_new = zeros(num_grid^3, 1)\n",
    "    for i in 1:num_grid^3\n",
    "        knots = (asset_grid, )\n",
    "        itp = interpolate(knots, max_value_mat[:,i], Gridded(Linear()))\n",
    "        v_new[i] = itp[new_asset]\n",
    "    end\n",
    "    return v_new\n",
    "end"
   ]
  },
  {
   "cell_type": "markdown",
   "metadata": {},
   "source": [
    "## Grid Search"
   ]
  },
  {
   "cell_type": "code",
   "execution_count": null,
   "metadata": {
    "collapsed": true
   },
   "outputs": [],
   "source": []
  },
  {
   "cell_type": "code",
   "execution_count": 167,
   "metadata": {},
   "outputs": [
    {
     "name": "stderr",
     "output_type": "stream",
     "text": [
      "WARNING: Method definition generate_max_values_matrix(Any, Function) in module Main at In[145]:9 overwritten at In[167]:9.\n",
      "WARNING: Method definition generate_max_values_matrix(Any, Function, Any) in module Main at In[145]:9 overwritten at In[167]:9.\n",
      "WARNING: Method definition generate_max_values_matrix(Any, Function, Any, Any) in module Main at In[145]:9 overwritten at In[167]:9.\n",
      "WARNING: Method definition generate_max_values_matrix(Any, Function, Any, Any, Any) in module Main at In[145]:9 overwritten at In[167]:9.\n",
      "WARNING: Method definition generate_max_values_matrix(Any, Function, Any, Any, Any, Any) in module Main at In[145]:9 overwritten at In[167]:9.\n",
      "WARNING: Method definition generate_max_values_matrix(Any, Function, Any, Any, Any, Any, Any) in module Main at In[145]:9 overwritten at In[167]:9.\n",
      "WARNING: Method definition generate_max_values_matrix(Any, Function, Any, Any, Any, Any, Any, Any) in module Main at In[145]:9 overwritten at In[167]:9.\n",
      "\u001b[1m\u001b[31mWARNING: replacing docs for 'generate_max_values_matrix :: Union{Tuple{Any,Function,Any,Any,Any,Any,Any,Any},Tuple{Any,Function,Any,Any,Any,Any,Any},Tuple{Any,Function,Any,Any,Any,Any},Tuple{Any,Function,Any,Any,Any},Tuple{Any,Function,Any,Any},Tuple{Any,Function,Any},Tuple{Any,Function}}' in module 'Main'.\u001b[0m\n"
     ]
    },
    {
     "data": {
      "text/plain": [
       "generate_max_values_matrix"
      ]
     },
     "execution_count": 167,
     "metadata": {},
     "output_type": "execute_result"
    }
   ],
   "source": [
    "\"generate_max_values_matrix(value_function, asset_grid, leisure_grid, wage_grid, hour_home_grid, num_grid):\n",
    "\n",
    "maximize value with respect to leisure and consumption\n",
    "\"\n",
    "\n",
    "function generate_max_values_matrix(age, value_function::Function, new_max_value_mat = zeros(num_grid, num_grid^3), asset_grid = asset_grid, leisure_grid = leisure_grid, \n",
    "        wage_grid = wage_grid, hour_home_grid = hour_home_grid, num_grid = num_grid)\n",
    "    # initializing matrices\n",
    "    value_matrix = zeros(num_grid^2, num_grid^4);\n",
    "    consumption_mat = zeros(num_grid^2, num_grid^4);\n",
    "    leisure_mat = zeros(num_grid^2, num_grid^4);\n",
    "    income_mat = zeros(num_grid^2, num_grid^4);\n",
    "    new_asset_mat = ones(num_grid^2, num_grid^4);\n",
    "    wage_mat = zeros(num_grid^2, num_grid^4);\n",
    "    asset_mat = zeros(num_grid^2, num_grid^4);\n",
    "    hour_home_mat = zeros(num_grid^2, num_grid^4); # relative hour home (not real one)\n",
    "    average_wage_mat = zeros(num_grid^2, num_grid^4);\n",
    "    for new_asset_ind = 1:num_grid\n",
    "        for leisure_ind = 1:num_grid\n",
    "            for asset_ind = 1:num_grid\n",
    "                for wage_ind = 1:num_grid\n",
    "                    for hour_home_ind = 1:num_grid\n",
    "                        for average_wage_ind = 1:num_grid\n",
    "                            new_asset = asset_grid[new_asset_ind]      \n",
    "                            leisure = leisure_grid[leisure_ind]\n",
    "                            wage = wage_grid[wage_ind]\n",
    "                            asset = asset_grid[asset_ind]\n",
    "                            raw_hour_home = hour_home_grid[hour_home_ind]\n",
    "                            hour_home = calc_hour_home(raw_hour_home)\n",
    "                            average_wage = wage_grid[average_wage_ind]\n",
    "                            pension = calc_pension(age, average_wage)\n",
    "                            income = calc_income(leisure, wage, hour_home, pension)\n",
    "                            consumption = calc_consumption(new_asset, income, asset)\n",
    "                            utility = calc_utility(consumption, leisure)\n",
    "                            \n",
    "                            # calc expected_value\n",
    "                            v_new_vec = get_new_value(new_asset, wage, hour_home, average_wage, new_max_value_mat)\n",
    "                            p = gen_prob_vec(wage, hour_home, average_wage)\n",
    "                            expected_value = dot(v_new_vec, p)\n",
    "                            value_matrix[new_asset_ind + (leisure_ind - 1)*num_grid, \n",
    "                                asset_ind + (wage_ind - 1)*num_grid + (hour_home_ind - 1)*num_grid^2 + \n",
    "                                (average_wage_ind - 1)*num_grid^3] = value_function(utility, expected_value)\n",
    "                        end\n",
    "                    end\n",
    "                end\n",
    "            end\n",
    "        end\n",
    "    end\n",
    "    # get max value for each asset, wage, h_H. maximizing with respect to new asset and leisure\n",
    "    #max_value = maximum(value_matrix, 1)\n",
    "    max_value, max_ind = findmax(value_matrix, 1)\n",
    "    # reshape value matrix to asset_grid x (w x h_H)\n",
    "    # this should be fix throughout the imulation\n",
    "    max_values_reshaped = reshape(max_value, num_grid, num_grid^3);\n",
    "    return max_values_reshaped, max_ind\n",
    "end\n",
    "\n"
   ]
  },
  {
   "cell_type": "code",
   "execution_count": 168,
   "metadata": {},
   "outputs": [],
   "source": [
    "age = 3\n",
    "max_value_matrix, max_ind = generate_max_values_matrix(age, value_function);"
   ]
  },
  {
   "cell_type": "code",
   "execution_count": 169,
   "metadata": {},
   "outputs": [
    {
     "data": {
      "text/html": [
       "<script src=\"/home/daisuke_moriwaki/.julia/v0.5/Plots/src/backends/../../deps/plotly-latest.min.js\"></script>    <div id=\"74636431-f945-4b82-83e8-22f89a158134\" style=\"width:600px;height:400px;\"></div>\n",
       "    <script>\n",
       "    PLOT = document.getElementById('74636431-f945-4b82-83e8-22f89a158134');\n",
       "    Plotly.plot(PLOT, [{\"yaxis\":\"y\",\"y\":[0.4482033388156908,0.504889257453546,0.5879685856133906,0.7001099307285347,0.8509814848141799,1.0462825562205684,1.2945373143984675,1.6080373298529498,2.002318213719492,0.4480784835664045,0.5047350531437785,0.5877570892153345,0.6998282139308526,0.8506798785666421,1.0458973938373837,1.2940495077740048,1.6074227272402317,2.001546328309823,0.4478825793817347,0.5044930878182072,0.5874251951694852,0.699386093506277,0.850206582453805,1.0452929631115975,1.2932839874107622,1.6064582157340785,2.000334982173134,0.4475751133608408,0.5041133030517255,0.5869041845824275,0.6986919696378534,0.8494636079337382,1.0443441004795864,1.2920822112015535,1.6049440253223124,1.9984332684620059,0.4470923505849119,0.5035169231911867,0.5860858504164664,0.697601537064737,0.8482966681688712,1.0428537006348848,1.290194485536617,1.6025655120610358,1.9954459865351943,0.44633384451027575,0.5025797384855845,0.5847994128566332,0.695886870773389,0.8464622798288891,1.0405106319605641,1.2872266071560574,1.5988258850198442,1.9907491181839334,0.4451408452324342,0.5011052952778559,0.5827743504411071,0.6931918954167795,0.8435748136549153,1.0368219340769944,1.2825538434082258,1.5929377115076557,1.9833534790886898,0.4432613377844561,0.4987813518723137,0.5795796561487443,0.6896737435546547,0.8390200129507264,1.0310019041425345,1.2751800786635028,1.5836451525973056,1.971681233358823,0.4402923991784935,0.4951077403933365,0.5745222263575999,0.6841081683821852,0.831810465419521,1.021786284548682,1.2635014784666296,1.5689254088925921,1.9531903313703751,0.5189959219412937,0.5601693249731268,0.6310159921638561,0.7348494247694497,0.8750048768923993,1.0635657582841285,1.3076551254568993,1.6179265765293922,2.0097422477384312,0.5188796801184714,0.5600132795476356,0.6308232659687798,0.7345850943098721,0.8746527842265834,1.063188807571228,1.3071737453922982,1.6173169105945855,2.0089741108218195,0.518697307664162,0.5597684364030578,0.6305208551178249,0.7341702895828094,0.874100217392865,1.0625972770289946,1.30641832140873,1.6163601550597786,2.0077686540290203,0.5184111208092619,0.5593841620827652,0.6300461960560756,0.7335191249805397,0.8732326939606436,1.061668699530046,1.305232422746149,1.6148581623043032,2.005876202662903,0.5179618716640665,0.5587808000037836,0.6293008341299722,0.7324963621904181,0.8718698596720249,1.0602102457351743,1.3033697050851145,1.6124988625849925,2.0029035113582614,0.5172562751684165,0.5578328110018731,0.6281295306646756,0.7308885587737457,0.8697268514081494,1.0579176075748662,1.3004413128042183,1.6087895764528688,1.9982296854986616,0.5161471238798779,0.5563417877490615,0.6262867557791361,0.728357614115165,0.8663586423931964,1.0543088214782885,1.2958311387503414,1.6029495063603565,1.9908705832876818,0.5144012897241561,0.5539927592451734,0.6233822664636433,0.724364851031389,0.861961618580373,1.0486161828589637,1.288557203111387,1.5937336963432411,1.9792566438069137,0.5116474792914453,0.5502821480320057,0.6187909475595278,0.718044021205154,0.8550057032235459,1.0396056132710878,1.2770394232110005,1.5791376569513893,1.960859750743523,0.6295682177903943,0.6486466522669337,0.7001056115958216,0.7886505337324822,0.9184226679740706,1.0935904505579064,1.329255856185279,1.6343213570438424,2.0221019339689557,0.6294590087136263,0.6485013719939307,0.699910584354629,0.7884096624732769,0.9180923049395099,1.0931504013796487,1.328784739153997,1.6337197230922615,2.0213399669651793,0.6292876845979191,0.6482734409506364,0.6996045767747104,0.788031706158423,0.9175738775565987,1.0924597974429078,1.3280454379577602,1.632775586120721,2.020144203668295,0.6290188713220451,0.6479157615595165,0.6991243066206069,0.7874384721880673,0.9167600450745299,1.09137555738189,1.326884891871366,1.6312934372927808,2.0182669970634257,0.6285969837298416,0.6473542851745485,0.698370218243241,0.7865069108835276,0.9154817852042135,1.0896722725167596,1.3250621007249717,1.628965392844129,2.0153183190489607,0.6279345814846815,0.6464724231301556,0.6971854114529001,0.7850430032892033,0.9134723353036689,1.0869939178758528,1.3221967370396832,1.6253054568615442,2.010682413581915,0.6268938737440953,0.645086193990865,0.6953219146497446,0.7827398835345899,0.910309133608903,1.0827842942365908,1.317686437591594,1.6195436120377358,2.0033834315391608,0.6252571289708391,0.642904231796853,0.6923860737101333,0.7791098217337333,0.90531893561679,1.077288846863021,1.3105717169803435,1.6104525695043674,1.991865413645744,0.622678796954082,0.6394624900747325,0.687748512142631,0.773371542277693,0.8974190949186195,1.068595269478479,1.2993102107697898,1.5960575250385307,1.9736231275551954,0.7868402886411572,0.7868410898411483,0.8106855212336195,0.8749994787941549,0.9856638691892646,1.1478544700681346,1.3667810376084464,1.6613181812598672,2.0425923059463913,0.7867588356364562,0.7867045991693572,0.8105039483951056,0.8747557316629111,0.9853628257141516,1.1474415788153496,1.3662310594405218,1.66072937415706,2.0418403774011282,0.7866310695620707,0.786490476457775,0.810219077740193,0.8743732801177428,0.984890451870796,1.1467936427292413,1.3653679352565518,1.6598053876175083,2.040660384919529,0.786430637501925,0.7861545107514776,0.8097720462129179,0.8737730333441693,0.9841490217118788,1.1457765061917797,1.3640128404357637,1.6583549247103524,2.0388079794674616,0.7861161621244851,0.7856272311279844,0.8090703070237657,0.8728305656275405,0.982984746433355,1.1441789233389,1.3618840568000634,1.6560767808465857,2.0358983646244426,0.7856226331702832,0.78479935371968,0.8079681464119498,0.8713497814332003,0.9811551390700932,1.1416674913684697,1.3585366205333014,1.6524956186766835,2.031324137501935,0.78484780369512,0.7834986660584082,0.8062356224123153,0.8690207632043946,0.9782766753761745,1.1377140880698844,1.353275387900302,1.6468585982030324,2.0241229222363786,0.7836305996285359,0.7814530449409686,0.8035085827330344,0.8653515178085078,0.9737397853254004,1.1314772852649109,1.3464071190163351,1.6379665443135913,2.0127608400781445,0.7817166215673266,0.7782306180192957,0.7992070571301544,0.8595554437773473,0.9665680223084385,1.1216039798964537,1.3355417930507403,1.6238917934453463,1.9947697595951361,0.9834008079212241,0.983401405519264,0.9834024068675794,1.0132034321628887,1.0935837039570049,1.2318932422794824,1.434600789374894,1.7082175542160196,2.076333225497479,0.9833400555403031,0.983299604683106,0.9832318193666374,1.0129765004879654,1.0932790661862695,1.2315169949255753,1.434084753472594,1.707530185621465,2.075597328084955,0.9832447669008889,0.9831399212772836,0.982964206512335,1.0126204660976623,1.0928010741560048,1.230926617045601,1.4332749560245421,1.706451443787948,2.074442519828701,0.9830953001086202,0.9828894191455245,0.9825443129805105,1.0120617613152814,1.0920508793206465,1.229999969705729,1.4320037279049551,1.7047578317924614,2.072629715779211,0.9828608293246731,0.9824963844564778,0.981885313269476,1.0111847201737911,1.0908729730916833,1.2285448460143773,1.4300070517743153,1.7020972552439355,2.06978246722071,0.9824929577508177,0.9818795666927804,0.980850623233039,1.0098072280570118,1.08902227317328,1.2262581831698915,1.4268682372458263,1.6979135936074616,2.065306692451531,0.9819156552696932,0.9809111765303639,0.9792250098872286,1.007641901038388,1.0861114412894133,1.22266064846914,1.4219272315340734,1.691338048810448,2.0582614839934044,0.9810093649261021,0.9793899018737877,0.9766683707431859,1.0042336176901332,1.0815255791626257,1.2169903947759513,1.4141324087054798,1.6827540129247895,2.0471480999699065,0.9795857975702069,0.9769977916289287,0.9726409471227853,0.9988575250004025,1.0742815838677475,1.208027048677963,1.401792646092117,1.6691744123625925,2.0295573258496984,1.229064398374901,1.2290648441103817,1.2290655909948014,1.2290668424906321,1.2663124825326963,1.3667726056345062,1.5396333454142848,1.7929794050920977,2.1349485632589715,1.2290190852344667,1.2289889151351514,1.228938359221332,1.2288536404080594,1.2660288608990584,1.3663918660915007,1.5391631074485925,1.7923344579040263,2.1340894826402583,1.2289480156599408,1.2288698223748,1.228738785193425,1.228519175001477,1.2655838853113925,1.365794466541459,1.5384252468619715,1.7913223643952212,2.1327412595629864,1.228836545495929,1.2286830171797465,1.228425704950822,1.2279943875759656,1.2648856101007873,1.36485686501526,1.5372671131090279,1.7897335698995858,2.130624565183188,1.2286616986989953,1.228389973087044,1.227934485994185,1.227170762691191,1.2637894747049636,1.363384705216309,1.5354484839616178,1.787238102723357,2.1272993481663645,1.2283874184312567,1.227930203260813,1.227163580558195,1.225877596020905,1.2620678703294785,1.3610716806708891,1.5325905882899318,1.7833151787659292,2.1220705631220316,1.2279570991032542,1.2272086844474743,1.225953276179328,1.223845887080503,1.2593616214702583,1.3574336918602652,1.5280943509566436,1.7771398569989059,2.113852376930008,1.2272818244640458,1.2260759930861371,1.2240519708483042,1.220650572143085,1.2551019125007674,1.3517022323428722,1.5210076072654142,1.767397804086681,2.103123957100919,1.226221798077348,1.2242968033841757,1.221062285888204,1.2156170550417134,1.2483828143767846,1.3426486095716486,1.5098051214774286,1.751975436837653,2.0861520271272807,1.5360974935923841,1.5360978260567741,1.5360983831417436,1.5360993166058772,1.5361008807387475,1.5826508798879833,1.7082070158448355,1.9242502166220894,2.2408848307445886,1.5360636958411071,1.5360411932093783,1.53600348629668,1.5359403009750525,1.5358344184964239,1.5822964065378236,1.7077311634931787,1.9236625081848555,2.2400787688532606,1.5360106884466893,1.535952369695271,1.5358546428914714,1.5356908712211592,1.5354164000552237,1.581740271290748,1.7069845271482318,1.9227403221346038,2.2388138435648077,1.5359275514598854,1.535813053092467,1.5356211717614012,1.5352995801865483,1.5347605151198735,1.5808675594666823,1.705812702736097,1.9212928741875872,2.2368281512170154,1.5357971547930622,1.5355945276962242,1.5352549221211589,1.5346856494825056,1.5337311399328113,1.5794975977292705,1.703972781679262,1.9190199320346504,2.2337092896590134,1.5355926227899208,1.535251729285042,1.5346802968765472,1.533722163626203,1.5321149264019482,1.5773459181736598,1.7010819388718925,1.915448103467995,2.228806377353719,1.5352717806002651,1.5347139115879964,1.533778534949268,1.5322095122731063,1.529575674845514,1.573963619414609,1.6965351415595573,1.9098286579757726,2.2210883941837016,1.5347684222635731,1.5338699461239804,1.5323628851753066,1.529833240541928,1.5255821360729123,1.5686397896003852,1.6893719021748344,1.9009715699400989,2.208912672293468,1.5339785618170427,1.5325451138122468,1.530139234862972,1.5260967003135426,1.5192911925820265,1.5602421889254654,1.6780565876354145,1.8869705834270167,2.189637632812051,1.919830823232382,1.9198310712102935,1.919831486727843,1.9198321829785945,1.9198333496320485,1.919835304502033,1.978013991144191,2.1349353922899916,2.404948494522132,1.9198056143779372,1.919788830419387,1.9197607063896576,1.9197135798870109,1.9196346101964727,1.9195022771426038,1.9775709665611871,2.134340666933151,2.4042139702335885,1.9197660781477814,1.919722581211097,1.919649693812039,1.9195275538077705,1.9193228702231928,1.9189798332254036,1.9768759027832792,2.133407512846315,2.403061412248113,1.9197040708401303,1.9196186757161011,1.9194755744323029,1.919235759093171,1.9188338305045125,1.918160101220581,1.9757851782146614,2.131942954167062,2.4012523763280402,1.9196068187200614,1.9194557045677247,1.9192024590556385,1.9187780163769113,1.9180665333465468,1.9168735771058691,1.9740729853878234,2.129643401158076,2.3984116289233515,1.9194542839870654,1.9192000782833736,1.9187740259361954,1.9180598436023906,1.9168623584218971,1.91485361615469,1.9713837932737934,2.126030394908979,2.393947519391303,1.9192150298037352,1.9187990862843465,1.9181018556281633,1.916932811904177,1.9149718305877605,1.9116800324101708,1.9671565601217134,2.1203477590143627,2.386924276332875,1.9188397255540968,1.9181699836533186,1.917047058567687,1.9151635176807704,1.9120019407714017,1.90668886495387,1.960502780698325,2.1113950658430807,2.375854593007265,1.918250936873712,1.9171828076221784,1.9153912689795785,1.912384375745487,1.907331972843451,1.8988263765171587,1.950007369588954,2.097253064750108,2.358356010366817,2.3994249044509206,2.3994250894122002,2.3994253993376455,2.3994259186559215,2.399426788837555,2.3994282469335153,2.3994306901509233,2.472143034753876,2.6682650796854235,2.3994061017859694,2.3993935831163857,2.3993726063455387,2.3993374566324848,2.3992785574256073,2.3991798602620418,2.3990144689964312,2.4715893378932874,2.6675217855757314,2.3993766129472345,2.3993441703132223,2.399289807376691,2.399198711926048,2.3990460600428105,2.39879024431036,2.398361513002824,2.470720639752143,2.666355519620864,2.399330364282395,2.399266672917147,2.399159945178104,2.3989810956635957,2.39868137188868,2.3981790372412157,2.397337003178748,2.469357440524425,2.664525098524697,2.3992578295770683,2.39914512617768,2.3989562620944,2.3986397531457326,2.398109280147784,2.3972200610493672,2.3957290915848635,2.46721752362294,2.6616510925875994,2.399144066707778,2.398954486637504,2.398636777631102,2.3981042928523117,2.397211700135595,2.3957150703536865,2.3932045227909673,2.463856542566396,2.6571355187477685,2.3989656367279344,2.3986554642011084,2.398135613543373,2.3972642072145915,2.395803123869118,2.3933522684533495,2.389238143895597,2.4585733013759987,2.650033299648808,2.3986857676690474,2.3981864049372152,2.397349354348845,2.39594591057068,2.393591841031682,2.3896404684072583,2.3830001294439156,2.4502573367114597,2.6388441280025186,2.3982467591262573,2.3974505305492317,2.3961155711903923,2.393876487040014,2.3901184397268054,2.3838038925603255,2.3731735073311953,2.4371400596916435,2.6211693038324175],\"showlegend\":true,\"name\":\"y1\",\"type\":\"scatter\",\"xaxis\":\"x\",\"line\":{\"width\":1,\"dash\":\"solid\",\"color\":\"rgba(0, 154, 250, 1.000)\",\"shape\":\"linear\"},\"colorbar\":{\"title\":\"\"},\"x\":[1,2,3,4,5,6,7,8,9,10,11,12,13,14,15,16,17,18,19,20,21,22,23,24,25,26,27,28,29,30,31,32,33,34,35,36,37,38,39,40,41,42,43,44,45,46,47,48,49,50,51,52,53,54,55,56,57,58,59,60,61,62,63,64,65,66,67,68,69,70,71,72,73,74,75,76,77,78,79,80,81,82,83,84,85,86,87,88,89,90,91,92,93,94,95,96,97,98,99,100,101,102,103,104,105,106,107,108,109,110,111,112,113,114,115,116,117,118,119,120,121,122,123,124,125,126,127,128,129,130,131,132,133,134,135,136,137,138,139,140,141,142,143,144,145,146,147,148,149,150,151,152,153,154,155,156,157,158,159,160,161,162,163,164,165,166,167,168,169,170,171,172,173,174,175,176,177,178,179,180,181,182,183,184,185,186,187,188,189,190,191,192,193,194,195,196,197,198,199,200,201,202,203,204,205,206,207,208,209,210,211,212,213,214,215,216,217,218,219,220,221,222,223,224,225,226,227,228,229,230,231,232,233,234,235,236,237,238,239,240,241,242,243,244,245,246,247,248,249,250,251,252,253,254,255,256,257,258,259,260,261,262,263,264,265,266,267,268,269,270,271,272,273,274,275,276,277,278,279,280,281,282,283,284,285,286,287,288,289,290,291,292,293,294,295,296,297,298,299,300,301,302,303,304,305,306,307,308,309,310,311,312,313,314,315,316,317,318,319,320,321,322,323,324,325,326,327,328,329,330,331,332,333,334,335,336,337,338,339,340,341,342,343,344,345,346,347,348,349,350,351,352,353,354,355,356,357,358,359,360,361,362,363,364,365,366,367,368,369,370,371,372,373,374,375,376,377,378,379,380,381,382,383,384,385,386,387,388,389,390,391,392,393,394,395,396,397,398,399,400,401,402,403,404,405,406,407,408,409,410,411,412,413,414,415,416,417,418,419,420,421,422,423,424,425,426,427,428,429,430,431,432,433,434,435,436,437,438,439,440,441,442,443,444,445,446,447,448,449,450,451,452,453,454,455,456,457,458,459,460,461,462,463,464,465,466,467,468,469,470,471,472,473,474,475,476,477,478,479,480,481,482,483,484,485,486,487,488,489,490,491,492,493,494,495,496,497,498,499,500,501,502,503,504,505,506,507,508,509,510,511,512,513,514,515,516,517,518,519,520,521,522,523,524,525,526,527,528,529,530,531,532,533,534,535,536,537,538,539,540,541,542,543,544,545,546,547,548,549,550,551,552,553,554,555,556,557,558,559,560,561,562,563,564,565,566,567,568,569,570,571,572,573,574,575,576,577,578,579,580,581,582,583,584,585,586,587,588,589,590,591,592,593,594,595,596,597,598,599,600,601,602,603,604,605,606,607,608,609,610,611,612,613,614,615,616,617,618,619,620,621,622,623,624,625,626,627,628,629,630,631,632,633,634,635,636,637,638,639,640,641,642,643,644,645,646,647,648,649,650,651,652,653,654,655,656,657,658,659,660,661,662,663,664,665,666,667,668,669,670,671,672,673,674,675,676,677,678,679,680,681,682,683,684,685,686,687,688,689,690,691,692,693,694,695,696,697,698,699,700,701,702,703,704,705,706,707,708,709,710,711,712,713,714,715,716,717,718,719,720,721,722,723,724,725,726,727,728,729],\"mode\":\"lines\"}], {\"yaxis\":{\"type\":\"-\",\"titlefont\":{\"size\":15,\"color\":\"rgba(0, 0, 0, 1.000)\",\"family\":\"sans-serif\"},\"title\":\"\",\"tickfont\":{\"size\":11,\"color\":\"rgba(0, 0, 0, 1.000)\",\"family\":\"sans-serif\"},\"ticks\":\"inside\",\"tickmode\":\"array\",\"showgrid\":true,\"tickvals\":[0.5,1.0,1.5,2.0,2.5],\"domain\":[0.03762029746281716,0.9901574803149606],\"ticktext\":[\"0.5\",\"1.0\",\"1.5\",\"2.0\",\"2.5\"],\"tickangle\":0,\"zeroline\":false,\"linecolor\":\"rgba(0, 0, 0, 1.000)\",\"tickcolor\":\"rgba(0, 0, 0, 1.000)\",\"anchor\":\"x\"},\"annotations\":[],\"width\":600,\"plot_bgcolor\":\"rgba(255, 255, 255, 1.000)\",\"showlegend\":true,\"legend\":{\"bgcolor\":\"rgba(255, 255, 255, 1.000)\",\"y\":1.0,\"font\":{\"size\":11,\"color\":\"rgba(0, 0, 0, 1.000)\",\"family\":\"sans-serif\"},\"bordercolor\":\"rgba(0, 0, 0, 1.000)\",\"x\":1.0},\"xaxis\":{\"type\":\"-\",\"titlefont\":{\"size\":15,\"color\":\"rgba(0, 0, 0, 1.000)\",\"family\":\"sans-serif\"},\"title\":\"\",\"tickfont\":{\"size\":11,\"color\":\"rgba(0, 0, 0, 1.000)\",\"family\":\"sans-serif\"},\"ticks\":\"inside\",\"tickmode\":\"array\",\"showgrid\":true,\"tickvals\":[100.0,200.0,300.0,400.0,500.0,600.0,700.0],\"domain\":[0.05100612423447069,0.9934383202099737],\"ticktext\":[\"100\",\"200\",\"300\",\"400\",\"500\",\"600\",\"700\"],\"tickangle\":0,\"zeroline\":false,\"linecolor\":\"rgba(0, 0, 0, 1.000)\",\"tickcolor\":\"rgba(0, 0, 0, 1.000)\",\"anchor\":\"y\"},\"paper_bgcolor\":\"rgba(255, 255, 255, 1.000)\",\"height\":400,\"margin\":{\"r\":0,\"l\":0,\"b\":20,\"t\":20}});\n",
       "    </script>\n"
      ]
     },
     "execution_count": 169,
     "metadata": {},
     "output_type": "execute_result"
    }
   ],
   "source": [
    "plot(max_value_matrix[1,:])"
   ]
  },
  {
   "cell_type": "code",
   "execution_count": null,
   "metadata": {
    "collapsed": true
   },
   "outputs": [],
   "source": [
    "age = 2;\n",
    "max_value_matrix, max_ind = generate_max_values_matrix(age, value_function, max_value_matrix);"
   ]
  },
  {
   "cell_type": "code",
   "execution_count": null,
   "metadata": {
    "collapsed": true
   },
   "outputs": [],
   "source": []
  },
  {
   "cell_type": "code",
   "execution_count": null,
   "metadata": {
    "collapsed": true
   },
   "outputs": [],
   "source": []
  },
  {
   "cell_type": "code",
   "execution_count": null,
   "metadata": {
    "collapsed": true
   },
   "outputs": [],
   "source": []
  },
  {
   "cell_type": "code",
   "execution_count": null,
   "metadata": {
    "collapsed": true
   },
   "outputs": [],
   "source": []
  },
  {
   "cell_type": "code",
   "execution_count": null,
   "metadata": {
    "collapsed": true
   },
   "outputs": [],
   "source": []
  },
  {
   "cell_type": "code",
   "execution_count": null,
   "metadata": {
    "collapsed": true
   },
   "outputs": [],
   "source": []
  },
  {
   "cell_type": "code",
   "execution_count": null,
   "metadata": {
    "collapsed": true
   },
   "outputs": [],
   "source": []
  },
  {
   "cell_type": "code",
   "execution_count": null,
   "metadata": {
    "collapsed": true
   },
   "outputs": [],
   "source": []
  },
  {
   "cell_type": "code",
   "execution_count": null,
   "metadata": {
    "collapsed": true
   },
   "outputs": [],
   "source": []
  },
  {
   "cell_type": "code",
   "execution_count": null,
   "metadata": {
    "collapsed": true
   },
   "outputs": [],
   "source": []
  }
 ],
 "metadata": {
  "celltoolbar": "Slideshow",
  "kernelspec": {
   "display_name": "Julia 0.5.2",
   "language": "julia",
   "name": "julia-0.5"
  },
  "language_info": {
   "file_extension": ".jl",
   "mimetype": "application/julia",
   "name": "julia",
   "version": "0.5.2"
  }
 },
 "nbformat": 4,
 "nbformat_minor": 2
}
