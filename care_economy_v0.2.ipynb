{
 "cells": [
  {
   "cell_type": "markdown",
   "metadata": {
    "slideshow": {
     "slide_type": "slide"
    }
   },
   "source": [
    "# Effect of Informal Care on Labor Supply: A Macroeconomic Perspective\n",
    "\n",
    "## 2018.3.12 ICES, Hosei University\n",
    "\n",
    "### Daisuke Moriwaki\n",
    "\n",
    "Cyberagent, Inc., AI Lab        \n",
    "Keio University, School of Medicine\n",
    "<daisuke.moriwaki@gmail.com>   \n",
    "github [daimoriwaki/care_economy](https://github.com/daimoriwaki/care_economy)"
   ]
  },
  {
   "cell_type": "code",
   "execution_count": 1,
   "metadata": {
    "collapsed": true
   },
   "outputs": [],
   "source": [
    "#work_space()"
   ]
  },
  {
   "cell_type": "code",
   "execution_count": 2,
   "metadata": {
    "collapsed": true
   },
   "outputs": [],
   "source": [
    "using QuantEcon\n",
    "using Plots\n",
    "using Interpolations\n",
    "using Distributions\n",
    "\n",
    "#using BenchmarkTools\n",
    "#using ParallelAccelerator"
   ]
  },
  {
   "cell_type": "markdown",
   "metadata": {
    "slideshow": {
     "slide_type": "slide"
    }
   },
   "source": [
    "# Motivation\n",
    "* In 2017, it is reported taht there is 6 million care revievers in Japan by MLHW. The number is expected to increase as the baby boomers, or Dankai generations become \"late elderly\".\n",
    "* It is unclear whether the Japanese LTCI system is sustanable in the sense of financially, which has been pointed out by several researchers.\n",
    "* More importantly, the impact of care needs on economy itself (oppose to accountant's view) should be studied.\n"
   ]
  },
  {
   "cell_type": "markdown",
   "metadata": {
    "slideshow": {
     "slide_type": "slide"
    }
   },
   "source": [
    "* It is easy to predict that \"caregiver ratio\" (the number of caregivers per one care receiver) explodes in the near future.\n",
    "* Aside from the financial sustainability, the explosion of caregiver ratio cause several problems\n",
    "    * insufficient care for elderly (insufficient availability of cheap nursing home, *tokuyou*)\n",
    "    * Poverty due to care-leave for frail older family\n",
    "    * *Economy itself* due to less labor supply\n",
    "* Such a wide range of problem should be tackled by macroeconomic model rather than causal analysis."
   ]
  },
  {
   "cell_type": "markdown",
   "metadata": {},
   "source": [
    "# Summary of Results\n",
    "* ..."
   ]
  },
  {
   "cell_type": "markdown",
   "metadata": {},
   "source": [
    "# Literature\n",
    "\n",
    "* Briefly survery several work in the labor and macro fields.\n"
   ]
  },
  {
   "cell_type": "markdown",
   "metadata": {
    "slideshow": {
     "slide_type": "slide"
    }
   },
   "source": [
    "\n",
    "## Labor supply and informal care (causal studies)\n",
    "\n",
    "* moriwaki (2015, mimeo) finds negative effect from informal care only for male.\n",
    "* Nishimura\n",
    "* "
   ]
  },
  {
   "cell_type": "markdown",
   "metadata": {},
   "source": [
    "## Care and Macro economy\n",
    "* \n"
   ]
  },
  {
   "cell_type": "markdown",
   "metadata": {},
   "source": [
    "\n",
    "\n",
    "## Sustainability due to aging population in Japan\n",
    "* Kitao\n"
   ]
  },
  {
   "cell_type": "markdown",
   "metadata": {},
   "source": [
    "\n",
    "\n",
    "## Complex heterogeneous agent model concerned with social security programs\n",
    "* Li (EER, 2018)"
   ]
  },
  {
   "cell_type": "markdown",
   "metadata": {
    "slideshow": {
     "slide_type": "slide"
    }
   },
   "source": [
    "# Set up *\"Care Economy\"*"
   ]
  },
  {
   "cell_type": "markdown",
   "metadata": {},
   "source": [
    "# Demography\n",
    "* 3 periods: young, middle, and old\n",
    "    * young: work in the market and consume goods and leisure.Save for the future 22-44\n",
    "    * middle: work both in the market and home. consume goods and leisure. Save for the future. No mortality risk. 45-64\n",
    "    * old: no work in both market and home. Those with bad health receive care either in public nursing home or at home. Mortality risk is present. 65+\n",
    "* Consider 3 states: now (old is less than middle and young), 10 years later (old is more than middle and young), 20 years later (old is much more than young and middle)"
   ]
  },
  {
   "cell_type": "markdown",
   "metadata": {
    "slideshow": {
     "slide_type": "slide"
    }
   },
   "source": [
    "## Household\n",
    "\n",
    "* The model economy is populated by many households. \n",
    "    * You may imagine either single households without gender and unknown re-production technique or many households with couples and kids where income, assets, health, and time endowment is shared. \n",
    "    * More realistic modelling is listed as future study\n",
    "* wage rate is exogenous to the agent. Given wage rate, labor supply is endogeneous.\n",
    "* No negative saving is allowed (consider whether we can borrow without collateral)."
   ]
  },
  {
   "cell_type": "markdown",
   "metadata": {
    "slideshow": {
     "slide_type": "slide"
    }
   },
   "source": [
    "## Care in detail\n",
    "* In this economy, every middle-aged households face the risk of becoming care giver.\n",
    "* In the beginning of the period, the health status of all households is assigned. \n",
    "* Then the total *care needs* is determined. \n",
    "* The government determine how much care to provide, which is sometimes insufficient. That deliniates reality in Japan (there are 360,000 people on the waiting list).\n",
    "* Unmet care needs is distributed to potential care givers (*middle*). No state dependency. Imagine that you might become a informal care giver for your uncle, spouse's siblings and so on as well as your own genetic parents and spouse. Unexpectable.\n",
    "* This scenario totally igonres the positive utility from care-giving. But there are lots of tragedies associated with informal care."
   ]
  },
  {
   "cell_type": "markdown",
   "metadata": {
    "slideshow": {
     "slide_type": "slide"
    }
   },
   "source": [
    "## Preference\n",
    "* simple and general utility function. e.g. Yue (2018, EER)"
   ]
  },
  {
   "cell_type": "code",
   "execution_count": 3,
   "metadata": {},
   "outputs": [
    {
     "data": {
      "text/plain": [
       "calc_utility (generic function with 3 methods)"
      ]
     },
     "execution_count": 3,
     "metadata": {},
     "output_type": "execute_result"
    }
   ],
   "source": [
    "function calc_utility(c::Real, l::Real,chi::Real = 0.4, sigma::Real = 0.28) # chi = 0.4\n",
    "    if c <= 0 || l <= 0\n",
    "        return -1000\n",
    "    else\n",
    "        return ((c^(1-chi)*(l^chi))^(1-sigma))/(1 - sigma)\n",
    "    end\n",
    "end"
   ]
  },
  {
   "cell_type": "markdown",
   "metadata": {
    "slideshow": {
     "slide_type": "slide"
    }
   },
   "source": [
    "## consumption\n",
    "* consumption is deterimined by assets, income and saving\n",
    "* there is a social assistence for the poor"
   ]
  },
  {
   "cell_type": "code",
   "execution_count": 4,
   "metadata": {
    "slideshow": {
     "slide_type": "subslide"
    }
   },
   "outputs": [
    {
     "data": {
      "text/plain": [
       "calc_consumption (generic function with 2 methods)"
      ]
     },
     "execution_count": 4,
     "metadata": {},
     "output_type": "execute_result"
    }
   ],
   "source": [
    "function calc_consumption(new_asset::Real, income::Real, asset::Real, r::Real=r)\n",
    "    (1 + r)*asset + income - new_asset # allow negative consumption\n",
    "end"
   ]
  },
  {
   "cell_type": "markdown",
   "metadata": {
    "slideshow": {
     "slide_type": "slide"
    }
   },
   "source": [
    "## income\n",
    "* income is determined by hourking hour in market and tax\n"
   ]
  },
  {
   "cell_type": "code",
   "execution_count": 5,
   "metadata": {
    "slideshow": {
     "slide_type": "subslide"
    }
   },
   "outputs": [
    {
     "data": {
      "text/plain": [
       "calc_income (generic function with 2 methods)"
      ]
     },
     "execution_count": 5,
     "metadata": {},
     "output_type": "execute_result"
    }
   ],
   "source": [
    "function calc_income(wage, hour_mkt, pension, tau = tau)\n",
    "    max((1 - tau)*(wage*hour_mkt + pension), 0)\n",
    "end"
   ]
  },
  {
   "cell_type": "markdown",
   "metadata": {
    "slideshow": {
     "slide_type": "slide"
    }
   },
   "source": [
    "## pension\n",
    "* pension is taken up by old.\n",
    "* the level of benefit is determined by wage history and replacement rate"
   ]
  },
  {
   "cell_type": "code",
   "execution_count": 51,
   "metadata": {
    "slideshow": {
     "slide_type": "subslide"
    }
   },
   "outputs": [
    {
     "data": {
      "text/plain": [
       "calc_average_income (generic function with 2 methods)"
      ]
     },
     "execution_count": 51,
     "metadata": {},
     "output_type": "execute_result"
    }
   ],
   "source": [
    "function calc_average_income(age, last_average_income, current_wage, current_hour_mkt)\n",
    "    if age == 1\n",
    "        return 0\n",
    "    else\n",
    "        return (last_average_income*(age - 1) + current_wage*current_hour_mkt)/age\n",
    "    end\n",
    "end"
   ]
  },
  {
   "cell_type": "code",
   "execution_count": 52,
   "metadata": {
    "slideshow": {
     "slide_type": "subslide"
    }
   },
   "outputs": [
    {
     "name": "stderr",
     "output_type": "stream",
     "text": [
      "WARNING: Method definition calc_pension(Any, Any) in module Main at In[7]:2 overwritten at In[52]:2.\n",
      "WARNING: Method definition calc_pension(Any, Any, Any) in module Main at In[7]:2 overwritten at In[52]:2.\n",
      "WARNING: Method definition calc_pension(Any, Any, Any, Any) in module Main at In[7]:2 overwritten at In[52]:2.\n"
     ]
    },
    {
     "data": {
      "text/plain": [
       "calc_pension (generic function with 3 methods)"
      ]
     },
     "execution_count": 52,
     "metadata": {},
     "output_type": "execute_result"
    }
   ],
   "source": [
    "function calc_pension(age, average_income, rep_rate = rep_rate, retirement_age = retirement_age)\n",
    "    if age >= retirement_age\n",
    "        return rep_rate*average_income\n",
    "    else\n",
    "        return 0\n",
    "    end\n",
    "end"
   ]
  },
  {
   "cell_type": "markdown",
   "metadata": {
    "slideshow": {
     "slide_type": "slide"
    }
   },
   "source": [
    "## wage\n",
    "* wage evolves according to $w_{i,t} = \\mu + \\rho w_{i, t-1} + \\epsilon_{t}$. \n",
    "* need to be complicated when finer horizon is embedded.\n",
    "* use tauchen method to generate transition matrix"
   ]
  },
  {
   "cell_type": "markdown",
   "metadata": {
    "slideshow": {
     "slide_type": "slide"
    }
   },
   "source": [
    "## Informal care\n",
    "* Middle-aged household is assigned care needs randomly.\n",
    "* The level of care is represented as required hour for care at home.\n",
    "* Once all the household draw the raw hour at home $h^H$, they are sum up as $\\sum_i h^H_i$\n",
    "* The total demand for care $D^H = \\sum_i I (h_i \\in (0,  0.1)$\n",
    "* The unmet care needs $D^{H, unmet} = D^H - NH$ is distributed out to proportionaly to $h^H$\n",
    "* Numerical excercise is done without empirical studies, which should be done in the future."
   ]
  },
  {
   "cell_type": "code",
   "execution_count": 53,
   "metadata": {},
   "outputs": [
    {
     "name": "stderr",
     "output_type": "stream",
     "text": [
      "WARNING: Method definition calc_hour_home(Any, Real) in module Main at In[8]:7 overwritten at In[53]:7.\n",
      "WARNING: Method definition calc_hour_home(Any, Real, Real) in module Main at In[8]:7 overwritten at In[53]:7.\n",
      "WARNING: Method definition calc_hour_home(Any, Real, Real, Real) in module Main at In[8]:7 overwritten at In[53]:7.\n",
      "WARNING: Method definition calc_hour_home(Any, Real, Real, Real, Real) in module Main at In[8]:7 overwritten at In[53]:7.\n",
      "WARNING: Method definition calc_hour_home(Any, Real, Real, Real, Real, Real) in module Main at In[8]:7 overwritten at In[53]:7.\n",
      "WARNING: Method definition calc_hour_home(Any, Real, Real, Real, Real, Real, Any) in module Main at In[8]:7 overwritten at In[53]:7.\n",
      "WARNING: Method definition calc_hour_home(Any, Real, Real, Real, Real, Real, Any, Any) in module Main at In[8]:7 overwritten at In[53]:7.\n",
      "\u001b[1m\u001b[31mWARNING: replacing docs for 'calc_hour_home :: Union{Tuple{Any,Real,Real,Real,Real,Real,Any,Any},Tuple{Any,Real,Real,Real,Real,Real,Any},Tuple{Any,Real,Real,Real,Real,Real},Tuple{Any,Real,Real,Real,Real},Tuple{Any,Real,Real,Real},Tuple{Any,Real,Real},Tuple{Any,Real}}' in module 'Main'.\u001b[0m\n"
     ]
    },
    {
     "data": {
      "text/plain": [
       "calc_hour_home"
      ]
     },
     "execution_count": 53,
     "metadata": {},
     "output_type": "execute_result"
    }
   ],
   "source": [
    "\" calc_hour_home(relative_hour_home, dep_rate, sick_rate, care_hour,NH_rate)\n",
    "\n",
    "calculate hour at home given relative home hour. relative home hour represent the level of informal care giving \n",
    "\"\n",
    "function calc_hour_home(age, relative_hour_home::Real, dep_rate::Real = dep_rate, sick_rate::Real=sick_rate, care_hour::Real=care_hour,\n",
    "        NH_rate::Real = NH_rate, LTCI_type = LTCI_type, ceiling = ceiling)\n",
    "    if LTCI_type == 1\n",
    "        if age in middle_age\n",
    "            return min(relative_hour_home*(1 - NH_rate)*dep_rate*sick_rate*care_hour, 0.9999)\n",
    "        else\n",
    "            return 0\n",
    "        end\n",
    "    else\n",
    "        if age in middle_age\n",
    "            return min(relative_hour_home*dep_rate*sick_rate*care_hour, ceiling)\n",
    "        else\n",
    "            return 0\n",
    "        end\n",
    "\n",
    "    end\n",
    "end"
   ]
  },
  {
   "cell_type": "markdown",
   "metadata": {},
   "source": [
    "## health status\n",
    "* health status so far only matters how many old need care.\n",
    "* health is not associated with wage, labor.\n",
    "* we do not take health into accont explicitly."
   ]
  },
  {
   "cell_type": "markdown",
   "metadata": {
    "slideshow": {
     "slide_type": "slide"
    }
   },
   "source": [
    "## labor supply\n",
    "* labor supply is endogeneous\n",
    "* young and middle household optimizes labor supply as well as consumption (saving) for given time endowment\n",
    "* time endowment is varying across agent due to informal care\n",
    "* From the first order condition $l = c(1 - \\tau)w \\frac{\\chi}{1 - \\chi}$"
   ]
  },
  {
   "cell_type": "code",
   "execution_count": 54,
   "metadata": {},
   "outputs": [
    {
     "name": "stderr",
     "output_type": "stream",
     "text": [
      "WARNING: Method definition calc_hour_mkt(Real, Real, Real) in module Main at In[9]:13 overwritten at In[54]:13.\n",
      "WARNING: Method definition calc_hour_mkt(Real, Real, Real, Int64) in module Main at In[9]:13 overwritten at In[54]:13.\n",
      "\u001b[1m\u001b[31mWARNING: replacing docs for 'calc_hour_mkt :: Union{Tuple{Real,Real,Real,Int64},Tuple{Real,Real,Real}}' in module 'Main'.\u001b[0m\n"
     ]
    },
    {
     "data": {
      "text/plain": [
       "calc_hour_mkt"
      ]
     },
     "execution_count": 54,
     "metadata": {},
     "output_type": "execute_result"
    }
   ],
   "source": [
    "\"calc_hour_mkt(age, leisure, hour_home, retirement_age)\n",
    "\n",
    "calculate hour in the market.\n",
    "\n",
    "**Argments**: \n",
    "\n",
    "        age, leisure, hour at homt\n",
    "\n",
    "**Return**\n",
    "\n",
    "        working hour at market\"\n",
    "function calc_hour_mkt(age::Real, leisure::Real, hour_home::Real, retirement_age::Int=retirement_age)\n",
    "    if leisure + hour_home >= 1 || age >= retirement_age\n",
    "        return 0\n",
    "    else\n",
    "        return 1 - leisure - hour_home\n",
    "    end\n",
    "end"
   ]
  },
  {
   "cell_type": "markdown",
   "metadata": {
    "slideshow": {
     "slide_type": "slide"
    }
   },
   "source": [
    "## Government\n",
    "* government provide insufficient formal care funded by social security premium contributed by working age, which is resemble to Japanese LTCI\n",
    "* cost of formal care is determined by personnel expenses of informal care worker.\n",
    "* The government chooses one of two LTCI system\n",
    "\\begin{eqnarray}\n",
    "LTCI \\, (type 1) &=& w^{care} \\phi N^{old} sick rate \\, d^H  NH rate \\\\\n",
    "LTCI \\, (type 2) &=& w^{care} \\phi \\sum_i(care_i - \\bar{care}) \\mathbb{1}[care_i > \\bar{care}]\n",
    "\\end{eqnarray}\n",
    "* __type1__ is *proportional sapplements* where the government provide formal care proportional to the level of required care. $w^{care}$ denotes average wage for worker at nurinsg home. $N^{old}$, $sick rate$, $d^H$, $NH rate$ represents the population of old, the rate of care receivers to the old and required care hour per sick old. Finally, $\\phi$ is a multiplier ly inside $(0, 1)$. This multiplier represents *efficiency* of nurinsg home.   \n",
    "* __type2__ is *ceiling*. The care above the ceiling is given by the government.\n",
    "* $\\phi:$ Usually, typical informal care giver provide care to one care receiver, whereas (formal) care worker can work for multiple care receivers. They also benefit from the division of labor.\n",
    "\n",
    "* On the other hand, the government collect $\\tau\\sum_i w_i h_{M, i}$ from all the young and middle."
   ]
  },
  {
   "cell_type": "markdown",
   "metadata": {
    "slideshow": {
     "slide_type": "slide"
    }
   },
   "source": [
    "# Quantitative Exercise"
   ]
  },
  {
   "cell_type": "markdown",
   "metadata": {
    "slideshow": {
     "slide_type": "slide"
    }
   },
   "source": [
    "## Solution\n",
    "* The model is solved (ideally) by method of simulated moment.\n",
    "* So far no calibration made\n",
    "* Optimization by households is done by backward induction."
   ]
  },
  {
   "cell_type": "markdown",
   "metadata": {},
   "source": [
    "## Value function\n",
    "* value function optimization $v_t = max_{c_t, l_t} (u(c_t, l_t) + \\beta \\mathbb{E}\\left( v_{t+1}(a_{t+1}) \\right))$ "
   ]
  },
  {
   "cell_type": "code",
   "execution_count": 55,
   "metadata": {},
   "outputs": [
    {
     "name": "stderr",
     "output_type": "stream",
     "text": [
      "WARNING: Method definition value_function(Real, Real) in module Main at In[10]:4 overwritten at In[55]:4.\n",
      "WARNING: Method definition value_function(Real, Real, Real) in module Main at In[10]:4 overwritten at In[55]:4.\n",
      "\u001b[1m\u001b[31mWARNING: replacing docs for 'value_function :: Union{Tuple{Real,Real,Real},Tuple{Real,Real}}' in module 'Main'.\u001b[0m\n"
     ]
    },
    {
     "data": {
      "text/plain": [
       "value_function"
      ]
     },
     "execution_count": 55,
     "metadata": {},
     "output_type": "execute_result"
    }
   ],
   "source": [
    "\"value_function(utility, expected_value, beta)\n",
    "calculate instant value for given utility and expected values in the next period\"\n",
    "function value_function(utility::Real, expected_value::Real, beta::Real = beta)\n",
    "    utility + beta*expected_value\n",
    "end"
   ]
  },
  {
   "cell_type": "markdown",
   "metadata": {
    "collapsed": true
   },
   "source": [
    "## Expected values\n",
    "* expected values are dot product of transition matrix and state-dependent values "
   ]
  },
  {
   "cell_type": "code",
   "execution_count": 56,
   "metadata": {},
   "outputs": [
    {
     "name": "stderr",
     "output_type": "stream",
     "text": [
      "WARNING: Method definition interpolate_vector(Real, Any, Any) in module Main at In[11]:2 overwritten at In[56]:2.\n",
      "WARNING: Method definition interpolate_vector(Real, Any, Any, Any) in module Main at In[11]:2 overwritten at In[56]:2.\n"
     ]
    },
    {
     "data": {
      "text/plain": [
       "interpolate_vector (generic function with 2 methods)"
      ]
     },
     "execution_count": 56,
     "metadata": {},
     "output_type": "execute_result"
    }
   ],
   "source": [
    "function interpolate_vector(current_value::Real, grid, trans_mat, num_grid = num_grid)\n",
    "    itp = interpolate((grid, grid), trans_mat, Gridded(Linear()))\n",
    "    vec = itp[current_value, grid]\n",
    "    @parallel for i in 1:num_grid\n",
    "        if vec[i] < 0\n",
    "            vec[i] = 0\n",
    "        end\n",
    "    end\n",
    "    return vec\n",
    "end"
   ]
  },
  {
   "cell_type": "code",
   "execution_count": 57,
   "metadata": {},
   "outputs": [
    {
     "name": "stderr",
     "output_type": "stream",
     "text": [
      "WARNING: Method definition gen_prob_vec(Any, Any) in module Main at In[12]:14 overwritten at In[57]:14.\n",
      "WARNING: Method definition gen_prob_vec(Any, Any, Any) in module Main at In[12]:14 overwritten at In[57]:14.\n",
      "WARNING: Method definition gen_prob_vec(Any, Any, Any, Any) in module Main at In[12]:14 overwritten at In[57]:14.\n",
      "WARNING: Method definition gen_prob_vec(Any, Any, Any, Any, Any) in module Main at In[12]:14 overwritten at In[57]:14.\n",
      "WARNING: Method definition gen_prob_vec(Any, Any, Any, Any, Any, Any) in module Main at In[12]:14 overwritten at In[57]:14.\n",
      "\u001b[1m\u001b[31mWARNING: replacing docs for 'gen_prob_vec :: Union{Tuple{Any,Any,Any,Any,Any,Any},Tuple{Any,Any,Any,Any,Any},Tuple{Any,Any,Any,Any},Tuple{Any,Any,Any},Tuple{Any,Any}}' in module 'Main'.\u001b[0m\n"
     ]
    },
    {
     "data": {
      "text/plain": [
       "gen_prob_vec"
      ]
     },
     "execution_count": 57,
     "metadata": {},
     "output_type": "execute_result"
    }
   ],
   "source": [
    "\"gen_prob_vec\n",
    "return probability vector for arbitrary wage, hour at home, current_average_income\n",
    "\n",
    "**Args**\n",
    "current_wage\n",
    "current_hour_home\n",
    "current_average_wage\n",
    "\n",
    "**return**\n",
    "vector of probability\n",
    "\"\n",
    "function gen_prob_vec(current_wage, current_hour_home, wage_grid = wage_grid, hour_home_grid = hour_home_grid,\n",
    "        wage_trans_mat = wage_trans_mat, hour_home_trans_mat= hour_home_trans_mat)\n",
    "    wage_prob_vector = interpolate_vector(current_wage, wage_grid, wage_trans_mat)\n",
    "    hour_home_prob_vector = interpolate_vector(current_hour_home, hour_home_grid, hour_home_trans_mat)\n",
    "    return kron(wage_prob_vector, hour_home_prob_vector)\n",
    "end"
   ]
  },
  {
   "cell_type": "code",
   "execution_count": 58,
   "metadata": {},
   "outputs": [
    {
     "name": "stderr",
     "output_type": "stream",
     "text": [
      "WARNING: Method definition get_new_value(Any, Any) in module Main at In[13]:7 overwritten at In[58]:7.\n",
      "WARNING: Method definition get_new_value(Any, Any, Any) in module Main at In[13]:7 overwritten at In[58]:7.\n",
      "WARNING: Method definition get_new_value(Any, Any, Any, Any) in module Main at In[13]:7 overwritten at In[58]:7.\n",
      "\u001b[1m\u001b[31mWARNING: replacing docs for 'get_new_value :: Union{Tuple{Any,Any,Any,Any},Tuple{Any,Any,Any},Tuple{Any,Any}}' in module 'Main'.\u001b[0m\n"
     ]
    },
    {
     "data": {
      "text/plain": [
       "get_new_value"
      ]
     },
     "execution_count": 58,
     "metadata": {},
     "output_type": "execute_result"
    }
   ],
   "source": [
    "\"get_new_value(new_asset, max_value_mat, asset_grid = asset_grid, num_grid = num_grid): \n",
    "\n",
    "\n",
    "get vector of maximized value for next period given choice asset and states current wage, current hour at home. \n",
    "max_value_mat should be asset_grid x wage, relative_hour_home\"\n",
    "function get_new_value(new_asset, max_value_mat, asset_grid = asset_grid, num_grid = num_grid)\n",
    "    v_new = zeros(num_grid^2, 1)\n",
    "    for i in 1:num_grid\n",
    "        knots = (asset_grid, )        \n",
    "        itp = interpolate(knots, max_value_mat[:,i], Gridded(Linear()))\n",
    "        v_new[i] = itp[new_asset]\n",
    "    end\n",
    "    return v_new\n",
    "end"
   ]
  },
  {
   "cell_type": "markdown",
   "metadata": {},
   "source": [
    "## Generate Policy Function"
   ]
  },
  {
   "cell_type": "code",
   "execution_count": 64,
   "metadata": {},
   "outputs": [
    {
     "name": "stderr",
     "output_type": "stream",
     "text": [
      "WARNING: Method definition generate_max_values_matrix(Any, Function) in module Main at In[59]:9 overwritten at In[64]:9.\n",
      "WARNING: Method definition generate_max_values_matrix(Any, Function, Any) in module Main at In[59]:9 overwritten at In[64]:9.\n",
      "WARNING: Method definition generate_max_values_matrix(Any, Function, Any, Any) in module Main at In[59]:9 overwritten at In[64]:9.\n",
      "WARNING: Method definition generate_max_values_matrix(Any, Function, Any, Any, Any) in module Main at In[59]:9 overwritten at In[64]:9.\n",
      "WARNING: Method definition generate_max_values_matrix(Any, Function, Any, Any, Any, Any) in module Main at In[59]:9 overwritten at In[64]:9.\n",
      "WARNING: Method definition generate_max_values_matrix(Any, Function, Any, Any, Any, Any, Any) in module Main at In[59]:9 overwritten at In[64]:9.\n",
      "WARNING: Method definition generate_max_values_matrix(Any, Function, Any, Any, Any, Any, Any, Any) in module Main at In[59]:9 overwritten at In[64]:9.\n",
      "\u001b[1m\u001b[31mWARNING: replacing docs for 'generate_max_values_matrix :: Union{Tuple{Any,Function,Any,Any,Any,Any,Any,Any},Tuple{Any,Function,Any,Any,Any,Any,Any},Tuple{Any,Function,Any,Any,Any,Any},Tuple{Any,Function,Any,Any,Any},Tuple{Any,Function,Any,Any},Tuple{Any,Function,Any},Tuple{Any,Function}}' in module 'Main'.\u001b[0m\n"
     ]
    },
    {
     "data": {
      "text/plain": [
       "generate_max_values_matrix"
      ]
     },
     "execution_count": 64,
     "metadata": {},
     "output_type": "execute_result"
    }
   ],
   "source": [
    "\"generate_max_values_matrix(value_function, asset_grid, leisure_grid, wage_grid, hour_home_grid, num_grid):\n",
    "\n",
    "maximize value with respect to leisure and consumption\n",
    "\"\n",
    "\n",
    "function generate_max_values_matrix(age, value_function::Function, new_max_value_mat = zeros(num_grid, num_grid^3), asset_grid = asset_grid, leisure_grid = leisure_grid, \n",
    "        wage_grid = wage_grid, hour_home_grid = hour_home_grid, num_grid = num_grid)\n",
    "    # initializing matrices\n",
    "    value_matrix = zeros(num_grid^2, num_grid^4);\n",
    "    consumption_mat = zeros(num_grid^2, num_grid^4);\n",
    "    leisure_mat = zeros(num_grid^2, num_grid^4);\n",
    "    income_mat = zeros(num_grid^2, num_grid^4);\n",
    "    average_income_mat = zeros(num_grid^2, num_grid^4);\n",
    "    new_asset_mat = ones(num_grid^2, num_grid^4);\n",
    "    wage_mat = zeros(num_grid^2, num_grid^4);\n",
    "    new_asset_mat = zeros(num_grid^2, num_grid^4);\n",
    "    hour_home_mat = zeros(num_grid^2, num_grid^4); # hour home (realized)\n",
    "    raw_hour_home_mat = zeros(num_grid^2, num_grid^4); # relative hour home (not real one)\n",
    "    hour_mkt_mat = zeros(num_grid^2, num_grid^4);\n",
    "\n",
    "    for new_asset_ind = 1:num_grid  \n",
    "        for leisure_ind = 1:num_grid\n",
    "            for asset_ind = 1:num_grid\n",
    "                for wage_ind = 1:num_grid\n",
    "                    for hour_home_ind = 1:num_grid\n",
    "                        for average_income_ind = 1:num_grid\n",
    "                            new_asset = asset_grid[new_asset_ind]      \n",
    "                            leisure = leisure_grid[leisure_ind]\n",
    "                            asset = asset_grid[asset_ind]\n",
    "                            if age < retirement_age\n",
    "                                wage = wage_grid[wage_ind] # wage is 0 when retired\n",
    "                            else\n",
    "                                wage = 0\n",
    "                            end\n",
    "                            raw_hour_home = hour_home_grid[hour_home_ind]\n",
    "                            hour_home = calc_hour_home(age, raw_hour_home)\n",
    "                            hour_mkt = calc_hour_mkt(age, leisure, hour_home)\n",
    "                            average_income = calc_average_income(wage_grid[average_income_ind], wage, hour_mkt) # calculate current average income\n",
    "                            pension = calc_pension(age, average_income)\n",
    "                            income = calc_income(wage, hour_mkt, pension)\n",
    "                            consumption = calc_consumption(new_asset, income, asset)\n",
    "                            utility = calc_utility(consumption, leisure)\n",
    "                            \n",
    "                            row_ind = new_asset_ind + (leisure_ind - 1)*num_grid\n",
    "                            col_ind = asset_ind + (wage_ind - 1)*num_grid + (hour_home_ind - 1)*num_grid^2 + (average_income_ind - 1)*num_grid^3\n",
    "                            \n",
    "                            # store variables\n",
    "                            consumption_mat[row_ind, col_ind] = consumption;\n",
    "                            new_asset_mat[row_ind, col_ind] = new_asset;\n",
    "                            leisure_mat[row_ind, col_ind] = leisure;\n",
    "                            income_mat[row_ind, col_ind] = income;\n",
    "                            wage_mat[row_ind, col_ind] = wage;\n",
    "                            average_income_mat[row_ind, col_ind] = average_income;\n",
    "                            raw_hour_home_mat[row_ind, col_ind] = raw_hour_home;\n",
    "                            hour_home_mat[row_ind, col_ind] = hour_home;\n",
    "                            hour_mkt_mat[row_ind, col_ind] = 1 - hour_home - leisure;\n",
    "                            \n",
    "                            # calc expected_value\n",
    "                            v_new_vec = get_new_value(new_asset, new_max_value_mat)\n",
    "                            p = gen_prob_vec(wage, hour_home)\n",
    "                            expected_value = dot(v_new_vec, p)\n",
    "                            value_matrix[row_ind, col_ind] = value_function(utility, expected_value)\n",
    "                        end\n",
    "                    end\n",
    "                end\n",
    "            end\n",
    "        end\n",
    "    end\n",
    "    # get max value for each asset, wage, h_H. maximizing with respect to new asset and leisure\n",
    "    #max_value = maximum(value_matrix, 1)\n",
    "    max_value, max_ind = findmax(value_matrix, 1)\n",
    "    # reshape value matrix to asset_grid x (w x h_H)\n",
    "    # this should be fix throughout the simulation\n",
    "    max_values_reshaped = reshape(max_value, num_grid, num_grid^3);\n",
    "    return max_values_reshaped, max_ind, new_asset_mat, consumption_mat, income_mat, wage_mat, hour_home_mat, raw_hour_home_mat, \n",
    "    hour_mkt_mat, average_income_mat\n",
    "end\n",
    "\n"
   ]
  },
  {
   "cell_type": "code",
   "execution_count": null,
   "metadata": {},
   "outputs": [],
   "source": []
  },
  {
   "cell_type": "code",
   "execution_count": 65,
   "metadata": {},
   "outputs": [
    {
     "data": {
      "text/html": [
       "25"
      ],
      "text/plain": [
       "25"
      ]
     },
     "execution_count": 65,
     "metadata": {},
     "output_type": "execute_result"
    }
   ],
   "source": [
    "nprocs()"
   ]
  },
  {
   "cell_type": "code",
   "execution_count": 66,
   "metadata": {},
   "outputs": [],
   "source": [
    "while nworkers() < num_threads\n",
    "    addprocs(1);\n",
    "end"
   ]
  },
  {
   "cell_type": "code",
   "execution_count": 67,
   "metadata": {},
   "outputs": [
    {
     "data": {
      "text/html": [
       "24"
      ],
      "text/plain": [
       "24"
      ]
     },
     "execution_count": 67,
     "metadata": {},
     "output_type": "execute_result"
    }
   ],
   "source": [
    "nworkers()"
   ]
  },
  {
   "cell_type": "code",
   "execution_count": 68,
   "metadata": {},
   "outputs": [
    {
     "name": "stderr",
     "output_type": "stream",
     "text": [
      "WARNING: Method definition gen_policy_function() in module Main at In[63]:3 overwritten at In[68]:3.\n",
      "WARNING: Method definition gen_policy_function(Any) in module Main at In[63]:3 overwritten at In[68]:3.\n",
      "WARNING: Method definition gen_policy_function(Any, Any) in module Main at In[63]:3 overwritten at In[68]:3.\n"
     ]
    },
    {
     "data": {
      "text/plain": [
       "gen_policy_function (generic function with 3 methods)"
      ]
     },
     "execution_count": 68,
     "metadata": {},
     "output_type": "execute_result"
    }
   ],
   "source": [
    "function gen_policy_function(num_grid = num_grid, value_function = value_function)\n",
    "    \n",
    "    new_max_value_matrix = zeros(num_grid, num_grid^2);\n",
    "    pol_consumption = zeros(num_period, num_grid^4);\n",
    "    pol_new_asset = zeros(num_period, num_grid^4);\n",
    "    pol_hour_mkt = zeros(num_period, num_grid^4);\n",
    "    pol_income = zeros(num_period, num_grid^4);\n",
    "\n",
    "    for t in (3,2,1)\n",
    "        max_value_matrix, max_ind, new_asset_mat, consumption_mat, income_mat, wage_mat, hour_home_mat, raw_hour_home_mat, \n",
    "        hour_mkt_mat, average_income_mat = \n",
    "        generate_max_values_matrix(t, value_function, new_max_value_matrix)\n",
    "        pol_consumption[t,:] = consumption_mat[max_ind]\n",
    "        pol_hour_mkt[t,:] = max(hour_mkt_mat[max_ind], 0)\n",
    "        pol_income[t,:] = income_mat[max_ind]\n",
    "        pol_new_asset[t,:] = max(new_asset_mat[max_ind], 0)\n",
    "        new_max_value_matrix = max_value_matrix  \n",
    "    end\n",
    "        return pol_consumption, pol_hour_mkt, pol_income, pol_new_asset\n",
    "end"
   ]
  },
  {
   "cell_type": "markdown",
   "metadata": {
    "collapsed": true,
    "slideshow": {
     "slide_type": "slide"
    }
   },
   "source": [
    "# Simulation"
   ]
  },
  {
   "cell_type": "markdown",
   "metadata": {
    "collapsed": true
   },
   "source": [
    "## Setting\n",
    "* we simulate 100,000 households with 3 periods\n",
    "* initial wage is randomly distributed, assets are set to 0 for young.\n",
    "* wage evolves according to the distribution\n",
    "* hour at home are set randomly"
   ]
  },
  {
   "cell_type": "code",
   "execution_count": 69,
   "metadata": {},
   "outputs": [
    {
     "name": "stderr",
     "output_type": "stream",
     "text": [
      "WARNING: redefining constant wage_markovchain\n",
      "WARNING: redefining constant wage_trans_mat\n",
      "WARNING: redefining constant wage_grid\n",
      "WARNING: redefining constant hour_home_markovchain\n",
      "WARNING: redefining constant hour_home_trans_mat\n",
      "WARNING: redefining constant hour_home_grid\n"
     ]
    }
   ],
   "source": [
    "# setting\n",
    "\n",
    "### Economy ###\n",
    "const num_threads = 24;\n",
    "const r = 0.01; # interest rate\n",
    "const dep_rate = 1 # dependency rate\n",
    "const wage_care = 0.7; # care workers' wage rate. ratio to all industry\n",
    "const sick_rate = 0.3; # need care old / old\n",
    "const care_hour = 0.5; # care demand per care receiver in hours\n",
    "const middle_age = (2); # when giving care\n",
    "\n",
    "### Government ###\n",
    "tau = 0.02; # income tax rate\n",
    "const rep_rate = 0.5; # replacement rate\n",
    "const NH_rate = 0.5; # government formal care provision rate. ratio to needed care\n",
    "const retirement_age = 3; # age when household can take up pension\n",
    "const num_period = 3; # number of periods when hh dies surely\n",
    "const phi = 2/3 # cost efficiency of nursing home compared tp informal care \n",
    "const LTCI_type = 1; # 1 = proportionaly distribution, 2 = ceiling\n",
    "const ceiling = 0.2; # ceiling of informal care. above that the government take care of the needy\n",
    "\n",
    "\n",
    "### Preference ###\n",
    "const beta = 0.9; # discount rate\n",
    "const chi = 0.4; # share of leisure in utilty\n",
    "const sigma = 0.28; # intertemporal substitution\n",
    "\n",
    "### numerical excersize ###\n",
    "const num_grid = 3; # number of grid  7 for 10 min 8 for 30 min 9 for ???\n",
    "const min_asset = 0; # minimum asset\n",
    "const max_asset = 10; # maximum asset\n",
    "const min_leisure = 0.001;\n",
    "const max_leisure = 0.999;\n",
    "\n",
    "# wage trainsition matrix\n",
    "# \"const\" make it faster \n",
    "const wage_rho = 0.9 # param for wage function\n",
    "const wage_sigma = 0.1# param for wage function standard deviation for epsilon\n",
    "const wage_mu = 0 # mean wage\n",
    "const wage_n_std = 9 # length of grid\n",
    "\n",
    "const wage_markovchain = tauchen(num_grid, wage_rho, wage_sigma, wage_mu, wage_n_std);\n",
    "const wage_trans_mat = wage_markovchain.p;\n",
    "const wage_grid = exp(wage_markovchain.state_values);\n",
    "\n",
    "# informal care grid and transition matrix\n",
    "\n",
    "const hour_home_rho = 0 # param for wage function\n",
    "const hour_home_sigma = 0.5# param for wage function standard deviation for epsilon\n",
    "const hour_home_mu = 0 # mean wage\n",
    "const hour_home_n_std = 3 # length of grid\n",
    "\n",
    "const hour_home_markovchain = tauchen(num_grid, hour_home_rho, hour_home_sigma, hour_home_mu, hour_home_n_std);\n",
    "const hour_home_trans_mat = hour_home_markovchain.p;\n",
    "const hour_home_grid = exp(hour_home_markovchain.state_values);\n",
    "\n",
    "asset_grid = linspace(min_asset, max_asset, num_grid);\n",
    "leisure_grid = linspace(min_leisure, max_leisure, num_grid);\n",
    "\n",
    "# simulation 100 thousand H/H\n",
    "# initializing matrices\n",
    "const num_hh = 10;\n",
    "\n",
    "asset_record = zeros(num_hh, num_period);\n",
    "wage_record = zeros(num_hh, num_period);\n",
    "average_income_record = zeros(num_hh,num_period);\n",
    "raw_hour_home_record = zeros(num_hh, num_period);\n",
    "hour_home_record = zeros(num_hh, num_period);\n",
    "hour_mkt_record = zeros(num_hh, num_period);\n",
    "consumption_record = zeros(num_hh, num_period);\n",
    "\n",
    "# wage is first generated by normal and transformed into exponentiated value\n",
    "wage_dist = Normal(wage_mu, wage_sigma^2/(1 - wage_rho^2));\n",
    "log_wage = rand(wage_dist, num_hh, 1);\n",
    "wage_record[:,1] = exp(log_wage);\n",
    "eps_dist = Normal(0, wage_sigma);\n",
    "wage_record[:,2] = exp(wage_rho*log_wage + rand(eps_dist, num_hh, 1));\n",
    "\n",
    "# raw hour home. the hour ac\n",
    "hour_home_dist = Normal(hour_home_mu, hour_home_sigma^2);\n",
    "log_hour_home = rand(hour_home_dist, num_hh, num_period);\n",
    "raw_hour_home_record = exp(log_hour_home);\n",
    "raw_hour_home_record[:, 1] = 0;\n",
    "raw_hour_home_record[:, 3] = 0;"
   ]
  },
  {
   "cell_type": "code",
   "execution_count": 70,
   "metadata": {},
   "outputs": [
    {
     "name": "stderr",
     "output_type": "stream",
     "text": [
      "WARNING: Method definition simulator(Any, Any, Any) in module Main at In[20]:6 overwritten at In[70]:6.\n",
      "WARNING: Method definition simulator(Any, Any, Any, Any) in module Main at In[20]:6 overwritten at In[70]:6.\n",
      "WARNING: Method definition simulator(Any, Any, Any, Any, Any) in module Main at In[20]:6 overwritten at In[70]:6.\n",
      "WARNING: Method definition simulator(Any, Any, Any, Any, Any, Any) in module Main at In[20]:6 overwritten at In[70]:6.\n",
      "WARNING: Method definition simulator(Any, Any, Any, Any, Any, Any, Any) in module Main at In[20]:6 overwritten at In[70]:6.\n",
      "WARNING: Method definition simulator(Any, Any, Any, Any, Any, Any, Any, Any) in module Main at In[20]:6 overwritten at In[70]:6.\n",
      "WARNING: Method definition simulator(Any, Any, Any, Any, Any, Any, Any, Any, Any) in module Main at In[20]:6 overwritten at In[70]:6.\n",
      "WARNING: Method definition simulator(Any, Any, Any, Any, Any, Any, Any, Any, Any, Any) in module Main at In[20]:6 overwritten at In[70]:6.\n",
      "WARNING: Method definition simulator(Any, Any, Any, Any, Any, Any, Any, Any, Any, Any, Any) in module Main at In[20]:6 overwritten at In[70]:6.\n",
      "WARNING: Method definition simulator(Any, Any, Any, Any, Any, Any, Any, Any, Any, Any, Any, Any) in module Main at In[20]:6 overwritten at In[70]:6.\n",
      "WARNING: Method definition simulator(Any, Any, Any, Any, Any, Any, Any, Any, Any, Any, Any, Any, Any) in module Main at In[20]:6 overwritten at In[70]:6.\n"
     ]
    },
    {
     "data": {
      "text/plain": [
       "simulator (generic function with 11 methods)"
      ]
     },
     "execution_count": 70,
     "metadata": {},
     "output_type": "execute_result"
    }
   ],
   "source": [
    "function simulator(pol_consumption, pol_new_asset, pol_hour_mkt, consumption_record = consumption_record,\n",
    "        asset_record = asset_record, hour_mkt_record = hour_mkt_record, hour_home_record = hour_home_record, \n",
    "        asset_grid = asset_grid, hour_home_grid = hour_home_grid,  wage_grid = wage_grid, num_grid = num_grid, \n",
    "        retirement_age = retirement_age,  num_period = num_period)\n",
    "    \n",
    "    pol_consumption_reshape = reshape(pol_consumption, num_period, num_grid, num_grid, num_grid, num_grid) # reshape for interpolate    \n",
    "    pol_new_asset_reshape = reshape(pol_new_asset, num_period, num_grid, num_grid, num_grid, num_grid) # reshape for interpolate    \n",
    "    pol_hour_mkt_reshape = reshape(pol_hour_mkt, num_period, num_grid, num_grid, num_grid, num_grid) # reshape for interpolate    \n",
    "\n",
    "    for t = 1:num_period\n",
    "        consumption_itp = interpolate((asset_grid, wage_grid, hour_home_grid, wage_grid), pol_consumption_reshape[t, :,:,:,:], Gridded(Linear()));\n",
    "        new_asset_itp = interpolate((asset_grid, wage_grid, hour_home_grid, wage_grid), pol_new_asset_reshape[t, :,:,:,:], Gridded(Linear()));\n",
    "        hour_mkt_itp = interpolate((asset_grid, wage_grid, hour_home_grid, wage_grid), pol_hour_mkt_reshape[t, :,:,:,:], Gridded(Linear()));\n",
    "        for n = 1:num_hh\n",
    "            consumption_record[n,t] = consumption_itp[asset_record[n,t], wage_record[n,t], raw_hour_home_record[n,t], average_income_record[n,t]]\n",
    "            if t < retirement_age\n",
    "                asset_record[n,t+1] = new_asset_itp[asset_record[n,t], wage_record[n,t], raw_hour_home_record[n,t], average_income_record[n,t]]\n",
    "            end\n",
    "            hour_mkt_record[n,t] = hour_mkt_itp[asset_record[n,t], wage_record[n,t], raw_hour_home_record[n,t], average_income_record[n,t]]\n",
    "            hour_home_record[n,t] = calc_hour_home(t, raw_hour_home_record[n,t])\n",
    "            return consumption_record, asset_record, hour_mkt_record, hour_home_record\n",
    "        end\n",
    "    end\n",
    "end"
   ]
  },
  {
   "cell_type": "code",
   "execution_count": 71,
   "metadata": {
    "collapsed": true,
    "scrolled": true
   },
   "outputs": [],
   "source": [
    "#scatter(hour_home_record[1:200, 2], consumption_record[1:200,2])"
   ]
  },
  {
   "cell_type": "markdown",
   "metadata": {
    "collapsed": true
   },
   "source": [
    "# Fiscal sustainability of LTCI"
   ]
  },
  {
   "cell_type": "code",
   "execution_count": 72,
   "metadata": {},
   "outputs": [
    {
     "name": "stderr",
     "output_type": "stream",
     "text": [
      "WARNING: Method definition LTCI_cost() in module Main at In[22]:5 overwritten at In[72]:5.\n",
      "WARNING: Method definition LTCI_cost(Any) in module Main at In[22]:5 overwritten at In[72]:5.\n",
      "WARNING: Method definition LTCI_cost(Any, Any) in module Main at In[22]:5 overwritten at In[72]:5.\n",
      "WARNING: Method definition LTCI_cost(Any, Any, Any) in module Main at In[22]:5 overwritten at In[72]:5.\n",
      "WARNING: Method definition LTCI_cost(Any, Any, Any, Any) in module Main at In[22]:5 overwritten at In[72]:5.\n",
      "WARNING: Method definition LTCI_cost(Any, Any, Any, Any, Any) in module Main at In[22]:5 overwritten at In[72]:5.\n",
      "WARNING: Method definition LTCI_cost(Any, Any, Any, Any, Any, Any) in module Main at In[22]:5 overwritten at In[72]:5.\n",
      "WARNING: Method definition LTCI_cost(Any, Any, Any, Any, Any, Any, Any) in module Main at In[22]:5 overwritten at In[72]:5.\n",
      "WARNING: Method definition LTCI_cost(Any, Any, Any, Any, Any, Any, Any, Any) in module Main at In[22]:5 overwritten at In[72]:5.\n",
      "WARNING: Method definition LTCI_cost(Any, Any, Any, Any, Any, Any, Any, Any, Any) in module Main at In[22]:5 overwritten at In[72]:5.\n",
      "WARNING: Method definition LTCI_cost(Any, Any, Any, Any, Any, Any, Any, Any, Any, Any) in module Main at In[22]:5 overwritten at In[72]:5.\n"
     ]
    },
    {
     "data": {
      "text/plain": [
       "LTCI_cost (generic function with 11 methods)"
      ]
     },
     "execution_count": 72,
     "metadata": {},
     "output_type": "execute_result"
    }
   ],
   "source": [
    "# cost \n",
    "function LTCI_cost(LTCI_type = LTCI_type, raw_hour_home_record = raw_hour_home_record, hour_home_record = hour_home_record, \n",
    "        NH_rate = NH_rate, phi = phi, wage_care = wage_care, care_hour = care_hour, ceiling = ceiling, sick_rate = sick_rate, \n",
    "        dep_rate = dep_rate)\n",
    "    if LTCI_type == 1\n",
    "        return sum(hour_home_record)*(NH_rate/(1 - NH_rate))*phi*wage_care\n",
    "    end\n",
    "    if LTCI_type == 2\n",
    "        return phi*wage_care*sum((raw_hour_home_record*dep_rate*sick_rate*care_hour - ceiling).*\n",
    "        (raw_hour_home_record*dep_rate*sick_rate*care_hour .> ceiling))\n",
    "    end\n",
    "end"
   ]
  },
  {
   "cell_type": "code",
   "execution_count": 73,
   "metadata": {},
   "outputs": [
    {
     "name": "stderr",
     "output_type": "stream",
     "text": [
      "WARNING: Method definition calc_revenue(Any, Any) in module Main at In[23]:2 overwritten at In[73]:2.\n",
      "WARNING: Method definition calc_revenue(Any, Any, Any) in module Main at In[23]:2 overwritten at In[73]:2.\n"
     ]
    },
    {
     "data": {
      "text/plain": [
       "calc_revenue (generic function with 2 methods)"
      ]
     },
     "execution_count": 73,
     "metadata": {},
     "output_type": "execute_result"
    }
   ],
   "source": [
    "function calc_revenue(wage_record, hour_mkt_record, tau = tau)\n",
    "    sum(wage_record.*hour_mkt_record*tau)\n",
    "end"
   ]
  },
  {
   "cell_type": "code",
   "execution_count": 74,
   "metadata": {},
   "outputs": [
    {
     "name": "stderr",
     "output_type": "stream",
     "text": [
      "WARNING: Method definition calc_pension_cost(Any, Any) in module Main at In[24]:3 overwritten at In[74]:3.\n",
      "WARNING: Method definition calc_pension_cost(Any, Any, Any) in module Main at In[24]:3 overwritten at In[74]:3.\n",
      "WARNING: Method definition calc_pension_cost(Any, Any, Any, Any) in module Main at In[24]:3 overwritten at In[74]:3.\n",
      "WARNING: Method definition calc_pension_cost(Any, Any, Any, Any, Any) in module Main at In[24]:3 overwritten at In[74]:3.\n"
     ]
    },
    {
     "data": {
      "text/plain": [
       "calc_pension_cost (generic function with 4 methods)"
      ]
     },
     "execution_count": 74,
     "metadata": {},
     "output_type": "execute_result"
    }
   ],
   "source": [
    "function calc_pension_cost(wage_record, hour_mkt_record, rep_rate = rep_rate,  num_period = num_period, \n",
    "        retirement_age = retirement_age)\n",
    "    sum(wage_record.*hour_mkt_record)*(1/(retirement_age - 1))*rep_rate\n",
    "end"
   ]
  },
  {
   "cell_type": "markdown",
   "metadata": {
    "collapsed": true
   },
   "source": [
    "# iteration\n",
    "* set  $\\tau$, LTCI type, NH rate, ceiling, replacement rate and see if converge"
   ]
  },
  {
   "cell_type": "code",
   "execution_count": 75,
   "metadata": {
    "collapsed": true
   },
   "outputs": [],
   "source": [
    "pol_consumption, pol_hour_mkt, pol_income, pol_new_asset = gen_policy_function(num_grid, value_function);"
   ]
  },
  {
   "cell_type": "code",
   "execution_count": 95,
   "metadata": {},
   "outputs": [
    {
     "name": "stderr",
     "output_type": "stream",
     "text": [
      "\u001b[1m\u001b[34mINFO: Building Plots\n",
      "\u001b[0m"
     ]
    }
   ],
   "source": []
  },
  {
   "cell_type": "code",
   "execution_count": 98,
   "metadata": {},
   "outputs": [
    {
     "data": {
      "text/plain": [
       "3×81 Array{Float64,2}:\n",
       " 0.0317128  5.05006   5.10006  …  10.1005  1.97082   5.05394  10.1039\n",
       " 0.0306514  5.05      5.1         10.1     0.645928  5.05     10.1   \n",
       " 0.0317128  5.08171  10.1317      12.0708  1.97082   7.02082  12.0708"
      ]
     },
     "execution_count": 98,
     "metadata": {},
     "output_type": "execute_result"
    }
   ],
   "source": []
  },
  {
   "cell_type": "code",
   "execution_count": 83,
   "metadata": {},
   "outputs": [],
   "source": [
    "consumption_record, asset_record, hour_mkt_record, hour_home_record = simulator(pol_consumption, pol_new_asset, pol_hour_mkt);"
   ]
  },
  {
   "cell_type": "code",
   "execution_count": 84,
   "metadata": {},
   "outputs": [
    {
     "data": {
      "text/plain": [
       "10×3 Array{Float64,2}:\n",
       " 0.25547  0.0  0.0\n",
       " 0.0      0.0  0.0\n",
       " 0.0      0.0  0.0\n",
       " 0.0      0.0  0.0\n",
       " 0.0      0.0  0.0\n",
       " 0.0      0.0  0.0\n",
       " 0.0      0.0  0.0\n",
       " 0.0      0.0  0.0\n",
       " 0.0      0.0  0.0\n",
       " 0.0      0.0  0.0"
      ]
     },
     "execution_count": 84,
     "metadata": {},
     "output_type": "execute_result"
    }
   ],
   "source": [
    "consumption_record"
   ]
  },
  {
   "cell_type": "code",
   "execution_count": 78,
   "metadata": {},
   "outputs": [
    {
     "data": {
      "text/html": [
       "0.12773509081776563"
      ],
      "text/plain": [
       "0.12773509081776563"
      ]
     },
     "execution_count": 78,
     "metadata": {},
     "output_type": "execute_result"
    }
   ],
   "source": [
    "cost = LTCI_cost(LTCI_type, raw_hour_home_record) + calc_pension_cost(wage_record, hour_mkt_record, rep_rate)"
   ]
  },
  {
   "cell_type": "code",
   "execution_count": 79,
   "metadata": {},
   "outputs": [
    {
     "data": {
      "text/html": [
       "12.5"
      ],
      "text/plain": [
       "12.5"
      ]
     },
     "execution_count": 79,
     "metadata": {},
     "output_type": "execute_result"
    }
   ],
   "source": [
    "revenue = calc_revenue(wage_record, hour_mkt_record, tau)\n",
    "ratio = cost/revenue"
   ]
  },
  {
   "cell_type": "code",
   "execution_count": 80,
   "metadata": {},
   "outputs": [
    {
     "data": {
      "text/plain": [
       "iteration (generic function with 10 methods)"
      ]
     },
     "execution_count": 80,
     "metadata": {},
     "output_type": "execute_result"
    }
   ],
   "source": [
    "function iteration(tau, rep_rate, LTCI_type = LTCI_type, NH_rate = NH_rate, ceiling = ceiling, tol = 0.01, num_grid = num_grid, \n",
    "        raw_hour_home_record = raw_hour_home_record, wage_record = wage_record, value_function = value_function, ratio = 0)\n",
    "    while true\n",
    "        pol_consumption, pol_hour_mkt, pol_income, pol_new_asset = gen_policy_function(num_grid, value_function)\n",
    "        consumption_record, asset_record, hour_mkt_record, hour_home_record = simulator(pol_consumption, pol_new_asset, pol_hour_mkt)\n",
    "        cost = LTCI_cost(LTCI_type, raw_hour_home_record) + calc_pension_cost(wage_record, hour_mkt_record, rep_rate)\n",
    "        revenue = calc_revenue(wage_record, hour_mkt_record, tau)\n",
    "        ratio = cost/revenue\n",
    "        if ratio > 1 + tol\n",
    "            tau = tau + 0.01\n",
    "        elseif ratio < 1 - tol\n",
    "            tau = tau - 0.01\n",
    "        else \n",
    "            break\n",
    "        end\n",
    "    end\n",
    "end"
   ]
  },
  {
   "cell_type": "code",
   "execution_count": 81,
   "metadata": {},
   "outputs": [],
   "source": [
    "tol = 0.1\n",
    "while true\n",
    "        pol_consumption, pol_hour_mkt, pol_income, pol_new_asset = gen_policy_function(num_grid, value_function)\n",
    "        consumption_record, asset_record, hour_mkt_record, hour_home_record = simulator(pol_consumption, pol_new_asset, pol_hour_mkt)\n",
    "        cost = LTCI_cost(LTCI_type, raw_hour_home_record) + calc_pension_cost(wage_record, hour_mkt_record, rep_rate)\n",
    "        revenue = calc_revenue(wage_record, hour_mkt_record, tau)\n",
    "        ratio = cost/revenue\n",
    "        if ratio > 1 + tol\n",
    "            tau = tau + 0.01\n",
    "        elseif ratio < 1 - tol\n",
    "            tau = tau - 0.01\n",
    "        else \n",
    "            break\n",
    "        end\n",
    "    end"
   ]
  },
  {
   "cell_type": "code",
   "execution_count": 82,
   "metadata": {},
   "outputs": [
    {
     "name": "stdout",
     "output_type": "stream",
     "text": [
      "0.0Inf0.00505050505050505149.499999999999990.01010101010101010224.7499999999999960.01515151515151515216.50.02020202020202020412.3749999999999980.0252525252525252529.90.0303030303030303048.250.035353535353535357.0714285714285720.040404040404040416.1874999999999990.0454545454545454565.50.0505050505050505044.950.055555555555555554.50.060606060606060614.1250.065656565656565663.80769230769230750.07070707070707073.5357142857142860.075757575757575763.30.080808080808080813.09374999999999960.085858585858585862.9117647058823530.090909090909090912.750.095959595959595952.6052631578947370.101010101010101012.4750.106060606060606062.3571428571428570.11111111111111112.250.116161616161616162.1521739130434780.121212121212121222.06250.126262626262626271.980.131313131313131331.90384615384615370.136363636363636351.83333333333333350.14141414141414141.7678571428571430.146464646464646461.7068965517241380.151515151515151521.650.156565656565656571.5967741935483870.161616161616161631.54687499999999980.166666666666666661.50.17171717171717171.45588235294117640.176767676767676771.41428571428571410.181818181818181821.3750.186868686868686881.3378378378378380.19191919191919191.30263157894736860.196969696969696961.26923076923076940.202020202020202021.23750.207070707070707071.20731707317073170.212121212121212131.17857142857142860.217171717171717181.15116279069767450.22222222222222221.1250.227272727272727271.10.232323232323232321.0760869565217390.237373737373737381.0531914893617020.242424242424242431.031250.24747474747474751.01020408163265320.252525252525252540.990.257575757575757570.97058823529411760.262626262626262650.95192307692307690.26767676767676770.93396226415094330.27272727272727270.91666666666666670.27777777777777780.89999999999999990.28282828282828280.88392857142857150.28787878787878790.8684210526315790.292929292929292930.8534482758620690.297979797979797960.83898305084745770.303030303030303040.8250.308080808080808070.81147540983606570.313131313131313150.79838709677419350.31818181818181820.78571428571428580.323232323232323260.77343749999999990.32828282828282830.76153846153846160.33333333333333330.750.33838383838383840.73880597014925380.34343434343434340.72794117647058820.34848484848484850.7173913043478260.353535353535353540.70714285714285710.358585858585858560.69718309859154940.363636363636363650.68750.36868686868686870.6780821917808220.373737373737373760.6689189189189190.37878787878787880.660.38383838383838380.65131578947368430.38888888888888890.64285714285714280.39393939393939390.63461538461538470.3989898989898990.62658227848101260.404040404040404030.618750.40909090909090910.6111111111111110.414141414141414140.60365853658536580.419191919191919170.59638554216867470.424242424242424250.58928571428571430.42929292929292930.58235294117647060.434343434343434360.57558139534883720.43939393939393940.56896551724137930.44444444444444440.56250.44949494949494950.55617977528089890.454545454545454530.550.45959595959595960.54395604395604390.464646464646464640.53804347826086950.46969696969696970.5322580645161290.474747474747474750.5265957446808510.47979797979797980.52105263157894740.484848484848484860.5156250.48989898989898990.51030927835051540.4949494949494950.50510204081632660.50.5"
     ]
    },
    {
     "ename": "LoadError",
     "evalue": "syntax: unexpected end",
     "output_type": "error",
     "traceback": [
      "syntax: unexpected end",
      "",
      " in include_string(::String, ::String) at ./loading.jl:441"
     ]
    }
   ],
   "source": [
    "# まず絵を見よう\n",
    "taus = linspace(0, 0.5, 100)\n",
    "for tau in taus\n",
    "        pol_consumption, pol_hour_mkt, pol_income, pol_new_asset = gen_policy_function(num_grid, value_function)\n",
    "        consumption_record, asset_record, hour_mkt_record, hour_home_record = simulator(pol_consumption, pol_new_asset, pol_hour_mkt)\n",
    "        cost = LTCI_cost(LTCI_type, raw_hour_home_record) + calc_pension_cost(wage_record, hour_mkt_record, rep_rate)\n",
    "        revenue = calc_revenue(wage_record, hour_mkt_record, tau)\n",
    "        ratio = cost/revenue\n",
    "        print(tau, ratio)\n",
    "    end\n",
    "end"
   ]
  },
  {
   "cell_type": "code",
   "execution_count": null,
   "metadata": {
    "collapsed": true
   },
   "outputs": [],
   "source": []
  },
  {
   "cell_type": "code",
   "execution_count": null,
   "metadata": {
    "collapsed": true
   },
   "outputs": [],
   "source": []
  },
  {
   "cell_type": "code",
   "execution_count": null,
   "metadata": {
    "collapsed": true
   },
   "outputs": [],
   "source": []
  },
  {
   "cell_type": "code",
   "execution_count": null,
   "metadata": {
    "collapsed": true
   },
   "outputs": [],
   "source": []
  }
 ],
 "metadata": {
  "celltoolbar": "Slideshow",
  "kernelspec": {
   "display_name": "Julia 0.5.2",
   "language": "julia",
   "name": "julia-0.5"
  },
  "language_info": {
   "file_extension": ".jl",
   "mimetype": "application/julia",
   "name": "julia",
   "version": "0.5.2"
  }
 },
 "nbformat": 4,
 "nbformat_minor": 2
}
