{
 "cells": [
  {
   "cell_type": "markdown",
   "metadata": {
    "slideshow": {
     "slide_type": "slide"
    }
   },
   "source": [
    "# Effect of Informal Care on Labor Supply: A Macroeconomic Perspective\n",
    "\n",
    "## 2018.3.12 ICES, Hosei University\n",
    "\n",
    "### Daisuke Moriwaki\n",
    "\n",
    "Cyberagent, Inc., AI Lab        \n",
    "Keio University, School of Medicine\n",
    "<daisuke.moriwaki@gmail.com>   \n",
    "github [daimoriwaki/care_economy](https://github.com/daimoriwaki/care_economy)"
   ]
  },
  {
   "cell_type": "code",
   "execution_count": 74,
   "metadata": {
    "collapsed": true
   },
   "outputs": [],
   "source": [
    "#work_space()"
   ]
  },
  {
   "cell_type": "code",
   "execution_count": 75,
   "metadata": {},
   "outputs": [],
   "source": [
    "using QuantEcon\n",
    "using Plots\n",
    "using Interpolations\n",
    "using Distributions\n",
    "using DataFrames\n",
    "srand(20150423);\n",
    "#using BenchmarkTools\n",
    "#using ParallelAccelerator"
   ]
  },
  {
   "cell_type": "markdown",
   "metadata": {
    "slideshow": {
     "slide_type": "slide"
    }
   },
   "source": [
    "# Motivation\n",
    "* In 2017, it is reported taht there is 6 million care revievers in Japan by MLHW. The number is expected to increase as the baby boomers, or Dankai generations become \"late elderly\".\n",
    "* It is unclear whether the Japanese LTCI system is sustanable in the sense of financially, which has been pointed out by several researchers.\n",
    "* More importantly, the impact of care needs on economy itself (oppose to accountant's view) should be studied.\n"
   ]
  },
  {
   "cell_type": "markdown",
   "metadata": {
    "slideshow": {
     "slide_type": "slide"
    }
   },
   "source": [
    "* It is easy to predict that \"caregiver ratio\" (the number of caregivers per one care receiver) explodes in the near future.\n",
    "* Aside from the financial sustainability, the explosion of caregiver ratio cause several problems\n",
    "    * insufficient care for elderly (insufficient availability of cheap nursing home, *tokuyou*)\n",
    "    * Poverty due to care-leave for frail older family\n",
    "    * *Economy itself* due to less labor supply\n",
    "* Such a wide range of problem should be tackled by macroeconomic model rather than causal analysis."
   ]
  },
  {
   "cell_type": "markdown",
   "metadata": {},
   "source": [
    "# Summary of Results\n",
    "* ..."
   ]
  },
  {
   "cell_type": "markdown",
   "metadata": {},
   "source": [
    "# Literature\n",
    "\n",
    "* Briefly survery several work in the labor and macro fields.\n"
   ]
  },
  {
   "cell_type": "markdown",
   "metadata": {
    "slideshow": {
     "slide_type": "slide"
    }
   },
   "source": [
    "\n",
    "## Labor supply and informal care (causal studies)\n",
    "\n",
    "* moriwaki (2015, mimeo) finds negative effect from informal care only for male.\n",
    "* Nishimura\n",
    "* "
   ]
  },
  {
   "cell_type": "markdown",
   "metadata": {},
   "source": [
    "## Care and Macro economy\n",
    "* \n"
   ]
  },
  {
   "cell_type": "markdown",
   "metadata": {},
   "source": [
    "\n",
    "\n",
    "## Sustainability due to aging population in Japan\n",
    "* Kitao\n"
   ]
  },
  {
   "cell_type": "markdown",
   "metadata": {},
   "source": [
    "\n",
    "\n",
    "## Complex heterogeneous agent model concerned with social security programs\n",
    "* Li (EER, 2018)"
   ]
  },
  {
   "cell_type": "markdown",
   "metadata": {
    "slideshow": {
     "slide_type": "slide"
    }
   },
   "source": [
    "# Set up *\"Care Economy\"*"
   ]
  },
  {
   "cell_type": "markdown",
   "metadata": {},
   "source": [
    "# Demography\n",
    "* 3 periods: young, middle, and old\n",
    "    * young: work in the market and consume goods and leisure.Save for the future 22-44\n",
    "    * middle: work both in the market and home. consume goods and leisure. Save for the future. No mortality risk. 45-64\n",
    "    * old: no work in both market and home. Those with bad health receive care either in public nursing home or at home. Mortality risk is present. 65+\n",
    "* Consider 3 states: now (old is less than middle and young), 10 years later (old is more than middle and young), 20 years later (old is much more than young and middle)"
   ]
  },
  {
   "cell_type": "markdown",
   "metadata": {
    "slideshow": {
     "slide_type": "slide"
    }
   },
   "source": [
    "## Household\n",
    "\n",
    "* The model economy is populated by many households. \n",
    "    * You may imagine either single households without gender and unknown re-production technique or many households with couples and kids where income, assets, health, and time endowment is shared. \n",
    "    * More realistic modelling is listed as future study\n",
    "* wage rate is exogenous to the agent. Given wage rate, labor supply is endogeneous.\n",
    "* No negative saving is allowed (consider whether we can borrow without collateral)."
   ]
  },
  {
   "cell_type": "markdown",
   "metadata": {
    "slideshow": {
     "slide_type": "slide"
    }
   },
   "source": [
    "## Care in detail\n",
    "* In this economy, every middle-aged households face the risk of becoming care giver.\n",
    "* In the beginning of the period, the health status of all households is assigned. \n",
    "* Then the total *care needs* is determined. \n",
    "* The government determine how much care to provide, which is sometimes insufficient. That deliniates reality in Japan (there are 360,000 people on the waiting list).\n",
    "* Unmet care needs is distributed to potential care givers (*middle*). No state dependency. Imagine that you might become a informal care giver for your uncle, spouse's siblings and so on as well as your own genetic parents and spouse. Unexpectable.\n",
    "* This scenario totally igonres the positive utility from care-giving. But there are lots of tragedies associated with informal care."
   ]
  },
  {
   "cell_type": "markdown",
   "metadata": {
    "slideshow": {
     "slide_type": "slide"
    }
   },
   "source": [
    "## Preference\n",
    "* simple and general utility function. e.g. Yue (2018, EER)"
   ]
  },
  {
   "cell_type": "code",
   "execution_count": 76,
   "metadata": {},
   "outputs": [
    {
     "name": "stderr",
     "output_type": "stream",
     "text": [
      "WARNING: Method definition calc_utility(Real, Real) in module Main at In[3]:2 overwritten at In[76]:2.\n",
      "WARNING: Method definition calc_utility(Real, Real, Real) in module Main at In[3]:2 overwritten at In[76]:2.\n",
      "WARNING: Method definition calc_utility(Real, Real, Real, Real) in module Main at In[3]:2 overwritten at In[76]:2.\n"
     ]
    },
    {
     "data": {
      "text/plain": [
       "calc_utility (generic function with 3 methods)"
      ]
     },
     "execution_count": 76,
     "metadata": {},
     "output_type": "execute_result"
    }
   ],
   "source": [
    "function calc_utility(c::Real, l::Real,chi::Real = 0.4, sigma::Real = 0.28) # chi = 0.4\n",
    "    if c <= 0 || l <= 0\n",
    "        return -1000\n",
    "    else\n",
    "        return ((c^(1-chi)*(l^chi))^(1-sigma))/(1 - sigma)\n",
    "    end\n",
    "end"
   ]
  },
  {
   "cell_type": "markdown",
   "metadata": {
    "slideshow": {
     "slide_type": "slide"
    }
   },
   "source": [
    "## consumption\n",
    "* consumption is deterimined by assets, income and saving\n",
    "* there is a social assistence for the poor"
   ]
  },
  {
   "cell_type": "code",
   "execution_count": 77,
   "metadata": {
    "slideshow": {
     "slide_type": "subslide"
    }
   },
   "outputs": [
    {
     "name": "stderr",
     "output_type": "stream",
     "text": [
      "WARNING: Method definition calc_consumption(Any, Real, Real, Real) in module Main at In[4]:2 overwritten at In[77]:2.\n",
      "WARNING: Method definition calc_consumption(Any, Real, Real, Real, Real) in module Main at In[4]:2 overwritten at In[77]:2.\n"
     ]
    },
    {
     "data": {
      "text/plain": [
       "calc_consumption (generic function with 2 methods)"
      ]
     },
     "execution_count": 77,
     "metadata": {},
     "output_type": "execute_result"
    }
   ],
   "source": [
    "function calc_consumption(age, new_asset::Real, income::Real, asset::Real, r::Real=r)\n",
    "    if age < num_period\n",
    "        return (1 + r)*asset + income - new_asset # allow negative consumption\n",
    "    else\n",
    "        return (1 + r)*asset + income\n",
    "        #return 10000000\n",
    "    end \n",
    "end"
   ]
  },
  {
   "cell_type": "markdown",
   "metadata": {
    "slideshow": {
     "slide_type": "slide"
    }
   },
   "source": [
    "## income\n",
    "* income is determined by hourking hour in market and tax\n"
   ]
  },
  {
   "cell_type": "code",
   "execution_count": 78,
   "metadata": {
    "slideshow": {
     "slide_type": "subslide"
    }
   },
   "outputs": [
    {
     "name": "stderr",
     "output_type": "stream",
     "text": [
      "WARNING: Method definition calc_income(Any, Any, Any) in module Main at In[5]:2 overwritten at In[78]:2.\n",
      "WARNING: Method definition calc_income(Any, Any, Any, Any) in module Main at In[5]:2 overwritten at In[78]:2.\n"
     ]
    },
    {
     "data": {
      "text/plain": [
       "calc_income (generic function with 2 methods)"
      ]
     },
     "execution_count": 78,
     "metadata": {},
     "output_type": "execute_result"
    }
   ],
   "source": [
    "function calc_income(wage, hour_mkt, pension, tau = tau)\n",
    "    (1 - tau)*wage*hour_mkt + pension\n",
    "end"
   ]
  },
  {
   "cell_type": "markdown",
   "metadata": {
    "slideshow": {
     "slide_type": "slide"
    }
   },
   "source": [
    "## pension\n",
    "* pension is taken up by old.\n",
    "* the level of benefit is determined by wage history and replacement rate"
   ]
  },
  {
   "cell_type": "code",
   "execution_count": 79,
   "metadata": {
    "slideshow": {
     "slide_type": "subslide"
    }
   },
   "outputs": [
    {
     "name": "stderr",
     "output_type": "stream",
     "text": [
      "WARNING: Method definition calc_new_average_income(Any, Any, Any, Any) in module Main at In[6]:2 overwritten at In[79]:2.\n"
     ]
    },
    {
     "data": {
      "text/plain": [
       "calc_new_average_income (generic function with 1 method)"
      ]
     },
     "execution_count": 79,
     "metadata": {},
     "output_type": "execute_result"
    }
   ],
   "source": [
    "function calc_new_average_income(age, last_average_income, current_wage, current_hour_mkt)\n",
    "    if age == 1\n",
    "        return current_wage*current_hour_mkt # calc average income for today\n",
    "    elseif age >= retirement_age\n",
    "        return last_average_income # after retired average income is fixed\n",
    "    else\n",
    "        return (last_average_income*(age - 1) + current_wage*current_hour_mkt)/age # during working age average income is changed \n",
    "    end\n",
    "end"
   ]
  },
  {
   "cell_type": "code",
   "execution_count": 80,
   "metadata": {
    "slideshow": {
     "slide_type": "subslide"
    }
   },
   "outputs": [
    {
     "name": "stderr",
     "output_type": "stream",
     "text": [
      "WARNING: Method definition calc_pension(Any, Any) in module Main at In[7]:2 overwritten at In[80]:2.\n",
      "WARNING: Method definition calc_pension(Any, Any, Any) in module Main at In[7]:2 overwritten at In[80]:2.\n",
      "WARNING: Method definition calc_pension(Any, Any, Any, Any) in module Main at In[7]:2 overwritten at In[80]:2.\n"
     ]
    },
    {
     "data": {
      "text/plain": [
       "calc_pension (generic function with 3 methods)"
      ]
     },
     "execution_count": 80,
     "metadata": {},
     "output_type": "execute_result"
    }
   ],
   "source": [
    "function calc_pension(age, average_income, rep_rate = rep_rate, retirement_age = retirement_age)\n",
    "    if age >= retirement_age\n",
    "        return rep_rate*average_income\n",
    "    else\n",
    "        return 0\n",
    "    end\n",
    "end"
   ]
  },
  {
   "cell_type": "markdown",
   "metadata": {
    "slideshow": {
     "slide_type": "slide"
    }
   },
   "source": [
    "## wage\n",
    "* wage evolves according to $w_{i,t} = \\mu + \\rho w_{i, t-1} + \\epsilon_{t}$. \n",
    "* need to be complicated when finer horizon is embedded.\n",
    "* use tauchen method to generate transition matrix"
   ]
  },
  {
   "cell_type": "code",
   "execution_count": null,
   "metadata": {
    "collapsed": true
   },
   "outputs": [],
   "source": []
  },
  {
   "cell_type": "markdown",
   "metadata": {
    "slideshow": {
     "slide_type": "slide"
    }
   },
   "source": [
    "## Informal care\n",
    "* Middle-aged household is assigned care needs randomly.\n",
    "* The level of care is represented as required hour for care at home.\n",
    "* Once all the household draw the raw hour at home $h^H$, they are sum up as $\\sum_i h^H_i$\n",
    "* The total demand for care $D^H = \\sum_i I (h_i \\in (0,  0.1)$\n",
    "* The unmet care needs $D^{H, unmet} = D^H - NH$ is distributed out to proportionaly to $h^H$\n",
    "* Numerical excercise is done without empirical studies, which should be done in the future."
   ]
  },
  {
   "cell_type": "code",
   "execution_count": 81,
   "metadata": {},
   "outputs": [
    {
     "name": "stderr",
     "output_type": "stream",
     "text": [
      "WARNING: Method definition calc_hour_home(Any, Real) in module Main at In[8]:7 overwritten at In[81]:7.\n",
      "WARNING: Method definition calc_hour_home(Any, Real, Real) in module Main at In[8]:7 overwritten at In[81]:7.\n",
      "WARNING: Method definition calc_hour_home(Any, Real, Real, Real) in module Main at In[8]:7 overwritten at In[81]:7.\n",
      "WARNING: Method definition calc_hour_home(Any, Real, Real, Real, Real) in module Main at In[8]:7 overwritten at In[81]:7.\n",
      "WARNING: Method definition calc_hour_home(Any, Real, Real, Real, Real, Real) in module Main at In[8]:7 overwritten at In[81]:7.\n",
      "WARNING: Method definition calc_hour_home(Any, Real, Real, Real, Real, Real, Any) in module Main at In[8]:7 overwritten at In[81]:7.\n",
      "WARNING: Method definition calc_hour_home(Any, Real, Real, Real, Real, Real, Any, Any) in module Main at In[8]:7 overwritten at In[81]:7.\n",
      "\u001b[1m\u001b[31mWARNING: replacing docs for 'calc_hour_home :: Union{Tuple{Any,Real,Real,Real,Real,Real,Any,Any},Tuple{Any,Real,Real,Real,Real,Real,Any},Tuple{Any,Real,Real,Real,Real,Real},Tuple{Any,Real,Real,Real,Real},Tuple{Any,Real,Real,Real},Tuple{Any,Real,Real},Tuple{Any,Real}}' in module 'Main'.\u001b[0m\n"
     ]
    },
    {
     "data": {
      "text/plain": [
       "calc_hour_home"
      ]
     },
     "execution_count": 81,
     "metadata": {},
     "output_type": "execute_result"
    }
   ],
   "source": [
    "\" calc_hour_home(relative_hour_home, dep_rate, sick_rate, care_hour,NH_rate)\n",
    "\n",
    "calculate hour at home given relative home hour. relative home hour represent the level of informal care giving \n",
    "\"\n",
    "function calc_hour_home(age, relative_hour_home::Real, dep_rate::Real = dep_rate, sick_rate::Real=sick_rate, care_hour::Real=care_hour,\n",
    "        NH_rate::Real = NH_rate, LTCI_type = LTCI_type, ceiling = ceiling)\n",
    "    if LTCI_type == 1\n",
    "        if age in middle_age\n",
    "            return min(relative_hour_home*(1 - NH_rate)*dep_rate*sick_rate*care_hour, 0.9999)\n",
    "        else\n",
    "            return 0\n",
    "        end\n",
    "    else\n",
    "        if age in middle_age\n",
    "            return min(relative_hour_home*dep_rate*sick_rate*care_hour, ceiling)\n",
    "        else\n",
    "            return 0\n",
    "        end\n",
    "\n",
    "    end\n",
    "end"
   ]
  },
  {
   "cell_type": "markdown",
   "metadata": {},
   "source": [
    "## health status\n",
    "* health status so far only matters how many old need care.\n",
    "* health is not associated with wage, labor.\n",
    "* we do not take health into accont explicitly."
   ]
  },
  {
   "cell_type": "markdown",
   "metadata": {
    "slideshow": {
     "slide_type": "slide"
    }
   },
   "source": [
    "## labor supply\n",
    "* labor supply is endogeneous\n",
    "* young and middle household optimizes labor supply as well as consumption (saving) for given time endowment\n",
    "* time endowment is varying across agent due to informal care\n",
    "* From the first order condition $l = c(1 - \\tau)w \\frac{\\chi}{1 - \\chi}$"
   ]
  },
  {
   "cell_type": "code",
   "execution_count": 82,
   "metadata": {},
   "outputs": [
    {
     "name": "stderr",
     "output_type": "stream",
     "text": [
      "WARNING: Method definition calc_hour_mkt(Real, Real, Real) in module Main at In[9]:13 overwritten at In[82]:13.\n",
      "WARNING: Method definition calc_hour_mkt(Real, Real, Real, Int64) in module Main at In[9]:13 overwritten at In[82]:13.\n",
      "\u001b[1m\u001b[31mWARNING: replacing docs for 'calc_hour_mkt :: Union{Tuple{Real,Real,Real,Int64},Tuple{Real,Real,Real}}' in module 'Main'.\u001b[0m\n"
     ]
    },
    {
     "data": {
      "text/plain": [
       "calc_hour_mkt"
      ]
     },
     "execution_count": 82,
     "metadata": {},
     "output_type": "execute_result"
    }
   ],
   "source": [
    "\"calc_hour_mkt(age, leisure, hour_home, retirement_age)\n",
    "\n",
    "calculate hour in the market.\n",
    "\n",
    "**Argments**: \n",
    "\n",
    "        age, leisure, hour at homt\n",
    "\n",
    "**Return**\n",
    "\n",
    "        working hour at market\"\n",
    "function calc_hour_mkt(age::Real, leisure::Real, hour_home::Real, retirement_age::Int=retirement_age)\n",
    "    if leisure + hour_home >= 1 || age >= retirement_age\n",
    "        return 0\n",
    "    else\n",
    "        return 1 - leisure - hour_home\n",
    "    end\n",
    "end"
   ]
  },
  {
   "cell_type": "markdown",
   "metadata": {
    "slideshow": {
     "slide_type": "slide"
    }
   },
   "source": [
    "## Government\n",
    "* government provide insufficient formal care funded by social security premium contributed by working age, which is resemble to Japanese LTCI\n",
    "* cost of formal care is determined by personnel expenses of informal care worker.\n",
    "* The government chooses one of two LTCI system\n",
    "\\begin{eqnarray}\n",
    "LTCI \\, (type 1) &=& w^{care} \\phi N^{old} sick rate \\, d^H  NH rate \\\\\n",
    "LTCI \\, (type 2) &=& w^{care} \\phi \\sum_i(care_i - \\bar{care}) \\mathbb{1}[care_i > \\bar{care}]\n",
    "\\end{eqnarray}\n",
    "* __type1__ is *proportional sapplements* where the government provide formal care proportional to the level of required care. $w^{care}$ denotes average wage for worker at nurinsg home. $N^{old}$, $sick rate$, $d^H$, $NH rate$ represents the population of old, the rate of care receivers to the old and required care hour per sick old. Finally, $\\phi$ is a multiplier ly inside $(0, 1)$. This multiplier represents *efficiency* of nurinsg home.   \n",
    "* __type2__ is *ceiling*. The care above the ceiling is given by the government.\n",
    "* $\\phi:$ Usually, typical informal care giver provide care to one care receiver, whereas (formal) care worker can work for multiple care receivers. They also benefit from the division of labor.\n",
    "\n",
    "* On the other hand, the government collect $\\tau\\sum_i w_i h_{M, i}$ from all the young and middle."
   ]
  },
  {
   "cell_type": "markdown",
   "metadata": {
    "slideshow": {
     "slide_type": "slide"
    }
   },
   "source": [
    "# Quantitative Exercise"
   ]
  },
  {
   "cell_type": "markdown",
   "metadata": {
    "slideshow": {
     "slide_type": "slide"
    }
   },
   "source": [
    "## Solution\n",
    "* The model is solved (ideally) by method of simulated moment.\n",
    "* So far no calibration made\n",
    "* Optimization by households is done by backward induction."
   ]
  },
  {
   "cell_type": "markdown",
   "metadata": {
    "slideshow": {
     "slide_type": "slide"
    }
   },
   "source": [
    "## Value function\n",
    "* value function optimization $v_t = max_{c_t, l_t} (u(c_t, l_t) + \\beta \\mathbb{E}\\left( v_{t+1}(a_{t+1}) \\right))$ \n",
    "* wrt usual budget constraint with no borrowing\n"
   ]
  },
  {
   "cell_type": "code",
   "execution_count": 83,
   "metadata": {},
   "outputs": [
    {
     "name": "stderr",
     "output_type": "stream",
     "text": [
      "WARNING: Method definition value_function(Real, Real) in module Main at In[10]:4 overwritten at In[83]:4.\n",
      "WARNING: Method definition value_function(Real, Real, Real) in module Main at In[10]:4 overwritten at In[83]:4.\n",
      "\u001b[1m\u001b[31mWARNING: replacing docs for 'value_function :: Union{Tuple{Real,Real,Real},Tuple{Real,Real}}' in module 'Main'.\u001b[0m\n"
     ]
    },
    {
     "data": {
      "text/plain": [
       "value_function"
      ]
     },
     "execution_count": 83,
     "metadata": {},
     "output_type": "execute_result"
    }
   ],
   "source": [
    "\"value_function(utility, expected_value, beta)\n",
    "calculate instant value for given utility and expected values in the next period\"\n",
    "function value_function(utility::Real, expected_value::Real, beta::Real = beta)\n",
    "    utility + beta*expected_value\n",
    "end"
   ]
  },
  {
   "cell_type": "markdown",
   "metadata": {
    "collapsed": true
   },
   "source": [
    "## Expected values\n",
    "* expected values are dot product of transition matrix and state-dependent values "
   ]
  },
  {
   "cell_type": "code",
   "execution_count": 84,
   "metadata": {},
   "outputs": [
    {
     "name": "stderr",
     "output_type": "stream",
     "text": [
      "WARNING: Method definition interpolate_vector(Real, Any, Any) in module Main at In[11]:2 overwritten at In[84]:2.\n",
      "WARNING: Method definition interpolate_vector(Real, Any, Any, Any) in module Main at In[11]:2 overwritten at In[84]:2.\n"
     ]
    },
    {
     "data": {
      "text/plain": [
       "interpolate_vector (generic function with 2 methods)"
      ]
     },
     "execution_count": 84,
     "metadata": {},
     "output_type": "execute_result"
    }
   ],
   "source": [
    "function interpolate_vector(current_value::Real, grid, trans_mat, num_grid = num_grid)\n",
    "    itp = interpolate((grid, grid), trans_mat, Gridded(Linear()))\n",
    "    vec = itp[current_value, grid]\n",
    "    @parallel for i in 1:num_grid\n",
    "        if vec[i] < 0\n",
    "            vec[i] = 0\n",
    "        end\n",
    "    end\n",
    "    return vec\n",
    "end"
   ]
  },
  {
   "cell_type": "code",
   "execution_count": 85,
   "metadata": {},
   "outputs": [
    {
     "name": "stderr",
     "output_type": "stream",
     "text": [
      "WARNING: Method definition gen_prob_vec(Any, Any) in module Main at In[12]:14 overwritten at In[85]:14.\n",
      "WARNING: Method definition gen_prob_vec(Any, Any, Any) in module Main at In[12]:14 overwritten at In[85]:14.\n",
      "WARNING: Method definition gen_prob_vec(Any, Any, Any, Any) in module Main at In[12]:14 overwritten at In[85]:14.\n",
      "WARNING: Method definition gen_prob_vec(Any, Any, Any, Any, Any) in module Main at In[12]:14 overwritten at In[85]:14.\n",
      "WARNING: Method definition gen_prob_vec(Any, Any, Any, Any, Any, Any) in module Main at In[12]:14 overwritten at In[85]:14.\n",
      "\u001b[1m\u001b[31mWARNING: replacing docs for 'gen_prob_vec :: Union{Tuple{Any,Any,Any,Any,Any,Any},Tuple{Any,Any,Any,Any,Any},Tuple{Any,Any,Any,Any},Tuple{Any,Any,Any},Tuple{Any,Any}}' in module 'Main'.\u001b[0m\n"
     ]
    },
    {
     "data": {
      "text/plain": [
       "gen_prob_vec"
      ]
     },
     "execution_count": 85,
     "metadata": {},
     "output_type": "execute_result"
    }
   ],
   "source": [
    "\"gen_prob_vec\n",
    "return probability vector for arbitrary wage, hour at home, current_average_income\n",
    "\n",
    "**Args**\n",
    "current_wage\n",
    "current_hour_home\n",
    "current_average_wage\n",
    "\n",
    "**return**\n",
    "vector of probability\n",
    "\"\n",
    "function gen_prob_vec(current_wage, current_hour_home, wage_grid = wage_grid, hour_home_grid = hour_home_grid,\n",
    "        wage_trans_mat = wage_trans_mat, hour_home_trans_mat= hour_home_trans_mat)\n",
    "    wage_prob_vector = interpolate_vector(current_wage, wage_grid, wage_trans_mat)\n",
    "    hour_home_prob_vector = interpolate_vector(current_hour_home, hour_home_grid, hour_home_trans_mat)\n",
    "    return kron(wage_prob_vector, hour_home_prob_vector)\n",
    "end"
   ]
  },
  {
   "cell_type": "code",
   "execution_count": 86,
   "metadata": {},
   "outputs": [
    {
     "name": "stderr",
     "output_type": "stream",
     "text": [
      "WARNING: Method definition get_new_value(Any, Any, Any) in module Main at In[13]:7 overwritten at In[86]:7.\n",
      "WARNING: Method definition get_new_value(Any, Any, Any, Any) in module Main at In[13]:7 overwritten at In[86]:7.\n",
      "WARNING: Method definition get_new_value(Any, Any, Any, Any, Any) in module Main at In[13]:7 overwritten at In[86]:7.\n",
      "WARNING: Method definition get_new_value(Any, Any, Any, Any, Any, Any) in module Main at In[13]:7 overwritten at In[86]:7.\n",
      "\u001b[1m\u001b[31mWARNING: replacing docs for 'get_new_value :: Union{Tuple{Any,Any,Any,Any,Any,Any},Tuple{Any,Any,Any,Any,Any},Tuple{Any,Any,Any,Any},Tuple{Any,Any,Any}}' in module 'Main'.\u001b[0m\n"
     ]
    },
    {
     "data": {
      "text/plain": [
       "get_new_value"
      ]
     },
     "execution_count": 86,
     "metadata": {},
     "output_type": "execute_result"
    }
   ],
   "source": [
    "\"get_new_value(new_asset, max_value_mat, asset_grid = asset_grid, num_grid = num_grid): \n",
    "\n",
    "\n",
    "get vector of maximized value for next period given choice asset and states current wage, current hour at home. \n",
    "max_value_mat should be asset_grid x wage, relative_hour_home\"\n",
    "function get_new_value(new_asset, new_average_income, max_value_mat, asset_grid = asset_grid, wage_grid = wage_grid,  num_grid = num_grid)\n",
    "    v_new = zeros(num_grid^2, 1)\n",
    "    for i in 1:num_grid^2\n",
    "        temp_slice = max_value_mat[:,i]\n",
    "        temp_mat= reshape(temp_slice, num_grid, num_grid)\n",
    "        knots = (asset_grid, wage_grid)        \n",
    "        itp = interpolate(knots, temp_mat, Gridded(Linear()))\n",
    "        v_new[i] = itp[new_asset, new_average_income]\n",
    "    end\n",
    "    return v_new\n",
    "end"
   ]
  },
  {
   "cell_type": "markdown",
   "metadata": {},
   "source": [
    "## Generate Policy Function"
   ]
  },
  {
   "cell_type": "code",
   "execution_count": 87,
   "metadata": {},
   "outputs": [
    {
     "name": "stderr",
     "output_type": "stream",
     "text": [
      "WARNING: Method definition generate_max_values_matrix(Any, Function) in module Main at In[14]:9 overwritten at In[87]:9.\n",
      "WARNING: Method definition generate_max_values_matrix(Any, Function, Any) in module Main at In[14]:9 overwritten at In[87]:9.\n",
      "WARNING: Method definition generate_max_values_matrix(Any, Function, Any, Any) in module Main at In[14]:9 overwritten at In[87]:9.\n",
      "WARNING: Method definition generate_max_values_matrix(Any, Function, Any, Any, Any) in module Main at In[14]:9 overwritten at In[87]:9.\n",
      "WARNING: Method definition generate_max_values_matrix(Any, Function, Any, Any, Any, Any) in module Main at In[14]:9 overwritten at In[87]:9.\n",
      "WARNING: Method definition generate_max_values_matrix(Any, Function, Any, Any, Any, Any, Any) in module Main at In[14]:9 overwritten at In[87]:9.\n",
      "WARNING: Method definition generate_max_values_matrix(Any, Function, Any, Any, Any, Any, Any, Any) in module Main at In[14]:9 overwritten at In[87]:9.\n",
      "\u001b[1m\u001b[31mWARNING: replacing docs for 'generate_max_values_matrix :: Union{Tuple{Any,Function,Any,Any,Any,Any,Any,Any},Tuple{Any,Function,Any,Any,Any,Any,Any},Tuple{Any,Function,Any,Any,Any,Any},Tuple{Any,Function,Any,Any,Any},Tuple{Any,Function,Any,Any},Tuple{Any,Function,Any},Tuple{Any,Function}}' in module 'Main'.\u001b[0m\n"
     ]
    },
    {
     "data": {
      "text/plain": [
       "generate_max_values_matrix"
      ]
     },
     "execution_count": 87,
     "metadata": {},
     "output_type": "execute_result"
    }
   ],
   "source": [
    "\"generate_max_values_matrix(value_function, asset_grid, leisure_grid, wage_grid, hour_home_grid, num_grid):\n",
    "\n",
    "maximize value with respect to leisure and consumption\n",
    "\"\n",
    "\n",
    "function generate_max_values_matrix(age, value_function::Function, new_max_value_mat = zeros(num_grid, num_grid^3), asset_grid = asset_grid, leisure_grid = leisure_grid, \n",
    "        wage_grid = wage_grid, hour_home_grid = hour_home_grid, num_grid = num_grid)\n",
    "    # initializing matrices\n",
    "    value_matrix = zeros(num_grid^2, num_grid^4);\n",
    "    consumption_mat = zeros(num_grid^2, num_grid^4);\n",
    "    leisure_mat = zeros(num_grid^2, num_grid^4);\n",
    "    income_mat = zeros(num_grid^2, num_grid^4);\n",
    "    new_average_income_mat = zeros(num_grid^2, num_grid^4);\n",
    "    new_asset_mat = ones(num_grid^2, num_grid^4);\n",
    "    wage_mat = zeros(num_grid^2, num_grid^4);\n",
    "    new_asset_mat = zeros(num_grid^2, num_grid^4);\n",
    "    hour_home_mat = zeros(num_grid^2, num_grid^4); # hour home (realized)\n",
    "    raw_hour_home_mat = zeros(num_grid^2, num_grid^4); # relative hour home (not real one)\n",
    "    hour_mkt_mat = zeros(num_grid^2, num_grid^4);\n",
    "\n",
    "    for new_asset_ind = 1:num_grid  \n",
    "        for leisure_ind = 1:num_grid\n",
    "            for asset_ind = 1:num_grid\n",
    "                for average_income_ind = 1:num_grid\n",
    "                    for wage_ind = 1:num_grid\n",
    "                        for hour_home_ind = 1:num_grid\n",
    "                            new_asset = asset_grid[new_asset_ind]      \n",
    "                            leisure = leisure_grid[leisure_ind]\n",
    "                            asset = asset_grid[asset_ind]\n",
    "                            wage = wage_grid[wage_ind] # wage is 0 when retired\n",
    "                            #if age < retirement_age\n",
    "                            #    wage = wage_grid[wage_ind] # wage is 0 when retired\n",
    "                            #else\n",
    "                            #    wage = 0\n",
    "                            #end\n",
    "                            raw_hour_home = hour_home_grid[hour_home_ind]\n",
    "                            hour_home = calc_hour_home(age, raw_hour_home)\n",
    "                            hour_mkt = calc_hour_mkt(age, leisure, hour_home)\n",
    "                            if age == 1\n",
    "                                average_income = 0\n",
    "                            else\n",
    "                                average_income = wage_grid[average_income_ind]\n",
    "                            end\n",
    "                            new_average_income = calc_new_average_income(age, average_income, wage,  hour_mkt) # calculate average income\n",
    "\n",
    "                            pension = calc_pension(age, average_income)\n",
    "                            income = calc_income(wage, hour_mkt, pension)\n",
    "                            consumption = calc_consumption(age, new_asset, income, asset)\n",
    "                            utility = calc_utility(consumption, leisure)\n",
    "                            \n",
    "                            row_ind = new_asset_ind + (leisure_ind - 1)*num_grid\n",
    "                            col_ind = asset_ind + (average_income_ind - 1)*num_grid+ (wage_ind - 1)*num_grid^2 + (hour_home_ind - 1)*num_grid^3\n",
    "                            \n",
    "                            # store variables\n",
    "                            consumption_mat[row_ind, col_ind] = consumption;\n",
    "                            new_asset_mat[row_ind, col_ind] = new_asset;\n",
    "                            leisure_mat[row_ind, col_ind] = leisure;\n",
    "                            income_mat[row_ind, col_ind] = income;\n",
    "                            wage_mat[row_ind, col_ind] = wage;\n",
    "                            new_average_income_mat[row_ind, col_ind] = new_average_income;\n",
    "                            raw_hour_home_mat[row_ind, col_ind] = raw_hour_home;\n",
    "                            hour_home_mat[row_ind, col_ind] = hour_home;\n",
    "                            hour_mkt_mat[row_ind, col_ind] = 1 - hour_home - leisure;\n",
    "                            \n",
    "                            # calc expected_value\n",
    "                            v_new_vec = get_new_value(new_asset, new_average_income, new_max_value_mat)\n",
    "                            p = gen_prob_vec(wage, hour_home)\n",
    "                            expected_value = dot(v_new_vec, p)\n",
    "                            value_matrix[row_ind, col_ind] = value_function(utility, expected_value)\n",
    "                        end\n",
    "                    end\n",
    "                end\n",
    "            end\n",
    "        end\n",
    "    end\n",
    "    # get max value for each asset, wage, h_H. maximizing with respect to new asset and leisure\n",
    "    #max_value = maximum(value_matrix, 1)\n",
    "    max_value, max_ind = findmax(value_matrix, 1)\n",
    "    # reshape value matrix to (asset_grid x new_average_income)  x (w x h_H)\n",
    "    # this should be fix throughout the simulation\n",
    "    max_values_reshaped = reshape(max_value, num_grid^2, num_grid^2);\n",
    "    return max_values_reshaped, max_ind, new_asset_mat, consumption_mat, income_mat, wage_mat, hour_home_mat, raw_hour_home_mat, \n",
    "    hour_mkt_mat, new_average_income_mat\n",
    "end\n",
    "\n"
   ]
  },
  {
   "cell_type": "code",
   "execution_count": 88,
   "metadata": {},
   "outputs": [
    {
     "name": "stderr",
     "output_type": "stream",
     "text": [
      "WARNING: Method definition gen_policy_function() in module Main at In[15]:3 overwritten at In[88]:3.\n",
      "WARNING: Method definition gen_policy_function(Any) in module Main at In[15]:3 overwritten at In[88]:3.\n",
      "WARNING: Method definition gen_policy_function(Any, Any) in module Main at In[15]:3 overwritten at In[88]:3.\n"
     ]
    },
    {
     "data": {
      "text/plain": [
       "gen_policy_function (generic function with 3 methods)"
      ]
     },
     "execution_count": 88,
     "metadata": {},
     "output_type": "execute_result"
    }
   ],
   "source": [
    "function gen_policy_function(num_grid = num_grid, value_function = value_function)\n",
    "    \n",
    "    new_max_value_matrix = zeros(num_grid^2, num_grid^2);\n",
    "    pol_consumption = zeros(num_period, num_grid^4);\n",
    "    pol_new_asset = zeros(num_period, num_grid^4);\n",
    "    pol_hour_mkt = zeros(num_period, num_grid^4);\n",
    "    pol_income = zeros(num_period, num_grid^4);\n",
    "    pol_new_average_income = zeros(num_period, num_grid^4);\n",
    "\n",
    "    for t in (3,2,1)\n",
    "        max_values_reshaped, max_ind, new_asset_mat, consumption_mat, income_mat, wage_mat, hour_home_mat, raw_hour_home_mat, \n",
    "        hour_mkt_mat, new_average_income_mat = \n",
    "        generate_max_values_matrix(t, value_function, new_max_value_matrix)\n",
    "        \n",
    "        pol_consumption[t,:] = consumption_mat[max_ind]\n",
    "        pol_hour_mkt[t,:] = max(hour_mkt_mat[max_ind], 0)\n",
    "        pol_income[t,:] = income_mat[max_ind]\n",
    "        pol_new_average_income[t,:] = new_average_income_mat[max_ind]\n",
    "        pol_new_asset[t,:] = max(new_asset_mat[max_ind], 0)\n",
    "        new_max_value_matrix = max_values_reshaped\n",
    "    end\n",
    "        return pol_consumption, pol_hour_mkt, pol_income, pol_new_asset, pol_new_average_income\n",
    "end"
   ]
  },
  {
   "cell_type": "markdown",
   "metadata": {
    "collapsed": true,
    "slideshow": {
     "slide_type": "slide"
    }
   },
   "source": [
    "# Simulation"
   ]
  },
  {
   "cell_type": "markdown",
   "metadata": {
    "collapsed": true,
    "slideshow": {
     "slide_type": "slide"
    }
   },
   "source": [
    "## Setting\n",
    "* we simulate 100,000 households with 3 periods\n",
    "* initial wage is randomly distributed, assets are set to 0 for young.\n",
    "* wage evolves according to the distribution. Highly persistent with $\\rho = 0.9$ \n",
    "* hour at home are set randomly"
   ]
  },
  {
   "cell_type": "code",
   "execution_count": 89,
   "metadata": {},
   "outputs": [
    {
     "name": "stderr",
     "output_type": "stream",
     "text": [
      "WARNING: redefining constant wage_markovchain\n",
      "WARNING: redefining constant wage_trans_mat\n",
      "WARNING: redefining constant wage_grid\n",
      "WARNING: redefining constant hour_home_markovchain\n",
      "WARNING: redefining constant hour_home_trans_mat\n",
      "WARNING: redefining constant hour_home_grid\n"
     ]
    }
   ],
   "source": [
    "# setting\n",
    "\n",
    "### Economy ###\n",
    "const num_threads = 24;\n",
    "const r = 0.01; # interest rate\n",
    "const dep_rate = 1 # dependency rate\n",
    "const wage_care = 0.7; # care workers' wage rate. ratio to all industry\n",
    "const sick_rate = 0.3; # need care old / old\n",
    "const care_hour = 0.5; # care demand per care receiver in hours\n",
    "const middle_age = (2); # when giving care\n",
    "\n",
    "### Government ###\n",
    "tau = 0.02; # income tax rate\n",
    "const rep_rate = 0.5; # replacement rate\n",
    "NH_rate = 0.5; # government formal care provision rate. ratio to needed care\n",
    "const retirement_age = 3; # age when household can take up pension\n",
    "const num_period = 3; # number of periods when hh dies surely\n",
    "const phi = 2/3 # cost efficiency of nursing home compared tp informal care \n",
    "const LTCI_type = 1; # 1 = proportionaly distribution, 2 = ceiling\n",
    "ceiling = 0.2; # ceiling of informal care. above that the government take care of the needy\n",
    "\n",
    "\n",
    "### Preference ###\n",
    "const beta = 0.9; # discount rate\n",
    "const chi = 0.4; # share of leisure in utilty\n",
    "const sigma = 0.28; # intertemporal substitution\n",
    "\n",
    "### numerical excersize ###\n",
    "const num_grid = 7; # number of grid  7 for 10 min 8 for 30 min 9 for ???\n",
    "const min_asset = 0; # minimum asset\n",
    "const max_asset = 10; # maximum asset\n",
    "const min_leisure = 0.001;\n",
    "const max_leisure = 0.999;\n",
    "\n",
    "# wage trainsition matrix\n",
    "# \"const\" make it faster \n",
    "const wage_rho = 0.9 # param for wage function\n",
    "const wage_sigma = 0.2# param for wage function standard deviation for epsilon\n",
    "const wage_mu = 0 # mean wage\n",
    "const wage_n_std = 3 # length of grid\n",
    "\n",
    "const wage_markovchain = tauchen(num_grid, wage_rho, wage_sigma, wage_mu, wage_n_std);\n",
    "const wage_trans_mat = wage_markovchain.p;\n",
    "const wage_grid = exp(wage_markovchain.state_values);\n",
    "\n",
    "# informal care grid and transition matrix\n",
    "\n",
    "const hour_home_rho = 0 # param for wage function\n",
    "const hour_home_sigma = 0.75# param for wage function standard deviation for epsilon\n",
    "const hour_home_mu = 0 # mean hour at home\n",
    "const hour_home_n_std = 3 # length of grid\n",
    "\n",
    "const hour_home_markovchain = tauchen(num_grid, hour_home_rho, hour_home_sigma, hour_home_mu, hour_home_n_std);\n",
    "const hour_home_trans_mat = hour_home_markovchain.p;\n",
    "const hour_home_grid = exp(hour_home_markovchain.state_values);\n",
    "\n",
    "asset_grid = linspace(min_asset, max_asset, num_grid);\n",
    "leisure_grid = linspace(min_leisure, max_leisure, num_grid);\n",
    "\n",
    "# simulation 100 thousand H/H\n",
    "# initializing matrices\n",
    "const num_hh = 100000;\n",
    "\n",
    "asset_record = zeros(num_hh, num_period);\n",
    "wage_record = zeros(num_hh, num_period);\n",
    "average_income_record = zeros(num_hh,num_period);\n",
    "raw_hour_home_record = zeros(num_hh, num_period);\n",
    "hour_home_record = zeros(num_hh, num_period);\n",
    "hour_mkt_record = zeros(num_hh, num_period);\n",
    "consumption_record = zeros(num_hh, num_period);\n",
    "\n",
    "# wage is first generated by normal and transformed into exponentiated value\n",
    "wage_dist = Normal(wage_mu, wage_sigma^2/(1 - wage_rho^2));\n",
    "log_wage = rand(wage_dist, num_hh, 1);\n",
    "wage_record[:,1] = exp(log_wage);\n",
    "eps_dist = Normal(0, wage_sigma);\n",
    "wage_record[:,2] = exp(wage_rho*log_wage + rand(eps_dist, num_hh, 1));\n",
    "\n",
    "# raw hour home. the hour ac\n",
    "hour_home_dist = Normal(hour_home_mu, hour_home_sigma^2);\n",
    "log_hour_home = rand(hour_home_dist, num_hh, num_period);\n",
    "raw_hour_home_record = exp(log_hour_home);\n",
    "raw_hour_home_record[:, 1] = 0;"
   ]
  },
  {
   "cell_type": "code",
   "execution_count": 90,
   "metadata": {},
   "outputs": [
    {
     "name": "stderr",
     "output_type": "stream",
     "text": [
      "WARNING: Method definition simulator(Any, Any, Any, Any) in module Main at In[17]:7 overwritten at In[90]:7.\n",
      "WARNING: Method definition simulator(Any, Any, Any, Any, Any) in module Main at In[17]:7 overwritten at In[90]:7.\n",
      "WARNING: Method definition simulator(Any, Any, Any, Any, Any, Any) in module Main at In[17]:7 overwritten at In[90]:7.\n",
      "WARNING: Method definition simulator(Any, Any, Any, Any, Any, Any, Any) in module Main at In[17]:7 overwritten at In[90]:7.\n",
      "WARNING: Method definition simulator(Any, Any, Any, Any, Any, Any, Any, Any) in module Main at In[17]:7 overwritten at In[90]:7.\n",
      "WARNING: Method definition simulator(Any, Any, Any, Any, Any, Any, Any, Any, Any) in module Main at In[17]:7 overwritten at In[90]:7.\n",
      "WARNING: Method definition simulator(Any, Any, Any, Any, Any, Any, Any, Any, Any, Any) in module Main at In[17]:7 overwritten at In[90]:7.\n",
      "WARNING: Method definition simulator(Any, Any, Any, Any, Any, Any, Any, Any, Any, Any, Any) in module Main at In[17]:7 overwritten at In[90]:7.\n",
      "WARNING: Method definition simulator(Any, Any, Any, Any, Any, Any, Any, Any, Any, Any, Any, Any) in module Main at In[17]:7 overwritten at In[90]:7.\n",
      "WARNING: Method definition simulator(Any, Any, Any, Any, Any, Any, Any, Any, Any, Any, Any, Any, Any) in module Main at In[17]:7 overwritten at In[90]:7.\n",
      "WARNING: Method definition simulator(Any, Any, Any, Any, Any, Any, Any, Any, Any, Any, Any, Any, Any, Any) in module Main at In[17]:7 overwritten at In[90]:7.\n",
      "WARNING: Method definition simulator(Any, Any, Any, Any, Any, Any, Any, Any, Any, Any, Any, Any, Any, Any, Any) in module Main at In[17]:7 overwritten at In[90]:7.\n"
     ]
    },
    {
     "data": {
      "text/plain": [
       "simulator (generic function with 12 methods)"
      ]
     },
     "execution_count": 90,
     "metadata": {},
     "output_type": "execute_result"
    }
   ],
   "source": [
    "function simulator(pol_consumption, pol_new_asset, pol_hour_mkt, pol_new_average_income, consumption_record = consumption_record,\n",
    "        asset_record = asset_record, hour_mkt_record = hour_mkt_record, hour_home_record = hour_home_record, \n",
    "        average_income_record = average_income_record, asset_grid = asset_grid, hour_home_grid = hour_home_grid,  \n",
    "        wage_grid = wage_grid, num_grid = num_grid, retirement_age = retirement_age,  num_period = num_period)\n",
    "    \n",
    "\n",
    "    for t = 1:num_period\n",
    "        pol_consumption_reshape = reshape(pol_consumption[t,:], num_grid, num_grid, num_grid, num_grid) # reshape for interpolate    \n",
    "        pol_new_asset_reshape = reshape(pol_new_asset[t,:], num_grid, num_grid, num_grid, num_grid) # reshape for interpolate    \n",
    "        pol_hour_mkt_reshape = reshape(pol_hour_mkt[t,:], num_grid, num_grid, num_grid, num_grid) # reshape for interpolate    \n",
    "        pol_new_average_income_reshape = reshape(pol_new_average_income[t,:], num_grid, num_grid, num_grid, num_grid) # reshape for interpolate    \n",
    "        \n",
    "        consumption_itp = interpolate((asset_grid, wage_grid, wage_grid, hour_home_grid), pol_consumption_reshape, Gridded(Linear()));\n",
    "        new_asset_itp = interpolate((asset_grid, wage_grid, wage_grid, hour_home_grid), pol_new_asset_reshape, Gridded(Linear()));\n",
    "        hour_mkt_itp = interpolate((asset_grid, wage_grid, wage_grid, hour_home_grid), pol_hour_mkt_reshape, Gridded(Linear()));\n",
    "        new_average_income_itp = interpolate((asset_grid, wage_grid, wage_grid, hour_home_grid), pol_new_average_income_reshape, Gridded(Linear()));\n",
    "        \n",
    "        for n = 1:num_hh\n",
    "            if t < retirement_age\n",
    "                asset_record[n,t+1] = new_asset_itp[asset_record[n,t], average_income_record[n,t], wage_record[n,t],\n",
    "                    raw_hour_home_record[n,t]]\n",
    "                average_income_record[n,t + 1] = new_average_income_itp[asset_record[n,t], average_income_record[n,t], \n",
    "                    wage_record[n,t], raw_hour_home_record[n,t]]\n",
    "            end\n",
    "            hour_mkt_record[n,t] = hour_mkt_itp[asset_record[n,t], average_income_record[n,t], wage_record[n,t], raw_hour_home_record[n,t]]\n",
    "            hour_home_record[n,t] = calc_hour_home(t, raw_hour_home_record[n,t])\n",
    "            consumption_record[n,t] = consumption_itp[asset_record[n,t], average_income_record[n,t], wage_record[n,t], raw_hour_home_record[n,t]]\n",
    "\n",
    "            \n",
    "            \n",
    "        end\n",
    "    end\n",
    "    return consumption_record, asset_record, hour_mkt_record, hour_home_record, average_income_record\n",
    "end"
   ]
  },
  {
   "cell_type": "code",
   "execution_count": 91,
   "metadata": {
    "collapsed": true,
    "scrolled": true
   },
   "outputs": [],
   "source": [
    "#scatter(hour_home_record[1:200, 2], consumption_record[1:200,2])"
   ]
  },
  {
   "cell_type": "markdown",
   "metadata": {
    "collapsed": true
   },
   "source": [
    "# Fiscal sustainability of LTCI"
   ]
  },
  {
   "cell_type": "code",
   "execution_count": 92,
   "metadata": {},
   "outputs": [
    {
     "name": "stderr",
     "output_type": "stream",
     "text": [
      "WARNING: Method definition LTCI_cost() in module Main at In[19]:5 overwritten at In[92]:5.\n",
      "WARNING: Method definition LTCI_cost(Any) in module Main at In[19]:5 overwritten at In[92]:5.\n",
      "WARNING: Method definition LTCI_cost(Any, Any) in module Main at In[19]:5 overwritten at In[92]:5.\n",
      "WARNING: Method definition LTCI_cost(Any, Any, Any) in module Main at In[19]:5 overwritten at In[92]:5.\n",
      "WARNING: Method definition LTCI_cost(Any, Any, Any, Any) in module Main at In[19]:5 overwritten at In[92]:5.\n",
      "WARNING: Method definition LTCI_cost(Any, Any, Any, Any, Any) in module Main at In[19]:5 overwritten at In[92]:5.\n",
      "WARNING: Method definition LTCI_cost(Any, Any, Any, Any, Any, Any) in module Main at In[19]:5 overwritten at In[92]:5.\n",
      "WARNING: Method definition LTCI_cost(Any, Any, Any, Any, Any, Any, Any) in module Main at In[19]:5 overwritten at In[92]:5.\n",
      "WARNING: Method definition LTCI_cost(Any, Any, Any, Any, Any, Any, Any, Any) in module Main at In[19]:5 overwritten at In[92]:5.\n",
      "WARNING: Method definition LTCI_cost(Any, Any, Any, Any, Any, Any, Any, Any, Any) in module Main at In[19]:5 overwritten at In[92]:5.\n",
      "WARNING: Method definition LTCI_cost(Any, Any, Any, Any, Any, Any, Any, Any, Any, Any) in module Main at In[19]:5 overwritten at In[92]:5.\n"
     ]
    },
    {
     "data": {
      "text/plain": [
       "LTCI_cost (generic function with 11 methods)"
      ]
     },
     "execution_count": 92,
     "metadata": {},
     "output_type": "execute_result"
    }
   ],
   "source": [
    "# cost \n",
    "function LTCI_cost(LTCI_type = LTCI_type, raw_hour_home_record = raw_hour_home_record, hour_home_record = hour_home_record, \n",
    "        NH_rate = NH_rate, phi = phi, wage_care = wage_care, care_hour = care_hour, ceiling = ceiling, sick_rate = sick_rate, \n",
    "        dep_rate = dep_rate)\n",
    "    if LTCI_type == 1\n",
    "        return sum(hour_home_record)*(NH_rate/(1 - NH_rate))*phi*wage_care\n",
    "    end\n",
    "    if LTCI_type == 2\n",
    "        return phi*wage_care*sum((raw_hour_home_record*dep_rate*sick_rate*care_hour - ceiling).*\n",
    "        (raw_hour_home_record*dep_rate*sick_rate*care_hour .> ceiling))\n",
    "    end\n",
    "end"
   ]
  },
  {
   "cell_type": "code",
   "execution_count": 93,
   "metadata": {},
   "outputs": [
    {
     "name": "stderr",
     "output_type": "stream",
     "text": [
      "WARNING: Method definition calc_revenue(Any, Any) in module Main at In[20]:2 overwritten at In[93]:2.\n",
      "WARNING: Method definition calc_revenue(Any, Any, Any) in module Main at In[20]:2 overwritten at In[93]:2.\n"
     ]
    },
    {
     "data": {
      "text/plain": [
       "calc_revenue (generic function with 2 methods)"
      ]
     },
     "execution_count": 93,
     "metadata": {},
     "output_type": "execute_result"
    }
   ],
   "source": [
    "function calc_revenue(wage_record, hour_mkt_record, tau = tau)\n",
    "    sum(wage_record.*hour_mkt_record*tau)\n",
    "end"
   ]
  },
  {
   "cell_type": "code",
   "execution_count": 94,
   "metadata": {},
   "outputs": [
    {
     "name": "stderr",
     "output_type": "stream",
     "text": [
      "WARNING: Method definition calc_pension_cost(Any, Any) in module Main at In[21]:3 overwritten at In[94]:3.\n",
      "WARNING: Method definition calc_pension_cost(Any, Any, Any) in module Main at In[21]:3 overwritten at In[94]:3.\n",
      "WARNING: Method definition calc_pension_cost(Any, Any, Any, Any) in module Main at In[21]:3 overwritten at In[94]:3.\n",
      "WARNING: Method definition calc_pension_cost(Any, Any, Any, Any, Any) in module Main at In[21]:3 overwritten at In[94]:3.\n"
     ]
    },
    {
     "data": {
      "text/plain": [
       "calc_pension_cost (generic function with 4 methods)"
      ]
     },
     "execution_count": 94,
     "metadata": {},
     "output_type": "execute_result"
    }
   ],
   "source": [
    "function calc_pension_cost(wage_record, hour_mkt_record, rep_rate = rep_rate,  num_period = num_period, \n",
    "        retirement_age = retirement_age)\n",
    "    sum(wage_record.*hour_mkt_record)*(1/(retirement_age - 1))*rep_rate\n",
    "end"
   ]
  },
  {
   "cell_type": "markdown",
   "metadata": {
    "collapsed": true,
    "slideshow": {
     "slide_type": "slide"
    }
   },
   "source": [
    "# iteration\n",
    "* set  $\\tau$, LTCI type, NH rate, ceiling, replacement rate and see if converge"
   ]
  },
  {
   "cell_type": "code",
   "execution_count": 95,
   "metadata": {
    "collapsed": true
   },
   "outputs": [],
   "source": [
    "while nworkers() < num_threads\n",
    "    addprocs(1);\n",
    "end"
   ]
  },
  {
   "cell_type": "code",
   "execution_count": 110,
   "metadata": {},
   "outputs": [
    {
     "name": "stderr",
     "output_type": "stream",
     "text": [
      "WARNING: Method definition iteration(Any, Any, Any, Any) in module Main at In[96]:5 overwritten at In[110]:5.\n",
      "WARNING: Method definition iteration(Any, Any, Any, Any, Any) in module Main at In[96]:5 overwritten at In[110]:5.\n",
      "WARNING: Method definition iteration(Any, Any, Any, Any, Any, Any) in module Main at In[96]:5 overwritten at In[110]:5.\n",
      "WARNING: Method definition iteration(Any, Any, Any, Any, Any, Any, Any) in module Main at In[96]:5 overwritten at In[110]:5.\n",
      "WARNING: Method definition iteration(Any, Any, Any, Any, Any, Any, Any, Any) in module Main at In[96]:5 overwritten at In[110]:5.\n",
      "WARNING: Method definition iteration(Any, Any, Any, Any, Any, Any, Any, Any, Any) in module Main at In[96]:5 overwritten at In[110]:5.\n",
      "WARNING: Method definition iteration(Any, Any, Any, Any, Any, Any, Any, Any, Any, Any) in module Main at In[96]:5 overwritten at In[110]:5.\n",
      "WARNING: Method definition iteration(Any, Any, Any, Any, Any, Any, Any, Any, Any, Any, Any) in module Main at In[96]:5 overwritten at In[110]:5.\n",
      "WARNING: Method definition iteration(Any, Any, Any, Any, Any, Any, Any, Any, Any, Any, Any, Any) in module Main at In[96]:5 overwritten at In[110]:5.\n",
      "\u001b[1m\u001b[31mWARNING: replacing docs for 'iteration :: Union{Tuple{Any,Any,Any,Any,Any,Any,Any,Any,Any,Any,Any,Any},Tuple{Any,Any,Any,Any,Any,Any,Any,Any,Any,Any,Any},Tuple{Any,Any,Any,Any,Any,Any,Any,Any,Any,Any},Tuple{Any,Any,Any,Any,Any,Any,Any,Any,Any},Tuple{Any,Any,Any,Any,Any,Any,Any,Any},Tuple{Any,Any,Any,Any,Any,Any,Any},Tuple{Any,Any,Any,Any,Any,Any},Tuple{Any,Any,Any,Any,Any},Tuple{Any,Any,Any,Any}}' in module 'Main'.\u001b[0m\n"
     ]
    },
    {
     "data": {
      "text/plain": [
       "iteration"
      ]
     },
     "execution_count": 110,
     "metadata": {},
     "output_type": "execute_result"
    }
   ],
   "source": [
    "\"function iteration(tau, LTCI_type, NH_rate, ceiling, tol = 0.1, lr = 0.01, drep_rate = rep_rate, num_grid = num_grid, \n",
    "        raw_hour_home_record = raw_hour_home_record, wage_record = wage_record, value_function = value_function, ratio = 0)\"\n",
    "function iteration(tau, LTCI_type, NH_rate, ceiling, tol = 0.1, lr = 0.01, drep_rate = rep_rate, num_grid = num_grid, \n",
    "        raw_hour_home_record = raw_hour_home_record, wage_record = wage_record, value_function = value_function, ratio = 0)\n",
    "    while true\n",
    "        pol_consumption, pol_hour_mkt, pol_income, pol_new_asset, pol_new_average_income = gen_policy_function(num_grid, value_function)\n",
    "\n",
    "        consumption_record, asset_record, hour_mkt_record, hour_home_record, \n",
    "        new_average_income_record = simulator(pol_consumption, pol_new_asset, pol_hour_mkt, pol_new_average_income)\n",
    "\n",
    "        cost = LTCI_cost(LTCI_type, raw_hour_home_record) + calc_pension_cost(wage_record, hour_mkt_record, rep_rate)\n",
    "        revenue = calc_revenue(wage_record, hour_mkt_record, tau)\n",
    "        ratio = cost/revenue\n",
    "        if ratio > 1 + tol\n",
    "            tau = tau + lr\n",
    "            elseif ratio < 1 - tol\n",
    "            tau = tau - lr\n",
    "            else\n",
    "            return tau, LTCI_type, NH_rate, ceiling, consumption_record, asset_record, hour_mkt_record, hour_home_record\n",
    "            break\n",
    "        end\n",
    "    end     \n",
    "end"
   ]
  },
  {
   "cell_type": "code",
   "execution_count": 97,
   "metadata": {},
   "outputs": [
    {
     "data": {
      "text/plain": [
       "\"tau = 0.27\\ntol = 0.1\\nwhile true\\n    pol_consumption, pol_hour_mkt, pol_income, pol_new_asset, pol_new_average_income = gen_policy_function(num_grid, value_function)\\n        \\n    consumption_record, asset_record, hour_mkt_record, hour_home_record, \\n    new_average_income_record = simulator(pol_consumption, pol_new_asset, pol_hour_mkt, pol_new_average_income)\\n    \\n    cost = LTCI_cost(LTCI_type, raw_hour_home_record) + calc_pension_cost(wage_record, hour_mkt_record, rep_rate)\\n    revenue = calc_revenue(wage_record, hour_mkt_record, tau)\\n    ratio = cost/revenue\\n    if ratio > 1 + tol\\n        tau = tau + 0.01\\n    elseif ratio < 1 - tol\\n        tau = tau - 0.01\\n    else \\n        break\\n    end\\nend\\n\""
      ]
     },
     "execution_count": 97,
     "metadata": {},
     "output_type": "execute_result"
    }
   ],
   "source": [
    "\"\"\"\n",
    "いずれ消す。\n",
    "tau = 0.27\n",
    "tol = 0.1\n",
    "while true\n",
    "    pol_consumption, pol_hour_mkt, pol_income, pol_new_asset, pol_new_average_income = gen_policy_function(num_grid, value_function)\n",
    "        \n",
    "    consumption_record, asset_record, hour_mkt_record, hour_home_record, \n",
    "    new_average_income_record = simulator(pol_consumption, pol_new_asset, pol_hour_mkt, pol_new_average_income)\n",
    "    \n",
    "    cost = LTCI_cost(LTCI_type, raw_hour_home_record) + calc_pension_cost(wage_record, hour_mkt_record, rep_rate)\n",
    "    revenue = calc_revenue(wage_record, hour_mkt_record, tau)\n",
    "    ratio = cost/revenue\n",
    "    if ratio > 1 + tol\n",
    "        tau = tau + 0.01\n",
    "    elseif ratio < 1 - tol\n",
    "        tau = tau - 0.01\n",
    "    else \n",
    "        break\n",
    "    end\n",
    "end\n",
    "\"\"\""
   ]
  },
  {
   "cell_type": "markdown",
   "metadata": {
    "collapsed": true,
    "slideshow": {
     "slide_type": "slide"
    }
   },
   "source": [
    "# Exercise"
   ]
  },
  {
   "cell_type": "markdown",
   "metadata": {
    "collapsed": true,
    "slideshow": {
     "slide_type": "slide"
    }
   },
   "source": [
    "## benchmark economy\n",
    "* LTCI is provided proportional to the level of care. Half of the care is covered by government funded formal care.\n",
    "* Other policy\n",
    "    * Pension is proportional to their lifetime income. Almost same as **Kosei Nenkin** or employees' pension insurance.\n",
    "    * Balanced budget, which is unlikely in the real world.\n",
    "    * Flat tax with rate consistent with the spending by numerical iteration."
   ]
  },
  {
   "cell_type": "code",
   "execution_count": 111,
   "metadata": {},
   "outputs": [
    {
     "name": "stdout",
     "output_type": "stream",
     "text": [
      "439.541638 seconds (1.05 G allocations: 45.081 GB, 3.32% gc time)\n"
     ]
    }
   ],
   "source": [
    "@time iter_results = iteration(.271, 1, 0.5, 0);"
   ]
  },
  {
   "cell_type": "code",
   "execution_count": 112,
   "metadata": {},
   "outputs": [],
   "source": [
    "tau = iter_results[1];\n",
    "#LTCI_type = iter_results[2];\n",
    "#NH_rate = iter_results[3];\n",
    "#ceiling = iter_results[4];\n",
    "consumption_record = iter_results[5];\n",
    "asset_record = iter_results[6];\n",
    "hour_mkt_record = iter_results[7];\n",
    "hour_home_record = iter_results[8];"
   ]
  },
  {
   "cell_type": "markdown",
   "metadata": {
    "slideshow": {
     "slide_type": "slide"
    }
   },
   "source": [
    "## impact of informal care on lifetime consumption"
   ]
  },
  {
   "cell_type": "code",
   "execution_count": 102,
   "metadata": {
    "slideshow": {
     "slide_type": "slide"
    }
   },
   "outputs": [
    {
     "data": {
      "text/html": [
       "<script src=\"/home/daisuke_moriwaki/.julia/v0.5/Plots/src/backends/../../deps/plotly-latest.min.js\"></script>    <div id=\"a30b5785-235c-425c-bd6d-e87d5a6d2032\" style=\"width:600px;height:400px;\"></div>\n",
       "    <script>\n",
       "    PLOT = document.getElementById('a30b5785-235c-425c-bd6d-e87d5a6d2032');\n",
       "    Plotly.plot(PLOT, [{\"yaxis\":\"y\",\"y\":[41783.0,42826.0,11280.0,2877.0,859.0,234.0,89.0,28.0,13.0,3.0,4.0,3.0,0.0,1.0],\"showlegend\":true,\"name\":\"y1\",\"type\":\"bar\",\"xaxis\":\"x\",\"orientation\":\"v\",\"colorbar\":{\"title\":\"\"},\"x\":[0.0025,0.0075,0.0125,0.0175,0.0225,0.0275,0.0325,0.037500000000000006,0.042499999999999996,0.0475,0.052500000000000005,0.057499999999999996,0.0625,0.0675],\"marker\":{\"color\":\"rgba(0, 154, 250, 1.000)\"}}], {\"yaxis\":{\"type\":\"-\",\"titlefont\":{\"size\":15,\"color\":\"rgba(0, 0, 0, 1.000)\",\"family\":\"sans-serif\"},\"title\":\"num of households\",\"tickfont\":{\"size\":11,\"color\":\"rgba(0, 0, 0, 1.000)\",\"family\":\"sans-serif\"},\"ticks\":\"inside\",\"tickmode\":\"array\",\"showgrid\":true,\"tickvals\":[0.0,10000.0,20000.0,30000.0,40000.0],\"domain\":[0.07581474190726165,0.9415463692038496],\"ticktext\":[\"0\",\"10000\",\"20000\",\"30000\",\"40000\"],\"tickangle\":0,\"zeroline\":false,\"linecolor\":\"rgba(0, 0, 0, 1.000)\",\"tickcolor\":\"rgba(0, 0, 0, 1.000)\",\"anchor\":\"x\"},\"annotations\":[{\"text\":\"Hour at home (Middle)\",\"y\":1.0,\"xref\":\"paper\",\"font\":{\"size\":20,\"color\":\"rgba(0, 0, 0, 1.000)\",\"family\":\"sans-serif\"},\"xanchor\":\"center\",\"x\":0.5497685185185185,\"yref\":\"paper\",\"showarrow\":false,\"yanchor\":\"top\",\"rotation\":-0.0}],\"width\":600,\"plot_bgcolor\":\"rgba(255, 255, 255, 1.000)\",\"showlegend\":true,\"legend\":{\"bgcolor\":\"rgba(255, 255, 255, 1.000)\",\"y\":1.0,\"font\":{\"size\":11,\"color\":\"rgba(0, 0, 0, 1.000)\",\"family\":\"sans-serif\"},\"bordercolor\":\"rgba(0, 0, 0, 1.000)\",\"x\":1.0},\"xaxis\":{\"type\":\"-\",\"titlefont\":{\"size\":15,\"color\":\"rgba(0, 0, 0, 1.000)\",\"family\":\"sans-serif\"},\"title\":\"hour at home\",\"tickfont\":{\"size\":11,\"color\":\"rgba(0, 0, 0, 1.000)\",\"family\":\"sans-serif\"},\"ticks\":\"inside\",\"tickmode\":\"array\",\"showgrid\":true,\"tickvals\":[0.01,0.02,0.03,0.04,0.05,0.06,0.07],\"domain\":[0.10609871682706327,0.9934383202099737],\"ticktext\":[\"0.01\",\"0.02\",\"0.03\",\"0.04\",\"0.05\",\"0.06\",\"0.07\"],\"tickangle\":0,\"zeroline\":false,\"linecolor\":\"rgba(0, 0, 0, 1.000)\",\"tickcolor\":\"rgba(0, 0, 0, 1.000)\",\"anchor\":\"y\"},\"paper_bgcolor\":\"rgba(255, 255, 255, 1.000)\",\"height\":400,\"margin\":{\"r\":0,\"l\":0,\"b\":20,\"t\":20}});\n",
       "    </script>\n"
      ]
     },
     "execution_count": 102,
     "metadata": {},
     "output_type": "execute_result"
    }
   ],
   "source": [
    "r_h_home = zeros(num_hh,1)\n",
    "for i = 1:num_hh\n",
    "    r_h_home[i]=calc_hour_home(2, hour_home_record[i,2])\n",
    "end\n",
    "histogram(r_h_home, title = \"Hour at home (Middle)\", nbins = 20, ylabel = \"num of households\", xlabel = \"hour at home\")"
   ]
  },
  {
   "cell_type": "code",
   "execution_count": 103,
   "metadata": {
    "slideshow": {
     "slide_type": "slide"
    }
   },
   "outputs": [
    {
     "data": {
      "text/html": [
       "<script src=\"/home/daisuke_moriwaki/.julia/v0.5/Plots/src/backends/../../deps/plotly-latest.min.js\"></script>    <div id=\"79c3cb5d-d089-48ec-a399-f896c8a4d9ef\" style=\"width:600px;height:400px;\"></div>\n",
       "    <script>\n",
       "    PLOT = document.getElementById('79c3cb5d-d089-48ec-a399-f896c8a4d9ef');\n",
       "    Plotly.plot(PLOT, [{\"yaxis\":\"y\",\"y\":[1.5322229440795074,2.278315465971793,2.216056886798955,1.7838120772195871,1.147665997334619,1.2033582916351757,1.1625608871050532,1.6989333095789554,1.9990049454643395,2.0207488488001992,1.3570173324522445,1.743292351786518,1.7426011391189675,1.4803500414572506,1.5237397903394947,1.7745310818238365,1.9942252246254433,1.7599958127256288,2.0024194117361183,1.390228026583178,1.6571511184045902,2.942898709366289,1.3241889376513984,1.496457153777775,1.9209625435959294,1.5328390502819071,1.3144790331605094,2.015076415656229,1.32021987461667,1.6088921917310401,1.3032941593846088,1.2326139955777948,1.6435566751104183,1.7774252760508633,2.0863619468784345,1.1401721334209236,1.6761754513752032,1.1317013602897108,1.707322474667474,0.971691431081084,1.870734783386184,1.439484531085198,1.4116324506255975,1.6210607093887872,1.4944490595446431,1.9252120959870878,2.2073558994458393,1.582294725255576,1.606861304440016,1.7410754618171633,1.6253082243422776,2.029809848960168,1.1147318540512596,2.0056702537976028,1.0480685716988112,1.665356891711916,0.9575983608692157,1.3953831193247193,1.7479553813464759,1.093623635276656,1.0973202694736939,1.4540411247258698,1.5256923288533506,1.3173330640467134,1.4999679719556531,1.4852798755370147,0.979338412620544,1.9665877864651298,2.3056765724281103,1.2107761776687898,1.5953354699023268,1.075406508035831,1.4641648744575697,1.1902303348049292,1.1692678205694214,1.7887930775955136,1.4648734882145302,2.454373887883057,1.6778936996292715,2.039028447001373,1.7190326132954494,1.2843241475909206,1.5454349033177317,1.3908775616488416,1.5741263404317185,0.936637294141412,1.3651043134030496,1.1002905567445853,2.0663895338992115,1.7277074760076974,1.2959200603879633,2.0548673324596036,1.3749595099856255,1.4240781168569614,1.2638931882133957,1.1502117995210925,2.3613397182144737,1.2927724587733305,1.615651694541472,1.5385239233742363,1.7666368677625701,1.369152289567106,1.8716246789682889,1.711311635560294,1.4153657960580368,1.6338738327160525,1.3708121027110591,1.5180201582368218,2.2411878097946305,1.450328183245357,1.96987460573822,3.498431072240579,1.2528577435601167,1.1211948814824988,1.417816782743263,1.5081501056460653,1.3557784865449773,1.738340521303876,1.0064625029846508,1.5058850758926376,1.3877455995359393,1.992203060388161,1.4579899860342072,2.0560633202550638,1.3724987788877918,0.971143944911038,2.5421433772268713,1.4027516465377128,1.4524727038200564,1.3020121372838451,2.0745016587495595,1.6295373427022406,1.680527367748682,1.968426441635144,1.701379123704839,1.5077552558677425,1.8352291805459546,1.9179095210161545,1.492517218866074,1.743331439932919,1.573923892600618,1.4488035568303643,1.3489815794845934,2.2069685601395443,1.8572609249208016,1.9614375485338549,1.672820043500657,1.9823976499335076,1.213143940762846,1.1647195177238538,1.033886880359061,1.4218675242783307,1.9114553038178357,1.29341614010775,1.4547026942557484,1.1515336913296226,1.4396505538032223,1.6037255526276486,1.4214591615776337,1.701379123704839,1.968545218327198,2.18127264021729,3.125078598798184,1.3463458901521175,1.6673095333108234,1.507756516377606,1.512545876834256,1.480152881290004,1.6029147880371852,1.5318400506776304,1.9341354956285164,1.6215468455038584,2.224911929732639,1.8096180504608232,1.5616813449026454,1.6945400465058882,3.062010908934655,1.2676804056458417,1.5271185854716596,1.5951837271483078,1.9751435375546205,1.323422883680054,1.003079276180093,1.9919253813159599,1.0498749936899996,1.1813263407378929,1.4553872541128143,1.1781488859895515,1.7216212762403598,1.661761376982527,1.082251137697741,1.974542952250944,1.5930298465965602,2.5253024072103107,1.3118683077271351,1.266581132992065,1.2166749758851994,1.8165180859153685,1.7403762173756383,1.6416293470225019,1.4860003255590086,1.524059775591205,1.2748697506796722,1.3688679422863357,1.0067110180414232,1.6371248716196727,1.1558083479798158,2.0397721557485626,1.2160586042074166,1.557284197226714,1.4079235544856112,1.954122896628074,1.4517870135997355,1.599339819056301,1.6524105349605642,1.3138011054653709,1.0823493475278567,1.2461106584154966,1.4396971512603784,1.4072161925107536,1.6014294262402213,1.417746249683681,1.9305602105642887,2.1565878601160935,2.4220289713921006,1.696398059070014,1.9401398545153614,1.5242175739051684,1.5422932101917954,1.451739837057918,1.8121242401360498,1.44754468634163,2.179090511885456,1.3668310696647135,1.218077932480378,3.026618305629711,1.3671786555855823,1.1411627800523119,2.1552977751746556,1.288926344428641,1.7379642091965586,1.4577432074747896,3.586949446924522,1.7600206547895358,1.1592594366289835,1.4593756547343268,1.937034198219199,1.4236767189369424,1.4304200950345576,1.3502836346403742,1.342466281478293,1.456135414061487,1.5532093717582665,1.3869968682179332,1.413820413294839,1.466132164890324,1.4000955095514074,1.3174900189714187,2.0745016587495595,1.9485516330937753,1.6862571816949268,1.349884387905931,1.2102906511325426,1.2947684728891993,1.646670486446053,1.6595565794114462,1.6700358773820656,1.3069921261931823,1.6751718246235725,1.5984572817570175,1.0531337684812827,1.2346181749845058,1.7310164793076863,1.3621934104563056,1.3996528713152014,1.478043815385326,1.257276593182179,1.8522664671481106,1.4929520464737391,1.1492079861069844,1.7024828321692178,1.3342092356232853,1.6476331857440876,1.587703224990456,1.0311543524292859,1.4054872361865072,1.801121636309794,1.7961613802160077,0.881742529165455,1.177855735055861,1.291403512113821,2.231615373527549,1.2369478073419962,1.76480516340342,1.3536517886932549,2.3200174040774004,1.0744690099791716,1.4392598821830436,1.8164881947031393,1.5453100055630813,1.5255474203708996,2.1639615361610467,1.180673805742425,1.9004271657919412,1.7739588856223836,1.3494332999926626,1.728557010610692,1.441377047441641,1.69530932194897,2.3108042074309303,1.7736412728902025,2.2089458594503686,2.480210031068056,1.9414954379787206,1.847629399588829,1.6996369393934327,1.5094610738521212,1.440381717171,2.370973139345718,1.8682263822048677,1.7722994041313318,1.7145335212691037,1.6042742205901255,2.05521784135827,1.6616792494551025,0.9255490751565565,1.9337593364572112,1.5979812879267534,1.5687630484819923,1.4031491130430305,1.7375002792936942,1.866516582157907,2.245183897107747,1.670072376118986,1.5751196753316035,1.0102957258365663,1.5638032999903577,1.939894340829782,1.2752632608164673,1.4263101584139641,1.3297200297185667,1.3597750367257926,1.9012755731040303,1.4323637401961928,1.3186577668886308,1.8193625610769781,1.9242691729885701,1.770542447297749,2.1679412802345333,1.7075160038886987,1.5889729657174385,2.1260980204939792,1.5666192116552318,1.822826860800247,1.977456038442957,1.2677109132070363,1.6276323496486373,1.1833309411783244,1.9915478201871182,1.8271926906984732,1.471653071561696,1.6458984577802336,1.2536443316563324,1.866995765712066,2.5384635433030303,1.3938837425214192,1.3677472791356957,1.2598946462732277,2.02073990259974,1.69421221222755,2.2731015494788607,1.2251299464339014,1.3577141763800773,1.6918765525246962,1.3087200547960383,1.375786134207986,1.4729758454181954,1.2927217364006256,1.3932659935562615,1.6755611424884131,1.6017280286747368,1.3175435310458026,1.3165728846578766,1.5821506435457224,1.532307846370717,1.6416097610596037,1.4864206070016044,2.084217197569418,1.4000127321113653,1.4277230422431515,1.8472945054250236,1.2749608469801472,1.2661984581873154,1.1184978182051093,1.5004340440514476,1.5739439329550333,1.550687331027297,1.1994820382571134,1.3826844126990854,2.2766473953771014,1.2327679149633775,1.9532619516189067,1.0504831916625426,1.7132739707696685,1.1812052990446924,1.222679487279287,1.5749328022828064,1.7309113117814168,1.8566097158133896,1.549373448147874,0.8541090434238304,1.610923975864917,1.489214087408576,1.6922324543311067,1.1349300339015267,1.619186125040135,1.2330794163737329,1.7041326416030729,1.2627017600266242,1.0991294420963487,1.2722778826371526,1.8456641783399066,1.3157330162467682,2.677562472419858,1.5763297037867217,1.3328742977293924,1.17425541982436,1.8723538240430466,1.9695717531193662,1.1955210765340338,1.0104338230300283,1.0737783424467235,1.9506933330744385,2.2601787299839335,1.3098366501809953,1.0160408115209143,1.3157330162467682,1.1916813128494208,1.7967030194282827,1.4413723226330073,1.8602533388372955,1.266490533209595,1.2236824827208082,1.8009434007439047,2.2793532827696277,1.3875447897671709,2.2912919199788506,1.8799507512047755,2.0787044550449263,1.389252943077485,1.6647549354321214,1.996834754686984,1.2801042164805996,2.7734352404843925,1.6081251336152502,1.0932469472130786,1.6507577571595298,2.1554924478224775,1.1652669823261155,1.9196033347853239,1.4107234174652241,2.1596427166132486,1.3628687005204325,1.4352641776946726,1.5410010510653263,1.5438967093896774,2.049192068603014,1.6613227871102039,1.5654506063472702,1.4731210083323858,1.3525102542850127,2.2413145231801597,2.081981407995985,2.0393346869975373,1.899964150941826,1.124826907146055,1.544244291669072,1.4698821224566396,1.683713337098507,1.4726481670778075,1.0112975075288864,1.5081782327293936,1.468135473802946,1.2976233624697668,1.479542840077094,1.1997001116196624,1.1412784569213543,1.4662525250607588,2.0686801192704514,1.4175199650976302,1.2448206394903338,0.9237674148186326,1.4276607454500905,1.824201291675525,1.728364724012869,1.6333028398566616,2.0689563433316156,1.6717669345631458,0.8797172856955586,1.477698986613016,1.6285932963288925,2.0600701756164876,0.9724181282269698,1.7851587820503707,1.1888359965315212,2.323893020351147,1.272282617265379,1.9498806084861264,1.131380735910509,1.553342371875692,1.5671703600199667,1.355669881336726,1.709161633545494,1.112948222838854,1.3955076797306716,1.754052954036212,1.1466651578607765,1.435710328160632,1.7651623253751674,2.117447327987123,1.3497940359558016,1.3978617679068355,1.0639651223011732,1.759737849183199,1.6688630016916572,1.5093405001018223,1.7379975898600186,1.5690108725971927,2.2928112254814073,1.4375189607648093,1.2909043974234016,1.7036191961074427,1.3348740322501362,1.849788627227427,1.2790901039154807,1.4359697529411215,1.1910929270315451,1.6389844377290157,1.7376968928658398,2.5127639053593196,1.7865979120640318,1.7142856419625956,1.9193163311684749,1.4006848956072728,1.5654386385729275,1.5618056604829473,1.7785462424469085,1.3089393240131275,1.503836341114284,1.6067154441602516,1.494870823909875,1.278420782667039,1.3122127182561845,1.7973405525008581,1.383499657711568,1.5330738726714934,1.4138931635768834,1.6680745051236956,1.5519258784269825,1.7062246691481873,2.7228454990280304,1.9583770592926313,2.317729481890517,1.5527792206668287,1.8665139271326467,1.7891009352184954,1.8323707112436873,1.5901917938800847,1.6924687139060413,1.7029683284482293,1.8247776563927274,1.2635742426762673,1.334795709548211,1.679963922887033,1.5937147364186284,1.9298513598682132,1.5691217466315859,1.6749835272439744,1.793717861890944,2.0702643670232006,1.4364641062223664,1.728654571502132,1.9386809884809053,0.8825828512619862,1.8862785411304195,1.9859896972642315,1.2319810501957627,1.5698110648105692,1.2137145162502012,1.426323564799461,1.9407429139600327,1.453335187106858,1.9423931050785743,2.0809852000767304,1.535230878391782,1.478741412522973,1.6991992876186675,1.28312647289457,1.234950313451467,1.0797623620094772,1.3602014751402607,1.6065102245960405,1.8858548672214868,1.381034582182091,1.5769990479357934,1.7174678965268675,1.232302139289636,1.9491521491345098,1.3406287647926125,1.3997547998225088,1.3675118180293127,1.3810366228178546,1.3980779330840485,1.6059933489562974,1.442148946397898,1.9965446339423902,1.4836870701592866,1.4664376417150065,2.323830934752549,1.4632286891282518,2.522954769641547,1.60553311022012,1.7131796227510796,1.4486503436412226,1.3791634116844715,1.5413515693182611,1.797114367910786,1.5746205270187714,1.3862354735650455,2.084137769987513,2.0322064005046774,1.6815146172637694,1.834360661620748,0.981680657217278,1.4396459639644834,0.9895125029109305,1.0700651558044303,1.3754653555574976,0.9068506606817438,1.8309235393020322,1.677023627975682,1.2893002961962277,1.4922723554582498,1.512158073534795,1.296056599715306,2.0556310120126446,1.3675837658738854,1.4260193807210577,2.058744766094623,1.6861018664423326,1.709383456981488,2.2249232920835,1.2750989162235158,1.6089268414594184,1.17398666652502,2.5160501696736706,1.6791280509704372,1.1154306842060362,2.0817138868870613,1.5187116242604557,1.58866318802058,1.2883580637323848,1.4519360483262593,2.319787266080959,1.5508508761087714,1.2302322325987485,1.5272183180554457,1.9365008362531568,1.7121054112743992,1.5790555470639145,1.6413399673379163,1.5978521385088427,1.4007345718119408,1.5470271454642348,1.295144988103793,0.9330914072890213,2.0110351755681095,1.1933418855901536,1.958298085981277,1.1238766827345352,1.0799705110369986,1.5573676568801174,1.4403791849763203,1.6003825273895955,1.3407112147626814,1.4405316165764988,1.1341260168306384,1.279096417428885,1.0022524482043496,2.1899916183070043,1.6763835050283127,1.7974154937835682,1.4708766037326702,1.650661745345564,0.9011189060107454,1.3219647375188752,1.1252939650475278,1.4995660234138701,1.238276153508588,1.3837558617019072,2.023031915428474,1.3797865826928928,1.2316138156400647,1.0232277034835575,1.2574757270662347,1.5996641496147146,1.1936668658680343,1.0559785393789263,1.4761138181745581,1.320018994154438,1.4871557096038484,1.4074808438675515,1.3288513136697044,1.6462796725706326,1.2005209846926053,1.649995828898473,2.1388603327548354,1.7462514684633934,1.1108117933071697,2.79679826702908,1.3520613626134463,2.1436653555243006,0.9687979587881101,1.4942314534190213,1.463872203717261,1.5374576566361178,1.408427221116871,1.6168172225836523,1.54480317970151,1.3553878850441468,1.660598783680109,1.9416046311070958,1.6783426789331501,1.3579284711031026,1.1905589530110565,1.272227166658579,1.888726797912339,1.323239854600581,1.476976821233047,1.3904827271386366,1.8101500927350265,1.4782868661218815,1.9484035694011064,1.527308750657097,1.8341257409995249,1.5586276643425725,0.955269637094893,1.606145014155812,1.139566084776395,1.2392847520374728,2.2764881629414697,1.1391616603924768,1.6511253899909426,1.3859618539072183,1.9623409610692775,1.3745698758880862,1.7466463058469197,1.2144088190537419,1.7518722728069773,1.1073581390560625,1.626835032886643,1.8576444967966548,1.5221750313006561,1.9966037997123198,1.5728639911288602,1.248799453392363,1.1114191018172332,1.0388157092949972,2.1618319473077205,1.590670111917144,1.4740964828195682,1.9276615871567162,1.0805896285880274,1.8930392897473456,1.6461683330662698,1.5539415652105124,1.639713568658234,1.363713203946964,1.5606009762429318,1.3824733636514344,1.0689649998135566,1.3197086963601259,1.677013898710373,1.4843011998301008,2.0993968150464886,1.9206258337105622,1.6759964314644287,1.6485121036658172,1.5831301535173454,1.4953846602450669,1.2355849860602817,1.3776330546417432,1.357048391080759,1.9689304113185493,1.5150708839580371,1.6294582424373918,1.4441464547391183,1.2012347464987507,2.0959338484427263,1.5217670192901132,1.308637508651155,1.9842573717527436,1.0989760100345611,1.3371034773440376,1.5724839390004197,1.4247183477684349,1.6659758036287924,2.213753542260964,1.9476028564725096,1.2657095037797341,1.557422938030777,1.417535040521087,0.9726837620132075,1.9857504732651545,1.8391966331130725,1.1379673838823132,1.20424255060402,2.6848246836392518,1.323785785714385,1.3350451259644203,1.4270857876059924,1.1628412232537484,1.5715755018708266,1.6535392936589355,1.676688565259966,1.547843522354874,1.2180684901907952,1.8368008870638375,1.849439688520897,1.463787078283663,1.5429677035907332,1.6476937768739388,2.2298867998990453,1.6603148296648171,1.2653336643830901,1.043376281748959,1.8514476076706186,1.8306565075427113,1.5058692992232752,1.096523400220997,1.0362141362541322,1.6429518672045385,1.3811576326850832,1.8215204687615718,1.8857294977953964,1.355750411783082,1.642661776021806,1.2574868156076864,1.8582905302132833,1.3060789828815798,1.349131951529087,2.211681900440464,1.7093897139188277,1.5621900468541718,1.5269278827275818,1.3730113609556418,1.1912691638123765,0.7973035494039427,1.3980788019911143,1.3004701659407543,1.2929899468888835,1.78552718383534,1.3940663132574618,1.2353797500140589,1.6237599124842221,1.0549115403568154,1.693555912783159,1.7412007248696852,1.905343133775157,1.1911845604214488,1.3442649318865538,1.3195176174683088,1.278009018764587,1.757488848385242,0.8005826979783477,1.7838752164828187,1.2247437032831332,1.8276739341572839,1.53336360137478,1.6442726953190414,1.5446581988824386,1.6208087250134398,1.1418620785785896,1.4974940094947267,1.9912048978168115,1.5294779824704978,1.2891629983679689,2.2097889581704813,1.470977932663142,2.380253519284015,1.600767394304241,1.3047365213604105,1.7901613016572393,1.8584453498855162,1.5735789642755253,1.571752444292513,1.6139206472757457,2.5712382966180094,2.3121875311096316,1.9724821632424292,2.1144013414426395,1.9957609095036086,1.8285368887618942,2.0453089713591894,1.4428904698446021,1.7198787440513483,1.6523384279836932,1.1547857784982503,1.2100019022982733,1.8574333717983944,2.0498876106838084,2.381101709160838,1.1126045229372894,1.1152626195325346,1.1458895924988823,1.0753189133073073,1.516507797587233,1.5159650098540438,1.3837558617019072,2.6142103213983177,1.5082478636014942,1.538947358951706,2.169743005028913,1.058474169528395,1.3916469612593332,1.5131901901302631,2.0992776685136803,1.323234079721575,1.5732558074663503,1.7274276395905463,1.631748399704191,1.7243882055726376,1.1191615250216609,1.0784611123958343,1.1901640759264218,1.2366215143582684,1.5674332011742393,1.500660257474751,2.2766718353867015,1.0828121787368195,1.929411590602784,1.4248090343987638,1.5403819078244474,2.08373042068782,1.8451376068350027,2.3147632644122367,1.2843241475909206,1.7260550446319922,1.7547309035113714,1.6719584093356286,1.5574257343492672,1.4473486977906513,1.9427644993583761,1.0061842356424455,1.7654666803364574,1.866995765712066,1.258004514352892,1.4436112058839738,1.5064311608542926,1.4773626998205556,1.4019134975648895,1.4280051079955236,2.1197120343881766,1.2889599389659645,1.991890644755021,1.890334679033841,1.7498684810871237,2.166268043919168,1.2453431473629504,1.2877744037045744,1.8687776840413264,1.0925544165964072,1.4290522687012797,1.8099629835946351,1.2162573131198249,1.3081893172300145,2.198457470796629,1.3205193424159578,1.8578719377455521,1.3633937610996472,1.6931540771791436,1.172326837416286,1.6921656654057806,1.3845018545390975,1.4641016879580824,1.3999470357661177,1.6814665263516215,1.6051926651388828,1.8377947228756963,2.8048690475518447,1.764358546712292,1.4736151852337134,1.9229231516341128,1.0353641607424795,1.4001837081036115,1.8423504281882277,1.4307453843594737,1.0696041567213947,1.7611859161136776,1.7863397226043993],\"showlegend\":true,\"name\":\"y1\",\"type\":\"scatter\",\"xaxis\":\"x\",\"colorbar\":{\"title\":\"\"},\"x\":[0.006096163113508415,0.003869916935363458,0.007713000292507301,0.006144526822533723,0.003885535983011681,0.010151406540052884,0.007556016741293142,0.0050542522390855426,0.004736971194122673,0.007972209498107131,0.004492670255774866,0.004428794194920014,0.007423498425512266,0.006877253308687665,0.0038850815551839564,0.006042949918157137,0.0024464761173218206,0.0016067753494808934,0.004378919963013297,0.004306052243190154,0.0044481364650010196,0.0077815469700425275,0.0013315725830613581,0.004946620617120191,0.003223810926644328,0.005775901558953496,0.005525374690663457,0.005176623190350363,0.006230283271104048,0.0048947600505864315,0.0042810655968768905,0.00662347960520242,0.003878018194254648,0.007427660026136682,0.008691913011858116,0.008058317891919825,0.004628083851183612,0.02161476685461955,0.004816680147466311,0.008972754214438796,0.01063532217596831,0.004181298114259435,0.0020446717519472146,0.004593889168016807,0.004810861814947053,0.006985870548078689,0.009142211076339073,0.004900560582255025,0.00631564225929302,0.001713283495558833,0.0025140098709522983,0.007642989906074708,0.004044451002975647,0.009762259380789005,0.00589051575718218,0.002183187078707111,0.0066266131170814825,0.005204057914806778,0.004859643457812477,0.004055068274739424,0.004982382204970084,0.004899818074581381,0.0038692749995649714,0.006855562346029569,0.005527659348616663,0.008194574932838513,0.004576747727913697,0.01145773891325298,0.005276015849063073,0.004666761821936724,0.002918251458532969,0.009565830298540046,0.007081569532423326,0.0051745636170596075,0.003002182522735825,0.005040475547174691,0.0068377216619637604,0.006322460792526162,0.01590362285619467,0.0054765548832422465,0.004864639207763734,0.0023639549677373054,0.014878967945934825,0.0044642353517418045,0.0035271484013069112,0.010931838028247029,0.004882218512810816,0.007792616322590476,0.004927896684840787,0.010608456383845893,0.002727145813212837,0.00455179793019955,0.005706151396523565,0.005314909806352055,0.00571883481652989,0.0053620145896501725,0.003795423189439679,0.006197522038555642,0.005380894909646402,0.0074585763752818375,0.008558601003381862,0.005770644335093508,0.005552758131561904,0.0031521553478601337,0.004886781141118988,0.005879376248605174,0.021121446589604808,0.0038423336632740215,0.0032832898162782993,0.003316241245929069,0.0062745519623138984,0.004310079340006255,0.0035025822708242655,0.004871074209988637,0.006954750282423958,0.018201016616484076,0.00469050498002629,0.0055734368357481445,0.00232987403049601,0.005891454437064134,0.00878265367226053,0.009185378786374624,0.002172359807017789,0.00769855739398739,0.006336108490485693,0.005871540830713759,0.014365982418458044,0.0064805923314678986,0.02293688565313156,0.006416143951154868,0.011218388551876346,0.015210608961781488,0.0037156959529086944,0.0053318287119216,0.003343496680626373,0.007639633563763846,0.0027718098085724916,0.00814969501240853,0.00485715495040832,0.004557745525054225,0.008014828011556376,0.00648125877001044,0.007223175478955905,0.004986956236674302,0.00295069088094063,0.019754374227223707,0.0024099371385885265,0.003371341249695297,0.004011750869484932,0.0034462903604264134,0.011239630034931862,0.01563949181826355,0.0018129321191194263,0.004971615103880604,0.008131854948370902,0.00437414139343865,0.005224015710753398,0.007191712345522674,0.004303741071691837,0.007012916903351003,0.003343496680626373,0.004902299251779393,0.008168911408294783,0.003236180051919903,0.007456872862284792,0.002924196345396539,0.006781489785642909,0.004114072394537478,0.005694419608506542,0.004651113568082381,0.007685390602245633,0.002375391490631293,0.012761979547172883,0.002053184969516108,0.007769239046275112,0.004609680259027056,0.0036144459125886574,0.002737134780502876,0.010678995072205776,0.00536659159529513,0.003729745492522509,0.006953388429834495,0.0086229087460675,0.01035297694734645,0.004084670299142693,0.010344637683454129,0.004312530296368936,0.005763340149951934,0.008619373542948514,0.01010131025551335,0.00684821327696548,0.011929415270953066,0.0025343059027779667,0.005068572851323995,0.006766817454006677,0.0033647644512749524,0.0038752768837487976,0.002405192935868402,0.003087218166831834,0.005000085463875188,0.0029699176363323066,0.008778456395231869,0.004107567761832919,0.0076216480814905166,0.013608211908866973,0.009267915689068375,0.011215341453620766,0.004959614798956827,0.004476737042895306,0.005797386282302148,0.002767357337289315,0.0040770029231531465,0.0029161251069385477,0.004905488792477674,0.005170314272861235,0.007237603732094578,0.008486725683339014,0.007224401730547025,0.004275564064886517,0.0028777397532351,0.005024005339395296,0.0038832678956867055,0.005810768040619654,0.0034950738090549585,0.004183703404089792,0.003985600068315901,0.009685299356893367,0.006909336279478456,0.004882838501003773,0.005385552267669483,0.0040515644955052155,0.0057271457922150075,0.007024131271573644,0.004036687446459654,0.004159156637076556,0.003501646896100796,0.004377131549534803,0.006852451445961469,0.005210922466714582,0.005780726510805782,0.004385367957067489,0.012552422055528124,0.005177371373801935,0.0085170779119555,0.004013531932990529,0.002213484421458143,0.009061891036782259,0.013472232020770249,0.003180675968049387,0.005092097510016241,0.009200749032853357,0.0066456340363591345,0.0031043168578662535,0.008672114449697498,0.0038132612066888415,0.02936057971956586,0.006000028635687802,0.010042345902665747,0.006479604740945187,0.00943871048035016,0.0036390273174429764,0.002599143141169738,0.009222943632572545,0.009539062501575048,0.003022332911414462,0.005197732960748363,0.0020072184936300794,0.004031185635834475,0.003265426028702747,0.007620755239654605,0.0029543870623983076,0.008246437618908205,0.004901895377996111,0.005509111177056378,0.005674213677154312,0.006254705545554305,0.0037944584006860374,0.0029460614595917265,0.01345386196114273,0.0025960866441784923,0.008164431547482502,0.01035598113094717,0.011317831948424742,0.005465741275698697,0.004268184861139543,0.0021098711000400406,0.004072035808233129,0.0033186314177912064,0.006323158688581863,0.007546678186784525,0.01240921965510824,0.006508929565548869,0.006183236872871386,0.008665749222520305,0.0038406573606753246,0.007053907469099521,0.007327460706390097,0.008809008000767348,0.002029440972247046,0.013717558510903697,0.002862480912957658,0.005490957307792049,0.004274921640012699,0.0066122107145278036,0.004238921110512895,0.004333779490850129,0.007718906417405917,0.002889966569561081,0.008578927903151595,0.003085630931853992,0.005950545921138538,0.008375957540290437,0.005366498238407859,0.005940345155893358,0.0020736802759713305,0.002645134285382055,0.011210088015128088,0.002449495417438261,0.00794454353957757,0.005195806556817182,0.003346548930996159,0.007134589124259426,0.006234988611860745,0.00441408372043953,0.0058849502284433345,0.004458310945554474,0.005595343460960608,0.00767683295715002,0.005062613635954703,0.0033863168770099715,0.0013868709415326772,0.004273480172589118,0.015695072802884083,0.013713600793818717,0.011855100956042215,0.0020771089602890183,0.0031533321074765975,0.005067441871878963,0.007993455398042621,0.0029592619159021275,0.004562769964791047,0.005894428177678593,0.009299833199220385,0.005721767859362143,0.016685473609547766,0.005092830060106938,0.0103812864791934,0.0027703678213313646,0.009394908392768667,0.006890301800048581,0.008291691708687909,0.007921186012982494,0.012034951723770998,0.0019534827208498944,0.007134578655550571,0.009618113031716065,0.010892536513195139,0.004345194690922284,0.01079780361215263,0.004462296670725244,0.011771494119028269,0.0029796264370708643,0.008363563193136135,0.01596709479694559,0.0023516585016403755,0.0085526549144431,0.0033661529176112017,0.005665160831420622,0.0060175886170834815,0.006496998073291993,0.010406630684979502,0.0027904542477454252,0.0019219688339801777,0.020545685277223127,0.004588413898809509,0.004301885061931733,0.0029114744385764753,0.009495469433484399,0.004199960517307598,0.012002882315495506,0.0036940056955401604,0.0015812483427783107,0.0029531221032169457,0.005629222882889337,0.00942795512909413,0.00810247100424507,0.00255682545196466,0.005848763776506061,0.002403807093611562,0.0038826421570364628,0.02474590041640376,0.003475196917616805,0.0019384425158314755,0.0030854372227231575,0.002163554641358145,0.004503671157544188,0.00420636958372626,0.006578184152628909,0.007317573847611237,0.004082867903339364,0.012314934989011256,0.0068344183343690915,0.006035936444964497,0.002065343139682335,0.00535401712345084,0.005595275117488335,0.012045105971784759,0.0106711577787736,0.005886033113603908,0.00520903243210922,0.005083039716779771,0.005884407929077286,0.002993383911752883,0.0030776607018925804,0.004873937870061495,0.008373183208934752,0.014330655866582812,0.009049609799081374,0.001976753807109552,0.007671663765691807,0.006522265920098949,0.005540295168089652,0.00483688397258404,0.0030787176012911682,0.008158652319016841,0.009280035751947805,0.005788640371660286,0.0028957312363352404,0.004609680259027056,0.008196369723856258,0.0032812118478950103,0.008126641348604264,0.0021837377404253875,0.009535194792293979,0.010053562092279764,0.015527311697878562,0.011706113344132558,0.01225172907537826,0.0022570487842052513,0.003172827414896062,0.0049760866865860235,0.003718107928012311,0.008953922967736942,0.003868920416439726,0.003892121383467851,0.003607149986140426,0.011738553526092233,0.010400388521413576,0.007263211399569119,0.02112818798453385,0.0027851320520062557,0.003395947040646583,0.013947667843393045,0.01230756051189374,0.012782533191430375,0.006132439894197392,0.0027263563008038025,0.0057394441527342955,0.006240753246171305,0.006293265119737778,0.0035925609185023448,0.003549859873151388,0.0032445442680204845,0.005073045159546053,0.002476256261189583,0.003299442151179659,0.0022080414740380467,0.017471682696367053,0.0053615981426872565,0.004619788200954787,0.005677294822034039,0.007975552362054066,0.0052572049911628815,0.002400985059367524,0.0029716405639650463,0.0061435298611106645,0.004863721323568389,0.001937752118199727,0.005759731777006277,0.004844445939757999,0.0019695730091206704,0.006580688474431674,0.007108135924261792,0.003340366892678325,0.00512971981391017,0.010747442331232489,0.003125884425810368,0.00607238699562186,0.01471066176020324,0.009906411347835148,0.014946668553643364,0.011368925644847585,0.0031556536776475397,0.014050174140418696,0.006748273214281305,0.008389071552881197,0.004064103690036901,0.008562699339029547,0.007161185105969163,0.014438595211428209,0.011770682075247955,0.0035873411849164354,0.0064071277362911785,0.012904066806488906,0.0037817321480128185,0.002167400217318777,0.0034123273935751848,0.007138448150066171,0.007878352378703256,0.0025483253725629524,0.006583452886990903,0.021985232022006928,0.003917719822794487,0.005176623190350363,0.008051842972138193,0.002111663224509464,0.0072482412491999375,0.006188964958812323,0.014415822669369856,0.0049975224091946,0.00374038292146757,0.005813533990721297,0.008704847105466866,0.006513464042203889,0.004524655167536361,0.0013548802847498627,0.006050266639609742,0.013932635703487557,0.003941130782706205,0.006011443799927458,0.003231378044172232,0.013939964259251177,0.0052654331965852,0.0027177443801767215,0.01120711484707088,0.0033561979043215963,0.008888781384907373,0.002047813280137886,0.005929816763476162,0.004673650026695925,0.0017773769044263782,0.007214429164180573,0.005586648483641835,0.0035405712436798135,0.0040323676316646765,0.007445741379411431,0.00503061280947425,0.010122138561491788,0.003672895714389856,0.004762577531598808,0.006795353819743502,0.004717717534380622,0.011023083277631305,0.004643008803303441,0.004672890200575705,0.011177230372822996,0.0015430122565015802,0.004853871347386564,0.002303163622053807,0.008101081188527409,0.006612135036227148,0.006390503909961067,0.003917359805288058,0.002423546756498059,0.007326239743888288,0.008203128458407802,0.002736494054791909,0.0024475150258151607,0.016524186370020788,0.004841375724882201,0.0040143451790098745,0.003228138659863146,0.008755384560841541,0.007982970408724158,0.005710048177356135,0.0025640461744703877,0.005513280994192564,0.005661751481774923,0.004475639360071205,0.0018926944761393798,0.0036613159191131346,0.006313311171624228,0.005563909152533583,0.003879530674832242,0.0031759782009356044,0.0018832235944402323,0.0036964965658496415,0.004652793544948878,0.002532423346424763,0.00534692026418697,0.007889271862450156,0.003237799298388391,0.006166579198985781,0.018587714372209546,0.008005369905252071,0.0057943621213484035,0.006675810781684854,0.0023773394627167673,0.004958649897166138,0.005777404185363157,0.013538789595169484,0.007599320278002921,0.004885486925846954,0.007528673604754152,0.003404655100570468,0.003369475671235319,0.023101588948514194,0.008473184241724663,0.003185999557911551,0.0019054898925921408,0.0010357507645056552,0.004203328930710842,0.009718264708626403,0.012102761394605725,0.008622985132704037,0.01688645188598995,0.006996099466464039,0.007719930256495969,0.008599841620627654,0.0060506227638874475,0.0031405948144854197,0.014022243279375691,0.004664294221819167,0.0020338621263357053,0.004153596249316156,0.009246123141364717,0.005516898879972699,0.0033750837947126777,0.0016936273574367138,0.008864627934840516,0.0071009124417492605,0.017112172328235576,0.0043757804329710714,0.006430638958488716,0.005592154257439187,0.0041340194643141245,0.004000027707885074,0.00449123300747585,0.010064953884907012,0.0033114131662989664,0.007617292406318633,0.0046954753735422,0.02209206694229408,0.011724309600945974,0.004469242265908039,0.008262480278106913,0.007531571603595466,0.0039347604389245614,0.0026855251118715682,0.003181912630725395,0.00593206085633046,0.003441070959906892,0.009675752077865142,0.013765595088299097,0.009203854035590046,0.004939704975913818,0.005660938097452536,0.0027957099906818533,0.010163090063483371,0.0030743868168941263,0.007953449234627909,0.0038783783478623067,0.007521149333845229,0.006250101776319892,0.005920404290461087,0.007343678965609723,0.005397048173430664,0.010434524725594505,0.00377036947609217,0.009374578099537555,0.002622031545719063,0.003917359805288058,0.00633552870440057,0.0032209073768511296,0.004744492208634979,0.00827661989649737,0.011278031874833153,0.014155561652273782,0.012270595318657105,0.007988806353645584,0.009238337556547667,0.0075863802013192904,0.0050035305193709915,0.009605310253810702,0.010688588624328133,0.008222584967416532,0.001995423712999324,0.0053614892229791105,0.007432394428260705,0.00472023351931797,0.011942620147193701,0.01148848373256568,0.0062084240783436394,0.0066461750071348255,0.006692781118611707,0.018491898902729346,0.008481334780490636,0.006971266321487463,0.004939127979228485,0.0027188847858304953,0.0029598365826407607,0.0033998519111720477,0.007260631326349578,0.0033232550499101765,0.0023867866462490995,0.013375372405448982,0.002997463969919657,0.008683260265408502,0.0041384270953757525,0.0028722702088691005,0.007379983971102049,0.006927005338148939,0.004416829778895805,0.004593343590391324,0.006800704949804413,0.014438408561465981,0.01158422826179949,0.007139042750651812,0.0038825364569596435,0.010508440334578407,0.003916944828392534,0.005172236159567248,0.006805928845455806,0.013836926139576463,0.0021896003665202663,0.004226117930743123,0.0025393828590453073,0.005250867522186962,0.006516862688361546,0.01227732665763848,0.005398852489178946,0.0033370756079364266,0.006134323633571823,0.004279194237759983,0.0031469851041640512,0.008762344612976097,0.0011111675414617532,0.006309060679880491,0.0064552794280938125,0.005245158450576492,0.006298292808774668,0.010752864515582295,0.009443112017083867,0.0075411706945341175,0.00406206257718913,0.003315494807510109,0.0014716898805556403,0.005143117190083678,0.007307575855479124,0.002721870828577355,0.002951178003371892,0.004374876105560771,0.003363358162580073,0.004857339415662626,0.002946098843398352,0.004675705546959946,0.008080396653264356,0.007080780014339438,0.00782399430881741,0.006441117262029919,0.0050582009189294825,0.003601793258838245,0.002114503464433563,0.008161473145622246,0.00518628650475002,0.006810698946153629,0.013256379289189478,0.0049416931170139684,0.005876626438372996,0.00414572938895479,0.004428794194920014,0.006808119117572812,0.003849508091124772,0.008221486625353682,0.005301132674375319,0.0020230470098927034,0.0023687616894614498,0.011181964875362927,0.003374010092617569,0.005908987680647442,0.006931443289629862,0.005026383044052757,0.0033624825920840757,0.014075811744115475,0.010709491424104151,0.005102076913266682,0.003504268445764322,0.008358890360845245,0.006357151504051402,0.007168846083200949,0.003833461848614719,0.005908969126078971,0.00619144029766958,0.00695652715226593,0.00993772903240654,0.004253076154460941,0.004155123659756429,0.002468527318804599,0.009865949722423469,0.0087163339031591,0.006754088825051348,0.005231327119814377,0.0040681314315677555,0.0029355778352179273,0.008082514777570732,0.007526848943427207,0.007106253565880763,0.006408315488898412,0.005915366786010696,0.004329939732024295,0.0048884930556034436,0.003707407853790981,0.020866307819798615,0.010071436289696803,0.0046509473759622135,0.0024517630237951833,0.006506329271998057,0.0030478963536214546,0.006786285764479982,0.00306823678533749,0.002732192839952542,0.011881191304606584,0.005669589768560255,0.004306285586333506,0.006376791335006678,0.007791848155875981,0.003878691150906251,0.002643390894593827,0.005861480034838202,0.0022421269245241943,0.00232395185805402,0.004278153297341438,0.004270618501458235,0.0035677748326359807,0.00430131845824257,0.003556100865816777,0.015826917274607572,0.0019442037804590665,0.02212678984343081,0.0064258811300841046,0.005586453161178987,0.0072099601962143985,0.006654830824905064,0.01104158080049742,0.006213995404004748,0.011514630693781632,0.0041113605086451725,0.00774910453386694,0.00161300262215474,0.006199401459769467,0.0046404100756442515,0.0077623066679677,0.009807115451339122,0.0056801078855773625,0.009113764814834781,0.006157437006121645,0.005602947031978565,0.004199423565842321,0.004200877917927251,0.0022154559037971663,0.006537997622389938,0.0034235150014484514,0.003017385160693479,0.0014648845664572603,0.0023920579798159423,0.004169048672098661,0.005066848550279457,0.006194760872709351,0.0023823238376522314,0.004420890968529625,0.004357007103857748,0.0032328809482615414,0.003888119692094718,0.0035812469219035936,0.0032125411337668463,0.007183871935690391,0.006233867813922013,0.007057215793786133,0.00785066639968684,0.004455523418099049,0.0034469502315509536,0.0050548049027668174,0.005925089341863922,0.005522988888397729,0.001695185551769179,0.005919290491596113,0.003662878155463597,0.003071790685679045,0.003970872915572445,0.009561996787429401,0.005595379674186483,0.007307985006682552,0.0018692554875893996,0.004172255244919896,0.0020188854170775637,0.005185291185438959,0.0021426513048459638,0.009771238969684784,0.005642129628347641,0.005328229714185251,0.002337451910902347,0.003600439857684391,0.014975287013951323,0.0024648796601653687,0.007525952793328069,0.008154757590980626,0.006781768605001702,0.0056563508929787345,0.0054597209319201655,0.005463257786331174,0.004850804104626827,0.005654134006494693,0.008522054475733355,0.0036756781189821322,0.003426251171987333,0.004647355844044331,0.0031242627007738895,0.008531297466616804,0.004165938566639028,0.00421900590771244,0.00869441960984243,0.003374425350582059,0.0014053354656937153,0.006220337972878752,0.004706061873899432,0.0038832250732312172,0.016830903137629093,0.005644698638990931,0.0027878853553612044,0.004792813023886577,0.004623357746349579,0.004766687409669041,0.004297807993144109,0.0032579976069139925,0.005748888065431023,0.0027109549256257672,0.010144495187905665,0.005272488626734229,0.0042322018696323675,0.005553073834190019,0.02370907182643262,0.006789474414501806,0.015143327435469147,0.0041810127948571415,0.011640730884793995,0.011096508434569424,0.005996212865287177,0.007347500898089778,0.0017761151173868643,0.0020241871535784024,0.0021459149611860176,0.0035967984866239035,0.005678878971342042,0.00335796520542715,0.0025399906993005266,0.014232524321501731,0.0054256449516079976,0.012983801734026829,0.002435408068135669,0.004152529451962312,0.005148363089322834,0.004899791750473112,0.01649633034053794,0.005836489962591296,0.008845854120199555,0.0024269697995266803,0.005299849908753029,0.004921936323671233,0.004867134457081542,0.003576454912266074,0.0060707004619846945,0.0035534804973439468,0.006922542333085421,0.005094011474355098,0.008818725536147308,0.012329238337255544,0.014886838841324938,0.0052841148738726924,0.0033640935553934407,0.008981575459221468,0.007977610554355604,0.004963916615319135,0.01348606119562129,0.0063725707236566495,0.004652509416717706,0.0054873062199199294,0.0038147641356679083,0.008105598884419581,0.0034367992703894707,0.012902675651372094,0.004807037516055277,0.012707952955253786,0.009800437143543927,0.0030548553961181986,0.00838399192731708,0.002599190840627705,0.003661470973350366,0.003941920783852878,0.003847325802226692,0.003966760559367226],\"mode\":\"markers\",\"marker\":{\"symbol\":\"circle\",\"line\":{\"width\":1,\"color\":\"rgba(0, 0, 0, 1.000)\"},\"size\":8,\"color\":\"rgba(0, 154, 250, 1.000)\"}}], {\"yaxis\":{\"type\":\"-\",\"titlefont\":{\"size\":15,\"color\":\"rgba(0, 0, 0, 1.000)\",\"family\":\"sans-serif\"},\"title\":\"lifetime consumption\",\"tickfont\":{\"size\":11,\"color\":\"rgba(0, 0, 0, 1.000)\",\"family\":\"sans-serif\"},\"ticks\":\"inside\",\"tickmode\":\"array\",\"showgrid\":true,\"tickvals\":[1.0,1.5,2.0,2.5,3.0,3.5],\"domain\":[0.07581474190726165,0.9415463692038496],\"ticktext\":[\"1.0\",\"1.5\",\"2.0\",\"2.5\",\"3.0\",\"3.5\"],\"tickangle\":0,\"zeroline\":false,\"linecolor\":\"rgba(0, 0, 0, 1.000)\",\"tickcolor\":\"rgba(0, 0, 0, 1.000)\",\"anchor\":\"x\"},\"annotations\":[{\"text\":\"hour at home vs lifetime consumption\",\"y\":1.0,\"xref\":\"paper\",\"font\":{\"size\":20,\"color\":\"rgba(0, 0, 0, 1.000)\",\"family\":\"sans-serif\"},\"xanchor\":\"center\",\"x\":0.5349537037037038,\"yref\":\"paper\",\"showarrow\":false,\"yanchor\":\"top\",\"rotation\":-0.0}],\"width\":600,\"plot_bgcolor\":\"rgba(255, 255, 255, 1.000)\",\"showlegend\":true,\"legend\":{\"bgcolor\":\"rgba(255, 255, 255, 1.000)\",\"y\":1.0,\"font\":{\"size\":11,\"color\":\"rgba(0, 0, 0, 1.000)\",\"family\":\"sans-serif\"},\"bordercolor\":\"rgba(0, 0, 0, 1.000)\",\"x\":1.0},\"xaxis\":{\"type\":\"-\",\"titlefont\":{\"size\":15,\"color\":\"rgba(0, 0, 0, 1.000)\",\"family\":\"sans-serif\"},\"title\":\"hour at home\",\"tickfont\":{\"size\":11,\"color\":\"rgba(0, 0, 0, 1.000)\",\"family\":\"sans-serif\"},\"ticks\":\"inside\",\"tickmode\":\"array\",\"showgrid\":true,\"tickvals\":[0.005,0.01,0.015,0.02,0.025,0.03],\"domain\":[0.07646908719743364,0.9934383202099737],\"ticktext\":[\"0.005\",\"0.010\",\"0.015\",\"0.020\",\"0.025\",\"0.030\"],\"tickangle\":0,\"zeroline\":false,\"linecolor\":\"rgba(0, 0, 0, 1.000)\",\"tickcolor\":\"rgba(0, 0, 0, 1.000)\",\"anchor\":\"y\"},\"paper_bgcolor\":\"rgba(255, 255, 255, 1.000)\",\"height\":400,\"margin\":{\"r\":0,\"l\":0,\"b\":20,\"t\":20}});\n",
       "    </script>\n"
      ]
     },
     "execution_count": 103,
     "metadata": {},
     "output_type": "execute_result"
    }
   ],
   "source": [
    "# hour at home vs coonsumption\n",
    "lifetime_cons = sum(consumption_record, 2);\n",
    "scatter(sample(r_h_home, 1000), sample(lifetime_cons, 1000), title = \"hour at home vs lifetime consumption\", xlab = \"hour at home\", ylab = \"lifetime consumption\")"
   ]
  },
  {
   "cell_type": "code",
   "execution_count": 104,
   "metadata": {
    "slideshow": {
     "slide_type": "slide"
    }
   },
   "outputs": [
    {
     "data": {
      "text/html": [
       "<script src=\"/home/daisuke_moriwaki/.julia/v0.5/Plots/src/backends/../../deps/plotly-latest.min.js\"></script>    <div id=\"f4d882d6-d34d-4916-874e-fc3ef0bb3d2e\" style=\"width:600px;height:400px;\"></div>\n",
       "    <script>\n",
       "    PLOT = document.getElementById('f4d882d6-d34d-4916-874e-fc3ef0bb3d2e');\n",
       "    Plotly.plot(PLOT, [{\"yaxis\":\"y\",\"y\":[1.7096290957942109,1.2493559577972093,1.4577432074747896,2.091277502999605,1.313973574495113,1.8377909298699864,1.9636423129910576,1.7638947746818516,1.5219656213705153,1.1453519825752765,2.701769501830684,1.3944779095508295,1.0137575828873213,1.7359850775565615,1.9209053259377709,1.0540299861280125,1.7635396745076586,1.529964488714271,1.931480934348813,1.4861205424860033,1.5801745033592043,1.2652147796639404,1.2825011107990991,1.6664793863749896,1.4506386207216486,1.6657347957266195,1.436652096495176,1.661022465930628,0.9858145659955613,1.517332181860687,1.6726252279261522,1.5550701152966182,1.5285560802892293,1.3065680975243885,1.2415765011284254,1.3208669709481313,1.3729455682236622,1.6994822280548516,1.2656025323248783,1.549499007161649,1.5864736417502974,1.575904337544642,1.0078450075207113,1.6779136644072368,1.7839232151515432,1.9777693187854999,1.6415108715060824,1.302973292168217,1.5740977047088063,2.218116744903271,1.3921605998544981,1.788869894455794,1.4138537590505869,1.1480964333386652,1.5748809747770744,1.5108171542951743,1.52415241734479,1.339192314351222,1.5116951655394644,1.2350206863217918,1.4418849517162537,1.2392845167062685,1.089847416311282,1.5682728546332223,1.5939669048544092,1.7266421561255196,1.5302543247728448,1.1492732852288179,1.2364957745267793,1.2095495624346364,1.2134453780428274,1.5658841600586388,1.5628585448117336,1.1416054189759242,1.429723111422843,1.4545034489501876,2.2555030431966268,1.4118695435908788,1.0372256734532013,1.2911889303184663,1.194176933358261,2.0691769040898937,1.7262279124505666,2.2157189563374375,1.1019790490571668,1.8297603749305025,1.765199741462014,1.4556441318652111,2.1916283982409523,2.4144071974691705,1.2783318007649487,1.8044629584723793,1.4826493177573157,1.5014667358947411,0.8033161579297287,1.4549198814488769,1.4573188618633142,1.5027150539662684,1.6791557316040873,1.5542872692945977,1.54480317970151,1.2702216619331868,1.2084570131817736,1.3671935669867599,1.8691021322925594,1.6297094624190078,1.385274450460337,1.5137173139121387,1.060373760189553,2.1441235602627113,1.3986870220165863,1.3682182453091971,1.334613811877475,1.4249028210668655,1.8928496733006035,1.6700358773820656,1.1718535669434007,2.337935797071876,1.6361615580275015,1.5718122846464153,2.365588193176155,1.979394291000518,2.1791920186648275,1.6275775748019727,1.686976000930188,1.4281812855953189,1.3230870028827222,1.6637458600721127,1.7638311638457154,1.8588667112616428,1.697185815649068,1.7018244174615689,1.3626330342403377,1.438783663060473,1.365936369944794,1.6141516280285133,1.7650524807377248,1.4760882244646765,1.0372647708704736,2.12512086323638,1.3256534232270507,1.3546263407693966,0.9547961746858897,2.3596323739986174,1.7066370463352252,1.2562050428641096,2.2512702009486634,1.6856602024188585,1.3701376677662291,1.6140411711513851,0.8335376726414634,1.1618156479071933,1.540189305772883,1.9788745910924397,1.0011634354551504,1.782824296012399,1.8911996216428961,1.3632742680543581,1.3564678663526073,1.6160125062706687,2.2671512522513004,0.7694184581980805,1.6170812840991606,2.318881334141121,1.311821983149348,1.1249603850969074,0.9320521336443355,1.34619722375954,1.2809622178639162,1.7249701731352909,0.8717253200261359,0.9693041803512036,1.5002653716180607,1.8838340110804346,1.373868298379019,1.4041024740050576,1.9693559358710064,1.6329763150769707,1.4214016288064912,2.4350974295405856,1.5003048218683641,1.7182494503002599,1.7758834157196688,1.4565700307162874,1.2446608515295747,2.028961081340527,2.0352370822456014,1.8539408298124591,2.0056702537976028,1.422066355055997,1.1376132350898192,1.4591958190912087,1.6500346730947573,1.7710766400254687,1.9637793250320537,1.3826516179457151,2.002777430872532,1.4038571471506385,1.4631346592710188,0.922953186126305,1.095632669431409,2.215308870914314,1.5874916025462942,1.2771452264455283,1.3714257982646927,1.5560864532706813,1.3838282869951044,1.3024995826013264,1.3950757472195183,1.2225216911717098,1.315347596588208,1.9408919615186875,1.6293686320627323,1.0165152664784916,1.607974903221205,1.3778192460175125,1.4665319740829421,1.346351730013906,1.1744646466062285,2.0183145992375646,1.3182097460969002,1.8696121705055906,1.5858291268730575,1.148557881048739,3.215656532401014,1.4904962648758453,1.292448624408083,1.1369369420897562,1.2710225403951387,1.6252689292454794,1.595497750113135,1.0801829963920455,1.2014660452561674,1.579434605175033,1.2708093096284816,1.7358902236445712,1.4441701514065794,1.7996591493343128,1.9627843326480001,1.4608044723651676,1.0526369346671682,1.643743726842766,1.2333460832527465,1.1888072131286067,1.9345699704422477,1.7946969319090313,1.2646559975581015,2.1322065114891156,1.3741999937868477,1.5308393071399908,2.0498257452621425,1.566564833055573,2.14228214224831,1.6941919002768624,1.025233767980778,1.4457439489924364,0.9973310025868549,1.8766838558168701,1.3866096775145746,2.0456043847594594,1.276379054103069,1.5154033668208564,1.6037945345648215,1.5491969454482268,1.4231281936654425,1.565138250639935,0.9079415092501388,2.048364857325419,1.1487333273005538,1.8589549391536964,1.6570172054363657,2.031369595227171,2.179736823087382,1.2514015143117512,1.2934060489217694,1.445966216237907,1.8488751230636664,1.137453202337624,1.7419583143770463,1.332787602404476,1.6854872615722527,1.5127390115322263,1.3784946028345806,0.8185890856705454,2.1749391724537475,1.8107999252983675,1.5280338299253375,0.9369463008114574,1.1906971751259257,1.6203172633018976,1.267506792611336,1.3484224036373156,1.8116626963200497,1.2194096620442998,1.7658843496626,0.9245749928681626,1.6031627395673698,1.6295259183855433,1.2227894901174672,2.1677791218051783,1.3353954128358092,1.0374906329153115,1.7907045281341547,1.3898878375347572,1.6068073984010547,1.5527647206415478,1.1674123301570383,1.3901752010548718,1.7004716665553405,1.4326889490165244,1.2199100816654256,1.8287909854200162,2.034123832279894,1.4049970075890714,1.2271781872644025,2.1241830355579863,3.48583115856724,1.6838518558139581,1.6162599318429076,1.432161562199513,1.44954352990616,1.6008867790206347,1.6333028398566616,1.4832836052882323,1.8746840868696606,1.3161863707295676,1.466921817181523,1.2226164541935565,1.549859055636374,1.515529620297587,1.8713289181558015,1.6431969675241827,1.4812517135651153,1.080504936354669,1.8004593861678873,2.258041275856966,1.16969218951341,1.4564948587812783,2.115553130335603,2.165809533733137,2.5248421458364483,1.6368098176791237,1.5123515314291847,1.6556722838452518,1.4718344317838157,1.9169318715769683,1.1256021088238377,1.990170795803281,1.9136671316348681,1.555170580629623,1.305408799622192,1.4279496335703534,1.7302438611194786,1.6180861281549355,1.4478403368245236,1.3785879069503282,1.241020816908076,2.067616328598401,1.48698440436071,1.3448943172339392,1.615307498079609,1.3745826354931527,1.6385944883228443,1.3513600436666326,1.4633005286410254,2.0061609430911824,1.3947893759941112,1.716443153615207,2.4642904155474294,1.508494189652597,1.643411305228369,1.1806502177383147,1.7663291342915477,1.6807152050562935,1.932090901142609,1.2724948465621153,1.5440420948674909,1.1777652612527394,1.218562463023286,1.347182376173929,1.9128794291110722,1.3480714632453827,1.6193869037108566,1.9138268233893305,1.6691072780194454,1.2769711645714132,1.0866362497965836,1.1134578307257685,1.0270745507432373,1.3695429277391074,1.6424390801069673,1.44075108033261,1.8041066622071382,1.8666254015335135,1.6890626630064558,1.2739185512464228,1.7268025404078653,1.9376864553543514,2.0847459406997118,2.142831754300744,2.8203884841267093,2.609908344649525,1.5438200135036144,1.573437010341905,1.645790476193142,2.342363771775214,1.2319459966113038,1.7858567678973698,1.509865147901749,1.662178733933848,1.6615831968109258,1.5974478947996518,1.8439863035085924,2.7746741578647107,1.3335610133011853,1.4049422495446497,1.945368248652608,1.1769261701590779,1.4576258134597417,1.616040778974586,2.3526706125683416,1.279578388585315,1.618076006849834,1.4428948384508509,1.4189961257282382,2.018560634113971,1.204916954292962,1.8804039202045693,1.6917019394608712,1.4689745646404948,1.60071292022762,2.5663383438165974,1.4717033718516404,1.5955422674200856,1.3984611611614255,1.6138990444512364,1.410925722342682,1.3406313269851782,1.1052677427722628,1.3913761051100506,1.4612273070729414,2.0565020508005896,1.4693250443801347,1.6416192982136382,2.570828228316873,1.564311825277475,1.1064295263996475,1.5922684098875601,1.2018769868984243,2.011190181255234,1.3024335623623808,1.0509184470846347,1.1712517508869364,1.6174091271268134,1.6743503897139564,1.5867840069401618,1.7710475477333807,1.2987451904577303,1.0576344008949432,1.7438819691144178,1.3048018499902012,1.4589875527562919,2.2510085595432203,1.401394278374672,1.0811527379177872,1.6048904566508997,1.6998772221189213,2.8105443576156675,0.7869443452388178,0.9424138729236984,1.3387976823368368,1.5670918311775566,2.3541301082839423,1.125281477927436,1.7421910754955745,1.5486112846535742,1.2816947951429514,1.2449987119045334,1.7899149076868683,2.5143409347922865,1.295884687136117,1.3702684753386487,1.82248989755551,1.092917086677382,1.4792277818314628,1.3993896373150951,1.5728820822503704,1.235747130829894,1.524054357426874,1.7771468595560762,1.3525749467118207,2.0293547910833185,1.0290137146038214,1.45748970173166,1.650101749623155,1.5398187496993627,1.3558264173025816,1.384750873281567,1.2032288895133774,2.225285446640423,1.660598783680109,1.5462121225968248,1.862939859954385,1.3259794514750545,1.5227510185859239,1.5035745099044662,0.9855361593917611,1.3834931812346198,1.4417538150976208,1.7388484059872353,1.4283073779585167,1.9740798141646119,1.5886802374470819,2.298593503284084,1.1582325503778463,1.0395881989910547,1.3310483772142352,1.437635850140528,1.3274387043817524,1.356095982274896,1.380109078575298,1.7165592807573613,1.8990436519768075,1.1500044329344938,1.7480732610497771,1.701003621503217,1.0868321856855538,1.3064757733910708,1.40082928587535,1.6541242808613315,1.636567334576417,1.7276702581411358,1.525923519198044,1.2979574480181704,1.985471681130567,1.3718434031266487,1.0315670400773798,1.1242628418892597,1.002758113028985,1.6429759709386427,1.967231804028597,1.4267953061376821,2.7101326972136035,1.6128742440946533,1.3244820434494793,1.2217508547482898,1.6396191622170049,1.236845960967339,2.1411995050105053,2.1978906020327957,2.069231530409632,2.3070031675552327,1.544786010904211,1.472583708156412,1.3209542700138135,1.5888395447745967,1.7124825380575215,1.2778672770124397,1.1746545372047936,2.018869793867172,1.2189519412943797,1.589471562590023,1.8260052494633952,1.0885983033845483,1.8142335454403584,1.5015462760967235,1.8696121705055906,2.530214083413691,3.3595185305073776,1.436175995245071,1.3144699809081415,2.2079219240866625,1.1977979281903353,1.9636788515455734,1.6127094343537596,1.3060824757328682,1.4190964764364233,1.2240831805413537,1.7499861972489594,1.3500115402302348,1.4214016288064912,1.4848026569251025,1.6524929272102746,1.8357483185500691,2.4478097801186243,1.1220187529179466,0.9170803535018478,2.022866602794644,1.2870385324207725,1.7117922141257846,1.4157622762759399,1.9997588340359953,1.1273359989868237,1.9867962192877737,3.3547550764059233,1.2528820034824764,1.6273374411639292,1.4392730764187314,1.5136867604533635,1.209387459129207,1.4328951004713566,1.4449880659586625,1.574401287656552,1.8246254434360063,1.2576923136712455,1.792598449344575,2.213006294313992,1.0495197509220684,2.248565779538429,1.7728337773042488,1.1653637468033944,1.5880565360595174,1.806556339113519,1.6436535572391806,1.8627864363294615,1.7852299091728414,1.174164257759898,1.64722580908604,1.2739326450894943,1.0874680862156993,1.593529467828501,1.7414492731298834,1.6768567072279623,2.2557244223033663,1.8653993750165665,1.4620710378997095,1.5359476738533857,1.9046764250979022,1.358922806218768,1.3471607788655842,1.0279625900301594,1.4927305310982129,1.6768446338032676,3.13408118614398,0.9874728197474598,1.5911815605949846,1.406833325375993,1.6101156911079395,1.396112622573566,1.7063337320401697,1.5927858028752981,1.4782288908471344,2.3449763608060907,1.1810033904954904,1.3678103286377001,1.8854605259744064,1.3677540247386224,1.1505273566496625,0.9162618283210822,1.4904056509500725,1.6095253717618863,1.0568643918246887,1.318542539773761,1.7894112341857302,1.3172497380714363,1.0194391946571109,2.0321511198050053,1.4036750617073281,1.6336714594312434,1.9772909015465863,1.58849690623857,1.7680955065080313,2.1165125144236985,1.7617074731177476,1.246084555810402,1.3829888636397407,1.6887903268250481,1.7961811270569115,1.4167776677969757,1.331330883533237,0.9563089209781575,1.3460535762072336,1.612827987557266,1.9931554202422377,1.5315266828689604,1.1517630713099054,1.4140157836738347,1.7267134746648471,1.5175822172034983,1.6565257090856798,1.9447698182129625,1.6072531660633012,1.0296749001587526,1.4897598268386516,1.5503952034348516,1.4279734909026076,1.9645815559115967,1.2170034169126787,1.4216435384559718,1.2200280993275978,1.7819749129547873,1.4068629801502892,1.658030228800758,1.010220920634671,1.2604046162988243,2.1652558358079195,1.958589143784678,1.6617247433402227,1.7120891075005904,1.6765600622628616,1.6802130315786865,1.9938056228950884,1.0288759645989527,3.0326109820432414,1.180503861107932,1.1117484542544644,3.18765366076397,1.815018643192153,1.8213079217816217,1.3323969871156265,1.6552590383254076,1.2153040244125368,2.1899301825049244,1.2781198080007925,0.879915013888907,1.2885589536506679,1.2022235486255641,1.418024296889475,1.9029037849110568,1.320252545260213,1.546936599729314,1.332510571578792,1.0536447952877896,1.52415241734479,2.3373350723897737,1.247630134025663,1.6564253049345696,1.6214595805341632,1.0743496290144892,1.3539838382477343,1.1349862676686726,1.3613117764513691,1.620204161166327,1.668056206810914,1.7121779299620818,2.003013895540272,1.086473187572554,1.4705520991211043,2.4641631837603155,1.5623174613572581,1.4403982107884028,1.607944098212651,1.894403570047627,1.530273951107649,1.9581471131295616,1.535692467543662,1.5287415564560962,1.793501564336003,1.4542943967049202,1.6591949959252732,1.6609653886810691,1.4275200840764881,1.043982389666456,1.6994709954076284,1.4707846821555877,1.6308104111456947,1.620790660305204,1.7309513587364875,1.5695094623115162,0.9164138876494681,1.3248706827565542,1.5715585308432973,1.8113156287575731,1.5798319623728927,1.4836502490723447,2.399226699560511,1.3907578610697948,2.3904555936924674,1.0510909068615035,1.5598237890917317,2.0996488393719415,2.6427171832645473,1.3523989327832076,1.87790495725708,1.3397224067349296,1.4916441442721677,1.7307413233516238,1.4151077432283938,1.0916380545185427,2.3256988125811926,1.6166280911243975,1.3313893632906897,1.4290488041715803,2.1888582264652827,1.5882026959235678,1.973018044083,1.634796554826208,1.8060910319701189,1.520369699909239,1.0564205462711262,1.3797447188295646,1.6285877461082596,1.5612186612158645,1.1940717937475733,2.201806787109644,1.9804610576299533,1.8917031272529792,1.561567492784878,1.9598015302197018,0.8665215290862451,1.8967598134695485,1.4411986058119193,1.4544622696835658,2.3667161089412145,1.3210510005879312,2.2298867998990453,1.6158088990192039,2.200417789816132,1.3963567939985486,2.4171729309501684,2.1934615002605247,2.3252167598773066,2.9393573961117956,1.5166057171263136,1.778092885537411,1.320403339934566,1.7767252142551506,1.2711154258244983,2.0972964693770635,1.984672665198535,1.7823369473110766,2.0283458572108746,2.037426134444266,1.7146038389525886,1.9989091478904464,2.037586069398058,1.520708170006909,1.4928509753334018,1.7352245117078535,1.739337080321318,1.449225313547868,1.2987060008595481,1.7160308309458285,1.2555395528214364,1.792054399007551,1.2902841842819694,1.2079744784486757,1.1050761709888446,1.8301251334525472,1.5365597238885398,1.3073062227528591,1.6816822844944972,1.0379650517261003,1.4771104122348446,1.5524826633745794,1.685837214514573,2.120501163859414,1.1781488859895515,1.4993852882478236,1.420563897092182,2.228451846664909,2.9300368754682977,1.8027337374378307,1.0906161066577746,1.2745194356211618,1.3696450353631655,2.091756969120582,1.6118811036477996,1.8553750504026238,1.7649519863953254,1.5065123598927814,1.3627150103017855,1.4099970563342423,2.04071369302401,1.332722094079604,2.6222658875446587,1.520898961583404,1.5360866821473933,1.5815860560180108,2.640653353795116,1.4610794065925936,1.61408171639277,2.2967240950743935,0.8376186008716802,1.8835860376572393,1.8147171133914997,1.697999652395808,1.8397687655496147,1.509797345045719,1.6300654641993444,1.056169807609994,1.0755506967322797,1.3166499789597876,0.8520368668360688,1.3351628940925604,1.2312981549750481,1.736909705590594,1.8710712279928072,2.1029448923599614,2.6073413862869996,1.7967544025385687,1.5158946272948524,1.1505876111732969,2.2272883186186268,1.5810316523697128,1.4676465509128418,1.640624492448889,1.4983037402586097,1.304887768561757,1.385847739885024,2.105622415635952,2.216287746305646,2.098279676514577,1.5548678864004053,2.039489132947479,1.452868257605581,1.4990574929538185,1.0954794303622803,1.659891886077435,1.634109220205084,0.8302617989190446,1.6868000135093002,1.1389239111116987,1.4662467274277258,2.5061254818602556,1.109332360802889,1.8004206311341928,1.2480943058302585,1.7819138410712019,1.332051988388106,1.7923511163812633,1.1435450609211506,1.7584795736058068,1.9852860070078187,1.6484344645329778,1.3772931651687548,1.402486116422577,1.5211981088552942,1.6162043334125265,1.950118752123577,1.485886516100117,1.5571648156904927,1.4335522196342416,1.6658890747700197,1.906773284135821,1.5594753478043966,2.096995070072132,1.1912856980657014,2.112055493604226,1.7182494503002599,1.7497786887005162,1.7821136128913329,2.506719289860346,1.0884593886671068,0.8782520937392921,1.616411995084909,1.6289351939833987,1.5155663360119251,2.066541490160205,1.087857511404377,1.6387807878990843,1.8616456389244966,1.6143329134670994,1.8776719448000323,1.502232263560963,1.2246200996712806,1.597678787718493,2.1358241287385487,2.1450089404375734,1.278497248072061,1.6093969700189072,1.3028098068723089,1.3432700037994458,1.200373152631797,1.3223508678993454,1.2736836503838975,1.5664075881082113,1.264518013698542,1.730265969021668,2.3751312218901655,1.346931823479407,0.9303970082069822,1.5615595889903564,1.6480076796472813,1.5829825952520957,1.0231272438818537,1.7432335757300814,1.9981205911015238,1.4366628858493025,1.7590646648180077,1.9608356012337558,1.7437164530516793,1.465187941831046,1.5659789384515237,2.0196583183990806,1.9562296101997902,1.542624832046878,1.1971717835836768,1.991332636643914,1.720673482810808,1.718726023921592,1.2732507467365068,2.4747023966649317,1.575290195669542,1.0349171634771166,1.327950744017348,1.3793087782587998,1.5069400387270941,1.0906596475598056,2.121457847842295],\"showlegend\":true,\"name\":\"y1\",\"type\":\"scatter\",\"xaxis\":\"x\",\"colorbar\":{\"title\":\"\"},\"x\":[1.0364202598350163,0.885522634622068,1.2077309380483046,1.4119469284866915,1.0759206533469041,0.8111797690565361,1.2352143996274347,0.5631552208540878,0.9104880430381128,0.8947871668621303,0.9796272318245729,0.6528538485841483,0.916507237183643,1.5060278492307497,0.8486443243583734,1.2619308855606477,1.0357799781609316,0.9939632245378627,0.9483064500050926,1.262166355454757,1.2246099957242567,0.9449124822063699,1.0345448366367378,1.055076457744545,1.0954745995034516,0.6565431251691067,0.8477978308334464,1.057003437894305,0.7261500295618779,0.8843556370741751,1.0201477034705908,1.1093730874835508,1.0246241989188507,0.9623815147019605,1.073782312536427,1.1467912160308222,1.1171250559652115,1.4509078585365212,0.9341309055581719,0.7574479341776059,0.889158948885025,1.5565472206927617,0.928946772668614,1.0086880557436075,0.6399590378564315,0.7874989801979501,0.910815087938621,1.274078525672301,0.8768621736226961,0.967077614886794,1.084176096033812,1.3495295306021076,1.313193656124461,1.174114211811501,0.951098844177422,0.8903984606160611,0.7686262476562644,0.9290743334715796,0.7422656957849592,1.3768678595680421,1.3251394623440063,0.8388653929470486,1.6612364804109674,0.6357789929174997,0.8202544884101275,0.9221175935373926,1.389616937036881,0.8821331773569343,1.0718610947336056,1.1323384272563275,0.9016190602584642,0.8929836007406,1.1013756300497097,0.5545510516704909,0.852136880504287,1.0091396096512755,0.8833478211952969,1.4600839548621658,0.9354431192539994,0.8149086060374928,1.288331792168719,1.112415570094096,0.7091360702819519,1.1192571385857826,1.0678978098257168,1.1249213790491794,1.3444810426887566,0.8891624593252281,0.7618758731535934,0.7443676741550229,1.0169609854670165,0.9674426093857833,1.0723969658381742,0.7403354656243446,0.7896191260379029,0.895915182612999,1.4439843652479678,0.9070176420450988,0.9562085185753751,1.0281405857225767,1.1317380772865837,0.807293767080598,0.9358213969937431,1.39579807769131,0.810030654530441,0.8478940038506002,1.2824512914381136,0.8134665230623865,0.7895136286345736,1.2795376565016694,1.2076745944565337,1.1141991769051147,0.8469738240108622,0.6492379824692287,0.8474053350293986,1.0586082986359808,1.1473110384855825,1.0869065626309609,1.0308289496150724,1.1289530707836029,1.4896395356320626,0.807168592975619,1.0242970130142108,0.6846149634913277,1.0523773552398414,1.0055335897156175,0.8881303323197394,1.3074186570279238,1.026889511986362,1.0290688645264208,0.9453062384383895,1.2738492168053583,0.8802111525776078,1.1698801606886047,1.3094201647433497,0.9884003766276714,1.3184246450399986,1.0989030421068429,0.7845757522914523,1.0707302600285638,0.7705920263755273,0.9318545709084545,0.7046968999684913,0.9674402997547797,0.8695865635329314,1.2664104528206421,0.8723952741236695,0.9695100415256985,0.8649144172264129,1.111191435704571,1.015642296964459,0.8824463563095999,1.7773904185508096,0.9623522242394431,0.741228929893629,1.135498468539347,0.9959782905992083,0.8020915846291348,0.9221307866875164,0.7674900916319811,1.1264448231676858,1.289650231243164,0.8827474947608989,1.0245909990557145,0.981876788689594,0.8421236990431678,0.928884047189404,1.2089973802478866,1.5953328130613031,1.079157065219508,1.2101607901037643,1.0852025073701712,0.737455832705178,0.7915556443846481,1.4074274105353477,0.6370268275259545,1.0445548500011772,1.4169176008699091,0.9007801619676536,1.1284570508941956,0.8158071735578977,0.8586956831000814,1.0436234853756945,1.020368369411072,1.0346478245809196,0.8824184522426093,1.352743152799906,0.8209956057839277,0.8843142049713673,0.9567010443751278,1.4651931763220378,0.7613349128426078,0.9458395212258424,1.1952325426651553,1.4437853358687387,1.191714036763559,0.8141632825478919,0.8834449850860335,1.1345661305860018,0.846102181523767,1.0761644162002362,0.9695984414398007,0.9376759686481493,1.444817900276897,0.666317499092562,1.1686158106531743,0.772327573278041,1.0644542208815122,0.7916775990296698,0.9422233730060754,1.366832652329637,1.143775010469651,0.9564049802506488,0.6021722036034625,0.9101603162369386,1.1446655548086073,1.0380091411780834,1.0905107439314339,1.147808023648341,1.3412145154283008,1.1138474862770884,0.880879658892648,0.8267413974903375,0.9336281233263046,1.0689083732581437,1.0845374688077807,1.1288514523550215,0.8268412053207801,1.1200869378599083,0.9470285262903432,0.9156463188046233,1.1127132511596465,0.7876062402846349,0.8948349428078475,0.8046485837252916,1.334457245635762,0.9807167463522377,0.9842953099294469,0.7188260876214898,0.8430167754495733,0.7801599246078671,0.9652018170574437,1.5272995511701803,0.9482239421249555,0.6696623024245143,0.9263598561949375,1.0768872679362473,0.8164174929792085,0.8411791486043717,0.8611312389003147,1.2852546726284404,0.7563484192735086,1.0243988717095853,0.7704069667067365,0.9711335436462386,1.1653258607523282,1.1939736537267744,0.921816519075014,1.0732096165286138,0.9366412870259773,1.1387011801391043,1.4924949177135587,0.666443781140256,1.0727179535656628,0.7247237553563464,0.7591385651405991,0.8938619359940019,1.5564772649175969,1.0017653838944305,1.15150659474623,1.160770917761434,0.9575364417744265,0.7785255743291801,0.8892293979530863,1.1777748619878758,0.8445375838430192,0.8981360936220182,1.1426782173752938,0.9020011038856719,1.0337400917035358,1.459516683537187,1.218167733216001,0.9190316905817779,1.0159490416308055,1.0195538341299784,0.7040209308584879,1.0308894449615467,0.6384340237242271,1.1903068735699516,0.8316349200964737,0.942392370665972,0.9088256414240957,0.7475127220904346,1.4633293856603422,0.9349847861728979,1.474128545749506,0.7522465225742787,0.8268750600247541,0.9413232982700608,0.8349487464311078,0.7736297536211137,0.8909409698166519,1.0322961242545767,0.9869802656905281,0.8148299556835246,1.289062752822742,0.7110236238142842,1.180784893699241,1.7139076376709743,0.8690068294109676,1.112679855763238,1.123073140768999,1.0157937018747083,1.1377326874912155,1.3134431954878667,1.0505269570114257,0.7775107065629203,1.2085128644653902,0.8851587002210366,1.296663372182293,1.1773703323665767,1.485264837538283,0.8970099232138895,1.0732308383413056,1.156774279202378,0.6851058662898487,0.7673700450806412,1.0039489546644744,1.2614375937829583,0.710124262863974,1.3000373570820403,1.030613858631027,1.0649367358720272,0.9258565013606275,1.587936542778292,0.9306436323207009,1.0353270148078275,1.127266399093994,1.157572035910397,1.02445903671563,1.1321234327310081,0.9950010750869029,0.9087123169695692,0.9720074573258889,0.8780228478360741,0.660822697416088,0.8022707522417807,1.1478365191701148,1.1828355430437383,0.978507334771253,1.12569205699551,1.0516408412454588,0.8641396380045985,0.8145634957011223,1.3483468845122686,0.9751775310518304,0.770998024577862,1.038623947758584,1.1532820448661263,0.9361736508150524,0.9729732716748938,0.7969142379425337,0.9482073468020638,0.8825359452080879,0.887295241422571,1.2896297566546862,1.5349877669540581,0.9393376453620095,1.2423464689894086,1.0408944238871767,0.7586774635115296,1.0264498878107022,1.3202815227498677,0.679252520960114,0.7096329330975515,1.0487682115687154,0.7871837077884779,0.7983069194207422,0.7969142379425337,1.7447085185190996,0.9596154032586997,1.1841506071499905,0.8766199804198573,0.9251890324734897,0.7948424652792165,1.3913373434798575,0.9640623638781303,1.0359116863521507,1.091843845197603,0.9210019241992038,1.2065011813572357,0.9120107909163403,0.8742527363076394,0.8964492973733975,0.7874356566162543,1.1743793902740234,1.1108176023721694,0.8941566313390101,1.0169391495262181,1.2803018497724221,0.933147528416866,1.1859266766721934,0.9723283358521927,1.0847493929759189,0.9292387545414544,1.2434541503970664,0.8441495036130178,1.1225375571511953,0.8088145605929564,0.951331989453281,0.8543193432493961,0.9910337905897493,0.8549134017292308,1.2812909023505812,0.7692970700335006,1.5235039880648311,1.2001265718109395,1.578485017983042,1.3279188258351162,1.3379325827482604,0.9107374020228938,0.871277623402295,0.859118778329169,0.7163710577065914,1.1027684565286675,1.1783718593316546,1.401879638243819,1.336360342843614,1.1079042948207811,0.9862865953312232,0.8471664064034773,0.6803205933965843,1.4502090980467366,1.5263864642236913,1.0245501242590258,0.7744697061697638,0.7267428949359731,0.9519335873839743,1.186131859608973,0.8999684741058696,1.0798398701733576,1.358186512893516,1.0369601986026284,0.8523427049727995,1.0191147556337272,1.0180854079666402,1.0863603341338286,0.8823951023156886,0.9668490180966498,1.2228106364143376,0.9101188849167934,1.1951454317387324,1.121344419654338,1.2279333994391428,1.0772687190551955,0.8851137847225368,1.5810654339275998,0.7638914772719814,1.2656322412052485,1.114673249172378,0.9032288375566907,0.7692409877804443,1.1053719915241162,0.7484726276863244,0.8738903868612796,0.8696740770458022,0.7325019814560635,1.0595261996466454,0.8436540444579816,1.0133881152617104,0.8141632825478919,1.3667045170986643,0.8866085366846415,1.587855035517816,1.039652969533479,1.4573077950597808,0.9792585904529707,0.9584558669842274,0.7072244899035931,1.018457724932524,0.8129739693369342,0.8175667041578673,0.7731959841408484,0.9651646950406058,0.8227791516399925,1.3389454443037785,0.8342212346928721,0.7159599144374276,0.7604309187610137,1.0811550762422129,1.066333324968519,0.876039638137057,1.2130416789019232,0.8085509437687471,0.8641433217017365,1.3562343249611626,1.0720357351122622,0.6937992879904399,0.7090219148503543,0.8602345956909156,0.9649701353129666,0.7816671985761352,1.0823682216016954,1.0517395795694682,1.2313922233824366,1.2355486736180596,0.87655712445408,1.0604057708424586,1.4307743474154946,0.8931963218940833,1.789167032288669,0.852144516865327,1.0145837567989684,1.1845034079601682,1.1689238845822403,1.2468186833230308,1.0460759044898316,1.1783464552390277,1.0858978067775542,1.0908434782931244,0.9034028879792583,1.299160081612336,0.7009858532100894,1.3711381837898151,1.1163702582465462,1.0147404979015413,1.3058679236024942,0.7612376837068644,1.0558210766382647,1.0660443058412106,0.7871236479788186,0.8572501546871899,1.2361080459181448,0.828276630294853,1.6983389278979248,1.1466392466894164,0.6900235862597066,0.8012124812487056,0.8846162556198786,1.173204971268448,1.5526525648529548,0.984633678417512,0.8456178185180132,1.4027789711151333,0.8264242963129904,1.5089486369241247,1.158638904582811,1.0168817767231588,0.8612675566174663,0.8452344919637106,1.2283600976900284,0.9432595731360605,0.8862508571464859,0.9934972525766762,0.9907302503130659,0.8272141672588128,0.9077454756695369,1.3888634852726756,1.1211185166575128,1.1612739022643024,1.0528067567665655,1.2965200888351145,1.337457877199094,1.0834483041741936,1.2733516778234586,0.9875349650798431,1.0943441834508596,1.2588314783896748,0.6684044832831353,1.0618177419370152,1.2163419437019392,0.7096332447325453,1.31819910907191,1.0230329898779618,0.9378043463451339,0.8807555732812185,0.9017021634014257,1.4614877877857793,1.0254295814984986,1.4561268600312105,0.8459442148560099,0.9494042692396405,0.8598317207398738,1.0720319580525226,1.4485382852999096,1.0562426893885015,1.0102350184192734,0.635120163096174,0.5060800778608807,1.0630285875728402,0.9069130432093697,0.7810809909425693,1.1206961694994173,1.2515046877678762,0.8877837841831289,0.77996878408938,1.271260023027418,1.2193122815593918,1.1735541523102275,1.500903584859694,0.7760626076192396,0.9685905661428218,1.1121901786815291,1.3088987185115872,0.9120633178866657,0.822278915183568,0.9787875680781377,1.3929464873884432,0.9117758951386374,1.0395944217379665,0.8258772625867022,1.3867361345113298,1.359879565264086,0.92160992694329,1.7099774782612651,0.7049049302763526,0.745934927478588,0.6889060117392507,0.9649344408081131,1.3278685223839164,1.0924494275960472,1.0715390307293573,0.5768521869905241,1.3659666789115044,1.1334209346324728,0.9512873242478477,1.5132758009607448,0.9025620158814819,1.236335790517228,1.1329271759117099,0.4599991179738824,0.8267413974903375,1.1929481550769094,0.8637163841047579,0.6599997631427941,1.0400930534541524,0.5911026051533035,0.7485862056721667,1.1848926338375276,1.3009485178494375,0.7476486776121963,1.0868558994055832,0.9714684024036742,0.7999011816117656,1.2762869648318347,0.7549800316977655,0.9998022785303682,0.8266430299718435,1.440723628438159,0.976649287385863,0.7052130755016934,1.6096426583925663,0.9286411441236081,0.8160965619036233,1.0969468021912978,1.4107073639757126,0.848377679007287,1.1412195129644265,0.981446564979943,1.1819126991024984,1.1323013530881845,1.1192453928037338,0.797992847433249,0.9909808126856957,1.2881732851514436,0.8657239288394236,1.0813439489570222,0.9889709001283014,0.8913411000532131,1.1833477338508176,1.2607544464370264,0.7881662856781193,1.0569743128413305,1.5123617502554763,0.5369340816065649,0.9253571635510667,1.0218139654405696,1.287418318165856,0.8558166075776996,0.7600464661806902,0.8994742892299259,1.0265702748879026,1.0581780643658534,0.9314777646942262,0.9600220337691214,0.8583429472795343,1.0943332610292449,0.9488336934640629,0.6581098564452017,0.7538160212463829,0.8978249942321337,0.9621316561745741,0.8565837628416435,1.1877843895010698,0.8098058888198378,0.8843096088073941,1.1094926883390344,0.7016103542369304,1.016096010624175,0.8354779005542091,1.1877413086518036,1.0215051824025314,1.2736412268659658,0.7598041388750623,0.5491415249711886,0.5553369703246858,1.1060872415393543,0.9150310594942523,1.0361431256999054,1.2010294674012023,1.117483105615829,1.0731601019719772,1.131325349940795,1.3764861939199193,0.8251366936212664,0.9020160867592515,0.8871953059935638,1.4984045372869987,1.0224511486954193,0.9494042692396405,1.0612030327970123,0.8279716218755201,1.0521217147814168,1.0849112821682914,1.24377611737729,0.9681427904639699,0.7876449222976911,1.3583940499794787,1.2110243301124872,1.1200918072168844,1.3086578417441468,0.7136194645299924,0.8166531872067085,1.1107663816138704,1.6208247060359104,1.6433437374638604,1.097468452232308,0.7821741143408382,0.9701390053792966,0.9022539177892615,0.8023589592680935,0.9009732416126258,0.7395870346169278,1.0394242409153351,0.9453829736946593,0.745655588515964,1.567202587539815,1.037355543667525,0.8062748089358984,1.1445758068941108,0.6518273858112402,1.139399719279187,0.8418751509080369,1.1126667580944969,1.1682928171369584,1.1143060586612137,1.1228314829244594,0.9127512848539261,0.8845332367569255,0.919510274963848,0.6450073101434786,1.088494895954497,1.1731450932897722,1.363704864294312,1.0022493407896416,1.2103095977612703,0.9783026705970781,1.5503130896363926,1.1354917383049759,0.8571004706610832,0.9108864842264413,1.207252234674712,1.2959736824286474,1.8427997259380344,0.9777714684585386,1.361681494178237,1.4027995171696657,0.7157837363036994,0.7189016015508138,0.887145550546596,0.7971395971586043,1.0166387569677218,0.9869120872234416,1.1826132073808058,1.3418434701788788,1.0389735031864953,1.2055749806778044,0.7311657156298487,0.9061018803454911,0.9177338295530644,1.205944050947922,0.9143095438184383,1.0574531711297037,0.6416783387594207,0.8066251833114977,1.1823959975755445,1.3302557831103767,0.851817132629392,0.9256309100176008,0.7524089611606332,0.9904277431833449,1.1903766229529302,1.0181842461276578,1.141063226096691,1.0414008818218823,1.0349293202659793,0.7322431583677161,1.1085883831899273,1.0037688930015047,0.917974095045669,1.3966627454040148,0.9525065667025863,0.9708388324277861,1.0474132737341197,1.207068900009305,1.0093262483177239,1.0232923201295914,0.9385609626126021,1.2325864275753948,0.8777370093409158,1.260838080730249,0.9188679928330472,1.076984262592069,0.9249404611696062,0.7001660110362129,1.0199310742557424,1.0261605983374178,1.0385305547162687,1.0920282905003165,1.0167350925175627,0.9715656616832162,1.0231630689201743,0.6264626893030771,1.199748214046303,1.3829929526318674,0.8068790855796579,1.1118192969894292,0.8208371375022315,1.3207302505645782,1.133512527321908,1.2343182875648773,0.8914985562373953,1.0936329724671174,0.7901388736907949,1.0803510917657708,1.2198241141050912,0.7323527969784541,0.9589795287360002,0.7023074487948278,1.0048530146201895,0.8845453952796675,1.482721132798916,0.9409400142405939,1.1485165781525486,1.1326762259979168,1.0520520793842494,1.2160323947336513,1.6615573529534138,1.1932486813843401,0.7634596530844424,0.830980850486974,1.045301161758268,0.924940183845913,0.7227871106781081,0.9743332081938503,1.251088671815756,0.7713400028496743,1.2370108664412731,0.8499403954580949,1.1525529129595498,0.8431350587782995,1.0174926267494429,1.038757890979764,1.3195420507147837,0.9931422072683577,0.7825397439717587,0.9355047364149525,0.8493576389768152,1.318239570644884,1.0985267532135277,0.7578888699054842,0.8242176335187141,1.5491347106342355,1.132738915728753,0.8991372666170074,0.9828345412826336,0.7613046117427387,0.9894176028235679,1.3222858857144926,0.840626228138672,1.036511578932926,1.1577159799922971,0.9065320909316803,1.2968839472757736,1.0604043299943313,0.9455235293601071,0.9492734112124193,0.6961170277324151,1.0567982264713986,0.8681154046878145,0.9126240905928078,1.1547948494676927,0.9263299319298378,0.7552932277029629,1.756156855787237,0.8756411416553256,0.6194323187303706,0.9034587063254401,1.1065112288007657,1.2588756792041278,0.8988487882650913,0.956702160818653,1.1357804665127813,0.9694703716592616,1.3620804861272204,1.1354713121910525,1.1758431744493751,1.1267647234029523,1.1945549055045916,1.2327148353692943,0.6647496692437942,0.7659565057160608,0.9769324399251016,1.03444032861991,1.2777930822041597,1.1920984738932563,0.7543612859184547,1.0670623114331672,0.8660224003537034,1.1969590823536866,0.9699393580364191,0.7353534425327661,1.1601744007863128,1.2263983702304309,1.0716899302532932,0.9997086688595911,1.033859597222979,0.8410198365412974,0.9418332659769073,0.9468884806853837,0.857493724415168,1.2145414033915969,0.7610142570785801,0.7654183545221831,1.1591546250401568,1.738103611357813,1.06367596249224,0.8442004839766417,1.2187012132424693,1.2576290744148824,0.8856663509812579,1.3105635382113174,0.9207641763464882,1.4384750728313764,1.3502671912143007,1.4358230509394385,1.1181694918252818,1.307991939954281,0.9334706494248367,0.9434849012282209,1.1353251260956174,1.1090725202036458,0.5692769099346073,1.5454077158617796,0.8450533587596502,1.0219556702852395,1.1827728727507276,0.884944642209195,1.0315522879160581,0.7524637065489127,1.3078741418914372,1.3752106074861878,0.650869938717973,0.8549205073903616,0.8375115570251135,0.9574291187823827,0.6656037470165437,0.6690533573393282,0.9460865402003091,1.4882845881223314,1.054547660054451,0.9222113395785405,1.087232842073853,1.0678172051614654,0.7694218360639509,0.873411429880036,1.2014572575328906,1.0360002701136535,1.1504269117354256,1.0543930263034573,0.8391098133868102,0.6333594991717325,1.1090872537549386,1.5043160160261688,1.2399729042670822,0.9058619652656598,0.8985977540678938,1.237362273476806,1.4721112846625153,1.5396062857170563],\"mode\":\"markers\",\"marker\":{\"symbol\":\"circle\",\"line\":{\"width\":1,\"color\":\"rgba(0, 0, 0, 1.000)\"},\"size\":8,\"color\":\"rgba(0, 154, 250, 1.000)\"}}], {\"yaxis\":{\"type\":\"-\",\"titlefont\":{\"size\":15,\"color\":\"rgba(0, 0, 0, 1.000)\",\"family\":\"sans-serif\"},\"title\":\"lifetime consumption\",\"tickfont\":{\"size\":11,\"color\":\"rgba(0, 0, 0, 1.000)\",\"family\":\"sans-serif\"},\"ticks\":\"inside\",\"tickmode\":\"array\",\"showgrid\":true,\"tickvals\":[1.0,1.5,2.0,2.5,3.0,3.5],\"domain\":[0.07581474190726165,0.9415463692038496],\"ticktext\":[\"1.0\",\"1.5\",\"2.0\",\"2.5\",\"3.0\",\"3.5\"],\"tickangle\":0,\"zeroline\":false,\"linecolor\":\"rgba(0, 0, 0, 1.000)\",\"tickcolor\":\"rgba(0, 0, 0, 1.000)\",\"anchor\":\"x\"},\"annotations\":[{\"text\":\"wage rate vs lifetime consumption\",\"y\":1.0,\"xref\":\"paper\",\"font\":{\"size\":20,\"color\":\"rgba(0, 0, 0, 1.000)\",\"family\":\"sans-serif\"},\"xanchor\":\"center\",\"x\":0.5349537037037038,\"yref\":\"paper\",\"showarrow\":false,\"yanchor\":\"top\",\"rotation\":-0.0}],\"width\":600,\"plot_bgcolor\":\"rgba(255, 255, 255, 1.000)\",\"showlegend\":true,\"legend\":{\"bgcolor\":\"rgba(255, 255, 255, 1.000)\",\"y\":1.0,\"font\":{\"size\":11,\"color\":\"rgba(0, 0, 0, 1.000)\",\"family\":\"sans-serif\"},\"bordercolor\":\"rgba(0, 0, 0, 1.000)\",\"x\":1.0},\"xaxis\":{\"type\":\"-\",\"titlefont\":{\"size\":15,\"color\":\"rgba(0, 0, 0, 1.000)\",\"family\":\"sans-serif\"},\"title\":\"wage rate\",\"tickfont\":{\"size\":11,\"color\":\"rgba(0, 0, 0, 1.000)\",\"family\":\"sans-serif\"},\"ticks\":\"inside\",\"tickmode\":\"array\",\"showgrid\":true,\"tickvals\":[0.6000000000000001,0.8,1.0,1.2000000000000002,1.4000000000000001,1.6,1.8],\"domain\":[0.07646908719743364,0.9934383202099737],\"ticktext\":[\"0.6\",\"0.8\",\"1.0\",\"1.2\",\"1.4\",\"1.6\",\"1.8\"],\"tickangle\":0,\"zeroline\":false,\"linecolor\":\"rgba(0, 0, 0, 1.000)\",\"tickcolor\":\"rgba(0, 0, 0, 1.000)\",\"anchor\":\"y\"},\"paper_bgcolor\":\"rgba(255, 255, 255, 1.000)\",\"height\":400,\"margin\":{\"r\":0,\"l\":0,\"b\":20,\"t\":20}});\n",
       "    </script>\n"
      ]
     },
     "execution_count": 104,
     "metadata": {},
     "output_type": "execute_result"
    }
   ],
   "source": [
    "# wage vs coonsumption\n",
    "mean_wage = mean(wage_record[:,1:2], 2);\n",
    "scatter(sample(mean_wage, 1000), sample(lifetime_cons, 1000), title = \"wage rate vs lifetime consumption\", xlab = \"wage rate\", ylab = \"lifetime consumption\")"
   ]
  },
  {
   "cell_type": "markdown",
   "metadata": {
    "collapsed": true,
    "slideshow": {
     "slide_type": "slide"
    }
   },
   "source": [
    "# inequality"
   ]
  },
  {
   "cell_type": "code",
   "execution_count": 105,
   "metadata": {
    "collapsed": true,
    "slideshow": {
     "slide_type": "slide"
    }
   },
   "outputs": [],
   "source": [
    "# percentile by hour at home\n",
    "dat = hcat(r_h_home, lifetime_cons);\n",
    "dat = sortrows(dat);\n",
    "ptiles = (.01, .25, .5, .75, .99);\n",
    "p_vec = zeros(Int, size(ptiles, 1));\n",
    "\n",
    "for (ind, p) in enumerate(ptiles)\n",
    "    tmp = trunc(p*num_hh) + 1\n",
    "    p_vec[ind] = Int.(tmp) # convert to Int\n",
    "end"
   ]
  },
  {
   "cell_type": "code",
   "execution_count": 106,
   "metadata": {
    "slideshow": {
     "slide_type": "slide"
    }
   },
   "outputs": [
    {
     "data": {
      "text/html": [
       "<script src=\"/home/daisuke_moriwaki/.julia/v0.5/Plots/src/backends/../../deps/plotly-latest.min.js\"></script>    <div id=\"e57cf6ff-ead4-48fc-a751-96d0a2e091af\" style=\"width:600px;height:400px;\"></div>\n",
       "    <script>\n",
       "    PLOT = document.getElementById('e57cf6ff-ead4-48fc-a751-96d0a2e091af');\n",
       "    Plotly.plot(PLOT, [{\"yaxis\":\"y\",\"y\":[0.9069694457565576,1.2155726501740507,1.118259924518676,1.437331779560914,1.129284227344188],\"showlegend\":true,\"name\":\"y1\",\"type\":\"bar\",\"xaxis\":\"x\",\"orientation\":\"v\",\"colorbar\":{\"title\":\"\"},\"x\":[1.001,25.001,50.001,75.00099999999999,99.00099999999999],\"marker\":{\"color\":\"rgba(0, 154, 250, 1.000)\"}}], {\"yaxis\":{\"type\":\"-\",\"titlefont\":{\"size\":15,\"color\":\"rgba(0, 0, 0, 1.000)\",\"family\":\"sans-serif\"},\"title\":\"lifetime consumption\",\"tickfont\":{\"size\":11,\"color\":\"rgba(0, 0, 0, 1.000)\",\"family\":\"sans-serif\"},\"ticks\":\"inside\",\"tickmode\":\"array\",\"showgrid\":true,\"tickvals\":[0.0,0.25,0.5,0.75,1.0,1.25],\"domain\":[0.07581474190726165,0.9415463692038496],\"ticktext\":[\"0.00\",\"0.25\",\"0.50\",\"0.75\",\"1.00\",\"1.25\"],\"tickangle\":0,\"zeroline\":false,\"linecolor\":\"rgba(0, 0, 0, 1.000)\",\"tickcolor\":\"rgba(0, 0, 0, 1.000)\",\"anchor\":\"x\"},\"annotations\":[{\"text\":\"lifetime cons by hour at home percentile (5, 50, 95)\",\"y\":1.0,\"xref\":\"paper\",\"font\":{\"size\":20,\"color\":\"rgba(0, 0, 0, 1.000)\",\"family\":\"sans-serif\"},\"xanchor\":\"center\",\"x\":0.5423611111111111,\"yref\":\"paper\",\"showarrow\":false,\"yanchor\":\"top\",\"rotation\":-0.0}],\"width\":600,\"plot_bgcolor\":\"rgba(255, 255, 255, 1.000)\",\"showlegend\":true,\"legend\":{\"bgcolor\":\"rgba(255, 255, 255, 1.000)\",\"y\":1.0,\"font\":{\"size\":11,\"color\":\"rgba(0, 0, 0, 1.000)\",\"family\":\"sans-serif\"},\"bordercolor\":\"rgba(0, 0, 0, 1.000)\",\"x\":1.0},\"xaxis\":{\"type\":\"-\",\"titlefont\":{\"size\":15,\"color\":\"rgba(0, 0, 0, 1.000)\",\"family\":\"sans-serif\"},\"title\":\"percentile of hour at home\",\"tickfont\":{\"size\":11,\"color\":\"rgba(0, 0, 0, 1.000)\",\"family\":\"sans-serif\"},\"ticks\":\"inside\",\"range\":[-30.0,130.0],\"tickmode\":\"array\",\"showgrid\":true,\"tickvals\":[-20.0,0.0,20.0,40.0,60.0,80.0,100.0,120.0],\"domain\":[0.09128390201224845,0.9934383202099738],\"ticktext\":[\"-20\",\"0\",\"20\",\"40\",\"60\",\"80\",\"100\",\"120\"],\"tickangle\":0,\"zeroline\":false,\"linecolor\":\"rgba(0, 0, 0, 1.000)\",\"tickcolor\":\"rgba(0, 0, 0, 1.000)\",\"anchor\":\"y\"},\"paper_bgcolor\":\"rgba(255, 255, 255, 1.000)\",\"height\":400,\"margin\":{\"r\":0,\"l\":0,\"b\":20,\"t\":20}});\n",
       "    </script>\n"
      ]
     },
     "execution_count": 106,
     "metadata": {},
     "output_type": "execute_result"
    }
   ],
   "source": [
    "# percentiles\n",
    "bar(p_vec/num_hh*100, dat[p_vec, 2], xlim = (-30, 130), title = \"lifetime cons by hour at home percentile (5, 50, 95)\", \n",
    "xlabel = \"percentile of hour at home\", ylabel = \"lifetime consumption\")"
   ]
  },
  {
   "cell_type": "code",
   "execution_count": 107,
   "metadata": {
    "collapsed": true,
    "slideshow": {
     "slide_type": "slide"
    }
   },
   "outputs": [],
   "source": [
    "# percentile by wage\n",
    "dat = hcat(mean_wage, lifetime_cons);\n",
    "dat = sortrows(dat);\n",
    "\n",
    "for (ind, p) in enumerate(ptiles)\n",
    "    tmp = trunc(p*num_hh) + 1\n",
    "    p_vec[ind] = Int.(tmp) # convert to Int\n",
    "end"
   ]
  },
  {
   "cell_type": "code",
   "execution_count": 108,
   "metadata": {
    "slideshow": {
     "slide_type": "slide"
    }
   },
   "outputs": [
    {
     "data": {
      "text/html": [
       "<script src=\"/home/daisuke_moriwaki/.julia/v0.5/Plots/src/backends/../../deps/plotly-latest.min.js\"></script>    <div id=\"6839347f-a627-4b1d-904c-74ce290d9d67\" style=\"width:600px;height:400px;\"></div>\n",
       "    <script>\n",
       "    PLOT = document.getElementById('6839347f-a627-4b1d-904c-74ce290d9d67');\n",
       "    Plotly.plot(PLOT, [{\"yaxis\":\"y\",\"y\":[0.9015785285804527,1.3525013511083535,1.5665777040124909,1.8337219397298412,2.385567847221626],\"showlegend\":true,\"name\":\"y1\",\"type\":\"bar\",\"xaxis\":\"x\",\"orientation\":\"v\",\"colorbar\":{\"title\":\"\"},\"x\":[1.001,25.001,50.001,75.00099999999999,99.00099999999999],\"marker\":{\"color\":\"rgba(0, 154, 250, 1.000)\"}}], {\"yaxis\":{\"type\":\"-\",\"titlefont\":{\"size\":15,\"color\":\"rgba(0, 0, 0, 1.000)\",\"family\":\"sans-serif\"},\"title\":\"lifetime consumption\",\"tickfont\":{\"size\":11,\"color\":\"rgba(0, 0, 0, 1.000)\",\"family\":\"sans-serif\"},\"ticks\":\"inside\",\"tickmode\":\"array\",\"showgrid\":true,\"tickvals\":[0.0,0.5,1.0,1.5,2.0],\"domain\":[0.07581474190726165,0.9415463692038496],\"ticktext\":[\"0.0\",\"0.5\",\"1.0\",\"1.5\",\"2.0\"],\"tickangle\":0,\"zeroline\":false,\"linecolor\":\"rgba(0, 0, 0, 1.000)\",\"tickcolor\":\"rgba(0, 0, 0, 1.000)\",\"anchor\":\"x\"},\"annotations\":[{\"text\":\"lifetime cons by wage percentile (5, 50, 95)\",\"y\":1.0,\"xref\":\"paper\",\"font\":{\"size\":20,\"color\":\"rgba(0, 0, 0, 1.000)\",\"family\":\"sans-serif\"},\"xanchor\":\"center\",\"x\":0.5349537037037038,\"yref\":\"paper\",\"showarrow\":false,\"yanchor\":\"top\",\"rotation\":-0.0}],\"width\":600,\"plot_bgcolor\":\"rgba(255, 255, 255, 1.000)\",\"showlegend\":true,\"legend\":{\"bgcolor\":\"rgba(255, 255, 255, 1.000)\",\"y\":1.0,\"font\":{\"size\":11,\"color\":\"rgba(0, 0, 0, 1.000)\",\"family\":\"sans-serif\"},\"bordercolor\":\"rgba(0, 0, 0, 1.000)\",\"x\":1.0},\"xaxis\":{\"type\":\"-\",\"titlefont\":{\"size\":15,\"color\":\"rgba(0, 0, 0, 1.000)\",\"family\":\"sans-serif\"},\"title\":\"percentile of wage\",\"tickfont\":{\"size\":11,\"color\":\"rgba(0, 0, 0, 1.000)\",\"family\":\"sans-serif\"},\"ticks\":\"inside\",\"range\":[-30.0,130.0],\"tickmode\":\"array\",\"showgrid\":true,\"tickvals\":[-20.0,0.0,20.0,40.0,60.0,80.0,100.0,120.0],\"domain\":[0.07646908719743364,0.9934383202099737],\"ticktext\":[\"-20\",\"0\",\"20\",\"40\",\"60\",\"80\",\"100\",\"120\"],\"tickangle\":0,\"zeroline\":false,\"linecolor\":\"rgba(0, 0, 0, 1.000)\",\"tickcolor\":\"rgba(0, 0, 0, 1.000)\",\"anchor\":\"y\"},\"paper_bgcolor\":\"rgba(255, 255, 255, 1.000)\",\"height\":400,\"margin\":{\"r\":0,\"l\":0,\"b\":20,\"t\":20}});\n",
       "    </script>\n"
      ]
     },
     "execution_count": 108,
     "metadata": {},
     "output_type": "execute_result"
    }
   ],
   "source": [
    "# percentiles\n",
    "bar(p_vec/num_hh*100, dat[p_vec, 2], xlim = (-30, 130), title = \"lifetime cons by wage percentile (5, 50, 95)\", \n",
    "xlabel = \"percentile of wage\", ylabel = \"lifetime consumption\")"
   ]
  },
  {
   "cell_type": "markdown",
   "metadata": {
    "collapsed": true,
    "slideshow": {
     "slide_type": "slide"
    }
   },
   "source": [
    "## Policy and Economy\n",
    "* compare output and labor supply when policy is changed\n",
    "* benchmark\n",
    "    * LTCI is proportional with rate = 50%\n",
    "* fully covered\n",
    "    * LTCI is proportional with rate = 100%\n",
    "* laissez-faire\n",
    "    * no LTCI at all\n",
    "* ceiling \n",
    "    * LTCI takes care of all the serious care receivers with ceiling = 0.2. no one needs to spend more than 20 % of their time to care-giving\n",
    "    \n",
    "   "
   ]
  },
  {
   "cell_type": "code",
   "execution_count": 109,
   "metadata": {},
   "outputs": [
    {
     "data": {
      "text/html": [
       "<table class=\"data-frame\"><thead><tr><th></th><th>name</th><th>LTCI_type</th><th>NH_rate</th><th>ceiling</th><th>tau</th><th>gdp</th><th>labor_supply</th></tr></thead><tbody><tr><th>1</th><td>benchmark</td><td>proportional</td><td>0.5</td><td></td><td>0.271</td><td>128996.44585928257</td><td>125167.94701405874</td></tr></tbody></table>"
      ],
      "text/plain": [
       "1×7 DataFrames.DataFrame\n",
       "│ Row │ name        │ LTCI_type      │ NH_rate │ ceiling │ tau   │ gdp       │\n",
       "├─────┼─────────────┼────────────────┼─────────┼─────────┼───────┼───────────┤\n",
       "│ 1   │ \"benchmark\" │ \"proportional\" │ 0.5     │ \"\"      │ 0.271 │ 1.28996e5 │\n",
       "\n",
       "│ Row │ labor_supply │\n",
       "├─────┼──────────────┤\n",
       "│ 1   │ 1.25168e5    │"
      ]
     },
     "execution_count": 109,
     "metadata": {},
     "output_type": "execute_result"
    }
   ],
   "source": [
    "# saving results for benchmark economy\n",
    "results = DataFrame(name = \"benchmark\", LTCI_type = \"proportional\", NH_rate = 0.5, ceiling = \"\", \n",
    "    tau = tau, gdp = sum(wage_record.*hour_mkt_record), labor_supply=sum(hour_mkt_record))"
   ]
  },
  {
   "cell_type": "code",
   "execution_count": null,
   "metadata": {
    "collapsed": true
   },
   "outputs": [],
   "source": [
    "# fully covered economy"
   ]
  },
  {
   "cell_type": "code",
   "execution_count": null,
   "metadata": {
    "collapsed": true
   },
   "outputs": [],
   "source": []
  },
  {
   "cell_type": "code",
   "execution_count": null,
   "metadata": {
    "collapsed": true
   },
   "outputs": [],
   "source": []
  },
  {
   "cell_type": "code",
   "execution_count": null,
   "metadata": {
    "collapsed": true
   },
   "outputs": [],
   "source": []
  },
  {
   "cell_type": "markdown",
   "metadata": {
    "collapsed": true
   },
   "source": [
    "## Daunting futures"
   ]
  },
  {
   "cell_type": "code",
   "execution_count": null,
   "metadata": {
    "collapsed": true
   },
   "outputs": [],
   "source": []
  },
  {
   "cell_type": "code",
   "execution_count": null,
   "metadata": {
    "collapsed": true
   },
   "outputs": [],
   "source": []
  }
 ],
 "metadata": {
  "celltoolbar": "Slideshow",
  "kernelspec": {
   "display_name": "Julia 0.5.2",
   "language": "julia",
   "name": "julia-0.5"
  },
  "language_info": {
   "file_extension": ".jl",
   "mimetype": "application/julia",
   "name": "julia",
   "version": "0.5.2"
  }
 },
 "nbformat": 4,
 "nbformat_minor": 2
}
