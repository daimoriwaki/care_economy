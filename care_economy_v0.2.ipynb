{
 "cells": [
  {
   "cell_type": "markdown",
   "metadata": {
    "slideshow": {
     "slide_type": "slide"
    }
   },
   "source": [
    "# Effect of Informal Care on Labor Supply: A Macroeconomic Perspective\n",
    "\n",
    "## 2018.3.12 ICES, Hosei University\n",
    "\n",
    "### Daisuke Moriwaki\n",
    "\n",
    "Cyberagent, Inc., AI Lab        \n",
    "Keio University, School of Medicine\n",
    "<daisuke.moriwaki@gmail.com>   \n",
    "github [daimoriwaki/care_economy](https://github.com/daimoriwaki/care_economy)"
   ]
  },
  {
   "cell_type": "code",
   "execution_count": 1,
   "metadata": {
    "collapsed": true
   },
   "outputs": [],
   "source": [
    "using QuantEcon\n",
    "using Plots\n",
    "using Interpolations\n",
    "using Distributions\n",
    "using BenchmarkTools\n",
    "using ParallelAccelerator"
   ]
  },
  {
   "cell_type": "markdown",
   "metadata": {
    "slideshow": {
     "slide_type": "slide"
    }
   },
   "source": [
    "# Motivation\n",
    "* In 2017, it is reported taht there is 6 million care revievers in Japan by MLHW. The number is expected to increase as the baby boomers, or Dankai generations become \"late elderly\".\n",
    "* It is unclear whether the Japanese LTCI system is sustanable in the sense of financially, which has been pointed out by several researchers.\n",
    "* More importantly, the impact of care needs on economy itself (oppose to accountant's view) should be studied.\n"
   ]
  },
  {
   "cell_type": "markdown",
   "metadata": {
    "slideshow": {
     "slide_type": "slide"
    }
   },
   "source": [
    "* It is easy to predict that \"caregiver ratio\" (the number of caregivers per one care receiver) explodes in the near future.\n",
    "* Aside from the financial sustainability, the explosion of caregiver ratio cause several problems\n",
    "    * insufficient care for elderly (insufficient availability of cheap nursing home, *tokuyou*)\n",
    "    * Poverty due to care-leave for frail older family\n",
    "    * *Economy itself* due to less labor supply\n",
    "* Such a wide range of problem should be tackled by macroeconomic model rather than causal analysis."
   ]
  },
  {
   "cell_type": "markdown",
   "metadata": {},
   "source": [
    "# Summary of Results\n",
    "* ..."
   ]
  },
  {
   "cell_type": "markdown",
   "metadata": {},
   "source": [
    "# Literature\n",
    "\n",
    "* Briefly survery several work in the labor and macro fields.\n"
   ]
  },
  {
   "cell_type": "markdown",
   "metadata": {
    "slideshow": {
     "slide_type": "slide"
    }
   },
   "source": [
    "\n",
    "## Labor supply and informal care (causal studies)\n",
    "\n",
    "* moriwaki (2015, mimeo) finds negative effect from informal care only for male.\n",
    "* Nishimura\n",
    "* "
   ]
  },
  {
   "cell_type": "markdown",
   "metadata": {},
   "source": [
    "## Care and Macro economy\n",
    "* \n"
   ]
  },
  {
   "cell_type": "markdown",
   "metadata": {},
   "source": [
    "\n",
    "\n",
    "## Sustainability due to aging population in Japan\n",
    "* Kitao\n"
   ]
  },
  {
   "cell_type": "markdown",
   "metadata": {},
   "source": [
    "\n",
    "\n",
    "## Complex heterogeneous agent model concerned with social security programs\n",
    "* Li (EER, 2018)"
   ]
  },
  {
   "cell_type": "markdown",
   "metadata": {
    "slideshow": {
     "slide_type": "slide"
    }
   },
   "source": [
    "# Set up *\"Care Economy\"*"
   ]
  },
  {
   "cell_type": "code",
   "execution_count": null,
   "metadata": {
    "collapsed": true,
    "slideshow": {
     "slide_type": "-"
    }
   },
   "outputs": [],
   "source": []
  },
  {
   "cell_type": "code",
   "execution_count": null,
   "metadata": {
    "collapsed": true
   },
   "outputs": [],
   "source": []
  },
  {
   "cell_type": "markdown",
   "metadata": {},
   "source": [
    "# Demography\n",
    "* 3 periods: young, middle, and old\n",
    "    * young: work in the market and consume goods and leisure.Save for the future 22-44\n",
    "    * middle: work both in the market and home. consume goods and leisure. Save for the future. No mortality risk. 45-64\n",
    "    * old: no work in both market and home. Those with bad health receive care either in public nursing home or at home. Mortality risk is present. 65+\n",
    "* Consider 3 states: now (old is less than middle and young), 10 years later (old is more than middle and young), 20 years later (old is much more than young and middle)"
   ]
  },
  {
   "cell_type": "markdown",
   "metadata": {
    "slideshow": {
     "slide_type": "slide"
    }
   },
   "source": [
    "## Household\n",
    "\n",
    "* The model economy is populated by many households. \n",
    "    * You may imagine either single households without gender and unknown re-production technique or many households with couples and kids where income, assets, health, and time endowment is shared. \n",
    "    * More realistic modelling is listed as future study\n",
    "* wage rate is exogenous to the agent. Given wage rate, labor supply is endogeneous.\n",
    "* No negative saving is allowed (consider whether we can borrow without collateral)."
   ]
  },
  {
   "cell_type": "markdown",
   "metadata": {
    "slideshow": {
     "slide_type": "slide"
    }
   },
   "source": [
    "## Care in detail\n",
    "* In this economy, every middle-aged households face the risk of becoming care giver.\n",
    "* In the beginning of the period, the health status of all households is assigned. \n",
    "* Then the total *care needs* is determined. \n",
    "* The government determine how much care to provide, which is sometimes insufficient. That deliniates reality in Japan (there are 360,000 people on the waiting list).\n",
    "* Unmet care needs is distributed to potential care givers (*middle*). No state dependency. Imagine that you might become a informal care giver for your uncle, spouse's siblings and so on as well as your own genetic parents and spouse. Unexpectable.\n",
    "* This scenario totally igonres the positive utility from care-giving. But there are lots of tragedies associated with informal care."
   ]
  },
  {
   "cell_type": "markdown",
   "metadata": {
    "slideshow": {
     "slide_type": "slide"
    }
   },
   "source": [
    "## Preference\n",
    "* simple and general utility function. e.g. Yue (2018, EER)"
   ]
  },
  {
   "cell_type": "code",
   "execution_count": 2,
   "metadata": {},
   "outputs": [
    {
     "data": {
      "text/plain": [
       "calc_utility (generic function with 3 methods)"
      ]
     },
     "execution_count": 2,
     "metadata": {},
     "output_type": "execute_result"
    }
   ],
   "source": [
    "function calc_utility(c::Real, l::Real,chi::Real = 0.4, sigma::Real = 0.28) # chi = 0.4\n",
    "    if c <= 0 || l <= 0\n",
    "        return -1000\n",
    "    else\n",
    "        return ((c^(1-chi)*(l^chi))^(1-sigma))/(1 - sigma)\n",
    "    end\n",
    "end"
   ]
  },
  {
   "cell_type": "markdown",
   "metadata": {
    "slideshow": {
     "slide_type": "slide"
    }
   },
   "source": [
    "## consumption\n",
    "* consumption is deterimined by assets, income and saving\n",
    "* there is a social assistence for the poor"
   ]
  },
  {
   "cell_type": "code",
   "execution_count": 3,
   "metadata": {
    "slideshow": {
     "slide_type": "subslide"
    }
   },
   "outputs": [
    {
     "data": {
      "text/plain": [
       "calc_consumption (generic function with 2 methods)"
      ]
     },
     "execution_count": 3,
     "metadata": {},
     "output_type": "execute_result"
    }
   ],
   "source": [
    "function calc_consumption(new_asset::Real, income::Real, asset::Real, r::Real=r)\n",
    "    (1 + r)*asset + income - new_asset # allow negative consumption\n",
    "end"
   ]
  },
  {
   "cell_type": "markdown",
   "metadata": {
    "slideshow": {
     "slide_type": "slide"
    }
   },
   "source": [
    "## income\n",
    "* income is determined by hourking hour in market and tax\n"
   ]
  },
  {
   "cell_type": "code",
   "execution_count": 4,
   "metadata": {
    "slideshow": {
     "slide_type": "subslide"
    }
   },
   "outputs": [
    {
     "data": {
      "text/plain": [
       "calc_income (generic function with 2 methods)"
      ]
     },
     "execution_count": 4,
     "metadata": {},
     "output_type": "execute_result"
    }
   ],
   "source": [
    "function calc_income(leisure, wage, hour_home, pension, tau = tau)\n",
    "    (1 - tau)*(wage*(1 - leisure - hour_home) + pension)\n",
    "end"
   ]
  },
  {
   "cell_type": "markdown",
   "metadata": {
    "slideshow": {
     "slide_type": "slide"
    }
   },
   "source": [
    "## pension\n",
    "* pension is taken up by old.\n",
    "* the level of benefit is determined by wage history and replacement rate"
   ]
  },
  {
   "cell_type": "code",
   "execution_count": 5,
   "metadata": {
    "slideshow": {
     "slide_type": "subslide"
    }
   },
   "outputs": [
    {
     "data": {
      "text/plain": [
       "calc_pension"
      ]
     },
     "execution_count": 5,
     "metadata": {},
     "output_type": "execute_result"
    }
   ],
   "source": [
    "\"calc_pension(age, wage_history, rep_rate, retirement_age)\n",
    "\n",
    "**Argments**\n",
    "\n",
    "average_wage is meanvector of past and current wage\n",
    "\n",
    "return 0 if younger than  retirement age\"\n",
    "\n",
    "function calc_pension(age, average_wage, rep_rate = rep_rate, retirement_age = retirement_age)\n",
    "    if age >= retirement_age\n",
    "        return rep_rate*mean(average_wage)\n",
    "    else\n",
    "        return 0\n",
    "    end\n",
    "end"
   ]
  },
  {
   "cell_type": "markdown",
   "metadata": {
    "slideshow": {
     "slide_type": "slide"
    }
   },
   "source": [
    "## wage\n",
    "* wage evolves according to $w_{i,t} = \\mu + \\rho w_{i, t-1} + \\epsilon_{t}$. \n",
    "* need to be complicated when finer horizon is embedded.\n",
    "* use tauchen method to generate transition matrix"
   ]
  },
  {
   "cell_type": "markdown",
   "metadata": {
    "slideshow": {
     "slide_type": "slide"
    }
   },
   "source": [
    "## Informal care\n",
    "* Middle-aged household is assigned care needs randomly.\n",
    "* The level of care is represented as required hour for care at home.\n",
    "* Once all the household draw the raw hour at home $h^H$, they are sum up as $\\sum_i h^H_i$\n",
    "* The total demand for care $D^H = \\sum_i I (h_i \\in (0,  0.1)$\n",
    "* The unmet care needs $D^{H, unmet} = D^H - NH$ is distributed out to proportionaly to $h^H$\n",
    "* Numerical excercise is done without empirical studies, which should be done in the future."
   ]
  },
  {
   "cell_type": "code",
   "execution_count": null,
   "metadata": {
    "collapsed": true
   },
   "outputs": [],
   "source": []
  },
  {
   "cell_type": "code",
   "execution_count": 6,
   "metadata": {},
   "outputs": [
    {
     "data": {
      "text/plain": [
       "calc_hour_home"
      ]
     },
     "execution_count": 6,
     "metadata": {},
     "output_type": "execute_result"
    }
   ],
   "source": [
    "\" calc_hour_home(relative_hour_home, dep_rate, sick_rate, care_hour,NH_rate)\n",
    "\n",
    "calculate hour at home given relative home hour. relative home hour represent the level of informal care giving \n",
    "\"\n",
    "function calc_hour_home(age, relative_hour_home::Real, dep_rate::Real = dep_rate, sick_rate::Real=sick_rate, care_hour::Real=care_hour,\n",
    "        NH_rate::Real = NH_rate)\n",
    "    if age in middle_age\n",
    "        return min(relative_hour_home*(1 - NH_rate)*dep_rate*sick_rate*care_hour, 0.9999)\n",
    "    else\n",
    "        return 0\n",
    "    end\n",
    "end"
   ]
  },
  {
   "cell_type": "markdown",
   "metadata": {},
   "source": [
    "## health status\n",
    "* health status so far only matters how many old need care.\n",
    "* health is not associated with wage, labor.\n",
    "* we do not take health into accont explicitly."
   ]
  },
  {
   "cell_type": "markdown",
   "metadata": {
    "slideshow": {
     "slide_type": "slide"
    }
   },
   "source": [
    "## labor supply\n",
    "* labor supply is endogeneous\n",
    "* young and middle household optimizes labor supply as well as consumption (saving) for given time endowment\n",
    "* time endowment is varying across agent due to informal care\n",
    "* From the first order condition $l = c(1 - \\tau)w \\frac{\\chi}{1 - \\chi}$"
   ]
  },
  {
   "cell_type": "code",
   "execution_count": 7,
   "metadata": {},
   "outputs": [
    {
     "data": {
      "text/plain": [
       "calc_hour_mkt"
      ]
     },
     "execution_count": 7,
     "metadata": {},
     "output_type": "execute_result"
    }
   ],
   "source": [
    "\"calc_hour_mkt(age, leisure, hour_home, retirement_age)\n",
    "\n",
    "calculate hour in the market.\n",
    "\n",
    "**Argments**: \n",
    "\n",
    "        age, leisure, hour at homt\n",
    "\n",
    "**Return**\n",
    "\n",
    "        working hour at market\"\n",
    "function calc_hour_mkt(age::Real, leisure::Real, hour_home::Real, retirement_age::Int=retirement_age)\n",
    "    if leisure + hour_home >= 1 || age >= retirement_age\n",
    "        return 0\n",
    "    else\n",
    "        return 1 - leisure - hour_home\n",
    "    end\n",
    "end"
   ]
  },
  {
   "cell_type": "markdown",
   "metadata": {
    "slideshow": {
     "slide_type": "slide"
    }
   },
   "source": [
    "## Government\n",
    "* government provide insufficient formal care funded by social security premium contributed by working age, which is resemble to Japanese LTCI\n",
    "* cost of formal care is determined by personnel expenses of informal care worker.\n",
    "\\begin{eqnarray}\n",
    "G^{LTCI} = w^{care} N^{old} sick rate \\, d^H  NH rate \\phi\n",
    "\\end{eqnarray}\n",
    "* where $w^{care}$ denotes average wage for worker at nurinsg home. $N^{old}$, $sick rate$, $d^H$, $NH rate$ represents the population of old, the rate of care receivers to the old and required care hour per sick old. Finally, $\\phi$ is a multiplier ly inside $(0, 1)$. This multiplier represents *efficiency* of nurinsg home.   \n",
    "* Usually, typical informal care giver provide care to one care receiver, whereas (formal) care worker can work for multiple care receivers. They also benefit from the division of labor.\n",
    "* On the other hand, the government collect $\\tau\\sum_i w_i h_{M, i}$ from all the young and middle."
   ]
  },
  {
   "cell_type": "markdown",
   "metadata": {
    "slideshow": {
     "slide_type": "slide"
    }
   },
   "source": [
    "# Quantitative Exercise"
   ]
  },
  {
   "cell_type": "markdown",
   "metadata": {
    "slideshow": {
     "slide_type": "slide"
    }
   },
   "source": [
    "## Solution\n",
    "* The model is solved (ideally) by method of simulated moment.\n",
    "* So far no calibration made\n",
    "* Optimization by households is done by backward induction."
   ]
  },
  {
   "cell_type": "markdown",
   "metadata": {},
   "source": [
    "## Value function\n",
    "* value function optimization $v_t = max_{c_t, l_t} (u(c_t, l_t) + \\beta \\mathbb{E}\\left( v_{t+1}(a_{t+1}) \\right))$ "
   ]
  },
  {
   "cell_type": "code",
   "execution_count": 8,
   "metadata": {},
   "outputs": [
    {
     "data": {
      "text/plain": [
       "value_function"
      ]
     },
     "execution_count": 8,
     "metadata": {},
     "output_type": "execute_result"
    }
   ],
   "source": [
    "\"value_function(utility, expected_value, beta)\n",
    "calculate instant value for given utility and expected values in the next period\"\n",
    "function value_function(utility::Real, expected_value::Real, beta::Real = beta)\n",
    "    utility + beta*expected_value\n",
    "end"
   ]
  },
  {
   "cell_type": "markdown",
   "metadata": {
    "collapsed": true
   },
   "source": [
    "## Expected values\n",
    "* expected values are dot product of transition matrix and state-dependent values "
   ]
  },
  {
   "cell_type": "code",
   "execution_count": 9,
   "metadata": {},
   "outputs": [
    {
     "data": {
      "text/plain": [
       "interpolate_vector (generic function with 2 methods)"
      ]
     },
     "execution_count": 9,
     "metadata": {},
     "output_type": "execute_result"
    }
   ],
   "source": [
    "function interpolate_vector(current_value::Real, grid, trans_mat, num_grid = num_grid)\n",
    "    itp = interpolate((grid, grid), trans_mat, Gridded(Linear()))\n",
    "    vec = itp[current_value, grid]\n",
    "    @parallel for i in 1:num_grid\n",
    "        if vec[i] < 0\n",
    "            vec[i] = 0\n",
    "        end\n",
    "    end\n",
    "    return vec\n",
    "end"
   ]
  },
  {
   "cell_type": "code",
   "execution_count": 10,
   "metadata": {},
   "outputs": [
    {
     "data": {
      "text/plain": [
       "gen_prob_vec"
      ]
     },
     "execution_count": 10,
     "metadata": {},
     "output_type": "execute_result"
    }
   ],
   "source": [
    "\"gen_prob_vec\n",
    "return probability vector for arbitrary wage, hour at home, current_average_wage\n",
    "\n",
    "**Args**\n",
    "current_wage\n",
    "current_hour_home\n",
    "current_average_wage\n",
    "\n",
    "**return**\n",
    "vector of probability\n",
    "\"\n",
    "function gen_prob_vec(current_wage, current_hour_home, current_average_wage, wage_grid = wage_grid, \n",
    "        hour_home_grid = hour_home_grid, wage_trans_mat = wage_trans_mat, average_wage_trans_mat = average_wage_trans_mat,\n",
    "        hour_home_trans_mat= hour_home_trans_mat)\n",
    "    average_wage_prob_vector = interpolate_vector(current_average_wage, wage_grid, average_wage_trans_mat)\n",
    "    wage_prob_vector = interpolate_vector(current_wage, wage_grid, wage_trans_mat)\n",
    "    hour_home_prob_vector = interpolate_vector(current_hour_home, hour_home_grid, hour_home_trans_mat)\n",
    "    return kron(kron(wage_prob_vector, hour_home_prob_vector), average_wage_prob_vector)\n",
    "end"
   ]
  },
  {
   "cell_type": "code",
   "execution_count": 11,
   "metadata": {},
   "outputs": [
    {
     "data": {
      "text/plain": [
       "get_new_value"
      ]
     },
     "execution_count": 11,
     "metadata": {},
     "output_type": "execute_result"
    }
   ],
   "source": [
    "\"get_new_value(new_asset, current_wage, current_hour_home, current_average_wage, max_value_mat): \n",
    "\n",
    "\n",
    "get vector of maximized value for next period given choice asset and states current wage, current hour at home. \n",
    "max_value_mat should be asset_grid x wage, relative_hour_home x average_wage\"\n",
    "function get_new_value(new_asset, current_wage, current_hour_home, current_average_wage, \n",
    "        max_value_mat, asset_grid = asset_grid, num_grid = num_grid)\n",
    "    v_new = zeros(num_grid^3, 1)\n",
    "    for i in 1:num_grid^3\n",
    "        knots = (asset_grid, )\n",
    "        itp = interpolate(knots, max_value_mat[:,i], Gridded(Linear()))\n",
    "        v_new[i] = itp[new_asset]\n",
    "    end\n",
    "    return v_new\n",
    "end"
   ]
  },
  {
   "cell_type": "markdown",
   "metadata": {},
   "source": [
    "## Generate Policy Function"
   ]
  },
  {
   "cell_type": "code",
   "execution_count": 12,
   "metadata": {},
   "outputs": [],
   "source": [
    "# setting\n",
    "\n",
    "### Economy ###\n",
    "\n",
    "const r = 0.01; # interest rate\n",
    "const dep_rate = 1 # dependency rate\n",
    "const wage_care = 0.7; # care workers' wage rate. ratio to all industry\n",
    "const sick_rate = 0.2; # need care old / old\n",
    "const care_hour = 0.3; # care demand per care receiver in hours\n",
    "const middle_age = (2); # when giving care\n",
    "\n",
    "### Government ###\n",
    "const tau = 0.1; # income tax rate\n",
    "const rep_rate = 0.5; # replacement rate\n",
    "const NH_rate = 0.5; # government formal care provision rate. ratio to needed care\n",
    "const retirement_age = 3; # age when household can take up pension\n",
    "const num_period = 3; # number of periods when hh dies surely\n",
    "\n",
    "### Preference ###\n",
    "const beta = 0.9; # discount rate\n",
    "const chi = 0.4; # share of leisure in utilty\n",
    "const sigma = 0.28; # intertemporal substitution\n",
    "\n",
    "### numerical excersize ###\n",
    "const num_grid = 7; # number of grid  7 for 10 min 8 for 30 min 9 for ???\n",
    "const min_asset = 0; # minimum asset\n",
    "const max_asset = 10; # maximum asset\n",
    "const min_leisure = 0.001;\n",
    "const max_leisure = 0.999;\n",
    "\n",
    "# wage trainsition matrix\n",
    "# \"const\" make it faster \n",
    "const wage_rho = 0.9 # param for wage function\n",
    "const wage_sigma = 0.1# param for wage function standard deviation for epsilon\n",
    "const wage_mu = 0 # mean wage\n",
    "const wage_n_std = 9 # length of grid\n",
    "\n",
    "const wage_markovchain = tauchen(num_grid, wage_rho, wage_sigma, wage_mu, wage_n_std);\n",
    "const wage_trans_mat = wage_markovchain.p;\n",
    "const wage_grid = exp(wage_markovchain.state_values);\n",
    "\n",
    "# average wage transition\n",
    "# only applicable when number of period = 3 NO SCALABILITY!!!!\n",
    "const average_wage_trans_mat = wage_trans_mat/2 + eye(num_grid, num_grid)/2;\n",
    "\n",
    "# informal care grid and transition matrix\n",
    "\n",
    "const hour_home_rho = 0 # param for wage function\n",
    "const hour_home_sigma = 0.5# param for wage function standard deviation for epsilon\n",
    "const hour_home_mu = 0 # mean wage\n",
    "const hour_home_n_std = 3 # length of grid\n",
    "\n",
    "const hour_home_markovchain = tauchen(num_grid, hour_home_rho, hour_home_sigma, hour_home_mu, hour_home_n_std);\n",
    "const hour_home_trans_mat = hour_home_markovchain.p;\n",
    "const hour_home_grid = exp(hour_home_markovchain.state_values);\n",
    "\n",
    "asset_grid = linspace(min_asset, max_asset, num_grid);\n",
    "leisure_grid = linspace(min_leisure, max_leisure, num_grid);"
   ]
  },
  {
   "cell_type": "code",
   "execution_count": 13,
   "metadata": {},
   "outputs": [
    {
     "data": {
      "text/plain": [
       "generate_max_values_matrix"
      ]
     },
     "execution_count": 13,
     "metadata": {},
     "output_type": "execute_result"
    }
   ],
   "source": [
    "\"generate_max_values_matrix(value_function, asset_grid, leisure_grid, wage_grid, hour_home_grid, num_grid):\n",
    "\n",
    "maximize value with respect to leisure and consumption\n",
    "\"\n",
    "\n",
    "function generate_max_values_matrix(age, value_function::Function, new_max_value_mat = zeros(num_grid, num_grid^3), asset_grid = asset_grid, leisure_grid = leisure_grid, \n",
    "        wage_grid = wage_grid, hour_home_grid = hour_home_grid, num_grid = num_grid)\n",
    "    # initializing matrices\n",
    "    value_matrix = zeros(num_grid^2, num_grid^4);\n",
    "    consumption_mat = zeros(num_grid^2, num_grid^4);\n",
    "    leisure_mat = zeros(num_grid^2, num_grid^4);\n",
    "    income_mat = zeros(num_grid^2, num_grid^4);\n",
    "    new_asset_mat = ones(num_grid^2, num_grid^4);\n",
    "    wage_mat = zeros(num_grid^2, num_grid^4);\n",
    "    new_asset_mat = zeros(num_grid^2, num_grid^4);\n",
    "    hour_home_mat = zeros(num_grid^2, num_grid^4); # hour home (realized)\n",
    "    raw_hour_home_mat = zeros(num_grid^2, num_grid^4); # relative hour home (not real one)\n",
    "    average_wage_mat = zeros(num_grid^2, num_grid^4);\n",
    "    hour_mkt_mat = zeros(num_grid^2, num_grid^4);\n",
    "\n",
    "    for new_asset_ind = 1:num_grid  \n",
    "        for leisure_ind = 1:num_grid\n",
    "            for asset_ind = 1:num_grid\n",
    "                for wage_ind = 1:num_grid\n",
    "                    for hour_home_ind = 1:num_grid\n",
    "                        for average_wage_ind = 1:num_grid\n",
    "                            new_asset = asset_grid[new_asset_ind]      \n",
    "                            leisure = leisure_grid[leisure_ind]\n",
    "                            wage = wage_grid[wage_ind]*(age < retirement_age) # wage is 0 when retired\n",
    "                            asset = asset_grid[asset_ind]\n",
    "                            raw_hour_home = hour_home_grid[hour_home_ind]\n",
    "                            hour_home = calc_hour_home(age, raw_hour_home)\n",
    "                            average_wage = wage_grid[average_wage_ind]\n",
    "                            pension = calc_pension(age, average_wage)\n",
    "                            income = calc_income(leisure, wage, hour_home, pension)\n",
    "                            consumption = calc_consumption(new_asset, income, asset)\n",
    "                            utility = calc_utility(consumption, leisure)\n",
    "                            \n",
    "                            row_ind = new_asset_ind + (leisure_ind - 1)*num_grid\n",
    "                            col_ind = asset_ind + (wage_ind - 1)*num_grid + (hour_home_ind - 1)*num_grid^2 + (average_wage_ind - 1)*num_grid^3\n",
    "                            \n",
    "                            # store variables\n",
    "                            consumption_mat[row_ind, col_ind] = consumption;\n",
    "                            new_asset_mat[row_ind, col_ind] = new_asset;\n",
    "                            leisure_mat[row_ind, col_ind] = leisure;\n",
    "                            income_mat[row_ind, col_ind] = income;\n",
    "                            wage_mat[row_ind, col_ind] = wage;\n",
    "                            raw_hour_home_mat[row_ind, col_ind] = raw_hour_home;\n",
    "                            hour_home_mat[row_ind, col_ind] = hour_home;\n",
    "                            hour_mkt_mat[row_ind, col_ind] = 1 - hour_home - leisure;\n",
    "                            \n",
    "                            # calc expected_value\n",
    "                            v_new_vec = get_new_value(new_asset, wage, hour_home, average_wage, new_max_value_mat)\n",
    "                            p = gen_prob_vec(wage, hour_home, average_wage)\n",
    "                            expected_value = dot(v_new_vec, p)\n",
    "                            value_matrix[row_ind, col_ind] = value_function(utility, expected_value)\n",
    "                        end\n",
    "                    end\n",
    "                end\n",
    "            end\n",
    "        end\n",
    "    end\n",
    "    # get max value for each asset, wage, h_H. maximizing with respect to new asset and leisure\n",
    "    #max_value = maximum(value_matrix, 1)\n",
    "    max_value, max_ind = findmax(value_matrix, 1)\n",
    "    # reshape value matrix to asset_grid x (w x h_H)\n",
    "    # this should be fix throughout the simulation\n",
    "    max_values_reshaped = reshape(max_value, num_grid, num_grid^3);\n",
    "    return max_values_reshaped, max_ind, new_asset_mat, consumption_mat, income_mat, wage_mat, hour_home_mat, raw_hour_home_mat, \n",
    "    hour_mkt_mat\n",
    "end\n",
    "\n"
   ]
  },
  {
   "cell_type": "code",
   "execution_count": 14,
   "metadata": {},
   "outputs": [
    {
     "data": {
      "text/html": [
       "1"
      ],
      "text/plain": [
       "1"
      ]
     },
     "execution_count": 14,
     "metadata": {},
     "output_type": "execute_result"
    }
   ],
   "source": [
    "nprocs()"
   ]
  },
  {
   "cell_type": "code",
   "execution_count": 15,
   "metadata": {},
   "outputs": [
    {
     "data": {
      "text/plain": [
       "8-element Array{Int64,1}:\n",
       " 2\n",
       " 3\n",
       " 4\n",
       " 5\n",
       " 6\n",
       " 7\n",
       " 8\n",
       " 9"
      ]
     },
     "execution_count": 15,
     "metadata": {},
     "output_type": "execute_result"
    }
   ],
   "source": [
    "if nworkers() < 8\n",
    "    addprocs(8)\n",
    "end"
   ]
  },
  {
   "cell_type": "code",
   "execution_count": 16,
   "metadata": {},
   "outputs": [
    {
     "data": {
      "text/html": [
       "8"
      ],
      "text/plain": [
       "8"
      ]
     },
     "execution_count": 16,
     "metadata": {},
     "output_type": "execute_result"
    }
   ],
   "source": [
    "nworkers()"
   ]
  },
  {
   "cell_type": "code",
   "execution_count": 17,
   "metadata": {
    "collapsed": true
   },
   "outputs": [],
   "source": [
    "new_max_value_matrix = zeros(num_grid, num_grid^3);\n",
    "pol_consumption = zeros(num_period, num_grid^4);\n",
    "pol_new_asset = zeros(num_period, num_grid^4);\n",
    "pol_hour_mkt = zeros(num_period, num_grid^4);\n",
    "pol_income = zeros(num_period, num_grid^4);"
   ]
  },
  {
   "cell_type": "code",
   "execution_count": null,
   "metadata": {
    "collapsed": true
   },
   "outputs": [],
   "source": [
    "for t in (3,2,1)\n",
    "    max_value_matrix, max_ind, new_asset_mat, consumption_mat, income_mat, wage_mat, hour_home_mat, raw_hour_home_mat, \n",
    "    hour_mkt_mat = \n",
    "    generate_max_values_matrix(t, value_function, new_max_value_matrix)\n",
    "    pol_consumption[t,:] = consumption_mat[max_ind]\n",
    "    pol_hour_mkt[t,:] = hour_mkt_mat[max_ind]\n",
    "    pol_income[t,:] = income_mat[max_ind]\n",
    "    pol_new_asset[t,:] = new_asset_mat[max_ind]\n",
    "    new_max_value_matrix = max_value_matrix  \n",
    "end"
   ]
  },
  {
   "cell_type": "markdown",
   "metadata": {
    "collapsed": true,
    "slideshow": {
     "slide_type": "slide"
    }
   },
   "source": [
    "# Simulation"
   ]
  },
  {
   "cell_type": "markdown",
   "metadata": {
    "collapsed": true
   },
   "source": [
    "## Setting\n",
    "* we simulate 100,000 households with 3 periods\n",
    "* initial wage is randomly distributed, assets are set to 0 for young.\n",
    "* wage evolves according to the distribution\n",
    "* hour at home are set randomly"
   ]
  },
  {
   "cell_type": "code",
   "execution_count": null,
   "metadata": {
    "collapsed": true
   },
   "outputs": [],
   "source": [
    "# simulation 100 thousand H/H\n",
    "# initializing matrices\n",
    "const num_hh = 10;"
   ]
  },
  {
   "cell_type": "code",
   "execution_count": null,
   "metadata": {
    "collapsed": true
   },
   "outputs": [],
   "source": [
    "asset_record = zeros(num_hh, num_period);\n",
    "wage_record = zeros(num_hh, num_period);\n",
    "average_wage_record = zeros(num_hh,num_period);\n",
    "raw_hour_home_record = zeros(num_hh, num_period);\n",
    "hour_home_record = zeros(num_hh, num_period);\n",
    "hour_mkt_record = zeros(num_hh, num_period);\n",
    "consumption_record = zeros(num_hh, num_period);"
   ]
  },
  {
   "cell_type": "code",
   "execution_count": null,
   "metadata": {
    "collapsed": true
   },
   "outputs": [],
   "source": [
    "# wage is first generated by normal and transformed into exponentiated value\n",
    "wage_dist = Normal(wage_mu, wage_sigma^2/(1 - wage_rho^2));\n",
    "log_wage = rand(wage_dist, num_hh, 1);\n",
    "wage_record[:,1] = exp(log_wage);\n",
    "eps_dist = Normal(0, wage_sigma);\n",
    "wage_record[:,2] = exp(wage_rho*log_wage + rand(eps_dist, num_hh, 1));\n",
    "\n"
   ]
  },
  {
   "cell_type": "code",
   "execution_count": null,
   "metadata": {
    "collapsed": true
   },
   "outputs": [],
   "source": [
    "average_wage_record[:,1] = wage_record[:,1];\n",
    "average_wage_record[:,2] = mean(wage_record[:,1:2],2);\n",
    "average_wage_record[:,3] = mean(wage_record[:,1:2],2);"
   ]
  },
  {
   "cell_type": "code",
   "execution_count": null,
   "metadata": {
    "collapsed": true
   },
   "outputs": [],
   "source": [
    "# raw hour home. the hour ac\n",
    "hour_home_dist = Normal(hour_home_mu, hour_home_sigma^2);\n",
    "log_hour_home = rand(hour_home_dist, num_hh, num_period);\n",
    "raw_hour_home_record = exp(log_hour_home);"
   ]
  },
  {
   "cell_type": "code",
   "execution_count": null,
   "metadata": {
    "collapsed": true
   },
   "outputs": [],
   "source": [
    "pol_consumption_reshape = reshape(pol_consumption, num_period, num_grid, num_grid, num_grid, num_grid) # reshape for interpolate    \n",
    "pol_new_asset_reshape = reshape(pol_new_asset, num_period, num_grid, num_grid, num_grid, num_grid) # reshape for interpolate    \n",
    "pol_hour_mkt_reshape = reshape(pol_hour_mkt, num_period, num_grid, num_grid, num_grid, num_grid) # reshape for interpolate    \n",
    "\n",
    "for t = 1:3\n",
    "    consumption_itp = interpolate((asset_grid, wage_grid, hour_home_grid, wage_grid), pol_consumption_reshape[t, :,:,:,:], Gridded(Linear()));\n",
    "    new_asset_itp = interpolate((asset_grid, wage_grid, hour_home_grid, wage_grid), pol_new_asset_reshape[t, :,:,:,:], Gridded(Linear()));\n",
    "    hour_mkt_itp = interpolate((asset_grid, wage_grid, hour_home_grid, wage_grid), pol_hour_mkt_reshape[t, :,:,:,:], Gridded(Linear()));\n",
    "    for n = 1:num_hh\n",
    "        consumption_record[n,t] = consumption_itp[asset_record[n,t], wage_record[n,t], raw_hour_home_record[n,t], average_wage_record[n,t]]\n",
    "        if t < 3\n",
    "            asset_record[n,t+1] = new_asset_itp[asset_record[n,t], wage_record[n,t], raw_hour_home_record[n,t], average_wage_record[n,t]]\n",
    "        end\n",
    "        hour_mkt_record[n,t] = hour_mkt_itp[asset_record[n,t], wage_record[n,t], raw_hour_home_record[n,t], average_wage_record[n,t]]\n",
    "        hour_home_record[n,t] = calc_hour_home(t, raw_hour_home_record[n,t])\n",
    "    end\n",
    "end"
   ]
  },
  {
   "cell_type": "code",
   "execution_count": null,
   "metadata": {
    "scrolled": true
   },
   "outputs": [],
   "source": [
    "scatter(hour_home_record[:, 2], consumption_record[:,2])"
   ]
  },
  {
   "cell_type": "code",
   "execution_count": null,
   "metadata": {},
   "outputs": [],
   "source": [
    "wage_record"
   ]
  },
  {
   "cell_type": "code",
   "execution_count": null,
   "metadata": {},
   "outputs": [],
   "source": [
    "plot(transpose(hour_mkt_record))"
   ]
  },
  {
   "cell_type": "code",
   "execution_count": null,
   "metadata": {},
   "outputs": [],
   "source": [
    "hour_home_record"
   ]
  },
  {
   "cell_type": "code",
   "execution_count": null,
   "metadata": {},
   "outputs": [],
   "source": [
    "pol_consumption"
   ]
  },
  {
   "cell_type": "code",
   "execution_count": null,
   "metadata": {},
   "outputs": [],
   "source": [
    "7^4"
   ]
  },
  {
   "cell_type": "markdown",
   "metadata": {
    "collapsed": true
   },
   "source": [
    "# Fiscal sustainability of LTCI"
   ]
  },
  {
   "cell_type": "markdown",
   "metadata": {},
   "source": []
  },
  {
   "cell_type": "code",
   "execution_count": null,
   "metadata": {},
   "outputs": [],
   "source": [
    "# cost \n",
    "sum(raw_hour_home_record)"
   ]
  },
  {
   "cell_type": "code",
   "execution_count": null,
   "metadata": {},
   "outputs": [],
   "source": [
    "hour_home_record"
   ]
  },
  {
   "cell_type": "code",
   "execution_count": null,
   "metadata": {
    "collapsed": true
   },
   "outputs": [],
   "source": []
  },
  {
   "cell_type": "code",
   "execution_count": null,
   "metadata": {
    "collapsed": true
   },
   "outputs": [],
   "source": []
  },
  {
   "cell_type": "code",
   "execution_count": null,
   "metadata": {
    "collapsed": true
   },
   "outputs": [],
   "source": []
  },
  {
   "cell_type": "code",
   "execution_count": null,
   "metadata": {
    "collapsed": true
   },
   "outputs": [],
   "source": []
  }
 ],
 "metadata": {
  "celltoolbar": "Slideshow",
  "kernelspec": {
   "display_name": "Julia 0.5.2",
   "language": "julia",
   "name": "julia-0.5"
  },
  "language_info": {
   "file_extension": ".jl",
   "mimetype": "application/julia",
   "name": "julia",
   "version": "0.5.2"
  }
 },
 "nbformat": 4,
 "nbformat_minor": 2
}
