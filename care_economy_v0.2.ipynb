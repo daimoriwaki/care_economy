{
 "cells": [
  {
   "cell_type": "markdown",
   "metadata": {
    "slideshow": {
     "slide_type": "slide"
    }
   },
   "source": [
    "# Effect of Informal Care on Labor Supply: A Macroeconomic Perspective\n",
    "\n",
    "## 2018.3.12 ICES, Hosei University\n",
    "\n",
    "### Daisuke Moriwaki\n",
    "\n",
    "Cyberagent, Inc., AI Lab        \n",
    "Keio University, School of Medicine\n",
    "\n",
    "<daisuke.moriwaki@gmail.com>"
   ]
  },
  {
   "cell_type": "code",
   "execution_count": 573,
   "metadata": {
    "collapsed": true
   },
   "outputs": [],
   "source": [
    "using QuantEcon\n",
    "using Plots\n",
    "using Interpolations\n",
    "using Distributions"
   ]
  },
  {
   "cell_type": "markdown",
   "metadata": {
    "slideshow": {
     "slide_type": "slide"
    }
   },
   "source": [
    "# Motivation\n",
    "* Increase in the number of care recievers in Japan is inevitable. On the other hand, the human and financial resource that we can spend on care givers is getting scarse.\n",
    "* It is easy to predict that \"caregiver ratio\" (the number of caregivers per one care receiver) explodes in the near future."
   ]
  },
  {
   "cell_type": "markdown",
   "metadata": {
    "slideshow": {
     "slide_type": "slide"
    }
   },
   "source": [
    "* The explosion of caregiver ratio cause several problems\n",
    "    * insufficient care for elderly (insufficient availability of cheap nursing home, tokuyo)\n",
    "    * Poverty due to care-leave for frail older family\n",
    "    * Financial Problem for both national government and local administration\n",
    "    * *Economy itself* due to less labor supply\n",
    "* Such a wide range of problem should be tackled by macroeconomic model rather than causality studies."
   ]
  },
  {
   "cell_type": "markdown",
   "metadata": {
    "slideshow": {
     "slide_type": "slide"
    }
   },
   "source": [
    "# Literature\n",
    "\n",
    "## labor supply and informal care\n",
    "\n",
    "* moriwaki (2015, mimeo) finds negative effect from informal care only for male."
   ]
  },
  {
   "cell_type": "markdown",
   "metadata": {},
   "source": [
    "## care and macro economy\n",
    "\n",
    "\n",
    "## heterogeneous agent and social security programs\n",
    "* Li (EER, 2018)\n",
    "* Kitao"
   ]
  },
  {
   "cell_type": "markdown",
   "metadata": {
    "slideshow": {
     "slide_type": "slide"
    }
   },
   "source": [
    "# Setting"
   ]
  },
  {
   "cell_type": "markdown",
   "metadata": {
    "slideshow": {
     "slide_type": "slide"
    }
   },
   "source": [
    "## Household\n",
    "\n",
    "* you may consider either single households without gender and unknown re-production technique or many households with couples and kids where income, assets, health, and time endowment is shared. More realistic modelling is listed as future study\n",
    "* 5 status space\n",
    "    * age from 20 to 99 (5 year interval)\n",
    "    * health status from 0 to 1. health with 0.1 or below becomes a care receiver.\n",
    "    * wage rate is exogenous. Given wage rate, labor supply is endogeneous.\n",
    "    * asset\n",
    "    * *care* status; how many hours the household must spend for caring older frail family"
   ]
  },
  {
   "cell_type": "markdown",
   "metadata": {
    "slideshow": {
     "slide_type": "slide"
    }
   },
   "source": [
    "## Preference\n",
    "* simple utility function. setting is same as Yue (2018, EER)"
   ]
  },
  {
   "cell_type": "code",
   "execution_count": 574,
   "metadata": {},
   "outputs": [
    {
     "name": "stderr",
     "output_type": "stream",
     "text": [
      "WARNING: Method definition util(Real, Real) in module Main at In[542]:2 overwritten at In[574]:2.\n",
      "WARNING: Method definition util(Real, Real, Real) in module Main at In[542]:2 overwritten at In[574]:2.\n",
      "WARNING: Method definition util(Real, Real, Real, Real) in module Main at In[542]:2 overwritten at In[574]:2.\n"
     ]
    },
    {
     "data": {
      "text/plain": [
       "util (generic function with 3 methods)"
      ]
     },
     "execution_count": 574,
     "metadata": {},
     "output_type": "execute_result"
    }
   ],
   "source": [
    "function util(c::Real, l::Real,chi::Real = 0.4, sigma::Real = 0.28) # chi = 0.4\n",
    "    ((c^(1-chi)*(l^chi))^(1-sigma))/(1 - sigma)\n",
    "end"
   ]
  },
  {
   "cell_type": "markdown",
   "metadata": {
    "slideshow": {
     "slide_type": "slide"
    }
   },
   "source": [
    "## consumption\n",
    "* consumption is deterimined by assets, income and saving\n",
    "* there is a social assistence for the poor"
   ]
  },
  {
   "cell_type": "markdown",
   "metadata": {
    "slideshow": {
     "slide_type": "subslide"
    }
   },
   "source": [
    "## income\n",
    "* income is determined by hourking hour in market and tax\n"
   ]
  },
  {
   "cell_type": "markdown",
   "metadata": {
    "slideshow": {
     "slide_type": "slide"
    }
   },
   "source": [
    "## labor supply\n",
    "* labor supply is endogeneous\n",
    "* healthy household optimizes labor supply as well as consumption (saving) for given time endowment\n",
    "* time endowment is varying across agent due to informal care\n",
    "* From the first order condition $l = c(1 - \\tau)w \\frac{\\chi}{1 - \\chi}$"
   ]
  },
  {
   "cell_type": "markdown",
   "metadata": {
    "slideshow": {
     "slide_type": "slide"
    }
   },
   "source": [
    "## Informal care\n",
    "* Population is devided by health status. One is (potential) caregivers who are healthy enough to provide care to family, the other is care receivers who needs care from either/both formal or/and informal caregivers.\n",
    "* Suppose most of the households prefer formal care, e.g. nursing home, to informal care at home. Then informal care occurs only when formal care provision is insufficient and this is exactly the case in Japan.\n",
    "* Informal care is defined as unmet care demand from carereceivers. Informal care is distributed romdomly to caregivers according to caregivers' age."
   ]
  },
  {
   "cell_type": "markdown",
   "metadata": {
    "slideshow": {
     "slide_type": "slide"
    }
   },
   "source": [
    "## Government\n",
    "* government provide insufficient formal care funded by social security premium contributed by working age, which is resemble to Japanese LTCI\n",
    "* cost of formal care is determined by personal expenses of informal care worker"
   ]
  },
  {
   "cell_type": "markdown",
   "metadata": {},
   "source": [
    "# Others\n",
    "* wage ($w$) and capital cost $r$ is arbitrary determined by the nature (me).\n",
    "* thus no equillibrium condition holds so far.\n",
    "* $r = 0.01$, $\\mathbb{E}(w) = 1$"
   ]
  },
  {
   "cell_type": "markdown",
   "metadata": {},
   "source": [
    "## Quantitative Excercise\n",
    "* The model is simulated with parameters set to values taken from existing literature.\n",
    "* Unfortunately, I can only show the result of toy model so far."
   ]
  },
  {
   "cell_type": "markdown",
   "metadata": {},
   "source": [
    "## The toy model\n",
    "* Households have only three period: young, middle, and old\n",
    "* Young work only in the market and not give care.\n",
    "* Middle work both in home and the market, but does not receive care.\n",
    "* Old does not work.\n",
    "* Wage is stochastic without persistent shocks.\n",
    "* "
   ]
  },
  {
   "cell_type": "code",
   "execution_count": 575,
   "metadata": {},
   "outputs": [
    {
     "data": {
      "text/html": [
       "0.5"
      ],
      "text/plain": [
       "0.5"
      ]
     },
     "execution_count": 575,
     "metadata": {},
     "output_type": "execute_result"
    }
   ],
   "source": [
    "r = 0.0\n",
    "tau = 0.1 # income tax\n",
    "beta = 0.9 # discount rate\n",
    "rep_rate = 0.5 # replacement rate\n",
    "NH_rate = 0.9 # government formal care provision rate. ratio to needed care\n",
    "wage_care = 0.7 # care workers' wage rate. ratio to all industry"
   ]
  },
  {
   "cell_type": "code",
   "execution_count": 1,
   "metadata": {},
   "outputs": [
    {
     "data": {
      "text/plain": [
       "value_for_old (generic function with 1 method)"
      ]
     },
     "execution_count": 1,
     "metadata": {},
     "output_type": "execute_result"
    }
   ],
   "source": [
    "# calculating utility for old given asset and benefit\n",
    "# need calculation for average_wage\n",
    "function value_for_old(a::Real, average_wage::Real)\n",
    "    b = rep_rate*average_wage # pension benefit\n",
    "    return util((a*(1 + r) + b), 1)\n",
    "end"
   ]
  },
  {
   "cell_type": "code",
   "execution_count": null,
   "metadata": {
    "collapsed": true
   },
   "outputs": [],
   "source": []
  },
  {
   "cell_type": "code",
   "execution_count": 1,
   "metadata": {},
   "outputs": [
    {
     "data": {
      "text/plain": [
       "value_for_middle (generic function with 3 methods)"
      ]
     },
     "execution_count": 1,
     "metadata": {},
     "output_type": "execute_result"
    }
   ],
   "source": [
    "# caluculating value for middle\n",
    "# need calculaation for average wage\n",
    "function value_for_middle(a_new::Real, l::Real, a::Real, w::Real, h_H::Real, v_new::Real, tau::Real = tau, beta::Real = beta)\n",
    "    y = w*(1 - tau)*(1 - h_H - l)\n",
    "    #c = -100\n",
    "    c = (1 + r)*a + y - a_new\n",
    "    if c <= 0  || l <= 0 || 1 - h_H - l < 0\n",
    "        v = -100\n",
    "    else\n",
    "        v = util(c, l) + beta*v_new\n",
    "    end\n",
    "    return v, a_new, l, a, w, h_H, y, c\n",
    "end"
   ]
  },
  {
   "cell_type": "code",
   "execution_count": 578,
   "metadata": {
    "collapsed": true
   },
   "outputs": [],
   "source": [
    "# maximize value for middle given asset, wage and informal care\n",
    "# row is new_asset x leisure\n",
    "# column is wage x h_H x asset\n",
    "\n",
    "min_asset = 0;\n",
    "max_asset = 10;\n",
    "min_wage = 0;\n",
    "max_wage = 10;\n",
    "min_h_H =0;\n",
    "max_h_H = 1;\n",
    "num_grid = 9; #9\n",
    "min_l = 0;\n",
    "max_l = 1;\n",
    "asset_grid = linspace(min_asset, max_asset, num_grid);\n",
    "wage_grid = linspace(min_wage, max_wage, num_grid);\n",
    "h_H_grid = linspace(min_h_H, max_h_H, num_grid);\n",
    "l_grid = linspace(min_l, max_l, num_grid);"
   ]
  },
  {
   "cell_type": "code",
   "execution_count": 579,
   "metadata": {},
   "outputs": [
    {
     "name": "stderr",
     "output_type": "stream",
     "text": [
      "WARNING: Method definition generate_max_values_matrix(Function) in module Main at In[547]:6 overwritten at In[579]:6.\n",
      "WARNING: Method definition generate_max_values_matrix(Function, Base.LinSpace) in module Main at In[547]:6 overwritten at In[579]:6.\n",
      "WARNING: Method definition generate_max_values_matrix(Function, Base.LinSpace, Base.LinSpace) in module Main at In[547]:6 overwritten at In[579]:6.\n",
      "WARNING: Method definition generate_max_values_matrix(Function, Base.LinSpace, Base.LinSpace, Base.LinSpace) in module Main at In[547]:6 overwritten at In[579]:6.\n",
      "WARNING: Method definition generate_max_values_matrix(Function, Base.LinSpace, Base.LinSpace, Base.LinSpace, Base.LinSpace) in module Main at In[547]:6 overwritten at In[579]:6.\n",
      "WARNING: Method definition generate_max_values_matrix(Function, Base.LinSpace, Base.LinSpace, Base.LinSpace, Base.LinSpace, Int64) in module Main at In[547]:6 overwritten at In[579]:6.\n"
     ]
    },
    {
     "data": {
      "text/plain": [
       "generate_max_values_matrix (generic function with 6 methods)"
      ]
     },
     "execution_count": 579,
     "metadata": {},
     "output_type": "execute_result"
    }
   ],
   "source": [
    "# calculate value for each input and return maximum value for each\n",
    "# warinig: no interpolation embeded!\n",
    "function generate_max_values_matrix(value_function::Function, asset_grid::LinSpace = asset_grid, l_grid::LinSpace = l_grid, wage_grid::LinSpace = wage_grid, \n",
    "        h_H_grid::LinSpace = h_H_grid, num_grid::Int = num_grid)\n",
    "    # initializing matrices\n",
    "    value_matrix = zeros(num_grid^2, num_grid^3);\n",
    "    c_mat = zeros(num_grid^2, num_grid^3);\n",
    "    l_mat = zeros(num_grid^2, num_grid^3);\n",
    "    y_mat = zeros(num_grid^2, num_grid^3);\n",
    "    a_new_mat = ones(num_grid^2, num_grid^3);\n",
    "    w_mat = zeros(num_grid^2, num_grid^3);\n",
    "    a_mat = zeros(num_grid^2, num_grid^3);\n",
    "    h_H_mat = zeros(num_grid^2, num_grid^3);\n",
    "    for i = 1:num_grid\n",
    "        for j = 1:num_grid\n",
    "            for k = 1:num_grid\n",
    "                for m = 1:num_grid\n",
    "                    for n = 1:num_grid\n",
    "                        result = value_function(asset_grid[i], l_grid[j], asset_grid[k], wage_grid[m], h_H_grid[n])\n",
    "                        value_matrix[i + (j - 1)num_grid, k + (m - 1)num_grid + (n - 1)num_grid^2] = result[1]\n",
    "                        a_new_mat[i + (j - 1)num_grid, k + (m - 1)num_grid + (n - 1)num_grid^2] = result[2]\n",
    "                        l_mat[i + (j - 1)num_grid, k + (m - 1)num_grid + (n - 1)num_grid^2] = result[3]\n",
    "                        a_mat[i + (j - 1)num_grid, k + (m - 1)num_grid + (n - 1)num_grid^2] = result[4]\n",
    "                        w_mat[i + (j - 1)num_grid, k + (m - 1)num_grid + (n - 1)num_grid^2] = result[5]\n",
    "                        h_H_mat[i + (j - 1)num_grid, k + (m - 1)num_grid + (n - 1)num_grid^2] = result[6]\n",
    "                        y_mat[i + (j - 1)num_grid, k + (m - 1)num_grid + (n - 1)num_grid^2] = result[7]\n",
    "                        c_mat[i + (j - 1)num_grid, k + (m - 1)num_grid + (n - 1)num_grid^2]  = result[8]\n",
    "                    end\n",
    "                end\n",
    "            end\n",
    "        end\n",
    "    end\n",
    "    # get max value for each asset, wage, h_H. maximizing with respect to new asset and leisure\n",
    "    #max_value = maximum(value_matrix, 1)\n",
    "    max_value, max_ind = findmax(value_matrix, 1)\n",
    "    # reshape value matrix to asset_grid x (w x h_H)\n",
    "    # this should be fix throughout the imulation\n",
    "    max_values_reshaped = reshape(max_value, num_grid, num_grid^2);\n",
    "    return max_values_reshaped, max_ind, a_new_mat, l_mat, a_mat, w_mat, h_H_mat, y_mat, c_mat\n",
    "end\n"
   ]
  },
  {
   "cell_type": "code",
   "execution_count": 580,
   "metadata": {
    "collapsed": true
   },
   "outputs": [],
   "source": [
    "# get policy function for a_new, h_M (Labor supply), c, \n",
    "max_values_reshaped, max_ind, a_new_mat, l_mat, a_mat, w_mat, h_H_mat, y_mat, c_mat = generate_max_values_matrix(value_for_middle);\n",
    "# policy function for new asset\n",
    "a_new_pol_middle = a_new_mat[max_ind]\n",
    "# policy function for labor supply\n",
    "l_pol_middle = l_mat[max_ind]\n",
    "h_M_pol_middle = 1 - l_pol_middle - reshape(h_H_mat[1, :], 1, num_grid^3)\n",
    "c_pol_middle = c_mat[max_ind]\n",
    "# policy function for new asset\n",
    "#a_new_pol = a_new_mat[max_ind]\n",
    "# policy function for new asset\n",
    "#a_new_pol = a_new_mat[max_ind]\n"
   ]
  },
  {
   "cell_type": "code",
   "execution_count": 581,
   "metadata": {},
   "outputs": [
    {
     "data": {
      "text/html": [
       "<script src=\"/home/daisuke_moriwaki/.julia/v0.5/Plots/src/backends/../../deps/plotly-latest.min.js\"></script>    <div id=\"6ffff6a2-6bb2-45ea-8a03-b24568291a98\" style=\"width:600px;height:400px;\"></div>\n",
       "    <script>\n",
       "    PLOT = document.getElementById('6ffff6a2-6bb2-45ea-8a03-b24568291a98');\n",
       "    Plotly.plot(PLOT, [{\"yaxis\":\"y\",\"y\":[0.0,1.25,1.25,2.5,2.5,3.75,3.75,5.0,5.0,0.703125,1.390625,1.390625,2.5,2.5,3.75,5.0,5.0,6.25,1.40625,1.40625,2.09375,2.78125,3.75,3.75,5.0,5.0,6.25,2.109375,2.109375,2.9375,3.34375,4.171875,4.171875,5.0,6.25,6.25,2.125,2.8125,3.5,4.1875,4.1875,4.875,5.5625,6.25,6.25,2.265625,3.515625,4.0625,4.0625,4.609375,5.859375,6.40625,6.40625,6.953125,2.96875,4.21875,4.625,4.625,5.875,6.28125,6.28125,6.6875,7.9375,3.671875,4.921875,4.921875,5.1875,6.4375,6.703125,6.703125,7.953125,8.21875,4.375,5.625,5.625,5.75,7.0,7.0,7.125,8.375,8.375,0.0,1.25,1.25,2.5,2.5,3.75,3.75,5.0,5.0,0.5625,1.390625,1.390625,2.5,2.5,3.75,3.75,5.0,5.0,1.125,1.125,1.8125,2.78125,3.75,3.75,5.0,5.0,6.25,1.6875,1.6875,2.515625,3.34375,4.171875,4.171875,5.0,5.0,6.25,2.25,2.25,2.9375,3.625,3.625,4.875,5.5625,6.25,6.25,2.265625,2.8125,3.359375,4.609375,4.609375,5.15625,5.703125,6.953125,6.953125,2.96875,3.375,4.625,5.03125,5.03125,5.4375,6.6875,6.6875,7.09375,3.671875,3.9375,5.1875,5.1875,5.453125,6.703125,6.96875,6.96875,8.21875,4.375,4.5,4.5,5.75,5.875,7.125,7.125,7.25,8.5,0.0,1.25,1.25,2.5,2.5,3.75,3.75,5.0,5.0,0.5625,1.25,1.25,2.5,2.5,3.75,3.75,5.0,5.0,1.125,1.8125,1.8125,2.5,3.75,3.75,5.0,5.0,6.25,1.6875,1.6875,2.09375,2.921875,3.75,3.75,5.0,5.0,6.25,2.25,2.25,2.9375,3.625,4.3125,4.3125,5.0,6.25,6.25,2.8125,2.8125,3.359375,3.90625,3.90625,4.453125,5.703125,6.25,6.25,2.125,3.375,3.78125,3.78125,4.1875,5.4375,5.84375,7.09375,7.09375,2.6875,3.9375,4.203125,4.203125,5.453125,5.71875,6.96875,7.234375,7.234375,3.25,4.5,4.625,4.625,5.875,6.0,7.25,7.25,7.375,0.0,1.25,1.25,1.25,2.5,2.5,3.75,3.75,5.0,0.421875,1.25,1.25,2.5,2.5,3.75,3.75,5.0,5.0,0.84375,1.53125,1.53125,2.5,2.5,3.75,3.75,5.0,5.0,1.265625,2.09375,2.09375,2.921875,3.75,3.75,5.0,5.0,6.25,1.6875,1.6875,2.375,3.0625,3.75,3.75,5.0,5.0,6.25,2.109375,2.109375,2.65625,3.90625,4.453125,4.453125,5.0,6.25,6.25,2.53125,2.53125,2.9375,4.1875,4.59375,4.59375,5.84375,6.25,6.25,2.953125,2.953125,3.21875,4.46875,4.46875,4.734375,5.984375,5.984375,7.5,3.375,3.375,4.625,4.75,4.75,6.0,6.125,7.375,7.375,0.0,1.25,1.25,1.25,2.5,2.5,3.75,3.75,5.0,0.28125,1.25,1.25,2.5,2.5,3.75,3.75,3.75,5.0,0.5625,1.53125,1.53125,2.5,2.5,3.75,3.75,5.0,5.0,0.84375,1.671875,1.671875,2.5,3.75,3.75,3.75,5.0,5.0,1.125,1.8125,1.8125,3.0625,3.75,3.75,5.0,5.0,6.25,1.40625,2.65625,2.65625,3.203125,3.75,3.75,5.0,5.0,6.25,1.6875,2.9375,2.9375,3.34375,4.59375,5.0,5.0,6.25,6.25,1.96875,3.21875,3.21875,3.484375,4.734375,4.734375,5.0,6.25,6.25,2.25,3.5,3.5,3.5,4.875,4.875,6.125,6.25,7.5,0.0,1.25,1.25,1.25,2.5,2.5,3.75,3.75,3.75,0.28125,1.25,1.25,1.25,2.5,2.5,3.75,3.75,5.0,0.5625,1.25,1.25,2.5,2.5,3.75,3.75,3.75,5.0,0.84375,1.671875,1.671875,2.5,2.5,3.75,3.75,5.0,5.0,1.125,1.8125,1.8125,2.5,3.75,3.75,3.75,5.0,5.0,1.40625,1.953125,1.953125,2.5,3.75,3.75,5.0,5.0,5.0,1.6875,2.09375,2.09375,3.34375,3.75,3.75,5.0,5.0,6.25,1.96875,2.234375,3.484375,3.484375,3.75,5.0,5.0,5.0,6.25,2.25,2.375,3.625,3.625,3.75,5.0,5.0,6.25,6.25,0.0,1.25,1.25,1.25,2.5,2.5,2.5,3.75,3.75,0.140625,1.25,1.25,1.25,2.5,2.5,2.5,3.75,3.75,0.28125,1.25,1.25,2.5,2.5,2.5,3.75,3.75,3.75,0.421875,1.25,1.25,2.5,2.5,2.5,3.75,3.75,5.0,0.5625,1.25,2.5,2.5,2.5,3.75,3.75,3.75,5.0,0.703125,1.25,2.5,2.5,2.5,3.75,3.75,5.0,5.0,0.84375,2.09375,2.5,2.5,3.75,3.75,3.75,5.0,5.0,0.984375,2.234375,2.5,2.5,3.75,3.75,5.0,5.0,5.0,1.125,2.375,2.5,3.75,3.75,3.75,5.0,5.0,5.0,0.0,1.25,1.25,1.25,1.25,2.5,2.5,2.5,2.5,0.140625,1.25,1.25,1.25,1.25,2.5,2.5,2.5,3.75,0.28125,1.25,1.25,1.25,2.5,2.5,2.5,2.5,3.75,0.421875,1.25,1.25,1.25,2.5,2.5,2.5,3.75,3.75,0.5625,1.25,1.25,2.5,2.5,2.5,2.5,3.75,3.75,0.703125,1.25,1.25,2.5,2.5,2.5,3.75,3.75,3.75,0.84375,1.25,2.5,2.5,2.5,2.5,3.75,3.75,3.75,0.984375,1.25,2.5,2.5,2.5,3.75,3.75,3.75,3.75,1.125,1.25,2.5,2.5,2.5,3.75,3.75,3.75,5.0,0.0,1.25,2.5,3.75,5.0,6.25,7.5,8.75,10.0,0.0,1.25,2.5,3.75,5.0,6.25,7.5,8.75,10.0,0.0,1.25,2.5,3.75,5.0,6.25,7.5,8.75,10.0,0.0,1.25,2.5,3.75,5.0,6.25,7.5,8.75,10.0,0.0,1.25,2.5,3.75,5.0,6.25,7.5,8.75,10.0,0.0,1.25,2.5,3.75,5.0,6.25,7.5,8.75,10.0,0.0,1.25,2.5,3.75,5.0,6.25,7.5,8.75,10.0,0.0,1.25,2.5,3.75,5.0,6.25,7.5,8.75,10.0,0.0,1.25,2.5,3.75,5.0,6.25,7.5,8.75,10.0],\"showlegend\":true,\"name\":\"y1\",\"type\":\"scatter\",\"xaxis\":\"x\",\"line\":{\"width\":1,\"dash\":\"solid\",\"color\":\"rgba(0, 154, 250, 1.000)\",\"shape\":\"linear\"},\"colorbar\":{\"title\":\"\"},\"x\":[1,2,3,4,5,6,7,8,9,10,11,12,13,14,15,16,17,18,19,20,21,22,23,24,25,26,27,28,29,30,31,32,33,34,35,36,37,38,39,40,41,42,43,44,45,46,47,48,49,50,51,52,53,54,55,56,57,58,59,60,61,62,63,64,65,66,67,68,69,70,71,72,73,74,75,76,77,78,79,80,81,82,83,84,85,86,87,88,89,90,91,92,93,94,95,96,97,98,99,100,101,102,103,104,105,106,107,108,109,110,111,112,113,114,115,116,117,118,119,120,121,122,123,124,125,126,127,128,129,130,131,132,133,134,135,136,137,138,139,140,141,142,143,144,145,146,147,148,149,150,151,152,153,154,155,156,157,158,159,160,161,162,163,164,165,166,167,168,169,170,171,172,173,174,175,176,177,178,179,180,181,182,183,184,185,186,187,188,189,190,191,192,193,194,195,196,197,198,199,200,201,202,203,204,205,206,207,208,209,210,211,212,213,214,215,216,217,218,219,220,221,222,223,224,225,226,227,228,229,230,231,232,233,234,235,236,237,238,239,240,241,242,243,244,245,246,247,248,249,250,251,252,253,254,255,256,257,258,259,260,261,262,263,264,265,266,267,268,269,270,271,272,273,274,275,276,277,278,279,280,281,282,283,284,285,286,287,288,289,290,291,292,293,294,295,296,297,298,299,300,301,302,303,304,305,306,307,308,309,310,311,312,313,314,315,316,317,318,319,320,321,322,323,324,325,326,327,328,329,330,331,332,333,334,335,336,337,338,339,340,341,342,343,344,345,346,347,348,349,350,351,352,353,354,355,356,357,358,359,360,361,362,363,364,365,366,367,368,369,370,371,372,373,374,375,376,377,378,379,380,381,382,383,384,385,386,387,388,389,390,391,392,393,394,395,396,397,398,399,400,401,402,403,404,405,406,407,408,409,410,411,412,413,414,415,416,417,418,419,420,421,422,423,424,425,426,427,428,429,430,431,432,433,434,435,436,437,438,439,440,441,442,443,444,445,446,447,448,449,450,451,452,453,454,455,456,457,458,459,460,461,462,463,464,465,466,467,468,469,470,471,472,473,474,475,476,477,478,479,480,481,482,483,484,485,486,487,488,489,490,491,492,493,494,495,496,497,498,499,500,501,502,503,504,505,506,507,508,509,510,511,512,513,514,515,516,517,518,519,520,521,522,523,524,525,526,527,528,529,530,531,532,533,534,535,536,537,538,539,540,541,542,543,544,545,546,547,548,549,550,551,552,553,554,555,556,557,558,559,560,561,562,563,564,565,566,567,568,569,570,571,572,573,574,575,576,577,578,579,580,581,582,583,584,585,586,587,588,589,590,591,592,593,594,595,596,597,598,599,600,601,602,603,604,605,606,607,608,609,610,611,612,613,614,615,616,617,618,619,620,621,622,623,624,625,626,627,628,629,630,631,632,633,634,635,636,637,638,639,640,641,642,643,644,645,646,647,648,649,650,651,652,653,654,655,656,657,658,659,660,661,662,663,664,665,666,667,668,669,670,671,672,673,674,675,676,677,678,679,680,681,682,683,684,685,686,687,688,689,690,691,692,693,694,695,696,697,698,699,700,701,702,703,704,705,706,707,708,709,710,711,712,713,714,715,716,717,718,719,720,721,722,723,724,725,726,727,728,729],\"mode\":\"lines\"}], {\"yaxis\":{\"type\":\"-\",\"titlefont\":{\"size\":15,\"color\":\"rgba(0, 0, 0, 1.000)\",\"family\":\"sans-serif\"},\"title\":\"\",\"tickfont\":{\"size\":11,\"color\":\"rgba(0, 0, 0, 1.000)\",\"family\":\"sans-serif\"},\"ticks\":\"inside\",\"tickmode\":\"array\",\"showgrid\":true,\"tickvals\":[0.0,2.0,4.0,6.0,8.0,10.0],\"domain\":[0.03762029746281716,0.9901574803149606],\"ticktext\":[\"0\",\"2\",\"4\",\"6\",\"8\",\"10\"],\"tickangle\":0,\"zeroline\":false,\"linecolor\":\"rgba(0, 0, 0, 1.000)\",\"tickcolor\":\"rgba(0, 0, 0, 1.000)\",\"anchor\":\"x\"},\"annotations\":[],\"width\":600,\"plot_bgcolor\":\"rgba(255, 255, 255, 1.000)\",\"showlegend\":true,\"legend\":{\"bgcolor\":\"rgba(255, 255, 255, 1.000)\",\"y\":1.0,\"font\":{\"size\":11,\"color\":\"rgba(0, 0, 0, 1.000)\",\"family\":\"sans-serif\"},\"bordercolor\":\"rgba(0, 0, 0, 1.000)\",\"x\":1.0},\"xaxis\":{\"type\":\"-\",\"titlefont\":{\"size\":15,\"color\":\"rgba(0, 0, 0, 1.000)\",\"family\":\"sans-serif\"},\"title\":\"\",\"tickfont\":{\"size\":11,\"color\":\"rgba(0, 0, 0, 1.000)\",\"family\":\"sans-serif\"},\"ticks\":\"inside\",\"tickmode\":\"array\",\"showgrid\":true,\"tickvals\":[100.0,200.0,300.0,400.0,500.0,600.0,700.0],\"domain\":[0.03619130941965587,0.9934383202099738],\"ticktext\":[\"100\",\"200\",\"300\",\"400\",\"500\",\"600\",\"700\"],\"tickangle\":0,\"zeroline\":false,\"linecolor\":\"rgba(0, 0, 0, 1.000)\",\"tickcolor\":\"rgba(0, 0, 0, 1.000)\",\"anchor\":\"y\"},\"paper_bgcolor\":\"rgba(255, 255, 255, 1.000)\",\"height\":400,\"margin\":{\"r\":0,\"l\":0,\"b\":20,\"t\":20}});\n",
       "    </script>\n"
      ]
     },
     "execution_count": 581,
     "metadata": {},
     "output_type": "execute_result"
    }
   ],
   "source": [
    "plot(reshape(c_pol_middle, 729, 1))\n",
    "#plot(hcat(reshape(w_mat[1,:], 729,1), reshape(l_pol_middle, 729, 1)))"
   ]
  },
  {
   "cell_type": "code",
   "execution_count": 582,
   "metadata": {},
   "outputs": [
    {
     "name": "stderr",
     "output_type": "stream",
     "text": [
      "WARNING: Method definition get_float_index(Real, Base.LinSpace) in module Main at In[550]:6 overwritten at In[582]:6.\n",
      "WARNING: Method definition get_float_index(Real, Base.LinSpace, Int64) in module Main at In[550]:6 overwritten at In[582]:6.\n",
      "\u001b[1m\u001b[31mWARNING: replacing docs for 'get_float_index :: Union{Tuple{Real,LinSpace,Int64},Tuple{Real,LinSpace}}' in module 'Main'.\u001b[0m\n"
     ]
    },
    {
     "data": {
      "text/plain": [
       "get_float_index"
      ]
     },
     "execution_count": 582,
     "metadata": {},
     "output_type": "execute_result"
    }
   ],
   "source": [
    "# need to be removed after get_value_for_middle_with_uncertainty is modified.\n",
    "\n",
    "\"get index for a value between grid point\"\n",
    "function get_float_index(x::Real, grid::LinSpace, num_grid::Int = num_grid)\n",
    "# get floating index from asset grid for given scalar asset level\n",
    "    if x < grid[1]\n",
    "        return 1\n",
    "    end\n",
    "    if x> grid[num_grid]       \n",
    "        return num_grid\n",
    "    end\n",
    "    for i = 1:num_grid\n",
    "        if x >= grid[i]\n",
    "            return i + (x - grid[i])/(grid[i+1] - grid[i])\n",
    "        end\n",
    "    end\n",
    "end"
   ]
  },
  {
   "cell_type": "code",
   "execution_count": 583,
   "metadata": {},
   "outputs": [
    {
     "data": {
      "text/plain": [
       "9×81 Array{Float64,2}:\n",
       " -10000.0      1.91961  2.58975  3.08553  …  -10000.0  -10000.0  -10000.0\n",
       "      1.52944  2.56141  3.07029  3.49048     -10000.0  -10000.0  -10000.0\n",
       "      2.90594  3.18112  3.52628  3.85687     -10000.0  -10000.0  -10000.0\n",
       "      3.43987  3.70338  3.93615  4.19851     -10000.0  -10000.0  -10000.0\n",
       "      3.92041  4.10833  4.31542  4.52209     -10000.0  -10000.0  -10000.0\n",
       "      4.31542  4.50334  4.67092  4.84203  …  -10000.0  -10000.0  -10000.0\n",
       "      4.67092  4.82866  4.99624  5.1486      -10000.0  -10000.0  -10000.0\n",
       "      4.99624  5.1486   5.28903  5.4303      -10000.0  -10000.0  -10000.0\n",
       "      5.28903  5.4303   5.57073  5.70151     -10000.0  -10000.0  -10000.0"
      ]
     },
     "execution_count": 583,
     "metadata": {},
     "output_type": "execute_result"
    }
   ],
   "source": [
    "max_values_matrix = generate_max_values_matrix(value_for_middle)[1]"
   ]
  },
  {
   "cell_type": "code",
   "execution_count": 584,
   "metadata": {},
   "outputs": [
    {
     "name": "stderr",
     "output_type": "stream",
     "text": [
      "WARNING: Method definition get_value_for_middle_with_uncertainty(Real) in module Main at In[552]:6 overwritten at In[584]:6.\n",
      "WARNING: Method definition get_value_for_middle_with_uncertainty(Real, Base.LinSpace) in module Main at In[552]:6 overwritten at In[584]:6.\n",
      "WARNING: Method definition get_value_for_middle_with_uncertainty(Real, Base.LinSpace, Any) in module Main at In[552]:6 overwritten at In[584]:6.\n"
     ]
    },
    {
     "data": {
      "text/plain": [
       "get_value_for_middle_with_uncertainty (generic function with 3 methods)"
      ]
     },
     "execution_count": 584,
     "metadata": {},
     "output_type": "execute_result"
    }
   ],
   "source": [
    "############ need refactoring. interpolate accept \"gridded\" interpolation that replace get_float_index function!!!!!!!!!!!!!!!!!\n",
    "\n",
    "# interpolation for a (new asset for young, asset in the last period for middle)\n",
    "# get a = a_new and return value for middle with uncertainty\n",
    "function get_value_for_middle_with_uncertainty(a_new::Real, asset_grid::LinSpace = asset_grid, max_values_matrix = max_values_matrix)\n",
    "    v = zeros(num_grid^2, 1)\n",
    "    a_new_ind = get_float_index(a_new, asset_grid) # get index of asset level in asset grid\n",
    "    for i = 1:size(max_values_matrix, 2)\n",
    "        itp = interpolate(max_values_matrix[:,i],BSpline(Linear()), OnGrid())\n",
    "        v[i] = itp[a_new_ind]\n",
    "    end\n",
    "    return v\n",
    "end"
   ]
  },
  {
   "cell_type": "code",
   "execution_count": 585,
   "metadata": {
    "collapsed": true
   },
   "outputs": [],
   "source": [
    "#plotly()\n",
    "#plot(value_for_middle_mat[:, 30])\n",
    "#plot(reshape(max_values, num_grid^3, 1))\n",
    "#plot(max_values_reshaped)\n"
   ]
  },
  {
   "cell_type": "markdown",
   "metadata": {},
   "source": [
    "## Distribution \n",
    "* assign probability distributions for wage and care need to each bin arbitrary\n",
    "* wage follows lognormal, care need follow gamma distribution"
   ]
  },
  {
   "cell_type": "code",
   "execution_count": 586,
   "metadata": {},
   "outputs": [
    {
     "name": "stderr",
     "output_type": "stream",
     "text": [
      "WARNING: Method definition get_Q(Any, Base.LinSpace) in module Main at In[554]:7 overwritten at In[586]:7.\n",
      "WARNING: Method definition get_Q(Any, Base.LinSpace, Int64) in module Main at In[554]:7 overwritten at In[586]:7.\n"
     ]
    },
    {
     "data": {
      "text/plain": [
       "get_Q (generic function with 2 methods)"
      ]
     },
     "execution_count": 586,
     "metadata": {},
     "output_type": "execute_result"
    }
   ],
   "source": [
    "# generate probability distribution for w and h_H\n",
    "# wage is distributed according to Gauss\n",
    "\n",
    "\n",
    "# calcurate probability at midpoint between each grid \n",
    "function get_Q(dist, grid::LinSpace, num_grid::Int=num_grid)\n",
    "    Q = zeros(num_grid, 1)\n",
    "    for i in 1:num_grid\n",
    "        if i == 1\n",
    "            Q[i] = cdf(dist, (grid[i] + grid[i + 1])/2)\n",
    "        end\n",
    "        if i == num_grid\n",
    "            Q[i] = 1 - cdf(dist, (grid[i - 1] + grid[i])/2) \n",
    "        end\n",
    "        if i > 1 && i < num_grid\n",
    "            Q[i] = cdf(dist, (grid[i] + grid[i + 1])/2) - cdf(dist, (grid[i - 1] + grid[i])/2)\n",
    "        end\n",
    "    end\n",
    "    return Q\n",
    "end\n",
    "\n"
   ]
  },
  {
   "cell_type": "code",
   "execution_count": 587,
   "metadata": {
    "collapsed": true
   },
   "outputs": [],
   "source": [
    "w_dist = LogNormal(0.5, 0.5)\n",
    "h_H_dist = Gamma(0.6, 0.1) # Gamma(0.5, 0.1)\n",
    "\n",
    "# generate Q\n",
    "Q_h_H = get_Q(h_H_dist, h_H_grid);\n",
    "Q_w = get_Q(w_dist, wage_grid);\n",
    "Q = kron(Q_w, Q_h_H);"
   ]
  },
  {
   "cell_type": "code",
   "execution_count": 588,
   "metadata": {},
   "outputs": [
    {
     "name": "stderr",
     "output_type": "stream",
     "text": [
      "WARNING: Method definition value_for_young(Real, Real, Real) in module Main at In[556]:3 overwritten at In[588]:3.\n",
      "WARNING: Method definition value_for_young(Real, Real, Real, Array{Float64, 2}) in module Main at In[556]:3 overwritten at In[588]:3.\n",
      "WARNING: Method definition value_for_young(Real, Real, Real, Array{Float64, 2}, Array{Real, 2}) in module Main at In[556]:3 overwritten at In[588]:3.\n",
      "WARNING: Method definition value_for_young(Real, Real, Real, Array{Float64, 2}, Array{Real, 2}, Real) in module Main at In[556]:3 overwritten at In[588]:3.\n",
      "WARNING: Method definition value_for_young(Real, Real, Real, Array{Float64, 2}, Array{Real, 2}, Real, Real) in module Main at In[556]:3 overwritten at In[588]:3.\n",
      "WARNING: Method definition value_for_young(Real, Real, Real, Array{Float64, 2}, Array{Real, 2}, Real, Real, Base.LinSpace) in module Main at In[556]:3 overwritten at In[588]:3.\n",
      "WARNING: Method definition value_for_young(Real, Real, Real, Array{Float64, 2}, Array{Real, 2}, Real, Real, Base.LinSpace, Real) in module Main at In[556]:3 overwritten at In[588]:3.\n",
      "WARNING: Method definition value_for_young(Real, Real, Real, Array{Float64, 2}, Array{Real, 2}, Real, Real, Base.LinSpace, Real, Real) in module Main at In[556]:3 overwritten at In[588]:3.\n"
     ]
    },
    {
     "data": {
      "text/plain": [
       "value_for_young (generic function with 13 methods)"
      ]
     },
     "execution_count": 588,
     "metadata": {},
     "output_type": "execute_result"
    }
   ],
   "source": [
    "# calculating value for young\n",
    "function value_for_young(a_new::Real, l::Real, w::Real, Q::Array{Float64, 2}=Q, max_values_matrix::Array{Real, 2}=max_values_matrix, a::Real = 0, h_H::Real = 0, asset_grid::LinSpace = asset_grid, tau::Real = tau, beta::Real = beta)\n",
    "    y = w*(1 - tau)*(1 - h_H - l)\n",
    "    #c = -100\n",
    "    c = (1 + r)*a + y - a_new\n",
    "    if l < 0 || c < 0 || h_H + l > 1 || h_H + l < 0\n",
    "        v = -10000\n",
    "    else\n",
    "        v = util(c, l) + beta*dot(Q, get_value_for_middle_with_uncertainty(a_new, asset_grid, max_values_matrix))\n",
    "    end\n",
    "return v, a_new, l, a, w, h_H, y, c\n",
    "end"
   ]
  },
  {
   "cell_type": "code",
   "execution_count": 589,
   "metadata": {},
   "outputs": [
    {
     "name": "stderr",
     "output_type": "stream",
     "text": [
      "WARNING: Method definition value_for_young(Real, Real, Real, Real, Real, Any) in module Main at In[557]:3 overwritten at In[589]:3.\n",
      "WARNING: Method definition value_for_young(Real, Real, Real, Real, Real, Any, Any) in module Main at In[557]:3 overwritten at In[589]:3.\n",
      "WARNING: Method definition value_for_young(Real, Real, Real, Real, Real, Any, Any, Base.LinSpace) in module Main at In[557]:3 overwritten at In[589]:3.\n",
      "WARNING: Method definition value_for_young(Real, Real, Real, Real, Real, Any, Any, Base.LinSpace, Real) in module Main at In[557]:3 overwritten at In[589]:3.\n",
      "WARNING: Method definition value_for_young(Real, Real, Real, Real, Real, Any, Any, Base.LinSpace, Real, Real) in module Main at In[557]:3 overwritten at In[589]:3.\n"
     ]
    },
    {
     "data": {
      "text/plain": [
       "value_for_young (generic function with 13 methods)"
      ]
     },
     "execution_count": 589,
     "metadata": {},
     "output_type": "execute_result"
    }
   ],
   "source": [
    "# calculating value for young\n",
    "function value_for_young(a_new::Real, l::Real,  a::Real, w::Real, h_H::Real, v_new, Q = Q, asset_grid::LinSpace = asset_grid, tau::Real = tau, beta::Real = beta)\n",
    "    y = w*(1 - tau)*(1 - h_H - l)\n",
    "    #c = -100\n",
    "    c = (1 + r)*a + y - a_new\n",
    "    if l < 0 || c < 0 || h_H + l > 1 || h_H + l < 0\n",
    "        v = -100\n",
    "    else\n",
    "        v = util(c, l) + beta*dot(v_new, Q)\n",
    "    end\n",
    "return  v, a_new, l, a, w, h_H, y, c\n",
    "end"
   ]
  },
  {
   "cell_type": "code",
   "execution_count": 590,
   "metadata": {
    "collapsed": true
   },
   "outputs": [],
   "source": [
    "# caluculate value for young \n",
    "\n",
    "\n",
    "value_matrix = zeros(num_grid^2, num_grid^3);\n",
    "c_mat = zeros(num_grid^2, num_grid^3);\n",
    "l_mat = zeros(num_grid^2, num_grid^3);\n",
    "y_mat = zeros(num_grid^2, num_grid^3);\n",
    "a_new_mat = ones(num_grid^2, num_grid^3);\n",
    "w_mat = zeros(num_grid^2, num_grid^3);\n",
    "a_mat = zeros(num_grid^2, num_grid^3);\n",
    "h_H_mat = zeros(num_grid^2, num_grid^3);\n",
    "for i = 1:num_grid\n",
    "    for j = 1:num_grid\n",
    "        for k = 1:num_grid\n",
    "            for m = 1:num_grid\n",
    "                for n = 1:num_grid\n",
    "                    v_new = get_value_for_middle_with_uncertainty(asset_grid[i])# value for middle with uncertainty\n",
    "                    result = value_for_young(0, l_grid[j], 0, wage_grid[m], 0, v_new)\n",
    "                    value_matrix[i + (j - 1)num_grid, k + (m - 1)num_grid + (n - 1)num_grid^2] = result[1]\n",
    "                    a_new_mat[i + (j - 1)num_grid, k + (m - 1)num_grid + (n - 1)num_grid^2] = result[2]\n",
    "                    l_mat[i + (j - 1)num_grid, k + (m - 1)num_grid + (n - 1)num_grid^2] = result[3]\n",
    "                    a_mat[i + (j - 1)num_grid, k + (m - 1)num_grid + (n - 1)num_grid^2] = result[4]\n",
    "                    w_mat[i + (j - 1)num_grid, k + (m - 1)num_grid + (n - 1)num_grid^2] = result[5]\n",
    "                    h_H_mat[i + (j - 1)num_grid, k + (m - 1)num_grid + (n - 1)num_grid^2] = result[6]\n",
    "                    y_mat[i + (j - 1)num_grid, k + (m - 1)num_grid + (n - 1)num_grid^2] = result[7]\n",
    "                    c_mat[i + (j - 1)num_grid, k + (m - 1)num_grid + (n - 1)num_grid^2]  = result[8]\n",
    "                end\n",
    "            end\n",
    "        end\n",
    "    end\n",
    "end\n",
    "# get max value for each asset, wage, h_H. maximizing with respect to new asset and leisure\n",
    "max_value, max_ind = findmax(value_matrix, 1)\n",
    "# reshape value matrix to asset_grid x (w x h_H)\n",
    "# this should be fix throughout the imulation\n",
    "max_values_reshaped = reshape(max_value, num_grid, num_grid^2);"
   ]
  },
  {
   "cell_type": "code",
   "execution_count": 591,
   "metadata": {},
   "outputs": [
    {
     "data": {
      "text/plain": [
       "1×729 Array{Float64,2}:\n",
       " 0.0  0.0  0.0  0.0  0.0  0.0  0.0  0.0  …  5.625  5.625  5.625  5.625  5.625"
      ]
     },
     "execution_count": 591,
     "metadata": {},
     "output_type": "execute_result"
    }
   ],
   "source": [
    "# get policy function for a_new, h_M (Labor supply), c, \n",
    "# policy function for new asset\n",
    "a_new_pol_young = a_new_mat[max_ind]\n",
    "# policy function for labor supply\n",
    "l_pol_young = l_mat[max_ind]\n",
    "h_M_pol_young = 1 - l_pol_young - reshape(h_H_mat[1, :], 1, num_grid^3)\n",
    "c_pol_young = c_mat[max_ind]\n",
    "# policy function for new asset\n",
    "#a_new_pol = a_new_mat[max_ind]\n",
    "# policy function for new asset\n",
    "#a_new_pol = a_new_mat[max_ind]"
   ]
  },
  {
   "cell_type": "code",
   "execution_count": 592,
   "metadata": {},
   "outputs": [
    {
     "data": {
      "text/plain": [
       "1×729 Array{Float64,2}:\n",
       " 1.0  1.0  1.0  1.0  1.0  1.0  1.0  1.0  …  0.625  0.625  0.625  0.625  0.625"
      ]
     },
     "execution_count": 592,
     "metadata": {},
     "output_type": "execute_result"
    }
   ],
   "source": [
    "h_M_pol_young"
   ]
  },
  {
   "cell_type": "code",
   "execution_count": 593,
   "metadata": {},
   "outputs": [
    {
     "data": {
      "text/plain": [
       "9×81 Array{Float64,2}:\n",
       " 2.36778  3.26708  3.58103  3.81329  …  4.17022  4.31792  4.45221  4.57599\n",
       " 2.36778  3.26708  3.58103  3.81329     4.17022  4.31792  4.45221  4.57599\n",
       " 2.36778  3.26708  3.58103  3.81329     4.17022  4.31792  4.45221  4.57599\n",
       " 2.36778  3.26708  3.58103  3.81329     4.17022  4.31792  4.45221  4.57599\n",
       " 2.36778  3.26708  3.58103  3.81329     4.17022  4.31792  4.45221  4.57599\n",
       " 2.36778  3.26708  3.58103  3.81329  …  4.17022  4.31792  4.45221  4.57599\n",
       " 2.36778  3.26708  3.58103  3.81329     4.17022  4.31792  4.45221  4.57599\n",
       " 2.36778  3.26708  3.58103  3.81329     4.17022  4.31792  4.45221  4.57599\n",
       " 2.36778  3.26708  3.58103  3.81329     4.17022  4.31792  4.45221  4.57599"
      ]
     },
     "execution_count": 593,
     "metadata": {},
     "output_type": "execute_result"
    }
   ],
   "source": [
    "max_values_reshaped"
   ]
  },
  {
   "cell_type": "code",
   "execution_count": 594,
   "metadata": {},
   "outputs": [
    {
     "name": "stdout",
     "output_type": "stream",
     "text": [
      "search: \u001b[1mf\u001b[22m\u001b[1mi\u001b[22m\u001b[1mn\u001b[22m\u001b[1md\u001b[22m\u001b[1mm\u001b[22m\u001b[1ma\u001b[22m\u001b[1mx\u001b[22m \u001b[1mf\u001b[22m\u001b[1mi\u001b[22m\u001b[1mn\u001b[22m\u001b[1md\u001b[22m\u001b[1mm\u001b[22m\u001b[1ma\u001b[22m\u001b[1mx\u001b[22m! \u001b[1mf\u001b[22m\u001b[1mi\u001b[22m\u001b[1mn\u001b[22m\u001b[1md\u001b[22m\u001b[1mm\u001b[22min \u001b[1mf\u001b[22m\u001b[1mi\u001b[22m\u001b[1mn\u001b[22m\u001b[1md\u001b[22m\u001b[1mm\u001b[22min!\n",
      "\n"
     ]
    },
    {
     "data": {
      "text/markdown": [
       "```\n",
       "findmax(itr) -> (x, index)\n",
       "```\n",
       "\n",
       "Returns the maximum element and its index. The collection must not be empty.\n",
       "\n",
       "```jldoctest\n",
       "julia> findmax([8,0.1,-9,pi])\n",
       "(8.0,1)\n",
       "```\n",
       "\n",
       "```\n",
       "findmax(A, region) -> (maxval, index)\n",
       "```\n",
       "\n",
       "For an array input, returns the value and index of the maximum over the given region.\n"
      ],
      "text/plain": [
       "```\n",
       "findmax(itr) -> (x, index)\n",
       "```\n",
       "\n",
       "Returns the maximum element and its index. The collection must not be empty.\n",
       "\n",
       "```jldoctest\n",
       "julia> findmax([8,0.1,-9,pi])\n",
       "(8.0,1)\n",
       "```\n",
       "\n",
       "```\n",
       "findmax(A, region) -> (maxval, index)\n",
       "```\n",
       "\n",
       "For an array input, returns the value and index of the maximum over the given region.\n"
      ]
     },
     "execution_count": 594,
     "metadata": {},
     "output_type": "execute_result"
    }
   ],
   "source": [
    "?findmax\n"
   ]
  },
  {
   "cell_type": "code",
   "execution_count": 595,
   "metadata": {
    "collapsed": true
   },
   "outputs": [],
   "source": [
    "# simulation 100 thousand H/H\n",
    "# initializing matrices\n",
    "num_period = 3;\n",
    "num_hh = 100 # 100000\n",
    "c_record = zeros(num_hh, num_period);\n",
    "a_record = zeros(num_hh, num_period);\n",
    "w_record = zeros(num_hh, num_period);\n",
    "h_H_record = zeros(num_hh, num_period);\n",
    "h_M_record = zeros(num_hh, num_period);\n",
    "\n"
   ]
  },
  {
   "cell_type": "code",
   "execution_count": 596,
   "metadata": {
    "collapsed": true
   },
   "outputs": [],
   "source": [
    "# generate wage, care needs streams for each household\n",
    "\n",
    "w_record = rand(w_dist, num_hh, num_period);\n",
    "w_record[:,3] = 0;\n",
    "h_H_record = rand(h_H_dist, num_hh, num_period);\n",
    "h_H_record[:, 1] = 0;\n",
    "h_H_record[:, 3] = 0;\n"
   ]
  },
  {
   "cell_type": "code",
   "execution_count": 597,
   "metadata": {
    "collapsed": true
   },
   "outputs": [],
   "source": [
    "# return (c, a_new, h_M) for young hh\n",
    "# prepare for interpolation\n",
    "c_pol_young_reshape = reshape(c_pol_young, num_grid, num_grid, num_grid) # reshape for interpolate    \n",
    "a_new_pol_young_reshape = reshape(a_new_pol_young, num_grid, num_grid, num_grid) # reshape for interpolate    \n",
    "h_M_pol_young_reshape = reshape(h_M_pol_young, num_grid, num_grid, num_grid) # reshape for interpolate    \n",
    "c_itp = interpolate((asset_grid, wage_grid, h_H_grid), c_pol_young_reshape, Gridded(Linear()));\n",
    "a_itp = interpolate((asset_grid, wage_grid, h_H_grid), a_new_pol_young_reshape, Gridded(Linear()));\n",
    "h_M_itp = interpolate((asset_grid, wage_grid, h_H_grid), h_M_pol_young_reshape, Gridded(Linear()));\n",
    "\n",
    "for n = 1:num_hh\n",
    "    c_record[n,1] = c_itp[a_record[n,1], w_record[n,1], h_H_record[n,1]]\n",
    "    a_record[n,2] = a_itp[a_record[n,1], w_record[n,1], h_H_record[n,1]]\n",
    "    h_M_record[n,1] = h_M_itp[a_record[n,1], w_record[n,1], h_H_record[n,1]]\n",
    "end\n",
    "\n",
    "\n"
   ]
  },
  {
   "cell_type": "code",
   "execution_count": 598,
   "metadata": {
    "collapsed": true
   },
   "outputs": [],
   "source": [
    "# return (c, a_new, h_M) for middle\n",
    "\n",
    "c_pol_middle_reshape = reshape(c_pol_middle, num_grid, num_grid, num_grid);\n",
    "a_new_pol_middle_reshape = reshape(a_new_pol_middle, num_grid, num_grid, num_grid);\n",
    "h_M_pol_middle_reshape = reshape(h_M_pol_middle, num_grid, num_grid, num_grid);\n",
    "c_itp = interpolate((asset_grid, wage_grid, h_H_grid), c_pol_middle_reshape, Gridded(Linear()));\n",
    "a_itp = interpolate((asset_grid, wage_grid, h_H_grid), a_new_pol_middle_reshape, Gridded(Linear()));\n",
    "h_M_itp = interpolate((asset_grid, wage_grid, h_H_grid), h_M_pol_middle_reshape, Gridded(Linear()));\n",
    "\n",
    "\n",
    "for n = 1:num_hh\n",
    "    c_record[n,2] = c_itp[a_record[n,2], w_record[n,2], h_H_record[n,2]]\n",
    "    a_record[n,3] = a_itp[a_record[n,2], w_record[n,2], h_H_record[n,2]]\n",
    "    h_M_record[n,2] = h_M_itp[a_record[n,2], w_record[n,2], h_H_record[n,2]]\n",
    "end\n",
    "\n",
    "for n = 1:num_hh\n",
    "    c_record[n,3] = (1+r)*a_record[n, 3] + (w_record[n,1] + w_record[n, 2])*0.5*0.5 # replacement rate for pension is 0.5 \n",
    "end"
   ]
  },
  {
   "cell_type": "code",
   "execution_count": 599,
   "metadata": {},
   "outputs": [
    {
     "data": {
      "text/plain": [
       "100×3 Array{Float64,2}:\n",
       " 0.499123  0.515046  0.464705\n",
       " 1.28169   1.39083   1.20442 \n",
       " 1.05209   0.727192  0.801553\n",
       " 0.51703   1.04164   0.890268\n",
       " 0.896838  0.316362  0.543645\n",
       " 0.836235  0.174625  0.457504\n",
       " 0.907789  0.767412  0.790967\n",
       " 0.416701  0.457277  0.410202\n",
       " 0.995137  0.635133  0.739028\n",
       " 0.853836  0.473858  0.595721\n",
       " 0.538451  0.329343  0.392713\n",
       " 2.82027   1.5402    1.93891 \n",
       " 0.697363  0.408872  0.516512\n",
       " ⋮                           \n",
       " 1.59576   1.08795   1.20066 \n",
       " 0.630043  1.00318   0.823688\n",
       " 0.4952    0.839168  0.686293\n",
       " 1.12122   0.839809  0.878039\n",
       " 0.403212  0.678699  0.482236\n",
       " 0.643756  1.11395   0.782033\n",
       " 0.601528  0.791082  0.681258\n",
       " 0.372484  0.828227  0.54156 \n",
       " 0.369379  1.08745   0.6491  \n",
       " 0.881711  1.27309   0.979865\n",
       " 0.647552  1.12369   0.80417 \n",
       " 1.38034   0.830488  0.985884"
      ]
     },
     "execution_count": 599,
     "metadata": {},
     "output_type": "execute_result"
    }
   ],
   "source": [
    "c_record"
   ]
  },
  {
   "cell_type": "code",
   "execution_count": 600,
   "metadata": {},
   "outputs": [
    {
     "data": {
      "text/plain": [
       "100×3 Array{Float64,2}:\n",
       " 0.887329  0.97149   0.0\n",
       " 2.27856   2.53913   0.0\n",
       " 1.87038   1.33583   0.0\n",
       " 0.919164  2.64191   0.0\n",
       " 1.59438   0.580201  0.0\n",
       " 1.48664   0.343374  0.0\n",
       " 1.61385   1.55002   0.0\n",
       " 0.740802  0.900007  0.0\n",
       " 1.76913   1.18698   0.0\n",
       " 1.51793   0.864953  0.0\n",
       " 0.957246  0.613604  0.0\n",
       " 5.01381   2.74185   0.0\n",
       " 1.23976   0.826292  0.0\n",
       " ⋮                      \n",
       " 2.8369    1.96575   0.0\n",
       " 1.12008   2.17468   0.0\n",
       " 0.880356  1.86482   0.0\n",
       " 1.99327   1.51888   0.0\n",
       " 0.716822  1.21212   0.0\n",
       " 1.14445   1.98368   0.0\n",
       " 1.06938   1.65565   0.0\n",
       " 0.662195  1.50404   0.0\n",
       " 0.656674  1.93973   0.0\n",
       " 1.56749   2.35197   0.0\n",
       " 1.1512    2.06548   0.0\n",
       " 2.45394   1.48959   0.0"
      ]
     },
     "execution_count": 600,
     "metadata": {},
     "output_type": "execute_result"
    }
   ],
   "source": [
    "w_record"
   ]
  },
  {
   "cell_type": "code",
   "execution_count": 601,
   "metadata": {},
   "outputs": [
    {
     "data": {
      "text/plain": [
       "100×3 Array{Float64,2}:\n",
       " 0.733801  0.67262   0.0\n",
       " 0.625     0.608618  0.0\n",
       " 0.625     0.604862  0.0\n",
       " 0.724251  0.438084  0.0\n",
       " 0.625     0.806787  0.0\n",
       " 0.625     0.837051  0.0\n",
       " 0.625     0.550108  0.0\n",
       " 0.777759  0.669533  0.0\n",
       " 0.625     0.613444  0.0\n",
       " 0.625     0.724229  0.0\n",
       " 0.712826  0.787291  0.0\n",
       " 0.625     0.624153  0.0\n",
       " 0.628073  0.67692   0.0\n",
       " ⋮                      \n",
       " 0.625     0.614948  0.0\n",
       " 0.663977  0.512554  0.0\n",
       " 0.735893  0.5       0.0\n",
       " 0.625     0.614346  0.0\n",
       " 0.784953  0.633502  0.0\n",
       " 0.656664  0.623951  0.0\n",
       " 0.679185  0.530897  0.0\n",
       " 0.801342  0.611852  0.0\n",
       " 0.802998  0.622912  0.0\n",
       " 0.625     0.601429  0.0\n",
       " 0.654639  0.604483  0.0\n",
       " 0.625     0.619475  0.0"
      ]
     },
     "execution_count": 601,
     "metadata": {},
     "output_type": "execute_result"
    }
   ],
   "source": [
    "h_M_record"
   ]
  },
  {
   "cell_type": "code",
   "execution_count": 602,
   "metadata": {},
   "outputs": [
    {
     "data": {
      "text/plain": [
       "100×3 Array{Float64,2}:\n",
       " 0.0  0.0359329    0.0\n",
       " 0.0  0.0163821    0.0\n",
       " 0.0  0.0201382    0.0\n",
       " 0.0  0.311916     0.0\n",
       " 0.0  0.0191532    0.0\n",
       " 0.0  0.059937     0.0\n",
       " 0.0  0.0748919    0.0\n",
       " 0.0  0.0604648    0.0\n",
       " 0.0  0.0304625    0.0\n",
       " 0.0  0.0162855    0.0\n",
       " 0.0  0.0286274    0.0\n",
       " 0.0  0.000847457  0.0\n",
       " 0.0  0.0751923    0.0\n",
       " ⋮                    \n",
       " 0.0  0.0100525    0.0\n",
       " 0.0  0.112446     0.0\n",
       " 0.0  0.12608      0.0\n",
       " 0.0  0.0106536    0.0\n",
       " 0.0  0.00286077   0.0\n",
       " 0.0  0.00104934   0.0\n",
       " 0.0  0.0941026    0.0\n",
       " 0.0  0.0131484    0.0\n",
       " 0.0  0.00208843   0.0\n",
       " 0.0  0.0235708    0.0\n",
       " 0.0  0.0205169    0.0\n",
       " 0.0  0.0055248    0.0"
      ]
     },
     "execution_count": 602,
     "metadata": {},
     "output_type": "execute_result"
    }
   ],
   "source": [
    "h_H_record"
   ]
  },
  {
   "cell_type": "code",
   "execution_count": 603,
   "metadata": {},
   "outputs": [
    {
     "data": {
      "text/html": [
       "126.61354078012988"
      ],
      "text/plain": [
       "126.61354078012988"
      ]
     },
     "execution_count": 603,
     "metadata": {},
     "output_type": "execute_result"
    }
   ],
   "source": [
    "sum(h_M_record)"
   ]
  },
  {
   "cell_type": "code",
   "execution_count": 604,
   "metadata": {},
   "outputs": [
    {
     "data": {
      "text/html": [
       "304.99967444168936"
      ],
      "text/plain": [
       "304.99967444168936"
      ]
     },
     "execution_count": 604,
     "metadata": {},
     "output_type": "execute_result"
    }
   ],
   "source": [
    "sum(c_record)"
   ]
  },
  {
   "cell_type": "code",
   "execution_count": 3,
   "metadata": {},
   "outputs": [
    {
     "ename": "LoadError",
     "evalue": "UndefVarError: plotly not defined",
     "output_type": "error",
     "traceback": [
      "UndefVarError: plotly not defined",
      "",
      " in include_string(::String, ::String) at ./loading.jl:441"
     ]
    }
   ],
   "source": []
  },
  {
   "cell_type": "code",
   "execution_count": null,
   "metadata": {
    "collapsed": true
   },
   "outputs": [],
   "source": []
  }
 ],
 "metadata": {
  "celltoolbar": "Slideshow",
  "kernelspec": {
   "display_name": "Julia 0.5.2",
   "language": "julia",
   "name": "julia-0.5"
  },
  "language_info": {
   "file_extension": ".jl",
   "mimetype": "application/julia",
   "name": "julia",
   "version": "0.5.2"
  }
 },
 "nbformat": 4,
 "nbformat_minor": 2
}
